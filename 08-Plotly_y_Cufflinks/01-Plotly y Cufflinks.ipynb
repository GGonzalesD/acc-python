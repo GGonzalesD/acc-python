{
  "nbformat": 4,
  "nbformat_minor": 0,
  "metadata": {
    "kernelspec": {
      "display_name": "Python 3",
      "language": "python",
      "name": "python3"
    },
    "language_info": {
      "codemirror_mode": {
        "name": "ipython",
        "version": 3
      },
      "file_extension": ".py",
      "mimetype": "text/x-python",
      "name": "python",
      "nbconvert_exporter": "python",
      "pygments_lexer": "ipython3",
      "version": "3.8.5"
    },
    "colab": {
      "name": "01-Plotly y Cufflinks.ipynb",
      "provenance": []
    }
  },
  "cells": [
    {
      "cell_type": "markdown",
      "metadata": {
        "id": "5NOQSjd8JLzL"
      },
      "source": [
        "___\n",
        "\n",
        "<a href='https://plotly.com/python/'> <img src='https://plotly.com/all_static/images/plotly_graphing_libraries_1.png' /></a>\n",
        "___\n",
        "# Plotly y Cufflinks"
      ]
    },
    {
      "cell_type": "markdown",
      "metadata": {
        "id": "T3-WwHZBJLzQ"
      },
      "source": [
        "**Plotly** es una libreria que permite crear gráficos interactivos para poder usarse en cuadros de mando o sitios web (se pueden guardar como archivos html o imágenes estáticas).\n",
        "\n",
        "**Cufflinks** es una libreria que conecta un dataframe de Pandas con Plotly, lo que permite a los usuarios crear visualizaciones directamente desde Pandas. Esta libreria une el poder de Plotly con la flexibilidad de Pandas para facilitar la visualización de los datos.\n",
        "\n",
        "## Instalación\n",
        "\n",
        "Para que todo esto funcione, se deberá instalar plotly y cufflinks para llamar a los gráficos directamente desde un dataframe de Pandas. Estas librerias no están disponibles actualmente a través de Conda, pero están disponibles a través de pip . Instalar las librerias en su línea de comando/terminal usando:\n",
        "\n",
        "    pip install plotly\n",
        "    pip install cufflinks\n",
        "\n",
        "## Importaciones y configuración "
      ]
    },
    {
      "cell_type": "code",
      "metadata": {
        "id": "gW-bI8bzJLzR"
      },
      "source": [
        "import pandas as pd\n",
        "import numpy as np\n",
        "%matplotlib inline"
      ],
      "execution_count": 18,
      "outputs": []
    },
    {
      "cell_type": "code",
      "metadata": {
        "id": "inE8xtHEJLzS",
        "outputId": "9fd3c88d-abb8-440c-a288-7faf2cb5f40b",
        "colab": {
          "base_uri": "https://localhost:8080/"
        }
      },
      "source": [
        "from plotly import __version__\n",
        "from plotly.offline import download_plotlyjs, init_notebook_mode, plot, iplot\n",
        "\n",
        "print(__version__) # requires version >= 1.9.0"
      ],
      "execution_count": 55,
      "outputs": [
        {
          "output_type": "stream",
          "name": "stdout",
          "text": [
            "4.4.1\n"
          ]
        }
      ]
    },
    {
      "cell_type": "code",
      "metadata": {
        "id": "H9sZqL1OJLzT"
      },
      "source": [
        "import cufflinks as cf"
      ],
      "execution_count": 56,
      "outputs": []
    },
    {
      "cell_type": "code",
      "metadata": {
        "id": "ZA3eOjQIJLzU",
        "outputId": "1d1e70dd-b9fa-4aea-e057-5c92ad5c55f3",
        "colab": {
          "base_uri": "https://localhost:8080/",
          "height": 17
        }
      },
      "source": [
        "# Para Notebooks\n",
        "init_notebook_mode(connected=True)"
      ],
      "execution_count": 57,
      "outputs": [
        {
          "output_type": "display_data",
          "data": {
            "text/html": [
              "        <script type=\"text/javascript\">\n",
              "        window.PlotlyConfig = {MathJaxConfig: 'local'};\n",
              "        if (window.MathJax) {MathJax.Hub.Config({SVG: {font: \"STIX-Web\"}});}\n",
              "        if (typeof require !== 'undefined') {\n",
              "        require.undef(\"plotly\");\n",
              "        requirejs.config({\n",
              "            paths: {\n",
              "                'plotly': ['https://cdn.plot.ly/plotly-latest.min']\n",
              "            }\n",
              "        });\n",
              "        require(['plotly'], function(Plotly) {\n",
              "            window._Plotly = Plotly;\n",
              "        });\n",
              "        }\n",
              "        </script>\n",
              "        "
            ]
          },
          "metadata": {}
        }
      ]
    },
    {
      "cell_type": "code",
      "metadata": {
        "id": "JJrRjMK3JLzU",
        "outputId": "f37dd45e-cb76-41f1-f8f3-d95910ffde4c",
        "colab": {
          "base_uri": "https://localhost:8080/",
          "height": 17
        }
      },
      "source": [
        "# Para uso offline colocar\n",
        "cf.go_offline()"
      ],
      "execution_count": 69,
      "outputs": [
        {
          "output_type": "display_data",
          "data": {
            "text/html": [
              "        <script type=\"text/javascript\">\n",
              "        window.PlotlyConfig = {MathJaxConfig: 'local'};\n",
              "        if (window.MathJax) {MathJax.Hub.Config({SVG: {font: \"STIX-Web\"}});}\n",
              "        if (typeof require !== 'undefined') {\n",
              "        require.undef(\"plotly\");\n",
              "        requirejs.config({\n",
              "            paths: {\n",
              "                'plotly': ['https://cdn.plot.ly/plotly-latest.min']\n",
              "            }\n",
              "        });\n",
              "        require(['plotly'], function(Plotly) {\n",
              "            window._Plotly = Plotly;\n",
              "        });\n",
              "        }\n",
              "        </script>\n",
              "        "
            ]
          },
          "metadata": {}
        }
      ]
    },
    {
      "cell_type": "markdown",
      "metadata": {
        "id": "iyz5uX5mJLzV"
      },
      "source": [
        "### Datos de prueba"
      ]
    },
    {
      "cell_type": "code",
      "metadata": {
        "id": "Glnk_-F8JLzW"
      },
      "source": [
        "df = pd.DataFrame(np.random.randn(100,4),columns='A B C D'.split())"
      ],
      "execution_count": 58,
      "outputs": []
    },
    {
      "cell_type": "code",
      "metadata": {
        "id": "Zjki9zq9JLzW",
        "outputId": "230dd458-534e-4fc7-98e9-90673232a28e",
        "colab": {
          "base_uri": "https://localhost:8080/",
          "height": 204
        }
      },
      "source": [
        "df.head()"
      ],
      "execution_count": 45,
      "outputs": [
        {
          "output_type": "execute_result",
          "data": {
            "text/html": [
              "<div>\n",
              "<style scoped>\n",
              "    .dataframe tbody tr th:only-of-type {\n",
              "        vertical-align: middle;\n",
              "    }\n",
              "\n",
              "    .dataframe tbody tr th {\n",
              "        vertical-align: top;\n",
              "    }\n",
              "\n",
              "    .dataframe thead th {\n",
              "        text-align: right;\n",
              "    }\n",
              "</style>\n",
              "<table border=\"1\" class=\"dataframe\">\n",
              "  <thead>\n",
              "    <tr style=\"text-align: right;\">\n",
              "      <th></th>\n",
              "      <th>A</th>\n",
              "      <th>B</th>\n",
              "      <th>C</th>\n",
              "      <th>D</th>\n",
              "    </tr>\n",
              "  </thead>\n",
              "  <tbody>\n",
              "    <tr>\n",
              "      <th>0</th>\n",
              "      <td>0.387768</td>\n",
              "      <td>0.319390</td>\n",
              "      <td>0.523077</td>\n",
              "      <td>0.475251</td>\n",
              "    </tr>\n",
              "    <tr>\n",
              "      <th>1</th>\n",
              "      <td>0.038492</td>\n",
              "      <td>-0.300750</td>\n",
              "      <td>0.082574</td>\n",
              "      <td>0.592336</td>\n",
              "    </tr>\n",
              "    <tr>\n",
              "      <th>2</th>\n",
              "      <td>1.243314</td>\n",
              "      <td>-0.831201</td>\n",
              "      <td>0.458811</td>\n",
              "      <td>1.806559</td>\n",
              "    </tr>\n",
              "    <tr>\n",
              "      <th>3</th>\n",
              "      <td>0.584297</td>\n",
              "      <td>-2.405466</td>\n",
              "      <td>0.781145</td>\n",
              "      <td>1.034719</td>\n",
              "    </tr>\n",
              "    <tr>\n",
              "      <th>4</th>\n",
              "      <td>-1.120896</td>\n",
              "      <td>1.952185</td>\n",
              "      <td>0.918405</td>\n",
              "      <td>-0.345830</td>\n",
              "    </tr>\n",
              "  </tbody>\n",
              "</table>\n",
              "</div>"
            ],
            "text/plain": [
              "          A         B         C         D\n",
              "0  0.387768  0.319390  0.523077  0.475251\n",
              "1  0.038492 -0.300750  0.082574  0.592336\n",
              "2  1.243314 -0.831201  0.458811  1.806559\n",
              "3  0.584297 -2.405466  0.781145  1.034719\n",
              "4 -1.120896  1.952185  0.918405 -0.345830"
            ]
          },
          "metadata": {},
          "execution_count": 45
        }
      ]
    },
    {
      "cell_type": "code",
      "metadata": {
        "id": "fDjoutdTJLzX"
      },
      "source": [
        "df2 = pd.DataFrame({'Category':['A','B','C'],'Values':[32,43,50]})"
      ],
      "execution_count": 59,
      "outputs": []
    },
    {
      "cell_type": "code",
      "metadata": {
        "id": "K4sv9P3RJLzY",
        "outputId": "5b16af10-9ecd-46be-864f-eb64a26cbca5",
        "colab": {
          "base_uri": "https://localhost:8080/",
          "height": 142
        }
      },
      "source": [
        "df2.head()"
      ],
      "execution_count": 39,
      "outputs": [
        {
          "output_type": "execute_result",
          "data": {
            "text/html": [
              "<div>\n",
              "<style scoped>\n",
              "    .dataframe tbody tr th:only-of-type {\n",
              "        vertical-align: middle;\n",
              "    }\n",
              "\n",
              "    .dataframe tbody tr th {\n",
              "        vertical-align: top;\n",
              "    }\n",
              "\n",
              "    .dataframe thead th {\n",
              "        text-align: right;\n",
              "    }\n",
              "</style>\n",
              "<table border=\"1\" class=\"dataframe\">\n",
              "  <thead>\n",
              "    <tr style=\"text-align: right;\">\n",
              "      <th></th>\n",
              "      <th>Category</th>\n",
              "      <th>Values</th>\n",
              "    </tr>\n",
              "  </thead>\n",
              "  <tbody>\n",
              "    <tr>\n",
              "      <th>0</th>\n",
              "      <td>A</td>\n",
              "      <td>32</td>\n",
              "    </tr>\n",
              "    <tr>\n",
              "      <th>1</th>\n",
              "      <td>B</td>\n",
              "      <td>43</td>\n",
              "    </tr>\n",
              "    <tr>\n",
              "      <th>2</th>\n",
              "      <td>C</td>\n",
              "      <td>50</td>\n",
              "    </tr>\n",
              "  </tbody>\n",
              "</table>\n",
              "</div>"
            ],
            "text/plain": [
              "  Category  Values\n",
              "0        A      32\n",
              "1        B      43\n",
              "2        C      50"
            ]
          },
          "metadata": {},
          "execution_count": 39
        }
      ]
    },
    {
      "cell_type": "markdown",
      "metadata": {
        "id": "IQZxSrKxJLzY"
      },
      "source": [
        "## Usando Cufflinks e iplot()\n",
        "\n",
        "* Scatter\n",
        "* Bar\n",
        "* Boxplot\n",
        "* 3D surface\n",
        "* Histograma\n",
        "* Burbujas"
      ]
    },
    {
      "cell_type": "markdown",
      "metadata": {
        "id": "nYCi6GGNJLzY"
      },
      "source": [
        "## Scatter"
      ]
    },
    {
      "cell_type": "code",
      "metadata": {
        "id": "iu7cL9LnJLzZ",
        "outputId": "180fa515-bdbe-47f8-c1b6-b089387b0fc4",
        "colab": {
          "base_uri": "https://localhost:8080/",
          "height": 542
        }
      },
      "source": [
        "df.iplot(kind='scatter',x='A',y='B',mode='markers',size=10)"
      ],
      "execution_count": 80,
      "outputs": [
        {
          "output_type": "display_data",
          "data": {
            "text/html": [
              "<div>\n",
              "        \n",
              "        \n",
              "            <div id=\"8ffcf737-fa42-4c63-bf9f-bf5d279c12e7\" class=\"plotly-graph-div\" style=\"height:525px; width:100%;\"></div>\n",
              "            <script type=\"text/javascript\">\n",
              "                require([\"plotly\"], function(Plotly) {\n",
              "                    window.PLOTLYENV=window.PLOTLYENV || {};\n",
              "                    window.PLOTLYENV.BASE_URL='https://plot.ly';\n",
              "                    \n",
              "                if (document.getElementById(\"8ffcf737-fa42-4c63-bf9f-bf5d279c12e7\")) {\n",
              "                    Plotly.newPlot(\n",
              "                        '8ffcf737-fa42-4c63-bf9f-bf5d279c12e7',\n",
              "                        [{\"line\": {\"color\": \"rgba(255, 153, 51, 1.0)\", \"dash\": \"solid\", \"shape\": \"linear\", \"width\": 1.3}, \"marker\": {\"size\": 10, \"symbol\": \"circle\"}, \"mode\": \"markers\", \"name\": \"B\", \"text\": \"\", \"type\": \"scatter\", \"x\": [1.806495044266732, 0.42533611043072034, -0.4871483425153211, 0.3853324676742451, -0.25145518630479186, -1.8889714628635148, -1.256172782613215, 0.5056329223952238, -0.34678374602480216, 1.2259863613478068, 0.6044869418529142, 1.6504407318613856, -0.2867108017551754, 0.9709262878639812, 0.2582590393939859, 0.24260616765562462, 0.37232146927234755, -2.028668659835857, 1.1987563655756102, 0.351833756497529, 0.3200723130077341, -0.0425768123933481, 0.35705727873010795, -0.826665828944986, -1.5959118975359463, 0.11875418808279847, 0.859936380616335, 1.1979389610444304, 0.7350677682313812, 1.1213374501807178, 1.517695893095155, -0.22302496675273092, 0.3695563797635689, -1.8615816242260261, -0.4062916540438035, 2.0136370101292074, -0.3782928643101127, 1.4994590398033754, -0.8086867566922876, 1.639788637355311, 0.731654061259057, 0.45467906261661994, 0.062477095203056006, 0.535534778767764, -0.2584780453602072, -0.11469019074416792, -0.6766481947537808, 0.0846636587081178, -0.47143966282818306, -1.2783783095624797, -1.4956420804988209, -0.5015277854332646, -2.1766240081354673, -1.5235453680885365, 1.3740667559876916, -0.08702176015612136, 0.5997800016885464, -0.357602225587195, 0.09424842825348635, -1.0622917164916859, -1.979461276305433, -1.1824196146500154, 0.11703085535318869, -0.1332124042525436, 0.1437989621215395, -0.685479398981526, -1.4387879345792345, -0.42734844361669416, -0.47997641206490715, 0.06616314168263177, -1.449087818016947, 0.5553638015000387, -0.05801501629933176, -0.9515441433862124, 2.398709674795565, 1.285232671530437, 2.129548528246189, 0.7559805899681296, -1.0560039488240445, 1.2908057742123489, -0.6141317721965471, -0.6587416648453776, -0.37590152447535635, -1.348863606395298, -0.1719931922589223, 0.41592779469752406, -0.3244154173496617, -1.2358096075622749, -1.6750133812470607, 0.3868365201016075, -0.1969298701100356, 0.8441752510285778, -0.5972470688516163, -0.29456409286322904, -2.8693243543402107, 0.11668053823706184, -0.5091919558195666, 0.22104746990482757, 0.3760553946581022, -1.2713656999160645], \"y\": [-0.3026108016166067, 0.5293981822951052, -0.9759136119824533, -0.6254849377455272, 1.0942258762523307, -0.6415536466947009, -0.2277095566534983, 0.5273028898241022, 1.1256841987429353, 1.24136981952801, -0.5296483315173989, 0.8107707037325834, 0.6431012715750171, -1.4873950348413174, 0.5766519810702244, -0.10598931302567975, 0.1744540804668626, 0.11369346882158854, -0.7674246257361023, -0.726344024274497, 0.3361768033303026, -0.1969393828662616, 2.031596355115396, 0.6901107535940647, -0.4178950970559127, 0.873441256929357, 1.9400736737736108, -0.5299333245470387, 0.3355452180727103, -0.7497129123745649, -0.6353735159970206, 0.14613869737343863, 0.22397812357866992, -0.11426288607066208, 0.11912431980696868, -1.2996072546488426, -0.11286617131312847, 0.25841867416042147, 0.4898603985156344, -0.11213487230056292, 0.6558098312974725, -0.23519685815662467, -1.3425667219483055, 0.43395896821978375, -1.2053663503500458, -1.054919237246349, -0.39284547772422945, -0.7250695091179558, 0.7630480142374515, 0.6904319445683351, 0.24565207041733544, -1.2453540579763889, 1.1368196578403216, -1.0304343296823992, -0.391548443565003, 0.3524446080421909, 0.9613386628329437, 0.3417877219158743, -0.47849253245785506, 0.2684602941733726, -1.7946679481369094, -1.1617083448768086, -0.4852366697375159, 0.6053401344020551, 1.1882398706018769, 0.0020423438051300246, -0.4644386473161939, 0.11450472514873553, 0.48587756386642417, -0.6110857823713639, 0.4483207848202699, 0.2829738279958842, 0.22854748342775658, 0.4152296111738778, -0.32907158186387214, 1.2034789818095308, -0.2879286479269087, -1.0480466148579117, -0.4100208518485496, -1.331810914297707, 1.361311310905935, -1.0699415398620427, 0.8819758006282105, 1.4524138446401655, -0.19949216543050685, -0.7116283828882161, 1.0422380116499372, -0.18336557102470818, 1.3660932188177022, -0.30151921283499683, -0.47201913525636574, -2.606302268731621, -0.9484836652273471, -0.20839734268815183, -0.9380606000074331, 0.8200036642465909, -0.2795446970720299, 0.26753273415220863, -1.2917123288319037, 0.285740967646153]}],\n",
              "                        {\"legend\": {\"bgcolor\": \"#F5F6F9\", \"font\": {\"color\": \"#4D5663\"}}, \"paper_bgcolor\": \"#F5F6F9\", \"plot_bgcolor\": \"#F5F6F9\", \"template\": {\"data\": {\"bar\": [{\"error_x\": {\"color\": \"#2a3f5f\"}, \"error_y\": {\"color\": \"#2a3f5f\"}, \"marker\": {\"line\": {\"color\": \"#E5ECF6\", \"width\": 0.5}}, \"type\": \"bar\"}], \"barpolar\": [{\"marker\": {\"line\": {\"color\": \"#E5ECF6\", \"width\": 0.5}}, \"type\": \"barpolar\"}], \"carpet\": [{\"aaxis\": {\"endlinecolor\": \"#2a3f5f\", \"gridcolor\": \"white\", \"linecolor\": \"white\", \"minorgridcolor\": \"white\", \"startlinecolor\": \"#2a3f5f\"}, \"baxis\": {\"endlinecolor\": \"#2a3f5f\", \"gridcolor\": \"white\", \"linecolor\": \"white\", \"minorgridcolor\": \"white\", \"startlinecolor\": \"#2a3f5f\"}, \"type\": \"carpet\"}], \"choropleth\": [{\"colorbar\": {\"outlinewidth\": 0, \"ticks\": \"\"}, \"type\": \"choropleth\"}], \"contour\": [{\"colorbar\": {\"outlinewidth\": 0, \"ticks\": \"\"}, \"colorscale\": [[0.0, \"#0d0887\"], [0.1111111111111111, \"#46039f\"], [0.2222222222222222, \"#7201a8\"], [0.3333333333333333, \"#9c179e\"], [0.4444444444444444, \"#bd3786\"], [0.5555555555555556, \"#d8576b\"], [0.6666666666666666, \"#ed7953\"], [0.7777777777777778, \"#fb9f3a\"], [0.8888888888888888, \"#fdca26\"], [1.0, \"#f0f921\"]], \"type\": \"contour\"}], \"contourcarpet\": [{\"colorbar\": {\"outlinewidth\": 0, \"ticks\": \"\"}, \"type\": \"contourcarpet\"}], \"heatmap\": [{\"colorbar\": {\"outlinewidth\": 0, \"ticks\": \"\"}, \"colorscale\": [[0.0, \"#0d0887\"], [0.1111111111111111, \"#46039f\"], [0.2222222222222222, \"#7201a8\"], [0.3333333333333333, \"#9c179e\"], [0.4444444444444444, \"#bd3786\"], [0.5555555555555556, \"#d8576b\"], [0.6666666666666666, \"#ed7953\"], [0.7777777777777778, \"#fb9f3a\"], [0.8888888888888888, \"#fdca26\"], [1.0, \"#f0f921\"]], \"type\": \"heatmap\"}], \"heatmapgl\": [{\"colorbar\": {\"outlinewidth\": 0, \"ticks\": \"\"}, \"colorscale\": [[0.0, \"#0d0887\"], [0.1111111111111111, \"#46039f\"], [0.2222222222222222, \"#7201a8\"], [0.3333333333333333, \"#9c179e\"], [0.4444444444444444, \"#bd3786\"], [0.5555555555555556, \"#d8576b\"], [0.6666666666666666, \"#ed7953\"], [0.7777777777777778, \"#fb9f3a\"], [0.8888888888888888, \"#fdca26\"], [1.0, \"#f0f921\"]], \"type\": \"heatmapgl\"}], \"histogram\": [{\"marker\": {\"colorbar\": {\"outlinewidth\": 0, \"ticks\": \"\"}}, \"type\": \"histogram\"}], \"histogram2d\": [{\"colorbar\": {\"outlinewidth\": 0, \"ticks\": \"\"}, \"colorscale\": [[0.0, \"#0d0887\"], [0.1111111111111111, \"#46039f\"], [0.2222222222222222, \"#7201a8\"], [0.3333333333333333, \"#9c179e\"], [0.4444444444444444, \"#bd3786\"], [0.5555555555555556, \"#d8576b\"], [0.6666666666666666, \"#ed7953\"], [0.7777777777777778, \"#fb9f3a\"], [0.8888888888888888, \"#fdca26\"], [1.0, \"#f0f921\"]], \"type\": \"histogram2d\"}], \"histogram2dcontour\": [{\"colorbar\": {\"outlinewidth\": 0, \"ticks\": \"\"}, \"colorscale\": [[0.0, \"#0d0887\"], [0.1111111111111111, \"#46039f\"], [0.2222222222222222, \"#7201a8\"], [0.3333333333333333, \"#9c179e\"], [0.4444444444444444, \"#bd3786\"], [0.5555555555555556, \"#d8576b\"], [0.6666666666666666, \"#ed7953\"], [0.7777777777777778, \"#fb9f3a\"], [0.8888888888888888, \"#fdca26\"], [1.0, \"#f0f921\"]], \"type\": \"histogram2dcontour\"}], \"mesh3d\": [{\"colorbar\": {\"outlinewidth\": 0, \"ticks\": \"\"}, \"type\": \"mesh3d\"}], \"parcoords\": [{\"line\": {\"colorbar\": {\"outlinewidth\": 0, \"ticks\": \"\"}}, \"type\": \"parcoords\"}], \"pie\": [{\"automargin\": true, \"type\": \"pie\"}], \"scatter\": [{\"marker\": {\"colorbar\": {\"outlinewidth\": 0, \"ticks\": \"\"}}, \"type\": \"scatter\"}], \"scatter3d\": [{\"line\": {\"colorbar\": {\"outlinewidth\": 0, \"ticks\": \"\"}}, \"marker\": {\"colorbar\": {\"outlinewidth\": 0, \"ticks\": \"\"}}, \"type\": \"scatter3d\"}], \"scattercarpet\": [{\"marker\": {\"colorbar\": {\"outlinewidth\": 0, \"ticks\": \"\"}}, \"type\": \"scattercarpet\"}], \"scattergeo\": [{\"marker\": {\"colorbar\": {\"outlinewidth\": 0, \"ticks\": \"\"}}, \"type\": \"scattergeo\"}], \"scattergl\": [{\"marker\": {\"colorbar\": {\"outlinewidth\": 0, \"ticks\": \"\"}}, \"type\": \"scattergl\"}], \"scattermapbox\": [{\"marker\": {\"colorbar\": {\"outlinewidth\": 0, \"ticks\": \"\"}}, \"type\": \"scattermapbox\"}], \"scatterpolar\": [{\"marker\": {\"colorbar\": {\"outlinewidth\": 0, \"ticks\": \"\"}}, \"type\": \"scatterpolar\"}], \"scatterpolargl\": [{\"marker\": {\"colorbar\": {\"outlinewidth\": 0, \"ticks\": \"\"}}, \"type\": \"scatterpolargl\"}], \"scatterternary\": [{\"marker\": {\"colorbar\": {\"outlinewidth\": 0, \"ticks\": \"\"}}, \"type\": \"scatterternary\"}], \"surface\": [{\"colorbar\": {\"outlinewidth\": 0, \"ticks\": \"\"}, \"colorscale\": [[0.0, \"#0d0887\"], [0.1111111111111111, \"#46039f\"], [0.2222222222222222, \"#7201a8\"], [0.3333333333333333, \"#9c179e\"], [0.4444444444444444, \"#bd3786\"], [0.5555555555555556, \"#d8576b\"], [0.6666666666666666, \"#ed7953\"], [0.7777777777777778, \"#fb9f3a\"], [0.8888888888888888, \"#fdca26\"], [1.0, \"#f0f921\"]], \"type\": \"surface\"}], \"table\": [{\"cells\": {\"fill\": {\"color\": \"#EBF0F8\"}, \"line\": {\"color\": \"white\"}}, \"header\": {\"fill\": {\"color\": \"#C8D4E3\"}, \"line\": {\"color\": \"white\"}}, \"type\": \"table\"}]}, \"layout\": {\"annotationdefaults\": {\"arrowcolor\": \"#2a3f5f\", \"arrowhead\": 0, \"arrowwidth\": 1}, \"coloraxis\": {\"colorbar\": {\"outlinewidth\": 0, \"ticks\": \"\"}}, \"colorscale\": {\"diverging\": [[0, \"#8e0152\"], [0.1, \"#c51b7d\"], [0.2, \"#de77ae\"], [0.3, \"#f1b6da\"], [0.4, \"#fde0ef\"], [0.5, \"#f7f7f7\"], [0.6, \"#e6f5d0\"], [0.7, \"#b8e186\"], [0.8, \"#7fbc41\"], [0.9, \"#4d9221\"], [1, \"#276419\"]], \"sequential\": [[0.0, \"#0d0887\"], [0.1111111111111111, \"#46039f\"], [0.2222222222222222, \"#7201a8\"], [0.3333333333333333, \"#9c179e\"], [0.4444444444444444, \"#bd3786\"], [0.5555555555555556, \"#d8576b\"], [0.6666666666666666, \"#ed7953\"], [0.7777777777777778, \"#fb9f3a\"], [0.8888888888888888, \"#fdca26\"], [1.0, \"#f0f921\"]], \"sequentialminus\": [[0.0, \"#0d0887\"], [0.1111111111111111, \"#46039f\"], [0.2222222222222222, \"#7201a8\"], [0.3333333333333333, \"#9c179e\"], [0.4444444444444444, \"#bd3786\"], [0.5555555555555556, \"#d8576b\"], [0.6666666666666666, \"#ed7953\"], [0.7777777777777778, \"#fb9f3a\"], [0.8888888888888888, \"#fdca26\"], [1.0, \"#f0f921\"]]}, \"colorway\": [\"#636efa\", \"#EF553B\", \"#00cc96\", \"#ab63fa\", \"#FFA15A\", \"#19d3f3\", \"#FF6692\", \"#B6E880\", \"#FF97FF\", \"#FECB52\"], \"font\": {\"color\": \"#2a3f5f\"}, \"geo\": {\"bgcolor\": \"white\", \"lakecolor\": \"white\", \"landcolor\": \"#E5ECF6\", \"showlakes\": true, \"showland\": true, \"subunitcolor\": \"white\"}, \"hoverlabel\": {\"align\": \"left\"}, \"hovermode\": \"closest\", \"mapbox\": {\"style\": \"light\"}, \"paper_bgcolor\": \"white\", \"plot_bgcolor\": \"#E5ECF6\", \"polar\": {\"angularaxis\": {\"gridcolor\": \"white\", \"linecolor\": \"white\", \"ticks\": \"\"}, \"bgcolor\": \"#E5ECF6\", \"radialaxis\": {\"gridcolor\": \"white\", \"linecolor\": \"white\", \"ticks\": \"\"}}, \"scene\": {\"xaxis\": {\"backgroundcolor\": \"#E5ECF6\", \"gridcolor\": \"white\", \"gridwidth\": 2, \"linecolor\": \"white\", \"showbackground\": true, \"ticks\": \"\", \"zerolinecolor\": \"white\"}, \"yaxis\": {\"backgroundcolor\": \"#E5ECF6\", \"gridcolor\": \"white\", \"gridwidth\": 2, \"linecolor\": \"white\", \"showbackground\": true, \"ticks\": \"\", \"zerolinecolor\": \"white\"}, \"zaxis\": {\"backgroundcolor\": \"#E5ECF6\", \"gridcolor\": \"white\", \"gridwidth\": 2, \"linecolor\": \"white\", \"showbackground\": true, \"ticks\": \"\", \"zerolinecolor\": \"white\"}}, \"shapedefaults\": {\"line\": {\"color\": \"#2a3f5f\"}}, \"ternary\": {\"aaxis\": {\"gridcolor\": \"white\", \"linecolor\": \"white\", \"ticks\": \"\"}, \"baxis\": {\"gridcolor\": \"white\", \"linecolor\": \"white\", \"ticks\": \"\"}, \"bgcolor\": \"#E5ECF6\", \"caxis\": {\"gridcolor\": \"white\", \"linecolor\": \"white\", \"ticks\": \"\"}}, \"title\": {\"x\": 0.05}, \"xaxis\": {\"automargin\": true, \"gridcolor\": \"white\", \"linecolor\": \"white\", \"ticks\": \"\", \"title\": {\"standoff\": 15}, \"zerolinecolor\": \"white\", \"zerolinewidth\": 2}, \"yaxis\": {\"automargin\": true, \"gridcolor\": \"white\", \"linecolor\": \"white\", \"ticks\": \"\", \"title\": {\"standoff\": 15}, \"zerolinecolor\": \"white\", \"zerolinewidth\": 2}}}, \"title\": {\"font\": {\"color\": \"#4D5663\"}}, \"xaxis\": {\"gridcolor\": \"#E1E5ED\", \"showgrid\": true, \"tickfont\": {\"color\": \"#4D5663\"}, \"title\": {\"font\": {\"color\": \"#4D5663\"}, \"text\": \"\"}, \"zerolinecolor\": \"#E1E5ED\"}, \"yaxis\": {\"gridcolor\": \"#E1E5ED\", \"showgrid\": true, \"tickfont\": {\"color\": \"#4D5663\"}, \"title\": {\"font\": {\"color\": \"#4D5663\"}, \"text\": \"\"}, \"zerolinecolor\": \"#E1E5ED\"}},\n",
              "                        {\"showLink\": true, \"linkText\": \"Export to plot.ly\", \"plotlyServerURL\": \"https://plot.ly\", \"responsive\": true}\n",
              "                    ).then(function(){\n",
              "                            \n",
              "var gd = document.getElementById('8ffcf737-fa42-4c63-bf9f-bf5d279c12e7');\n",
              "var x = new MutationObserver(function (mutations, observer) {{\n",
              "        var display = window.getComputedStyle(gd).display;\n",
              "        if (!display || display === 'none') {{\n",
              "            console.log([gd, 'removed!']);\n",
              "            Plotly.purge(gd);\n",
              "            observer.disconnect();\n",
              "        }}\n",
              "}});\n",
              "\n",
              "// Listen for the removal of the full notebook cells\n",
              "var notebookContainer = gd.closest('#notebook-container');\n",
              "if (notebookContainer) {{\n",
              "    x.observe(notebookContainer, {childList: true});\n",
              "}}\n",
              "\n",
              "// Listen for the clearing of the current output cell\n",
              "var outputEl = gd.closest('.output');\n",
              "if (outputEl) {{\n",
              "    x.observe(outputEl, {childList: true});\n",
              "}}\n",
              "\n",
              "                        })\n",
              "                };\n",
              "                });\n",
              "            </script>\n",
              "        </div>"
            ],
            "application/vnd.plotly.v1+json": {
              "data": [
                {
                  "name": "B",
                  "text": "",
                  "y": [
                    -0.3026108016166067,
                    0.5293981822951052,
                    -0.9759136119824533,
                    -0.6254849377455272,
                    1.0942258762523307,
                    -0.6415536466947009,
                    -0.2277095566534983,
                    0.5273028898241022,
                    1.1256841987429353,
                    1.24136981952801,
                    -0.5296483315173989,
                    0.8107707037325834,
                    0.6431012715750171,
                    -1.4873950348413174,
                    0.5766519810702244,
                    -0.10598931302567975,
                    0.1744540804668626,
                    0.11369346882158854,
                    -0.7674246257361023,
                    -0.726344024274497,
                    0.3361768033303026,
                    -0.1969393828662616,
                    2.031596355115396,
                    0.6901107535940647,
                    -0.4178950970559127,
                    0.873441256929357,
                    1.9400736737736108,
                    -0.5299333245470387,
                    0.3355452180727103,
                    -0.7497129123745649,
                    -0.6353735159970206,
                    0.14613869737343863,
                    0.22397812357866992,
                    -0.11426288607066208,
                    0.11912431980696868,
                    -1.2996072546488426,
                    -0.11286617131312847,
                    0.25841867416042147,
                    0.4898603985156344,
                    -0.11213487230056292,
                    0.6558098312974725,
                    -0.23519685815662467,
                    -1.3425667219483055,
                    0.43395896821978375,
                    -1.2053663503500458,
                    -1.054919237246349,
                    -0.39284547772422945,
                    -0.7250695091179558,
                    0.7630480142374515,
                    0.6904319445683351,
                    0.24565207041733544,
                    -1.2453540579763889,
                    1.1368196578403216,
                    -1.0304343296823992,
                    -0.391548443565003,
                    0.3524446080421909,
                    0.9613386628329437,
                    0.3417877219158743,
                    -0.47849253245785506,
                    0.2684602941733726,
                    -1.7946679481369094,
                    -1.1617083448768086,
                    -0.4852366697375159,
                    0.6053401344020551,
                    1.1882398706018769,
                    0.0020423438051300246,
                    -0.4644386473161939,
                    0.11450472514873553,
                    0.48587756386642417,
                    -0.6110857823713639,
                    0.4483207848202699,
                    0.2829738279958842,
                    0.22854748342775658,
                    0.4152296111738778,
                    -0.32907158186387214,
                    1.2034789818095308,
                    -0.2879286479269087,
                    -1.0480466148579117,
                    -0.4100208518485496,
                    -1.331810914297707,
                    1.361311310905935,
                    -1.0699415398620427,
                    0.8819758006282105,
                    1.4524138446401655,
                    -0.19949216543050685,
                    -0.7116283828882161,
                    1.0422380116499372,
                    -0.18336557102470818,
                    1.3660932188177022,
                    -0.30151921283499683,
                    -0.47201913525636574,
                    -2.606302268731621,
                    -0.9484836652273471,
                    -0.20839734268815183,
                    -0.9380606000074331,
                    0.8200036642465909,
                    -0.2795446970720299,
                    0.26753273415220863,
                    -1.2917123288319037,
                    0.285740967646153
                  ],
                  "mode": "markers",
                  "marker": {
                    "symbol": "circle",
                    "size": 10
                  },
                  "x": [
                    1.806495044266732,
                    0.42533611043072034,
                    -0.4871483425153211,
                    0.3853324676742451,
                    -0.25145518630479186,
                    -1.8889714628635148,
                    -1.256172782613215,
                    0.5056329223952238,
                    -0.34678374602480216,
                    1.2259863613478068,
                    0.6044869418529142,
                    1.6504407318613856,
                    -0.2867108017551754,
                    0.9709262878639812,
                    0.2582590393939859,
                    0.24260616765562462,
                    0.37232146927234755,
                    -2.028668659835857,
                    1.1987563655756102,
                    0.351833756497529,
                    0.3200723130077341,
                    -0.0425768123933481,
                    0.35705727873010795,
                    -0.826665828944986,
                    -1.5959118975359463,
                    0.11875418808279847,
                    0.859936380616335,
                    1.1979389610444304,
                    0.7350677682313812,
                    1.1213374501807178,
                    1.517695893095155,
                    -0.22302496675273092,
                    0.3695563797635689,
                    -1.8615816242260261,
                    -0.4062916540438035,
                    2.0136370101292074,
                    -0.3782928643101127,
                    1.4994590398033754,
                    -0.8086867566922876,
                    1.639788637355311,
                    0.731654061259057,
                    0.45467906261661994,
                    0.062477095203056006,
                    0.535534778767764,
                    -0.2584780453602072,
                    -0.11469019074416792,
                    -0.6766481947537808,
                    0.0846636587081178,
                    -0.47143966282818306,
                    -1.2783783095624797,
                    -1.4956420804988209,
                    -0.5015277854332646,
                    -2.1766240081354673,
                    -1.5235453680885365,
                    1.3740667559876916,
                    -0.08702176015612136,
                    0.5997800016885464,
                    -0.357602225587195,
                    0.09424842825348635,
                    -1.0622917164916859,
                    -1.979461276305433,
                    -1.1824196146500154,
                    0.11703085535318869,
                    -0.1332124042525436,
                    0.1437989621215395,
                    -0.685479398981526,
                    -1.4387879345792345,
                    -0.42734844361669416,
                    -0.47997641206490715,
                    0.06616314168263177,
                    -1.449087818016947,
                    0.5553638015000387,
                    -0.05801501629933176,
                    -0.9515441433862124,
                    2.398709674795565,
                    1.285232671530437,
                    2.129548528246189,
                    0.7559805899681296,
                    -1.0560039488240445,
                    1.2908057742123489,
                    -0.6141317721965471,
                    -0.6587416648453776,
                    -0.37590152447535635,
                    -1.348863606395298,
                    -0.1719931922589223,
                    0.41592779469752406,
                    -0.3244154173496617,
                    -1.2358096075622749,
                    -1.6750133812470607,
                    0.3868365201016075,
                    -0.1969298701100356,
                    0.8441752510285778,
                    -0.5972470688516163,
                    -0.29456409286322904,
                    -2.8693243543402107,
                    0.11668053823706184,
                    -0.5091919558195666,
                    0.22104746990482757,
                    0.3760553946581022,
                    -1.2713656999160645
                  ],
                  "line": {
                    "color": "rgba(255, 153, 51, 1.0)",
                    "dash": "solid",
                    "shape": "linear",
                    "width": 1.3
                  },
                  "type": "scatter"
                }
              ],
              "config": {
                "plotlyServerURL": "https://plot.ly",
                "linkText": "Export to plot.ly",
                "showLink": true
              },
              "layout": {
                "template": {
                  "layout": {
                    "shapedefaults": {
                      "line": {
                        "color": "#2a3f5f"
                      }
                    },
                    "polar": {
                      "radialaxis": {
                        "ticks": "",
                        "gridcolor": "white",
                        "linecolor": "white"
                      },
                      "bgcolor": "#E5ECF6",
                      "angularaxis": {
                        "ticks": "",
                        "gridcolor": "white",
                        "linecolor": "white"
                      }
                    },
                    "colorway": [
                      "#636efa",
                      "#EF553B",
                      "#00cc96",
                      "#ab63fa",
                      "#FFA15A",
                      "#19d3f3",
                      "#FF6692",
                      "#B6E880",
                      "#FF97FF",
                      "#FECB52"
                    ],
                    "xaxis": {
                      "automargin": true,
                      "title": {
                        "standoff": 15
                      },
                      "zerolinewidth": 2,
                      "ticks": "",
                      "zerolinecolor": "white",
                      "gridcolor": "white",
                      "linecolor": "white"
                    },
                    "colorscale": {
                      "diverging": [
                        [
                          0,
                          "#8e0152"
                        ],
                        [
                          0.1,
                          "#c51b7d"
                        ],
                        [
                          0.2,
                          "#de77ae"
                        ],
                        [
                          0.3,
                          "#f1b6da"
                        ],
                        [
                          0.4,
                          "#fde0ef"
                        ],
                        [
                          0.5,
                          "#f7f7f7"
                        ],
                        [
                          0.6,
                          "#e6f5d0"
                        ],
                        [
                          0.7,
                          "#b8e186"
                        ],
                        [
                          0.8,
                          "#7fbc41"
                        ],
                        [
                          0.9,
                          "#4d9221"
                        ],
                        [
                          1,
                          "#276419"
                        ]
                      ],
                      "sequential": [
                        [
                          0,
                          "#0d0887"
                        ],
                        [
                          0.1111111111111111,
                          "#46039f"
                        ],
                        [
                          0.2222222222222222,
                          "#7201a8"
                        ],
                        [
                          0.3333333333333333,
                          "#9c179e"
                        ],
                        [
                          0.4444444444444444,
                          "#bd3786"
                        ],
                        [
                          0.5555555555555556,
                          "#d8576b"
                        ],
                        [
                          0.6666666666666666,
                          "#ed7953"
                        ],
                        [
                          0.7777777777777778,
                          "#fb9f3a"
                        ],
                        [
                          0.8888888888888888,
                          "#fdca26"
                        ],
                        [
                          1,
                          "#f0f921"
                        ]
                      ],
                      "sequentialminus": [
                        [
                          0,
                          "#0d0887"
                        ],
                        [
                          0.1111111111111111,
                          "#46039f"
                        ],
                        [
                          0.2222222222222222,
                          "#7201a8"
                        ],
                        [
                          0.3333333333333333,
                          "#9c179e"
                        ],
                        [
                          0.4444444444444444,
                          "#bd3786"
                        ],
                        [
                          0.5555555555555556,
                          "#d8576b"
                        ],
                        [
                          0.6666666666666666,
                          "#ed7953"
                        ],
                        [
                          0.7777777777777778,
                          "#fb9f3a"
                        ],
                        [
                          0.8888888888888888,
                          "#fdca26"
                        ],
                        [
                          1,
                          "#f0f921"
                        ]
                      ]
                    },
                    "paper_bgcolor": "white",
                    "plot_bgcolor": "#E5ECF6",
                    "title": {
                      "x": 0.05
                    },
                    "scene": {
                      "zaxis": {
                        "backgroundcolor": "#E5ECF6",
                        "ticks": "",
                        "gridwidth": 2,
                        "showbackground": true,
                        "zerolinecolor": "white",
                        "gridcolor": "white",
                        "linecolor": "white"
                      },
                      "xaxis": {
                        "backgroundcolor": "#E5ECF6",
                        "ticks": "",
                        "gridwidth": 2,
                        "showbackground": true,
                        "zerolinecolor": "white",
                        "gridcolor": "white",
                        "linecolor": "white"
                      },
                      "yaxis": {
                        "backgroundcolor": "#E5ECF6",
                        "ticks": "",
                        "gridwidth": 2,
                        "showbackground": true,
                        "zerolinecolor": "white",
                        "gridcolor": "white",
                        "linecolor": "white"
                      }
                    },
                    "yaxis": {
                      "automargin": true,
                      "title": {
                        "standoff": 15
                      },
                      "zerolinewidth": 2,
                      "ticks": "",
                      "zerolinecolor": "white",
                      "gridcolor": "white",
                      "linecolor": "white"
                    },
                    "annotationdefaults": {
                      "arrowwidth": 1,
                      "arrowhead": 0,
                      "arrowcolor": "#2a3f5f"
                    },
                    "hoverlabel": {
                      "align": "left"
                    },
                    "ternary": {
                      "bgcolor": "#E5ECF6",
                      "baxis": {
                        "ticks": "",
                        "gridcolor": "white",
                        "linecolor": "white"
                      },
                      "caxis": {
                        "ticks": "",
                        "gridcolor": "white",
                        "linecolor": "white"
                      },
                      "aaxis": {
                        "ticks": "",
                        "gridcolor": "white",
                        "linecolor": "white"
                      }
                    },
                    "mapbox": {
                      "style": "light"
                    },
                    "hovermode": "closest",
                    "font": {
                      "color": "#2a3f5f"
                    },
                    "geo": {
                      "showland": true,
                      "landcolor": "#E5ECF6",
                      "showlakes": true,
                      "bgcolor": "white",
                      "subunitcolor": "white",
                      "lakecolor": "white"
                    },
                    "coloraxis": {
                      "colorbar": {
                        "outlinewidth": 0,
                        "ticks": ""
                      }
                    }
                  },
                  "data": {
                    "mesh3d": [
                      {
                        "colorbar": {
                          "outlinewidth": 0,
                          "ticks": ""
                        },
                        "type": "mesh3d"
                      }
                    ],
                    "scattercarpet": [
                      {
                        "marker": {
                          "colorbar": {
                            "outlinewidth": 0,
                            "ticks": ""
                          }
                        },
                        "type": "scattercarpet"
                      }
                    ],
                    "pie": [
                      {
                        "automargin": true,
                        "type": "pie"
                      }
                    ],
                    "surface": [
                      {
                        "colorbar": {
                          "outlinewidth": 0,
                          "ticks": ""
                        },
                        "type": "surface",
                        "colorscale": [
                          [
                            0,
                            "#0d0887"
                          ],
                          [
                            0.1111111111111111,
                            "#46039f"
                          ],
                          [
                            0.2222222222222222,
                            "#7201a8"
                          ],
                          [
                            0.3333333333333333,
                            "#9c179e"
                          ],
                          [
                            0.4444444444444444,
                            "#bd3786"
                          ],
                          [
                            0.5555555555555556,
                            "#d8576b"
                          ],
                          [
                            0.6666666666666666,
                            "#ed7953"
                          ],
                          [
                            0.7777777777777778,
                            "#fb9f3a"
                          ],
                          [
                            0.8888888888888888,
                            "#fdca26"
                          ],
                          [
                            1,
                            "#f0f921"
                          ]
                        ]
                      }
                    ],
                    "table": [
                      {
                        "header": {
                          "line": {
                            "color": "white"
                          },
                          "fill": {
                            "color": "#C8D4E3"
                          }
                        },
                        "cells": {
                          "line": {
                            "color": "white"
                          },
                          "fill": {
                            "color": "#EBF0F8"
                          }
                        },
                        "type": "table"
                      }
                    ],
                    "scatterpolargl": [
                      {
                        "marker": {
                          "colorbar": {
                            "outlinewidth": 0,
                            "ticks": ""
                          }
                        },
                        "type": "scatterpolargl"
                      }
                    ],
                    "contour": [
                      {
                        "colorbar": {
                          "outlinewidth": 0,
                          "ticks": ""
                        },
                        "type": "contour",
                        "colorscale": [
                          [
                            0,
                            "#0d0887"
                          ],
                          [
                            0.1111111111111111,
                            "#46039f"
                          ],
                          [
                            0.2222222222222222,
                            "#7201a8"
                          ],
                          [
                            0.3333333333333333,
                            "#9c179e"
                          ],
                          [
                            0.4444444444444444,
                            "#bd3786"
                          ],
                          [
                            0.5555555555555556,
                            "#d8576b"
                          ],
                          [
                            0.6666666666666666,
                            "#ed7953"
                          ],
                          [
                            0.7777777777777778,
                            "#fb9f3a"
                          ],
                          [
                            0.8888888888888888,
                            "#fdca26"
                          ],
                          [
                            1,
                            "#f0f921"
                          ]
                        ]
                      }
                    ],
                    "carpet": [
                      {
                        "type": "carpet",
                        "baxis": {
                          "minorgridcolor": "white",
                          "gridcolor": "white",
                          "linecolor": "white",
                          "endlinecolor": "#2a3f5f",
                          "startlinecolor": "#2a3f5f"
                        },
                        "aaxis": {
                          "minorgridcolor": "white",
                          "gridcolor": "white",
                          "linecolor": "white",
                          "endlinecolor": "#2a3f5f",
                          "startlinecolor": "#2a3f5f"
                        }
                      }
                    ],
                    "contourcarpet": [
                      {
                        "colorbar": {
                          "outlinewidth": 0,
                          "ticks": ""
                        },
                        "type": "contourcarpet"
                      }
                    ],
                    "heatmap": [
                      {
                        "colorbar": {
                          "outlinewidth": 0,
                          "ticks": ""
                        },
                        "type": "heatmap",
                        "colorscale": [
                          [
                            0,
                            "#0d0887"
                          ],
                          [
                            0.1111111111111111,
                            "#46039f"
                          ],
                          [
                            0.2222222222222222,
                            "#7201a8"
                          ],
                          [
                            0.3333333333333333,
                            "#9c179e"
                          ],
                          [
                            0.4444444444444444,
                            "#bd3786"
                          ],
                          [
                            0.5555555555555556,
                            "#d8576b"
                          ],
                          [
                            0.6666666666666666,
                            "#ed7953"
                          ],
                          [
                            0.7777777777777778,
                            "#fb9f3a"
                          ],
                          [
                            0.8888888888888888,
                            "#fdca26"
                          ],
                          [
                            1,
                            "#f0f921"
                          ]
                        ]
                      }
                    ],
                    "scattermapbox": [
                      {
                        "marker": {
                          "colorbar": {
                            "outlinewidth": 0,
                            "ticks": ""
                          }
                        },
                        "type": "scattermapbox"
                      }
                    ],
                    "scatter3d": [
                      {
                        "marker": {
                          "colorbar": {
                            "outlinewidth": 0,
                            "ticks": ""
                          }
                        },
                        "line": {
                          "colorbar": {
                            "outlinewidth": 0,
                            "ticks": ""
                          }
                        },
                        "type": "scatter3d"
                      }
                    ],
                    "scattergl": [
                      {
                        "marker": {
                          "colorbar": {
                            "outlinewidth": 0,
                            "ticks": ""
                          }
                        },
                        "type": "scattergl"
                      }
                    ],
                    "scatterternary": [
                      {
                        "marker": {
                          "colorbar": {
                            "outlinewidth": 0,
                            "ticks": ""
                          }
                        },
                        "type": "scatterternary"
                      }
                    ],
                    "histogram": [
                      {
                        "marker": {
                          "colorbar": {
                            "outlinewidth": 0,
                            "ticks": ""
                          }
                        },
                        "type": "histogram"
                      }
                    ],
                    "heatmapgl": [
                      {
                        "colorbar": {
                          "outlinewidth": 0,
                          "ticks": ""
                        },
                        "type": "heatmapgl",
                        "colorscale": [
                          [
                            0,
                            "#0d0887"
                          ],
                          [
                            0.1111111111111111,
                            "#46039f"
                          ],
                          [
                            0.2222222222222222,
                            "#7201a8"
                          ],
                          [
                            0.3333333333333333,
                            "#9c179e"
                          ],
                          [
                            0.4444444444444444,
                            "#bd3786"
                          ],
                          [
                            0.5555555555555556,
                            "#d8576b"
                          ],
                          [
                            0.6666666666666666,
                            "#ed7953"
                          ],
                          [
                            0.7777777777777778,
                            "#fb9f3a"
                          ],
                          [
                            0.8888888888888888,
                            "#fdca26"
                          ],
                          [
                            1,
                            "#f0f921"
                          ]
                        ]
                      }
                    ],
                    "scatterpolar": [
                      {
                        "marker": {
                          "colorbar": {
                            "outlinewidth": 0,
                            "ticks": ""
                          }
                        },
                        "type": "scatterpolar"
                      }
                    ],
                    "histogram2d": [
                      {
                        "colorbar": {
                          "outlinewidth": 0,
                          "ticks": ""
                        },
                        "type": "histogram2d",
                        "colorscale": [
                          [
                            0,
                            "#0d0887"
                          ],
                          [
                            0.1111111111111111,
                            "#46039f"
                          ],
                          [
                            0.2222222222222222,
                            "#7201a8"
                          ],
                          [
                            0.3333333333333333,
                            "#9c179e"
                          ],
                          [
                            0.4444444444444444,
                            "#bd3786"
                          ],
                          [
                            0.5555555555555556,
                            "#d8576b"
                          ],
                          [
                            0.6666666666666666,
                            "#ed7953"
                          ],
                          [
                            0.7777777777777778,
                            "#fb9f3a"
                          ],
                          [
                            0.8888888888888888,
                            "#fdca26"
                          ],
                          [
                            1,
                            "#f0f921"
                          ]
                        ]
                      }
                    ],
                    "scattergeo": [
                      {
                        "marker": {
                          "colorbar": {
                            "outlinewidth": 0,
                            "ticks": ""
                          }
                        },
                        "type": "scattergeo"
                      }
                    ],
                    "bar": [
                      {
                        "marker": {
                          "line": {
                            "color": "#E5ECF6",
                            "width": 0.5
                          }
                        },
                        "type": "bar",
                        "error_x": {
                          "color": "#2a3f5f"
                        },
                        "error_y": {
                          "color": "#2a3f5f"
                        }
                      }
                    ],
                    "choropleth": [
                      {
                        "colorbar": {
                          "outlinewidth": 0,
                          "ticks": ""
                        },
                        "type": "choropleth"
                      }
                    ],
                    "parcoords": [
                      {
                        "line": {
                          "colorbar": {
                            "outlinewidth": 0,
                            "ticks": ""
                          }
                        },
                        "type": "parcoords"
                      }
                    ],
                    "barpolar": [
                      {
                        "marker": {
                          "line": {
                            "color": "#E5ECF6",
                            "width": 0.5
                          }
                        },
                        "type": "barpolar"
                      }
                    ],
                    "histogram2dcontour": [
                      {
                        "colorbar": {
                          "outlinewidth": 0,
                          "ticks": ""
                        },
                        "type": "histogram2dcontour",
                        "colorscale": [
                          [
                            0,
                            "#0d0887"
                          ],
                          [
                            0.1111111111111111,
                            "#46039f"
                          ],
                          [
                            0.2222222222222222,
                            "#7201a8"
                          ],
                          [
                            0.3333333333333333,
                            "#9c179e"
                          ],
                          [
                            0.4444444444444444,
                            "#bd3786"
                          ],
                          [
                            0.5555555555555556,
                            "#d8576b"
                          ],
                          [
                            0.6666666666666666,
                            "#ed7953"
                          ],
                          [
                            0.7777777777777778,
                            "#fb9f3a"
                          ],
                          [
                            0.8888888888888888,
                            "#fdca26"
                          ],
                          [
                            1,
                            "#f0f921"
                          ]
                        ]
                      }
                    ],
                    "scatter": [
                      {
                        "marker": {
                          "colorbar": {
                            "outlinewidth": 0,
                            "ticks": ""
                          }
                        },
                        "type": "scatter"
                      }
                    ]
                  }
                },
                "title": {
                  "font": {
                    "color": "#4D5663"
                  }
                },
                "paper_bgcolor": "#F5F6F9",
                "plot_bgcolor": "#F5F6F9",
                "yaxis": {
                  "tickfont": {
                    "color": "#4D5663"
                  },
                  "zerolinecolor": "#E1E5ED",
                  "title": {
                    "text": "",
                    "font": {
                      "color": "#4D5663"
                    }
                  },
                  "gridcolor": "#E1E5ED",
                  "showgrid": true
                },
                "xaxis": {
                  "tickfont": {
                    "color": "#4D5663"
                  },
                  "zerolinecolor": "#E1E5ED",
                  "title": {
                    "text": "",
                    "font": {
                      "color": "#4D5663"
                    }
                  },
                  "gridcolor": "#E1E5ED",
                  "showgrid": true
                },
                "legend": {
                  "bgcolor": "#F5F6F9",
                  "font": {
                    "color": "#4D5663"
                  }
                }
              }
            }
          },
          "metadata": {}
        }
      ]
    },
    {
      "cell_type": "markdown",
      "metadata": {
        "id": "YQrLQJRRJLzZ"
      },
      "source": [
        "## Bar Plots"
      ]
    },
    {
      "cell_type": "code",
      "metadata": {
        "id": "mLiZGkG2JLzZ",
        "outputId": "0d742a1b-e236-47ba-ea17-0bc62ee3063f",
        "colab": {
          "base_uri": "https://localhost:8080/",
          "height": 542
        }
      },
      "source": [
        "df2.iplot(kind='bar',x='Category',y='Values')"
      ],
      "execution_count": 48,
      "outputs": [
        {
          "output_type": "display_data",
          "data": {
            "text/html": [
              "<div>\n",
              "        \n",
              "        \n",
              "            <div id=\"b50f2578-a81e-4abf-8828-d663b7b8e426\" class=\"plotly-graph-div\" style=\"height:525px; width:100%;\"></div>\n",
              "            <script type=\"text/javascript\">\n",
              "                require([\"plotly\"], function(Plotly) {\n",
              "                    window.PLOTLYENV=window.PLOTLYENV || {};\n",
              "                    window.PLOTLYENV.BASE_URL='https://plot.ly';\n",
              "                    \n",
              "                if (document.getElementById(\"b50f2578-a81e-4abf-8828-d663b7b8e426\")) {\n",
              "                    Plotly.newPlot(\n",
              "                        'b50f2578-a81e-4abf-8828-d663b7b8e426',\n",
              "                        [{\"marker\": {\"color\": \"rgba(255, 153, 51, 0.6)\", \"line\": {\"color\": \"rgba(255, 153, 51, 1.0)\", \"width\": 1}}, \"name\": \"Values\", \"orientation\": \"v\", \"text\": \"\", \"type\": \"bar\", \"x\": [\"A\", \"B\", \"C\"], \"y\": [32, 43, 50]}],\n",
              "                        {\"legend\": {\"bgcolor\": \"#F5F6F9\", \"font\": {\"color\": \"#4D5663\"}}, \"paper_bgcolor\": \"#F5F6F9\", \"plot_bgcolor\": \"#F5F6F9\", \"template\": {\"data\": {\"bar\": [{\"error_x\": {\"color\": \"#2a3f5f\"}, \"error_y\": {\"color\": \"#2a3f5f\"}, \"marker\": {\"line\": {\"color\": \"#E5ECF6\", \"width\": 0.5}}, \"type\": \"bar\"}], \"barpolar\": [{\"marker\": {\"line\": {\"color\": \"#E5ECF6\", \"width\": 0.5}}, \"type\": \"barpolar\"}], \"carpet\": [{\"aaxis\": {\"endlinecolor\": \"#2a3f5f\", \"gridcolor\": \"white\", \"linecolor\": \"white\", \"minorgridcolor\": \"white\", \"startlinecolor\": \"#2a3f5f\"}, \"baxis\": {\"endlinecolor\": \"#2a3f5f\", \"gridcolor\": \"white\", \"linecolor\": \"white\", \"minorgridcolor\": \"white\", \"startlinecolor\": \"#2a3f5f\"}, \"type\": \"carpet\"}], \"choropleth\": [{\"colorbar\": {\"outlinewidth\": 0, \"ticks\": \"\"}, \"type\": \"choropleth\"}], \"contour\": [{\"colorbar\": {\"outlinewidth\": 0, \"ticks\": \"\"}, \"colorscale\": [[0.0, \"#0d0887\"], [0.1111111111111111, \"#46039f\"], [0.2222222222222222, \"#7201a8\"], [0.3333333333333333, \"#9c179e\"], [0.4444444444444444, \"#bd3786\"], [0.5555555555555556, \"#d8576b\"], [0.6666666666666666, \"#ed7953\"], [0.7777777777777778, \"#fb9f3a\"], [0.8888888888888888, \"#fdca26\"], [1.0, \"#f0f921\"]], \"type\": \"contour\"}], \"contourcarpet\": [{\"colorbar\": {\"outlinewidth\": 0, \"ticks\": \"\"}, \"type\": \"contourcarpet\"}], \"heatmap\": [{\"colorbar\": {\"outlinewidth\": 0, \"ticks\": \"\"}, \"colorscale\": [[0.0, \"#0d0887\"], [0.1111111111111111, \"#46039f\"], [0.2222222222222222, \"#7201a8\"], [0.3333333333333333, \"#9c179e\"], [0.4444444444444444, \"#bd3786\"], [0.5555555555555556, \"#d8576b\"], [0.6666666666666666, \"#ed7953\"], [0.7777777777777778, \"#fb9f3a\"], [0.8888888888888888, \"#fdca26\"], [1.0, \"#f0f921\"]], \"type\": \"heatmap\"}], \"heatmapgl\": [{\"colorbar\": {\"outlinewidth\": 0, \"ticks\": \"\"}, \"colorscale\": [[0.0, \"#0d0887\"], [0.1111111111111111, \"#46039f\"], [0.2222222222222222, \"#7201a8\"], [0.3333333333333333, \"#9c179e\"], [0.4444444444444444, \"#bd3786\"], [0.5555555555555556, \"#d8576b\"], [0.6666666666666666, \"#ed7953\"], [0.7777777777777778, \"#fb9f3a\"], [0.8888888888888888, \"#fdca26\"], [1.0, \"#f0f921\"]], \"type\": \"heatmapgl\"}], \"histogram\": [{\"marker\": {\"colorbar\": {\"outlinewidth\": 0, \"ticks\": \"\"}}, \"type\": \"histogram\"}], \"histogram2d\": [{\"colorbar\": {\"outlinewidth\": 0, \"ticks\": \"\"}, \"colorscale\": [[0.0, \"#0d0887\"], [0.1111111111111111, \"#46039f\"], [0.2222222222222222, \"#7201a8\"], [0.3333333333333333, \"#9c179e\"], [0.4444444444444444, \"#bd3786\"], [0.5555555555555556, \"#d8576b\"], [0.6666666666666666, \"#ed7953\"], [0.7777777777777778, \"#fb9f3a\"], [0.8888888888888888, \"#fdca26\"], [1.0, \"#f0f921\"]], \"type\": \"histogram2d\"}], \"histogram2dcontour\": [{\"colorbar\": {\"outlinewidth\": 0, \"ticks\": \"\"}, \"colorscale\": [[0.0, \"#0d0887\"], [0.1111111111111111, \"#46039f\"], [0.2222222222222222, \"#7201a8\"], [0.3333333333333333, \"#9c179e\"], [0.4444444444444444, \"#bd3786\"], [0.5555555555555556, \"#d8576b\"], [0.6666666666666666, \"#ed7953\"], [0.7777777777777778, \"#fb9f3a\"], [0.8888888888888888, \"#fdca26\"], [1.0, \"#f0f921\"]], \"type\": \"histogram2dcontour\"}], \"mesh3d\": [{\"colorbar\": {\"outlinewidth\": 0, \"ticks\": \"\"}, \"type\": \"mesh3d\"}], \"parcoords\": [{\"line\": {\"colorbar\": {\"outlinewidth\": 0, \"ticks\": \"\"}}, \"type\": \"parcoords\"}], \"pie\": [{\"automargin\": true, \"type\": \"pie\"}], \"scatter\": [{\"marker\": {\"colorbar\": {\"outlinewidth\": 0, \"ticks\": \"\"}}, \"type\": \"scatter\"}], \"scatter3d\": [{\"line\": {\"colorbar\": {\"outlinewidth\": 0, \"ticks\": \"\"}}, \"marker\": {\"colorbar\": {\"outlinewidth\": 0, \"ticks\": \"\"}}, \"type\": \"scatter3d\"}], \"scattercarpet\": [{\"marker\": {\"colorbar\": {\"outlinewidth\": 0, \"ticks\": \"\"}}, \"type\": \"scattercarpet\"}], \"scattergeo\": [{\"marker\": {\"colorbar\": {\"outlinewidth\": 0, \"ticks\": \"\"}}, \"type\": \"scattergeo\"}], \"scattergl\": [{\"marker\": {\"colorbar\": {\"outlinewidth\": 0, \"ticks\": \"\"}}, \"type\": \"scattergl\"}], \"scattermapbox\": [{\"marker\": {\"colorbar\": {\"outlinewidth\": 0, \"ticks\": \"\"}}, \"type\": \"scattermapbox\"}], \"scatterpolar\": [{\"marker\": {\"colorbar\": {\"outlinewidth\": 0, \"ticks\": \"\"}}, \"type\": \"scatterpolar\"}], \"scatterpolargl\": [{\"marker\": {\"colorbar\": {\"outlinewidth\": 0, \"ticks\": \"\"}}, \"type\": \"scatterpolargl\"}], \"scatterternary\": [{\"marker\": {\"colorbar\": {\"outlinewidth\": 0, \"ticks\": \"\"}}, \"type\": \"scatterternary\"}], \"surface\": [{\"colorbar\": {\"outlinewidth\": 0, \"ticks\": \"\"}, \"colorscale\": [[0.0, \"#0d0887\"], [0.1111111111111111, \"#46039f\"], [0.2222222222222222, \"#7201a8\"], [0.3333333333333333, \"#9c179e\"], [0.4444444444444444, \"#bd3786\"], [0.5555555555555556, \"#d8576b\"], [0.6666666666666666, \"#ed7953\"], [0.7777777777777778, \"#fb9f3a\"], [0.8888888888888888, \"#fdca26\"], [1.0, \"#f0f921\"]], \"type\": \"surface\"}], \"table\": [{\"cells\": {\"fill\": {\"color\": \"#EBF0F8\"}, \"line\": {\"color\": \"white\"}}, \"header\": {\"fill\": {\"color\": \"#C8D4E3\"}, \"line\": {\"color\": \"white\"}}, \"type\": \"table\"}]}, \"layout\": {\"annotationdefaults\": {\"arrowcolor\": \"#2a3f5f\", \"arrowhead\": 0, \"arrowwidth\": 1}, \"coloraxis\": {\"colorbar\": {\"outlinewidth\": 0, \"ticks\": \"\"}}, \"colorscale\": {\"diverging\": [[0, \"#8e0152\"], [0.1, \"#c51b7d\"], [0.2, \"#de77ae\"], [0.3, \"#f1b6da\"], [0.4, \"#fde0ef\"], [0.5, \"#f7f7f7\"], [0.6, \"#e6f5d0\"], [0.7, \"#b8e186\"], [0.8, \"#7fbc41\"], [0.9, \"#4d9221\"], [1, \"#276419\"]], \"sequential\": [[0.0, \"#0d0887\"], [0.1111111111111111, \"#46039f\"], [0.2222222222222222, \"#7201a8\"], [0.3333333333333333, \"#9c179e\"], [0.4444444444444444, \"#bd3786\"], [0.5555555555555556, \"#d8576b\"], [0.6666666666666666, \"#ed7953\"], [0.7777777777777778, \"#fb9f3a\"], [0.8888888888888888, \"#fdca26\"], [1.0, \"#f0f921\"]], \"sequentialminus\": [[0.0, \"#0d0887\"], [0.1111111111111111, \"#46039f\"], [0.2222222222222222, \"#7201a8\"], [0.3333333333333333, \"#9c179e\"], [0.4444444444444444, \"#bd3786\"], [0.5555555555555556, \"#d8576b\"], [0.6666666666666666, \"#ed7953\"], [0.7777777777777778, \"#fb9f3a\"], [0.8888888888888888, \"#fdca26\"], [1.0, \"#f0f921\"]]}, \"colorway\": [\"#636efa\", \"#EF553B\", \"#00cc96\", \"#ab63fa\", \"#FFA15A\", \"#19d3f3\", \"#FF6692\", \"#B6E880\", \"#FF97FF\", \"#FECB52\"], \"font\": {\"color\": \"#2a3f5f\"}, \"geo\": {\"bgcolor\": \"white\", \"lakecolor\": \"white\", \"landcolor\": \"#E5ECF6\", \"showlakes\": true, \"showland\": true, \"subunitcolor\": \"white\"}, \"hoverlabel\": {\"align\": \"left\"}, \"hovermode\": \"closest\", \"mapbox\": {\"style\": \"light\"}, \"paper_bgcolor\": \"white\", \"plot_bgcolor\": \"#E5ECF6\", \"polar\": {\"angularaxis\": {\"gridcolor\": \"white\", \"linecolor\": \"white\", \"ticks\": \"\"}, \"bgcolor\": \"#E5ECF6\", \"radialaxis\": {\"gridcolor\": \"white\", \"linecolor\": \"white\", \"ticks\": \"\"}}, \"scene\": {\"xaxis\": {\"backgroundcolor\": \"#E5ECF6\", \"gridcolor\": \"white\", \"gridwidth\": 2, \"linecolor\": \"white\", \"showbackground\": true, \"ticks\": \"\", \"zerolinecolor\": \"white\"}, \"yaxis\": {\"backgroundcolor\": \"#E5ECF6\", \"gridcolor\": \"white\", \"gridwidth\": 2, \"linecolor\": \"white\", \"showbackground\": true, \"ticks\": \"\", \"zerolinecolor\": \"white\"}, \"zaxis\": {\"backgroundcolor\": \"#E5ECF6\", \"gridcolor\": \"white\", \"gridwidth\": 2, \"linecolor\": \"white\", \"showbackground\": true, \"ticks\": \"\", \"zerolinecolor\": \"white\"}}, \"shapedefaults\": {\"line\": {\"color\": \"#2a3f5f\"}}, \"ternary\": {\"aaxis\": {\"gridcolor\": \"white\", \"linecolor\": \"white\", \"ticks\": \"\"}, \"baxis\": {\"gridcolor\": \"white\", \"linecolor\": \"white\", \"ticks\": \"\"}, \"bgcolor\": \"#E5ECF6\", \"caxis\": {\"gridcolor\": \"white\", \"linecolor\": \"white\", \"ticks\": \"\"}}, \"title\": {\"x\": 0.05}, \"xaxis\": {\"automargin\": true, \"gridcolor\": \"white\", \"linecolor\": \"white\", \"ticks\": \"\", \"title\": {\"standoff\": 15}, \"zerolinecolor\": \"white\", \"zerolinewidth\": 2}, \"yaxis\": {\"automargin\": true, \"gridcolor\": \"white\", \"linecolor\": \"white\", \"ticks\": \"\", \"title\": {\"standoff\": 15}, \"zerolinecolor\": \"white\", \"zerolinewidth\": 2}}}, \"title\": {\"font\": {\"color\": \"#4D5663\"}}, \"xaxis\": {\"gridcolor\": \"#E1E5ED\", \"showgrid\": true, \"tickfont\": {\"color\": \"#4D5663\"}, \"title\": {\"font\": {\"color\": \"#4D5663\"}, \"text\": \"\"}, \"zerolinecolor\": \"#E1E5ED\"}, \"yaxis\": {\"gridcolor\": \"#E1E5ED\", \"showgrid\": true, \"tickfont\": {\"color\": \"#4D5663\"}, \"title\": {\"font\": {\"color\": \"#4D5663\"}, \"text\": \"\"}, \"zerolinecolor\": \"#E1E5ED\"}},\n",
              "                        {\"showLink\": true, \"linkText\": \"Export to plot.ly\", \"plotlyServerURL\": \"https://plot.ly\", \"responsive\": true}\n",
              "                    ).then(function(){\n",
              "                            \n",
              "var gd = document.getElementById('b50f2578-a81e-4abf-8828-d663b7b8e426');\n",
              "var x = new MutationObserver(function (mutations, observer) {{\n",
              "        var display = window.getComputedStyle(gd).display;\n",
              "        if (!display || display === 'none') {{\n",
              "            console.log([gd, 'removed!']);\n",
              "            Plotly.purge(gd);\n",
              "            observer.disconnect();\n",
              "        }}\n",
              "}});\n",
              "\n",
              "// Listen for the removal of the full notebook cells\n",
              "var notebookContainer = gd.closest('#notebook-container');\n",
              "if (notebookContainer) {{\n",
              "    x.observe(notebookContainer, {childList: true});\n",
              "}}\n",
              "\n",
              "// Listen for the clearing of the current output cell\n",
              "var outputEl = gd.closest('.output');\n",
              "if (outputEl) {{\n",
              "    x.observe(outputEl, {childList: true});\n",
              "}}\n",
              "\n",
              "                        })\n",
              "                };\n",
              "                });\n",
              "            </script>\n",
              "        </div>"
            ],
            "application/vnd.plotly.v1+json": {
              "data": [
                {
                  "name": "Values",
                  "text": "",
                  "y": [
                    32,
                    43,
                    50
                  ],
                  "marker": {
                    "color": "rgba(255, 153, 51, 0.6)",
                    "line": {
                      "color": "rgba(255, 153, 51, 1.0)",
                      "width": 1
                    }
                  },
                  "x": [
                    "A",
                    "B",
                    "C"
                  ],
                  "type": "bar",
                  "orientation": "v"
                }
              ],
              "config": {
                "plotlyServerURL": "https://plot.ly",
                "linkText": "Export to plot.ly",
                "showLink": true
              },
              "layout": {
                "template": {
                  "layout": {
                    "shapedefaults": {
                      "line": {
                        "color": "#2a3f5f"
                      }
                    },
                    "polar": {
                      "radialaxis": {
                        "ticks": "",
                        "gridcolor": "white",
                        "linecolor": "white"
                      },
                      "bgcolor": "#E5ECF6",
                      "angularaxis": {
                        "ticks": "",
                        "gridcolor": "white",
                        "linecolor": "white"
                      }
                    },
                    "colorway": [
                      "#636efa",
                      "#EF553B",
                      "#00cc96",
                      "#ab63fa",
                      "#FFA15A",
                      "#19d3f3",
                      "#FF6692",
                      "#B6E880",
                      "#FF97FF",
                      "#FECB52"
                    ],
                    "xaxis": {
                      "automargin": true,
                      "title": {
                        "standoff": 15
                      },
                      "zerolinewidth": 2,
                      "ticks": "",
                      "zerolinecolor": "white",
                      "gridcolor": "white",
                      "linecolor": "white"
                    },
                    "colorscale": {
                      "diverging": [
                        [
                          0,
                          "#8e0152"
                        ],
                        [
                          0.1,
                          "#c51b7d"
                        ],
                        [
                          0.2,
                          "#de77ae"
                        ],
                        [
                          0.3,
                          "#f1b6da"
                        ],
                        [
                          0.4,
                          "#fde0ef"
                        ],
                        [
                          0.5,
                          "#f7f7f7"
                        ],
                        [
                          0.6,
                          "#e6f5d0"
                        ],
                        [
                          0.7,
                          "#b8e186"
                        ],
                        [
                          0.8,
                          "#7fbc41"
                        ],
                        [
                          0.9,
                          "#4d9221"
                        ],
                        [
                          1,
                          "#276419"
                        ]
                      ],
                      "sequential": [
                        [
                          0,
                          "#0d0887"
                        ],
                        [
                          0.1111111111111111,
                          "#46039f"
                        ],
                        [
                          0.2222222222222222,
                          "#7201a8"
                        ],
                        [
                          0.3333333333333333,
                          "#9c179e"
                        ],
                        [
                          0.4444444444444444,
                          "#bd3786"
                        ],
                        [
                          0.5555555555555556,
                          "#d8576b"
                        ],
                        [
                          0.6666666666666666,
                          "#ed7953"
                        ],
                        [
                          0.7777777777777778,
                          "#fb9f3a"
                        ],
                        [
                          0.8888888888888888,
                          "#fdca26"
                        ],
                        [
                          1,
                          "#f0f921"
                        ]
                      ],
                      "sequentialminus": [
                        [
                          0,
                          "#0d0887"
                        ],
                        [
                          0.1111111111111111,
                          "#46039f"
                        ],
                        [
                          0.2222222222222222,
                          "#7201a8"
                        ],
                        [
                          0.3333333333333333,
                          "#9c179e"
                        ],
                        [
                          0.4444444444444444,
                          "#bd3786"
                        ],
                        [
                          0.5555555555555556,
                          "#d8576b"
                        ],
                        [
                          0.6666666666666666,
                          "#ed7953"
                        ],
                        [
                          0.7777777777777778,
                          "#fb9f3a"
                        ],
                        [
                          0.8888888888888888,
                          "#fdca26"
                        ],
                        [
                          1,
                          "#f0f921"
                        ]
                      ]
                    },
                    "paper_bgcolor": "white",
                    "plot_bgcolor": "#E5ECF6",
                    "title": {
                      "x": 0.05
                    },
                    "scene": {
                      "zaxis": {
                        "backgroundcolor": "#E5ECF6",
                        "ticks": "",
                        "gridwidth": 2,
                        "showbackground": true,
                        "zerolinecolor": "white",
                        "gridcolor": "white",
                        "linecolor": "white"
                      },
                      "xaxis": {
                        "backgroundcolor": "#E5ECF6",
                        "ticks": "",
                        "gridwidth": 2,
                        "showbackground": true,
                        "zerolinecolor": "white",
                        "gridcolor": "white",
                        "linecolor": "white"
                      },
                      "yaxis": {
                        "backgroundcolor": "#E5ECF6",
                        "ticks": "",
                        "gridwidth": 2,
                        "showbackground": true,
                        "zerolinecolor": "white",
                        "gridcolor": "white",
                        "linecolor": "white"
                      }
                    },
                    "yaxis": {
                      "automargin": true,
                      "title": {
                        "standoff": 15
                      },
                      "zerolinewidth": 2,
                      "ticks": "",
                      "zerolinecolor": "white",
                      "gridcolor": "white",
                      "linecolor": "white"
                    },
                    "annotationdefaults": {
                      "arrowwidth": 1,
                      "arrowhead": 0,
                      "arrowcolor": "#2a3f5f"
                    },
                    "hoverlabel": {
                      "align": "left"
                    },
                    "ternary": {
                      "bgcolor": "#E5ECF6",
                      "baxis": {
                        "ticks": "",
                        "gridcolor": "white",
                        "linecolor": "white"
                      },
                      "caxis": {
                        "ticks": "",
                        "gridcolor": "white",
                        "linecolor": "white"
                      },
                      "aaxis": {
                        "ticks": "",
                        "gridcolor": "white",
                        "linecolor": "white"
                      }
                    },
                    "mapbox": {
                      "style": "light"
                    },
                    "hovermode": "closest",
                    "font": {
                      "color": "#2a3f5f"
                    },
                    "geo": {
                      "showland": true,
                      "landcolor": "#E5ECF6",
                      "showlakes": true,
                      "bgcolor": "white",
                      "subunitcolor": "white",
                      "lakecolor": "white"
                    },
                    "coloraxis": {
                      "colorbar": {
                        "outlinewidth": 0,
                        "ticks": ""
                      }
                    }
                  },
                  "data": {
                    "mesh3d": [
                      {
                        "colorbar": {
                          "outlinewidth": 0,
                          "ticks": ""
                        },
                        "type": "mesh3d"
                      }
                    ],
                    "scattercarpet": [
                      {
                        "marker": {
                          "colorbar": {
                            "outlinewidth": 0,
                            "ticks": ""
                          }
                        },
                        "type": "scattercarpet"
                      }
                    ],
                    "pie": [
                      {
                        "automargin": true,
                        "type": "pie"
                      }
                    ],
                    "surface": [
                      {
                        "colorbar": {
                          "outlinewidth": 0,
                          "ticks": ""
                        },
                        "type": "surface",
                        "colorscale": [
                          [
                            0,
                            "#0d0887"
                          ],
                          [
                            0.1111111111111111,
                            "#46039f"
                          ],
                          [
                            0.2222222222222222,
                            "#7201a8"
                          ],
                          [
                            0.3333333333333333,
                            "#9c179e"
                          ],
                          [
                            0.4444444444444444,
                            "#bd3786"
                          ],
                          [
                            0.5555555555555556,
                            "#d8576b"
                          ],
                          [
                            0.6666666666666666,
                            "#ed7953"
                          ],
                          [
                            0.7777777777777778,
                            "#fb9f3a"
                          ],
                          [
                            0.8888888888888888,
                            "#fdca26"
                          ],
                          [
                            1,
                            "#f0f921"
                          ]
                        ]
                      }
                    ],
                    "table": [
                      {
                        "header": {
                          "line": {
                            "color": "white"
                          },
                          "fill": {
                            "color": "#C8D4E3"
                          }
                        },
                        "cells": {
                          "line": {
                            "color": "white"
                          },
                          "fill": {
                            "color": "#EBF0F8"
                          }
                        },
                        "type": "table"
                      }
                    ],
                    "scatterpolargl": [
                      {
                        "marker": {
                          "colorbar": {
                            "outlinewidth": 0,
                            "ticks": ""
                          }
                        },
                        "type": "scatterpolargl"
                      }
                    ],
                    "contour": [
                      {
                        "colorbar": {
                          "outlinewidth": 0,
                          "ticks": ""
                        },
                        "type": "contour",
                        "colorscale": [
                          [
                            0,
                            "#0d0887"
                          ],
                          [
                            0.1111111111111111,
                            "#46039f"
                          ],
                          [
                            0.2222222222222222,
                            "#7201a8"
                          ],
                          [
                            0.3333333333333333,
                            "#9c179e"
                          ],
                          [
                            0.4444444444444444,
                            "#bd3786"
                          ],
                          [
                            0.5555555555555556,
                            "#d8576b"
                          ],
                          [
                            0.6666666666666666,
                            "#ed7953"
                          ],
                          [
                            0.7777777777777778,
                            "#fb9f3a"
                          ],
                          [
                            0.8888888888888888,
                            "#fdca26"
                          ],
                          [
                            1,
                            "#f0f921"
                          ]
                        ]
                      }
                    ],
                    "carpet": [
                      {
                        "type": "carpet",
                        "baxis": {
                          "minorgridcolor": "white",
                          "gridcolor": "white",
                          "linecolor": "white",
                          "endlinecolor": "#2a3f5f",
                          "startlinecolor": "#2a3f5f"
                        },
                        "aaxis": {
                          "minorgridcolor": "white",
                          "gridcolor": "white",
                          "linecolor": "white",
                          "endlinecolor": "#2a3f5f",
                          "startlinecolor": "#2a3f5f"
                        }
                      }
                    ],
                    "contourcarpet": [
                      {
                        "colorbar": {
                          "outlinewidth": 0,
                          "ticks": ""
                        },
                        "type": "contourcarpet"
                      }
                    ],
                    "heatmap": [
                      {
                        "colorbar": {
                          "outlinewidth": 0,
                          "ticks": ""
                        },
                        "type": "heatmap",
                        "colorscale": [
                          [
                            0,
                            "#0d0887"
                          ],
                          [
                            0.1111111111111111,
                            "#46039f"
                          ],
                          [
                            0.2222222222222222,
                            "#7201a8"
                          ],
                          [
                            0.3333333333333333,
                            "#9c179e"
                          ],
                          [
                            0.4444444444444444,
                            "#bd3786"
                          ],
                          [
                            0.5555555555555556,
                            "#d8576b"
                          ],
                          [
                            0.6666666666666666,
                            "#ed7953"
                          ],
                          [
                            0.7777777777777778,
                            "#fb9f3a"
                          ],
                          [
                            0.8888888888888888,
                            "#fdca26"
                          ],
                          [
                            1,
                            "#f0f921"
                          ]
                        ]
                      }
                    ],
                    "scattermapbox": [
                      {
                        "marker": {
                          "colorbar": {
                            "outlinewidth": 0,
                            "ticks": ""
                          }
                        },
                        "type": "scattermapbox"
                      }
                    ],
                    "scatter3d": [
                      {
                        "marker": {
                          "colorbar": {
                            "outlinewidth": 0,
                            "ticks": ""
                          }
                        },
                        "line": {
                          "colorbar": {
                            "outlinewidth": 0,
                            "ticks": ""
                          }
                        },
                        "type": "scatter3d"
                      }
                    ],
                    "scattergl": [
                      {
                        "marker": {
                          "colorbar": {
                            "outlinewidth": 0,
                            "ticks": ""
                          }
                        },
                        "type": "scattergl"
                      }
                    ],
                    "scatterternary": [
                      {
                        "marker": {
                          "colorbar": {
                            "outlinewidth": 0,
                            "ticks": ""
                          }
                        },
                        "type": "scatterternary"
                      }
                    ],
                    "histogram": [
                      {
                        "marker": {
                          "colorbar": {
                            "outlinewidth": 0,
                            "ticks": ""
                          }
                        },
                        "type": "histogram"
                      }
                    ],
                    "heatmapgl": [
                      {
                        "colorbar": {
                          "outlinewidth": 0,
                          "ticks": ""
                        },
                        "type": "heatmapgl",
                        "colorscale": [
                          [
                            0,
                            "#0d0887"
                          ],
                          [
                            0.1111111111111111,
                            "#46039f"
                          ],
                          [
                            0.2222222222222222,
                            "#7201a8"
                          ],
                          [
                            0.3333333333333333,
                            "#9c179e"
                          ],
                          [
                            0.4444444444444444,
                            "#bd3786"
                          ],
                          [
                            0.5555555555555556,
                            "#d8576b"
                          ],
                          [
                            0.6666666666666666,
                            "#ed7953"
                          ],
                          [
                            0.7777777777777778,
                            "#fb9f3a"
                          ],
                          [
                            0.8888888888888888,
                            "#fdca26"
                          ],
                          [
                            1,
                            "#f0f921"
                          ]
                        ]
                      }
                    ],
                    "scatterpolar": [
                      {
                        "marker": {
                          "colorbar": {
                            "outlinewidth": 0,
                            "ticks": ""
                          }
                        },
                        "type": "scatterpolar"
                      }
                    ],
                    "histogram2d": [
                      {
                        "colorbar": {
                          "outlinewidth": 0,
                          "ticks": ""
                        },
                        "type": "histogram2d",
                        "colorscale": [
                          [
                            0,
                            "#0d0887"
                          ],
                          [
                            0.1111111111111111,
                            "#46039f"
                          ],
                          [
                            0.2222222222222222,
                            "#7201a8"
                          ],
                          [
                            0.3333333333333333,
                            "#9c179e"
                          ],
                          [
                            0.4444444444444444,
                            "#bd3786"
                          ],
                          [
                            0.5555555555555556,
                            "#d8576b"
                          ],
                          [
                            0.6666666666666666,
                            "#ed7953"
                          ],
                          [
                            0.7777777777777778,
                            "#fb9f3a"
                          ],
                          [
                            0.8888888888888888,
                            "#fdca26"
                          ],
                          [
                            1,
                            "#f0f921"
                          ]
                        ]
                      }
                    ],
                    "scattergeo": [
                      {
                        "marker": {
                          "colorbar": {
                            "outlinewidth": 0,
                            "ticks": ""
                          }
                        },
                        "type": "scattergeo"
                      }
                    ],
                    "bar": [
                      {
                        "marker": {
                          "line": {
                            "color": "#E5ECF6",
                            "width": 0.5
                          }
                        },
                        "type": "bar",
                        "error_x": {
                          "color": "#2a3f5f"
                        },
                        "error_y": {
                          "color": "#2a3f5f"
                        }
                      }
                    ],
                    "choropleth": [
                      {
                        "colorbar": {
                          "outlinewidth": 0,
                          "ticks": ""
                        },
                        "type": "choropleth"
                      }
                    ],
                    "parcoords": [
                      {
                        "line": {
                          "colorbar": {
                            "outlinewidth": 0,
                            "ticks": ""
                          }
                        },
                        "type": "parcoords"
                      }
                    ],
                    "barpolar": [
                      {
                        "marker": {
                          "line": {
                            "color": "#E5ECF6",
                            "width": 0.5
                          }
                        },
                        "type": "barpolar"
                      }
                    ],
                    "histogram2dcontour": [
                      {
                        "colorbar": {
                          "outlinewidth": 0,
                          "ticks": ""
                        },
                        "type": "histogram2dcontour",
                        "colorscale": [
                          [
                            0,
                            "#0d0887"
                          ],
                          [
                            0.1111111111111111,
                            "#46039f"
                          ],
                          [
                            0.2222222222222222,
                            "#7201a8"
                          ],
                          [
                            0.3333333333333333,
                            "#9c179e"
                          ],
                          [
                            0.4444444444444444,
                            "#bd3786"
                          ],
                          [
                            0.5555555555555556,
                            "#d8576b"
                          ],
                          [
                            0.6666666666666666,
                            "#ed7953"
                          ],
                          [
                            0.7777777777777778,
                            "#fb9f3a"
                          ],
                          [
                            0.8888888888888888,
                            "#fdca26"
                          ],
                          [
                            1,
                            "#f0f921"
                          ]
                        ]
                      }
                    ],
                    "scatter": [
                      {
                        "marker": {
                          "colorbar": {
                            "outlinewidth": 0,
                            "ticks": ""
                          }
                        },
                        "type": "scatter"
                      }
                    ]
                  }
                },
                "title": {
                  "font": {
                    "color": "#4D5663"
                  }
                },
                "paper_bgcolor": "#F5F6F9",
                "plot_bgcolor": "#F5F6F9",
                "yaxis": {
                  "tickfont": {
                    "color": "#4D5663"
                  },
                  "zerolinecolor": "#E1E5ED",
                  "title": {
                    "text": "",
                    "font": {
                      "color": "#4D5663"
                    }
                  },
                  "gridcolor": "#E1E5ED",
                  "showgrid": true
                },
                "xaxis": {
                  "tickfont": {
                    "color": "#4D5663"
                  },
                  "zerolinecolor": "#E1E5ED",
                  "title": {
                    "text": "",
                    "font": {
                      "color": "#4D5663"
                    }
                  },
                  "gridcolor": "#E1E5ED",
                  "showgrid": true
                },
                "legend": {
                  "bgcolor": "#F5F6F9",
                  "font": {
                    "color": "#4D5663"
                  }
                }
              }
            }
          },
          "metadata": {}
        }
      ]
    },
    {
      "cell_type": "code",
      "metadata": {
        "id": "vRqIWkAHJLza",
        "outputId": "b34d342a-191e-4f82-93b5-a4c3706fe579",
        "colab": {
          "base_uri": "https://localhost:8080/",
          "height": 542
        }
      },
      "source": [
        "df.count().iplot(kind='bar')"
      ],
      "execution_count": 49,
      "outputs": [
        {
          "output_type": "display_data",
          "data": {
            "text/html": [
              "<div>\n",
              "        \n",
              "        \n",
              "            <div id=\"193ed3f5-760c-4935-a9b7-d414a3db0789\" class=\"plotly-graph-div\" style=\"height:525px; width:100%;\"></div>\n",
              "            <script type=\"text/javascript\">\n",
              "                require([\"plotly\"], function(Plotly) {\n",
              "                    window.PLOTLYENV=window.PLOTLYENV || {};\n",
              "                    window.PLOTLYENV.BASE_URL='https://plot.ly';\n",
              "                    \n",
              "                if (document.getElementById(\"193ed3f5-760c-4935-a9b7-d414a3db0789\")) {\n",
              "                    Plotly.newPlot(\n",
              "                        '193ed3f5-760c-4935-a9b7-d414a3db0789',\n",
              "                        [{\"marker\": {\"color\": \"rgba(255, 153, 51, 0.6)\", \"line\": {\"color\": \"rgba(255, 153, 51, 1.0)\", \"width\": 1}}, \"name\": \"None\", \"orientation\": \"v\", \"text\": \"\", \"type\": \"bar\", \"x\": [\"A\", \"B\", \"C\", \"D\"], \"y\": [100, 100, 100, 100]}],\n",
              "                        {\"legend\": {\"bgcolor\": \"#F5F6F9\", \"font\": {\"color\": \"#4D5663\"}}, \"paper_bgcolor\": \"#F5F6F9\", \"plot_bgcolor\": \"#F5F6F9\", \"template\": {\"data\": {\"bar\": [{\"error_x\": {\"color\": \"#2a3f5f\"}, \"error_y\": {\"color\": \"#2a3f5f\"}, \"marker\": {\"line\": {\"color\": \"#E5ECF6\", \"width\": 0.5}}, \"type\": \"bar\"}], \"barpolar\": [{\"marker\": {\"line\": {\"color\": \"#E5ECF6\", \"width\": 0.5}}, \"type\": \"barpolar\"}], \"carpet\": [{\"aaxis\": {\"endlinecolor\": \"#2a3f5f\", \"gridcolor\": \"white\", \"linecolor\": \"white\", \"minorgridcolor\": \"white\", \"startlinecolor\": \"#2a3f5f\"}, \"baxis\": {\"endlinecolor\": \"#2a3f5f\", \"gridcolor\": \"white\", \"linecolor\": \"white\", \"minorgridcolor\": \"white\", \"startlinecolor\": \"#2a3f5f\"}, \"type\": \"carpet\"}], \"choropleth\": [{\"colorbar\": {\"outlinewidth\": 0, \"ticks\": \"\"}, \"type\": \"choropleth\"}], \"contour\": [{\"colorbar\": {\"outlinewidth\": 0, \"ticks\": \"\"}, \"colorscale\": [[0.0, \"#0d0887\"], [0.1111111111111111, \"#46039f\"], [0.2222222222222222, \"#7201a8\"], [0.3333333333333333, \"#9c179e\"], [0.4444444444444444, \"#bd3786\"], [0.5555555555555556, \"#d8576b\"], [0.6666666666666666, \"#ed7953\"], [0.7777777777777778, \"#fb9f3a\"], [0.8888888888888888, \"#fdca26\"], [1.0, \"#f0f921\"]], \"type\": \"contour\"}], \"contourcarpet\": [{\"colorbar\": {\"outlinewidth\": 0, \"ticks\": \"\"}, \"type\": \"contourcarpet\"}], \"heatmap\": [{\"colorbar\": {\"outlinewidth\": 0, \"ticks\": \"\"}, \"colorscale\": [[0.0, \"#0d0887\"], [0.1111111111111111, \"#46039f\"], [0.2222222222222222, \"#7201a8\"], [0.3333333333333333, \"#9c179e\"], [0.4444444444444444, \"#bd3786\"], [0.5555555555555556, \"#d8576b\"], [0.6666666666666666, \"#ed7953\"], [0.7777777777777778, \"#fb9f3a\"], [0.8888888888888888, \"#fdca26\"], [1.0, \"#f0f921\"]], \"type\": \"heatmap\"}], \"heatmapgl\": [{\"colorbar\": {\"outlinewidth\": 0, \"ticks\": \"\"}, \"colorscale\": [[0.0, \"#0d0887\"], [0.1111111111111111, \"#46039f\"], [0.2222222222222222, \"#7201a8\"], [0.3333333333333333, \"#9c179e\"], [0.4444444444444444, \"#bd3786\"], [0.5555555555555556, \"#d8576b\"], [0.6666666666666666, \"#ed7953\"], [0.7777777777777778, \"#fb9f3a\"], [0.8888888888888888, \"#fdca26\"], [1.0, \"#f0f921\"]], \"type\": \"heatmapgl\"}], \"histogram\": [{\"marker\": {\"colorbar\": {\"outlinewidth\": 0, \"ticks\": \"\"}}, \"type\": \"histogram\"}], \"histogram2d\": [{\"colorbar\": {\"outlinewidth\": 0, \"ticks\": \"\"}, \"colorscale\": [[0.0, \"#0d0887\"], [0.1111111111111111, \"#46039f\"], [0.2222222222222222, \"#7201a8\"], [0.3333333333333333, \"#9c179e\"], [0.4444444444444444, \"#bd3786\"], [0.5555555555555556, \"#d8576b\"], [0.6666666666666666, \"#ed7953\"], [0.7777777777777778, \"#fb9f3a\"], [0.8888888888888888, \"#fdca26\"], [1.0, \"#f0f921\"]], \"type\": \"histogram2d\"}], \"histogram2dcontour\": [{\"colorbar\": {\"outlinewidth\": 0, \"ticks\": \"\"}, \"colorscale\": [[0.0, \"#0d0887\"], [0.1111111111111111, \"#46039f\"], [0.2222222222222222, \"#7201a8\"], [0.3333333333333333, \"#9c179e\"], [0.4444444444444444, \"#bd3786\"], [0.5555555555555556, \"#d8576b\"], [0.6666666666666666, \"#ed7953\"], [0.7777777777777778, \"#fb9f3a\"], [0.8888888888888888, \"#fdca26\"], [1.0, \"#f0f921\"]], \"type\": \"histogram2dcontour\"}], \"mesh3d\": [{\"colorbar\": {\"outlinewidth\": 0, \"ticks\": \"\"}, \"type\": \"mesh3d\"}], \"parcoords\": [{\"line\": {\"colorbar\": {\"outlinewidth\": 0, \"ticks\": \"\"}}, \"type\": \"parcoords\"}], \"pie\": [{\"automargin\": true, \"type\": \"pie\"}], \"scatter\": [{\"marker\": {\"colorbar\": {\"outlinewidth\": 0, \"ticks\": \"\"}}, \"type\": \"scatter\"}], \"scatter3d\": [{\"line\": {\"colorbar\": {\"outlinewidth\": 0, \"ticks\": \"\"}}, \"marker\": {\"colorbar\": {\"outlinewidth\": 0, \"ticks\": \"\"}}, \"type\": \"scatter3d\"}], \"scattercarpet\": [{\"marker\": {\"colorbar\": {\"outlinewidth\": 0, \"ticks\": \"\"}}, \"type\": \"scattercarpet\"}], \"scattergeo\": [{\"marker\": {\"colorbar\": {\"outlinewidth\": 0, \"ticks\": \"\"}}, \"type\": \"scattergeo\"}], \"scattergl\": [{\"marker\": {\"colorbar\": {\"outlinewidth\": 0, \"ticks\": \"\"}}, \"type\": \"scattergl\"}], \"scattermapbox\": [{\"marker\": {\"colorbar\": {\"outlinewidth\": 0, \"ticks\": \"\"}}, \"type\": \"scattermapbox\"}], \"scatterpolar\": [{\"marker\": {\"colorbar\": {\"outlinewidth\": 0, \"ticks\": \"\"}}, \"type\": \"scatterpolar\"}], \"scatterpolargl\": [{\"marker\": {\"colorbar\": {\"outlinewidth\": 0, \"ticks\": \"\"}}, \"type\": \"scatterpolargl\"}], \"scatterternary\": [{\"marker\": {\"colorbar\": {\"outlinewidth\": 0, \"ticks\": \"\"}}, \"type\": \"scatterternary\"}], \"surface\": [{\"colorbar\": {\"outlinewidth\": 0, \"ticks\": \"\"}, \"colorscale\": [[0.0, \"#0d0887\"], [0.1111111111111111, \"#46039f\"], [0.2222222222222222, \"#7201a8\"], [0.3333333333333333, \"#9c179e\"], [0.4444444444444444, \"#bd3786\"], [0.5555555555555556, \"#d8576b\"], [0.6666666666666666, \"#ed7953\"], [0.7777777777777778, \"#fb9f3a\"], [0.8888888888888888, \"#fdca26\"], [1.0, \"#f0f921\"]], \"type\": \"surface\"}], \"table\": [{\"cells\": {\"fill\": {\"color\": \"#EBF0F8\"}, \"line\": {\"color\": \"white\"}}, \"header\": {\"fill\": {\"color\": \"#C8D4E3\"}, \"line\": {\"color\": \"white\"}}, \"type\": \"table\"}]}, \"layout\": {\"annotationdefaults\": {\"arrowcolor\": \"#2a3f5f\", \"arrowhead\": 0, \"arrowwidth\": 1}, \"coloraxis\": {\"colorbar\": {\"outlinewidth\": 0, \"ticks\": \"\"}}, \"colorscale\": {\"diverging\": [[0, \"#8e0152\"], [0.1, \"#c51b7d\"], [0.2, \"#de77ae\"], [0.3, \"#f1b6da\"], [0.4, \"#fde0ef\"], [0.5, \"#f7f7f7\"], [0.6, \"#e6f5d0\"], [0.7, \"#b8e186\"], [0.8, \"#7fbc41\"], [0.9, \"#4d9221\"], [1, \"#276419\"]], \"sequential\": [[0.0, \"#0d0887\"], [0.1111111111111111, \"#46039f\"], [0.2222222222222222, \"#7201a8\"], [0.3333333333333333, \"#9c179e\"], [0.4444444444444444, \"#bd3786\"], [0.5555555555555556, \"#d8576b\"], [0.6666666666666666, \"#ed7953\"], [0.7777777777777778, \"#fb9f3a\"], [0.8888888888888888, \"#fdca26\"], [1.0, \"#f0f921\"]], \"sequentialminus\": [[0.0, \"#0d0887\"], [0.1111111111111111, \"#46039f\"], [0.2222222222222222, \"#7201a8\"], [0.3333333333333333, \"#9c179e\"], [0.4444444444444444, \"#bd3786\"], [0.5555555555555556, \"#d8576b\"], [0.6666666666666666, \"#ed7953\"], [0.7777777777777778, \"#fb9f3a\"], [0.8888888888888888, \"#fdca26\"], [1.0, \"#f0f921\"]]}, \"colorway\": [\"#636efa\", \"#EF553B\", \"#00cc96\", \"#ab63fa\", \"#FFA15A\", \"#19d3f3\", \"#FF6692\", \"#B6E880\", \"#FF97FF\", \"#FECB52\"], \"font\": {\"color\": \"#2a3f5f\"}, \"geo\": {\"bgcolor\": \"white\", \"lakecolor\": \"white\", \"landcolor\": \"#E5ECF6\", \"showlakes\": true, \"showland\": true, \"subunitcolor\": \"white\"}, \"hoverlabel\": {\"align\": \"left\"}, \"hovermode\": \"closest\", \"mapbox\": {\"style\": \"light\"}, \"paper_bgcolor\": \"white\", \"plot_bgcolor\": \"#E5ECF6\", \"polar\": {\"angularaxis\": {\"gridcolor\": \"white\", \"linecolor\": \"white\", \"ticks\": \"\"}, \"bgcolor\": \"#E5ECF6\", \"radialaxis\": {\"gridcolor\": \"white\", \"linecolor\": \"white\", \"ticks\": \"\"}}, \"scene\": {\"xaxis\": {\"backgroundcolor\": \"#E5ECF6\", \"gridcolor\": \"white\", \"gridwidth\": 2, \"linecolor\": \"white\", \"showbackground\": true, \"ticks\": \"\", \"zerolinecolor\": \"white\"}, \"yaxis\": {\"backgroundcolor\": \"#E5ECF6\", \"gridcolor\": \"white\", \"gridwidth\": 2, \"linecolor\": \"white\", \"showbackground\": true, \"ticks\": \"\", \"zerolinecolor\": \"white\"}, \"zaxis\": {\"backgroundcolor\": \"#E5ECF6\", \"gridcolor\": \"white\", \"gridwidth\": 2, \"linecolor\": \"white\", \"showbackground\": true, \"ticks\": \"\", \"zerolinecolor\": \"white\"}}, \"shapedefaults\": {\"line\": {\"color\": \"#2a3f5f\"}}, \"ternary\": {\"aaxis\": {\"gridcolor\": \"white\", \"linecolor\": \"white\", \"ticks\": \"\"}, \"baxis\": {\"gridcolor\": \"white\", \"linecolor\": \"white\", \"ticks\": \"\"}, \"bgcolor\": \"#E5ECF6\", \"caxis\": {\"gridcolor\": \"white\", \"linecolor\": \"white\", \"ticks\": \"\"}}, \"title\": {\"x\": 0.05}, \"xaxis\": {\"automargin\": true, \"gridcolor\": \"white\", \"linecolor\": \"white\", \"ticks\": \"\", \"title\": {\"standoff\": 15}, \"zerolinecolor\": \"white\", \"zerolinewidth\": 2}, \"yaxis\": {\"automargin\": true, \"gridcolor\": \"white\", \"linecolor\": \"white\", \"ticks\": \"\", \"title\": {\"standoff\": 15}, \"zerolinecolor\": \"white\", \"zerolinewidth\": 2}}}, \"title\": {\"font\": {\"color\": \"#4D5663\"}}, \"xaxis\": {\"gridcolor\": \"#E1E5ED\", \"showgrid\": true, \"tickfont\": {\"color\": \"#4D5663\"}, \"title\": {\"font\": {\"color\": \"#4D5663\"}, \"text\": \"\"}, \"zerolinecolor\": \"#E1E5ED\"}, \"yaxis\": {\"gridcolor\": \"#E1E5ED\", \"showgrid\": true, \"tickfont\": {\"color\": \"#4D5663\"}, \"title\": {\"font\": {\"color\": \"#4D5663\"}, \"text\": \"\"}, \"zerolinecolor\": \"#E1E5ED\"}},\n",
              "                        {\"showLink\": true, \"linkText\": \"Export to plot.ly\", \"plotlyServerURL\": \"https://plot.ly\", \"responsive\": true}\n",
              "                    ).then(function(){\n",
              "                            \n",
              "var gd = document.getElementById('193ed3f5-760c-4935-a9b7-d414a3db0789');\n",
              "var x = new MutationObserver(function (mutations, observer) {{\n",
              "        var display = window.getComputedStyle(gd).display;\n",
              "        if (!display || display === 'none') {{\n",
              "            console.log([gd, 'removed!']);\n",
              "            Plotly.purge(gd);\n",
              "            observer.disconnect();\n",
              "        }}\n",
              "}});\n",
              "\n",
              "// Listen for the removal of the full notebook cells\n",
              "var notebookContainer = gd.closest('#notebook-container');\n",
              "if (notebookContainer) {{\n",
              "    x.observe(notebookContainer, {childList: true});\n",
              "}}\n",
              "\n",
              "// Listen for the clearing of the current output cell\n",
              "var outputEl = gd.closest('.output');\n",
              "if (outputEl) {{\n",
              "    x.observe(outputEl, {childList: true});\n",
              "}}\n",
              "\n",
              "                        })\n",
              "                };\n",
              "                });\n",
              "            </script>\n",
              "        </div>"
            ],
            "application/vnd.plotly.v1+json": {
              "data": [
                {
                  "name": "None",
                  "text": "",
                  "y": [
                    100,
                    100,
                    100,
                    100
                  ],
                  "marker": {
                    "color": "rgba(255, 153, 51, 0.6)",
                    "line": {
                      "color": "rgba(255, 153, 51, 1.0)",
                      "width": 1
                    }
                  },
                  "x": [
                    "A",
                    "B",
                    "C",
                    "D"
                  ],
                  "type": "bar",
                  "orientation": "v"
                }
              ],
              "config": {
                "plotlyServerURL": "https://plot.ly",
                "linkText": "Export to plot.ly",
                "showLink": true
              },
              "layout": {
                "template": {
                  "layout": {
                    "shapedefaults": {
                      "line": {
                        "color": "#2a3f5f"
                      }
                    },
                    "polar": {
                      "radialaxis": {
                        "ticks": "",
                        "gridcolor": "white",
                        "linecolor": "white"
                      },
                      "bgcolor": "#E5ECF6",
                      "angularaxis": {
                        "ticks": "",
                        "gridcolor": "white",
                        "linecolor": "white"
                      }
                    },
                    "colorway": [
                      "#636efa",
                      "#EF553B",
                      "#00cc96",
                      "#ab63fa",
                      "#FFA15A",
                      "#19d3f3",
                      "#FF6692",
                      "#B6E880",
                      "#FF97FF",
                      "#FECB52"
                    ],
                    "xaxis": {
                      "automargin": true,
                      "title": {
                        "standoff": 15
                      },
                      "zerolinewidth": 2,
                      "ticks": "",
                      "zerolinecolor": "white",
                      "gridcolor": "white",
                      "linecolor": "white"
                    },
                    "colorscale": {
                      "diverging": [
                        [
                          0,
                          "#8e0152"
                        ],
                        [
                          0.1,
                          "#c51b7d"
                        ],
                        [
                          0.2,
                          "#de77ae"
                        ],
                        [
                          0.3,
                          "#f1b6da"
                        ],
                        [
                          0.4,
                          "#fde0ef"
                        ],
                        [
                          0.5,
                          "#f7f7f7"
                        ],
                        [
                          0.6,
                          "#e6f5d0"
                        ],
                        [
                          0.7,
                          "#b8e186"
                        ],
                        [
                          0.8,
                          "#7fbc41"
                        ],
                        [
                          0.9,
                          "#4d9221"
                        ],
                        [
                          1,
                          "#276419"
                        ]
                      ],
                      "sequential": [
                        [
                          0,
                          "#0d0887"
                        ],
                        [
                          0.1111111111111111,
                          "#46039f"
                        ],
                        [
                          0.2222222222222222,
                          "#7201a8"
                        ],
                        [
                          0.3333333333333333,
                          "#9c179e"
                        ],
                        [
                          0.4444444444444444,
                          "#bd3786"
                        ],
                        [
                          0.5555555555555556,
                          "#d8576b"
                        ],
                        [
                          0.6666666666666666,
                          "#ed7953"
                        ],
                        [
                          0.7777777777777778,
                          "#fb9f3a"
                        ],
                        [
                          0.8888888888888888,
                          "#fdca26"
                        ],
                        [
                          1,
                          "#f0f921"
                        ]
                      ],
                      "sequentialminus": [
                        [
                          0,
                          "#0d0887"
                        ],
                        [
                          0.1111111111111111,
                          "#46039f"
                        ],
                        [
                          0.2222222222222222,
                          "#7201a8"
                        ],
                        [
                          0.3333333333333333,
                          "#9c179e"
                        ],
                        [
                          0.4444444444444444,
                          "#bd3786"
                        ],
                        [
                          0.5555555555555556,
                          "#d8576b"
                        ],
                        [
                          0.6666666666666666,
                          "#ed7953"
                        ],
                        [
                          0.7777777777777778,
                          "#fb9f3a"
                        ],
                        [
                          0.8888888888888888,
                          "#fdca26"
                        ],
                        [
                          1,
                          "#f0f921"
                        ]
                      ]
                    },
                    "paper_bgcolor": "white",
                    "plot_bgcolor": "#E5ECF6",
                    "title": {
                      "x": 0.05
                    },
                    "scene": {
                      "zaxis": {
                        "backgroundcolor": "#E5ECF6",
                        "ticks": "",
                        "gridwidth": 2,
                        "showbackground": true,
                        "zerolinecolor": "white",
                        "gridcolor": "white",
                        "linecolor": "white"
                      },
                      "xaxis": {
                        "backgroundcolor": "#E5ECF6",
                        "ticks": "",
                        "gridwidth": 2,
                        "showbackground": true,
                        "zerolinecolor": "white",
                        "gridcolor": "white",
                        "linecolor": "white"
                      },
                      "yaxis": {
                        "backgroundcolor": "#E5ECF6",
                        "ticks": "",
                        "gridwidth": 2,
                        "showbackground": true,
                        "zerolinecolor": "white",
                        "gridcolor": "white",
                        "linecolor": "white"
                      }
                    },
                    "yaxis": {
                      "automargin": true,
                      "title": {
                        "standoff": 15
                      },
                      "zerolinewidth": 2,
                      "ticks": "",
                      "zerolinecolor": "white",
                      "gridcolor": "white",
                      "linecolor": "white"
                    },
                    "annotationdefaults": {
                      "arrowwidth": 1,
                      "arrowhead": 0,
                      "arrowcolor": "#2a3f5f"
                    },
                    "hoverlabel": {
                      "align": "left"
                    },
                    "ternary": {
                      "bgcolor": "#E5ECF6",
                      "baxis": {
                        "ticks": "",
                        "gridcolor": "white",
                        "linecolor": "white"
                      },
                      "caxis": {
                        "ticks": "",
                        "gridcolor": "white",
                        "linecolor": "white"
                      },
                      "aaxis": {
                        "ticks": "",
                        "gridcolor": "white",
                        "linecolor": "white"
                      }
                    },
                    "mapbox": {
                      "style": "light"
                    },
                    "hovermode": "closest",
                    "font": {
                      "color": "#2a3f5f"
                    },
                    "geo": {
                      "showland": true,
                      "landcolor": "#E5ECF6",
                      "showlakes": true,
                      "bgcolor": "white",
                      "subunitcolor": "white",
                      "lakecolor": "white"
                    },
                    "coloraxis": {
                      "colorbar": {
                        "outlinewidth": 0,
                        "ticks": ""
                      }
                    }
                  },
                  "data": {
                    "mesh3d": [
                      {
                        "colorbar": {
                          "outlinewidth": 0,
                          "ticks": ""
                        },
                        "type": "mesh3d"
                      }
                    ],
                    "scattercarpet": [
                      {
                        "marker": {
                          "colorbar": {
                            "outlinewidth": 0,
                            "ticks": ""
                          }
                        },
                        "type": "scattercarpet"
                      }
                    ],
                    "pie": [
                      {
                        "automargin": true,
                        "type": "pie"
                      }
                    ],
                    "surface": [
                      {
                        "colorbar": {
                          "outlinewidth": 0,
                          "ticks": ""
                        },
                        "type": "surface",
                        "colorscale": [
                          [
                            0,
                            "#0d0887"
                          ],
                          [
                            0.1111111111111111,
                            "#46039f"
                          ],
                          [
                            0.2222222222222222,
                            "#7201a8"
                          ],
                          [
                            0.3333333333333333,
                            "#9c179e"
                          ],
                          [
                            0.4444444444444444,
                            "#bd3786"
                          ],
                          [
                            0.5555555555555556,
                            "#d8576b"
                          ],
                          [
                            0.6666666666666666,
                            "#ed7953"
                          ],
                          [
                            0.7777777777777778,
                            "#fb9f3a"
                          ],
                          [
                            0.8888888888888888,
                            "#fdca26"
                          ],
                          [
                            1,
                            "#f0f921"
                          ]
                        ]
                      }
                    ],
                    "table": [
                      {
                        "header": {
                          "line": {
                            "color": "white"
                          },
                          "fill": {
                            "color": "#C8D4E3"
                          }
                        },
                        "cells": {
                          "line": {
                            "color": "white"
                          },
                          "fill": {
                            "color": "#EBF0F8"
                          }
                        },
                        "type": "table"
                      }
                    ],
                    "scatterpolargl": [
                      {
                        "marker": {
                          "colorbar": {
                            "outlinewidth": 0,
                            "ticks": ""
                          }
                        },
                        "type": "scatterpolargl"
                      }
                    ],
                    "contour": [
                      {
                        "colorbar": {
                          "outlinewidth": 0,
                          "ticks": ""
                        },
                        "type": "contour",
                        "colorscale": [
                          [
                            0,
                            "#0d0887"
                          ],
                          [
                            0.1111111111111111,
                            "#46039f"
                          ],
                          [
                            0.2222222222222222,
                            "#7201a8"
                          ],
                          [
                            0.3333333333333333,
                            "#9c179e"
                          ],
                          [
                            0.4444444444444444,
                            "#bd3786"
                          ],
                          [
                            0.5555555555555556,
                            "#d8576b"
                          ],
                          [
                            0.6666666666666666,
                            "#ed7953"
                          ],
                          [
                            0.7777777777777778,
                            "#fb9f3a"
                          ],
                          [
                            0.8888888888888888,
                            "#fdca26"
                          ],
                          [
                            1,
                            "#f0f921"
                          ]
                        ]
                      }
                    ],
                    "carpet": [
                      {
                        "type": "carpet",
                        "baxis": {
                          "minorgridcolor": "white",
                          "gridcolor": "white",
                          "linecolor": "white",
                          "endlinecolor": "#2a3f5f",
                          "startlinecolor": "#2a3f5f"
                        },
                        "aaxis": {
                          "minorgridcolor": "white",
                          "gridcolor": "white",
                          "linecolor": "white",
                          "endlinecolor": "#2a3f5f",
                          "startlinecolor": "#2a3f5f"
                        }
                      }
                    ],
                    "contourcarpet": [
                      {
                        "colorbar": {
                          "outlinewidth": 0,
                          "ticks": ""
                        },
                        "type": "contourcarpet"
                      }
                    ],
                    "heatmap": [
                      {
                        "colorbar": {
                          "outlinewidth": 0,
                          "ticks": ""
                        },
                        "type": "heatmap",
                        "colorscale": [
                          [
                            0,
                            "#0d0887"
                          ],
                          [
                            0.1111111111111111,
                            "#46039f"
                          ],
                          [
                            0.2222222222222222,
                            "#7201a8"
                          ],
                          [
                            0.3333333333333333,
                            "#9c179e"
                          ],
                          [
                            0.4444444444444444,
                            "#bd3786"
                          ],
                          [
                            0.5555555555555556,
                            "#d8576b"
                          ],
                          [
                            0.6666666666666666,
                            "#ed7953"
                          ],
                          [
                            0.7777777777777778,
                            "#fb9f3a"
                          ],
                          [
                            0.8888888888888888,
                            "#fdca26"
                          ],
                          [
                            1,
                            "#f0f921"
                          ]
                        ]
                      }
                    ],
                    "scattermapbox": [
                      {
                        "marker": {
                          "colorbar": {
                            "outlinewidth": 0,
                            "ticks": ""
                          }
                        },
                        "type": "scattermapbox"
                      }
                    ],
                    "scatter3d": [
                      {
                        "marker": {
                          "colorbar": {
                            "outlinewidth": 0,
                            "ticks": ""
                          }
                        },
                        "line": {
                          "colorbar": {
                            "outlinewidth": 0,
                            "ticks": ""
                          }
                        },
                        "type": "scatter3d"
                      }
                    ],
                    "scattergl": [
                      {
                        "marker": {
                          "colorbar": {
                            "outlinewidth": 0,
                            "ticks": ""
                          }
                        },
                        "type": "scattergl"
                      }
                    ],
                    "scatterternary": [
                      {
                        "marker": {
                          "colorbar": {
                            "outlinewidth": 0,
                            "ticks": ""
                          }
                        },
                        "type": "scatterternary"
                      }
                    ],
                    "histogram": [
                      {
                        "marker": {
                          "colorbar": {
                            "outlinewidth": 0,
                            "ticks": ""
                          }
                        },
                        "type": "histogram"
                      }
                    ],
                    "heatmapgl": [
                      {
                        "colorbar": {
                          "outlinewidth": 0,
                          "ticks": ""
                        },
                        "type": "heatmapgl",
                        "colorscale": [
                          [
                            0,
                            "#0d0887"
                          ],
                          [
                            0.1111111111111111,
                            "#46039f"
                          ],
                          [
                            0.2222222222222222,
                            "#7201a8"
                          ],
                          [
                            0.3333333333333333,
                            "#9c179e"
                          ],
                          [
                            0.4444444444444444,
                            "#bd3786"
                          ],
                          [
                            0.5555555555555556,
                            "#d8576b"
                          ],
                          [
                            0.6666666666666666,
                            "#ed7953"
                          ],
                          [
                            0.7777777777777778,
                            "#fb9f3a"
                          ],
                          [
                            0.8888888888888888,
                            "#fdca26"
                          ],
                          [
                            1,
                            "#f0f921"
                          ]
                        ]
                      }
                    ],
                    "scatterpolar": [
                      {
                        "marker": {
                          "colorbar": {
                            "outlinewidth": 0,
                            "ticks": ""
                          }
                        },
                        "type": "scatterpolar"
                      }
                    ],
                    "histogram2d": [
                      {
                        "colorbar": {
                          "outlinewidth": 0,
                          "ticks": ""
                        },
                        "type": "histogram2d",
                        "colorscale": [
                          [
                            0,
                            "#0d0887"
                          ],
                          [
                            0.1111111111111111,
                            "#46039f"
                          ],
                          [
                            0.2222222222222222,
                            "#7201a8"
                          ],
                          [
                            0.3333333333333333,
                            "#9c179e"
                          ],
                          [
                            0.4444444444444444,
                            "#bd3786"
                          ],
                          [
                            0.5555555555555556,
                            "#d8576b"
                          ],
                          [
                            0.6666666666666666,
                            "#ed7953"
                          ],
                          [
                            0.7777777777777778,
                            "#fb9f3a"
                          ],
                          [
                            0.8888888888888888,
                            "#fdca26"
                          ],
                          [
                            1,
                            "#f0f921"
                          ]
                        ]
                      }
                    ],
                    "scattergeo": [
                      {
                        "marker": {
                          "colorbar": {
                            "outlinewidth": 0,
                            "ticks": ""
                          }
                        },
                        "type": "scattergeo"
                      }
                    ],
                    "bar": [
                      {
                        "marker": {
                          "line": {
                            "color": "#E5ECF6",
                            "width": 0.5
                          }
                        },
                        "type": "bar",
                        "error_x": {
                          "color": "#2a3f5f"
                        },
                        "error_y": {
                          "color": "#2a3f5f"
                        }
                      }
                    ],
                    "choropleth": [
                      {
                        "colorbar": {
                          "outlinewidth": 0,
                          "ticks": ""
                        },
                        "type": "choropleth"
                      }
                    ],
                    "parcoords": [
                      {
                        "line": {
                          "colorbar": {
                            "outlinewidth": 0,
                            "ticks": ""
                          }
                        },
                        "type": "parcoords"
                      }
                    ],
                    "barpolar": [
                      {
                        "marker": {
                          "line": {
                            "color": "#E5ECF6",
                            "width": 0.5
                          }
                        },
                        "type": "barpolar"
                      }
                    ],
                    "histogram2dcontour": [
                      {
                        "colorbar": {
                          "outlinewidth": 0,
                          "ticks": ""
                        },
                        "type": "histogram2dcontour",
                        "colorscale": [
                          [
                            0,
                            "#0d0887"
                          ],
                          [
                            0.1111111111111111,
                            "#46039f"
                          ],
                          [
                            0.2222222222222222,
                            "#7201a8"
                          ],
                          [
                            0.3333333333333333,
                            "#9c179e"
                          ],
                          [
                            0.4444444444444444,
                            "#bd3786"
                          ],
                          [
                            0.5555555555555556,
                            "#d8576b"
                          ],
                          [
                            0.6666666666666666,
                            "#ed7953"
                          ],
                          [
                            0.7777777777777778,
                            "#fb9f3a"
                          ],
                          [
                            0.8888888888888888,
                            "#fdca26"
                          ],
                          [
                            1,
                            "#f0f921"
                          ]
                        ]
                      }
                    ],
                    "scatter": [
                      {
                        "marker": {
                          "colorbar": {
                            "outlinewidth": 0,
                            "ticks": ""
                          }
                        },
                        "type": "scatter"
                      }
                    ]
                  }
                },
                "title": {
                  "font": {
                    "color": "#4D5663"
                  }
                },
                "paper_bgcolor": "#F5F6F9",
                "plot_bgcolor": "#F5F6F9",
                "yaxis": {
                  "tickfont": {
                    "color": "#4D5663"
                  },
                  "zerolinecolor": "#E1E5ED",
                  "title": {
                    "text": "",
                    "font": {
                      "color": "#4D5663"
                    }
                  },
                  "gridcolor": "#E1E5ED",
                  "showgrid": true
                },
                "xaxis": {
                  "tickfont": {
                    "color": "#4D5663"
                  },
                  "zerolinecolor": "#E1E5ED",
                  "title": {
                    "text": "",
                    "font": {
                      "color": "#4D5663"
                    }
                  },
                  "gridcolor": "#E1E5ED",
                  "showgrid": true
                },
                "legend": {
                  "bgcolor": "#F5F6F9",
                  "font": {
                    "color": "#4D5663"
                  }
                }
              }
            }
          },
          "metadata": {}
        }
      ]
    },
    {
      "cell_type": "markdown",
      "metadata": {
        "id": "eRc7DG1QJLza"
      },
      "source": [
        "## Boxplots"
      ]
    },
    {
      "cell_type": "code",
      "metadata": {
        "id": "0GKt7O5qJLza",
        "outputId": "8f81c7be-b733-4c3c-ece8-65ec722c3f07",
        "colab": {
          "base_uri": "https://localhost:8080/",
          "height": 542
        }
      },
      "source": [
        "df.iplot(kind='box')"
      ],
      "execution_count": 50,
      "outputs": [
        {
          "output_type": "display_data",
          "data": {
            "text/html": [
              "<div>\n",
              "        \n",
              "        \n",
              "            <div id=\"60742547-7b4c-4ac5-ab3b-48832ec4f9f8\" class=\"plotly-graph-div\" style=\"height:525px; width:100%;\"></div>\n",
              "            <script type=\"text/javascript\">\n",
              "                require([\"plotly\"], function(Plotly) {\n",
              "                    window.PLOTLYENV=window.PLOTLYENV || {};\n",
              "                    window.PLOTLYENV.BASE_URL='https://plot.ly';\n",
              "                    \n",
              "                if (document.getElementById(\"60742547-7b4c-4ac5-ab3b-48832ec4f9f8\")) {\n",
              "                    Plotly.newPlot(\n",
              "                        '60742547-7b4c-4ac5-ab3b-48832ec4f9f8',\n",
              "                        [{\"boxpoints\": false, \"line\": {\"width\": 1.3}, \"marker\": {\"color\": \"rgba(255, 153, 51, 1.0)\"}, \"name\": \"A\", \"orientation\": \"v\", \"type\": \"box\", \"y\": [0.38776790492739865, 0.03849236956660459, 1.2433137936961798, 0.5842972264102014, -1.1208961479414192, 1.730216441653974, 0.06108034749886219, 0.9262701599086871, -0.87571943613146, 0.7960283927316331, 0.8013388093558175, -0.7713827146130571, -0.3860596312437266, 0.1422534281059505, 1.5343821976708791, -0.522288610381301, 1.2765181110454487, -1.9087210266761787, -0.5455631881633575, -0.9673041467546614, 0.18365245410260891, 0.8319727481794416, -0.6924274444035763, 0.130212270746392, -0.5741925777331125, -1.3462551608381779, -0.41262032018311534, 1.103101235762768, 1.0446220690518804, 0.9472184572850981, 0.01144284758409768, 0.3924697684460991, -0.7436814456680585, 0.5606640324163912, 0.6965257672104554, -0.7934068443983743, 0.582381173671548, -2.282351450427875, 0.7124587395952304, -0.6882658875377795, 1.6993566416898747, 2.8568699326050275, 0.006332552164447542, 0.4435057221418252, 0.09896661061309904, 0.8037600980180298, 1.5334032703702691, -0.4990486031175881, 0.21649575207817678, -0.4096457505587984, 0.8016799189563294, -0.6905393608982633, 2.0872629967650296, 1.474533174467541, -0.9195699744527402, 0.2725139639009779, 0.7685364302756515, -0.6371309176903281, -0.397097728226869, 1.9487774142868644, -2.877517406687037, -1.1877654785957479, 0.9114452597351144, 0.7244960384363618, 0.3218065598901516, 0.6135611614993941, 0.2577221961420037, -1.0607592928299288, 0.2975795540412989, 0.4551520791689616, -0.5795233153683617, 0.5763212135443879, -1.6662421515568697, 1.0389099618890498, 0.1410565241910319, 1.1284833361430653, 2.349189230892838, -1.4199144089065157, -1.1340525523746237, 0.6552467536857508, 1.5617541726720494, -1.0089435007798202, -1.1259228236191567, -1.2386389182482231, 1.6364774453566855, 0.36666797091738595, -0.3432628429736642, -1.043490274577387, 0.8818679747375759, 0.1751112634092605, 0.1247652284295829, 0.5518682798715221, 0.0579060702482222, 0.286418801590196, -1.4700359970155337, -0.5355646681907782, 1.414380652513354, -1.1727913308648066, -0.3937665053241717, 0.1938955533958501]}, {\"boxpoints\": false, \"line\": {\"width\": 1.3}, \"marker\": {\"color\": \"rgba(55, 128, 191, 1.0)\"}, \"name\": \"B\", \"orientation\": \"v\", \"type\": \"box\", \"y\": [0.319389861291986, -0.30074966743608506, -0.8312005470150119, -2.4054656013055444, 1.95218493548916, -1.3949547196167487, 1.2610777494042638, -0.25106428346371634, 0.7833405935894365, 0.34177773626719854, 1.847886725993193, -0.14969996369267832, 0.08691354446385557, 1.1409817365990378, 0.3593414585006607, -0.6534610730262642, 0.04553691446835388, -0.6026955641298878, 1.5577759039506558, -1.4045087455705607, -0.9378539145505463, 0.043002648037828495, -2.102274024308178, 0.8801400704781029, -0.5281783119970317, 1.343986387262092, -1.0803664242729223, -0.5014747769984824, 0.5970767917134021, 0.5007062749147215, 0.2564679561157993, 0.22936027050727836, -1.124733552945505, 1.346138803322607, -1.076597213636889, -0.14375695629240315, 1.3337935777840249, 0.7804027116427791, -0.785762950919096, 0.4102750089109371, -0.1318258634420717, 0.8532631740447265, -1.0008567066921035, 0.3105586227309746, 0.7355287345659339, 2.1022790876438813, -0.6251400952943048, -0.23429800909253748, -0.061505586329181, -0.6349766598812604, 0.525719391772557, 1.345241629785457, -0.6011991190519752, 1.44640310913396, -0.0872486292630008, 0.10560666020020956, 0.941703428827021, 0.814753456507976, -0.584076289529489, -0.962996905418369, 0.7994852115303925, 0.762184625040766, -0.21785632433335, 0.9864316077429109, 0.755867048719471, -1.1129961928211929, 0.19433562473336324, 1.5619787553664641, -0.5202158167923906, -0.02911156974216635, -1.6734099454901552, -2.2796496602757554, -1.5492433667544536, -0.8651720204735538, -1.8230976407359787, -0.006096200544762621, -1.584109186224074, -0.33035517887516197, -0.7059363123188731, 1.695198015552919, -0.9811233584929907, 0.47042387423562504, -0.5249460929521849, -0.31125324698240014, -0.7994641306782769, -0.6174704292261655, 0.05596717699545592, 0.49209772986311834, 0.19878044412033335, -0.13557781245738254, -0.3868164211531793, 1.070491610505177, 0.8275071529281245, -0.6656345370734653, -0.13503140193318744, -0.8667935467318065, 0.6865335102478416, -0.3186666336242621, 1.3881557946444958, 1.7933718693964338]}, {\"boxpoints\": false, \"line\": {\"width\": 1.3}, \"marker\": {\"color\": \"rgba(50, 171, 96, 1.0)\"}, \"name\": \"C\", \"orientation\": \"v\", \"type\": \"box\", \"y\": [0.5230770887437088, 0.0825736363577513, 0.4588105780564298, 0.7811446115543202, 0.9184053209026012, 0.17224751730776722, -1.6475328091120887, 0.49181252346677573, -0.6061053597414845, -1.3933264560772263, 0.14344544722416813, -0.3905457463541869, -0.0773635833941089, 0.30492141697044683, -0.5614591261561296, -1.419401744846503, 0.955611795727318, 1.4027692968418186, -0.7343269788433588, -1.4756553433046526, 0.9145937087280909, -1.092472721615005, 1.0980836262747558, 1.3145679977529234, 1.0797524283747404, 0.6308254102247195, 0.8874408902673286, -0.10052268438227928, -0.08983224735313855, -1.1997913058653475, 0.3719136301886943, 0.13950074964563766, 0.4690366263838989, 0.24025572005802265, 0.06327153831170397, 0.0639869752403078, 0.15963465055031542, 0.03490813204410398, 2.1207604049072937, -0.7279657171995265, -1.6480911373184448, -0.8335349198044641, 0.5610906956098553, 0.14392868337626316, -0.19687329134978385, -1.0234717992551527, 0.819724112176948, -0.8301152243196428, -0.1264779994266815, 1.3793715769590547, -1.077213610535644, 1.236175587525392, -1.2068837402220438, 0.1047847272107351, 0.43999253945098565, -1.2996460994705084, 1.591831487693768, -1.9492187199295534, -0.7510258435595026, -0.6567026208051004, -1.3466966732276888, -0.3374809049581502, 0.777278721181163, 1.854357184527882, -0.24629145763903534, 1.421869231047535, -0.665350750395719, 0.6926413754651823, 1.0225975184913045, 0.5858058447185054, 0.7941562095858778, -0.2726738671756177, 1.5677726178379325, -0.9163470370977671, -0.23451784063716838, -1.1415058257926867, 2.726517426644188, 2.1476170495198854, -1.339199915432269, 0.24370042092824235, -0.27375411290307944, 0.6936728038249259, -0.8487836211839579, -0.6855344456405397, -0.8835185469904709, 1.1253489445959861, 0.36542321839835423, 1.8097751105146338, 0.1120729571353281, 2.4701834366147515, 0.19301992411344596, 0.6169670940979624, -0.47530160148535827, -0.8927114625102514, 0.31580366423737116, 1.1135648732618062, 0.9598744893458587, 0.4415302762016992, -0.08108815387739585, -0.7984814511402667]}, {\"boxpoints\": false, \"line\": {\"width\": 1.3}, \"marker\": {\"color\": \"rgba(128, 0, 128, 1.0)\"}, \"name\": \"D\", \"orientation\": \"v\", \"type\": \"box\", \"y\": [0.4752509042408672, 0.5923357389976552, 1.8065592979771634, 1.0347190604125864, -0.34582992128279116, 0.1515887735645558, 0.16714281930383112, -0.46568627027629994, 1.5909034652327887, 0.40496363815507563, 1.2757958836450585, -0.4992335573208999, -1.1816901191345761, -0.9820038833106384, -1.9345418317893035, 0.7837282866949103, -0.07100529626029047, -1.6067357928843564, 0.28312150123480945, 1.6157703025031254, -0.484977988619448, 0.2392754077959054, 0.7910056835873752, -1.5536392737160203, -0.5331901812187568, -0.7901955651030481, 0.6578744020187579, -0.2302284137895361, -1.6241670231279821, 0.12417627553418101, 0.8726833454401819, -1.7200168388664068, 0.3728353383757879, -0.5888716944335837, 0.16700968524310988, 0.3152236939729629, 0.6600671742402289, -0.23159595946803066, -0.374948948157611, -0.6426055238815437, -0.8758344221619488, 0.31011355491272985, -0.38136450331807414, -1.72064630294261, 2.3927735134855572, -0.02306755609596276, -0.658095816712436, -0.7102542984499866, 0.3444612155969016, -1.4859692950577321, -0.8235273774770004, -1.0759052928914057, 0.7865776439965904, -0.865830264721386, -0.42203911311573006, -0.7984772856974879, -1.3915201358593854, -0.5855284794553162, -0.02197011967084297, 0.8693706123410209, 0.989996744831296, 0.3962765133442256, -0.8225052722339669, -0.9752154080510914, 0.6082080967773585, 0.27312593534686747, -0.5911956742881689, 0.5417838377513962, 1.8921345486217096, 0.42640908908842035, 0.10577626309087514, 0.4962037534173657, -1.2110753581455402, 0.9880462968869487, 0.7890408686323082, 1.2697947008864725, 0.5650787760312971, -0.8871516539780503, 0.0826382920303798, -0.3465183651319844, 0.36453051315007917, -0.48318900415908855, 1.4882785868246171, -0.8788596842572135, -0.6077343100103489, -0.06122119231248921, 1.4467997449887289, 1.9680021503339724, 0.2212801457632743, 1.4068423254704043, -0.07487568018994134, 2.4107329653075498, 0.7580632574862473, -0.3551657240059524, 0.1979891520555157, -0.355751232720357, -0.06743330749589409, -0.32611999195126024, -0.06435277033186215, 1.115378302375508]}],\n",
              "                        {\"legend\": {\"bgcolor\": \"#F5F6F9\", \"font\": {\"color\": \"#4D5663\"}}, \"paper_bgcolor\": \"#F5F6F9\", \"plot_bgcolor\": \"#F5F6F9\", \"template\": {\"data\": {\"bar\": [{\"error_x\": {\"color\": \"#2a3f5f\"}, \"error_y\": {\"color\": \"#2a3f5f\"}, \"marker\": {\"line\": {\"color\": \"#E5ECF6\", \"width\": 0.5}}, \"type\": \"bar\"}], \"barpolar\": [{\"marker\": {\"line\": {\"color\": \"#E5ECF6\", \"width\": 0.5}}, \"type\": \"barpolar\"}], \"carpet\": [{\"aaxis\": {\"endlinecolor\": \"#2a3f5f\", \"gridcolor\": \"white\", \"linecolor\": \"white\", \"minorgridcolor\": \"white\", \"startlinecolor\": \"#2a3f5f\"}, \"baxis\": {\"endlinecolor\": \"#2a3f5f\", \"gridcolor\": \"white\", \"linecolor\": \"white\", \"minorgridcolor\": \"white\", \"startlinecolor\": \"#2a3f5f\"}, \"type\": \"carpet\"}], \"choropleth\": [{\"colorbar\": {\"outlinewidth\": 0, \"ticks\": \"\"}, \"type\": \"choropleth\"}], \"contour\": [{\"colorbar\": {\"outlinewidth\": 0, \"ticks\": \"\"}, \"colorscale\": [[0.0, \"#0d0887\"], [0.1111111111111111, \"#46039f\"], [0.2222222222222222, \"#7201a8\"], [0.3333333333333333, \"#9c179e\"], [0.4444444444444444, \"#bd3786\"], [0.5555555555555556, \"#d8576b\"], [0.6666666666666666, \"#ed7953\"], [0.7777777777777778, \"#fb9f3a\"], [0.8888888888888888, \"#fdca26\"], [1.0, \"#f0f921\"]], \"type\": \"contour\"}], \"contourcarpet\": [{\"colorbar\": {\"outlinewidth\": 0, \"ticks\": \"\"}, \"type\": \"contourcarpet\"}], \"heatmap\": [{\"colorbar\": {\"outlinewidth\": 0, \"ticks\": \"\"}, \"colorscale\": [[0.0, \"#0d0887\"], [0.1111111111111111, \"#46039f\"], [0.2222222222222222, \"#7201a8\"], [0.3333333333333333, \"#9c179e\"], [0.4444444444444444, \"#bd3786\"], [0.5555555555555556, \"#d8576b\"], [0.6666666666666666, \"#ed7953\"], [0.7777777777777778, \"#fb9f3a\"], [0.8888888888888888, \"#fdca26\"], [1.0, \"#f0f921\"]], \"type\": \"heatmap\"}], \"heatmapgl\": [{\"colorbar\": {\"outlinewidth\": 0, \"ticks\": \"\"}, \"colorscale\": [[0.0, \"#0d0887\"], [0.1111111111111111, \"#46039f\"], [0.2222222222222222, \"#7201a8\"], [0.3333333333333333, \"#9c179e\"], [0.4444444444444444, \"#bd3786\"], [0.5555555555555556, \"#d8576b\"], [0.6666666666666666, \"#ed7953\"], [0.7777777777777778, \"#fb9f3a\"], [0.8888888888888888, \"#fdca26\"], [1.0, \"#f0f921\"]], \"type\": \"heatmapgl\"}], \"histogram\": [{\"marker\": {\"colorbar\": {\"outlinewidth\": 0, \"ticks\": \"\"}}, \"type\": \"histogram\"}], \"histogram2d\": [{\"colorbar\": {\"outlinewidth\": 0, \"ticks\": \"\"}, \"colorscale\": [[0.0, \"#0d0887\"], [0.1111111111111111, \"#46039f\"], [0.2222222222222222, \"#7201a8\"], [0.3333333333333333, \"#9c179e\"], [0.4444444444444444, \"#bd3786\"], [0.5555555555555556, \"#d8576b\"], [0.6666666666666666, \"#ed7953\"], [0.7777777777777778, \"#fb9f3a\"], [0.8888888888888888, \"#fdca26\"], [1.0, \"#f0f921\"]], \"type\": \"histogram2d\"}], \"histogram2dcontour\": [{\"colorbar\": {\"outlinewidth\": 0, \"ticks\": \"\"}, \"colorscale\": [[0.0, \"#0d0887\"], [0.1111111111111111, \"#46039f\"], [0.2222222222222222, \"#7201a8\"], [0.3333333333333333, \"#9c179e\"], [0.4444444444444444, \"#bd3786\"], [0.5555555555555556, \"#d8576b\"], [0.6666666666666666, \"#ed7953\"], [0.7777777777777778, \"#fb9f3a\"], [0.8888888888888888, \"#fdca26\"], [1.0, \"#f0f921\"]], \"type\": \"histogram2dcontour\"}], \"mesh3d\": [{\"colorbar\": {\"outlinewidth\": 0, \"ticks\": \"\"}, \"type\": \"mesh3d\"}], \"parcoords\": [{\"line\": {\"colorbar\": {\"outlinewidth\": 0, \"ticks\": \"\"}}, \"type\": \"parcoords\"}], \"pie\": [{\"automargin\": true, \"type\": \"pie\"}], \"scatter\": [{\"marker\": {\"colorbar\": {\"outlinewidth\": 0, \"ticks\": \"\"}}, \"type\": \"scatter\"}], \"scatter3d\": [{\"line\": {\"colorbar\": {\"outlinewidth\": 0, \"ticks\": \"\"}}, \"marker\": {\"colorbar\": {\"outlinewidth\": 0, \"ticks\": \"\"}}, \"type\": \"scatter3d\"}], \"scattercarpet\": [{\"marker\": {\"colorbar\": {\"outlinewidth\": 0, \"ticks\": \"\"}}, \"type\": \"scattercarpet\"}], \"scattergeo\": [{\"marker\": {\"colorbar\": {\"outlinewidth\": 0, \"ticks\": \"\"}}, \"type\": \"scattergeo\"}], \"scattergl\": [{\"marker\": {\"colorbar\": {\"outlinewidth\": 0, \"ticks\": \"\"}}, \"type\": \"scattergl\"}], \"scattermapbox\": [{\"marker\": {\"colorbar\": {\"outlinewidth\": 0, \"ticks\": \"\"}}, \"type\": \"scattermapbox\"}], \"scatterpolar\": [{\"marker\": {\"colorbar\": {\"outlinewidth\": 0, \"ticks\": \"\"}}, \"type\": \"scatterpolar\"}], \"scatterpolargl\": [{\"marker\": {\"colorbar\": {\"outlinewidth\": 0, \"ticks\": \"\"}}, \"type\": \"scatterpolargl\"}], \"scatterternary\": [{\"marker\": {\"colorbar\": {\"outlinewidth\": 0, \"ticks\": \"\"}}, \"type\": \"scatterternary\"}], \"surface\": [{\"colorbar\": {\"outlinewidth\": 0, \"ticks\": \"\"}, \"colorscale\": [[0.0, \"#0d0887\"], [0.1111111111111111, \"#46039f\"], [0.2222222222222222, \"#7201a8\"], [0.3333333333333333, \"#9c179e\"], [0.4444444444444444, \"#bd3786\"], [0.5555555555555556, \"#d8576b\"], [0.6666666666666666, \"#ed7953\"], [0.7777777777777778, \"#fb9f3a\"], [0.8888888888888888, \"#fdca26\"], [1.0, \"#f0f921\"]], \"type\": \"surface\"}], \"table\": [{\"cells\": {\"fill\": {\"color\": \"#EBF0F8\"}, \"line\": {\"color\": \"white\"}}, \"header\": {\"fill\": {\"color\": \"#C8D4E3\"}, \"line\": {\"color\": \"white\"}}, \"type\": \"table\"}]}, \"layout\": {\"annotationdefaults\": {\"arrowcolor\": \"#2a3f5f\", \"arrowhead\": 0, \"arrowwidth\": 1}, \"coloraxis\": {\"colorbar\": {\"outlinewidth\": 0, \"ticks\": \"\"}}, \"colorscale\": {\"diverging\": [[0, \"#8e0152\"], [0.1, \"#c51b7d\"], [0.2, \"#de77ae\"], [0.3, \"#f1b6da\"], [0.4, \"#fde0ef\"], [0.5, \"#f7f7f7\"], [0.6, \"#e6f5d0\"], [0.7, \"#b8e186\"], [0.8, \"#7fbc41\"], [0.9, \"#4d9221\"], [1, \"#276419\"]], \"sequential\": [[0.0, \"#0d0887\"], [0.1111111111111111, \"#46039f\"], [0.2222222222222222, \"#7201a8\"], [0.3333333333333333, \"#9c179e\"], [0.4444444444444444, \"#bd3786\"], [0.5555555555555556, \"#d8576b\"], [0.6666666666666666, \"#ed7953\"], [0.7777777777777778, \"#fb9f3a\"], [0.8888888888888888, \"#fdca26\"], [1.0, \"#f0f921\"]], \"sequentialminus\": [[0.0, \"#0d0887\"], [0.1111111111111111, \"#46039f\"], [0.2222222222222222, \"#7201a8\"], [0.3333333333333333, \"#9c179e\"], [0.4444444444444444, \"#bd3786\"], [0.5555555555555556, \"#d8576b\"], [0.6666666666666666, \"#ed7953\"], [0.7777777777777778, \"#fb9f3a\"], [0.8888888888888888, \"#fdca26\"], [1.0, \"#f0f921\"]]}, \"colorway\": [\"#636efa\", \"#EF553B\", \"#00cc96\", \"#ab63fa\", \"#FFA15A\", \"#19d3f3\", \"#FF6692\", \"#B6E880\", \"#FF97FF\", \"#FECB52\"], \"font\": {\"color\": \"#2a3f5f\"}, \"geo\": {\"bgcolor\": \"white\", \"lakecolor\": \"white\", \"landcolor\": \"#E5ECF6\", \"showlakes\": true, \"showland\": true, \"subunitcolor\": \"white\"}, \"hoverlabel\": {\"align\": \"left\"}, \"hovermode\": \"closest\", \"mapbox\": {\"style\": \"light\"}, \"paper_bgcolor\": \"white\", \"plot_bgcolor\": \"#E5ECF6\", \"polar\": {\"angularaxis\": {\"gridcolor\": \"white\", \"linecolor\": \"white\", \"ticks\": \"\"}, \"bgcolor\": \"#E5ECF6\", \"radialaxis\": {\"gridcolor\": \"white\", \"linecolor\": \"white\", \"ticks\": \"\"}}, \"scene\": {\"xaxis\": {\"backgroundcolor\": \"#E5ECF6\", \"gridcolor\": \"white\", \"gridwidth\": 2, \"linecolor\": \"white\", \"showbackground\": true, \"ticks\": \"\", \"zerolinecolor\": \"white\"}, \"yaxis\": {\"backgroundcolor\": \"#E5ECF6\", \"gridcolor\": \"white\", \"gridwidth\": 2, \"linecolor\": \"white\", \"showbackground\": true, \"ticks\": \"\", \"zerolinecolor\": \"white\"}, \"zaxis\": {\"backgroundcolor\": \"#E5ECF6\", \"gridcolor\": \"white\", \"gridwidth\": 2, \"linecolor\": \"white\", \"showbackground\": true, \"ticks\": \"\", \"zerolinecolor\": \"white\"}}, \"shapedefaults\": {\"line\": {\"color\": \"#2a3f5f\"}}, \"ternary\": {\"aaxis\": {\"gridcolor\": \"white\", \"linecolor\": \"white\", \"ticks\": \"\"}, \"baxis\": {\"gridcolor\": \"white\", \"linecolor\": \"white\", \"ticks\": \"\"}, \"bgcolor\": \"#E5ECF6\", \"caxis\": {\"gridcolor\": \"white\", \"linecolor\": \"white\", \"ticks\": \"\"}}, \"title\": {\"x\": 0.05}, \"xaxis\": {\"automargin\": true, \"gridcolor\": \"white\", \"linecolor\": \"white\", \"ticks\": \"\", \"title\": {\"standoff\": 15}, \"zerolinecolor\": \"white\", \"zerolinewidth\": 2}, \"yaxis\": {\"automargin\": true, \"gridcolor\": \"white\", \"linecolor\": \"white\", \"ticks\": \"\", \"title\": {\"standoff\": 15}, \"zerolinecolor\": \"white\", \"zerolinewidth\": 2}}}, \"title\": {\"font\": {\"color\": \"#4D5663\"}}, \"xaxis\": {\"gridcolor\": \"#E1E5ED\", \"showgrid\": true, \"tickfont\": {\"color\": \"#4D5663\"}, \"title\": {\"font\": {\"color\": \"#4D5663\"}, \"text\": \"\"}, \"zerolinecolor\": \"#E1E5ED\"}, \"yaxis\": {\"gridcolor\": \"#E1E5ED\", \"showgrid\": true, \"tickfont\": {\"color\": \"#4D5663\"}, \"title\": {\"font\": {\"color\": \"#4D5663\"}, \"text\": \"\"}, \"zerolinecolor\": \"#E1E5ED\"}},\n",
              "                        {\"showLink\": true, \"linkText\": \"Export to plot.ly\", \"plotlyServerURL\": \"https://plot.ly\", \"responsive\": true}\n",
              "                    ).then(function(){\n",
              "                            \n",
              "var gd = document.getElementById('60742547-7b4c-4ac5-ab3b-48832ec4f9f8');\n",
              "var x = new MutationObserver(function (mutations, observer) {{\n",
              "        var display = window.getComputedStyle(gd).display;\n",
              "        if (!display || display === 'none') {{\n",
              "            console.log([gd, 'removed!']);\n",
              "            Plotly.purge(gd);\n",
              "            observer.disconnect();\n",
              "        }}\n",
              "}});\n",
              "\n",
              "// Listen for the removal of the full notebook cells\n",
              "var notebookContainer = gd.closest('#notebook-container');\n",
              "if (notebookContainer) {{\n",
              "    x.observe(notebookContainer, {childList: true});\n",
              "}}\n",
              "\n",
              "// Listen for the clearing of the current output cell\n",
              "var outputEl = gd.closest('.output');\n",
              "if (outputEl) {{\n",
              "    x.observe(outputEl, {childList: true});\n",
              "}}\n",
              "\n",
              "                        })\n",
              "                };\n",
              "                });\n",
              "            </script>\n",
              "        </div>"
            ],
            "application/vnd.plotly.v1+json": {
              "data": [
                {
                  "orientation": "v",
                  "y": [
                    0.38776790492739865,
                    0.03849236956660459,
                    1.2433137936961798,
                    0.5842972264102014,
                    -1.1208961479414192,
                    1.730216441653974,
                    0.06108034749886219,
                    0.9262701599086871,
                    -0.87571943613146,
                    0.7960283927316331,
                    0.8013388093558175,
                    -0.7713827146130571,
                    -0.3860596312437266,
                    0.1422534281059505,
                    1.5343821976708791,
                    -0.522288610381301,
                    1.2765181110454487,
                    -1.9087210266761787,
                    -0.5455631881633575,
                    -0.9673041467546614,
                    0.18365245410260891,
                    0.8319727481794416,
                    -0.6924274444035763,
                    0.130212270746392,
                    -0.5741925777331125,
                    -1.3462551608381779,
                    -0.41262032018311534,
                    1.103101235762768,
                    1.0446220690518804,
                    0.9472184572850981,
                    0.01144284758409768,
                    0.3924697684460991,
                    -0.7436814456680585,
                    0.5606640324163912,
                    0.6965257672104554,
                    -0.7934068443983743,
                    0.582381173671548,
                    -2.282351450427875,
                    0.7124587395952304,
                    -0.6882658875377795,
                    1.6993566416898747,
                    2.8568699326050275,
                    0.006332552164447542,
                    0.4435057221418252,
                    0.09896661061309904,
                    0.8037600980180298,
                    1.5334032703702691,
                    -0.4990486031175881,
                    0.21649575207817678,
                    -0.4096457505587984,
                    0.8016799189563294,
                    -0.6905393608982633,
                    2.0872629967650296,
                    1.474533174467541,
                    -0.9195699744527402,
                    0.2725139639009779,
                    0.7685364302756515,
                    -0.6371309176903281,
                    -0.397097728226869,
                    1.9487774142868644,
                    -2.877517406687037,
                    -1.1877654785957479,
                    0.9114452597351144,
                    0.7244960384363618,
                    0.3218065598901516,
                    0.6135611614993941,
                    0.2577221961420037,
                    -1.0607592928299288,
                    0.2975795540412989,
                    0.4551520791689616,
                    -0.5795233153683617,
                    0.5763212135443879,
                    -1.6662421515568697,
                    1.0389099618890498,
                    0.1410565241910319,
                    1.1284833361430653,
                    2.349189230892838,
                    -1.4199144089065157,
                    -1.1340525523746237,
                    0.6552467536857508,
                    1.5617541726720494,
                    -1.0089435007798202,
                    -1.1259228236191567,
                    -1.2386389182482231,
                    1.6364774453566855,
                    0.36666797091738595,
                    -0.3432628429736642,
                    -1.043490274577387,
                    0.8818679747375759,
                    0.1751112634092605,
                    0.1247652284295829,
                    0.5518682798715221,
                    0.0579060702482222,
                    0.286418801590196,
                    -1.4700359970155337,
                    -0.5355646681907782,
                    1.414380652513354,
                    -1.1727913308648066,
                    -0.3937665053241717,
                    0.1938955533958501
                  ],
                  "marker": {
                    "color": "rgba(255, 153, 51, 1.0)"
                  },
                  "line": {
                    "width": 1.3
                  },
                  "boxpoints": false,
                  "type": "box",
                  "name": "A"
                },
                {
                  "orientation": "v",
                  "y": [
                    0.319389861291986,
                    -0.30074966743608506,
                    -0.8312005470150119,
                    -2.4054656013055444,
                    1.95218493548916,
                    -1.3949547196167487,
                    1.2610777494042638,
                    -0.25106428346371634,
                    0.7833405935894365,
                    0.34177773626719854,
                    1.847886725993193,
                    -0.14969996369267832,
                    0.08691354446385557,
                    1.1409817365990378,
                    0.3593414585006607,
                    -0.6534610730262642,
                    0.04553691446835388,
                    -0.6026955641298878,
                    1.5577759039506558,
                    -1.4045087455705607,
                    -0.9378539145505463,
                    0.043002648037828495,
                    -2.102274024308178,
                    0.8801400704781029,
                    -0.5281783119970317,
                    1.343986387262092,
                    -1.0803664242729223,
                    -0.5014747769984824,
                    0.5970767917134021,
                    0.5007062749147215,
                    0.2564679561157993,
                    0.22936027050727836,
                    -1.124733552945505,
                    1.346138803322607,
                    -1.076597213636889,
                    -0.14375695629240315,
                    1.3337935777840249,
                    0.7804027116427791,
                    -0.785762950919096,
                    0.4102750089109371,
                    -0.1318258634420717,
                    0.8532631740447265,
                    -1.0008567066921035,
                    0.3105586227309746,
                    0.7355287345659339,
                    2.1022790876438813,
                    -0.6251400952943048,
                    -0.23429800909253748,
                    -0.061505586329181,
                    -0.6349766598812604,
                    0.525719391772557,
                    1.345241629785457,
                    -0.6011991190519752,
                    1.44640310913396,
                    -0.0872486292630008,
                    0.10560666020020956,
                    0.941703428827021,
                    0.814753456507976,
                    -0.584076289529489,
                    -0.962996905418369,
                    0.7994852115303925,
                    0.762184625040766,
                    -0.21785632433335,
                    0.9864316077429109,
                    0.755867048719471,
                    -1.1129961928211929,
                    0.19433562473336324,
                    1.5619787553664641,
                    -0.5202158167923906,
                    -0.02911156974216635,
                    -1.6734099454901552,
                    -2.2796496602757554,
                    -1.5492433667544536,
                    -0.8651720204735538,
                    -1.8230976407359787,
                    -0.006096200544762621,
                    -1.584109186224074,
                    -0.33035517887516197,
                    -0.7059363123188731,
                    1.695198015552919,
                    -0.9811233584929907,
                    0.47042387423562504,
                    -0.5249460929521849,
                    -0.31125324698240014,
                    -0.7994641306782769,
                    -0.6174704292261655,
                    0.05596717699545592,
                    0.49209772986311834,
                    0.19878044412033335,
                    -0.13557781245738254,
                    -0.3868164211531793,
                    1.070491610505177,
                    0.8275071529281245,
                    -0.6656345370734653,
                    -0.13503140193318744,
                    -0.8667935467318065,
                    0.6865335102478416,
                    -0.3186666336242621,
                    1.3881557946444958,
                    1.7933718693964338
                  ],
                  "marker": {
                    "color": "rgba(55, 128, 191, 1.0)"
                  },
                  "line": {
                    "width": 1.3
                  },
                  "boxpoints": false,
                  "type": "box",
                  "name": "B"
                },
                {
                  "orientation": "v",
                  "y": [
                    0.5230770887437088,
                    0.0825736363577513,
                    0.4588105780564298,
                    0.7811446115543202,
                    0.9184053209026012,
                    0.17224751730776722,
                    -1.6475328091120887,
                    0.49181252346677573,
                    -0.6061053597414845,
                    -1.3933264560772263,
                    0.14344544722416813,
                    -0.3905457463541869,
                    -0.0773635833941089,
                    0.30492141697044683,
                    -0.5614591261561296,
                    -1.419401744846503,
                    0.955611795727318,
                    1.4027692968418186,
                    -0.7343269788433588,
                    -1.4756553433046526,
                    0.9145937087280909,
                    -1.092472721615005,
                    1.0980836262747558,
                    1.3145679977529234,
                    1.0797524283747404,
                    0.6308254102247195,
                    0.8874408902673286,
                    -0.10052268438227928,
                    -0.08983224735313855,
                    -1.1997913058653475,
                    0.3719136301886943,
                    0.13950074964563766,
                    0.4690366263838989,
                    0.24025572005802265,
                    0.06327153831170397,
                    0.0639869752403078,
                    0.15963465055031542,
                    0.03490813204410398,
                    2.1207604049072937,
                    -0.7279657171995265,
                    -1.6480911373184448,
                    -0.8335349198044641,
                    0.5610906956098553,
                    0.14392868337626316,
                    -0.19687329134978385,
                    -1.0234717992551527,
                    0.819724112176948,
                    -0.8301152243196428,
                    -0.1264779994266815,
                    1.3793715769590547,
                    -1.077213610535644,
                    1.236175587525392,
                    -1.2068837402220438,
                    0.1047847272107351,
                    0.43999253945098565,
                    -1.2996460994705084,
                    1.591831487693768,
                    -1.9492187199295534,
                    -0.7510258435595026,
                    -0.6567026208051004,
                    -1.3466966732276888,
                    -0.3374809049581502,
                    0.777278721181163,
                    1.854357184527882,
                    -0.24629145763903534,
                    1.421869231047535,
                    -0.665350750395719,
                    0.6926413754651823,
                    1.0225975184913045,
                    0.5858058447185054,
                    0.7941562095858778,
                    -0.2726738671756177,
                    1.5677726178379325,
                    -0.9163470370977671,
                    -0.23451784063716838,
                    -1.1415058257926867,
                    2.726517426644188,
                    2.1476170495198854,
                    -1.339199915432269,
                    0.24370042092824235,
                    -0.27375411290307944,
                    0.6936728038249259,
                    -0.8487836211839579,
                    -0.6855344456405397,
                    -0.8835185469904709,
                    1.1253489445959861,
                    0.36542321839835423,
                    1.8097751105146338,
                    0.1120729571353281,
                    2.4701834366147515,
                    0.19301992411344596,
                    0.6169670940979624,
                    -0.47530160148535827,
                    -0.8927114625102514,
                    0.31580366423737116,
                    1.1135648732618062,
                    0.9598744893458587,
                    0.4415302762016992,
                    -0.08108815387739585,
                    -0.7984814511402667
                  ],
                  "marker": {
                    "color": "rgba(50, 171, 96, 1.0)"
                  },
                  "line": {
                    "width": 1.3
                  },
                  "boxpoints": false,
                  "type": "box",
                  "name": "C"
                },
                {
                  "orientation": "v",
                  "y": [
                    0.4752509042408672,
                    0.5923357389976552,
                    1.8065592979771634,
                    1.0347190604125864,
                    -0.34582992128279116,
                    0.1515887735645558,
                    0.16714281930383112,
                    -0.46568627027629994,
                    1.5909034652327887,
                    0.40496363815507563,
                    1.2757958836450585,
                    -0.4992335573208999,
                    -1.1816901191345761,
                    -0.9820038833106384,
                    -1.9345418317893035,
                    0.7837282866949103,
                    -0.07100529626029047,
                    -1.6067357928843564,
                    0.28312150123480945,
                    1.6157703025031254,
                    -0.484977988619448,
                    0.2392754077959054,
                    0.7910056835873752,
                    -1.5536392737160203,
                    -0.5331901812187568,
                    -0.7901955651030481,
                    0.6578744020187579,
                    -0.2302284137895361,
                    -1.6241670231279821,
                    0.12417627553418101,
                    0.8726833454401819,
                    -1.7200168388664068,
                    0.3728353383757879,
                    -0.5888716944335837,
                    0.16700968524310988,
                    0.3152236939729629,
                    0.6600671742402289,
                    -0.23159595946803066,
                    -0.374948948157611,
                    -0.6426055238815437,
                    -0.8758344221619488,
                    0.31011355491272985,
                    -0.38136450331807414,
                    -1.72064630294261,
                    2.3927735134855572,
                    -0.02306755609596276,
                    -0.658095816712436,
                    -0.7102542984499866,
                    0.3444612155969016,
                    -1.4859692950577321,
                    -0.8235273774770004,
                    -1.0759052928914057,
                    0.7865776439965904,
                    -0.865830264721386,
                    -0.42203911311573006,
                    -0.7984772856974879,
                    -1.3915201358593854,
                    -0.5855284794553162,
                    -0.02197011967084297,
                    0.8693706123410209,
                    0.989996744831296,
                    0.3962765133442256,
                    -0.8225052722339669,
                    -0.9752154080510914,
                    0.6082080967773585,
                    0.27312593534686747,
                    -0.5911956742881689,
                    0.5417838377513962,
                    1.8921345486217096,
                    0.42640908908842035,
                    0.10577626309087514,
                    0.4962037534173657,
                    -1.2110753581455402,
                    0.9880462968869487,
                    0.7890408686323082,
                    1.2697947008864725,
                    0.5650787760312971,
                    -0.8871516539780503,
                    0.0826382920303798,
                    -0.3465183651319844,
                    0.36453051315007917,
                    -0.48318900415908855,
                    1.4882785868246171,
                    -0.8788596842572135,
                    -0.6077343100103489,
                    -0.06122119231248921,
                    1.4467997449887289,
                    1.9680021503339724,
                    0.2212801457632743,
                    1.4068423254704043,
                    -0.07487568018994134,
                    2.4107329653075498,
                    0.7580632574862473,
                    -0.3551657240059524,
                    0.1979891520555157,
                    -0.355751232720357,
                    -0.06743330749589409,
                    -0.32611999195126024,
                    -0.06435277033186215,
                    1.115378302375508
                  ],
                  "marker": {
                    "color": "rgba(128, 0, 128, 1.0)"
                  },
                  "line": {
                    "width": 1.3
                  },
                  "boxpoints": false,
                  "type": "box",
                  "name": "D"
                }
              ],
              "config": {
                "plotlyServerURL": "https://plot.ly",
                "linkText": "Export to plot.ly",
                "showLink": true
              },
              "layout": {
                "template": {
                  "layout": {
                    "shapedefaults": {
                      "line": {
                        "color": "#2a3f5f"
                      }
                    },
                    "polar": {
                      "radialaxis": {
                        "ticks": "",
                        "gridcolor": "white",
                        "linecolor": "white"
                      },
                      "bgcolor": "#E5ECF6",
                      "angularaxis": {
                        "ticks": "",
                        "gridcolor": "white",
                        "linecolor": "white"
                      }
                    },
                    "colorway": [
                      "#636efa",
                      "#EF553B",
                      "#00cc96",
                      "#ab63fa",
                      "#FFA15A",
                      "#19d3f3",
                      "#FF6692",
                      "#B6E880",
                      "#FF97FF",
                      "#FECB52"
                    ],
                    "xaxis": {
                      "automargin": true,
                      "title": {
                        "standoff": 15
                      },
                      "zerolinewidth": 2,
                      "ticks": "",
                      "zerolinecolor": "white",
                      "gridcolor": "white",
                      "linecolor": "white"
                    },
                    "colorscale": {
                      "diverging": [
                        [
                          0,
                          "#8e0152"
                        ],
                        [
                          0.1,
                          "#c51b7d"
                        ],
                        [
                          0.2,
                          "#de77ae"
                        ],
                        [
                          0.3,
                          "#f1b6da"
                        ],
                        [
                          0.4,
                          "#fde0ef"
                        ],
                        [
                          0.5,
                          "#f7f7f7"
                        ],
                        [
                          0.6,
                          "#e6f5d0"
                        ],
                        [
                          0.7,
                          "#b8e186"
                        ],
                        [
                          0.8,
                          "#7fbc41"
                        ],
                        [
                          0.9,
                          "#4d9221"
                        ],
                        [
                          1,
                          "#276419"
                        ]
                      ],
                      "sequential": [
                        [
                          0,
                          "#0d0887"
                        ],
                        [
                          0.1111111111111111,
                          "#46039f"
                        ],
                        [
                          0.2222222222222222,
                          "#7201a8"
                        ],
                        [
                          0.3333333333333333,
                          "#9c179e"
                        ],
                        [
                          0.4444444444444444,
                          "#bd3786"
                        ],
                        [
                          0.5555555555555556,
                          "#d8576b"
                        ],
                        [
                          0.6666666666666666,
                          "#ed7953"
                        ],
                        [
                          0.7777777777777778,
                          "#fb9f3a"
                        ],
                        [
                          0.8888888888888888,
                          "#fdca26"
                        ],
                        [
                          1,
                          "#f0f921"
                        ]
                      ],
                      "sequentialminus": [
                        [
                          0,
                          "#0d0887"
                        ],
                        [
                          0.1111111111111111,
                          "#46039f"
                        ],
                        [
                          0.2222222222222222,
                          "#7201a8"
                        ],
                        [
                          0.3333333333333333,
                          "#9c179e"
                        ],
                        [
                          0.4444444444444444,
                          "#bd3786"
                        ],
                        [
                          0.5555555555555556,
                          "#d8576b"
                        ],
                        [
                          0.6666666666666666,
                          "#ed7953"
                        ],
                        [
                          0.7777777777777778,
                          "#fb9f3a"
                        ],
                        [
                          0.8888888888888888,
                          "#fdca26"
                        ],
                        [
                          1,
                          "#f0f921"
                        ]
                      ]
                    },
                    "paper_bgcolor": "white",
                    "plot_bgcolor": "#E5ECF6",
                    "title": {
                      "x": 0.05
                    },
                    "scene": {
                      "zaxis": {
                        "backgroundcolor": "#E5ECF6",
                        "ticks": "",
                        "gridwidth": 2,
                        "showbackground": true,
                        "zerolinecolor": "white",
                        "gridcolor": "white",
                        "linecolor": "white"
                      },
                      "xaxis": {
                        "backgroundcolor": "#E5ECF6",
                        "ticks": "",
                        "gridwidth": 2,
                        "showbackground": true,
                        "zerolinecolor": "white",
                        "gridcolor": "white",
                        "linecolor": "white"
                      },
                      "yaxis": {
                        "backgroundcolor": "#E5ECF6",
                        "ticks": "",
                        "gridwidth": 2,
                        "showbackground": true,
                        "zerolinecolor": "white",
                        "gridcolor": "white",
                        "linecolor": "white"
                      }
                    },
                    "yaxis": {
                      "automargin": true,
                      "title": {
                        "standoff": 15
                      },
                      "zerolinewidth": 2,
                      "ticks": "",
                      "zerolinecolor": "white",
                      "gridcolor": "white",
                      "linecolor": "white"
                    },
                    "annotationdefaults": {
                      "arrowwidth": 1,
                      "arrowhead": 0,
                      "arrowcolor": "#2a3f5f"
                    },
                    "hoverlabel": {
                      "align": "left"
                    },
                    "ternary": {
                      "bgcolor": "#E5ECF6",
                      "baxis": {
                        "ticks": "",
                        "gridcolor": "white",
                        "linecolor": "white"
                      },
                      "caxis": {
                        "ticks": "",
                        "gridcolor": "white",
                        "linecolor": "white"
                      },
                      "aaxis": {
                        "ticks": "",
                        "gridcolor": "white",
                        "linecolor": "white"
                      }
                    },
                    "mapbox": {
                      "style": "light"
                    },
                    "hovermode": "closest",
                    "font": {
                      "color": "#2a3f5f"
                    },
                    "geo": {
                      "showland": true,
                      "landcolor": "#E5ECF6",
                      "showlakes": true,
                      "bgcolor": "white",
                      "subunitcolor": "white",
                      "lakecolor": "white"
                    },
                    "coloraxis": {
                      "colorbar": {
                        "outlinewidth": 0,
                        "ticks": ""
                      }
                    }
                  },
                  "data": {
                    "mesh3d": [
                      {
                        "colorbar": {
                          "outlinewidth": 0,
                          "ticks": ""
                        },
                        "type": "mesh3d"
                      }
                    ],
                    "scattercarpet": [
                      {
                        "marker": {
                          "colorbar": {
                            "outlinewidth": 0,
                            "ticks": ""
                          }
                        },
                        "type": "scattercarpet"
                      }
                    ],
                    "pie": [
                      {
                        "automargin": true,
                        "type": "pie"
                      }
                    ],
                    "surface": [
                      {
                        "colorbar": {
                          "outlinewidth": 0,
                          "ticks": ""
                        },
                        "type": "surface",
                        "colorscale": [
                          [
                            0,
                            "#0d0887"
                          ],
                          [
                            0.1111111111111111,
                            "#46039f"
                          ],
                          [
                            0.2222222222222222,
                            "#7201a8"
                          ],
                          [
                            0.3333333333333333,
                            "#9c179e"
                          ],
                          [
                            0.4444444444444444,
                            "#bd3786"
                          ],
                          [
                            0.5555555555555556,
                            "#d8576b"
                          ],
                          [
                            0.6666666666666666,
                            "#ed7953"
                          ],
                          [
                            0.7777777777777778,
                            "#fb9f3a"
                          ],
                          [
                            0.8888888888888888,
                            "#fdca26"
                          ],
                          [
                            1,
                            "#f0f921"
                          ]
                        ]
                      }
                    ],
                    "table": [
                      {
                        "header": {
                          "line": {
                            "color": "white"
                          },
                          "fill": {
                            "color": "#C8D4E3"
                          }
                        },
                        "cells": {
                          "line": {
                            "color": "white"
                          },
                          "fill": {
                            "color": "#EBF0F8"
                          }
                        },
                        "type": "table"
                      }
                    ],
                    "scatterpolargl": [
                      {
                        "marker": {
                          "colorbar": {
                            "outlinewidth": 0,
                            "ticks": ""
                          }
                        },
                        "type": "scatterpolargl"
                      }
                    ],
                    "contour": [
                      {
                        "colorbar": {
                          "outlinewidth": 0,
                          "ticks": ""
                        },
                        "type": "contour",
                        "colorscale": [
                          [
                            0,
                            "#0d0887"
                          ],
                          [
                            0.1111111111111111,
                            "#46039f"
                          ],
                          [
                            0.2222222222222222,
                            "#7201a8"
                          ],
                          [
                            0.3333333333333333,
                            "#9c179e"
                          ],
                          [
                            0.4444444444444444,
                            "#bd3786"
                          ],
                          [
                            0.5555555555555556,
                            "#d8576b"
                          ],
                          [
                            0.6666666666666666,
                            "#ed7953"
                          ],
                          [
                            0.7777777777777778,
                            "#fb9f3a"
                          ],
                          [
                            0.8888888888888888,
                            "#fdca26"
                          ],
                          [
                            1,
                            "#f0f921"
                          ]
                        ]
                      }
                    ],
                    "carpet": [
                      {
                        "type": "carpet",
                        "baxis": {
                          "minorgridcolor": "white",
                          "gridcolor": "white",
                          "linecolor": "white",
                          "endlinecolor": "#2a3f5f",
                          "startlinecolor": "#2a3f5f"
                        },
                        "aaxis": {
                          "minorgridcolor": "white",
                          "gridcolor": "white",
                          "linecolor": "white",
                          "endlinecolor": "#2a3f5f",
                          "startlinecolor": "#2a3f5f"
                        }
                      }
                    ],
                    "contourcarpet": [
                      {
                        "colorbar": {
                          "outlinewidth": 0,
                          "ticks": ""
                        },
                        "type": "contourcarpet"
                      }
                    ],
                    "heatmap": [
                      {
                        "colorbar": {
                          "outlinewidth": 0,
                          "ticks": ""
                        },
                        "type": "heatmap",
                        "colorscale": [
                          [
                            0,
                            "#0d0887"
                          ],
                          [
                            0.1111111111111111,
                            "#46039f"
                          ],
                          [
                            0.2222222222222222,
                            "#7201a8"
                          ],
                          [
                            0.3333333333333333,
                            "#9c179e"
                          ],
                          [
                            0.4444444444444444,
                            "#bd3786"
                          ],
                          [
                            0.5555555555555556,
                            "#d8576b"
                          ],
                          [
                            0.6666666666666666,
                            "#ed7953"
                          ],
                          [
                            0.7777777777777778,
                            "#fb9f3a"
                          ],
                          [
                            0.8888888888888888,
                            "#fdca26"
                          ],
                          [
                            1,
                            "#f0f921"
                          ]
                        ]
                      }
                    ],
                    "scattermapbox": [
                      {
                        "marker": {
                          "colorbar": {
                            "outlinewidth": 0,
                            "ticks": ""
                          }
                        },
                        "type": "scattermapbox"
                      }
                    ],
                    "scatter3d": [
                      {
                        "marker": {
                          "colorbar": {
                            "outlinewidth": 0,
                            "ticks": ""
                          }
                        },
                        "line": {
                          "colorbar": {
                            "outlinewidth": 0,
                            "ticks": ""
                          }
                        },
                        "type": "scatter3d"
                      }
                    ],
                    "scattergl": [
                      {
                        "marker": {
                          "colorbar": {
                            "outlinewidth": 0,
                            "ticks": ""
                          }
                        },
                        "type": "scattergl"
                      }
                    ],
                    "scatterternary": [
                      {
                        "marker": {
                          "colorbar": {
                            "outlinewidth": 0,
                            "ticks": ""
                          }
                        },
                        "type": "scatterternary"
                      }
                    ],
                    "histogram": [
                      {
                        "marker": {
                          "colorbar": {
                            "outlinewidth": 0,
                            "ticks": ""
                          }
                        },
                        "type": "histogram"
                      }
                    ],
                    "heatmapgl": [
                      {
                        "colorbar": {
                          "outlinewidth": 0,
                          "ticks": ""
                        },
                        "type": "heatmapgl",
                        "colorscale": [
                          [
                            0,
                            "#0d0887"
                          ],
                          [
                            0.1111111111111111,
                            "#46039f"
                          ],
                          [
                            0.2222222222222222,
                            "#7201a8"
                          ],
                          [
                            0.3333333333333333,
                            "#9c179e"
                          ],
                          [
                            0.4444444444444444,
                            "#bd3786"
                          ],
                          [
                            0.5555555555555556,
                            "#d8576b"
                          ],
                          [
                            0.6666666666666666,
                            "#ed7953"
                          ],
                          [
                            0.7777777777777778,
                            "#fb9f3a"
                          ],
                          [
                            0.8888888888888888,
                            "#fdca26"
                          ],
                          [
                            1,
                            "#f0f921"
                          ]
                        ]
                      }
                    ],
                    "scatterpolar": [
                      {
                        "marker": {
                          "colorbar": {
                            "outlinewidth": 0,
                            "ticks": ""
                          }
                        },
                        "type": "scatterpolar"
                      }
                    ],
                    "histogram2d": [
                      {
                        "colorbar": {
                          "outlinewidth": 0,
                          "ticks": ""
                        },
                        "type": "histogram2d",
                        "colorscale": [
                          [
                            0,
                            "#0d0887"
                          ],
                          [
                            0.1111111111111111,
                            "#46039f"
                          ],
                          [
                            0.2222222222222222,
                            "#7201a8"
                          ],
                          [
                            0.3333333333333333,
                            "#9c179e"
                          ],
                          [
                            0.4444444444444444,
                            "#bd3786"
                          ],
                          [
                            0.5555555555555556,
                            "#d8576b"
                          ],
                          [
                            0.6666666666666666,
                            "#ed7953"
                          ],
                          [
                            0.7777777777777778,
                            "#fb9f3a"
                          ],
                          [
                            0.8888888888888888,
                            "#fdca26"
                          ],
                          [
                            1,
                            "#f0f921"
                          ]
                        ]
                      }
                    ],
                    "scattergeo": [
                      {
                        "marker": {
                          "colorbar": {
                            "outlinewidth": 0,
                            "ticks": ""
                          }
                        },
                        "type": "scattergeo"
                      }
                    ],
                    "bar": [
                      {
                        "marker": {
                          "line": {
                            "color": "#E5ECF6",
                            "width": 0.5
                          }
                        },
                        "type": "bar",
                        "error_x": {
                          "color": "#2a3f5f"
                        },
                        "error_y": {
                          "color": "#2a3f5f"
                        }
                      }
                    ],
                    "choropleth": [
                      {
                        "colorbar": {
                          "outlinewidth": 0,
                          "ticks": ""
                        },
                        "type": "choropleth"
                      }
                    ],
                    "parcoords": [
                      {
                        "line": {
                          "colorbar": {
                            "outlinewidth": 0,
                            "ticks": ""
                          }
                        },
                        "type": "parcoords"
                      }
                    ],
                    "barpolar": [
                      {
                        "marker": {
                          "line": {
                            "color": "#E5ECF6",
                            "width": 0.5
                          }
                        },
                        "type": "barpolar"
                      }
                    ],
                    "histogram2dcontour": [
                      {
                        "colorbar": {
                          "outlinewidth": 0,
                          "ticks": ""
                        },
                        "type": "histogram2dcontour",
                        "colorscale": [
                          [
                            0,
                            "#0d0887"
                          ],
                          [
                            0.1111111111111111,
                            "#46039f"
                          ],
                          [
                            0.2222222222222222,
                            "#7201a8"
                          ],
                          [
                            0.3333333333333333,
                            "#9c179e"
                          ],
                          [
                            0.4444444444444444,
                            "#bd3786"
                          ],
                          [
                            0.5555555555555556,
                            "#d8576b"
                          ],
                          [
                            0.6666666666666666,
                            "#ed7953"
                          ],
                          [
                            0.7777777777777778,
                            "#fb9f3a"
                          ],
                          [
                            0.8888888888888888,
                            "#fdca26"
                          ],
                          [
                            1,
                            "#f0f921"
                          ]
                        ]
                      }
                    ],
                    "scatter": [
                      {
                        "marker": {
                          "colorbar": {
                            "outlinewidth": 0,
                            "ticks": ""
                          }
                        },
                        "type": "scatter"
                      }
                    ]
                  }
                },
                "title": {
                  "font": {
                    "color": "#4D5663"
                  }
                },
                "paper_bgcolor": "#F5F6F9",
                "plot_bgcolor": "#F5F6F9",
                "yaxis": {
                  "tickfont": {
                    "color": "#4D5663"
                  },
                  "zerolinecolor": "#E1E5ED",
                  "title": {
                    "text": "",
                    "font": {
                      "color": "#4D5663"
                    }
                  },
                  "gridcolor": "#E1E5ED",
                  "showgrid": true
                },
                "xaxis": {
                  "tickfont": {
                    "color": "#4D5663"
                  },
                  "zerolinecolor": "#E1E5ED",
                  "title": {
                    "text": "",
                    "font": {
                      "color": "#4D5663"
                    }
                  },
                  "gridcolor": "#E1E5ED",
                  "showgrid": true
                },
                "legend": {
                  "bgcolor": "#F5F6F9",
                  "font": {
                    "color": "#4D5663"
                  }
                }
              }
            }
          },
          "metadata": {}
        }
      ]
    },
    {
      "cell_type": "markdown",
      "metadata": {
        "id": "8ztrdENFJLza"
      },
      "source": [
        "## Superficie 3D"
      ]
    },
    {
      "cell_type": "code",
      "metadata": {
        "id": "-Vi9HzBHJLzb",
        "outputId": "f7c0f78d-93dd-44a1-e6f2-003a2731b799",
        "colab": {
          "base_uri": "https://localhost:8080/",
          "height": 542
        }
      },
      "source": [
        "df3 = pd.DataFrame({'x':[1,2,3,4,5],'y':[10,20,30,20,10],'z':[5,4,3,2,1]})\n",
        "df3.iplot(kind='surface',colorscale='rdylbu')"
      ],
      "execution_count": 51,
      "outputs": [
        {
          "output_type": "display_data",
          "data": {
            "text/html": [
              "<div>\n",
              "        \n",
              "        \n",
              "            <div id=\"9c578028-b878-4508-8a11-e0236ccaab7e\" class=\"plotly-graph-div\" style=\"height:525px; width:100%;\"></div>\n",
              "            <script type=\"text/javascript\">\n",
              "                require([\"plotly\"], function(Plotly) {\n",
              "                    window.PLOTLYENV=window.PLOTLYENV || {};\n",
              "                    window.PLOTLYENV.BASE_URL='https://plot.ly';\n",
              "                    \n",
              "                if (document.getElementById(\"9c578028-b878-4508-8a11-e0236ccaab7e\")) {\n",
              "                    Plotly.newPlot(\n",
              "                        '9c578028-b878-4508-8a11-e0236ccaab7e',\n",
              "                        [{\"colorscale\": [[0.0, \"rgb(165,0,38)\"], [0.1, \"rgb(215,48,39)\"], [0.2, \"rgb(244,109,67)\"], [0.3, \"rgb(253,174,97)\"], [0.4, \"rgb(254,224,144)\"], [0.5, \"rgb(255,255,191)\"], [0.6, \"rgb(224,243,248)\"], [0.7, \"rgb(171,217,233)\"], [0.8, \"rgb(116,173,209)\"], [0.9, \"rgb(69,117,180)\"], [1.0, \"rgb(49,54,149)\"]], \"type\": \"surface\", \"x\": [0, 1, 2, 3, 4], \"y\": [\"x\", \"y\", \"z\"], \"z\": [[1, 2, 3, 4, 5], [10, 20, 30, 20, 10], [5, 4, 3, 2, 1]]}],\n",
              "                        {\"legend\": {\"bgcolor\": \"#F5F6F9\", \"font\": {\"color\": \"#4D5663\"}}, \"paper_bgcolor\": \"#F5F6F9\", \"plot_bgcolor\": \"#F5F6F9\", \"template\": {\"data\": {\"bar\": [{\"error_x\": {\"color\": \"#2a3f5f\"}, \"error_y\": {\"color\": \"#2a3f5f\"}, \"marker\": {\"line\": {\"color\": \"#E5ECF6\", \"width\": 0.5}}, \"type\": \"bar\"}], \"barpolar\": [{\"marker\": {\"line\": {\"color\": \"#E5ECF6\", \"width\": 0.5}}, \"type\": \"barpolar\"}], \"carpet\": [{\"aaxis\": {\"endlinecolor\": \"#2a3f5f\", \"gridcolor\": \"white\", \"linecolor\": \"white\", \"minorgridcolor\": \"white\", \"startlinecolor\": \"#2a3f5f\"}, \"baxis\": {\"endlinecolor\": \"#2a3f5f\", \"gridcolor\": \"white\", \"linecolor\": \"white\", \"minorgridcolor\": \"white\", \"startlinecolor\": \"#2a3f5f\"}, \"type\": \"carpet\"}], \"choropleth\": [{\"colorbar\": {\"outlinewidth\": 0, \"ticks\": \"\"}, \"type\": \"choropleth\"}], \"contour\": [{\"colorbar\": {\"outlinewidth\": 0, \"ticks\": \"\"}, \"colorscale\": [[0.0, \"#0d0887\"], [0.1111111111111111, \"#46039f\"], [0.2222222222222222, \"#7201a8\"], [0.3333333333333333, \"#9c179e\"], [0.4444444444444444, \"#bd3786\"], [0.5555555555555556, \"#d8576b\"], [0.6666666666666666, \"#ed7953\"], [0.7777777777777778, \"#fb9f3a\"], [0.8888888888888888, \"#fdca26\"], [1.0, \"#f0f921\"]], \"type\": \"contour\"}], \"contourcarpet\": [{\"colorbar\": {\"outlinewidth\": 0, \"ticks\": \"\"}, \"type\": \"contourcarpet\"}], \"heatmap\": [{\"colorbar\": {\"outlinewidth\": 0, \"ticks\": \"\"}, \"colorscale\": [[0.0, \"#0d0887\"], [0.1111111111111111, \"#46039f\"], [0.2222222222222222, \"#7201a8\"], [0.3333333333333333, \"#9c179e\"], [0.4444444444444444, \"#bd3786\"], [0.5555555555555556, \"#d8576b\"], [0.6666666666666666, \"#ed7953\"], [0.7777777777777778, \"#fb9f3a\"], [0.8888888888888888, \"#fdca26\"], [1.0, \"#f0f921\"]], \"type\": \"heatmap\"}], \"heatmapgl\": [{\"colorbar\": {\"outlinewidth\": 0, \"ticks\": \"\"}, \"colorscale\": [[0.0, \"#0d0887\"], [0.1111111111111111, \"#46039f\"], [0.2222222222222222, \"#7201a8\"], [0.3333333333333333, \"#9c179e\"], [0.4444444444444444, \"#bd3786\"], [0.5555555555555556, \"#d8576b\"], [0.6666666666666666, \"#ed7953\"], [0.7777777777777778, \"#fb9f3a\"], [0.8888888888888888, \"#fdca26\"], [1.0, \"#f0f921\"]], \"type\": \"heatmapgl\"}], \"histogram\": [{\"marker\": {\"colorbar\": {\"outlinewidth\": 0, \"ticks\": \"\"}}, \"type\": \"histogram\"}], \"histogram2d\": [{\"colorbar\": {\"outlinewidth\": 0, \"ticks\": \"\"}, \"colorscale\": [[0.0, \"#0d0887\"], [0.1111111111111111, \"#46039f\"], [0.2222222222222222, \"#7201a8\"], [0.3333333333333333, \"#9c179e\"], [0.4444444444444444, \"#bd3786\"], [0.5555555555555556, \"#d8576b\"], [0.6666666666666666, \"#ed7953\"], [0.7777777777777778, \"#fb9f3a\"], [0.8888888888888888, \"#fdca26\"], [1.0, \"#f0f921\"]], \"type\": \"histogram2d\"}], \"histogram2dcontour\": [{\"colorbar\": {\"outlinewidth\": 0, \"ticks\": \"\"}, \"colorscale\": [[0.0, \"#0d0887\"], [0.1111111111111111, \"#46039f\"], [0.2222222222222222, \"#7201a8\"], [0.3333333333333333, \"#9c179e\"], [0.4444444444444444, \"#bd3786\"], [0.5555555555555556, \"#d8576b\"], [0.6666666666666666, \"#ed7953\"], [0.7777777777777778, \"#fb9f3a\"], [0.8888888888888888, \"#fdca26\"], [1.0, \"#f0f921\"]], \"type\": \"histogram2dcontour\"}], \"mesh3d\": [{\"colorbar\": {\"outlinewidth\": 0, \"ticks\": \"\"}, \"type\": \"mesh3d\"}], \"parcoords\": [{\"line\": {\"colorbar\": {\"outlinewidth\": 0, \"ticks\": \"\"}}, \"type\": \"parcoords\"}], \"pie\": [{\"automargin\": true, \"type\": \"pie\"}], \"scatter\": [{\"marker\": {\"colorbar\": {\"outlinewidth\": 0, \"ticks\": \"\"}}, \"type\": \"scatter\"}], \"scatter3d\": [{\"line\": {\"colorbar\": {\"outlinewidth\": 0, \"ticks\": \"\"}}, \"marker\": {\"colorbar\": {\"outlinewidth\": 0, \"ticks\": \"\"}}, \"type\": \"scatter3d\"}], \"scattercarpet\": [{\"marker\": {\"colorbar\": {\"outlinewidth\": 0, \"ticks\": \"\"}}, \"type\": \"scattercarpet\"}], \"scattergeo\": [{\"marker\": {\"colorbar\": {\"outlinewidth\": 0, \"ticks\": \"\"}}, \"type\": \"scattergeo\"}], \"scattergl\": [{\"marker\": {\"colorbar\": {\"outlinewidth\": 0, \"ticks\": \"\"}}, \"type\": \"scattergl\"}], \"scattermapbox\": [{\"marker\": {\"colorbar\": {\"outlinewidth\": 0, \"ticks\": \"\"}}, \"type\": \"scattermapbox\"}], \"scatterpolar\": [{\"marker\": {\"colorbar\": {\"outlinewidth\": 0, \"ticks\": \"\"}}, \"type\": \"scatterpolar\"}], \"scatterpolargl\": [{\"marker\": {\"colorbar\": {\"outlinewidth\": 0, \"ticks\": \"\"}}, \"type\": \"scatterpolargl\"}], \"scatterternary\": [{\"marker\": {\"colorbar\": {\"outlinewidth\": 0, \"ticks\": \"\"}}, \"type\": \"scatterternary\"}], \"surface\": [{\"colorbar\": {\"outlinewidth\": 0, \"ticks\": \"\"}, \"colorscale\": [[0.0, \"#0d0887\"], [0.1111111111111111, \"#46039f\"], [0.2222222222222222, \"#7201a8\"], [0.3333333333333333, \"#9c179e\"], [0.4444444444444444, \"#bd3786\"], [0.5555555555555556, \"#d8576b\"], [0.6666666666666666, \"#ed7953\"], [0.7777777777777778, \"#fb9f3a\"], [0.8888888888888888, \"#fdca26\"], [1.0, \"#f0f921\"]], \"type\": \"surface\"}], \"table\": [{\"cells\": {\"fill\": {\"color\": \"#EBF0F8\"}, \"line\": {\"color\": \"white\"}}, \"header\": {\"fill\": {\"color\": \"#C8D4E3\"}, \"line\": {\"color\": \"white\"}}, \"type\": \"table\"}]}, \"layout\": {\"annotationdefaults\": {\"arrowcolor\": \"#2a3f5f\", \"arrowhead\": 0, \"arrowwidth\": 1}, \"coloraxis\": {\"colorbar\": {\"outlinewidth\": 0, \"ticks\": \"\"}}, \"colorscale\": {\"diverging\": [[0, \"#8e0152\"], [0.1, \"#c51b7d\"], [0.2, \"#de77ae\"], [0.3, \"#f1b6da\"], [0.4, \"#fde0ef\"], [0.5, \"#f7f7f7\"], [0.6, \"#e6f5d0\"], [0.7, \"#b8e186\"], [0.8, \"#7fbc41\"], [0.9, \"#4d9221\"], [1, \"#276419\"]], \"sequential\": [[0.0, \"#0d0887\"], [0.1111111111111111, \"#46039f\"], [0.2222222222222222, \"#7201a8\"], [0.3333333333333333, \"#9c179e\"], [0.4444444444444444, \"#bd3786\"], [0.5555555555555556, \"#d8576b\"], [0.6666666666666666, \"#ed7953\"], [0.7777777777777778, \"#fb9f3a\"], [0.8888888888888888, \"#fdca26\"], [1.0, \"#f0f921\"]], \"sequentialminus\": [[0.0, \"#0d0887\"], [0.1111111111111111, \"#46039f\"], [0.2222222222222222, \"#7201a8\"], [0.3333333333333333, \"#9c179e\"], [0.4444444444444444, \"#bd3786\"], [0.5555555555555556, \"#d8576b\"], [0.6666666666666666, \"#ed7953\"], [0.7777777777777778, \"#fb9f3a\"], [0.8888888888888888, \"#fdca26\"], [1.0, \"#f0f921\"]]}, \"colorway\": [\"#636efa\", \"#EF553B\", \"#00cc96\", \"#ab63fa\", \"#FFA15A\", \"#19d3f3\", \"#FF6692\", \"#B6E880\", \"#FF97FF\", \"#FECB52\"], \"font\": {\"color\": \"#2a3f5f\"}, \"geo\": {\"bgcolor\": \"white\", \"lakecolor\": \"white\", \"landcolor\": \"#E5ECF6\", \"showlakes\": true, \"showland\": true, \"subunitcolor\": \"white\"}, \"hoverlabel\": {\"align\": \"left\"}, \"hovermode\": \"closest\", \"mapbox\": {\"style\": \"light\"}, \"paper_bgcolor\": \"white\", \"plot_bgcolor\": \"#E5ECF6\", \"polar\": {\"angularaxis\": {\"gridcolor\": \"white\", \"linecolor\": \"white\", \"ticks\": \"\"}, \"bgcolor\": \"#E5ECF6\", \"radialaxis\": {\"gridcolor\": \"white\", \"linecolor\": \"white\", \"ticks\": \"\"}}, \"scene\": {\"xaxis\": {\"backgroundcolor\": \"#E5ECF6\", \"gridcolor\": \"white\", \"gridwidth\": 2, \"linecolor\": \"white\", \"showbackground\": true, \"ticks\": \"\", \"zerolinecolor\": \"white\"}, \"yaxis\": {\"backgroundcolor\": \"#E5ECF6\", \"gridcolor\": \"white\", \"gridwidth\": 2, \"linecolor\": \"white\", \"showbackground\": true, \"ticks\": \"\", \"zerolinecolor\": \"white\"}, \"zaxis\": {\"backgroundcolor\": \"#E5ECF6\", \"gridcolor\": \"white\", \"gridwidth\": 2, \"linecolor\": \"white\", \"showbackground\": true, \"ticks\": \"\", \"zerolinecolor\": \"white\"}}, \"shapedefaults\": {\"line\": {\"color\": \"#2a3f5f\"}}, \"ternary\": {\"aaxis\": {\"gridcolor\": \"white\", \"linecolor\": \"white\", \"ticks\": \"\"}, \"baxis\": {\"gridcolor\": \"white\", \"linecolor\": \"white\", \"ticks\": \"\"}, \"bgcolor\": \"#E5ECF6\", \"caxis\": {\"gridcolor\": \"white\", \"linecolor\": \"white\", \"ticks\": \"\"}}, \"title\": {\"x\": 0.05}, \"xaxis\": {\"automargin\": true, \"gridcolor\": \"white\", \"linecolor\": \"white\", \"ticks\": \"\", \"title\": {\"standoff\": 15}, \"zerolinecolor\": \"white\", \"zerolinewidth\": 2}, \"yaxis\": {\"automargin\": true, \"gridcolor\": \"white\", \"linecolor\": \"white\", \"ticks\": \"\", \"title\": {\"standoff\": 15}, \"zerolinecolor\": \"white\", \"zerolinewidth\": 2}}}, \"title\": {\"font\": {\"color\": \"#4D5663\"}}, \"xaxis\": {\"gridcolor\": \"#E1E5ED\", \"showgrid\": true, \"tickfont\": {\"color\": \"#4D5663\"}, \"title\": {\"font\": {\"color\": \"#4D5663\"}, \"text\": \"\"}, \"zerolinecolor\": \"#E1E5ED\"}, \"yaxis\": {\"gridcolor\": \"#E1E5ED\", \"showgrid\": true, \"tickfont\": {\"color\": \"#4D5663\"}, \"title\": {\"font\": {\"color\": \"#4D5663\"}, \"text\": \"\"}, \"zerolinecolor\": \"#E1E5ED\"}},\n",
              "                        {\"showLink\": true, \"linkText\": \"Export to plot.ly\", \"plotlyServerURL\": \"https://plot.ly\", \"responsive\": true}\n",
              "                    ).then(function(){\n",
              "                            \n",
              "var gd = document.getElementById('9c578028-b878-4508-8a11-e0236ccaab7e');\n",
              "var x = new MutationObserver(function (mutations, observer) {{\n",
              "        var display = window.getComputedStyle(gd).display;\n",
              "        if (!display || display === 'none') {{\n",
              "            console.log([gd, 'removed!']);\n",
              "            Plotly.purge(gd);\n",
              "            observer.disconnect();\n",
              "        }}\n",
              "}});\n",
              "\n",
              "// Listen for the removal of the full notebook cells\n",
              "var notebookContainer = gd.closest('#notebook-container');\n",
              "if (notebookContainer) {{\n",
              "    x.observe(notebookContainer, {childList: true});\n",
              "}}\n",
              "\n",
              "// Listen for the clearing of the current output cell\n",
              "var outputEl = gd.closest('.output');\n",
              "if (outputEl) {{\n",
              "    x.observe(outputEl, {childList: true});\n",
              "}}\n",
              "\n",
              "                        })\n",
              "                };\n",
              "                });\n",
              "            </script>\n",
              "        </div>"
            ],
            "application/vnd.plotly.v1+json": {
              "data": [
                {
                  "y": [
                    "x",
                    "y",
                    "z"
                  ],
                  "x": [
                    0,
                    1,
                    2,
                    3,
                    4
                  ],
                  "z": [
                    [
                      1,
                      2,
                      3,
                      4,
                      5
                    ],
                    [
                      10,
                      20,
                      30,
                      20,
                      10
                    ],
                    [
                      5,
                      4,
                      3,
                      2,
                      1
                    ]
                  ],
                  "type": "surface",
                  "colorscale": [
                    [
                      0,
                      "rgb(165,0,38)"
                    ],
                    [
                      0.1,
                      "rgb(215,48,39)"
                    ],
                    [
                      0.2,
                      "rgb(244,109,67)"
                    ],
                    [
                      0.3,
                      "rgb(253,174,97)"
                    ],
                    [
                      0.4,
                      "rgb(254,224,144)"
                    ],
                    [
                      0.5,
                      "rgb(255,255,191)"
                    ],
                    [
                      0.6,
                      "rgb(224,243,248)"
                    ],
                    [
                      0.7,
                      "rgb(171,217,233)"
                    ],
                    [
                      0.8,
                      "rgb(116,173,209)"
                    ],
                    [
                      0.9,
                      "rgb(69,117,180)"
                    ],
                    [
                      1,
                      "rgb(49,54,149)"
                    ]
                  ]
                }
              ],
              "config": {
                "plotlyServerURL": "https://plot.ly",
                "linkText": "Export to plot.ly",
                "showLink": true
              },
              "layout": {
                "template": {
                  "layout": {
                    "shapedefaults": {
                      "line": {
                        "color": "#2a3f5f"
                      }
                    },
                    "polar": {
                      "radialaxis": {
                        "ticks": "",
                        "gridcolor": "white",
                        "linecolor": "white"
                      },
                      "bgcolor": "#E5ECF6",
                      "angularaxis": {
                        "ticks": "",
                        "gridcolor": "white",
                        "linecolor": "white"
                      }
                    },
                    "colorway": [
                      "#636efa",
                      "#EF553B",
                      "#00cc96",
                      "#ab63fa",
                      "#FFA15A",
                      "#19d3f3",
                      "#FF6692",
                      "#B6E880",
                      "#FF97FF",
                      "#FECB52"
                    ],
                    "xaxis": {
                      "automargin": true,
                      "title": {
                        "standoff": 15
                      },
                      "zerolinewidth": 2,
                      "ticks": "",
                      "zerolinecolor": "white",
                      "gridcolor": "white",
                      "linecolor": "white"
                    },
                    "colorscale": {
                      "diverging": [
                        [
                          0,
                          "#8e0152"
                        ],
                        [
                          0.1,
                          "#c51b7d"
                        ],
                        [
                          0.2,
                          "#de77ae"
                        ],
                        [
                          0.3,
                          "#f1b6da"
                        ],
                        [
                          0.4,
                          "#fde0ef"
                        ],
                        [
                          0.5,
                          "#f7f7f7"
                        ],
                        [
                          0.6,
                          "#e6f5d0"
                        ],
                        [
                          0.7,
                          "#b8e186"
                        ],
                        [
                          0.8,
                          "#7fbc41"
                        ],
                        [
                          0.9,
                          "#4d9221"
                        ],
                        [
                          1,
                          "#276419"
                        ]
                      ],
                      "sequential": [
                        [
                          0,
                          "#0d0887"
                        ],
                        [
                          0.1111111111111111,
                          "#46039f"
                        ],
                        [
                          0.2222222222222222,
                          "#7201a8"
                        ],
                        [
                          0.3333333333333333,
                          "#9c179e"
                        ],
                        [
                          0.4444444444444444,
                          "#bd3786"
                        ],
                        [
                          0.5555555555555556,
                          "#d8576b"
                        ],
                        [
                          0.6666666666666666,
                          "#ed7953"
                        ],
                        [
                          0.7777777777777778,
                          "#fb9f3a"
                        ],
                        [
                          0.8888888888888888,
                          "#fdca26"
                        ],
                        [
                          1,
                          "#f0f921"
                        ]
                      ],
                      "sequentialminus": [
                        [
                          0,
                          "#0d0887"
                        ],
                        [
                          0.1111111111111111,
                          "#46039f"
                        ],
                        [
                          0.2222222222222222,
                          "#7201a8"
                        ],
                        [
                          0.3333333333333333,
                          "#9c179e"
                        ],
                        [
                          0.4444444444444444,
                          "#bd3786"
                        ],
                        [
                          0.5555555555555556,
                          "#d8576b"
                        ],
                        [
                          0.6666666666666666,
                          "#ed7953"
                        ],
                        [
                          0.7777777777777778,
                          "#fb9f3a"
                        ],
                        [
                          0.8888888888888888,
                          "#fdca26"
                        ],
                        [
                          1,
                          "#f0f921"
                        ]
                      ]
                    },
                    "paper_bgcolor": "white",
                    "plot_bgcolor": "#E5ECF6",
                    "title": {
                      "x": 0.05
                    },
                    "scene": {
                      "zaxis": {
                        "backgroundcolor": "#E5ECF6",
                        "ticks": "",
                        "gridwidth": 2,
                        "showbackground": true,
                        "zerolinecolor": "white",
                        "gridcolor": "white",
                        "linecolor": "white"
                      },
                      "xaxis": {
                        "backgroundcolor": "#E5ECF6",
                        "ticks": "",
                        "gridwidth": 2,
                        "showbackground": true,
                        "zerolinecolor": "white",
                        "gridcolor": "white",
                        "linecolor": "white"
                      },
                      "yaxis": {
                        "backgroundcolor": "#E5ECF6",
                        "ticks": "",
                        "gridwidth": 2,
                        "showbackground": true,
                        "zerolinecolor": "white",
                        "gridcolor": "white",
                        "linecolor": "white"
                      }
                    },
                    "yaxis": {
                      "automargin": true,
                      "title": {
                        "standoff": 15
                      },
                      "zerolinewidth": 2,
                      "ticks": "",
                      "zerolinecolor": "white",
                      "gridcolor": "white",
                      "linecolor": "white"
                    },
                    "annotationdefaults": {
                      "arrowwidth": 1,
                      "arrowhead": 0,
                      "arrowcolor": "#2a3f5f"
                    },
                    "hoverlabel": {
                      "align": "left"
                    },
                    "ternary": {
                      "bgcolor": "#E5ECF6",
                      "baxis": {
                        "ticks": "",
                        "gridcolor": "white",
                        "linecolor": "white"
                      },
                      "caxis": {
                        "ticks": "",
                        "gridcolor": "white",
                        "linecolor": "white"
                      },
                      "aaxis": {
                        "ticks": "",
                        "gridcolor": "white",
                        "linecolor": "white"
                      }
                    },
                    "mapbox": {
                      "style": "light"
                    },
                    "hovermode": "closest",
                    "font": {
                      "color": "#2a3f5f"
                    },
                    "geo": {
                      "showland": true,
                      "landcolor": "#E5ECF6",
                      "showlakes": true,
                      "bgcolor": "white",
                      "subunitcolor": "white",
                      "lakecolor": "white"
                    },
                    "coloraxis": {
                      "colorbar": {
                        "outlinewidth": 0,
                        "ticks": ""
                      }
                    }
                  },
                  "data": {
                    "mesh3d": [
                      {
                        "colorbar": {
                          "outlinewidth": 0,
                          "ticks": ""
                        },
                        "type": "mesh3d"
                      }
                    ],
                    "scattercarpet": [
                      {
                        "marker": {
                          "colorbar": {
                            "outlinewidth": 0,
                            "ticks": ""
                          }
                        },
                        "type": "scattercarpet"
                      }
                    ],
                    "pie": [
                      {
                        "automargin": true,
                        "type": "pie"
                      }
                    ],
                    "surface": [
                      {
                        "colorbar": {
                          "outlinewidth": 0,
                          "ticks": ""
                        },
                        "type": "surface",
                        "colorscale": [
                          [
                            0,
                            "#0d0887"
                          ],
                          [
                            0.1111111111111111,
                            "#46039f"
                          ],
                          [
                            0.2222222222222222,
                            "#7201a8"
                          ],
                          [
                            0.3333333333333333,
                            "#9c179e"
                          ],
                          [
                            0.4444444444444444,
                            "#bd3786"
                          ],
                          [
                            0.5555555555555556,
                            "#d8576b"
                          ],
                          [
                            0.6666666666666666,
                            "#ed7953"
                          ],
                          [
                            0.7777777777777778,
                            "#fb9f3a"
                          ],
                          [
                            0.8888888888888888,
                            "#fdca26"
                          ],
                          [
                            1,
                            "#f0f921"
                          ]
                        ]
                      }
                    ],
                    "table": [
                      {
                        "header": {
                          "line": {
                            "color": "white"
                          },
                          "fill": {
                            "color": "#C8D4E3"
                          }
                        },
                        "cells": {
                          "line": {
                            "color": "white"
                          },
                          "fill": {
                            "color": "#EBF0F8"
                          }
                        },
                        "type": "table"
                      }
                    ],
                    "scatterpolargl": [
                      {
                        "marker": {
                          "colorbar": {
                            "outlinewidth": 0,
                            "ticks": ""
                          }
                        },
                        "type": "scatterpolargl"
                      }
                    ],
                    "contour": [
                      {
                        "colorbar": {
                          "outlinewidth": 0,
                          "ticks": ""
                        },
                        "type": "contour",
                        "colorscale": [
                          [
                            0,
                            "#0d0887"
                          ],
                          [
                            0.1111111111111111,
                            "#46039f"
                          ],
                          [
                            0.2222222222222222,
                            "#7201a8"
                          ],
                          [
                            0.3333333333333333,
                            "#9c179e"
                          ],
                          [
                            0.4444444444444444,
                            "#bd3786"
                          ],
                          [
                            0.5555555555555556,
                            "#d8576b"
                          ],
                          [
                            0.6666666666666666,
                            "#ed7953"
                          ],
                          [
                            0.7777777777777778,
                            "#fb9f3a"
                          ],
                          [
                            0.8888888888888888,
                            "#fdca26"
                          ],
                          [
                            1,
                            "#f0f921"
                          ]
                        ]
                      }
                    ],
                    "carpet": [
                      {
                        "type": "carpet",
                        "baxis": {
                          "minorgridcolor": "white",
                          "gridcolor": "white",
                          "linecolor": "white",
                          "endlinecolor": "#2a3f5f",
                          "startlinecolor": "#2a3f5f"
                        },
                        "aaxis": {
                          "minorgridcolor": "white",
                          "gridcolor": "white",
                          "linecolor": "white",
                          "endlinecolor": "#2a3f5f",
                          "startlinecolor": "#2a3f5f"
                        }
                      }
                    ],
                    "contourcarpet": [
                      {
                        "colorbar": {
                          "outlinewidth": 0,
                          "ticks": ""
                        },
                        "type": "contourcarpet"
                      }
                    ],
                    "heatmap": [
                      {
                        "colorbar": {
                          "outlinewidth": 0,
                          "ticks": ""
                        },
                        "type": "heatmap",
                        "colorscale": [
                          [
                            0,
                            "#0d0887"
                          ],
                          [
                            0.1111111111111111,
                            "#46039f"
                          ],
                          [
                            0.2222222222222222,
                            "#7201a8"
                          ],
                          [
                            0.3333333333333333,
                            "#9c179e"
                          ],
                          [
                            0.4444444444444444,
                            "#bd3786"
                          ],
                          [
                            0.5555555555555556,
                            "#d8576b"
                          ],
                          [
                            0.6666666666666666,
                            "#ed7953"
                          ],
                          [
                            0.7777777777777778,
                            "#fb9f3a"
                          ],
                          [
                            0.8888888888888888,
                            "#fdca26"
                          ],
                          [
                            1,
                            "#f0f921"
                          ]
                        ]
                      }
                    ],
                    "scattermapbox": [
                      {
                        "marker": {
                          "colorbar": {
                            "outlinewidth": 0,
                            "ticks": ""
                          }
                        },
                        "type": "scattermapbox"
                      }
                    ],
                    "scatter3d": [
                      {
                        "marker": {
                          "colorbar": {
                            "outlinewidth": 0,
                            "ticks": ""
                          }
                        },
                        "line": {
                          "colorbar": {
                            "outlinewidth": 0,
                            "ticks": ""
                          }
                        },
                        "type": "scatter3d"
                      }
                    ],
                    "scattergl": [
                      {
                        "marker": {
                          "colorbar": {
                            "outlinewidth": 0,
                            "ticks": ""
                          }
                        },
                        "type": "scattergl"
                      }
                    ],
                    "scatterternary": [
                      {
                        "marker": {
                          "colorbar": {
                            "outlinewidth": 0,
                            "ticks": ""
                          }
                        },
                        "type": "scatterternary"
                      }
                    ],
                    "histogram": [
                      {
                        "marker": {
                          "colorbar": {
                            "outlinewidth": 0,
                            "ticks": ""
                          }
                        },
                        "type": "histogram"
                      }
                    ],
                    "heatmapgl": [
                      {
                        "colorbar": {
                          "outlinewidth": 0,
                          "ticks": ""
                        },
                        "type": "heatmapgl",
                        "colorscale": [
                          [
                            0,
                            "#0d0887"
                          ],
                          [
                            0.1111111111111111,
                            "#46039f"
                          ],
                          [
                            0.2222222222222222,
                            "#7201a8"
                          ],
                          [
                            0.3333333333333333,
                            "#9c179e"
                          ],
                          [
                            0.4444444444444444,
                            "#bd3786"
                          ],
                          [
                            0.5555555555555556,
                            "#d8576b"
                          ],
                          [
                            0.6666666666666666,
                            "#ed7953"
                          ],
                          [
                            0.7777777777777778,
                            "#fb9f3a"
                          ],
                          [
                            0.8888888888888888,
                            "#fdca26"
                          ],
                          [
                            1,
                            "#f0f921"
                          ]
                        ]
                      }
                    ],
                    "scatterpolar": [
                      {
                        "marker": {
                          "colorbar": {
                            "outlinewidth": 0,
                            "ticks": ""
                          }
                        },
                        "type": "scatterpolar"
                      }
                    ],
                    "histogram2d": [
                      {
                        "colorbar": {
                          "outlinewidth": 0,
                          "ticks": ""
                        },
                        "type": "histogram2d",
                        "colorscale": [
                          [
                            0,
                            "#0d0887"
                          ],
                          [
                            0.1111111111111111,
                            "#46039f"
                          ],
                          [
                            0.2222222222222222,
                            "#7201a8"
                          ],
                          [
                            0.3333333333333333,
                            "#9c179e"
                          ],
                          [
                            0.4444444444444444,
                            "#bd3786"
                          ],
                          [
                            0.5555555555555556,
                            "#d8576b"
                          ],
                          [
                            0.6666666666666666,
                            "#ed7953"
                          ],
                          [
                            0.7777777777777778,
                            "#fb9f3a"
                          ],
                          [
                            0.8888888888888888,
                            "#fdca26"
                          ],
                          [
                            1,
                            "#f0f921"
                          ]
                        ]
                      }
                    ],
                    "scattergeo": [
                      {
                        "marker": {
                          "colorbar": {
                            "outlinewidth": 0,
                            "ticks": ""
                          }
                        },
                        "type": "scattergeo"
                      }
                    ],
                    "bar": [
                      {
                        "marker": {
                          "line": {
                            "color": "#E5ECF6",
                            "width": 0.5
                          }
                        },
                        "type": "bar",
                        "error_x": {
                          "color": "#2a3f5f"
                        },
                        "error_y": {
                          "color": "#2a3f5f"
                        }
                      }
                    ],
                    "choropleth": [
                      {
                        "colorbar": {
                          "outlinewidth": 0,
                          "ticks": ""
                        },
                        "type": "choropleth"
                      }
                    ],
                    "parcoords": [
                      {
                        "line": {
                          "colorbar": {
                            "outlinewidth": 0,
                            "ticks": ""
                          }
                        },
                        "type": "parcoords"
                      }
                    ],
                    "barpolar": [
                      {
                        "marker": {
                          "line": {
                            "color": "#E5ECF6",
                            "width": 0.5
                          }
                        },
                        "type": "barpolar"
                      }
                    ],
                    "histogram2dcontour": [
                      {
                        "colorbar": {
                          "outlinewidth": 0,
                          "ticks": ""
                        },
                        "type": "histogram2dcontour",
                        "colorscale": [
                          [
                            0,
                            "#0d0887"
                          ],
                          [
                            0.1111111111111111,
                            "#46039f"
                          ],
                          [
                            0.2222222222222222,
                            "#7201a8"
                          ],
                          [
                            0.3333333333333333,
                            "#9c179e"
                          ],
                          [
                            0.4444444444444444,
                            "#bd3786"
                          ],
                          [
                            0.5555555555555556,
                            "#d8576b"
                          ],
                          [
                            0.6666666666666666,
                            "#ed7953"
                          ],
                          [
                            0.7777777777777778,
                            "#fb9f3a"
                          ],
                          [
                            0.8888888888888888,
                            "#fdca26"
                          ],
                          [
                            1,
                            "#f0f921"
                          ]
                        ]
                      }
                    ],
                    "scatter": [
                      {
                        "marker": {
                          "colorbar": {
                            "outlinewidth": 0,
                            "ticks": ""
                          }
                        },
                        "type": "scatter"
                      }
                    ]
                  }
                },
                "title": {
                  "font": {
                    "color": "#4D5663"
                  }
                },
                "paper_bgcolor": "#F5F6F9",
                "plot_bgcolor": "#F5F6F9",
                "yaxis": {
                  "tickfont": {
                    "color": "#4D5663"
                  },
                  "zerolinecolor": "#E1E5ED",
                  "title": {
                    "text": "",
                    "font": {
                      "color": "#4D5663"
                    }
                  },
                  "gridcolor": "#E1E5ED",
                  "showgrid": true
                },
                "xaxis": {
                  "tickfont": {
                    "color": "#4D5663"
                  },
                  "zerolinecolor": "#E1E5ED",
                  "title": {
                    "text": "",
                    "font": {
                      "color": "#4D5663"
                    }
                  },
                  "gridcolor": "#E1E5ED",
                  "showgrid": true
                },
                "legend": {
                  "bgcolor": "#F5F6F9",
                  "font": {
                    "color": "#4D5663"
                  }
                }
              }
            }
          },
          "metadata": {}
        }
      ]
    },
    {
      "cell_type": "markdown",
      "metadata": {
        "id": "rFNTMnruJLzb"
      },
      "source": [
        "## histogram"
      ]
    },
    {
      "cell_type": "code",
      "metadata": {
        "id": "vu6oJcjMJLzb",
        "outputId": "224e200d-8ba4-4d36-c4ec-639f7309cc4c",
        "colab": {
          "base_uri": "https://localhost:8080/",
          "height": 542
        }
      },
      "source": [
        "df['A'].iplot(kind='hist',bins=25)"
      ],
      "execution_count": 52,
      "outputs": [
        {
          "output_type": "display_data",
          "data": {
            "text/html": [
              "<div>\n",
              "        \n",
              "        \n",
              "            <div id=\"772d5ebe-4b24-4fcb-923e-00c5b2201d49\" class=\"plotly-graph-div\" style=\"height:525px; width:100%;\"></div>\n",
              "            <script type=\"text/javascript\">\n",
              "                require([\"plotly\"], function(Plotly) {\n",
              "                    window.PLOTLYENV=window.PLOTLYENV || {};\n",
              "                    window.PLOTLYENV.BASE_URL='https://plot.ly';\n",
              "                    \n",
              "                if (document.getElementById(\"772d5ebe-4b24-4fcb-923e-00c5b2201d49\")) {\n",
              "                    Plotly.newPlot(\n",
              "                        '772d5ebe-4b24-4fcb-923e-00c5b2201d49',\n",
              "                        [{\"histfunc\": \"count\", \"histnorm\": \"\", \"marker\": {\"color\": \"rgba(255, 153, 51, 1.0)\", \"line\": {\"color\": \"#4D5663\", \"width\": 1.3}}, \"name\": \"A\", \"nbinsx\": 25, \"opacity\": 0.8, \"orientation\": \"v\", \"type\": \"histogram\", \"x\": [0.38776790492739865, 0.03849236956660459, 1.2433137936961798, 0.5842972264102014, -1.1208961479414192, 1.730216441653974, 0.06108034749886219, 0.9262701599086871, -0.87571943613146, 0.7960283927316331, 0.8013388093558175, -0.7713827146130571, -0.3860596312437266, 0.1422534281059505, 1.5343821976708791, -0.522288610381301, 1.2765181110454487, -1.9087210266761787, -0.5455631881633575, -0.9673041467546614, 0.18365245410260891, 0.8319727481794416, -0.6924274444035763, 0.130212270746392, -0.5741925777331125, -1.3462551608381779, -0.41262032018311534, 1.103101235762768, 1.0446220690518804, 0.9472184572850981, 0.01144284758409768, 0.3924697684460991, -0.7436814456680585, 0.5606640324163912, 0.6965257672104554, -0.7934068443983743, 0.582381173671548, -2.282351450427875, 0.7124587395952304, -0.6882658875377795, 1.6993566416898747, 2.8568699326050275, 0.006332552164447542, 0.4435057221418252, 0.09896661061309904, 0.8037600980180298, 1.5334032703702691, -0.4990486031175881, 0.21649575207817678, -0.4096457505587984, 0.8016799189563294, -0.6905393608982633, 2.0872629967650296, 1.474533174467541, -0.9195699744527402, 0.2725139639009779, 0.7685364302756515, -0.6371309176903281, -0.397097728226869, 1.9487774142868644, -2.877517406687037, -1.1877654785957479, 0.9114452597351144, 0.7244960384363618, 0.3218065598901516, 0.6135611614993941, 0.2577221961420037, -1.0607592928299288, 0.2975795540412989, 0.4551520791689616, -0.5795233153683617, 0.5763212135443879, -1.6662421515568697, 1.0389099618890498, 0.1410565241910319, 1.1284833361430653, 2.349189230892838, -1.4199144089065157, -1.1340525523746237, 0.6552467536857508, 1.5617541726720494, -1.0089435007798202, -1.1259228236191567, -1.2386389182482231, 1.6364774453566855, 0.36666797091738595, -0.3432628429736642, -1.043490274577387, 0.8818679747375759, 0.1751112634092605, 0.1247652284295829, 0.5518682798715221, 0.0579060702482222, 0.286418801590196, -1.4700359970155337, -0.5355646681907782, 1.414380652513354, -1.1727913308648066, -0.3937665053241717, 0.1938955533958501]}],\n",
              "                        {\"barmode\": \"overlay\", \"legend\": {\"bgcolor\": \"#F5F6F9\", \"font\": {\"color\": \"#4D5663\"}}, \"paper_bgcolor\": \"#F5F6F9\", \"plot_bgcolor\": \"#F5F6F9\", \"template\": {\"data\": {\"bar\": [{\"error_x\": {\"color\": \"#2a3f5f\"}, \"error_y\": {\"color\": \"#2a3f5f\"}, \"marker\": {\"line\": {\"color\": \"#E5ECF6\", \"width\": 0.5}}, \"type\": \"bar\"}], \"barpolar\": [{\"marker\": {\"line\": {\"color\": \"#E5ECF6\", \"width\": 0.5}}, \"type\": \"barpolar\"}], \"carpet\": [{\"aaxis\": {\"endlinecolor\": \"#2a3f5f\", \"gridcolor\": \"white\", \"linecolor\": \"white\", \"minorgridcolor\": \"white\", \"startlinecolor\": \"#2a3f5f\"}, \"baxis\": {\"endlinecolor\": \"#2a3f5f\", \"gridcolor\": \"white\", \"linecolor\": \"white\", \"minorgridcolor\": \"white\", \"startlinecolor\": \"#2a3f5f\"}, \"type\": \"carpet\"}], \"choropleth\": [{\"colorbar\": {\"outlinewidth\": 0, \"ticks\": \"\"}, \"type\": \"choropleth\"}], \"contour\": [{\"colorbar\": {\"outlinewidth\": 0, \"ticks\": \"\"}, \"colorscale\": [[0.0, \"#0d0887\"], [0.1111111111111111, \"#46039f\"], [0.2222222222222222, \"#7201a8\"], [0.3333333333333333, \"#9c179e\"], [0.4444444444444444, \"#bd3786\"], [0.5555555555555556, \"#d8576b\"], [0.6666666666666666, \"#ed7953\"], [0.7777777777777778, \"#fb9f3a\"], [0.8888888888888888, \"#fdca26\"], [1.0, \"#f0f921\"]], \"type\": \"contour\"}], \"contourcarpet\": [{\"colorbar\": {\"outlinewidth\": 0, \"ticks\": \"\"}, \"type\": \"contourcarpet\"}], \"heatmap\": [{\"colorbar\": {\"outlinewidth\": 0, \"ticks\": \"\"}, \"colorscale\": [[0.0, \"#0d0887\"], [0.1111111111111111, \"#46039f\"], [0.2222222222222222, \"#7201a8\"], [0.3333333333333333, \"#9c179e\"], [0.4444444444444444, \"#bd3786\"], [0.5555555555555556, \"#d8576b\"], [0.6666666666666666, \"#ed7953\"], [0.7777777777777778, \"#fb9f3a\"], [0.8888888888888888, \"#fdca26\"], [1.0, \"#f0f921\"]], \"type\": \"heatmap\"}], \"heatmapgl\": [{\"colorbar\": {\"outlinewidth\": 0, \"ticks\": \"\"}, \"colorscale\": [[0.0, \"#0d0887\"], [0.1111111111111111, \"#46039f\"], [0.2222222222222222, \"#7201a8\"], [0.3333333333333333, \"#9c179e\"], [0.4444444444444444, \"#bd3786\"], [0.5555555555555556, \"#d8576b\"], [0.6666666666666666, \"#ed7953\"], [0.7777777777777778, \"#fb9f3a\"], [0.8888888888888888, \"#fdca26\"], [1.0, \"#f0f921\"]], \"type\": \"heatmapgl\"}], \"histogram\": [{\"marker\": {\"colorbar\": {\"outlinewidth\": 0, \"ticks\": \"\"}}, \"type\": \"histogram\"}], \"histogram2d\": [{\"colorbar\": {\"outlinewidth\": 0, \"ticks\": \"\"}, \"colorscale\": [[0.0, \"#0d0887\"], [0.1111111111111111, \"#46039f\"], [0.2222222222222222, \"#7201a8\"], [0.3333333333333333, \"#9c179e\"], [0.4444444444444444, \"#bd3786\"], [0.5555555555555556, \"#d8576b\"], [0.6666666666666666, \"#ed7953\"], [0.7777777777777778, \"#fb9f3a\"], [0.8888888888888888, \"#fdca26\"], [1.0, \"#f0f921\"]], \"type\": \"histogram2d\"}], \"histogram2dcontour\": [{\"colorbar\": {\"outlinewidth\": 0, \"ticks\": \"\"}, \"colorscale\": [[0.0, \"#0d0887\"], [0.1111111111111111, \"#46039f\"], [0.2222222222222222, \"#7201a8\"], [0.3333333333333333, \"#9c179e\"], [0.4444444444444444, \"#bd3786\"], [0.5555555555555556, \"#d8576b\"], [0.6666666666666666, \"#ed7953\"], [0.7777777777777778, \"#fb9f3a\"], [0.8888888888888888, \"#fdca26\"], [1.0, \"#f0f921\"]], \"type\": \"histogram2dcontour\"}], \"mesh3d\": [{\"colorbar\": {\"outlinewidth\": 0, \"ticks\": \"\"}, \"type\": \"mesh3d\"}], \"parcoords\": [{\"line\": {\"colorbar\": {\"outlinewidth\": 0, \"ticks\": \"\"}}, \"type\": \"parcoords\"}], \"pie\": [{\"automargin\": true, \"type\": \"pie\"}], \"scatter\": [{\"marker\": {\"colorbar\": {\"outlinewidth\": 0, \"ticks\": \"\"}}, \"type\": \"scatter\"}], \"scatter3d\": [{\"line\": {\"colorbar\": {\"outlinewidth\": 0, \"ticks\": \"\"}}, \"marker\": {\"colorbar\": {\"outlinewidth\": 0, \"ticks\": \"\"}}, \"type\": \"scatter3d\"}], \"scattercarpet\": [{\"marker\": {\"colorbar\": {\"outlinewidth\": 0, \"ticks\": \"\"}}, \"type\": \"scattercarpet\"}], \"scattergeo\": [{\"marker\": {\"colorbar\": {\"outlinewidth\": 0, \"ticks\": \"\"}}, \"type\": \"scattergeo\"}], \"scattergl\": [{\"marker\": {\"colorbar\": {\"outlinewidth\": 0, \"ticks\": \"\"}}, \"type\": \"scattergl\"}], \"scattermapbox\": [{\"marker\": {\"colorbar\": {\"outlinewidth\": 0, \"ticks\": \"\"}}, \"type\": \"scattermapbox\"}], \"scatterpolar\": [{\"marker\": {\"colorbar\": {\"outlinewidth\": 0, \"ticks\": \"\"}}, \"type\": \"scatterpolar\"}], \"scatterpolargl\": [{\"marker\": {\"colorbar\": {\"outlinewidth\": 0, \"ticks\": \"\"}}, \"type\": \"scatterpolargl\"}], \"scatterternary\": [{\"marker\": {\"colorbar\": {\"outlinewidth\": 0, \"ticks\": \"\"}}, \"type\": \"scatterternary\"}], \"surface\": [{\"colorbar\": {\"outlinewidth\": 0, \"ticks\": \"\"}, \"colorscale\": [[0.0, \"#0d0887\"], [0.1111111111111111, \"#46039f\"], [0.2222222222222222, \"#7201a8\"], [0.3333333333333333, \"#9c179e\"], [0.4444444444444444, \"#bd3786\"], [0.5555555555555556, \"#d8576b\"], [0.6666666666666666, \"#ed7953\"], [0.7777777777777778, \"#fb9f3a\"], [0.8888888888888888, \"#fdca26\"], [1.0, \"#f0f921\"]], \"type\": \"surface\"}], \"table\": [{\"cells\": {\"fill\": {\"color\": \"#EBF0F8\"}, \"line\": {\"color\": \"white\"}}, \"header\": {\"fill\": {\"color\": \"#C8D4E3\"}, \"line\": {\"color\": \"white\"}}, \"type\": \"table\"}]}, \"layout\": {\"annotationdefaults\": {\"arrowcolor\": \"#2a3f5f\", \"arrowhead\": 0, \"arrowwidth\": 1}, \"coloraxis\": {\"colorbar\": {\"outlinewidth\": 0, \"ticks\": \"\"}}, \"colorscale\": {\"diverging\": [[0, \"#8e0152\"], [0.1, \"#c51b7d\"], [0.2, \"#de77ae\"], [0.3, \"#f1b6da\"], [0.4, \"#fde0ef\"], [0.5, \"#f7f7f7\"], [0.6, \"#e6f5d0\"], [0.7, \"#b8e186\"], [0.8, \"#7fbc41\"], [0.9, \"#4d9221\"], [1, \"#276419\"]], \"sequential\": [[0.0, \"#0d0887\"], [0.1111111111111111, \"#46039f\"], [0.2222222222222222, \"#7201a8\"], [0.3333333333333333, \"#9c179e\"], [0.4444444444444444, \"#bd3786\"], [0.5555555555555556, \"#d8576b\"], [0.6666666666666666, \"#ed7953\"], [0.7777777777777778, \"#fb9f3a\"], [0.8888888888888888, \"#fdca26\"], [1.0, \"#f0f921\"]], \"sequentialminus\": [[0.0, \"#0d0887\"], [0.1111111111111111, \"#46039f\"], [0.2222222222222222, \"#7201a8\"], [0.3333333333333333, \"#9c179e\"], [0.4444444444444444, \"#bd3786\"], [0.5555555555555556, \"#d8576b\"], [0.6666666666666666, \"#ed7953\"], [0.7777777777777778, \"#fb9f3a\"], [0.8888888888888888, \"#fdca26\"], [1.0, \"#f0f921\"]]}, \"colorway\": [\"#636efa\", \"#EF553B\", \"#00cc96\", \"#ab63fa\", \"#FFA15A\", \"#19d3f3\", \"#FF6692\", \"#B6E880\", \"#FF97FF\", \"#FECB52\"], \"font\": {\"color\": \"#2a3f5f\"}, \"geo\": {\"bgcolor\": \"white\", \"lakecolor\": \"white\", \"landcolor\": \"#E5ECF6\", \"showlakes\": true, \"showland\": true, \"subunitcolor\": \"white\"}, \"hoverlabel\": {\"align\": \"left\"}, \"hovermode\": \"closest\", \"mapbox\": {\"style\": \"light\"}, \"paper_bgcolor\": \"white\", \"plot_bgcolor\": \"#E5ECF6\", \"polar\": {\"angularaxis\": {\"gridcolor\": \"white\", \"linecolor\": \"white\", \"ticks\": \"\"}, \"bgcolor\": \"#E5ECF6\", \"radialaxis\": {\"gridcolor\": \"white\", \"linecolor\": \"white\", \"ticks\": \"\"}}, \"scene\": {\"xaxis\": {\"backgroundcolor\": \"#E5ECF6\", \"gridcolor\": \"white\", \"gridwidth\": 2, \"linecolor\": \"white\", \"showbackground\": true, \"ticks\": \"\", \"zerolinecolor\": \"white\"}, \"yaxis\": {\"backgroundcolor\": \"#E5ECF6\", \"gridcolor\": \"white\", \"gridwidth\": 2, \"linecolor\": \"white\", \"showbackground\": true, \"ticks\": \"\", \"zerolinecolor\": \"white\"}, \"zaxis\": {\"backgroundcolor\": \"#E5ECF6\", \"gridcolor\": \"white\", \"gridwidth\": 2, \"linecolor\": \"white\", \"showbackground\": true, \"ticks\": \"\", \"zerolinecolor\": \"white\"}}, \"shapedefaults\": {\"line\": {\"color\": \"#2a3f5f\"}}, \"ternary\": {\"aaxis\": {\"gridcolor\": \"white\", \"linecolor\": \"white\", \"ticks\": \"\"}, \"baxis\": {\"gridcolor\": \"white\", \"linecolor\": \"white\", \"ticks\": \"\"}, \"bgcolor\": \"#E5ECF6\", \"caxis\": {\"gridcolor\": \"white\", \"linecolor\": \"white\", \"ticks\": \"\"}}, \"title\": {\"x\": 0.05}, \"xaxis\": {\"automargin\": true, \"gridcolor\": \"white\", \"linecolor\": \"white\", \"ticks\": \"\", \"title\": {\"standoff\": 15}, \"zerolinecolor\": \"white\", \"zerolinewidth\": 2}, \"yaxis\": {\"automargin\": true, \"gridcolor\": \"white\", \"linecolor\": \"white\", \"ticks\": \"\", \"title\": {\"standoff\": 15}, \"zerolinecolor\": \"white\", \"zerolinewidth\": 2}}}, \"title\": {\"font\": {\"color\": \"#4D5663\"}}, \"xaxis\": {\"gridcolor\": \"#E1E5ED\", \"showgrid\": true, \"tickfont\": {\"color\": \"#4D5663\"}, \"title\": {\"font\": {\"color\": \"#4D5663\"}, \"text\": \"\"}, \"zerolinecolor\": \"#E1E5ED\"}, \"yaxis\": {\"gridcolor\": \"#E1E5ED\", \"showgrid\": true, \"tickfont\": {\"color\": \"#4D5663\"}, \"title\": {\"font\": {\"color\": \"#4D5663\"}, \"text\": \"\"}, \"zerolinecolor\": \"#E1E5ED\"}},\n",
              "                        {\"showLink\": true, \"linkText\": \"Export to plot.ly\", \"plotlyServerURL\": \"https://plot.ly\", \"responsive\": true}\n",
              "                    ).then(function(){\n",
              "                            \n",
              "var gd = document.getElementById('772d5ebe-4b24-4fcb-923e-00c5b2201d49');\n",
              "var x = new MutationObserver(function (mutations, observer) {{\n",
              "        var display = window.getComputedStyle(gd).display;\n",
              "        if (!display || display === 'none') {{\n",
              "            console.log([gd, 'removed!']);\n",
              "            Plotly.purge(gd);\n",
              "            observer.disconnect();\n",
              "        }}\n",
              "}});\n",
              "\n",
              "// Listen for the removal of the full notebook cells\n",
              "var notebookContainer = gd.closest('#notebook-container');\n",
              "if (notebookContainer) {{\n",
              "    x.observe(notebookContainer, {childList: true});\n",
              "}}\n",
              "\n",
              "// Listen for the clearing of the current output cell\n",
              "var outputEl = gd.closest('.output');\n",
              "if (outputEl) {{\n",
              "    x.observe(outputEl, {childList: true});\n",
              "}}\n",
              "\n",
              "                        })\n",
              "                };\n",
              "                });\n",
              "            </script>\n",
              "        </div>"
            ],
            "application/vnd.plotly.v1+json": {
              "data": [
                {
                  "opacity": 0.8,
                  "name": "A",
                  "histnorm": "",
                  "nbinsx": 25,
                  "histfunc": "count",
                  "marker": {
                    "color": "rgba(255, 153, 51, 1.0)",
                    "line": {
                      "color": "#4D5663",
                      "width": 1.3
                    }
                  },
                  "x": [
                    0.38776790492739865,
                    0.03849236956660459,
                    1.2433137936961798,
                    0.5842972264102014,
                    -1.1208961479414192,
                    1.730216441653974,
                    0.06108034749886219,
                    0.9262701599086871,
                    -0.87571943613146,
                    0.7960283927316331,
                    0.8013388093558175,
                    -0.7713827146130571,
                    -0.3860596312437266,
                    0.1422534281059505,
                    1.5343821976708791,
                    -0.522288610381301,
                    1.2765181110454487,
                    -1.9087210266761787,
                    -0.5455631881633575,
                    -0.9673041467546614,
                    0.18365245410260891,
                    0.8319727481794416,
                    -0.6924274444035763,
                    0.130212270746392,
                    -0.5741925777331125,
                    -1.3462551608381779,
                    -0.41262032018311534,
                    1.103101235762768,
                    1.0446220690518804,
                    0.9472184572850981,
                    0.01144284758409768,
                    0.3924697684460991,
                    -0.7436814456680585,
                    0.5606640324163912,
                    0.6965257672104554,
                    -0.7934068443983743,
                    0.582381173671548,
                    -2.282351450427875,
                    0.7124587395952304,
                    -0.6882658875377795,
                    1.6993566416898747,
                    2.8568699326050275,
                    0.006332552164447542,
                    0.4435057221418252,
                    0.09896661061309904,
                    0.8037600980180298,
                    1.5334032703702691,
                    -0.4990486031175881,
                    0.21649575207817678,
                    -0.4096457505587984,
                    0.8016799189563294,
                    -0.6905393608982633,
                    2.0872629967650296,
                    1.474533174467541,
                    -0.9195699744527402,
                    0.2725139639009779,
                    0.7685364302756515,
                    -0.6371309176903281,
                    -0.397097728226869,
                    1.9487774142868644,
                    -2.877517406687037,
                    -1.1877654785957479,
                    0.9114452597351144,
                    0.7244960384363618,
                    0.3218065598901516,
                    0.6135611614993941,
                    0.2577221961420037,
                    -1.0607592928299288,
                    0.2975795540412989,
                    0.4551520791689616,
                    -0.5795233153683617,
                    0.5763212135443879,
                    -1.6662421515568697,
                    1.0389099618890498,
                    0.1410565241910319,
                    1.1284833361430653,
                    2.349189230892838,
                    -1.4199144089065157,
                    -1.1340525523746237,
                    0.6552467536857508,
                    1.5617541726720494,
                    -1.0089435007798202,
                    -1.1259228236191567,
                    -1.2386389182482231,
                    1.6364774453566855,
                    0.36666797091738595,
                    -0.3432628429736642,
                    -1.043490274577387,
                    0.8818679747375759,
                    0.1751112634092605,
                    0.1247652284295829,
                    0.5518682798715221,
                    0.0579060702482222,
                    0.286418801590196,
                    -1.4700359970155337,
                    -0.5355646681907782,
                    1.414380652513354,
                    -1.1727913308648066,
                    -0.3937665053241717,
                    0.1938955533958501
                  ],
                  "type": "histogram",
                  "orientation": "v"
                }
              ],
              "config": {
                "plotlyServerURL": "https://plot.ly",
                "linkText": "Export to plot.ly",
                "showLink": true
              },
              "layout": {
                "xaxis": {
                  "tickfont": {
                    "color": "#4D5663"
                  },
                  "zerolinecolor": "#E1E5ED",
                  "title": {
                    "text": "",
                    "font": {
                      "color": "#4D5663"
                    }
                  },
                  "gridcolor": "#E1E5ED",
                  "showgrid": true
                },
                "title": {
                  "font": {
                    "color": "#4D5663"
                  }
                },
                "paper_bgcolor": "#F5F6F9",
                "plot_bgcolor": "#F5F6F9",
                "yaxis": {
                  "tickfont": {
                    "color": "#4D5663"
                  },
                  "zerolinecolor": "#E1E5ED",
                  "title": {
                    "text": "",
                    "font": {
                      "color": "#4D5663"
                    }
                  },
                  "gridcolor": "#E1E5ED",
                  "showgrid": true
                },
                "barmode": "overlay",
                "template": {
                  "layout": {
                    "shapedefaults": {
                      "line": {
                        "color": "#2a3f5f"
                      }
                    },
                    "polar": {
                      "radialaxis": {
                        "ticks": "",
                        "gridcolor": "white",
                        "linecolor": "white"
                      },
                      "bgcolor": "#E5ECF6",
                      "angularaxis": {
                        "ticks": "",
                        "gridcolor": "white",
                        "linecolor": "white"
                      }
                    },
                    "colorway": [
                      "#636efa",
                      "#EF553B",
                      "#00cc96",
                      "#ab63fa",
                      "#FFA15A",
                      "#19d3f3",
                      "#FF6692",
                      "#B6E880",
                      "#FF97FF",
                      "#FECB52"
                    ],
                    "xaxis": {
                      "automargin": true,
                      "title": {
                        "standoff": 15
                      },
                      "zerolinewidth": 2,
                      "ticks": "",
                      "zerolinecolor": "white",
                      "gridcolor": "white",
                      "linecolor": "white"
                    },
                    "colorscale": {
                      "diverging": [
                        [
                          0,
                          "#8e0152"
                        ],
                        [
                          0.1,
                          "#c51b7d"
                        ],
                        [
                          0.2,
                          "#de77ae"
                        ],
                        [
                          0.3,
                          "#f1b6da"
                        ],
                        [
                          0.4,
                          "#fde0ef"
                        ],
                        [
                          0.5,
                          "#f7f7f7"
                        ],
                        [
                          0.6,
                          "#e6f5d0"
                        ],
                        [
                          0.7,
                          "#b8e186"
                        ],
                        [
                          0.8,
                          "#7fbc41"
                        ],
                        [
                          0.9,
                          "#4d9221"
                        ],
                        [
                          1,
                          "#276419"
                        ]
                      ],
                      "sequential": [
                        [
                          0,
                          "#0d0887"
                        ],
                        [
                          0.1111111111111111,
                          "#46039f"
                        ],
                        [
                          0.2222222222222222,
                          "#7201a8"
                        ],
                        [
                          0.3333333333333333,
                          "#9c179e"
                        ],
                        [
                          0.4444444444444444,
                          "#bd3786"
                        ],
                        [
                          0.5555555555555556,
                          "#d8576b"
                        ],
                        [
                          0.6666666666666666,
                          "#ed7953"
                        ],
                        [
                          0.7777777777777778,
                          "#fb9f3a"
                        ],
                        [
                          0.8888888888888888,
                          "#fdca26"
                        ],
                        [
                          1,
                          "#f0f921"
                        ]
                      ],
                      "sequentialminus": [
                        [
                          0,
                          "#0d0887"
                        ],
                        [
                          0.1111111111111111,
                          "#46039f"
                        ],
                        [
                          0.2222222222222222,
                          "#7201a8"
                        ],
                        [
                          0.3333333333333333,
                          "#9c179e"
                        ],
                        [
                          0.4444444444444444,
                          "#bd3786"
                        ],
                        [
                          0.5555555555555556,
                          "#d8576b"
                        ],
                        [
                          0.6666666666666666,
                          "#ed7953"
                        ],
                        [
                          0.7777777777777778,
                          "#fb9f3a"
                        ],
                        [
                          0.8888888888888888,
                          "#fdca26"
                        ],
                        [
                          1,
                          "#f0f921"
                        ]
                      ]
                    },
                    "paper_bgcolor": "white",
                    "plot_bgcolor": "#E5ECF6",
                    "title": {
                      "x": 0.05
                    },
                    "scene": {
                      "zaxis": {
                        "backgroundcolor": "#E5ECF6",
                        "ticks": "",
                        "gridwidth": 2,
                        "showbackground": true,
                        "zerolinecolor": "white",
                        "gridcolor": "white",
                        "linecolor": "white"
                      },
                      "xaxis": {
                        "backgroundcolor": "#E5ECF6",
                        "ticks": "",
                        "gridwidth": 2,
                        "showbackground": true,
                        "zerolinecolor": "white",
                        "gridcolor": "white",
                        "linecolor": "white"
                      },
                      "yaxis": {
                        "backgroundcolor": "#E5ECF6",
                        "ticks": "",
                        "gridwidth": 2,
                        "showbackground": true,
                        "zerolinecolor": "white",
                        "gridcolor": "white",
                        "linecolor": "white"
                      }
                    },
                    "yaxis": {
                      "automargin": true,
                      "title": {
                        "standoff": 15
                      },
                      "zerolinewidth": 2,
                      "ticks": "",
                      "zerolinecolor": "white",
                      "gridcolor": "white",
                      "linecolor": "white"
                    },
                    "annotationdefaults": {
                      "arrowwidth": 1,
                      "arrowhead": 0,
                      "arrowcolor": "#2a3f5f"
                    },
                    "hoverlabel": {
                      "align": "left"
                    },
                    "ternary": {
                      "bgcolor": "#E5ECF6",
                      "baxis": {
                        "ticks": "",
                        "gridcolor": "white",
                        "linecolor": "white"
                      },
                      "caxis": {
                        "ticks": "",
                        "gridcolor": "white",
                        "linecolor": "white"
                      },
                      "aaxis": {
                        "ticks": "",
                        "gridcolor": "white",
                        "linecolor": "white"
                      }
                    },
                    "mapbox": {
                      "style": "light"
                    },
                    "hovermode": "closest",
                    "font": {
                      "color": "#2a3f5f"
                    },
                    "geo": {
                      "showland": true,
                      "landcolor": "#E5ECF6",
                      "showlakes": true,
                      "bgcolor": "white",
                      "subunitcolor": "white",
                      "lakecolor": "white"
                    },
                    "coloraxis": {
                      "colorbar": {
                        "outlinewidth": 0,
                        "ticks": ""
                      }
                    }
                  },
                  "data": {
                    "mesh3d": [
                      {
                        "colorbar": {
                          "outlinewidth": 0,
                          "ticks": ""
                        },
                        "type": "mesh3d"
                      }
                    ],
                    "scattercarpet": [
                      {
                        "marker": {
                          "colorbar": {
                            "outlinewidth": 0,
                            "ticks": ""
                          }
                        },
                        "type": "scattercarpet"
                      }
                    ],
                    "pie": [
                      {
                        "automargin": true,
                        "type": "pie"
                      }
                    ],
                    "surface": [
                      {
                        "colorbar": {
                          "outlinewidth": 0,
                          "ticks": ""
                        },
                        "type": "surface",
                        "colorscale": [
                          [
                            0,
                            "#0d0887"
                          ],
                          [
                            0.1111111111111111,
                            "#46039f"
                          ],
                          [
                            0.2222222222222222,
                            "#7201a8"
                          ],
                          [
                            0.3333333333333333,
                            "#9c179e"
                          ],
                          [
                            0.4444444444444444,
                            "#bd3786"
                          ],
                          [
                            0.5555555555555556,
                            "#d8576b"
                          ],
                          [
                            0.6666666666666666,
                            "#ed7953"
                          ],
                          [
                            0.7777777777777778,
                            "#fb9f3a"
                          ],
                          [
                            0.8888888888888888,
                            "#fdca26"
                          ],
                          [
                            1,
                            "#f0f921"
                          ]
                        ]
                      }
                    ],
                    "table": [
                      {
                        "header": {
                          "line": {
                            "color": "white"
                          },
                          "fill": {
                            "color": "#C8D4E3"
                          }
                        },
                        "cells": {
                          "line": {
                            "color": "white"
                          },
                          "fill": {
                            "color": "#EBF0F8"
                          }
                        },
                        "type": "table"
                      }
                    ],
                    "scatterpolargl": [
                      {
                        "marker": {
                          "colorbar": {
                            "outlinewidth": 0,
                            "ticks": ""
                          }
                        },
                        "type": "scatterpolargl"
                      }
                    ],
                    "contour": [
                      {
                        "colorbar": {
                          "outlinewidth": 0,
                          "ticks": ""
                        },
                        "type": "contour",
                        "colorscale": [
                          [
                            0,
                            "#0d0887"
                          ],
                          [
                            0.1111111111111111,
                            "#46039f"
                          ],
                          [
                            0.2222222222222222,
                            "#7201a8"
                          ],
                          [
                            0.3333333333333333,
                            "#9c179e"
                          ],
                          [
                            0.4444444444444444,
                            "#bd3786"
                          ],
                          [
                            0.5555555555555556,
                            "#d8576b"
                          ],
                          [
                            0.6666666666666666,
                            "#ed7953"
                          ],
                          [
                            0.7777777777777778,
                            "#fb9f3a"
                          ],
                          [
                            0.8888888888888888,
                            "#fdca26"
                          ],
                          [
                            1,
                            "#f0f921"
                          ]
                        ]
                      }
                    ],
                    "carpet": [
                      {
                        "type": "carpet",
                        "baxis": {
                          "minorgridcolor": "white",
                          "gridcolor": "white",
                          "linecolor": "white",
                          "endlinecolor": "#2a3f5f",
                          "startlinecolor": "#2a3f5f"
                        },
                        "aaxis": {
                          "minorgridcolor": "white",
                          "gridcolor": "white",
                          "linecolor": "white",
                          "endlinecolor": "#2a3f5f",
                          "startlinecolor": "#2a3f5f"
                        }
                      }
                    ],
                    "contourcarpet": [
                      {
                        "colorbar": {
                          "outlinewidth": 0,
                          "ticks": ""
                        },
                        "type": "contourcarpet"
                      }
                    ],
                    "heatmap": [
                      {
                        "colorbar": {
                          "outlinewidth": 0,
                          "ticks": ""
                        },
                        "type": "heatmap",
                        "colorscale": [
                          [
                            0,
                            "#0d0887"
                          ],
                          [
                            0.1111111111111111,
                            "#46039f"
                          ],
                          [
                            0.2222222222222222,
                            "#7201a8"
                          ],
                          [
                            0.3333333333333333,
                            "#9c179e"
                          ],
                          [
                            0.4444444444444444,
                            "#bd3786"
                          ],
                          [
                            0.5555555555555556,
                            "#d8576b"
                          ],
                          [
                            0.6666666666666666,
                            "#ed7953"
                          ],
                          [
                            0.7777777777777778,
                            "#fb9f3a"
                          ],
                          [
                            0.8888888888888888,
                            "#fdca26"
                          ],
                          [
                            1,
                            "#f0f921"
                          ]
                        ]
                      }
                    ],
                    "scattermapbox": [
                      {
                        "marker": {
                          "colorbar": {
                            "outlinewidth": 0,
                            "ticks": ""
                          }
                        },
                        "type": "scattermapbox"
                      }
                    ],
                    "scatter3d": [
                      {
                        "marker": {
                          "colorbar": {
                            "outlinewidth": 0,
                            "ticks": ""
                          }
                        },
                        "line": {
                          "colorbar": {
                            "outlinewidth": 0,
                            "ticks": ""
                          }
                        },
                        "type": "scatter3d"
                      }
                    ],
                    "scattergl": [
                      {
                        "marker": {
                          "colorbar": {
                            "outlinewidth": 0,
                            "ticks": ""
                          }
                        },
                        "type": "scattergl"
                      }
                    ],
                    "scatterternary": [
                      {
                        "marker": {
                          "colorbar": {
                            "outlinewidth": 0,
                            "ticks": ""
                          }
                        },
                        "type": "scatterternary"
                      }
                    ],
                    "histogram": [
                      {
                        "marker": {
                          "colorbar": {
                            "outlinewidth": 0,
                            "ticks": ""
                          }
                        },
                        "type": "histogram"
                      }
                    ],
                    "heatmapgl": [
                      {
                        "colorbar": {
                          "outlinewidth": 0,
                          "ticks": ""
                        },
                        "type": "heatmapgl",
                        "colorscale": [
                          [
                            0,
                            "#0d0887"
                          ],
                          [
                            0.1111111111111111,
                            "#46039f"
                          ],
                          [
                            0.2222222222222222,
                            "#7201a8"
                          ],
                          [
                            0.3333333333333333,
                            "#9c179e"
                          ],
                          [
                            0.4444444444444444,
                            "#bd3786"
                          ],
                          [
                            0.5555555555555556,
                            "#d8576b"
                          ],
                          [
                            0.6666666666666666,
                            "#ed7953"
                          ],
                          [
                            0.7777777777777778,
                            "#fb9f3a"
                          ],
                          [
                            0.8888888888888888,
                            "#fdca26"
                          ],
                          [
                            1,
                            "#f0f921"
                          ]
                        ]
                      }
                    ],
                    "scatterpolar": [
                      {
                        "marker": {
                          "colorbar": {
                            "outlinewidth": 0,
                            "ticks": ""
                          }
                        },
                        "type": "scatterpolar"
                      }
                    ],
                    "histogram2d": [
                      {
                        "colorbar": {
                          "outlinewidth": 0,
                          "ticks": ""
                        },
                        "type": "histogram2d",
                        "colorscale": [
                          [
                            0,
                            "#0d0887"
                          ],
                          [
                            0.1111111111111111,
                            "#46039f"
                          ],
                          [
                            0.2222222222222222,
                            "#7201a8"
                          ],
                          [
                            0.3333333333333333,
                            "#9c179e"
                          ],
                          [
                            0.4444444444444444,
                            "#bd3786"
                          ],
                          [
                            0.5555555555555556,
                            "#d8576b"
                          ],
                          [
                            0.6666666666666666,
                            "#ed7953"
                          ],
                          [
                            0.7777777777777778,
                            "#fb9f3a"
                          ],
                          [
                            0.8888888888888888,
                            "#fdca26"
                          ],
                          [
                            1,
                            "#f0f921"
                          ]
                        ]
                      }
                    ],
                    "scattergeo": [
                      {
                        "marker": {
                          "colorbar": {
                            "outlinewidth": 0,
                            "ticks": ""
                          }
                        },
                        "type": "scattergeo"
                      }
                    ],
                    "bar": [
                      {
                        "marker": {
                          "line": {
                            "color": "#E5ECF6",
                            "width": 0.5
                          }
                        },
                        "type": "bar",
                        "error_x": {
                          "color": "#2a3f5f"
                        },
                        "error_y": {
                          "color": "#2a3f5f"
                        }
                      }
                    ],
                    "choropleth": [
                      {
                        "colorbar": {
                          "outlinewidth": 0,
                          "ticks": ""
                        },
                        "type": "choropleth"
                      }
                    ],
                    "parcoords": [
                      {
                        "line": {
                          "colorbar": {
                            "outlinewidth": 0,
                            "ticks": ""
                          }
                        },
                        "type": "parcoords"
                      }
                    ],
                    "barpolar": [
                      {
                        "marker": {
                          "line": {
                            "color": "#E5ECF6",
                            "width": 0.5
                          }
                        },
                        "type": "barpolar"
                      }
                    ],
                    "histogram2dcontour": [
                      {
                        "colorbar": {
                          "outlinewidth": 0,
                          "ticks": ""
                        },
                        "type": "histogram2dcontour",
                        "colorscale": [
                          [
                            0,
                            "#0d0887"
                          ],
                          [
                            0.1111111111111111,
                            "#46039f"
                          ],
                          [
                            0.2222222222222222,
                            "#7201a8"
                          ],
                          [
                            0.3333333333333333,
                            "#9c179e"
                          ],
                          [
                            0.4444444444444444,
                            "#bd3786"
                          ],
                          [
                            0.5555555555555556,
                            "#d8576b"
                          ],
                          [
                            0.6666666666666666,
                            "#ed7953"
                          ],
                          [
                            0.7777777777777778,
                            "#fb9f3a"
                          ],
                          [
                            0.8888888888888888,
                            "#fdca26"
                          ],
                          [
                            1,
                            "#f0f921"
                          ]
                        ]
                      }
                    ],
                    "scatter": [
                      {
                        "marker": {
                          "colorbar": {
                            "outlinewidth": 0,
                            "ticks": ""
                          }
                        },
                        "type": "scatter"
                      }
                    ]
                  }
                },
                "legend": {
                  "bgcolor": "#F5F6F9",
                  "font": {
                    "color": "#4D5663"
                  }
                }
              }
            }
          },
          "metadata": {}
        }
      ]
    },
    {
      "cell_type": "code",
      "metadata": {
        "id": "l3Xi2y50JLzb",
        "outputId": "5787f626-53c9-4f13-a684-06a68ef3b049",
        "colab": {
          "base_uri": "https://localhost:8080/",
          "height": 542
        }
      },
      "source": [
        "df.iplot(kind='bubble',x='A',y='B',size='C')"
      ],
      "execution_count": 53,
      "outputs": [
        {
          "output_type": "display_data",
          "data": {
            "text/html": [
              "<div>\n",
              "        \n",
              "        \n",
              "            <div id=\"4d948979-6efe-4915-9f58-8af8cf3f593f\" class=\"plotly-graph-div\" style=\"height:525px; width:100%;\"></div>\n",
              "            <script type=\"text/javascript\">\n",
              "                require([\"plotly\"], function(Plotly) {\n",
              "                    window.PLOTLYENV=window.PLOTLYENV || {};\n",
              "                    window.PLOTLYENV.BASE_URL='https://plot.ly';\n",
              "                    \n",
              "                if (document.getElementById(\"4d948979-6efe-4915-9f58-8af8cf3f593f\")) {\n",
              "                    Plotly.newPlot(\n",
              "                        '4d948979-6efe-4915-9f58-8af8cf3f593f',\n",
              "                        [{\"marker\": {\"color\": [\"rgb(255, 153, 51)\", \"rgb(55, 128, 191)\", \"rgb(50, 171, 96)\", \"rgb(128, 0, 128)\", \"rgb(219, 64, 82)\", \"rgb(0, 128, 128)\", \"rgb(255, 255, 51)\", \"rgb(128, 128, 0)\", \"rgb(251, 128, 114)\", \"rgb(128, 177, 211)\"], \"line\": {\"width\": 1.3}, \"size\": [64, 55, 63, 70, 73, 57, 18, 64, 40, 23, 56, 45, 52, 60, 41, 23, 74, 83, 37, 22, 73, 30, 77, 81, 76, 67, 72, 51, 51, 28, 61, 56, 63, 58, 55, 55, 57, 54, 99, 38, 18, 35, 65, 56, 49, 31, 71, 35, 50, 83, 30, 80, 27, 55, 63, 25, 87, 12, 37, 39, 24, 46, 70, 93, 48, 84, 39, 68, 75, 66, 70, 47, 87, 34, 48, 29, 112, 99, 25, 58, 47, 68, 35, 39, 34, 77, 61, 92, 56, 106, 57, 66, 43, 34, 60, 77, 74, 63, 51, 36], \"symbol\": \"circle\"}, \"mode\": \"markers\", \"text\": \"\", \"type\": \"scatter\", \"x\": [0.38776790492739865, 0.03849236956660459, 1.2433137936961798, 0.5842972264102014, -1.1208961479414192, 1.730216441653974, 0.06108034749886219, 0.9262701599086871, -0.87571943613146, 0.7960283927316331, 0.8013388093558175, -0.7713827146130571, -0.3860596312437266, 0.1422534281059505, 1.5343821976708791, -0.522288610381301, 1.2765181110454487, -1.9087210266761787, -0.5455631881633575, -0.9673041467546614, 0.18365245410260891, 0.8319727481794416, -0.6924274444035763, 0.130212270746392, -0.5741925777331125, -1.3462551608381779, -0.41262032018311534, 1.103101235762768, 1.0446220690518804, 0.9472184572850981, 0.01144284758409768, 0.3924697684460991, -0.7436814456680585, 0.5606640324163912, 0.6965257672104554, -0.7934068443983743, 0.582381173671548, -2.282351450427875, 0.7124587395952304, -0.6882658875377795, 1.6993566416898747, 2.8568699326050275, 0.006332552164447542, 0.4435057221418252, 0.09896661061309904, 0.8037600980180298, 1.5334032703702691, -0.4990486031175881, 0.21649575207817678, -0.4096457505587984, 0.8016799189563294, -0.6905393608982633, 2.0872629967650296, 1.474533174467541, -0.9195699744527402, 0.2725139639009779, 0.7685364302756515, -0.6371309176903281, -0.397097728226869, 1.9487774142868644, -2.877517406687037, -1.1877654785957479, 0.9114452597351144, 0.7244960384363618, 0.3218065598901516, 0.6135611614993941, 0.2577221961420037, -1.0607592928299288, 0.2975795540412989, 0.4551520791689616, -0.5795233153683617, 0.5763212135443879, -1.6662421515568697, 1.0389099618890498, 0.1410565241910319, 1.1284833361430653, 2.349189230892838, -1.4199144089065157, -1.1340525523746237, 0.6552467536857508, 1.5617541726720494, -1.0089435007798202, -1.1259228236191567, -1.2386389182482231, 1.6364774453566855, 0.36666797091738595, -0.3432628429736642, -1.043490274577387, 0.8818679747375759, 0.1751112634092605, 0.1247652284295829, 0.5518682798715221, 0.0579060702482222, 0.286418801590196, -1.4700359970155337, -0.5355646681907782, 1.414380652513354, -1.1727913308648066, -0.3937665053241717, 0.1938955533958501], \"y\": [0.319389861291986, -0.30074966743608506, -0.8312005470150119, -2.4054656013055444, 1.95218493548916, -1.3949547196167487, 1.2610777494042638, -0.25106428346371634, 0.7833405935894365, 0.34177773626719854, 1.847886725993193, -0.14969996369267832, 0.08691354446385557, 1.1409817365990378, 0.3593414585006607, -0.6534610730262642, 0.04553691446835388, -0.6026955641298878, 1.5577759039506558, -1.4045087455705607, -0.9378539145505463, 0.043002648037828495, -2.102274024308178, 0.8801400704781029, -0.5281783119970317, 1.343986387262092, -1.0803664242729223, -0.5014747769984824, 0.5970767917134021, 0.5007062749147215, 0.2564679561157993, 0.22936027050727836, -1.124733552945505, 1.346138803322607, -1.076597213636889, -0.14375695629240315, 1.3337935777840249, 0.7804027116427791, -0.785762950919096, 0.4102750089109371, -0.1318258634420717, 0.8532631740447265, -1.0008567066921035, 0.3105586227309746, 0.7355287345659339, 2.1022790876438813, -0.6251400952943048, -0.23429800909253748, -0.061505586329181, -0.6349766598812604, 0.525719391772557, 1.345241629785457, -0.6011991190519752, 1.44640310913396, -0.0872486292630008, 0.10560666020020956, 0.941703428827021, 0.814753456507976, -0.584076289529489, -0.962996905418369, 0.7994852115303925, 0.762184625040766, -0.21785632433335, 0.9864316077429109, 0.755867048719471, -1.1129961928211929, 0.19433562473336324, 1.5619787553664641, -0.5202158167923906, -0.02911156974216635, -1.6734099454901552, -2.2796496602757554, -1.5492433667544536, -0.8651720204735538, -1.8230976407359787, -0.006096200544762621, -1.584109186224074, -0.33035517887516197, -0.7059363123188731, 1.695198015552919, -0.9811233584929907, 0.47042387423562504, -0.5249460929521849, -0.31125324698240014, -0.7994641306782769, -0.6174704292261655, 0.05596717699545592, 0.49209772986311834, 0.19878044412033335, -0.13557781245738254, -0.3868164211531793, 1.070491610505177, 0.8275071529281245, -0.6656345370734653, -0.13503140193318744, -0.8667935467318065, 0.6865335102478416, -0.3186666336242621, 1.3881557946444958, 1.7933718693964338]}],\n",
              "                        {\"legend\": {\"bgcolor\": \"#F5F6F9\", \"font\": {\"color\": \"#4D5663\"}}, \"paper_bgcolor\": \"#F5F6F9\", \"plot_bgcolor\": \"#F5F6F9\", \"template\": {\"data\": {\"bar\": [{\"error_x\": {\"color\": \"#2a3f5f\"}, \"error_y\": {\"color\": \"#2a3f5f\"}, \"marker\": {\"line\": {\"color\": \"#E5ECF6\", \"width\": 0.5}}, \"type\": \"bar\"}], \"barpolar\": [{\"marker\": {\"line\": {\"color\": \"#E5ECF6\", \"width\": 0.5}}, \"type\": \"barpolar\"}], \"carpet\": [{\"aaxis\": {\"endlinecolor\": \"#2a3f5f\", \"gridcolor\": \"white\", \"linecolor\": \"white\", \"minorgridcolor\": \"white\", \"startlinecolor\": \"#2a3f5f\"}, \"baxis\": {\"endlinecolor\": \"#2a3f5f\", \"gridcolor\": \"white\", \"linecolor\": \"white\", \"minorgridcolor\": \"white\", \"startlinecolor\": \"#2a3f5f\"}, \"type\": \"carpet\"}], \"choropleth\": [{\"colorbar\": {\"outlinewidth\": 0, \"ticks\": \"\"}, \"type\": \"choropleth\"}], \"contour\": [{\"colorbar\": {\"outlinewidth\": 0, \"ticks\": \"\"}, \"colorscale\": [[0.0, \"#0d0887\"], [0.1111111111111111, \"#46039f\"], [0.2222222222222222, \"#7201a8\"], [0.3333333333333333, \"#9c179e\"], [0.4444444444444444, \"#bd3786\"], [0.5555555555555556, \"#d8576b\"], [0.6666666666666666, \"#ed7953\"], [0.7777777777777778, \"#fb9f3a\"], [0.8888888888888888, \"#fdca26\"], [1.0, \"#f0f921\"]], \"type\": \"contour\"}], \"contourcarpet\": [{\"colorbar\": {\"outlinewidth\": 0, \"ticks\": \"\"}, \"type\": \"contourcarpet\"}], \"heatmap\": [{\"colorbar\": {\"outlinewidth\": 0, \"ticks\": \"\"}, \"colorscale\": [[0.0, \"#0d0887\"], [0.1111111111111111, \"#46039f\"], [0.2222222222222222, \"#7201a8\"], [0.3333333333333333, \"#9c179e\"], [0.4444444444444444, \"#bd3786\"], [0.5555555555555556, \"#d8576b\"], [0.6666666666666666, \"#ed7953\"], [0.7777777777777778, \"#fb9f3a\"], [0.8888888888888888, \"#fdca26\"], [1.0, \"#f0f921\"]], \"type\": \"heatmap\"}], \"heatmapgl\": [{\"colorbar\": {\"outlinewidth\": 0, \"ticks\": \"\"}, \"colorscale\": [[0.0, \"#0d0887\"], [0.1111111111111111, \"#46039f\"], [0.2222222222222222, \"#7201a8\"], [0.3333333333333333, \"#9c179e\"], [0.4444444444444444, \"#bd3786\"], [0.5555555555555556, \"#d8576b\"], [0.6666666666666666, \"#ed7953\"], [0.7777777777777778, \"#fb9f3a\"], [0.8888888888888888, \"#fdca26\"], [1.0, \"#f0f921\"]], \"type\": \"heatmapgl\"}], \"histogram\": [{\"marker\": {\"colorbar\": {\"outlinewidth\": 0, \"ticks\": \"\"}}, \"type\": \"histogram\"}], \"histogram2d\": [{\"colorbar\": {\"outlinewidth\": 0, \"ticks\": \"\"}, \"colorscale\": [[0.0, \"#0d0887\"], [0.1111111111111111, \"#46039f\"], [0.2222222222222222, \"#7201a8\"], [0.3333333333333333, \"#9c179e\"], [0.4444444444444444, \"#bd3786\"], [0.5555555555555556, \"#d8576b\"], [0.6666666666666666, \"#ed7953\"], [0.7777777777777778, \"#fb9f3a\"], [0.8888888888888888, \"#fdca26\"], [1.0, \"#f0f921\"]], \"type\": \"histogram2d\"}], \"histogram2dcontour\": [{\"colorbar\": {\"outlinewidth\": 0, \"ticks\": \"\"}, \"colorscale\": [[0.0, \"#0d0887\"], [0.1111111111111111, \"#46039f\"], [0.2222222222222222, \"#7201a8\"], [0.3333333333333333, \"#9c179e\"], [0.4444444444444444, \"#bd3786\"], [0.5555555555555556, \"#d8576b\"], [0.6666666666666666, \"#ed7953\"], [0.7777777777777778, \"#fb9f3a\"], [0.8888888888888888, \"#fdca26\"], [1.0, \"#f0f921\"]], \"type\": \"histogram2dcontour\"}], \"mesh3d\": [{\"colorbar\": {\"outlinewidth\": 0, \"ticks\": \"\"}, \"type\": \"mesh3d\"}], \"parcoords\": [{\"line\": {\"colorbar\": {\"outlinewidth\": 0, \"ticks\": \"\"}}, \"type\": \"parcoords\"}], \"pie\": [{\"automargin\": true, \"type\": \"pie\"}], \"scatter\": [{\"marker\": {\"colorbar\": {\"outlinewidth\": 0, \"ticks\": \"\"}}, \"type\": \"scatter\"}], \"scatter3d\": [{\"line\": {\"colorbar\": {\"outlinewidth\": 0, \"ticks\": \"\"}}, \"marker\": {\"colorbar\": {\"outlinewidth\": 0, \"ticks\": \"\"}}, \"type\": \"scatter3d\"}], \"scattercarpet\": [{\"marker\": {\"colorbar\": {\"outlinewidth\": 0, \"ticks\": \"\"}}, \"type\": \"scattercarpet\"}], \"scattergeo\": [{\"marker\": {\"colorbar\": {\"outlinewidth\": 0, \"ticks\": \"\"}}, \"type\": \"scattergeo\"}], \"scattergl\": [{\"marker\": {\"colorbar\": {\"outlinewidth\": 0, \"ticks\": \"\"}}, \"type\": \"scattergl\"}], \"scattermapbox\": [{\"marker\": {\"colorbar\": {\"outlinewidth\": 0, \"ticks\": \"\"}}, \"type\": \"scattermapbox\"}], \"scatterpolar\": [{\"marker\": {\"colorbar\": {\"outlinewidth\": 0, \"ticks\": \"\"}}, \"type\": \"scatterpolar\"}], \"scatterpolargl\": [{\"marker\": {\"colorbar\": {\"outlinewidth\": 0, \"ticks\": \"\"}}, \"type\": \"scatterpolargl\"}], \"scatterternary\": [{\"marker\": {\"colorbar\": {\"outlinewidth\": 0, \"ticks\": \"\"}}, \"type\": \"scatterternary\"}], \"surface\": [{\"colorbar\": {\"outlinewidth\": 0, \"ticks\": \"\"}, \"colorscale\": [[0.0, \"#0d0887\"], [0.1111111111111111, \"#46039f\"], [0.2222222222222222, \"#7201a8\"], [0.3333333333333333, \"#9c179e\"], [0.4444444444444444, \"#bd3786\"], [0.5555555555555556, \"#d8576b\"], [0.6666666666666666, \"#ed7953\"], [0.7777777777777778, \"#fb9f3a\"], [0.8888888888888888, \"#fdca26\"], [1.0, \"#f0f921\"]], \"type\": \"surface\"}], \"table\": [{\"cells\": {\"fill\": {\"color\": \"#EBF0F8\"}, \"line\": {\"color\": \"white\"}}, \"header\": {\"fill\": {\"color\": \"#C8D4E3\"}, \"line\": {\"color\": \"white\"}}, \"type\": \"table\"}]}, \"layout\": {\"annotationdefaults\": {\"arrowcolor\": \"#2a3f5f\", \"arrowhead\": 0, \"arrowwidth\": 1}, \"coloraxis\": {\"colorbar\": {\"outlinewidth\": 0, \"ticks\": \"\"}}, \"colorscale\": {\"diverging\": [[0, \"#8e0152\"], [0.1, \"#c51b7d\"], [0.2, \"#de77ae\"], [0.3, \"#f1b6da\"], [0.4, \"#fde0ef\"], [0.5, \"#f7f7f7\"], [0.6, \"#e6f5d0\"], [0.7, \"#b8e186\"], [0.8, \"#7fbc41\"], [0.9, \"#4d9221\"], [1, \"#276419\"]], \"sequential\": [[0.0, \"#0d0887\"], [0.1111111111111111, \"#46039f\"], [0.2222222222222222, \"#7201a8\"], [0.3333333333333333, \"#9c179e\"], [0.4444444444444444, \"#bd3786\"], [0.5555555555555556, \"#d8576b\"], [0.6666666666666666, \"#ed7953\"], [0.7777777777777778, \"#fb9f3a\"], [0.8888888888888888, \"#fdca26\"], [1.0, \"#f0f921\"]], \"sequentialminus\": [[0.0, \"#0d0887\"], [0.1111111111111111, \"#46039f\"], [0.2222222222222222, \"#7201a8\"], [0.3333333333333333, \"#9c179e\"], [0.4444444444444444, \"#bd3786\"], [0.5555555555555556, \"#d8576b\"], [0.6666666666666666, \"#ed7953\"], [0.7777777777777778, \"#fb9f3a\"], [0.8888888888888888, \"#fdca26\"], [1.0, \"#f0f921\"]]}, \"colorway\": [\"#636efa\", \"#EF553B\", \"#00cc96\", \"#ab63fa\", \"#FFA15A\", \"#19d3f3\", \"#FF6692\", \"#B6E880\", \"#FF97FF\", \"#FECB52\"], \"font\": {\"color\": \"#2a3f5f\"}, \"geo\": {\"bgcolor\": \"white\", \"lakecolor\": \"white\", \"landcolor\": \"#E5ECF6\", \"showlakes\": true, \"showland\": true, \"subunitcolor\": \"white\"}, \"hoverlabel\": {\"align\": \"left\"}, \"hovermode\": \"closest\", \"mapbox\": {\"style\": \"light\"}, \"paper_bgcolor\": \"white\", \"plot_bgcolor\": \"#E5ECF6\", \"polar\": {\"angularaxis\": {\"gridcolor\": \"white\", \"linecolor\": \"white\", \"ticks\": \"\"}, \"bgcolor\": \"#E5ECF6\", \"radialaxis\": {\"gridcolor\": \"white\", \"linecolor\": \"white\", \"ticks\": \"\"}}, \"scene\": {\"xaxis\": {\"backgroundcolor\": \"#E5ECF6\", \"gridcolor\": \"white\", \"gridwidth\": 2, \"linecolor\": \"white\", \"showbackground\": true, \"ticks\": \"\", \"zerolinecolor\": \"white\"}, \"yaxis\": {\"backgroundcolor\": \"#E5ECF6\", \"gridcolor\": \"white\", \"gridwidth\": 2, \"linecolor\": \"white\", \"showbackground\": true, \"ticks\": \"\", \"zerolinecolor\": \"white\"}, \"zaxis\": {\"backgroundcolor\": \"#E5ECF6\", \"gridcolor\": \"white\", \"gridwidth\": 2, \"linecolor\": \"white\", \"showbackground\": true, \"ticks\": \"\", \"zerolinecolor\": \"white\"}}, \"shapedefaults\": {\"line\": {\"color\": \"#2a3f5f\"}}, \"ternary\": {\"aaxis\": {\"gridcolor\": \"white\", \"linecolor\": \"white\", \"ticks\": \"\"}, \"baxis\": {\"gridcolor\": \"white\", \"linecolor\": \"white\", \"ticks\": \"\"}, \"bgcolor\": \"#E5ECF6\", \"caxis\": {\"gridcolor\": \"white\", \"linecolor\": \"white\", \"ticks\": \"\"}}, \"title\": {\"x\": 0.05}, \"xaxis\": {\"automargin\": true, \"gridcolor\": \"white\", \"linecolor\": \"white\", \"ticks\": \"\", \"title\": {\"standoff\": 15}, \"zerolinecolor\": \"white\", \"zerolinewidth\": 2}, \"yaxis\": {\"automargin\": true, \"gridcolor\": \"white\", \"linecolor\": \"white\", \"ticks\": \"\", \"title\": {\"standoff\": 15}, \"zerolinecolor\": \"white\", \"zerolinewidth\": 2}}}, \"title\": {\"font\": {\"color\": \"#4D5663\"}}, \"xaxis\": {\"gridcolor\": \"#E1E5ED\", \"showgrid\": true, \"tickfont\": {\"color\": \"#4D5663\"}, \"title\": {\"font\": {\"color\": \"#4D5663\"}, \"text\": \"\"}, \"zerolinecolor\": \"#E1E5ED\"}, \"yaxis\": {\"gridcolor\": \"#E1E5ED\", \"showgrid\": true, \"tickfont\": {\"color\": \"#4D5663\"}, \"title\": {\"font\": {\"color\": \"#4D5663\"}, \"text\": \"\"}, \"zerolinecolor\": \"#E1E5ED\"}},\n",
              "                        {\"showLink\": true, \"linkText\": \"Export to plot.ly\", \"plotlyServerURL\": \"https://plot.ly\", \"responsive\": true}\n",
              "                    ).then(function(){\n",
              "                            \n",
              "var gd = document.getElementById('4d948979-6efe-4915-9f58-8af8cf3f593f');\n",
              "var x = new MutationObserver(function (mutations, observer) {{\n",
              "        var display = window.getComputedStyle(gd).display;\n",
              "        if (!display || display === 'none') {{\n",
              "            console.log([gd, 'removed!']);\n",
              "            Plotly.purge(gd);\n",
              "            observer.disconnect();\n",
              "        }}\n",
              "}});\n",
              "\n",
              "// Listen for the removal of the full notebook cells\n",
              "var notebookContainer = gd.closest('#notebook-container');\n",
              "if (notebookContainer) {{\n",
              "    x.observe(notebookContainer, {childList: true});\n",
              "}}\n",
              "\n",
              "// Listen for the clearing of the current output cell\n",
              "var outputEl = gd.closest('.output');\n",
              "if (outputEl) {{\n",
              "    x.observe(outputEl, {childList: true});\n",
              "}}\n",
              "\n",
              "                        })\n",
              "                };\n",
              "                });\n",
              "            </script>\n",
              "        </div>"
            ],
            "application/vnd.plotly.v1+json": {
              "data": [
                {
                  "text": "",
                  "y": [
                    0.319389861291986,
                    -0.30074966743608506,
                    -0.8312005470150119,
                    -2.4054656013055444,
                    1.95218493548916,
                    -1.3949547196167487,
                    1.2610777494042638,
                    -0.25106428346371634,
                    0.7833405935894365,
                    0.34177773626719854,
                    1.847886725993193,
                    -0.14969996369267832,
                    0.08691354446385557,
                    1.1409817365990378,
                    0.3593414585006607,
                    -0.6534610730262642,
                    0.04553691446835388,
                    -0.6026955641298878,
                    1.5577759039506558,
                    -1.4045087455705607,
                    -0.9378539145505463,
                    0.043002648037828495,
                    -2.102274024308178,
                    0.8801400704781029,
                    -0.5281783119970317,
                    1.343986387262092,
                    -1.0803664242729223,
                    -0.5014747769984824,
                    0.5970767917134021,
                    0.5007062749147215,
                    0.2564679561157993,
                    0.22936027050727836,
                    -1.124733552945505,
                    1.346138803322607,
                    -1.076597213636889,
                    -0.14375695629240315,
                    1.3337935777840249,
                    0.7804027116427791,
                    -0.785762950919096,
                    0.4102750089109371,
                    -0.1318258634420717,
                    0.8532631740447265,
                    -1.0008567066921035,
                    0.3105586227309746,
                    0.7355287345659339,
                    2.1022790876438813,
                    -0.6251400952943048,
                    -0.23429800909253748,
                    -0.061505586329181,
                    -0.6349766598812604,
                    0.525719391772557,
                    1.345241629785457,
                    -0.6011991190519752,
                    1.44640310913396,
                    -0.0872486292630008,
                    0.10560666020020956,
                    0.941703428827021,
                    0.814753456507976,
                    -0.584076289529489,
                    -0.962996905418369,
                    0.7994852115303925,
                    0.762184625040766,
                    -0.21785632433335,
                    0.9864316077429109,
                    0.755867048719471,
                    -1.1129961928211929,
                    0.19433562473336324,
                    1.5619787553664641,
                    -0.5202158167923906,
                    -0.02911156974216635,
                    -1.6734099454901552,
                    -2.2796496602757554,
                    -1.5492433667544536,
                    -0.8651720204735538,
                    -1.8230976407359787,
                    -0.006096200544762621,
                    -1.584109186224074,
                    -0.33035517887516197,
                    -0.7059363123188731,
                    1.695198015552919,
                    -0.9811233584929907,
                    0.47042387423562504,
                    -0.5249460929521849,
                    -0.31125324698240014,
                    -0.7994641306782769,
                    -0.6174704292261655,
                    0.05596717699545592,
                    0.49209772986311834,
                    0.19878044412033335,
                    -0.13557781245738254,
                    -0.3868164211531793,
                    1.070491610505177,
                    0.8275071529281245,
                    -0.6656345370734653,
                    -0.13503140193318744,
                    -0.8667935467318065,
                    0.6865335102478416,
                    -0.3186666336242621,
                    1.3881557946444958,
                    1.7933718693964338
                  ],
                  "mode": "markers",
                  "marker": {
                    "color": [
                      "rgb(255, 153, 51)",
                      "rgb(55, 128, 191)",
                      "rgb(50, 171, 96)",
                      "rgb(128, 0, 128)",
                      "rgb(219, 64, 82)",
                      "rgb(0, 128, 128)",
                      "rgb(255, 255, 51)",
                      "rgb(128, 128, 0)",
                      "rgb(251, 128, 114)",
                      "rgb(128, 177, 211)"
                    ],
                    "line": {
                      "width": 1.3
                    },
                    "symbol": "circle",
                    "size": [
                      64,
                      55,
                      63,
                      70,
                      73,
                      57,
                      18,
                      64,
                      40,
                      23,
                      56,
                      45,
                      52,
                      60,
                      41,
                      23,
                      74,
                      83,
                      37,
                      22,
                      73,
                      30,
                      77,
                      81,
                      76,
                      67,
                      72,
                      51,
                      51,
                      28,
                      61,
                      56,
                      63,
                      58,
                      55,
                      55,
                      57,
                      54,
                      99,
                      38,
                      18,
                      35,
                      65,
                      56,
                      49,
                      31,
                      71,
                      35,
                      50,
                      83,
                      30,
                      80,
                      27,
                      55,
                      63,
                      25,
                      87,
                      12,
                      37,
                      39,
                      24,
                      46,
                      70,
                      93,
                      48,
                      84,
                      39,
                      68,
                      75,
                      66,
                      70,
                      47,
                      87,
                      34,
                      48,
                      29,
                      112,
                      99,
                      25,
                      58,
                      47,
                      68,
                      35,
                      39,
                      34,
                      77,
                      61,
                      92,
                      56,
                      106,
                      57,
                      66,
                      43,
                      34,
                      60,
                      77,
                      74,
                      63,
                      51,
                      36
                    ]
                  },
                  "x": [
                    0.38776790492739865,
                    0.03849236956660459,
                    1.2433137936961798,
                    0.5842972264102014,
                    -1.1208961479414192,
                    1.730216441653974,
                    0.06108034749886219,
                    0.9262701599086871,
                    -0.87571943613146,
                    0.7960283927316331,
                    0.8013388093558175,
                    -0.7713827146130571,
                    -0.3860596312437266,
                    0.1422534281059505,
                    1.5343821976708791,
                    -0.522288610381301,
                    1.2765181110454487,
                    -1.9087210266761787,
                    -0.5455631881633575,
                    -0.9673041467546614,
                    0.18365245410260891,
                    0.8319727481794416,
                    -0.6924274444035763,
                    0.130212270746392,
                    -0.5741925777331125,
                    -1.3462551608381779,
                    -0.41262032018311534,
                    1.103101235762768,
                    1.0446220690518804,
                    0.9472184572850981,
                    0.01144284758409768,
                    0.3924697684460991,
                    -0.7436814456680585,
                    0.5606640324163912,
                    0.6965257672104554,
                    -0.7934068443983743,
                    0.582381173671548,
                    -2.282351450427875,
                    0.7124587395952304,
                    -0.6882658875377795,
                    1.6993566416898747,
                    2.8568699326050275,
                    0.006332552164447542,
                    0.4435057221418252,
                    0.09896661061309904,
                    0.8037600980180298,
                    1.5334032703702691,
                    -0.4990486031175881,
                    0.21649575207817678,
                    -0.4096457505587984,
                    0.8016799189563294,
                    -0.6905393608982633,
                    2.0872629967650296,
                    1.474533174467541,
                    -0.9195699744527402,
                    0.2725139639009779,
                    0.7685364302756515,
                    -0.6371309176903281,
                    -0.397097728226869,
                    1.9487774142868644,
                    -2.877517406687037,
                    -1.1877654785957479,
                    0.9114452597351144,
                    0.7244960384363618,
                    0.3218065598901516,
                    0.6135611614993941,
                    0.2577221961420037,
                    -1.0607592928299288,
                    0.2975795540412989,
                    0.4551520791689616,
                    -0.5795233153683617,
                    0.5763212135443879,
                    -1.6662421515568697,
                    1.0389099618890498,
                    0.1410565241910319,
                    1.1284833361430653,
                    2.349189230892838,
                    -1.4199144089065157,
                    -1.1340525523746237,
                    0.6552467536857508,
                    1.5617541726720494,
                    -1.0089435007798202,
                    -1.1259228236191567,
                    -1.2386389182482231,
                    1.6364774453566855,
                    0.36666797091738595,
                    -0.3432628429736642,
                    -1.043490274577387,
                    0.8818679747375759,
                    0.1751112634092605,
                    0.1247652284295829,
                    0.5518682798715221,
                    0.0579060702482222,
                    0.286418801590196,
                    -1.4700359970155337,
                    -0.5355646681907782,
                    1.414380652513354,
                    -1.1727913308648066,
                    -0.3937665053241717,
                    0.1938955533958501
                  ],
                  "type": "scatter"
                }
              ],
              "config": {
                "plotlyServerURL": "https://plot.ly",
                "linkText": "Export to plot.ly",
                "showLink": true
              },
              "layout": {
                "template": {
                  "layout": {
                    "shapedefaults": {
                      "line": {
                        "color": "#2a3f5f"
                      }
                    },
                    "polar": {
                      "radialaxis": {
                        "ticks": "",
                        "gridcolor": "white",
                        "linecolor": "white"
                      },
                      "bgcolor": "#E5ECF6",
                      "angularaxis": {
                        "ticks": "",
                        "gridcolor": "white",
                        "linecolor": "white"
                      }
                    },
                    "colorway": [
                      "#636efa",
                      "#EF553B",
                      "#00cc96",
                      "#ab63fa",
                      "#FFA15A",
                      "#19d3f3",
                      "#FF6692",
                      "#B6E880",
                      "#FF97FF",
                      "#FECB52"
                    ],
                    "xaxis": {
                      "automargin": true,
                      "title": {
                        "standoff": 15
                      },
                      "zerolinewidth": 2,
                      "ticks": "",
                      "zerolinecolor": "white",
                      "gridcolor": "white",
                      "linecolor": "white"
                    },
                    "colorscale": {
                      "diverging": [
                        [
                          0,
                          "#8e0152"
                        ],
                        [
                          0.1,
                          "#c51b7d"
                        ],
                        [
                          0.2,
                          "#de77ae"
                        ],
                        [
                          0.3,
                          "#f1b6da"
                        ],
                        [
                          0.4,
                          "#fde0ef"
                        ],
                        [
                          0.5,
                          "#f7f7f7"
                        ],
                        [
                          0.6,
                          "#e6f5d0"
                        ],
                        [
                          0.7,
                          "#b8e186"
                        ],
                        [
                          0.8,
                          "#7fbc41"
                        ],
                        [
                          0.9,
                          "#4d9221"
                        ],
                        [
                          1,
                          "#276419"
                        ]
                      ],
                      "sequential": [
                        [
                          0,
                          "#0d0887"
                        ],
                        [
                          0.1111111111111111,
                          "#46039f"
                        ],
                        [
                          0.2222222222222222,
                          "#7201a8"
                        ],
                        [
                          0.3333333333333333,
                          "#9c179e"
                        ],
                        [
                          0.4444444444444444,
                          "#bd3786"
                        ],
                        [
                          0.5555555555555556,
                          "#d8576b"
                        ],
                        [
                          0.6666666666666666,
                          "#ed7953"
                        ],
                        [
                          0.7777777777777778,
                          "#fb9f3a"
                        ],
                        [
                          0.8888888888888888,
                          "#fdca26"
                        ],
                        [
                          1,
                          "#f0f921"
                        ]
                      ],
                      "sequentialminus": [
                        [
                          0,
                          "#0d0887"
                        ],
                        [
                          0.1111111111111111,
                          "#46039f"
                        ],
                        [
                          0.2222222222222222,
                          "#7201a8"
                        ],
                        [
                          0.3333333333333333,
                          "#9c179e"
                        ],
                        [
                          0.4444444444444444,
                          "#bd3786"
                        ],
                        [
                          0.5555555555555556,
                          "#d8576b"
                        ],
                        [
                          0.6666666666666666,
                          "#ed7953"
                        ],
                        [
                          0.7777777777777778,
                          "#fb9f3a"
                        ],
                        [
                          0.8888888888888888,
                          "#fdca26"
                        ],
                        [
                          1,
                          "#f0f921"
                        ]
                      ]
                    },
                    "paper_bgcolor": "white",
                    "plot_bgcolor": "#E5ECF6",
                    "title": {
                      "x": 0.05
                    },
                    "scene": {
                      "zaxis": {
                        "backgroundcolor": "#E5ECF6",
                        "ticks": "",
                        "gridwidth": 2,
                        "showbackground": true,
                        "zerolinecolor": "white",
                        "gridcolor": "white",
                        "linecolor": "white"
                      },
                      "xaxis": {
                        "backgroundcolor": "#E5ECF6",
                        "ticks": "",
                        "gridwidth": 2,
                        "showbackground": true,
                        "zerolinecolor": "white",
                        "gridcolor": "white",
                        "linecolor": "white"
                      },
                      "yaxis": {
                        "backgroundcolor": "#E5ECF6",
                        "ticks": "",
                        "gridwidth": 2,
                        "showbackground": true,
                        "zerolinecolor": "white",
                        "gridcolor": "white",
                        "linecolor": "white"
                      }
                    },
                    "yaxis": {
                      "automargin": true,
                      "title": {
                        "standoff": 15
                      },
                      "zerolinewidth": 2,
                      "ticks": "",
                      "zerolinecolor": "white",
                      "gridcolor": "white",
                      "linecolor": "white"
                    },
                    "annotationdefaults": {
                      "arrowwidth": 1,
                      "arrowhead": 0,
                      "arrowcolor": "#2a3f5f"
                    },
                    "hoverlabel": {
                      "align": "left"
                    },
                    "ternary": {
                      "bgcolor": "#E5ECF6",
                      "baxis": {
                        "ticks": "",
                        "gridcolor": "white",
                        "linecolor": "white"
                      },
                      "caxis": {
                        "ticks": "",
                        "gridcolor": "white",
                        "linecolor": "white"
                      },
                      "aaxis": {
                        "ticks": "",
                        "gridcolor": "white",
                        "linecolor": "white"
                      }
                    },
                    "mapbox": {
                      "style": "light"
                    },
                    "hovermode": "closest",
                    "font": {
                      "color": "#2a3f5f"
                    },
                    "geo": {
                      "showland": true,
                      "landcolor": "#E5ECF6",
                      "showlakes": true,
                      "bgcolor": "white",
                      "subunitcolor": "white",
                      "lakecolor": "white"
                    },
                    "coloraxis": {
                      "colorbar": {
                        "outlinewidth": 0,
                        "ticks": ""
                      }
                    }
                  },
                  "data": {
                    "mesh3d": [
                      {
                        "colorbar": {
                          "outlinewidth": 0,
                          "ticks": ""
                        },
                        "type": "mesh3d"
                      }
                    ],
                    "scattercarpet": [
                      {
                        "marker": {
                          "colorbar": {
                            "outlinewidth": 0,
                            "ticks": ""
                          }
                        },
                        "type": "scattercarpet"
                      }
                    ],
                    "pie": [
                      {
                        "automargin": true,
                        "type": "pie"
                      }
                    ],
                    "surface": [
                      {
                        "colorbar": {
                          "outlinewidth": 0,
                          "ticks": ""
                        },
                        "type": "surface",
                        "colorscale": [
                          [
                            0,
                            "#0d0887"
                          ],
                          [
                            0.1111111111111111,
                            "#46039f"
                          ],
                          [
                            0.2222222222222222,
                            "#7201a8"
                          ],
                          [
                            0.3333333333333333,
                            "#9c179e"
                          ],
                          [
                            0.4444444444444444,
                            "#bd3786"
                          ],
                          [
                            0.5555555555555556,
                            "#d8576b"
                          ],
                          [
                            0.6666666666666666,
                            "#ed7953"
                          ],
                          [
                            0.7777777777777778,
                            "#fb9f3a"
                          ],
                          [
                            0.8888888888888888,
                            "#fdca26"
                          ],
                          [
                            1,
                            "#f0f921"
                          ]
                        ]
                      }
                    ],
                    "table": [
                      {
                        "header": {
                          "line": {
                            "color": "white"
                          },
                          "fill": {
                            "color": "#C8D4E3"
                          }
                        },
                        "cells": {
                          "line": {
                            "color": "white"
                          },
                          "fill": {
                            "color": "#EBF0F8"
                          }
                        },
                        "type": "table"
                      }
                    ],
                    "scatterpolargl": [
                      {
                        "marker": {
                          "colorbar": {
                            "outlinewidth": 0,
                            "ticks": ""
                          }
                        },
                        "type": "scatterpolargl"
                      }
                    ],
                    "contour": [
                      {
                        "colorbar": {
                          "outlinewidth": 0,
                          "ticks": ""
                        },
                        "type": "contour",
                        "colorscale": [
                          [
                            0,
                            "#0d0887"
                          ],
                          [
                            0.1111111111111111,
                            "#46039f"
                          ],
                          [
                            0.2222222222222222,
                            "#7201a8"
                          ],
                          [
                            0.3333333333333333,
                            "#9c179e"
                          ],
                          [
                            0.4444444444444444,
                            "#bd3786"
                          ],
                          [
                            0.5555555555555556,
                            "#d8576b"
                          ],
                          [
                            0.6666666666666666,
                            "#ed7953"
                          ],
                          [
                            0.7777777777777778,
                            "#fb9f3a"
                          ],
                          [
                            0.8888888888888888,
                            "#fdca26"
                          ],
                          [
                            1,
                            "#f0f921"
                          ]
                        ]
                      }
                    ],
                    "carpet": [
                      {
                        "type": "carpet",
                        "baxis": {
                          "minorgridcolor": "white",
                          "gridcolor": "white",
                          "linecolor": "white",
                          "endlinecolor": "#2a3f5f",
                          "startlinecolor": "#2a3f5f"
                        },
                        "aaxis": {
                          "minorgridcolor": "white",
                          "gridcolor": "white",
                          "linecolor": "white",
                          "endlinecolor": "#2a3f5f",
                          "startlinecolor": "#2a3f5f"
                        }
                      }
                    ],
                    "contourcarpet": [
                      {
                        "colorbar": {
                          "outlinewidth": 0,
                          "ticks": ""
                        },
                        "type": "contourcarpet"
                      }
                    ],
                    "heatmap": [
                      {
                        "colorbar": {
                          "outlinewidth": 0,
                          "ticks": ""
                        },
                        "type": "heatmap",
                        "colorscale": [
                          [
                            0,
                            "#0d0887"
                          ],
                          [
                            0.1111111111111111,
                            "#46039f"
                          ],
                          [
                            0.2222222222222222,
                            "#7201a8"
                          ],
                          [
                            0.3333333333333333,
                            "#9c179e"
                          ],
                          [
                            0.4444444444444444,
                            "#bd3786"
                          ],
                          [
                            0.5555555555555556,
                            "#d8576b"
                          ],
                          [
                            0.6666666666666666,
                            "#ed7953"
                          ],
                          [
                            0.7777777777777778,
                            "#fb9f3a"
                          ],
                          [
                            0.8888888888888888,
                            "#fdca26"
                          ],
                          [
                            1,
                            "#f0f921"
                          ]
                        ]
                      }
                    ],
                    "scattermapbox": [
                      {
                        "marker": {
                          "colorbar": {
                            "outlinewidth": 0,
                            "ticks": ""
                          }
                        },
                        "type": "scattermapbox"
                      }
                    ],
                    "scatter3d": [
                      {
                        "marker": {
                          "colorbar": {
                            "outlinewidth": 0,
                            "ticks": ""
                          }
                        },
                        "line": {
                          "colorbar": {
                            "outlinewidth": 0,
                            "ticks": ""
                          }
                        },
                        "type": "scatter3d"
                      }
                    ],
                    "scattergl": [
                      {
                        "marker": {
                          "colorbar": {
                            "outlinewidth": 0,
                            "ticks": ""
                          }
                        },
                        "type": "scattergl"
                      }
                    ],
                    "scatterternary": [
                      {
                        "marker": {
                          "colorbar": {
                            "outlinewidth": 0,
                            "ticks": ""
                          }
                        },
                        "type": "scatterternary"
                      }
                    ],
                    "histogram": [
                      {
                        "marker": {
                          "colorbar": {
                            "outlinewidth": 0,
                            "ticks": ""
                          }
                        },
                        "type": "histogram"
                      }
                    ],
                    "heatmapgl": [
                      {
                        "colorbar": {
                          "outlinewidth": 0,
                          "ticks": ""
                        },
                        "type": "heatmapgl",
                        "colorscale": [
                          [
                            0,
                            "#0d0887"
                          ],
                          [
                            0.1111111111111111,
                            "#46039f"
                          ],
                          [
                            0.2222222222222222,
                            "#7201a8"
                          ],
                          [
                            0.3333333333333333,
                            "#9c179e"
                          ],
                          [
                            0.4444444444444444,
                            "#bd3786"
                          ],
                          [
                            0.5555555555555556,
                            "#d8576b"
                          ],
                          [
                            0.6666666666666666,
                            "#ed7953"
                          ],
                          [
                            0.7777777777777778,
                            "#fb9f3a"
                          ],
                          [
                            0.8888888888888888,
                            "#fdca26"
                          ],
                          [
                            1,
                            "#f0f921"
                          ]
                        ]
                      }
                    ],
                    "scatterpolar": [
                      {
                        "marker": {
                          "colorbar": {
                            "outlinewidth": 0,
                            "ticks": ""
                          }
                        },
                        "type": "scatterpolar"
                      }
                    ],
                    "histogram2d": [
                      {
                        "colorbar": {
                          "outlinewidth": 0,
                          "ticks": ""
                        },
                        "type": "histogram2d",
                        "colorscale": [
                          [
                            0,
                            "#0d0887"
                          ],
                          [
                            0.1111111111111111,
                            "#46039f"
                          ],
                          [
                            0.2222222222222222,
                            "#7201a8"
                          ],
                          [
                            0.3333333333333333,
                            "#9c179e"
                          ],
                          [
                            0.4444444444444444,
                            "#bd3786"
                          ],
                          [
                            0.5555555555555556,
                            "#d8576b"
                          ],
                          [
                            0.6666666666666666,
                            "#ed7953"
                          ],
                          [
                            0.7777777777777778,
                            "#fb9f3a"
                          ],
                          [
                            0.8888888888888888,
                            "#fdca26"
                          ],
                          [
                            1,
                            "#f0f921"
                          ]
                        ]
                      }
                    ],
                    "scattergeo": [
                      {
                        "marker": {
                          "colorbar": {
                            "outlinewidth": 0,
                            "ticks": ""
                          }
                        },
                        "type": "scattergeo"
                      }
                    ],
                    "bar": [
                      {
                        "marker": {
                          "line": {
                            "color": "#E5ECF6",
                            "width": 0.5
                          }
                        },
                        "type": "bar",
                        "error_x": {
                          "color": "#2a3f5f"
                        },
                        "error_y": {
                          "color": "#2a3f5f"
                        }
                      }
                    ],
                    "choropleth": [
                      {
                        "colorbar": {
                          "outlinewidth": 0,
                          "ticks": ""
                        },
                        "type": "choropleth"
                      }
                    ],
                    "parcoords": [
                      {
                        "line": {
                          "colorbar": {
                            "outlinewidth": 0,
                            "ticks": ""
                          }
                        },
                        "type": "parcoords"
                      }
                    ],
                    "barpolar": [
                      {
                        "marker": {
                          "line": {
                            "color": "#E5ECF6",
                            "width": 0.5
                          }
                        },
                        "type": "barpolar"
                      }
                    ],
                    "histogram2dcontour": [
                      {
                        "colorbar": {
                          "outlinewidth": 0,
                          "ticks": ""
                        },
                        "type": "histogram2dcontour",
                        "colorscale": [
                          [
                            0,
                            "#0d0887"
                          ],
                          [
                            0.1111111111111111,
                            "#46039f"
                          ],
                          [
                            0.2222222222222222,
                            "#7201a8"
                          ],
                          [
                            0.3333333333333333,
                            "#9c179e"
                          ],
                          [
                            0.4444444444444444,
                            "#bd3786"
                          ],
                          [
                            0.5555555555555556,
                            "#d8576b"
                          ],
                          [
                            0.6666666666666666,
                            "#ed7953"
                          ],
                          [
                            0.7777777777777778,
                            "#fb9f3a"
                          ],
                          [
                            0.8888888888888888,
                            "#fdca26"
                          ],
                          [
                            1,
                            "#f0f921"
                          ]
                        ]
                      }
                    ],
                    "scatter": [
                      {
                        "marker": {
                          "colorbar": {
                            "outlinewidth": 0,
                            "ticks": ""
                          }
                        },
                        "type": "scatter"
                      }
                    ]
                  }
                },
                "title": {
                  "font": {
                    "color": "#4D5663"
                  }
                },
                "paper_bgcolor": "#F5F6F9",
                "plot_bgcolor": "#F5F6F9",
                "yaxis": {
                  "tickfont": {
                    "color": "#4D5663"
                  },
                  "zerolinecolor": "#E1E5ED",
                  "title": {
                    "text": "",
                    "font": {
                      "color": "#4D5663"
                    }
                  },
                  "gridcolor": "#E1E5ED",
                  "showgrid": true
                },
                "xaxis": {
                  "tickfont": {
                    "color": "#4D5663"
                  },
                  "zerolinecolor": "#E1E5ED",
                  "title": {
                    "text": "",
                    "font": {
                      "color": "#4D5663"
                    }
                  },
                  "gridcolor": "#E1E5ED",
                  "showgrid": true
                },
                "legend": {
                  "bgcolor": "#F5F6F9",
                  "font": {
                    "color": "#4D5663"
                  }
                }
              }
            }
          },
          "metadata": {}
        }
      ]
    },
    {
      "cell_type": "markdown",
      "metadata": {
        "id": "mHkNsvXuJLzc"
      },
      "source": [
        "## scatter_matrix()\n",
        "\n",
        "Similar a sns.pairplot()"
      ]
    },
    {
      "cell_type": "code",
      "metadata": {
        "id": "iAtmeeWeJLzc",
        "outputId": "10ef825a-0737-42a4-b38f-7e09f6f6cfd5",
        "colab": {
          "base_uri": "https://localhost:8080/",
          "height": 542
        }
      },
      "source": [
        "df.scatter_matrix()"
      ],
      "execution_count": 54,
      "outputs": [
        {
          "output_type": "display_data",
          "data": {
            "text/html": [
              "<div>\n",
              "        \n",
              "        \n",
              "            <div id=\"6d1e867e-a30d-40b0-9402-a7209264a828\" class=\"plotly-graph-div\" style=\"height:525px; width:100%;\"></div>\n",
              "            <script type=\"text/javascript\">\n",
              "                require([\"plotly\"], function(Plotly) {\n",
              "                    window.PLOTLYENV=window.PLOTLYENV || {};\n",
              "                    window.PLOTLYENV.BASE_URL='https://plot.ly';\n",
              "                    \n",
              "                if (document.getElementById(\"6d1e867e-a30d-40b0-9402-a7209264a828\")) {\n",
              "                    Plotly.newPlot(\n",
              "                        '6d1e867e-a30d-40b0-9402-a7209264a828',\n",
              "                        [{\"histfunc\": \"count\", \"histnorm\": \"\", \"marker\": {\"color\": \"rgba(255, 153, 51, 1.0)\", \"line\": {\"color\": \"#4D5663\", \"width\": 1.3}}, \"name\": \"A\", \"nbinsx\": 10, \"opacity\": 0.8, \"orientation\": \"v\", \"type\": \"histogram\", \"x\": [0.38776790492739865, 0.03849236956660459, 1.2433137936961798, 0.5842972264102014, -1.1208961479414192, 1.730216441653974, 0.06108034749886219, 0.9262701599086871, -0.87571943613146, 0.7960283927316331, 0.8013388093558175, -0.7713827146130571, -0.3860596312437266, 0.1422534281059505, 1.5343821976708791, -0.522288610381301, 1.2765181110454487, -1.9087210266761787, -0.5455631881633575, -0.9673041467546614, 0.18365245410260891, 0.8319727481794416, -0.6924274444035763, 0.130212270746392, -0.5741925777331125, -1.3462551608381779, -0.41262032018311534, 1.103101235762768, 1.0446220690518804, 0.9472184572850981, 0.01144284758409768, 0.3924697684460991, -0.7436814456680585, 0.5606640324163912, 0.6965257672104554, -0.7934068443983743, 0.582381173671548, -2.282351450427875, 0.7124587395952304, -0.6882658875377795, 1.6993566416898747, 2.8568699326050275, 0.006332552164447542, 0.4435057221418252, 0.09896661061309904, 0.8037600980180298, 1.5334032703702691, -0.4990486031175881, 0.21649575207817678, -0.4096457505587984, 0.8016799189563294, -0.6905393608982633, 2.0872629967650296, 1.474533174467541, -0.9195699744527402, 0.2725139639009779, 0.7685364302756515, -0.6371309176903281, -0.397097728226869, 1.9487774142868644, -2.877517406687037, -1.1877654785957479, 0.9114452597351144, 0.7244960384363618, 0.3218065598901516, 0.6135611614993941, 0.2577221961420037, -1.0607592928299288, 0.2975795540412989, 0.4551520791689616, -0.5795233153683617, 0.5763212135443879, -1.6662421515568697, 1.0389099618890498, 0.1410565241910319, 1.1284833361430653, 2.349189230892838, -1.4199144089065157, -1.1340525523746237, 0.6552467536857508, 1.5617541726720494, -1.0089435007798202, -1.1259228236191567, -1.2386389182482231, 1.6364774453566855, 0.36666797091738595, -0.3432628429736642, -1.043490274577387, 0.8818679747375759, 0.1751112634092605, 0.1247652284295829, 0.5518682798715221, 0.0579060702482222, 0.286418801590196, -1.4700359970155337, -0.5355646681907782, 1.414380652513354, -1.1727913308648066, -0.3937665053241717, 0.1938955533958501], \"xaxis\": \"x\", \"yaxis\": \"y\"}, {\"line\": {\"color\": \"rgba(128, 128, 128, 1.0)\", \"dash\": \"solid\", \"shape\": \"linear\", \"width\": 1.3}, \"marker\": {\"size\": 2, \"symbol\": \"circle\"}, \"mode\": \"markers\", \"name\": \"A\", \"text\": \"\", \"type\": \"scatter\", \"x\": [0.319389861291986, -0.30074966743608506, -0.8312005470150119, -2.4054656013055444, 1.95218493548916, -1.3949547196167487, 1.2610777494042638, -0.25106428346371634, 0.7833405935894365, 0.34177773626719854, 1.847886725993193, -0.14969996369267832, 0.08691354446385557, 1.1409817365990378, 0.3593414585006607, -0.6534610730262642, 0.04553691446835388, -0.6026955641298878, 1.5577759039506558, -1.4045087455705607, -0.9378539145505463, 0.043002648037828495, -2.102274024308178, 0.8801400704781029, -0.5281783119970317, 1.343986387262092, -1.0803664242729223, -0.5014747769984824, 0.5970767917134021, 0.5007062749147215, 0.2564679561157993, 0.22936027050727836, -1.124733552945505, 1.346138803322607, -1.076597213636889, -0.14375695629240315, 1.3337935777840249, 0.7804027116427791, -0.785762950919096, 0.4102750089109371, -0.1318258634420717, 0.8532631740447265, -1.0008567066921035, 0.3105586227309746, 0.7355287345659339, 2.1022790876438813, -0.6251400952943048, -0.23429800909253748, -0.061505586329181, -0.6349766598812604, 0.525719391772557, 1.345241629785457, -0.6011991190519752, 1.44640310913396, -0.0872486292630008, 0.10560666020020956, 0.941703428827021, 0.814753456507976, -0.584076289529489, -0.962996905418369, 0.7994852115303925, 0.762184625040766, -0.21785632433335, 0.9864316077429109, 0.755867048719471, -1.1129961928211929, 0.19433562473336324, 1.5619787553664641, -0.5202158167923906, -0.02911156974216635, -1.6734099454901552, -2.2796496602757554, -1.5492433667544536, -0.8651720204735538, -1.8230976407359787, -0.006096200544762621, -1.584109186224074, -0.33035517887516197, -0.7059363123188731, 1.695198015552919, -0.9811233584929907, 0.47042387423562504, -0.5249460929521849, -0.31125324698240014, -0.7994641306782769, -0.6174704292261655, 0.05596717699545592, 0.49209772986311834, 0.19878044412033335, -0.13557781245738254, -0.3868164211531793, 1.070491610505177, 0.8275071529281245, -0.6656345370734653, -0.13503140193318744, -0.8667935467318065, 0.6865335102478416, -0.3186666336242621, 1.3881557946444958, 1.7933718693964338], \"xaxis\": \"x2\", \"y\": [0.38776790492739865, 0.03849236956660459, 1.2433137936961798, 0.5842972264102014, -1.1208961479414192, 1.730216441653974, 0.06108034749886219, 0.9262701599086871, -0.87571943613146, 0.7960283927316331, 0.8013388093558175, -0.7713827146130571, -0.3860596312437266, 0.1422534281059505, 1.5343821976708791, -0.522288610381301, 1.2765181110454487, -1.9087210266761787, -0.5455631881633575, -0.9673041467546614, 0.18365245410260891, 0.8319727481794416, -0.6924274444035763, 0.130212270746392, -0.5741925777331125, -1.3462551608381779, -0.41262032018311534, 1.103101235762768, 1.0446220690518804, 0.9472184572850981, 0.01144284758409768, 0.3924697684460991, -0.7436814456680585, 0.5606640324163912, 0.6965257672104554, -0.7934068443983743, 0.582381173671548, -2.282351450427875, 0.7124587395952304, -0.6882658875377795, 1.6993566416898747, 2.8568699326050275, 0.006332552164447542, 0.4435057221418252, 0.09896661061309904, 0.8037600980180298, 1.5334032703702691, -0.4990486031175881, 0.21649575207817678, -0.4096457505587984, 0.8016799189563294, -0.6905393608982633, 2.0872629967650296, 1.474533174467541, -0.9195699744527402, 0.2725139639009779, 0.7685364302756515, -0.6371309176903281, -0.397097728226869, 1.9487774142868644, -2.877517406687037, -1.1877654785957479, 0.9114452597351144, 0.7244960384363618, 0.3218065598901516, 0.6135611614993941, 0.2577221961420037, -1.0607592928299288, 0.2975795540412989, 0.4551520791689616, -0.5795233153683617, 0.5763212135443879, -1.6662421515568697, 1.0389099618890498, 0.1410565241910319, 1.1284833361430653, 2.349189230892838, -1.4199144089065157, -1.1340525523746237, 0.6552467536857508, 1.5617541726720494, -1.0089435007798202, -1.1259228236191567, -1.2386389182482231, 1.6364774453566855, 0.36666797091738595, -0.3432628429736642, -1.043490274577387, 0.8818679747375759, 0.1751112634092605, 0.1247652284295829, 0.5518682798715221, 0.0579060702482222, 0.286418801590196, -1.4700359970155337, -0.5355646681907782, 1.414380652513354, -1.1727913308648066, -0.3937665053241717, 0.1938955533958501], \"yaxis\": \"y2\"}, {\"line\": {\"color\": \"rgba(128, 128, 128, 1.0)\", \"dash\": \"solid\", \"shape\": \"linear\", \"width\": 1.3}, \"marker\": {\"size\": 2, \"symbol\": \"circle\"}, \"mode\": \"markers\", \"name\": \"A\", \"text\": \"\", \"type\": \"scatter\", \"x\": [0.5230770887437088, 0.0825736363577513, 0.4588105780564298, 0.7811446115543202, 0.9184053209026012, 0.17224751730776722, -1.6475328091120887, 0.49181252346677573, -0.6061053597414845, -1.3933264560772263, 0.14344544722416813, -0.3905457463541869, -0.0773635833941089, 0.30492141697044683, -0.5614591261561296, -1.419401744846503, 0.955611795727318, 1.4027692968418186, -0.7343269788433588, -1.4756553433046526, 0.9145937087280909, -1.092472721615005, 1.0980836262747558, 1.3145679977529234, 1.0797524283747404, 0.6308254102247195, 0.8874408902673286, -0.10052268438227928, -0.08983224735313855, -1.1997913058653475, 0.3719136301886943, 0.13950074964563766, 0.4690366263838989, 0.24025572005802265, 0.06327153831170397, 0.0639869752403078, 0.15963465055031542, 0.03490813204410398, 2.1207604049072937, -0.7279657171995265, -1.6480911373184448, -0.8335349198044641, 0.5610906956098553, 0.14392868337626316, -0.19687329134978385, -1.0234717992551527, 0.819724112176948, -0.8301152243196428, -0.1264779994266815, 1.3793715769590547, -1.077213610535644, 1.236175587525392, -1.2068837402220438, 0.1047847272107351, 0.43999253945098565, -1.2996460994705084, 1.591831487693768, -1.9492187199295534, -0.7510258435595026, -0.6567026208051004, -1.3466966732276888, -0.3374809049581502, 0.777278721181163, 1.854357184527882, -0.24629145763903534, 1.421869231047535, -0.665350750395719, 0.6926413754651823, 1.0225975184913045, 0.5858058447185054, 0.7941562095858778, -0.2726738671756177, 1.5677726178379325, -0.9163470370977671, -0.23451784063716838, -1.1415058257926867, 2.726517426644188, 2.1476170495198854, -1.339199915432269, 0.24370042092824235, -0.27375411290307944, 0.6936728038249259, -0.8487836211839579, -0.6855344456405397, -0.8835185469904709, 1.1253489445959861, 0.36542321839835423, 1.8097751105146338, 0.1120729571353281, 2.4701834366147515, 0.19301992411344596, 0.6169670940979624, -0.47530160148535827, -0.8927114625102514, 0.31580366423737116, 1.1135648732618062, 0.9598744893458587, 0.4415302762016992, -0.08108815387739585, -0.7984814511402667], \"xaxis\": \"x3\", \"y\": [0.38776790492739865, 0.03849236956660459, 1.2433137936961798, 0.5842972264102014, -1.1208961479414192, 1.730216441653974, 0.06108034749886219, 0.9262701599086871, -0.87571943613146, 0.7960283927316331, 0.8013388093558175, -0.7713827146130571, -0.3860596312437266, 0.1422534281059505, 1.5343821976708791, -0.522288610381301, 1.2765181110454487, -1.9087210266761787, -0.5455631881633575, -0.9673041467546614, 0.18365245410260891, 0.8319727481794416, -0.6924274444035763, 0.130212270746392, -0.5741925777331125, -1.3462551608381779, -0.41262032018311534, 1.103101235762768, 1.0446220690518804, 0.9472184572850981, 0.01144284758409768, 0.3924697684460991, -0.7436814456680585, 0.5606640324163912, 0.6965257672104554, -0.7934068443983743, 0.582381173671548, -2.282351450427875, 0.7124587395952304, -0.6882658875377795, 1.6993566416898747, 2.8568699326050275, 0.006332552164447542, 0.4435057221418252, 0.09896661061309904, 0.8037600980180298, 1.5334032703702691, -0.4990486031175881, 0.21649575207817678, -0.4096457505587984, 0.8016799189563294, -0.6905393608982633, 2.0872629967650296, 1.474533174467541, -0.9195699744527402, 0.2725139639009779, 0.7685364302756515, -0.6371309176903281, -0.397097728226869, 1.9487774142868644, -2.877517406687037, -1.1877654785957479, 0.9114452597351144, 0.7244960384363618, 0.3218065598901516, 0.6135611614993941, 0.2577221961420037, -1.0607592928299288, 0.2975795540412989, 0.4551520791689616, -0.5795233153683617, 0.5763212135443879, -1.6662421515568697, 1.0389099618890498, 0.1410565241910319, 1.1284833361430653, 2.349189230892838, -1.4199144089065157, -1.1340525523746237, 0.6552467536857508, 1.5617541726720494, -1.0089435007798202, -1.1259228236191567, -1.2386389182482231, 1.6364774453566855, 0.36666797091738595, -0.3432628429736642, -1.043490274577387, 0.8818679747375759, 0.1751112634092605, 0.1247652284295829, 0.5518682798715221, 0.0579060702482222, 0.286418801590196, -1.4700359970155337, -0.5355646681907782, 1.414380652513354, -1.1727913308648066, -0.3937665053241717, 0.1938955533958501], \"yaxis\": \"y3\"}, {\"line\": {\"color\": \"rgba(128, 128, 128, 1.0)\", \"dash\": \"solid\", \"shape\": \"linear\", \"width\": 1.3}, \"marker\": {\"size\": 2, \"symbol\": \"circle\"}, \"mode\": \"markers\", \"name\": \"A\", \"text\": \"\", \"type\": \"scatter\", \"x\": [0.4752509042408672, 0.5923357389976552, 1.8065592979771634, 1.0347190604125864, -0.34582992128279116, 0.1515887735645558, 0.16714281930383112, -0.46568627027629994, 1.5909034652327887, 0.40496363815507563, 1.2757958836450585, -0.4992335573208999, -1.1816901191345761, -0.9820038833106384, -1.9345418317893035, 0.7837282866949103, -0.07100529626029047, -1.6067357928843564, 0.28312150123480945, 1.6157703025031254, -0.484977988619448, 0.2392754077959054, 0.7910056835873752, -1.5536392737160203, -0.5331901812187568, -0.7901955651030481, 0.6578744020187579, -0.2302284137895361, -1.6241670231279821, 0.12417627553418101, 0.8726833454401819, -1.7200168388664068, 0.3728353383757879, -0.5888716944335837, 0.16700968524310988, 0.3152236939729629, 0.6600671742402289, -0.23159595946803066, -0.374948948157611, -0.6426055238815437, -0.8758344221619488, 0.31011355491272985, -0.38136450331807414, -1.72064630294261, 2.3927735134855572, -0.02306755609596276, -0.658095816712436, -0.7102542984499866, 0.3444612155969016, -1.4859692950577321, -0.8235273774770004, -1.0759052928914057, 0.7865776439965904, -0.865830264721386, -0.42203911311573006, -0.7984772856974879, -1.3915201358593854, -0.5855284794553162, -0.02197011967084297, 0.8693706123410209, 0.989996744831296, 0.3962765133442256, -0.8225052722339669, -0.9752154080510914, 0.6082080967773585, 0.27312593534686747, -0.5911956742881689, 0.5417838377513962, 1.8921345486217096, 0.42640908908842035, 0.10577626309087514, 0.4962037534173657, -1.2110753581455402, 0.9880462968869487, 0.7890408686323082, 1.2697947008864725, 0.5650787760312971, -0.8871516539780503, 0.0826382920303798, -0.3465183651319844, 0.36453051315007917, -0.48318900415908855, 1.4882785868246171, -0.8788596842572135, -0.6077343100103489, -0.06122119231248921, 1.4467997449887289, 1.9680021503339724, 0.2212801457632743, 1.4068423254704043, -0.07487568018994134, 2.4107329653075498, 0.7580632574862473, -0.3551657240059524, 0.1979891520555157, -0.355751232720357, -0.06743330749589409, -0.32611999195126024, -0.06435277033186215, 1.115378302375508], \"xaxis\": \"x4\", \"y\": [0.38776790492739865, 0.03849236956660459, 1.2433137936961798, 0.5842972264102014, -1.1208961479414192, 1.730216441653974, 0.06108034749886219, 0.9262701599086871, -0.87571943613146, 0.7960283927316331, 0.8013388093558175, -0.7713827146130571, -0.3860596312437266, 0.1422534281059505, 1.5343821976708791, -0.522288610381301, 1.2765181110454487, -1.9087210266761787, -0.5455631881633575, -0.9673041467546614, 0.18365245410260891, 0.8319727481794416, -0.6924274444035763, 0.130212270746392, -0.5741925777331125, -1.3462551608381779, -0.41262032018311534, 1.103101235762768, 1.0446220690518804, 0.9472184572850981, 0.01144284758409768, 0.3924697684460991, -0.7436814456680585, 0.5606640324163912, 0.6965257672104554, -0.7934068443983743, 0.582381173671548, -2.282351450427875, 0.7124587395952304, -0.6882658875377795, 1.6993566416898747, 2.8568699326050275, 0.006332552164447542, 0.4435057221418252, 0.09896661061309904, 0.8037600980180298, 1.5334032703702691, -0.4990486031175881, 0.21649575207817678, -0.4096457505587984, 0.8016799189563294, -0.6905393608982633, 2.0872629967650296, 1.474533174467541, -0.9195699744527402, 0.2725139639009779, 0.7685364302756515, -0.6371309176903281, -0.397097728226869, 1.9487774142868644, -2.877517406687037, -1.1877654785957479, 0.9114452597351144, 0.7244960384363618, 0.3218065598901516, 0.6135611614993941, 0.2577221961420037, -1.0607592928299288, 0.2975795540412989, 0.4551520791689616, -0.5795233153683617, 0.5763212135443879, -1.6662421515568697, 1.0389099618890498, 0.1410565241910319, 1.1284833361430653, 2.349189230892838, -1.4199144089065157, -1.1340525523746237, 0.6552467536857508, 1.5617541726720494, -1.0089435007798202, -1.1259228236191567, -1.2386389182482231, 1.6364774453566855, 0.36666797091738595, -0.3432628429736642, -1.043490274577387, 0.8818679747375759, 0.1751112634092605, 0.1247652284295829, 0.5518682798715221, 0.0579060702482222, 0.286418801590196, -1.4700359970155337, -0.5355646681907782, 1.414380652513354, -1.1727913308648066, -0.3937665053241717, 0.1938955533958501], \"yaxis\": \"y4\"}, {\"line\": {\"color\": \"rgba(128, 128, 128, 1.0)\", \"dash\": \"solid\", \"shape\": \"linear\", \"width\": 1.3}, \"marker\": {\"size\": 2, \"symbol\": \"circle\"}, \"mode\": \"markers\", \"name\": \"B\", \"text\": \"\", \"type\": \"scatter\", \"x\": [0.38776790492739865, 0.03849236956660459, 1.2433137936961798, 0.5842972264102014, -1.1208961479414192, 1.730216441653974, 0.06108034749886219, 0.9262701599086871, -0.87571943613146, 0.7960283927316331, 0.8013388093558175, -0.7713827146130571, -0.3860596312437266, 0.1422534281059505, 1.5343821976708791, -0.522288610381301, 1.2765181110454487, -1.9087210266761787, -0.5455631881633575, -0.9673041467546614, 0.18365245410260891, 0.8319727481794416, -0.6924274444035763, 0.130212270746392, -0.5741925777331125, -1.3462551608381779, -0.41262032018311534, 1.103101235762768, 1.0446220690518804, 0.9472184572850981, 0.01144284758409768, 0.3924697684460991, -0.7436814456680585, 0.5606640324163912, 0.6965257672104554, -0.7934068443983743, 0.582381173671548, -2.282351450427875, 0.7124587395952304, -0.6882658875377795, 1.6993566416898747, 2.8568699326050275, 0.006332552164447542, 0.4435057221418252, 0.09896661061309904, 0.8037600980180298, 1.5334032703702691, -0.4990486031175881, 0.21649575207817678, -0.4096457505587984, 0.8016799189563294, -0.6905393608982633, 2.0872629967650296, 1.474533174467541, -0.9195699744527402, 0.2725139639009779, 0.7685364302756515, -0.6371309176903281, -0.397097728226869, 1.9487774142868644, -2.877517406687037, -1.1877654785957479, 0.9114452597351144, 0.7244960384363618, 0.3218065598901516, 0.6135611614993941, 0.2577221961420037, -1.0607592928299288, 0.2975795540412989, 0.4551520791689616, -0.5795233153683617, 0.5763212135443879, -1.6662421515568697, 1.0389099618890498, 0.1410565241910319, 1.1284833361430653, 2.349189230892838, -1.4199144089065157, -1.1340525523746237, 0.6552467536857508, 1.5617541726720494, -1.0089435007798202, -1.1259228236191567, -1.2386389182482231, 1.6364774453566855, 0.36666797091738595, -0.3432628429736642, -1.043490274577387, 0.8818679747375759, 0.1751112634092605, 0.1247652284295829, 0.5518682798715221, 0.0579060702482222, 0.286418801590196, -1.4700359970155337, -0.5355646681907782, 1.414380652513354, -1.1727913308648066, -0.3937665053241717, 0.1938955533958501], \"xaxis\": \"x5\", \"y\": [0.319389861291986, -0.30074966743608506, -0.8312005470150119, -2.4054656013055444, 1.95218493548916, -1.3949547196167487, 1.2610777494042638, -0.25106428346371634, 0.7833405935894365, 0.34177773626719854, 1.847886725993193, -0.14969996369267832, 0.08691354446385557, 1.1409817365990378, 0.3593414585006607, -0.6534610730262642, 0.04553691446835388, -0.6026955641298878, 1.5577759039506558, -1.4045087455705607, -0.9378539145505463, 0.043002648037828495, -2.102274024308178, 0.8801400704781029, -0.5281783119970317, 1.343986387262092, -1.0803664242729223, -0.5014747769984824, 0.5970767917134021, 0.5007062749147215, 0.2564679561157993, 0.22936027050727836, -1.124733552945505, 1.346138803322607, -1.076597213636889, -0.14375695629240315, 1.3337935777840249, 0.7804027116427791, -0.785762950919096, 0.4102750089109371, -0.1318258634420717, 0.8532631740447265, -1.0008567066921035, 0.3105586227309746, 0.7355287345659339, 2.1022790876438813, -0.6251400952943048, -0.23429800909253748, -0.061505586329181, -0.6349766598812604, 0.525719391772557, 1.345241629785457, -0.6011991190519752, 1.44640310913396, -0.0872486292630008, 0.10560666020020956, 0.941703428827021, 0.814753456507976, -0.584076289529489, -0.962996905418369, 0.7994852115303925, 0.762184625040766, -0.21785632433335, 0.9864316077429109, 0.755867048719471, -1.1129961928211929, 0.19433562473336324, 1.5619787553664641, -0.5202158167923906, -0.02911156974216635, -1.6734099454901552, -2.2796496602757554, -1.5492433667544536, -0.8651720204735538, -1.8230976407359787, -0.006096200544762621, -1.584109186224074, -0.33035517887516197, -0.7059363123188731, 1.695198015552919, -0.9811233584929907, 0.47042387423562504, -0.5249460929521849, -0.31125324698240014, -0.7994641306782769, -0.6174704292261655, 0.05596717699545592, 0.49209772986311834, 0.19878044412033335, -0.13557781245738254, -0.3868164211531793, 1.070491610505177, 0.8275071529281245, -0.6656345370734653, -0.13503140193318744, -0.8667935467318065, 0.6865335102478416, -0.3186666336242621, 1.3881557946444958, 1.7933718693964338], \"yaxis\": \"y5\"}, {\"histfunc\": \"count\", \"histnorm\": \"\", \"marker\": {\"color\": \"rgba(55, 128, 191, 1.0)\", \"line\": {\"color\": \"#4D5663\", \"width\": 1.3}}, \"name\": \"B\", \"nbinsx\": 10, \"opacity\": 0.8, \"orientation\": \"v\", \"type\": \"histogram\", \"x\": [0.319389861291986, -0.30074966743608506, -0.8312005470150119, -2.4054656013055444, 1.95218493548916, -1.3949547196167487, 1.2610777494042638, -0.25106428346371634, 0.7833405935894365, 0.34177773626719854, 1.847886725993193, -0.14969996369267832, 0.08691354446385557, 1.1409817365990378, 0.3593414585006607, -0.6534610730262642, 0.04553691446835388, -0.6026955641298878, 1.5577759039506558, -1.4045087455705607, -0.9378539145505463, 0.043002648037828495, -2.102274024308178, 0.8801400704781029, -0.5281783119970317, 1.343986387262092, -1.0803664242729223, -0.5014747769984824, 0.5970767917134021, 0.5007062749147215, 0.2564679561157993, 0.22936027050727836, -1.124733552945505, 1.346138803322607, -1.076597213636889, -0.14375695629240315, 1.3337935777840249, 0.7804027116427791, -0.785762950919096, 0.4102750089109371, -0.1318258634420717, 0.8532631740447265, -1.0008567066921035, 0.3105586227309746, 0.7355287345659339, 2.1022790876438813, -0.6251400952943048, -0.23429800909253748, -0.061505586329181, -0.6349766598812604, 0.525719391772557, 1.345241629785457, -0.6011991190519752, 1.44640310913396, -0.0872486292630008, 0.10560666020020956, 0.941703428827021, 0.814753456507976, -0.584076289529489, -0.962996905418369, 0.7994852115303925, 0.762184625040766, -0.21785632433335, 0.9864316077429109, 0.755867048719471, -1.1129961928211929, 0.19433562473336324, 1.5619787553664641, -0.5202158167923906, -0.02911156974216635, -1.6734099454901552, -2.2796496602757554, -1.5492433667544536, -0.8651720204735538, -1.8230976407359787, -0.006096200544762621, -1.584109186224074, -0.33035517887516197, -0.7059363123188731, 1.695198015552919, -0.9811233584929907, 0.47042387423562504, -0.5249460929521849, -0.31125324698240014, -0.7994641306782769, -0.6174704292261655, 0.05596717699545592, 0.49209772986311834, 0.19878044412033335, -0.13557781245738254, -0.3868164211531793, 1.070491610505177, 0.8275071529281245, -0.6656345370734653, -0.13503140193318744, -0.8667935467318065, 0.6865335102478416, -0.3186666336242621, 1.3881557946444958, 1.7933718693964338], \"xaxis\": \"x6\", \"yaxis\": \"y6\"}, {\"line\": {\"color\": \"rgba(128, 128, 128, 1.0)\", \"dash\": \"solid\", \"shape\": \"linear\", \"width\": 1.3}, \"marker\": {\"size\": 2, \"symbol\": \"circle\"}, \"mode\": \"markers\", \"name\": \"B\", \"text\": \"\", \"type\": \"scatter\", \"x\": [0.5230770887437088, 0.0825736363577513, 0.4588105780564298, 0.7811446115543202, 0.9184053209026012, 0.17224751730776722, -1.6475328091120887, 0.49181252346677573, -0.6061053597414845, -1.3933264560772263, 0.14344544722416813, -0.3905457463541869, -0.0773635833941089, 0.30492141697044683, -0.5614591261561296, -1.419401744846503, 0.955611795727318, 1.4027692968418186, -0.7343269788433588, -1.4756553433046526, 0.9145937087280909, -1.092472721615005, 1.0980836262747558, 1.3145679977529234, 1.0797524283747404, 0.6308254102247195, 0.8874408902673286, -0.10052268438227928, -0.08983224735313855, -1.1997913058653475, 0.3719136301886943, 0.13950074964563766, 0.4690366263838989, 0.24025572005802265, 0.06327153831170397, 0.0639869752403078, 0.15963465055031542, 0.03490813204410398, 2.1207604049072937, -0.7279657171995265, -1.6480911373184448, -0.8335349198044641, 0.5610906956098553, 0.14392868337626316, -0.19687329134978385, -1.0234717992551527, 0.819724112176948, -0.8301152243196428, -0.1264779994266815, 1.3793715769590547, -1.077213610535644, 1.236175587525392, -1.2068837402220438, 0.1047847272107351, 0.43999253945098565, -1.2996460994705084, 1.591831487693768, -1.9492187199295534, -0.7510258435595026, -0.6567026208051004, -1.3466966732276888, -0.3374809049581502, 0.777278721181163, 1.854357184527882, -0.24629145763903534, 1.421869231047535, -0.665350750395719, 0.6926413754651823, 1.0225975184913045, 0.5858058447185054, 0.7941562095858778, -0.2726738671756177, 1.5677726178379325, -0.9163470370977671, -0.23451784063716838, -1.1415058257926867, 2.726517426644188, 2.1476170495198854, -1.339199915432269, 0.24370042092824235, -0.27375411290307944, 0.6936728038249259, -0.8487836211839579, -0.6855344456405397, -0.8835185469904709, 1.1253489445959861, 0.36542321839835423, 1.8097751105146338, 0.1120729571353281, 2.4701834366147515, 0.19301992411344596, 0.6169670940979624, -0.47530160148535827, -0.8927114625102514, 0.31580366423737116, 1.1135648732618062, 0.9598744893458587, 0.4415302762016992, -0.08108815387739585, -0.7984814511402667], \"xaxis\": \"x7\", \"y\": [0.319389861291986, -0.30074966743608506, -0.8312005470150119, -2.4054656013055444, 1.95218493548916, -1.3949547196167487, 1.2610777494042638, -0.25106428346371634, 0.7833405935894365, 0.34177773626719854, 1.847886725993193, -0.14969996369267832, 0.08691354446385557, 1.1409817365990378, 0.3593414585006607, -0.6534610730262642, 0.04553691446835388, -0.6026955641298878, 1.5577759039506558, -1.4045087455705607, -0.9378539145505463, 0.043002648037828495, -2.102274024308178, 0.8801400704781029, -0.5281783119970317, 1.343986387262092, -1.0803664242729223, -0.5014747769984824, 0.5970767917134021, 0.5007062749147215, 0.2564679561157993, 0.22936027050727836, -1.124733552945505, 1.346138803322607, -1.076597213636889, -0.14375695629240315, 1.3337935777840249, 0.7804027116427791, -0.785762950919096, 0.4102750089109371, -0.1318258634420717, 0.8532631740447265, -1.0008567066921035, 0.3105586227309746, 0.7355287345659339, 2.1022790876438813, -0.6251400952943048, -0.23429800909253748, -0.061505586329181, -0.6349766598812604, 0.525719391772557, 1.345241629785457, -0.6011991190519752, 1.44640310913396, -0.0872486292630008, 0.10560666020020956, 0.941703428827021, 0.814753456507976, -0.584076289529489, -0.962996905418369, 0.7994852115303925, 0.762184625040766, -0.21785632433335, 0.9864316077429109, 0.755867048719471, -1.1129961928211929, 0.19433562473336324, 1.5619787553664641, -0.5202158167923906, -0.02911156974216635, -1.6734099454901552, -2.2796496602757554, -1.5492433667544536, -0.8651720204735538, -1.8230976407359787, -0.006096200544762621, -1.584109186224074, -0.33035517887516197, -0.7059363123188731, 1.695198015552919, -0.9811233584929907, 0.47042387423562504, -0.5249460929521849, -0.31125324698240014, -0.7994641306782769, -0.6174704292261655, 0.05596717699545592, 0.49209772986311834, 0.19878044412033335, -0.13557781245738254, -0.3868164211531793, 1.070491610505177, 0.8275071529281245, -0.6656345370734653, -0.13503140193318744, -0.8667935467318065, 0.6865335102478416, -0.3186666336242621, 1.3881557946444958, 1.7933718693964338], \"yaxis\": \"y7\"}, {\"line\": {\"color\": \"rgba(128, 128, 128, 1.0)\", \"dash\": \"solid\", \"shape\": \"linear\", \"width\": 1.3}, \"marker\": {\"size\": 2, \"symbol\": \"circle\"}, \"mode\": \"markers\", \"name\": \"B\", \"text\": \"\", \"type\": \"scatter\", \"x\": [0.4752509042408672, 0.5923357389976552, 1.8065592979771634, 1.0347190604125864, -0.34582992128279116, 0.1515887735645558, 0.16714281930383112, -0.46568627027629994, 1.5909034652327887, 0.40496363815507563, 1.2757958836450585, -0.4992335573208999, -1.1816901191345761, -0.9820038833106384, -1.9345418317893035, 0.7837282866949103, -0.07100529626029047, -1.6067357928843564, 0.28312150123480945, 1.6157703025031254, -0.484977988619448, 0.2392754077959054, 0.7910056835873752, -1.5536392737160203, -0.5331901812187568, -0.7901955651030481, 0.6578744020187579, -0.2302284137895361, -1.6241670231279821, 0.12417627553418101, 0.8726833454401819, -1.7200168388664068, 0.3728353383757879, -0.5888716944335837, 0.16700968524310988, 0.3152236939729629, 0.6600671742402289, -0.23159595946803066, -0.374948948157611, -0.6426055238815437, -0.8758344221619488, 0.31011355491272985, -0.38136450331807414, -1.72064630294261, 2.3927735134855572, -0.02306755609596276, -0.658095816712436, -0.7102542984499866, 0.3444612155969016, -1.4859692950577321, -0.8235273774770004, -1.0759052928914057, 0.7865776439965904, -0.865830264721386, -0.42203911311573006, -0.7984772856974879, -1.3915201358593854, -0.5855284794553162, -0.02197011967084297, 0.8693706123410209, 0.989996744831296, 0.3962765133442256, -0.8225052722339669, -0.9752154080510914, 0.6082080967773585, 0.27312593534686747, -0.5911956742881689, 0.5417838377513962, 1.8921345486217096, 0.42640908908842035, 0.10577626309087514, 0.4962037534173657, -1.2110753581455402, 0.9880462968869487, 0.7890408686323082, 1.2697947008864725, 0.5650787760312971, -0.8871516539780503, 0.0826382920303798, -0.3465183651319844, 0.36453051315007917, -0.48318900415908855, 1.4882785868246171, -0.8788596842572135, -0.6077343100103489, -0.06122119231248921, 1.4467997449887289, 1.9680021503339724, 0.2212801457632743, 1.4068423254704043, -0.07487568018994134, 2.4107329653075498, 0.7580632574862473, -0.3551657240059524, 0.1979891520555157, -0.355751232720357, -0.06743330749589409, -0.32611999195126024, -0.06435277033186215, 1.115378302375508], \"xaxis\": \"x8\", \"y\": [0.319389861291986, -0.30074966743608506, -0.8312005470150119, -2.4054656013055444, 1.95218493548916, -1.3949547196167487, 1.2610777494042638, -0.25106428346371634, 0.7833405935894365, 0.34177773626719854, 1.847886725993193, -0.14969996369267832, 0.08691354446385557, 1.1409817365990378, 0.3593414585006607, -0.6534610730262642, 0.04553691446835388, -0.6026955641298878, 1.5577759039506558, -1.4045087455705607, -0.9378539145505463, 0.043002648037828495, -2.102274024308178, 0.8801400704781029, -0.5281783119970317, 1.343986387262092, -1.0803664242729223, -0.5014747769984824, 0.5970767917134021, 0.5007062749147215, 0.2564679561157993, 0.22936027050727836, -1.124733552945505, 1.346138803322607, -1.076597213636889, -0.14375695629240315, 1.3337935777840249, 0.7804027116427791, -0.785762950919096, 0.4102750089109371, -0.1318258634420717, 0.8532631740447265, -1.0008567066921035, 0.3105586227309746, 0.7355287345659339, 2.1022790876438813, -0.6251400952943048, -0.23429800909253748, -0.061505586329181, -0.6349766598812604, 0.525719391772557, 1.345241629785457, -0.6011991190519752, 1.44640310913396, -0.0872486292630008, 0.10560666020020956, 0.941703428827021, 0.814753456507976, -0.584076289529489, -0.962996905418369, 0.7994852115303925, 0.762184625040766, -0.21785632433335, 0.9864316077429109, 0.755867048719471, -1.1129961928211929, 0.19433562473336324, 1.5619787553664641, -0.5202158167923906, -0.02911156974216635, -1.6734099454901552, -2.2796496602757554, -1.5492433667544536, -0.8651720204735538, -1.8230976407359787, -0.006096200544762621, -1.584109186224074, -0.33035517887516197, -0.7059363123188731, 1.695198015552919, -0.9811233584929907, 0.47042387423562504, -0.5249460929521849, -0.31125324698240014, -0.7994641306782769, -0.6174704292261655, 0.05596717699545592, 0.49209772986311834, 0.19878044412033335, -0.13557781245738254, -0.3868164211531793, 1.070491610505177, 0.8275071529281245, -0.6656345370734653, -0.13503140193318744, -0.8667935467318065, 0.6865335102478416, -0.3186666336242621, 1.3881557946444958, 1.7933718693964338], \"yaxis\": \"y8\"}, {\"line\": {\"color\": \"rgba(128, 128, 128, 1.0)\", \"dash\": \"solid\", \"shape\": \"linear\", \"width\": 1.3}, \"marker\": {\"size\": 2, \"symbol\": \"circle\"}, \"mode\": \"markers\", \"name\": \"C\", \"text\": \"\", \"type\": \"scatter\", \"x\": [0.38776790492739865, 0.03849236956660459, 1.2433137936961798, 0.5842972264102014, -1.1208961479414192, 1.730216441653974, 0.06108034749886219, 0.9262701599086871, -0.87571943613146, 0.7960283927316331, 0.8013388093558175, -0.7713827146130571, -0.3860596312437266, 0.1422534281059505, 1.5343821976708791, -0.522288610381301, 1.2765181110454487, -1.9087210266761787, -0.5455631881633575, -0.9673041467546614, 0.18365245410260891, 0.8319727481794416, -0.6924274444035763, 0.130212270746392, -0.5741925777331125, -1.3462551608381779, -0.41262032018311534, 1.103101235762768, 1.0446220690518804, 0.9472184572850981, 0.01144284758409768, 0.3924697684460991, -0.7436814456680585, 0.5606640324163912, 0.6965257672104554, -0.7934068443983743, 0.582381173671548, -2.282351450427875, 0.7124587395952304, -0.6882658875377795, 1.6993566416898747, 2.8568699326050275, 0.006332552164447542, 0.4435057221418252, 0.09896661061309904, 0.8037600980180298, 1.5334032703702691, -0.4990486031175881, 0.21649575207817678, -0.4096457505587984, 0.8016799189563294, -0.6905393608982633, 2.0872629967650296, 1.474533174467541, -0.9195699744527402, 0.2725139639009779, 0.7685364302756515, -0.6371309176903281, -0.397097728226869, 1.9487774142868644, -2.877517406687037, -1.1877654785957479, 0.9114452597351144, 0.7244960384363618, 0.3218065598901516, 0.6135611614993941, 0.2577221961420037, -1.0607592928299288, 0.2975795540412989, 0.4551520791689616, -0.5795233153683617, 0.5763212135443879, -1.6662421515568697, 1.0389099618890498, 0.1410565241910319, 1.1284833361430653, 2.349189230892838, -1.4199144089065157, -1.1340525523746237, 0.6552467536857508, 1.5617541726720494, -1.0089435007798202, -1.1259228236191567, -1.2386389182482231, 1.6364774453566855, 0.36666797091738595, -0.3432628429736642, -1.043490274577387, 0.8818679747375759, 0.1751112634092605, 0.1247652284295829, 0.5518682798715221, 0.0579060702482222, 0.286418801590196, -1.4700359970155337, -0.5355646681907782, 1.414380652513354, -1.1727913308648066, -0.3937665053241717, 0.1938955533958501], \"xaxis\": \"x9\", \"y\": [0.5230770887437088, 0.0825736363577513, 0.4588105780564298, 0.7811446115543202, 0.9184053209026012, 0.17224751730776722, -1.6475328091120887, 0.49181252346677573, -0.6061053597414845, -1.3933264560772263, 0.14344544722416813, -0.3905457463541869, -0.0773635833941089, 0.30492141697044683, -0.5614591261561296, -1.419401744846503, 0.955611795727318, 1.4027692968418186, -0.7343269788433588, -1.4756553433046526, 0.9145937087280909, -1.092472721615005, 1.0980836262747558, 1.3145679977529234, 1.0797524283747404, 0.6308254102247195, 0.8874408902673286, -0.10052268438227928, -0.08983224735313855, -1.1997913058653475, 0.3719136301886943, 0.13950074964563766, 0.4690366263838989, 0.24025572005802265, 0.06327153831170397, 0.0639869752403078, 0.15963465055031542, 0.03490813204410398, 2.1207604049072937, -0.7279657171995265, -1.6480911373184448, -0.8335349198044641, 0.5610906956098553, 0.14392868337626316, -0.19687329134978385, -1.0234717992551527, 0.819724112176948, -0.8301152243196428, -0.1264779994266815, 1.3793715769590547, -1.077213610535644, 1.236175587525392, -1.2068837402220438, 0.1047847272107351, 0.43999253945098565, -1.2996460994705084, 1.591831487693768, -1.9492187199295534, -0.7510258435595026, -0.6567026208051004, -1.3466966732276888, -0.3374809049581502, 0.777278721181163, 1.854357184527882, -0.24629145763903534, 1.421869231047535, -0.665350750395719, 0.6926413754651823, 1.0225975184913045, 0.5858058447185054, 0.7941562095858778, -0.2726738671756177, 1.5677726178379325, -0.9163470370977671, -0.23451784063716838, -1.1415058257926867, 2.726517426644188, 2.1476170495198854, -1.339199915432269, 0.24370042092824235, -0.27375411290307944, 0.6936728038249259, -0.8487836211839579, -0.6855344456405397, -0.8835185469904709, 1.1253489445959861, 0.36542321839835423, 1.8097751105146338, 0.1120729571353281, 2.4701834366147515, 0.19301992411344596, 0.6169670940979624, -0.47530160148535827, -0.8927114625102514, 0.31580366423737116, 1.1135648732618062, 0.9598744893458587, 0.4415302762016992, -0.08108815387739585, -0.7984814511402667], \"yaxis\": \"y9\"}, {\"line\": {\"color\": \"rgba(128, 128, 128, 1.0)\", \"dash\": \"solid\", \"shape\": \"linear\", \"width\": 1.3}, \"marker\": {\"size\": 2, \"symbol\": \"circle\"}, \"mode\": \"markers\", \"name\": \"C\", \"text\": \"\", \"type\": \"scatter\", \"x\": [0.319389861291986, -0.30074966743608506, -0.8312005470150119, -2.4054656013055444, 1.95218493548916, -1.3949547196167487, 1.2610777494042638, -0.25106428346371634, 0.7833405935894365, 0.34177773626719854, 1.847886725993193, -0.14969996369267832, 0.08691354446385557, 1.1409817365990378, 0.3593414585006607, -0.6534610730262642, 0.04553691446835388, -0.6026955641298878, 1.5577759039506558, -1.4045087455705607, -0.9378539145505463, 0.043002648037828495, -2.102274024308178, 0.8801400704781029, -0.5281783119970317, 1.343986387262092, -1.0803664242729223, -0.5014747769984824, 0.5970767917134021, 0.5007062749147215, 0.2564679561157993, 0.22936027050727836, -1.124733552945505, 1.346138803322607, -1.076597213636889, -0.14375695629240315, 1.3337935777840249, 0.7804027116427791, -0.785762950919096, 0.4102750089109371, -0.1318258634420717, 0.8532631740447265, -1.0008567066921035, 0.3105586227309746, 0.7355287345659339, 2.1022790876438813, -0.6251400952943048, -0.23429800909253748, -0.061505586329181, -0.6349766598812604, 0.525719391772557, 1.345241629785457, -0.6011991190519752, 1.44640310913396, -0.0872486292630008, 0.10560666020020956, 0.941703428827021, 0.814753456507976, -0.584076289529489, -0.962996905418369, 0.7994852115303925, 0.762184625040766, -0.21785632433335, 0.9864316077429109, 0.755867048719471, -1.1129961928211929, 0.19433562473336324, 1.5619787553664641, -0.5202158167923906, -0.02911156974216635, -1.6734099454901552, -2.2796496602757554, -1.5492433667544536, -0.8651720204735538, -1.8230976407359787, -0.006096200544762621, -1.584109186224074, -0.33035517887516197, -0.7059363123188731, 1.695198015552919, -0.9811233584929907, 0.47042387423562504, -0.5249460929521849, -0.31125324698240014, -0.7994641306782769, -0.6174704292261655, 0.05596717699545592, 0.49209772986311834, 0.19878044412033335, -0.13557781245738254, -0.3868164211531793, 1.070491610505177, 0.8275071529281245, -0.6656345370734653, -0.13503140193318744, -0.8667935467318065, 0.6865335102478416, -0.3186666336242621, 1.3881557946444958, 1.7933718693964338], \"xaxis\": \"x10\", \"y\": [0.5230770887437088, 0.0825736363577513, 0.4588105780564298, 0.7811446115543202, 0.9184053209026012, 0.17224751730776722, -1.6475328091120887, 0.49181252346677573, -0.6061053597414845, -1.3933264560772263, 0.14344544722416813, -0.3905457463541869, -0.0773635833941089, 0.30492141697044683, -0.5614591261561296, -1.419401744846503, 0.955611795727318, 1.4027692968418186, -0.7343269788433588, -1.4756553433046526, 0.9145937087280909, -1.092472721615005, 1.0980836262747558, 1.3145679977529234, 1.0797524283747404, 0.6308254102247195, 0.8874408902673286, -0.10052268438227928, -0.08983224735313855, -1.1997913058653475, 0.3719136301886943, 0.13950074964563766, 0.4690366263838989, 0.24025572005802265, 0.06327153831170397, 0.0639869752403078, 0.15963465055031542, 0.03490813204410398, 2.1207604049072937, -0.7279657171995265, -1.6480911373184448, -0.8335349198044641, 0.5610906956098553, 0.14392868337626316, -0.19687329134978385, -1.0234717992551527, 0.819724112176948, -0.8301152243196428, -0.1264779994266815, 1.3793715769590547, -1.077213610535644, 1.236175587525392, -1.2068837402220438, 0.1047847272107351, 0.43999253945098565, -1.2996460994705084, 1.591831487693768, -1.9492187199295534, -0.7510258435595026, -0.6567026208051004, -1.3466966732276888, -0.3374809049581502, 0.777278721181163, 1.854357184527882, -0.24629145763903534, 1.421869231047535, -0.665350750395719, 0.6926413754651823, 1.0225975184913045, 0.5858058447185054, 0.7941562095858778, -0.2726738671756177, 1.5677726178379325, -0.9163470370977671, -0.23451784063716838, -1.1415058257926867, 2.726517426644188, 2.1476170495198854, -1.339199915432269, 0.24370042092824235, -0.27375411290307944, 0.6936728038249259, -0.8487836211839579, -0.6855344456405397, -0.8835185469904709, 1.1253489445959861, 0.36542321839835423, 1.8097751105146338, 0.1120729571353281, 2.4701834366147515, 0.19301992411344596, 0.6169670940979624, -0.47530160148535827, -0.8927114625102514, 0.31580366423737116, 1.1135648732618062, 0.9598744893458587, 0.4415302762016992, -0.08108815387739585, -0.7984814511402667], \"yaxis\": \"y10\"}, {\"histfunc\": \"count\", \"histnorm\": \"\", \"marker\": {\"color\": \"rgba(50, 171, 96, 1.0)\", \"line\": {\"color\": \"#4D5663\", \"width\": 1.3}}, \"name\": \"C\", \"nbinsx\": 10, \"opacity\": 0.8, \"orientation\": \"v\", \"type\": \"histogram\", \"x\": [0.5230770887437088, 0.0825736363577513, 0.4588105780564298, 0.7811446115543202, 0.9184053209026012, 0.17224751730776722, -1.6475328091120887, 0.49181252346677573, -0.6061053597414845, -1.3933264560772263, 0.14344544722416813, -0.3905457463541869, -0.0773635833941089, 0.30492141697044683, -0.5614591261561296, -1.419401744846503, 0.955611795727318, 1.4027692968418186, -0.7343269788433588, -1.4756553433046526, 0.9145937087280909, -1.092472721615005, 1.0980836262747558, 1.3145679977529234, 1.0797524283747404, 0.6308254102247195, 0.8874408902673286, -0.10052268438227928, -0.08983224735313855, -1.1997913058653475, 0.3719136301886943, 0.13950074964563766, 0.4690366263838989, 0.24025572005802265, 0.06327153831170397, 0.0639869752403078, 0.15963465055031542, 0.03490813204410398, 2.1207604049072937, -0.7279657171995265, -1.6480911373184448, -0.8335349198044641, 0.5610906956098553, 0.14392868337626316, -0.19687329134978385, -1.0234717992551527, 0.819724112176948, -0.8301152243196428, -0.1264779994266815, 1.3793715769590547, -1.077213610535644, 1.236175587525392, -1.2068837402220438, 0.1047847272107351, 0.43999253945098565, -1.2996460994705084, 1.591831487693768, -1.9492187199295534, -0.7510258435595026, -0.6567026208051004, -1.3466966732276888, -0.3374809049581502, 0.777278721181163, 1.854357184527882, -0.24629145763903534, 1.421869231047535, -0.665350750395719, 0.6926413754651823, 1.0225975184913045, 0.5858058447185054, 0.7941562095858778, -0.2726738671756177, 1.5677726178379325, -0.9163470370977671, -0.23451784063716838, -1.1415058257926867, 2.726517426644188, 2.1476170495198854, -1.339199915432269, 0.24370042092824235, -0.27375411290307944, 0.6936728038249259, -0.8487836211839579, -0.6855344456405397, -0.8835185469904709, 1.1253489445959861, 0.36542321839835423, 1.8097751105146338, 0.1120729571353281, 2.4701834366147515, 0.19301992411344596, 0.6169670940979624, -0.47530160148535827, -0.8927114625102514, 0.31580366423737116, 1.1135648732618062, 0.9598744893458587, 0.4415302762016992, -0.08108815387739585, -0.7984814511402667], \"xaxis\": \"x11\", \"yaxis\": \"y11\"}, {\"line\": {\"color\": \"rgba(128, 128, 128, 1.0)\", \"dash\": \"solid\", \"shape\": \"linear\", \"width\": 1.3}, \"marker\": {\"size\": 2, \"symbol\": \"circle\"}, \"mode\": \"markers\", \"name\": \"C\", \"text\": \"\", \"type\": \"scatter\", \"x\": [0.4752509042408672, 0.5923357389976552, 1.8065592979771634, 1.0347190604125864, -0.34582992128279116, 0.1515887735645558, 0.16714281930383112, -0.46568627027629994, 1.5909034652327887, 0.40496363815507563, 1.2757958836450585, -0.4992335573208999, -1.1816901191345761, -0.9820038833106384, -1.9345418317893035, 0.7837282866949103, -0.07100529626029047, -1.6067357928843564, 0.28312150123480945, 1.6157703025031254, -0.484977988619448, 0.2392754077959054, 0.7910056835873752, -1.5536392737160203, -0.5331901812187568, -0.7901955651030481, 0.6578744020187579, -0.2302284137895361, -1.6241670231279821, 0.12417627553418101, 0.8726833454401819, -1.7200168388664068, 0.3728353383757879, -0.5888716944335837, 0.16700968524310988, 0.3152236939729629, 0.6600671742402289, -0.23159595946803066, -0.374948948157611, -0.6426055238815437, -0.8758344221619488, 0.31011355491272985, -0.38136450331807414, -1.72064630294261, 2.3927735134855572, -0.02306755609596276, -0.658095816712436, -0.7102542984499866, 0.3444612155969016, -1.4859692950577321, -0.8235273774770004, -1.0759052928914057, 0.7865776439965904, -0.865830264721386, -0.42203911311573006, -0.7984772856974879, -1.3915201358593854, -0.5855284794553162, -0.02197011967084297, 0.8693706123410209, 0.989996744831296, 0.3962765133442256, -0.8225052722339669, -0.9752154080510914, 0.6082080967773585, 0.27312593534686747, -0.5911956742881689, 0.5417838377513962, 1.8921345486217096, 0.42640908908842035, 0.10577626309087514, 0.4962037534173657, -1.2110753581455402, 0.9880462968869487, 0.7890408686323082, 1.2697947008864725, 0.5650787760312971, -0.8871516539780503, 0.0826382920303798, -0.3465183651319844, 0.36453051315007917, -0.48318900415908855, 1.4882785868246171, -0.8788596842572135, -0.6077343100103489, -0.06122119231248921, 1.4467997449887289, 1.9680021503339724, 0.2212801457632743, 1.4068423254704043, -0.07487568018994134, 2.4107329653075498, 0.7580632574862473, -0.3551657240059524, 0.1979891520555157, -0.355751232720357, -0.06743330749589409, -0.32611999195126024, -0.06435277033186215, 1.115378302375508], \"xaxis\": \"x12\", \"y\": [0.5230770887437088, 0.0825736363577513, 0.4588105780564298, 0.7811446115543202, 0.9184053209026012, 0.17224751730776722, -1.6475328091120887, 0.49181252346677573, -0.6061053597414845, -1.3933264560772263, 0.14344544722416813, -0.3905457463541869, -0.0773635833941089, 0.30492141697044683, -0.5614591261561296, -1.419401744846503, 0.955611795727318, 1.4027692968418186, -0.7343269788433588, -1.4756553433046526, 0.9145937087280909, -1.092472721615005, 1.0980836262747558, 1.3145679977529234, 1.0797524283747404, 0.6308254102247195, 0.8874408902673286, -0.10052268438227928, -0.08983224735313855, -1.1997913058653475, 0.3719136301886943, 0.13950074964563766, 0.4690366263838989, 0.24025572005802265, 0.06327153831170397, 0.0639869752403078, 0.15963465055031542, 0.03490813204410398, 2.1207604049072937, -0.7279657171995265, -1.6480911373184448, -0.8335349198044641, 0.5610906956098553, 0.14392868337626316, -0.19687329134978385, -1.0234717992551527, 0.819724112176948, -0.8301152243196428, -0.1264779994266815, 1.3793715769590547, -1.077213610535644, 1.236175587525392, -1.2068837402220438, 0.1047847272107351, 0.43999253945098565, -1.2996460994705084, 1.591831487693768, -1.9492187199295534, -0.7510258435595026, -0.6567026208051004, -1.3466966732276888, -0.3374809049581502, 0.777278721181163, 1.854357184527882, -0.24629145763903534, 1.421869231047535, -0.665350750395719, 0.6926413754651823, 1.0225975184913045, 0.5858058447185054, 0.7941562095858778, -0.2726738671756177, 1.5677726178379325, -0.9163470370977671, -0.23451784063716838, -1.1415058257926867, 2.726517426644188, 2.1476170495198854, -1.339199915432269, 0.24370042092824235, -0.27375411290307944, 0.6936728038249259, -0.8487836211839579, -0.6855344456405397, -0.8835185469904709, 1.1253489445959861, 0.36542321839835423, 1.8097751105146338, 0.1120729571353281, 2.4701834366147515, 0.19301992411344596, 0.6169670940979624, -0.47530160148535827, -0.8927114625102514, 0.31580366423737116, 1.1135648732618062, 0.9598744893458587, 0.4415302762016992, -0.08108815387739585, -0.7984814511402667], \"yaxis\": \"y12\"}, {\"line\": {\"color\": \"rgba(128, 128, 128, 1.0)\", \"dash\": \"solid\", \"shape\": \"linear\", \"width\": 1.3}, \"marker\": {\"size\": 2, \"symbol\": \"circle\"}, \"mode\": \"markers\", \"name\": \"D\", \"text\": \"\", \"type\": \"scatter\", \"x\": [0.38776790492739865, 0.03849236956660459, 1.2433137936961798, 0.5842972264102014, -1.1208961479414192, 1.730216441653974, 0.06108034749886219, 0.9262701599086871, -0.87571943613146, 0.7960283927316331, 0.8013388093558175, -0.7713827146130571, -0.3860596312437266, 0.1422534281059505, 1.5343821976708791, -0.522288610381301, 1.2765181110454487, -1.9087210266761787, -0.5455631881633575, -0.9673041467546614, 0.18365245410260891, 0.8319727481794416, -0.6924274444035763, 0.130212270746392, -0.5741925777331125, -1.3462551608381779, -0.41262032018311534, 1.103101235762768, 1.0446220690518804, 0.9472184572850981, 0.01144284758409768, 0.3924697684460991, -0.7436814456680585, 0.5606640324163912, 0.6965257672104554, -0.7934068443983743, 0.582381173671548, -2.282351450427875, 0.7124587395952304, -0.6882658875377795, 1.6993566416898747, 2.8568699326050275, 0.006332552164447542, 0.4435057221418252, 0.09896661061309904, 0.8037600980180298, 1.5334032703702691, -0.4990486031175881, 0.21649575207817678, -0.4096457505587984, 0.8016799189563294, -0.6905393608982633, 2.0872629967650296, 1.474533174467541, -0.9195699744527402, 0.2725139639009779, 0.7685364302756515, -0.6371309176903281, -0.397097728226869, 1.9487774142868644, -2.877517406687037, -1.1877654785957479, 0.9114452597351144, 0.7244960384363618, 0.3218065598901516, 0.6135611614993941, 0.2577221961420037, -1.0607592928299288, 0.2975795540412989, 0.4551520791689616, -0.5795233153683617, 0.5763212135443879, -1.6662421515568697, 1.0389099618890498, 0.1410565241910319, 1.1284833361430653, 2.349189230892838, -1.4199144089065157, -1.1340525523746237, 0.6552467536857508, 1.5617541726720494, -1.0089435007798202, -1.1259228236191567, -1.2386389182482231, 1.6364774453566855, 0.36666797091738595, -0.3432628429736642, -1.043490274577387, 0.8818679747375759, 0.1751112634092605, 0.1247652284295829, 0.5518682798715221, 0.0579060702482222, 0.286418801590196, -1.4700359970155337, -0.5355646681907782, 1.414380652513354, -1.1727913308648066, -0.3937665053241717, 0.1938955533958501], \"xaxis\": \"x13\", \"y\": [0.4752509042408672, 0.5923357389976552, 1.8065592979771634, 1.0347190604125864, -0.34582992128279116, 0.1515887735645558, 0.16714281930383112, -0.46568627027629994, 1.5909034652327887, 0.40496363815507563, 1.2757958836450585, -0.4992335573208999, -1.1816901191345761, -0.9820038833106384, -1.9345418317893035, 0.7837282866949103, -0.07100529626029047, -1.6067357928843564, 0.28312150123480945, 1.6157703025031254, -0.484977988619448, 0.2392754077959054, 0.7910056835873752, -1.5536392737160203, -0.5331901812187568, -0.7901955651030481, 0.6578744020187579, -0.2302284137895361, -1.6241670231279821, 0.12417627553418101, 0.8726833454401819, -1.7200168388664068, 0.3728353383757879, -0.5888716944335837, 0.16700968524310988, 0.3152236939729629, 0.6600671742402289, -0.23159595946803066, -0.374948948157611, -0.6426055238815437, -0.8758344221619488, 0.31011355491272985, -0.38136450331807414, -1.72064630294261, 2.3927735134855572, -0.02306755609596276, -0.658095816712436, -0.7102542984499866, 0.3444612155969016, -1.4859692950577321, -0.8235273774770004, -1.0759052928914057, 0.7865776439965904, -0.865830264721386, -0.42203911311573006, -0.7984772856974879, -1.3915201358593854, -0.5855284794553162, -0.02197011967084297, 0.8693706123410209, 0.989996744831296, 0.3962765133442256, -0.8225052722339669, -0.9752154080510914, 0.6082080967773585, 0.27312593534686747, -0.5911956742881689, 0.5417838377513962, 1.8921345486217096, 0.42640908908842035, 0.10577626309087514, 0.4962037534173657, -1.2110753581455402, 0.9880462968869487, 0.7890408686323082, 1.2697947008864725, 0.5650787760312971, -0.8871516539780503, 0.0826382920303798, -0.3465183651319844, 0.36453051315007917, -0.48318900415908855, 1.4882785868246171, -0.8788596842572135, -0.6077343100103489, -0.06122119231248921, 1.4467997449887289, 1.9680021503339724, 0.2212801457632743, 1.4068423254704043, -0.07487568018994134, 2.4107329653075498, 0.7580632574862473, -0.3551657240059524, 0.1979891520555157, -0.355751232720357, -0.06743330749589409, -0.32611999195126024, -0.06435277033186215, 1.115378302375508], \"yaxis\": \"y13\"}, {\"line\": {\"color\": \"rgba(128, 128, 128, 1.0)\", \"dash\": \"solid\", \"shape\": \"linear\", \"width\": 1.3}, \"marker\": {\"size\": 2, \"symbol\": \"circle\"}, \"mode\": \"markers\", \"name\": \"D\", \"text\": \"\", \"type\": \"scatter\", \"x\": [0.319389861291986, -0.30074966743608506, -0.8312005470150119, -2.4054656013055444, 1.95218493548916, -1.3949547196167487, 1.2610777494042638, -0.25106428346371634, 0.7833405935894365, 0.34177773626719854, 1.847886725993193, -0.14969996369267832, 0.08691354446385557, 1.1409817365990378, 0.3593414585006607, -0.6534610730262642, 0.04553691446835388, -0.6026955641298878, 1.5577759039506558, -1.4045087455705607, -0.9378539145505463, 0.043002648037828495, -2.102274024308178, 0.8801400704781029, -0.5281783119970317, 1.343986387262092, -1.0803664242729223, -0.5014747769984824, 0.5970767917134021, 0.5007062749147215, 0.2564679561157993, 0.22936027050727836, -1.124733552945505, 1.346138803322607, -1.076597213636889, -0.14375695629240315, 1.3337935777840249, 0.7804027116427791, -0.785762950919096, 0.4102750089109371, -0.1318258634420717, 0.8532631740447265, -1.0008567066921035, 0.3105586227309746, 0.7355287345659339, 2.1022790876438813, -0.6251400952943048, -0.23429800909253748, -0.061505586329181, -0.6349766598812604, 0.525719391772557, 1.345241629785457, -0.6011991190519752, 1.44640310913396, -0.0872486292630008, 0.10560666020020956, 0.941703428827021, 0.814753456507976, -0.584076289529489, -0.962996905418369, 0.7994852115303925, 0.762184625040766, -0.21785632433335, 0.9864316077429109, 0.755867048719471, -1.1129961928211929, 0.19433562473336324, 1.5619787553664641, -0.5202158167923906, -0.02911156974216635, -1.6734099454901552, -2.2796496602757554, -1.5492433667544536, -0.8651720204735538, -1.8230976407359787, -0.006096200544762621, -1.584109186224074, -0.33035517887516197, -0.7059363123188731, 1.695198015552919, -0.9811233584929907, 0.47042387423562504, -0.5249460929521849, -0.31125324698240014, -0.7994641306782769, -0.6174704292261655, 0.05596717699545592, 0.49209772986311834, 0.19878044412033335, -0.13557781245738254, -0.3868164211531793, 1.070491610505177, 0.8275071529281245, -0.6656345370734653, -0.13503140193318744, -0.8667935467318065, 0.6865335102478416, -0.3186666336242621, 1.3881557946444958, 1.7933718693964338], \"xaxis\": \"x14\", \"y\": [0.4752509042408672, 0.5923357389976552, 1.8065592979771634, 1.0347190604125864, -0.34582992128279116, 0.1515887735645558, 0.16714281930383112, -0.46568627027629994, 1.5909034652327887, 0.40496363815507563, 1.2757958836450585, -0.4992335573208999, -1.1816901191345761, -0.9820038833106384, -1.9345418317893035, 0.7837282866949103, -0.07100529626029047, -1.6067357928843564, 0.28312150123480945, 1.6157703025031254, -0.484977988619448, 0.2392754077959054, 0.7910056835873752, -1.5536392737160203, -0.5331901812187568, -0.7901955651030481, 0.6578744020187579, -0.2302284137895361, -1.6241670231279821, 0.12417627553418101, 0.8726833454401819, -1.7200168388664068, 0.3728353383757879, -0.5888716944335837, 0.16700968524310988, 0.3152236939729629, 0.6600671742402289, -0.23159595946803066, -0.374948948157611, -0.6426055238815437, -0.8758344221619488, 0.31011355491272985, -0.38136450331807414, -1.72064630294261, 2.3927735134855572, -0.02306755609596276, -0.658095816712436, -0.7102542984499866, 0.3444612155969016, -1.4859692950577321, -0.8235273774770004, -1.0759052928914057, 0.7865776439965904, -0.865830264721386, -0.42203911311573006, -0.7984772856974879, -1.3915201358593854, -0.5855284794553162, -0.02197011967084297, 0.8693706123410209, 0.989996744831296, 0.3962765133442256, -0.8225052722339669, -0.9752154080510914, 0.6082080967773585, 0.27312593534686747, -0.5911956742881689, 0.5417838377513962, 1.8921345486217096, 0.42640908908842035, 0.10577626309087514, 0.4962037534173657, -1.2110753581455402, 0.9880462968869487, 0.7890408686323082, 1.2697947008864725, 0.5650787760312971, -0.8871516539780503, 0.0826382920303798, -0.3465183651319844, 0.36453051315007917, -0.48318900415908855, 1.4882785868246171, -0.8788596842572135, -0.6077343100103489, -0.06122119231248921, 1.4467997449887289, 1.9680021503339724, 0.2212801457632743, 1.4068423254704043, -0.07487568018994134, 2.4107329653075498, 0.7580632574862473, -0.3551657240059524, 0.1979891520555157, -0.355751232720357, -0.06743330749589409, -0.32611999195126024, -0.06435277033186215, 1.115378302375508], \"yaxis\": \"y14\"}, {\"line\": {\"color\": \"rgba(128, 128, 128, 1.0)\", \"dash\": \"solid\", \"shape\": \"linear\", \"width\": 1.3}, \"marker\": {\"size\": 2, \"symbol\": \"circle\"}, \"mode\": \"markers\", \"name\": \"D\", \"text\": \"\", \"type\": \"scatter\", \"x\": [0.5230770887437088, 0.0825736363577513, 0.4588105780564298, 0.7811446115543202, 0.9184053209026012, 0.17224751730776722, -1.6475328091120887, 0.49181252346677573, -0.6061053597414845, -1.3933264560772263, 0.14344544722416813, -0.3905457463541869, -0.0773635833941089, 0.30492141697044683, -0.5614591261561296, -1.419401744846503, 0.955611795727318, 1.4027692968418186, -0.7343269788433588, -1.4756553433046526, 0.9145937087280909, -1.092472721615005, 1.0980836262747558, 1.3145679977529234, 1.0797524283747404, 0.6308254102247195, 0.8874408902673286, -0.10052268438227928, -0.08983224735313855, -1.1997913058653475, 0.3719136301886943, 0.13950074964563766, 0.4690366263838989, 0.24025572005802265, 0.06327153831170397, 0.0639869752403078, 0.15963465055031542, 0.03490813204410398, 2.1207604049072937, -0.7279657171995265, -1.6480911373184448, -0.8335349198044641, 0.5610906956098553, 0.14392868337626316, -0.19687329134978385, -1.0234717992551527, 0.819724112176948, -0.8301152243196428, -0.1264779994266815, 1.3793715769590547, -1.077213610535644, 1.236175587525392, -1.2068837402220438, 0.1047847272107351, 0.43999253945098565, -1.2996460994705084, 1.591831487693768, -1.9492187199295534, -0.7510258435595026, -0.6567026208051004, -1.3466966732276888, -0.3374809049581502, 0.777278721181163, 1.854357184527882, -0.24629145763903534, 1.421869231047535, -0.665350750395719, 0.6926413754651823, 1.0225975184913045, 0.5858058447185054, 0.7941562095858778, -0.2726738671756177, 1.5677726178379325, -0.9163470370977671, -0.23451784063716838, -1.1415058257926867, 2.726517426644188, 2.1476170495198854, -1.339199915432269, 0.24370042092824235, -0.27375411290307944, 0.6936728038249259, -0.8487836211839579, -0.6855344456405397, -0.8835185469904709, 1.1253489445959861, 0.36542321839835423, 1.8097751105146338, 0.1120729571353281, 2.4701834366147515, 0.19301992411344596, 0.6169670940979624, -0.47530160148535827, -0.8927114625102514, 0.31580366423737116, 1.1135648732618062, 0.9598744893458587, 0.4415302762016992, -0.08108815387739585, -0.7984814511402667], \"xaxis\": \"x15\", \"y\": [0.4752509042408672, 0.5923357389976552, 1.8065592979771634, 1.0347190604125864, -0.34582992128279116, 0.1515887735645558, 0.16714281930383112, -0.46568627027629994, 1.5909034652327887, 0.40496363815507563, 1.2757958836450585, -0.4992335573208999, -1.1816901191345761, -0.9820038833106384, -1.9345418317893035, 0.7837282866949103, -0.07100529626029047, -1.6067357928843564, 0.28312150123480945, 1.6157703025031254, -0.484977988619448, 0.2392754077959054, 0.7910056835873752, -1.5536392737160203, -0.5331901812187568, -0.7901955651030481, 0.6578744020187579, -0.2302284137895361, -1.6241670231279821, 0.12417627553418101, 0.8726833454401819, -1.7200168388664068, 0.3728353383757879, -0.5888716944335837, 0.16700968524310988, 0.3152236939729629, 0.6600671742402289, -0.23159595946803066, -0.374948948157611, -0.6426055238815437, -0.8758344221619488, 0.31011355491272985, -0.38136450331807414, -1.72064630294261, 2.3927735134855572, -0.02306755609596276, -0.658095816712436, -0.7102542984499866, 0.3444612155969016, -1.4859692950577321, -0.8235273774770004, -1.0759052928914057, 0.7865776439965904, -0.865830264721386, -0.42203911311573006, -0.7984772856974879, -1.3915201358593854, -0.5855284794553162, -0.02197011967084297, 0.8693706123410209, 0.989996744831296, 0.3962765133442256, -0.8225052722339669, -0.9752154080510914, 0.6082080967773585, 0.27312593534686747, -0.5911956742881689, 0.5417838377513962, 1.8921345486217096, 0.42640908908842035, 0.10577626309087514, 0.4962037534173657, -1.2110753581455402, 0.9880462968869487, 0.7890408686323082, 1.2697947008864725, 0.5650787760312971, -0.8871516539780503, 0.0826382920303798, -0.3465183651319844, 0.36453051315007917, -0.48318900415908855, 1.4882785868246171, -0.8788596842572135, -0.6077343100103489, -0.06122119231248921, 1.4467997449887289, 1.9680021503339724, 0.2212801457632743, 1.4068423254704043, -0.07487568018994134, 2.4107329653075498, 0.7580632574862473, -0.3551657240059524, 0.1979891520555157, -0.355751232720357, -0.06743330749589409, -0.32611999195126024, -0.06435277033186215, 1.115378302375508], \"yaxis\": \"y15\"}, {\"histfunc\": \"count\", \"histnorm\": \"\", \"marker\": {\"color\": \"rgba(128, 0, 128, 1.0)\", \"line\": {\"color\": \"#4D5663\", \"width\": 1.3}}, \"name\": \"D\", \"nbinsx\": 10, \"opacity\": 0.8, \"orientation\": \"v\", \"type\": \"histogram\", \"x\": [0.4752509042408672, 0.5923357389976552, 1.8065592979771634, 1.0347190604125864, -0.34582992128279116, 0.1515887735645558, 0.16714281930383112, -0.46568627027629994, 1.5909034652327887, 0.40496363815507563, 1.2757958836450585, -0.4992335573208999, -1.1816901191345761, -0.9820038833106384, -1.9345418317893035, 0.7837282866949103, -0.07100529626029047, -1.6067357928843564, 0.28312150123480945, 1.6157703025031254, -0.484977988619448, 0.2392754077959054, 0.7910056835873752, -1.5536392737160203, -0.5331901812187568, -0.7901955651030481, 0.6578744020187579, -0.2302284137895361, -1.6241670231279821, 0.12417627553418101, 0.8726833454401819, -1.7200168388664068, 0.3728353383757879, -0.5888716944335837, 0.16700968524310988, 0.3152236939729629, 0.6600671742402289, -0.23159595946803066, -0.374948948157611, -0.6426055238815437, -0.8758344221619488, 0.31011355491272985, -0.38136450331807414, -1.72064630294261, 2.3927735134855572, -0.02306755609596276, -0.658095816712436, -0.7102542984499866, 0.3444612155969016, -1.4859692950577321, -0.8235273774770004, -1.0759052928914057, 0.7865776439965904, -0.865830264721386, -0.42203911311573006, -0.7984772856974879, -1.3915201358593854, -0.5855284794553162, -0.02197011967084297, 0.8693706123410209, 0.989996744831296, 0.3962765133442256, -0.8225052722339669, -0.9752154080510914, 0.6082080967773585, 0.27312593534686747, -0.5911956742881689, 0.5417838377513962, 1.8921345486217096, 0.42640908908842035, 0.10577626309087514, 0.4962037534173657, -1.2110753581455402, 0.9880462968869487, 0.7890408686323082, 1.2697947008864725, 0.5650787760312971, -0.8871516539780503, 0.0826382920303798, -0.3465183651319844, 0.36453051315007917, -0.48318900415908855, 1.4882785868246171, -0.8788596842572135, -0.6077343100103489, -0.06122119231248921, 1.4467997449887289, 1.9680021503339724, 0.2212801457632743, 1.4068423254704043, -0.07487568018994134, 2.4107329653075498, 0.7580632574862473, -0.3551657240059524, 0.1979891520555157, -0.355751232720357, -0.06743330749589409, -0.32611999195126024, -0.06435277033186215, 1.115378302375508], \"xaxis\": \"x16\", \"yaxis\": \"y16\"}],\n",
              "                        {\"bargap\": 0.02, \"legend\": {\"bgcolor\": \"#F5F6F9\", \"font\": {\"color\": \"#4D5663\"}}, \"paper_bgcolor\": \"#F5F6F9\", \"plot_bgcolor\": \"#F5F6F9\", \"showlegend\": false, \"template\": {\"data\": {\"bar\": [{\"error_x\": {\"color\": \"#2a3f5f\"}, \"error_y\": {\"color\": \"#2a3f5f\"}, \"marker\": {\"line\": {\"color\": \"#E5ECF6\", \"width\": 0.5}}, \"type\": \"bar\"}], \"barpolar\": [{\"marker\": {\"line\": {\"color\": \"#E5ECF6\", \"width\": 0.5}}, \"type\": \"barpolar\"}], \"carpet\": [{\"aaxis\": {\"endlinecolor\": \"#2a3f5f\", \"gridcolor\": \"white\", \"linecolor\": \"white\", \"minorgridcolor\": \"white\", \"startlinecolor\": \"#2a3f5f\"}, \"baxis\": {\"endlinecolor\": \"#2a3f5f\", \"gridcolor\": \"white\", \"linecolor\": \"white\", \"minorgridcolor\": \"white\", \"startlinecolor\": \"#2a3f5f\"}, \"type\": \"carpet\"}], \"choropleth\": [{\"colorbar\": {\"outlinewidth\": 0, \"ticks\": \"\"}, \"type\": \"choropleth\"}], \"contour\": [{\"colorbar\": {\"outlinewidth\": 0, \"ticks\": \"\"}, \"colorscale\": [[0.0, \"#0d0887\"], [0.1111111111111111, \"#46039f\"], [0.2222222222222222, \"#7201a8\"], [0.3333333333333333, \"#9c179e\"], [0.4444444444444444, \"#bd3786\"], [0.5555555555555556, \"#d8576b\"], [0.6666666666666666, \"#ed7953\"], [0.7777777777777778, \"#fb9f3a\"], [0.8888888888888888, \"#fdca26\"], [1.0, \"#f0f921\"]], \"type\": \"contour\"}], \"contourcarpet\": [{\"colorbar\": {\"outlinewidth\": 0, \"ticks\": \"\"}, \"type\": \"contourcarpet\"}], \"heatmap\": [{\"colorbar\": {\"outlinewidth\": 0, \"ticks\": \"\"}, \"colorscale\": [[0.0, \"#0d0887\"], [0.1111111111111111, \"#46039f\"], [0.2222222222222222, \"#7201a8\"], [0.3333333333333333, \"#9c179e\"], [0.4444444444444444, \"#bd3786\"], [0.5555555555555556, \"#d8576b\"], [0.6666666666666666, \"#ed7953\"], [0.7777777777777778, \"#fb9f3a\"], [0.8888888888888888, \"#fdca26\"], [1.0, \"#f0f921\"]], \"type\": \"heatmap\"}], \"heatmapgl\": [{\"colorbar\": {\"outlinewidth\": 0, \"ticks\": \"\"}, \"colorscale\": [[0.0, \"#0d0887\"], [0.1111111111111111, \"#46039f\"], [0.2222222222222222, \"#7201a8\"], [0.3333333333333333, \"#9c179e\"], [0.4444444444444444, \"#bd3786\"], [0.5555555555555556, \"#d8576b\"], [0.6666666666666666, \"#ed7953\"], [0.7777777777777778, \"#fb9f3a\"], [0.8888888888888888, \"#fdca26\"], [1.0, \"#f0f921\"]], \"type\": \"heatmapgl\"}], \"histogram\": [{\"marker\": {\"colorbar\": {\"outlinewidth\": 0, \"ticks\": \"\"}}, \"type\": \"histogram\"}], \"histogram2d\": [{\"colorbar\": {\"outlinewidth\": 0, \"ticks\": \"\"}, \"colorscale\": [[0.0, \"#0d0887\"], [0.1111111111111111, \"#46039f\"], [0.2222222222222222, \"#7201a8\"], [0.3333333333333333, \"#9c179e\"], [0.4444444444444444, \"#bd3786\"], [0.5555555555555556, \"#d8576b\"], [0.6666666666666666, \"#ed7953\"], [0.7777777777777778, \"#fb9f3a\"], [0.8888888888888888, \"#fdca26\"], [1.0, \"#f0f921\"]], \"type\": \"histogram2d\"}], \"histogram2dcontour\": [{\"colorbar\": {\"outlinewidth\": 0, \"ticks\": \"\"}, \"colorscale\": [[0.0, \"#0d0887\"], [0.1111111111111111, \"#46039f\"], [0.2222222222222222, \"#7201a8\"], [0.3333333333333333, \"#9c179e\"], [0.4444444444444444, \"#bd3786\"], [0.5555555555555556, \"#d8576b\"], [0.6666666666666666, \"#ed7953\"], [0.7777777777777778, \"#fb9f3a\"], [0.8888888888888888, \"#fdca26\"], [1.0, \"#f0f921\"]], \"type\": \"histogram2dcontour\"}], \"mesh3d\": [{\"colorbar\": {\"outlinewidth\": 0, \"ticks\": \"\"}, \"type\": \"mesh3d\"}], \"parcoords\": [{\"line\": {\"colorbar\": {\"outlinewidth\": 0, \"ticks\": \"\"}}, \"type\": \"parcoords\"}], \"pie\": [{\"automargin\": true, \"type\": \"pie\"}], \"scatter\": [{\"marker\": {\"colorbar\": {\"outlinewidth\": 0, \"ticks\": \"\"}}, \"type\": \"scatter\"}], \"scatter3d\": [{\"line\": {\"colorbar\": {\"outlinewidth\": 0, \"ticks\": \"\"}}, \"marker\": {\"colorbar\": {\"outlinewidth\": 0, \"ticks\": \"\"}}, \"type\": \"scatter3d\"}], \"scattercarpet\": [{\"marker\": {\"colorbar\": {\"outlinewidth\": 0, \"ticks\": \"\"}}, \"type\": \"scattercarpet\"}], \"scattergeo\": [{\"marker\": {\"colorbar\": {\"outlinewidth\": 0, \"ticks\": \"\"}}, \"type\": \"scattergeo\"}], \"scattergl\": [{\"marker\": {\"colorbar\": {\"outlinewidth\": 0, \"ticks\": \"\"}}, \"type\": \"scattergl\"}], \"scattermapbox\": [{\"marker\": {\"colorbar\": {\"outlinewidth\": 0, \"ticks\": \"\"}}, \"type\": \"scattermapbox\"}], \"scatterpolar\": [{\"marker\": {\"colorbar\": {\"outlinewidth\": 0, \"ticks\": \"\"}}, \"type\": \"scatterpolar\"}], \"scatterpolargl\": [{\"marker\": {\"colorbar\": {\"outlinewidth\": 0, \"ticks\": \"\"}}, \"type\": \"scatterpolargl\"}], \"scatterternary\": [{\"marker\": {\"colorbar\": {\"outlinewidth\": 0, \"ticks\": \"\"}}, \"type\": \"scatterternary\"}], \"surface\": [{\"colorbar\": {\"outlinewidth\": 0, \"ticks\": \"\"}, \"colorscale\": [[0.0, \"#0d0887\"], [0.1111111111111111, \"#46039f\"], [0.2222222222222222, \"#7201a8\"], [0.3333333333333333, \"#9c179e\"], [0.4444444444444444, \"#bd3786\"], [0.5555555555555556, \"#d8576b\"], [0.6666666666666666, \"#ed7953\"], [0.7777777777777778, \"#fb9f3a\"], [0.8888888888888888, \"#fdca26\"], [1.0, \"#f0f921\"]], \"type\": \"surface\"}], \"table\": [{\"cells\": {\"fill\": {\"color\": \"#EBF0F8\"}, \"line\": {\"color\": \"white\"}}, \"header\": {\"fill\": {\"color\": \"#C8D4E3\"}, \"line\": {\"color\": \"white\"}}, \"type\": \"table\"}]}, \"layout\": {\"annotationdefaults\": {\"arrowcolor\": \"#2a3f5f\", \"arrowhead\": 0, \"arrowwidth\": 1}, \"coloraxis\": {\"colorbar\": {\"outlinewidth\": 0, \"ticks\": \"\"}}, \"colorscale\": {\"diverging\": [[0, \"#8e0152\"], [0.1, \"#c51b7d\"], [0.2, \"#de77ae\"], [0.3, \"#f1b6da\"], [0.4, \"#fde0ef\"], [0.5, \"#f7f7f7\"], [0.6, \"#e6f5d0\"], [0.7, \"#b8e186\"], [0.8, \"#7fbc41\"], [0.9, \"#4d9221\"], [1, \"#276419\"]], \"sequential\": [[0.0, \"#0d0887\"], [0.1111111111111111, \"#46039f\"], [0.2222222222222222, \"#7201a8\"], [0.3333333333333333, \"#9c179e\"], [0.4444444444444444, \"#bd3786\"], [0.5555555555555556, \"#d8576b\"], [0.6666666666666666, \"#ed7953\"], [0.7777777777777778, \"#fb9f3a\"], [0.8888888888888888, \"#fdca26\"], [1.0, \"#f0f921\"]], \"sequentialminus\": [[0.0, \"#0d0887\"], [0.1111111111111111, \"#46039f\"], [0.2222222222222222, \"#7201a8\"], [0.3333333333333333, \"#9c179e\"], [0.4444444444444444, \"#bd3786\"], [0.5555555555555556, \"#d8576b\"], [0.6666666666666666, \"#ed7953\"], [0.7777777777777778, \"#fb9f3a\"], [0.8888888888888888, \"#fdca26\"], [1.0, \"#f0f921\"]]}, \"colorway\": [\"#636efa\", \"#EF553B\", \"#00cc96\", \"#ab63fa\", \"#FFA15A\", \"#19d3f3\", \"#FF6692\", \"#B6E880\", \"#FF97FF\", \"#FECB52\"], \"font\": {\"color\": \"#2a3f5f\"}, \"geo\": {\"bgcolor\": \"white\", \"lakecolor\": \"white\", \"landcolor\": \"#E5ECF6\", \"showlakes\": true, \"showland\": true, \"subunitcolor\": \"white\"}, \"hoverlabel\": {\"align\": \"left\"}, \"hovermode\": \"closest\", \"mapbox\": {\"style\": \"light\"}, \"paper_bgcolor\": \"white\", \"plot_bgcolor\": \"#E5ECF6\", \"polar\": {\"angularaxis\": {\"gridcolor\": \"white\", \"linecolor\": \"white\", \"ticks\": \"\"}, \"bgcolor\": \"#E5ECF6\", \"radialaxis\": {\"gridcolor\": \"white\", \"linecolor\": \"white\", \"ticks\": \"\"}}, \"scene\": {\"xaxis\": {\"backgroundcolor\": \"#E5ECF6\", \"gridcolor\": \"white\", \"gridwidth\": 2, \"linecolor\": \"white\", \"showbackground\": true, \"ticks\": \"\", \"zerolinecolor\": \"white\"}, \"yaxis\": {\"backgroundcolor\": \"#E5ECF6\", \"gridcolor\": \"white\", \"gridwidth\": 2, \"linecolor\": \"white\", \"showbackground\": true, \"ticks\": \"\", \"zerolinecolor\": \"white\"}, \"zaxis\": {\"backgroundcolor\": \"#E5ECF6\", \"gridcolor\": \"white\", \"gridwidth\": 2, \"linecolor\": \"white\", \"showbackground\": true, \"ticks\": \"\", \"zerolinecolor\": \"white\"}}, \"shapedefaults\": {\"line\": {\"color\": \"#2a3f5f\"}}, \"ternary\": {\"aaxis\": {\"gridcolor\": \"white\", \"linecolor\": \"white\", \"ticks\": \"\"}, \"baxis\": {\"gridcolor\": \"white\", \"linecolor\": \"white\", \"ticks\": \"\"}, \"bgcolor\": \"#E5ECF6\", \"caxis\": {\"gridcolor\": \"white\", \"linecolor\": \"white\", \"ticks\": \"\"}}, \"title\": {\"x\": 0.05}, \"xaxis\": {\"automargin\": true, \"gridcolor\": \"white\", \"linecolor\": \"white\", \"ticks\": \"\", \"title\": {\"standoff\": 15}, \"zerolinecolor\": \"white\", \"zerolinewidth\": 2}, \"yaxis\": {\"automargin\": true, \"gridcolor\": \"white\", \"linecolor\": \"white\", \"ticks\": \"\", \"title\": {\"standoff\": 15}, \"zerolinecolor\": \"white\", \"zerolinewidth\": 2}}}, \"title\": {\"font\": {\"color\": \"#4D5663\"}}, \"xaxis\": {\"anchor\": \"y\", \"domain\": [0.0, 0.2125], \"gridcolor\": \"#E1E5ED\", \"showgrid\": false, \"tickfont\": {\"color\": \"#4D5663\"}, \"title\": {\"font\": {\"color\": \"#4D5663\"}, \"text\": \"\"}, \"zerolinecolor\": \"#E1E5ED\"}, \"xaxis10\": {\"anchor\": \"y10\", \"domain\": [0.2625, 0.475], \"gridcolor\": \"#E1E5ED\", \"showgrid\": false, \"tickfont\": {\"color\": \"#4D5663\"}, \"title\": {\"font\": {\"color\": \"#4D5663\"}, \"text\": \"\"}, \"zerolinecolor\": \"#E1E5ED\"}, \"xaxis11\": {\"anchor\": \"y11\", \"domain\": [0.525, 0.7375], \"gridcolor\": \"#E1E5ED\", \"showgrid\": false, \"tickfont\": {\"color\": \"#4D5663\"}, \"title\": {\"font\": {\"color\": \"#4D5663\"}, \"text\": \"\"}, \"zerolinecolor\": \"#E1E5ED\"}, \"xaxis12\": {\"anchor\": \"y12\", \"domain\": [0.7875, 1.0], \"gridcolor\": \"#E1E5ED\", \"showgrid\": false, \"tickfont\": {\"color\": \"#4D5663\"}, \"title\": {\"font\": {\"color\": \"#4D5663\"}, \"text\": \"\"}, \"zerolinecolor\": \"#E1E5ED\"}, \"xaxis13\": {\"anchor\": \"y13\", \"domain\": [0.0, 0.2125], \"gridcolor\": \"#E1E5ED\", \"showgrid\": false, \"tickfont\": {\"color\": \"#4D5663\"}, \"title\": {\"font\": {\"color\": \"#4D5663\"}, \"text\": \"\"}, \"zerolinecolor\": \"#E1E5ED\"}, \"xaxis14\": {\"anchor\": \"y14\", \"domain\": [0.2625, 0.475], \"gridcolor\": \"#E1E5ED\", \"showgrid\": false, \"tickfont\": {\"color\": \"#4D5663\"}, \"title\": {\"font\": {\"color\": \"#4D5663\"}, \"text\": \"\"}, \"zerolinecolor\": \"#E1E5ED\"}, \"xaxis15\": {\"anchor\": \"y15\", \"domain\": [0.525, 0.7375], \"gridcolor\": \"#E1E5ED\", \"showgrid\": false, \"tickfont\": {\"color\": \"#4D5663\"}, \"title\": {\"font\": {\"color\": \"#4D5663\"}, \"text\": \"\"}, \"zerolinecolor\": \"#E1E5ED\"}, \"xaxis16\": {\"anchor\": \"y16\", \"domain\": [0.7875, 1.0], \"gridcolor\": \"#E1E5ED\", \"showgrid\": false, \"tickfont\": {\"color\": \"#4D5663\"}, \"title\": {\"font\": {\"color\": \"#4D5663\"}, \"text\": \"\"}, \"zerolinecolor\": \"#E1E5ED\"}, \"xaxis2\": {\"anchor\": \"y2\", \"domain\": [0.2625, 0.475], \"gridcolor\": \"#E1E5ED\", \"showgrid\": false, \"tickfont\": {\"color\": \"#4D5663\"}, \"title\": {\"font\": {\"color\": \"#4D5663\"}, \"text\": \"\"}, \"zerolinecolor\": \"#E1E5ED\"}, \"xaxis3\": {\"anchor\": \"y3\", \"domain\": [0.525, 0.7375], \"gridcolor\": \"#E1E5ED\", \"showgrid\": false, \"tickfont\": {\"color\": \"#4D5663\"}, \"title\": {\"font\": {\"color\": \"#4D5663\"}, \"text\": \"\"}, \"zerolinecolor\": \"#E1E5ED\"}, \"xaxis4\": {\"anchor\": \"y4\", \"domain\": [0.7875, 1.0], \"gridcolor\": \"#E1E5ED\", \"showgrid\": false, \"tickfont\": {\"color\": \"#4D5663\"}, \"title\": {\"font\": {\"color\": \"#4D5663\"}, \"text\": \"\"}, \"zerolinecolor\": \"#E1E5ED\"}, \"xaxis5\": {\"anchor\": \"y5\", \"domain\": [0.0, 0.2125], \"gridcolor\": \"#E1E5ED\", \"showgrid\": false, \"tickfont\": {\"color\": \"#4D5663\"}, \"title\": {\"font\": {\"color\": \"#4D5663\"}, \"text\": \"\"}, \"zerolinecolor\": \"#E1E5ED\"}, \"xaxis6\": {\"anchor\": \"y6\", \"domain\": [0.2625, 0.475], \"gridcolor\": \"#E1E5ED\", \"showgrid\": false, \"tickfont\": {\"color\": \"#4D5663\"}, \"title\": {\"font\": {\"color\": \"#4D5663\"}, \"text\": \"\"}, \"zerolinecolor\": \"#E1E5ED\"}, \"xaxis7\": {\"anchor\": \"y7\", \"domain\": [0.525, 0.7375], \"gridcolor\": \"#E1E5ED\", \"showgrid\": false, \"tickfont\": {\"color\": \"#4D5663\"}, \"title\": {\"font\": {\"color\": \"#4D5663\"}, \"text\": \"\"}, \"zerolinecolor\": \"#E1E5ED\"}, \"xaxis8\": {\"anchor\": \"y8\", \"domain\": [0.7875, 1.0], \"gridcolor\": \"#E1E5ED\", \"showgrid\": false, \"tickfont\": {\"color\": \"#4D5663\"}, \"title\": {\"font\": {\"color\": \"#4D5663\"}, \"text\": \"\"}, \"zerolinecolor\": \"#E1E5ED\"}, \"xaxis9\": {\"anchor\": \"y9\", \"domain\": [0.0, 0.2125], \"gridcolor\": \"#E1E5ED\", \"showgrid\": false, \"tickfont\": {\"color\": \"#4D5663\"}, \"title\": {\"font\": {\"color\": \"#4D5663\"}, \"text\": \"\"}, \"zerolinecolor\": \"#E1E5ED\"}, \"yaxis\": {\"anchor\": \"x\", \"domain\": [0.8025, 1.0], \"gridcolor\": \"#E1E5ED\", \"showgrid\": false, \"tickfont\": {\"color\": \"#4D5663\"}, \"title\": {\"font\": {\"color\": \"#4D5663\"}, \"text\": \"\"}, \"zerolinecolor\": \"#E1E5ED\"}, \"yaxis10\": {\"anchor\": \"x10\", \"domain\": [0.2675, 0.465], \"gridcolor\": \"#E1E5ED\", \"showgrid\": false, \"tickfont\": {\"color\": \"#4D5663\"}, \"title\": {\"font\": {\"color\": \"#4D5663\"}, \"text\": \"\"}, \"zerolinecolor\": \"#E1E5ED\"}, \"yaxis11\": {\"anchor\": \"x11\", \"domain\": [0.2675, 0.465], \"gridcolor\": \"#E1E5ED\", \"showgrid\": false, \"tickfont\": {\"color\": \"#4D5663\"}, \"title\": {\"font\": {\"color\": \"#4D5663\"}, \"text\": \"\"}, \"zerolinecolor\": \"#E1E5ED\"}, \"yaxis12\": {\"anchor\": \"x12\", \"domain\": [0.2675, 0.465], \"gridcolor\": \"#E1E5ED\", \"showgrid\": false, \"tickfont\": {\"color\": \"#4D5663\"}, \"title\": {\"font\": {\"color\": \"#4D5663\"}, \"text\": \"\"}, \"zerolinecolor\": \"#E1E5ED\"}, \"yaxis13\": {\"anchor\": \"x13\", \"domain\": [0.0, 0.1975], \"gridcolor\": \"#E1E5ED\", \"showgrid\": false, \"tickfont\": {\"color\": \"#4D5663\"}, \"title\": {\"font\": {\"color\": \"#4D5663\"}, \"text\": \"\"}, \"zerolinecolor\": \"#E1E5ED\"}, \"yaxis14\": {\"anchor\": \"x14\", \"domain\": [0.0, 0.1975], \"gridcolor\": \"#E1E5ED\", \"showgrid\": false, \"tickfont\": {\"color\": \"#4D5663\"}, \"title\": {\"font\": {\"color\": \"#4D5663\"}, \"text\": \"\"}, \"zerolinecolor\": \"#E1E5ED\"}, \"yaxis15\": {\"anchor\": \"x15\", \"domain\": [0.0, 0.1975], \"gridcolor\": \"#E1E5ED\", \"showgrid\": false, \"tickfont\": {\"color\": \"#4D5663\"}, \"title\": {\"font\": {\"color\": \"#4D5663\"}, \"text\": \"\"}, \"zerolinecolor\": \"#E1E5ED\"}, \"yaxis16\": {\"anchor\": \"x16\", \"domain\": [0.0, 0.1975], \"gridcolor\": \"#E1E5ED\", \"showgrid\": false, \"tickfont\": {\"color\": \"#4D5663\"}, \"title\": {\"font\": {\"color\": \"#4D5663\"}, \"text\": \"\"}, \"zerolinecolor\": \"#E1E5ED\"}, \"yaxis2\": {\"anchor\": \"x2\", \"domain\": [0.8025, 1.0], \"gridcolor\": \"#E1E5ED\", \"showgrid\": false, \"tickfont\": {\"color\": \"#4D5663\"}, \"title\": {\"font\": {\"color\": \"#4D5663\"}, \"text\": \"\"}, \"zerolinecolor\": \"#E1E5ED\"}, \"yaxis3\": {\"anchor\": \"x3\", \"domain\": [0.8025, 1.0], \"gridcolor\": \"#E1E5ED\", \"showgrid\": false, \"tickfont\": {\"color\": \"#4D5663\"}, \"title\": {\"font\": {\"color\": \"#4D5663\"}, \"text\": \"\"}, \"zerolinecolor\": \"#E1E5ED\"}, \"yaxis4\": {\"anchor\": \"x4\", \"domain\": [0.8025, 1.0], \"gridcolor\": \"#E1E5ED\", \"showgrid\": false, \"tickfont\": {\"color\": \"#4D5663\"}, \"title\": {\"font\": {\"color\": \"#4D5663\"}, \"text\": \"\"}, \"zerolinecolor\": \"#E1E5ED\"}, \"yaxis5\": {\"anchor\": \"x5\", \"domain\": [0.535, 0.7325], \"gridcolor\": \"#E1E5ED\", \"showgrid\": false, \"tickfont\": {\"color\": \"#4D5663\"}, \"title\": {\"font\": {\"color\": \"#4D5663\"}, \"text\": \"\"}, \"zerolinecolor\": \"#E1E5ED\"}, \"yaxis6\": {\"anchor\": \"x6\", \"domain\": [0.535, 0.7325], \"gridcolor\": \"#E1E5ED\", \"showgrid\": false, \"tickfont\": {\"color\": \"#4D5663\"}, \"title\": {\"font\": {\"color\": \"#4D5663\"}, \"text\": \"\"}, \"zerolinecolor\": \"#E1E5ED\"}, \"yaxis7\": {\"anchor\": \"x7\", \"domain\": [0.535, 0.7325], \"gridcolor\": \"#E1E5ED\", \"showgrid\": false, \"tickfont\": {\"color\": \"#4D5663\"}, \"title\": {\"font\": {\"color\": \"#4D5663\"}, \"text\": \"\"}, \"zerolinecolor\": \"#E1E5ED\"}, \"yaxis8\": {\"anchor\": \"x8\", \"domain\": [0.535, 0.7325], \"gridcolor\": \"#E1E5ED\", \"showgrid\": false, \"tickfont\": {\"color\": \"#4D5663\"}, \"title\": {\"font\": {\"color\": \"#4D5663\"}, \"text\": \"\"}, \"zerolinecolor\": \"#E1E5ED\"}, \"yaxis9\": {\"anchor\": \"x9\", \"domain\": [0.2675, 0.465], \"gridcolor\": \"#E1E5ED\", \"showgrid\": false, \"tickfont\": {\"color\": \"#4D5663\"}, \"title\": {\"font\": {\"color\": \"#4D5663\"}, \"text\": \"\"}, \"zerolinecolor\": \"#E1E5ED\"}},\n",
              "                        {\"showLink\": true, \"linkText\": \"Export to plot.ly\", \"plotlyServerURL\": \"https://plot.ly\", \"responsive\": true}\n",
              "                    ).then(function(){\n",
              "                            \n",
              "var gd = document.getElementById('6d1e867e-a30d-40b0-9402-a7209264a828');\n",
              "var x = new MutationObserver(function (mutations, observer) {{\n",
              "        var display = window.getComputedStyle(gd).display;\n",
              "        if (!display || display === 'none') {{\n",
              "            console.log([gd, 'removed!']);\n",
              "            Plotly.purge(gd);\n",
              "            observer.disconnect();\n",
              "        }}\n",
              "}});\n",
              "\n",
              "// Listen for the removal of the full notebook cells\n",
              "var notebookContainer = gd.closest('#notebook-container');\n",
              "if (notebookContainer) {{\n",
              "    x.observe(notebookContainer, {childList: true});\n",
              "}}\n",
              "\n",
              "// Listen for the clearing of the current output cell\n",
              "var outputEl = gd.closest('.output');\n",
              "if (outputEl) {{\n",
              "    x.observe(outputEl, {childList: true});\n",
              "}}\n",
              "\n",
              "                        })\n",
              "                };\n",
              "                });\n",
              "            </script>\n",
              "        </div>"
            ],
            "application/vnd.plotly.v1+json": {
              "data": [
                {
                  "opacity": 0.8,
                  "name": "A",
                  "yaxis": "y",
                  "histnorm": "",
                  "xaxis": "x",
                  "nbinsx": 10,
                  "histfunc": "count",
                  "marker": {
                    "color": "rgba(255, 153, 51, 1.0)",
                    "line": {
                      "color": "#4D5663",
                      "width": 1.3
                    }
                  },
                  "x": [
                    0.38776790492739865,
                    0.03849236956660459,
                    1.2433137936961798,
                    0.5842972264102014,
                    -1.1208961479414192,
                    1.730216441653974,
                    0.06108034749886219,
                    0.9262701599086871,
                    -0.87571943613146,
                    0.7960283927316331,
                    0.8013388093558175,
                    -0.7713827146130571,
                    -0.3860596312437266,
                    0.1422534281059505,
                    1.5343821976708791,
                    -0.522288610381301,
                    1.2765181110454487,
                    -1.9087210266761787,
                    -0.5455631881633575,
                    -0.9673041467546614,
                    0.18365245410260891,
                    0.8319727481794416,
                    -0.6924274444035763,
                    0.130212270746392,
                    -0.5741925777331125,
                    -1.3462551608381779,
                    -0.41262032018311534,
                    1.103101235762768,
                    1.0446220690518804,
                    0.9472184572850981,
                    0.01144284758409768,
                    0.3924697684460991,
                    -0.7436814456680585,
                    0.5606640324163912,
                    0.6965257672104554,
                    -0.7934068443983743,
                    0.582381173671548,
                    -2.282351450427875,
                    0.7124587395952304,
                    -0.6882658875377795,
                    1.6993566416898747,
                    2.8568699326050275,
                    0.006332552164447542,
                    0.4435057221418252,
                    0.09896661061309904,
                    0.8037600980180298,
                    1.5334032703702691,
                    -0.4990486031175881,
                    0.21649575207817678,
                    -0.4096457505587984,
                    0.8016799189563294,
                    -0.6905393608982633,
                    2.0872629967650296,
                    1.474533174467541,
                    -0.9195699744527402,
                    0.2725139639009779,
                    0.7685364302756515,
                    -0.6371309176903281,
                    -0.397097728226869,
                    1.9487774142868644,
                    -2.877517406687037,
                    -1.1877654785957479,
                    0.9114452597351144,
                    0.7244960384363618,
                    0.3218065598901516,
                    0.6135611614993941,
                    0.2577221961420037,
                    -1.0607592928299288,
                    0.2975795540412989,
                    0.4551520791689616,
                    -0.5795233153683617,
                    0.5763212135443879,
                    -1.6662421515568697,
                    1.0389099618890498,
                    0.1410565241910319,
                    1.1284833361430653,
                    2.349189230892838,
                    -1.4199144089065157,
                    -1.1340525523746237,
                    0.6552467536857508,
                    1.5617541726720494,
                    -1.0089435007798202,
                    -1.1259228236191567,
                    -1.2386389182482231,
                    1.6364774453566855,
                    0.36666797091738595,
                    -0.3432628429736642,
                    -1.043490274577387,
                    0.8818679747375759,
                    0.1751112634092605,
                    0.1247652284295829,
                    0.5518682798715221,
                    0.0579060702482222,
                    0.286418801590196,
                    -1.4700359970155337,
                    -0.5355646681907782,
                    1.414380652513354,
                    -1.1727913308648066,
                    -0.3937665053241717,
                    0.1938955533958501
                  ],
                  "type": "histogram",
                  "orientation": "v"
                },
                {
                  "name": "A",
                  "yaxis": "y2",
                  "text": "",
                  "y": [
                    0.38776790492739865,
                    0.03849236956660459,
                    1.2433137936961798,
                    0.5842972264102014,
                    -1.1208961479414192,
                    1.730216441653974,
                    0.06108034749886219,
                    0.9262701599086871,
                    -0.87571943613146,
                    0.7960283927316331,
                    0.8013388093558175,
                    -0.7713827146130571,
                    -0.3860596312437266,
                    0.1422534281059505,
                    1.5343821976708791,
                    -0.522288610381301,
                    1.2765181110454487,
                    -1.9087210266761787,
                    -0.5455631881633575,
                    -0.9673041467546614,
                    0.18365245410260891,
                    0.8319727481794416,
                    -0.6924274444035763,
                    0.130212270746392,
                    -0.5741925777331125,
                    -1.3462551608381779,
                    -0.41262032018311534,
                    1.103101235762768,
                    1.0446220690518804,
                    0.9472184572850981,
                    0.01144284758409768,
                    0.3924697684460991,
                    -0.7436814456680585,
                    0.5606640324163912,
                    0.6965257672104554,
                    -0.7934068443983743,
                    0.582381173671548,
                    -2.282351450427875,
                    0.7124587395952304,
                    -0.6882658875377795,
                    1.6993566416898747,
                    2.8568699326050275,
                    0.006332552164447542,
                    0.4435057221418252,
                    0.09896661061309904,
                    0.8037600980180298,
                    1.5334032703702691,
                    -0.4990486031175881,
                    0.21649575207817678,
                    -0.4096457505587984,
                    0.8016799189563294,
                    -0.6905393608982633,
                    2.0872629967650296,
                    1.474533174467541,
                    -0.9195699744527402,
                    0.2725139639009779,
                    0.7685364302756515,
                    -0.6371309176903281,
                    -0.397097728226869,
                    1.9487774142868644,
                    -2.877517406687037,
                    -1.1877654785957479,
                    0.9114452597351144,
                    0.7244960384363618,
                    0.3218065598901516,
                    0.6135611614993941,
                    0.2577221961420037,
                    -1.0607592928299288,
                    0.2975795540412989,
                    0.4551520791689616,
                    -0.5795233153683617,
                    0.5763212135443879,
                    -1.6662421515568697,
                    1.0389099618890498,
                    0.1410565241910319,
                    1.1284833361430653,
                    2.349189230892838,
                    -1.4199144089065157,
                    -1.1340525523746237,
                    0.6552467536857508,
                    1.5617541726720494,
                    -1.0089435007798202,
                    -1.1259228236191567,
                    -1.2386389182482231,
                    1.6364774453566855,
                    0.36666797091738595,
                    -0.3432628429736642,
                    -1.043490274577387,
                    0.8818679747375759,
                    0.1751112634092605,
                    0.1247652284295829,
                    0.5518682798715221,
                    0.0579060702482222,
                    0.286418801590196,
                    -1.4700359970155337,
                    -0.5355646681907782,
                    1.414380652513354,
                    -1.1727913308648066,
                    -0.3937665053241717,
                    0.1938955533958501
                  ],
                  "mode": "markers",
                  "xaxis": "x2",
                  "marker": {
                    "symbol": "circle",
                    "size": 2
                  },
                  "x": [
                    0.319389861291986,
                    -0.30074966743608506,
                    -0.8312005470150119,
                    -2.4054656013055444,
                    1.95218493548916,
                    -1.3949547196167487,
                    1.2610777494042638,
                    -0.25106428346371634,
                    0.7833405935894365,
                    0.34177773626719854,
                    1.847886725993193,
                    -0.14969996369267832,
                    0.08691354446385557,
                    1.1409817365990378,
                    0.3593414585006607,
                    -0.6534610730262642,
                    0.04553691446835388,
                    -0.6026955641298878,
                    1.5577759039506558,
                    -1.4045087455705607,
                    -0.9378539145505463,
                    0.043002648037828495,
                    -2.102274024308178,
                    0.8801400704781029,
                    -0.5281783119970317,
                    1.343986387262092,
                    -1.0803664242729223,
                    -0.5014747769984824,
                    0.5970767917134021,
                    0.5007062749147215,
                    0.2564679561157993,
                    0.22936027050727836,
                    -1.124733552945505,
                    1.346138803322607,
                    -1.076597213636889,
                    -0.14375695629240315,
                    1.3337935777840249,
                    0.7804027116427791,
                    -0.785762950919096,
                    0.4102750089109371,
                    -0.1318258634420717,
                    0.8532631740447265,
                    -1.0008567066921035,
                    0.3105586227309746,
                    0.7355287345659339,
                    2.1022790876438813,
                    -0.6251400952943048,
                    -0.23429800909253748,
                    -0.061505586329181,
                    -0.6349766598812604,
                    0.525719391772557,
                    1.345241629785457,
                    -0.6011991190519752,
                    1.44640310913396,
                    -0.0872486292630008,
                    0.10560666020020956,
                    0.941703428827021,
                    0.814753456507976,
                    -0.584076289529489,
                    -0.962996905418369,
                    0.7994852115303925,
                    0.762184625040766,
                    -0.21785632433335,
                    0.9864316077429109,
                    0.755867048719471,
                    -1.1129961928211929,
                    0.19433562473336324,
                    1.5619787553664641,
                    -0.5202158167923906,
                    -0.02911156974216635,
                    -1.6734099454901552,
                    -2.2796496602757554,
                    -1.5492433667544536,
                    -0.8651720204735538,
                    -1.8230976407359787,
                    -0.006096200544762621,
                    -1.584109186224074,
                    -0.33035517887516197,
                    -0.7059363123188731,
                    1.695198015552919,
                    -0.9811233584929907,
                    0.47042387423562504,
                    -0.5249460929521849,
                    -0.31125324698240014,
                    -0.7994641306782769,
                    -0.6174704292261655,
                    0.05596717699545592,
                    0.49209772986311834,
                    0.19878044412033335,
                    -0.13557781245738254,
                    -0.3868164211531793,
                    1.070491610505177,
                    0.8275071529281245,
                    -0.6656345370734653,
                    -0.13503140193318744,
                    -0.8667935467318065,
                    0.6865335102478416,
                    -0.3186666336242621,
                    1.3881557946444958,
                    1.7933718693964338
                  ],
                  "line": {
                    "color": "rgba(128, 128, 128, 1.0)",
                    "dash": "solid",
                    "shape": "linear",
                    "width": 1.3
                  },
                  "type": "scatter"
                },
                {
                  "name": "A",
                  "yaxis": "y3",
                  "text": "",
                  "y": [
                    0.38776790492739865,
                    0.03849236956660459,
                    1.2433137936961798,
                    0.5842972264102014,
                    -1.1208961479414192,
                    1.730216441653974,
                    0.06108034749886219,
                    0.9262701599086871,
                    -0.87571943613146,
                    0.7960283927316331,
                    0.8013388093558175,
                    -0.7713827146130571,
                    -0.3860596312437266,
                    0.1422534281059505,
                    1.5343821976708791,
                    -0.522288610381301,
                    1.2765181110454487,
                    -1.9087210266761787,
                    -0.5455631881633575,
                    -0.9673041467546614,
                    0.18365245410260891,
                    0.8319727481794416,
                    -0.6924274444035763,
                    0.130212270746392,
                    -0.5741925777331125,
                    -1.3462551608381779,
                    -0.41262032018311534,
                    1.103101235762768,
                    1.0446220690518804,
                    0.9472184572850981,
                    0.01144284758409768,
                    0.3924697684460991,
                    -0.7436814456680585,
                    0.5606640324163912,
                    0.6965257672104554,
                    -0.7934068443983743,
                    0.582381173671548,
                    -2.282351450427875,
                    0.7124587395952304,
                    -0.6882658875377795,
                    1.6993566416898747,
                    2.8568699326050275,
                    0.006332552164447542,
                    0.4435057221418252,
                    0.09896661061309904,
                    0.8037600980180298,
                    1.5334032703702691,
                    -0.4990486031175881,
                    0.21649575207817678,
                    -0.4096457505587984,
                    0.8016799189563294,
                    -0.6905393608982633,
                    2.0872629967650296,
                    1.474533174467541,
                    -0.9195699744527402,
                    0.2725139639009779,
                    0.7685364302756515,
                    -0.6371309176903281,
                    -0.397097728226869,
                    1.9487774142868644,
                    -2.877517406687037,
                    -1.1877654785957479,
                    0.9114452597351144,
                    0.7244960384363618,
                    0.3218065598901516,
                    0.6135611614993941,
                    0.2577221961420037,
                    -1.0607592928299288,
                    0.2975795540412989,
                    0.4551520791689616,
                    -0.5795233153683617,
                    0.5763212135443879,
                    -1.6662421515568697,
                    1.0389099618890498,
                    0.1410565241910319,
                    1.1284833361430653,
                    2.349189230892838,
                    -1.4199144089065157,
                    -1.1340525523746237,
                    0.6552467536857508,
                    1.5617541726720494,
                    -1.0089435007798202,
                    -1.1259228236191567,
                    -1.2386389182482231,
                    1.6364774453566855,
                    0.36666797091738595,
                    -0.3432628429736642,
                    -1.043490274577387,
                    0.8818679747375759,
                    0.1751112634092605,
                    0.1247652284295829,
                    0.5518682798715221,
                    0.0579060702482222,
                    0.286418801590196,
                    -1.4700359970155337,
                    -0.5355646681907782,
                    1.414380652513354,
                    -1.1727913308648066,
                    -0.3937665053241717,
                    0.1938955533958501
                  ],
                  "mode": "markers",
                  "xaxis": "x3",
                  "marker": {
                    "symbol": "circle",
                    "size": 2
                  },
                  "x": [
                    0.5230770887437088,
                    0.0825736363577513,
                    0.4588105780564298,
                    0.7811446115543202,
                    0.9184053209026012,
                    0.17224751730776722,
                    -1.6475328091120887,
                    0.49181252346677573,
                    -0.6061053597414845,
                    -1.3933264560772263,
                    0.14344544722416813,
                    -0.3905457463541869,
                    -0.0773635833941089,
                    0.30492141697044683,
                    -0.5614591261561296,
                    -1.419401744846503,
                    0.955611795727318,
                    1.4027692968418186,
                    -0.7343269788433588,
                    -1.4756553433046526,
                    0.9145937087280909,
                    -1.092472721615005,
                    1.0980836262747558,
                    1.3145679977529234,
                    1.0797524283747404,
                    0.6308254102247195,
                    0.8874408902673286,
                    -0.10052268438227928,
                    -0.08983224735313855,
                    -1.1997913058653475,
                    0.3719136301886943,
                    0.13950074964563766,
                    0.4690366263838989,
                    0.24025572005802265,
                    0.06327153831170397,
                    0.0639869752403078,
                    0.15963465055031542,
                    0.03490813204410398,
                    2.1207604049072937,
                    -0.7279657171995265,
                    -1.6480911373184448,
                    -0.8335349198044641,
                    0.5610906956098553,
                    0.14392868337626316,
                    -0.19687329134978385,
                    -1.0234717992551527,
                    0.819724112176948,
                    -0.8301152243196428,
                    -0.1264779994266815,
                    1.3793715769590547,
                    -1.077213610535644,
                    1.236175587525392,
                    -1.2068837402220438,
                    0.1047847272107351,
                    0.43999253945098565,
                    -1.2996460994705084,
                    1.591831487693768,
                    -1.9492187199295534,
                    -0.7510258435595026,
                    -0.6567026208051004,
                    -1.3466966732276888,
                    -0.3374809049581502,
                    0.777278721181163,
                    1.854357184527882,
                    -0.24629145763903534,
                    1.421869231047535,
                    -0.665350750395719,
                    0.6926413754651823,
                    1.0225975184913045,
                    0.5858058447185054,
                    0.7941562095858778,
                    -0.2726738671756177,
                    1.5677726178379325,
                    -0.9163470370977671,
                    -0.23451784063716838,
                    -1.1415058257926867,
                    2.726517426644188,
                    2.1476170495198854,
                    -1.339199915432269,
                    0.24370042092824235,
                    -0.27375411290307944,
                    0.6936728038249259,
                    -0.8487836211839579,
                    -0.6855344456405397,
                    -0.8835185469904709,
                    1.1253489445959861,
                    0.36542321839835423,
                    1.8097751105146338,
                    0.1120729571353281,
                    2.4701834366147515,
                    0.19301992411344596,
                    0.6169670940979624,
                    -0.47530160148535827,
                    -0.8927114625102514,
                    0.31580366423737116,
                    1.1135648732618062,
                    0.9598744893458587,
                    0.4415302762016992,
                    -0.08108815387739585,
                    -0.7984814511402667
                  ],
                  "line": {
                    "color": "rgba(128, 128, 128, 1.0)",
                    "dash": "solid",
                    "shape": "linear",
                    "width": 1.3
                  },
                  "type": "scatter"
                },
                {
                  "name": "A",
                  "yaxis": "y4",
                  "text": "",
                  "y": [
                    0.38776790492739865,
                    0.03849236956660459,
                    1.2433137936961798,
                    0.5842972264102014,
                    -1.1208961479414192,
                    1.730216441653974,
                    0.06108034749886219,
                    0.9262701599086871,
                    -0.87571943613146,
                    0.7960283927316331,
                    0.8013388093558175,
                    -0.7713827146130571,
                    -0.3860596312437266,
                    0.1422534281059505,
                    1.5343821976708791,
                    -0.522288610381301,
                    1.2765181110454487,
                    -1.9087210266761787,
                    -0.5455631881633575,
                    -0.9673041467546614,
                    0.18365245410260891,
                    0.8319727481794416,
                    -0.6924274444035763,
                    0.130212270746392,
                    -0.5741925777331125,
                    -1.3462551608381779,
                    -0.41262032018311534,
                    1.103101235762768,
                    1.0446220690518804,
                    0.9472184572850981,
                    0.01144284758409768,
                    0.3924697684460991,
                    -0.7436814456680585,
                    0.5606640324163912,
                    0.6965257672104554,
                    -0.7934068443983743,
                    0.582381173671548,
                    -2.282351450427875,
                    0.7124587395952304,
                    -0.6882658875377795,
                    1.6993566416898747,
                    2.8568699326050275,
                    0.006332552164447542,
                    0.4435057221418252,
                    0.09896661061309904,
                    0.8037600980180298,
                    1.5334032703702691,
                    -0.4990486031175881,
                    0.21649575207817678,
                    -0.4096457505587984,
                    0.8016799189563294,
                    -0.6905393608982633,
                    2.0872629967650296,
                    1.474533174467541,
                    -0.9195699744527402,
                    0.2725139639009779,
                    0.7685364302756515,
                    -0.6371309176903281,
                    -0.397097728226869,
                    1.9487774142868644,
                    -2.877517406687037,
                    -1.1877654785957479,
                    0.9114452597351144,
                    0.7244960384363618,
                    0.3218065598901516,
                    0.6135611614993941,
                    0.2577221961420037,
                    -1.0607592928299288,
                    0.2975795540412989,
                    0.4551520791689616,
                    -0.5795233153683617,
                    0.5763212135443879,
                    -1.6662421515568697,
                    1.0389099618890498,
                    0.1410565241910319,
                    1.1284833361430653,
                    2.349189230892838,
                    -1.4199144089065157,
                    -1.1340525523746237,
                    0.6552467536857508,
                    1.5617541726720494,
                    -1.0089435007798202,
                    -1.1259228236191567,
                    -1.2386389182482231,
                    1.6364774453566855,
                    0.36666797091738595,
                    -0.3432628429736642,
                    -1.043490274577387,
                    0.8818679747375759,
                    0.1751112634092605,
                    0.1247652284295829,
                    0.5518682798715221,
                    0.0579060702482222,
                    0.286418801590196,
                    -1.4700359970155337,
                    -0.5355646681907782,
                    1.414380652513354,
                    -1.1727913308648066,
                    -0.3937665053241717,
                    0.1938955533958501
                  ],
                  "mode": "markers",
                  "xaxis": "x4",
                  "marker": {
                    "symbol": "circle",
                    "size": 2
                  },
                  "x": [
                    0.4752509042408672,
                    0.5923357389976552,
                    1.8065592979771634,
                    1.0347190604125864,
                    -0.34582992128279116,
                    0.1515887735645558,
                    0.16714281930383112,
                    -0.46568627027629994,
                    1.5909034652327887,
                    0.40496363815507563,
                    1.2757958836450585,
                    -0.4992335573208999,
                    -1.1816901191345761,
                    -0.9820038833106384,
                    -1.9345418317893035,
                    0.7837282866949103,
                    -0.07100529626029047,
                    -1.6067357928843564,
                    0.28312150123480945,
                    1.6157703025031254,
                    -0.484977988619448,
                    0.2392754077959054,
                    0.7910056835873752,
                    -1.5536392737160203,
                    -0.5331901812187568,
                    -0.7901955651030481,
                    0.6578744020187579,
                    -0.2302284137895361,
                    -1.6241670231279821,
                    0.12417627553418101,
                    0.8726833454401819,
                    -1.7200168388664068,
                    0.3728353383757879,
                    -0.5888716944335837,
                    0.16700968524310988,
                    0.3152236939729629,
                    0.6600671742402289,
                    -0.23159595946803066,
                    -0.374948948157611,
                    -0.6426055238815437,
                    -0.8758344221619488,
                    0.31011355491272985,
                    -0.38136450331807414,
                    -1.72064630294261,
                    2.3927735134855572,
                    -0.02306755609596276,
                    -0.658095816712436,
                    -0.7102542984499866,
                    0.3444612155969016,
                    -1.4859692950577321,
                    -0.8235273774770004,
                    -1.0759052928914057,
                    0.7865776439965904,
                    -0.865830264721386,
                    -0.42203911311573006,
                    -0.7984772856974879,
                    -1.3915201358593854,
                    -0.5855284794553162,
                    -0.02197011967084297,
                    0.8693706123410209,
                    0.989996744831296,
                    0.3962765133442256,
                    -0.8225052722339669,
                    -0.9752154080510914,
                    0.6082080967773585,
                    0.27312593534686747,
                    -0.5911956742881689,
                    0.5417838377513962,
                    1.8921345486217096,
                    0.42640908908842035,
                    0.10577626309087514,
                    0.4962037534173657,
                    -1.2110753581455402,
                    0.9880462968869487,
                    0.7890408686323082,
                    1.2697947008864725,
                    0.5650787760312971,
                    -0.8871516539780503,
                    0.0826382920303798,
                    -0.3465183651319844,
                    0.36453051315007917,
                    -0.48318900415908855,
                    1.4882785868246171,
                    -0.8788596842572135,
                    -0.6077343100103489,
                    -0.06122119231248921,
                    1.4467997449887289,
                    1.9680021503339724,
                    0.2212801457632743,
                    1.4068423254704043,
                    -0.07487568018994134,
                    2.4107329653075498,
                    0.7580632574862473,
                    -0.3551657240059524,
                    0.1979891520555157,
                    -0.355751232720357,
                    -0.06743330749589409,
                    -0.32611999195126024,
                    -0.06435277033186215,
                    1.115378302375508
                  ],
                  "line": {
                    "color": "rgba(128, 128, 128, 1.0)",
                    "dash": "solid",
                    "shape": "linear",
                    "width": 1.3
                  },
                  "type": "scatter"
                },
                {
                  "name": "B",
                  "yaxis": "y5",
                  "text": "",
                  "y": [
                    0.319389861291986,
                    -0.30074966743608506,
                    -0.8312005470150119,
                    -2.4054656013055444,
                    1.95218493548916,
                    -1.3949547196167487,
                    1.2610777494042638,
                    -0.25106428346371634,
                    0.7833405935894365,
                    0.34177773626719854,
                    1.847886725993193,
                    -0.14969996369267832,
                    0.08691354446385557,
                    1.1409817365990378,
                    0.3593414585006607,
                    -0.6534610730262642,
                    0.04553691446835388,
                    -0.6026955641298878,
                    1.5577759039506558,
                    -1.4045087455705607,
                    -0.9378539145505463,
                    0.043002648037828495,
                    -2.102274024308178,
                    0.8801400704781029,
                    -0.5281783119970317,
                    1.343986387262092,
                    -1.0803664242729223,
                    -0.5014747769984824,
                    0.5970767917134021,
                    0.5007062749147215,
                    0.2564679561157993,
                    0.22936027050727836,
                    -1.124733552945505,
                    1.346138803322607,
                    -1.076597213636889,
                    -0.14375695629240315,
                    1.3337935777840249,
                    0.7804027116427791,
                    -0.785762950919096,
                    0.4102750089109371,
                    -0.1318258634420717,
                    0.8532631740447265,
                    -1.0008567066921035,
                    0.3105586227309746,
                    0.7355287345659339,
                    2.1022790876438813,
                    -0.6251400952943048,
                    -0.23429800909253748,
                    -0.061505586329181,
                    -0.6349766598812604,
                    0.525719391772557,
                    1.345241629785457,
                    -0.6011991190519752,
                    1.44640310913396,
                    -0.0872486292630008,
                    0.10560666020020956,
                    0.941703428827021,
                    0.814753456507976,
                    -0.584076289529489,
                    -0.962996905418369,
                    0.7994852115303925,
                    0.762184625040766,
                    -0.21785632433335,
                    0.9864316077429109,
                    0.755867048719471,
                    -1.1129961928211929,
                    0.19433562473336324,
                    1.5619787553664641,
                    -0.5202158167923906,
                    -0.02911156974216635,
                    -1.6734099454901552,
                    -2.2796496602757554,
                    -1.5492433667544536,
                    -0.8651720204735538,
                    -1.8230976407359787,
                    -0.006096200544762621,
                    -1.584109186224074,
                    -0.33035517887516197,
                    -0.7059363123188731,
                    1.695198015552919,
                    -0.9811233584929907,
                    0.47042387423562504,
                    -0.5249460929521849,
                    -0.31125324698240014,
                    -0.7994641306782769,
                    -0.6174704292261655,
                    0.05596717699545592,
                    0.49209772986311834,
                    0.19878044412033335,
                    -0.13557781245738254,
                    -0.3868164211531793,
                    1.070491610505177,
                    0.8275071529281245,
                    -0.6656345370734653,
                    -0.13503140193318744,
                    -0.8667935467318065,
                    0.6865335102478416,
                    -0.3186666336242621,
                    1.3881557946444958,
                    1.7933718693964338
                  ],
                  "mode": "markers",
                  "xaxis": "x5",
                  "marker": {
                    "symbol": "circle",
                    "size": 2
                  },
                  "x": [
                    0.38776790492739865,
                    0.03849236956660459,
                    1.2433137936961798,
                    0.5842972264102014,
                    -1.1208961479414192,
                    1.730216441653974,
                    0.06108034749886219,
                    0.9262701599086871,
                    -0.87571943613146,
                    0.7960283927316331,
                    0.8013388093558175,
                    -0.7713827146130571,
                    -0.3860596312437266,
                    0.1422534281059505,
                    1.5343821976708791,
                    -0.522288610381301,
                    1.2765181110454487,
                    -1.9087210266761787,
                    -0.5455631881633575,
                    -0.9673041467546614,
                    0.18365245410260891,
                    0.8319727481794416,
                    -0.6924274444035763,
                    0.130212270746392,
                    -0.5741925777331125,
                    -1.3462551608381779,
                    -0.41262032018311534,
                    1.103101235762768,
                    1.0446220690518804,
                    0.9472184572850981,
                    0.01144284758409768,
                    0.3924697684460991,
                    -0.7436814456680585,
                    0.5606640324163912,
                    0.6965257672104554,
                    -0.7934068443983743,
                    0.582381173671548,
                    -2.282351450427875,
                    0.7124587395952304,
                    -0.6882658875377795,
                    1.6993566416898747,
                    2.8568699326050275,
                    0.006332552164447542,
                    0.4435057221418252,
                    0.09896661061309904,
                    0.8037600980180298,
                    1.5334032703702691,
                    -0.4990486031175881,
                    0.21649575207817678,
                    -0.4096457505587984,
                    0.8016799189563294,
                    -0.6905393608982633,
                    2.0872629967650296,
                    1.474533174467541,
                    -0.9195699744527402,
                    0.2725139639009779,
                    0.7685364302756515,
                    -0.6371309176903281,
                    -0.397097728226869,
                    1.9487774142868644,
                    -2.877517406687037,
                    -1.1877654785957479,
                    0.9114452597351144,
                    0.7244960384363618,
                    0.3218065598901516,
                    0.6135611614993941,
                    0.2577221961420037,
                    -1.0607592928299288,
                    0.2975795540412989,
                    0.4551520791689616,
                    -0.5795233153683617,
                    0.5763212135443879,
                    -1.6662421515568697,
                    1.0389099618890498,
                    0.1410565241910319,
                    1.1284833361430653,
                    2.349189230892838,
                    -1.4199144089065157,
                    -1.1340525523746237,
                    0.6552467536857508,
                    1.5617541726720494,
                    -1.0089435007798202,
                    -1.1259228236191567,
                    -1.2386389182482231,
                    1.6364774453566855,
                    0.36666797091738595,
                    -0.3432628429736642,
                    -1.043490274577387,
                    0.8818679747375759,
                    0.1751112634092605,
                    0.1247652284295829,
                    0.5518682798715221,
                    0.0579060702482222,
                    0.286418801590196,
                    -1.4700359970155337,
                    -0.5355646681907782,
                    1.414380652513354,
                    -1.1727913308648066,
                    -0.3937665053241717,
                    0.1938955533958501
                  ],
                  "line": {
                    "color": "rgba(128, 128, 128, 1.0)",
                    "dash": "solid",
                    "shape": "linear",
                    "width": 1.3
                  },
                  "type": "scatter"
                },
                {
                  "opacity": 0.8,
                  "name": "B",
                  "yaxis": "y6",
                  "histnorm": "",
                  "xaxis": "x6",
                  "nbinsx": 10,
                  "histfunc": "count",
                  "marker": {
                    "color": "rgba(55, 128, 191, 1.0)",
                    "line": {
                      "color": "#4D5663",
                      "width": 1.3
                    }
                  },
                  "x": [
                    0.319389861291986,
                    -0.30074966743608506,
                    -0.8312005470150119,
                    -2.4054656013055444,
                    1.95218493548916,
                    -1.3949547196167487,
                    1.2610777494042638,
                    -0.25106428346371634,
                    0.7833405935894365,
                    0.34177773626719854,
                    1.847886725993193,
                    -0.14969996369267832,
                    0.08691354446385557,
                    1.1409817365990378,
                    0.3593414585006607,
                    -0.6534610730262642,
                    0.04553691446835388,
                    -0.6026955641298878,
                    1.5577759039506558,
                    -1.4045087455705607,
                    -0.9378539145505463,
                    0.043002648037828495,
                    -2.102274024308178,
                    0.8801400704781029,
                    -0.5281783119970317,
                    1.343986387262092,
                    -1.0803664242729223,
                    -0.5014747769984824,
                    0.5970767917134021,
                    0.5007062749147215,
                    0.2564679561157993,
                    0.22936027050727836,
                    -1.124733552945505,
                    1.346138803322607,
                    -1.076597213636889,
                    -0.14375695629240315,
                    1.3337935777840249,
                    0.7804027116427791,
                    -0.785762950919096,
                    0.4102750089109371,
                    -0.1318258634420717,
                    0.8532631740447265,
                    -1.0008567066921035,
                    0.3105586227309746,
                    0.7355287345659339,
                    2.1022790876438813,
                    -0.6251400952943048,
                    -0.23429800909253748,
                    -0.061505586329181,
                    -0.6349766598812604,
                    0.525719391772557,
                    1.345241629785457,
                    -0.6011991190519752,
                    1.44640310913396,
                    -0.0872486292630008,
                    0.10560666020020956,
                    0.941703428827021,
                    0.814753456507976,
                    -0.584076289529489,
                    -0.962996905418369,
                    0.7994852115303925,
                    0.762184625040766,
                    -0.21785632433335,
                    0.9864316077429109,
                    0.755867048719471,
                    -1.1129961928211929,
                    0.19433562473336324,
                    1.5619787553664641,
                    -0.5202158167923906,
                    -0.02911156974216635,
                    -1.6734099454901552,
                    -2.2796496602757554,
                    -1.5492433667544536,
                    -0.8651720204735538,
                    -1.8230976407359787,
                    -0.006096200544762621,
                    -1.584109186224074,
                    -0.33035517887516197,
                    -0.7059363123188731,
                    1.695198015552919,
                    -0.9811233584929907,
                    0.47042387423562504,
                    -0.5249460929521849,
                    -0.31125324698240014,
                    -0.7994641306782769,
                    -0.6174704292261655,
                    0.05596717699545592,
                    0.49209772986311834,
                    0.19878044412033335,
                    -0.13557781245738254,
                    -0.3868164211531793,
                    1.070491610505177,
                    0.8275071529281245,
                    -0.6656345370734653,
                    -0.13503140193318744,
                    -0.8667935467318065,
                    0.6865335102478416,
                    -0.3186666336242621,
                    1.3881557946444958,
                    1.7933718693964338
                  ],
                  "type": "histogram",
                  "orientation": "v"
                },
                {
                  "name": "B",
                  "yaxis": "y7",
                  "text": "",
                  "y": [
                    0.319389861291986,
                    -0.30074966743608506,
                    -0.8312005470150119,
                    -2.4054656013055444,
                    1.95218493548916,
                    -1.3949547196167487,
                    1.2610777494042638,
                    -0.25106428346371634,
                    0.7833405935894365,
                    0.34177773626719854,
                    1.847886725993193,
                    -0.14969996369267832,
                    0.08691354446385557,
                    1.1409817365990378,
                    0.3593414585006607,
                    -0.6534610730262642,
                    0.04553691446835388,
                    -0.6026955641298878,
                    1.5577759039506558,
                    -1.4045087455705607,
                    -0.9378539145505463,
                    0.043002648037828495,
                    -2.102274024308178,
                    0.8801400704781029,
                    -0.5281783119970317,
                    1.343986387262092,
                    -1.0803664242729223,
                    -0.5014747769984824,
                    0.5970767917134021,
                    0.5007062749147215,
                    0.2564679561157993,
                    0.22936027050727836,
                    -1.124733552945505,
                    1.346138803322607,
                    -1.076597213636889,
                    -0.14375695629240315,
                    1.3337935777840249,
                    0.7804027116427791,
                    -0.785762950919096,
                    0.4102750089109371,
                    -0.1318258634420717,
                    0.8532631740447265,
                    -1.0008567066921035,
                    0.3105586227309746,
                    0.7355287345659339,
                    2.1022790876438813,
                    -0.6251400952943048,
                    -0.23429800909253748,
                    -0.061505586329181,
                    -0.6349766598812604,
                    0.525719391772557,
                    1.345241629785457,
                    -0.6011991190519752,
                    1.44640310913396,
                    -0.0872486292630008,
                    0.10560666020020956,
                    0.941703428827021,
                    0.814753456507976,
                    -0.584076289529489,
                    -0.962996905418369,
                    0.7994852115303925,
                    0.762184625040766,
                    -0.21785632433335,
                    0.9864316077429109,
                    0.755867048719471,
                    -1.1129961928211929,
                    0.19433562473336324,
                    1.5619787553664641,
                    -0.5202158167923906,
                    -0.02911156974216635,
                    -1.6734099454901552,
                    -2.2796496602757554,
                    -1.5492433667544536,
                    -0.8651720204735538,
                    -1.8230976407359787,
                    -0.006096200544762621,
                    -1.584109186224074,
                    -0.33035517887516197,
                    -0.7059363123188731,
                    1.695198015552919,
                    -0.9811233584929907,
                    0.47042387423562504,
                    -0.5249460929521849,
                    -0.31125324698240014,
                    -0.7994641306782769,
                    -0.6174704292261655,
                    0.05596717699545592,
                    0.49209772986311834,
                    0.19878044412033335,
                    -0.13557781245738254,
                    -0.3868164211531793,
                    1.070491610505177,
                    0.8275071529281245,
                    -0.6656345370734653,
                    -0.13503140193318744,
                    -0.8667935467318065,
                    0.6865335102478416,
                    -0.3186666336242621,
                    1.3881557946444958,
                    1.7933718693964338
                  ],
                  "mode": "markers",
                  "xaxis": "x7",
                  "marker": {
                    "symbol": "circle",
                    "size": 2
                  },
                  "x": [
                    0.5230770887437088,
                    0.0825736363577513,
                    0.4588105780564298,
                    0.7811446115543202,
                    0.9184053209026012,
                    0.17224751730776722,
                    -1.6475328091120887,
                    0.49181252346677573,
                    -0.6061053597414845,
                    -1.3933264560772263,
                    0.14344544722416813,
                    -0.3905457463541869,
                    -0.0773635833941089,
                    0.30492141697044683,
                    -0.5614591261561296,
                    -1.419401744846503,
                    0.955611795727318,
                    1.4027692968418186,
                    -0.7343269788433588,
                    -1.4756553433046526,
                    0.9145937087280909,
                    -1.092472721615005,
                    1.0980836262747558,
                    1.3145679977529234,
                    1.0797524283747404,
                    0.6308254102247195,
                    0.8874408902673286,
                    -0.10052268438227928,
                    -0.08983224735313855,
                    -1.1997913058653475,
                    0.3719136301886943,
                    0.13950074964563766,
                    0.4690366263838989,
                    0.24025572005802265,
                    0.06327153831170397,
                    0.0639869752403078,
                    0.15963465055031542,
                    0.03490813204410398,
                    2.1207604049072937,
                    -0.7279657171995265,
                    -1.6480911373184448,
                    -0.8335349198044641,
                    0.5610906956098553,
                    0.14392868337626316,
                    -0.19687329134978385,
                    -1.0234717992551527,
                    0.819724112176948,
                    -0.8301152243196428,
                    -0.1264779994266815,
                    1.3793715769590547,
                    -1.077213610535644,
                    1.236175587525392,
                    -1.2068837402220438,
                    0.1047847272107351,
                    0.43999253945098565,
                    -1.2996460994705084,
                    1.591831487693768,
                    -1.9492187199295534,
                    -0.7510258435595026,
                    -0.6567026208051004,
                    -1.3466966732276888,
                    -0.3374809049581502,
                    0.777278721181163,
                    1.854357184527882,
                    -0.24629145763903534,
                    1.421869231047535,
                    -0.665350750395719,
                    0.6926413754651823,
                    1.0225975184913045,
                    0.5858058447185054,
                    0.7941562095858778,
                    -0.2726738671756177,
                    1.5677726178379325,
                    -0.9163470370977671,
                    -0.23451784063716838,
                    -1.1415058257926867,
                    2.726517426644188,
                    2.1476170495198854,
                    -1.339199915432269,
                    0.24370042092824235,
                    -0.27375411290307944,
                    0.6936728038249259,
                    -0.8487836211839579,
                    -0.6855344456405397,
                    -0.8835185469904709,
                    1.1253489445959861,
                    0.36542321839835423,
                    1.8097751105146338,
                    0.1120729571353281,
                    2.4701834366147515,
                    0.19301992411344596,
                    0.6169670940979624,
                    -0.47530160148535827,
                    -0.8927114625102514,
                    0.31580366423737116,
                    1.1135648732618062,
                    0.9598744893458587,
                    0.4415302762016992,
                    -0.08108815387739585,
                    -0.7984814511402667
                  ],
                  "line": {
                    "color": "rgba(128, 128, 128, 1.0)",
                    "dash": "solid",
                    "shape": "linear",
                    "width": 1.3
                  },
                  "type": "scatter"
                },
                {
                  "name": "B",
                  "yaxis": "y8",
                  "text": "",
                  "y": [
                    0.319389861291986,
                    -0.30074966743608506,
                    -0.8312005470150119,
                    -2.4054656013055444,
                    1.95218493548916,
                    -1.3949547196167487,
                    1.2610777494042638,
                    -0.25106428346371634,
                    0.7833405935894365,
                    0.34177773626719854,
                    1.847886725993193,
                    -0.14969996369267832,
                    0.08691354446385557,
                    1.1409817365990378,
                    0.3593414585006607,
                    -0.6534610730262642,
                    0.04553691446835388,
                    -0.6026955641298878,
                    1.5577759039506558,
                    -1.4045087455705607,
                    -0.9378539145505463,
                    0.043002648037828495,
                    -2.102274024308178,
                    0.8801400704781029,
                    -0.5281783119970317,
                    1.343986387262092,
                    -1.0803664242729223,
                    -0.5014747769984824,
                    0.5970767917134021,
                    0.5007062749147215,
                    0.2564679561157993,
                    0.22936027050727836,
                    -1.124733552945505,
                    1.346138803322607,
                    -1.076597213636889,
                    -0.14375695629240315,
                    1.3337935777840249,
                    0.7804027116427791,
                    -0.785762950919096,
                    0.4102750089109371,
                    -0.1318258634420717,
                    0.8532631740447265,
                    -1.0008567066921035,
                    0.3105586227309746,
                    0.7355287345659339,
                    2.1022790876438813,
                    -0.6251400952943048,
                    -0.23429800909253748,
                    -0.061505586329181,
                    -0.6349766598812604,
                    0.525719391772557,
                    1.345241629785457,
                    -0.6011991190519752,
                    1.44640310913396,
                    -0.0872486292630008,
                    0.10560666020020956,
                    0.941703428827021,
                    0.814753456507976,
                    -0.584076289529489,
                    -0.962996905418369,
                    0.7994852115303925,
                    0.762184625040766,
                    -0.21785632433335,
                    0.9864316077429109,
                    0.755867048719471,
                    -1.1129961928211929,
                    0.19433562473336324,
                    1.5619787553664641,
                    -0.5202158167923906,
                    -0.02911156974216635,
                    -1.6734099454901552,
                    -2.2796496602757554,
                    -1.5492433667544536,
                    -0.8651720204735538,
                    -1.8230976407359787,
                    -0.006096200544762621,
                    -1.584109186224074,
                    -0.33035517887516197,
                    -0.7059363123188731,
                    1.695198015552919,
                    -0.9811233584929907,
                    0.47042387423562504,
                    -0.5249460929521849,
                    -0.31125324698240014,
                    -0.7994641306782769,
                    -0.6174704292261655,
                    0.05596717699545592,
                    0.49209772986311834,
                    0.19878044412033335,
                    -0.13557781245738254,
                    -0.3868164211531793,
                    1.070491610505177,
                    0.8275071529281245,
                    -0.6656345370734653,
                    -0.13503140193318744,
                    -0.8667935467318065,
                    0.6865335102478416,
                    -0.3186666336242621,
                    1.3881557946444958,
                    1.7933718693964338
                  ],
                  "mode": "markers",
                  "xaxis": "x8",
                  "marker": {
                    "symbol": "circle",
                    "size": 2
                  },
                  "x": [
                    0.4752509042408672,
                    0.5923357389976552,
                    1.8065592979771634,
                    1.0347190604125864,
                    -0.34582992128279116,
                    0.1515887735645558,
                    0.16714281930383112,
                    -0.46568627027629994,
                    1.5909034652327887,
                    0.40496363815507563,
                    1.2757958836450585,
                    -0.4992335573208999,
                    -1.1816901191345761,
                    -0.9820038833106384,
                    -1.9345418317893035,
                    0.7837282866949103,
                    -0.07100529626029047,
                    -1.6067357928843564,
                    0.28312150123480945,
                    1.6157703025031254,
                    -0.484977988619448,
                    0.2392754077959054,
                    0.7910056835873752,
                    -1.5536392737160203,
                    -0.5331901812187568,
                    -0.7901955651030481,
                    0.6578744020187579,
                    -0.2302284137895361,
                    -1.6241670231279821,
                    0.12417627553418101,
                    0.8726833454401819,
                    -1.7200168388664068,
                    0.3728353383757879,
                    -0.5888716944335837,
                    0.16700968524310988,
                    0.3152236939729629,
                    0.6600671742402289,
                    -0.23159595946803066,
                    -0.374948948157611,
                    -0.6426055238815437,
                    -0.8758344221619488,
                    0.31011355491272985,
                    -0.38136450331807414,
                    -1.72064630294261,
                    2.3927735134855572,
                    -0.02306755609596276,
                    -0.658095816712436,
                    -0.7102542984499866,
                    0.3444612155969016,
                    -1.4859692950577321,
                    -0.8235273774770004,
                    -1.0759052928914057,
                    0.7865776439965904,
                    -0.865830264721386,
                    -0.42203911311573006,
                    -0.7984772856974879,
                    -1.3915201358593854,
                    -0.5855284794553162,
                    -0.02197011967084297,
                    0.8693706123410209,
                    0.989996744831296,
                    0.3962765133442256,
                    -0.8225052722339669,
                    -0.9752154080510914,
                    0.6082080967773585,
                    0.27312593534686747,
                    -0.5911956742881689,
                    0.5417838377513962,
                    1.8921345486217096,
                    0.42640908908842035,
                    0.10577626309087514,
                    0.4962037534173657,
                    -1.2110753581455402,
                    0.9880462968869487,
                    0.7890408686323082,
                    1.2697947008864725,
                    0.5650787760312971,
                    -0.8871516539780503,
                    0.0826382920303798,
                    -0.3465183651319844,
                    0.36453051315007917,
                    -0.48318900415908855,
                    1.4882785868246171,
                    -0.8788596842572135,
                    -0.6077343100103489,
                    -0.06122119231248921,
                    1.4467997449887289,
                    1.9680021503339724,
                    0.2212801457632743,
                    1.4068423254704043,
                    -0.07487568018994134,
                    2.4107329653075498,
                    0.7580632574862473,
                    -0.3551657240059524,
                    0.1979891520555157,
                    -0.355751232720357,
                    -0.06743330749589409,
                    -0.32611999195126024,
                    -0.06435277033186215,
                    1.115378302375508
                  ],
                  "line": {
                    "color": "rgba(128, 128, 128, 1.0)",
                    "dash": "solid",
                    "shape": "linear",
                    "width": 1.3
                  },
                  "type": "scatter"
                },
                {
                  "name": "C",
                  "yaxis": "y9",
                  "text": "",
                  "y": [
                    0.5230770887437088,
                    0.0825736363577513,
                    0.4588105780564298,
                    0.7811446115543202,
                    0.9184053209026012,
                    0.17224751730776722,
                    -1.6475328091120887,
                    0.49181252346677573,
                    -0.6061053597414845,
                    -1.3933264560772263,
                    0.14344544722416813,
                    -0.3905457463541869,
                    -0.0773635833941089,
                    0.30492141697044683,
                    -0.5614591261561296,
                    -1.419401744846503,
                    0.955611795727318,
                    1.4027692968418186,
                    -0.7343269788433588,
                    -1.4756553433046526,
                    0.9145937087280909,
                    -1.092472721615005,
                    1.0980836262747558,
                    1.3145679977529234,
                    1.0797524283747404,
                    0.6308254102247195,
                    0.8874408902673286,
                    -0.10052268438227928,
                    -0.08983224735313855,
                    -1.1997913058653475,
                    0.3719136301886943,
                    0.13950074964563766,
                    0.4690366263838989,
                    0.24025572005802265,
                    0.06327153831170397,
                    0.0639869752403078,
                    0.15963465055031542,
                    0.03490813204410398,
                    2.1207604049072937,
                    -0.7279657171995265,
                    -1.6480911373184448,
                    -0.8335349198044641,
                    0.5610906956098553,
                    0.14392868337626316,
                    -0.19687329134978385,
                    -1.0234717992551527,
                    0.819724112176948,
                    -0.8301152243196428,
                    -0.1264779994266815,
                    1.3793715769590547,
                    -1.077213610535644,
                    1.236175587525392,
                    -1.2068837402220438,
                    0.1047847272107351,
                    0.43999253945098565,
                    -1.2996460994705084,
                    1.591831487693768,
                    -1.9492187199295534,
                    -0.7510258435595026,
                    -0.6567026208051004,
                    -1.3466966732276888,
                    -0.3374809049581502,
                    0.777278721181163,
                    1.854357184527882,
                    -0.24629145763903534,
                    1.421869231047535,
                    -0.665350750395719,
                    0.6926413754651823,
                    1.0225975184913045,
                    0.5858058447185054,
                    0.7941562095858778,
                    -0.2726738671756177,
                    1.5677726178379325,
                    -0.9163470370977671,
                    -0.23451784063716838,
                    -1.1415058257926867,
                    2.726517426644188,
                    2.1476170495198854,
                    -1.339199915432269,
                    0.24370042092824235,
                    -0.27375411290307944,
                    0.6936728038249259,
                    -0.8487836211839579,
                    -0.6855344456405397,
                    -0.8835185469904709,
                    1.1253489445959861,
                    0.36542321839835423,
                    1.8097751105146338,
                    0.1120729571353281,
                    2.4701834366147515,
                    0.19301992411344596,
                    0.6169670940979624,
                    -0.47530160148535827,
                    -0.8927114625102514,
                    0.31580366423737116,
                    1.1135648732618062,
                    0.9598744893458587,
                    0.4415302762016992,
                    -0.08108815387739585,
                    -0.7984814511402667
                  ],
                  "mode": "markers",
                  "xaxis": "x9",
                  "marker": {
                    "symbol": "circle",
                    "size": 2
                  },
                  "x": [
                    0.38776790492739865,
                    0.03849236956660459,
                    1.2433137936961798,
                    0.5842972264102014,
                    -1.1208961479414192,
                    1.730216441653974,
                    0.06108034749886219,
                    0.9262701599086871,
                    -0.87571943613146,
                    0.7960283927316331,
                    0.8013388093558175,
                    -0.7713827146130571,
                    -0.3860596312437266,
                    0.1422534281059505,
                    1.5343821976708791,
                    -0.522288610381301,
                    1.2765181110454487,
                    -1.9087210266761787,
                    -0.5455631881633575,
                    -0.9673041467546614,
                    0.18365245410260891,
                    0.8319727481794416,
                    -0.6924274444035763,
                    0.130212270746392,
                    -0.5741925777331125,
                    -1.3462551608381779,
                    -0.41262032018311534,
                    1.103101235762768,
                    1.0446220690518804,
                    0.9472184572850981,
                    0.01144284758409768,
                    0.3924697684460991,
                    -0.7436814456680585,
                    0.5606640324163912,
                    0.6965257672104554,
                    -0.7934068443983743,
                    0.582381173671548,
                    -2.282351450427875,
                    0.7124587395952304,
                    -0.6882658875377795,
                    1.6993566416898747,
                    2.8568699326050275,
                    0.006332552164447542,
                    0.4435057221418252,
                    0.09896661061309904,
                    0.8037600980180298,
                    1.5334032703702691,
                    -0.4990486031175881,
                    0.21649575207817678,
                    -0.4096457505587984,
                    0.8016799189563294,
                    -0.6905393608982633,
                    2.0872629967650296,
                    1.474533174467541,
                    -0.9195699744527402,
                    0.2725139639009779,
                    0.7685364302756515,
                    -0.6371309176903281,
                    -0.397097728226869,
                    1.9487774142868644,
                    -2.877517406687037,
                    -1.1877654785957479,
                    0.9114452597351144,
                    0.7244960384363618,
                    0.3218065598901516,
                    0.6135611614993941,
                    0.2577221961420037,
                    -1.0607592928299288,
                    0.2975795540412989,
                    0.4551520791689616,
                    -0.5795233153683617,
                    0.5763212135443879,
                    -1.6662421515568697,
                    1.0389099618890498,
                    0.1410565241910319,
                    1.1284833361430653,
                    2.349189230892838,
                    -1.4199144089065157,
                    -1.1340525523746237,
                    0.6552467536857508,
                    1.5617541726720494,
                    -1.0089435007798202,
                    -1.1259228236191567,
                    -1.2386389182482231,
                    1.6364774453566855,
                    0.36666797091738595,
                    -0.3432628429736642,
                    -1.043490274577387,
                    0.8818679747375759,
                    0.1751112634092605,
                    0.1247652284295829,
                    0.5518682798715221,
                    0.0579060702482222,
                    0.286418801590196,
                    -1.4700359970155337,
                    -0.5355646681907782,
                    1.414380652513354,
                    -1.1727913308648066,
                    -0.3937665053241717,
                    0.1938955533958501
                  ],
                  "line": {
                    "color": "rgba(128, 128, 128, 1.0)",
                    "dash": "solid",
                    "shape": "linear",
                    "width": 1.3
                  },
                  "type": "scatter"
                },
                {
                  "name": "C",
                  "yaxis": "y10",
                  "text": "",
                  "y": [
                    0.5230770887437088,
                    0.0825736363577513,
                    0.4588105780564298,
                    0.7811446115543202,
                    0.9184053209026012,
                    0.17224751730776722,
                    -1.6475328091120887,
                    0.49181252346677573,
                    -0.6061053597414845,
                    -1.3933264560772263,
                    0.14344544722416813,
                    -0.3905457463541869,
                    -0.0773635833941089,
                    0.30492141697044683,
                    -0.5614591261561296,
                    -1.419401744846503,
                    0.955611795727318,
                    1.4027692968418186,
                    -0.7343269788433588,
                    -1.4756553433046526,
                    0.9145937087280909,
                    -1.092472721615005,
                    1.0980836262747558,
                    1.3145679977529234,
                    1.0797524283747404,
                    0.6308254102247195,
                    0.8874408902673286,
                    -0.10052268438227928,
                    -0.08983224735313855,
                    -1.1997913058653475,
                    0.3719136301886943,
                    0.13950074964563766,
                    0.4690366263838989,
                    0.24025572005802265,
                    0.06327153831170397,
                    0.0639869752403078,
                    0.15963465055031542,
                    0.03490813204410398,
                    2.1207604049072937,
                    -0.7279657171995265,
                    -1.6480911373184448,
                    -0.8335349198044641,
                    0.5610906956098553,
                    0.14392868337626316,
                    -0.19687329134978385,
                    -1.0234717992551527,
                    0.819724112176948,
                    -0.8301152243196428,
                    -0.1264779994266815,
                    1.3793715769590547,
                    -1.077213610535644,
                    1.236175587525392,
                    -1.2068837402220438,
                    0.1047847272107351,
                    0.43999253945098565,
                    -1.2996460994705084,
                    1.591831487693768,
                    -1.9492187199295534,
                    -0.7510258435595026,
                    -0.6567026208051004,
                    -1.3466966732276888,
                    -0.3374809049581502,
                    0.777278721181163,
                    1.854357184527882,
                    -0.24629145763903534,
                    1.421869231047535,
                    -0.665350750395719,
                    0.6926413754651823,
                    1.0225975184913045,
                    0.5858058447185054,
                    0.7941562095858778,
                    -0.2726738671756177,
                    1.5677726178379325,
                    -0.9163470370977671,
                    -0.23451784063716838,
                    -1.1415058257926867,
                    2.726517426644188,
                    2.1476170495198854,
                    -1.339199915432269,
                    0.24370042092824235,
                    -0.27375411290307944,
                    0.6936728038249259,
                    -0.8487836211839579,
                    -0.6855344456405397,
                    -0.8835185469904709,
                    1.1253489445959861,
                    0.36542321839835423,
                    1.8097751105146338,
                    0.1120729571353281,
                    2.4701834366147515,
                    0.19301992411344596,
                    0.6169670940979624,
                    -0.47530160148535827,
                    -0.8927114625102514,
                    0.31580366423737116,
                    1.1135648732618062,
                    0.9598744893458587,
                    0.4415302762016992,
                    -0.08108815387739585,
                    -0.7984814511402667
                  ],
                  "mode": "markers",
                  "xaxis": "x10",
                  "marker": {
                    "symbol": "circle",
                    "size": 2
                  },
                  "x": [
                    0.319389861291986,
                    -0.30074966743608506,
                    -0.8312005470150119,
                    -2.4054656013055444,
                    1.95218493548916,
                    -1.3949547196167487,
                    1.2610777494042638,
                    -0.25106428346371634,
                    0.7833405935894365,
                    0.34177773626719854,
                    1.847886725993193,
                    -0.14969996369267832,
                    0.08691354446385557,
                    1.1409817365990378,
                    0.3593414585006607,
                    -0.6534610730262642,
                    0.04553691446835388,
                    -0.6026955641298878,
                    1.5577759039506558,
                    -1.4045087455705607,
                    -0.9378539145505463,
                    0.043002648037828495,
                    -2.102274024308178,
                    0.8801400704781029,
                    -0.5281783119970317,
                    1.343986387262092,
                    -1.0803664242729223,
                    -0.5014747769984824,
                    0.5970767917134021,
                    0.5007062749147215,
                    0.2564679561157993,
                    0.22936027050727836,
                    -1.124733552945505,
                    1.346138803322607,
                    -1.076597213636889,
                    -0.14375695629240315,
                    1.3337935777840249,
                    0.7804027116427791,
                    -0.785762950919096,
                    0.4102750089109371,
                    -0.1318258634420717,
                    0.8532631740447265,
                    -1.0008567066921035,
                    0.3105586227309746,
                    0.7355287345659339,
                    2.1022790876438813,
                    -0.6251400952943048,
                    -0.23429800909253748,
                    -0.061505586329181,
                    -0.6349766598812604,
                    0.525719391772557,
                    1.345241629785457,
                    -0.6011991190519752,
                    1.44640310913396,
                    -0.0872486292630008,
                    0.10560666020020956,
                    0.941703428827021,
                    0.814753456507976,
                    -0.584076289529489,
                    -0.962996905418369,
                    0.7994852115303925,
                    0.762184625040766,
                    -0.21785632433335,
                    0.9864316077429109,
                    0.755867048719471,
                    -1.1129961928211929,
                    0.19433562473336324,
                    1.5619787553664641,
                    -0.5202158167923906,
                    -0.02911156974216635,
                    -1.6734099454901552,
                    -2.2796496602757554,
                    -1.5492433667544536,
                    -0.8651720204735538,
                    -1.8230976407359787,
                    -0.006096200544762621,
                    -1.584109186224074,
                    -0.33035517887516197,
                    -0.7059363123188731,
                    1.695198015552919,
                    -0.9811233584929907,
                    0.47042387423562504,
                    -0.5249460929521849,
                    -0.31125324698240014,
                    -0.7994641306782769,
                    -0.6174704292261655,
                    0.05596717699545592,
                    0.49209772986311834,
                    0.19878044412033335,
                    -0.13557781245738254,
                    -0.3868164211531793,
                    1.070491610505177,
                    0.8275071529281245,
                    -0.6656345370734653,
                    -0.13503140193318744,
                    -0.8667935467318065,
                    0.6865335102478416,
                    -0.3186666336242621,
                    1.3881557946444958,
                    1.7933718693964338
                  ],
                  "line": {
                    "color": "rgba(128, 128, 128, 1.0)",
                    "dash": "solid",
                    "shape": "linear",
                    "width": 1.3
                  },
                  "type": "scatter"
                },
                {
                  "opacity": 0.8,
                  "name": "C",
                  "yaxis": "y11",
                  "histnorm": "",
                  "xaxis": "x11",
                  "nbinsx": 10,
                  "histfunc": "count",
                  "marker": {
                    "color": "rgba(50, 171, 96, 1.0)",
                    "line": {
                      "color": "#4D5663",
                      "width": 1.3
                    }
                  },
                  "x": [
                    0.5230770887437088,
                    0.0825736363577513,
                    0.4588105780564298,
                    0.7811446115543202,
                    0.9184053209026012,
                    0.17224751730776722,
                    -1.6475328091120887,
                    0.49181252346677573,
                    -0.6061053597414845,
                    -1.3933264560772263,
                    0.14344544722416813,
                    -0.3905457463541869,
                    -0.0773635833941089,
                    0.30492141697044683,
                    -0.5614591261561296,
                    -1.419401744846503,
                    0.955611795727318,
                    1.4027692968418186,
                    -0.7343269788433588,
                    -1.4756553433046526,
                    0.9145937087280909,
                    -1.092472721615005,
                    1.0980836262747558,
                    1.3145679977529234,
                    1.0797524283747404,
                    0.6308254102247195,
                    0.8874408902673286,
                    -0.10052268438227928,
                    -0.08983224735313855,
                    -1.1997913058653475,
                    0.3719136301886943,
                    0.13950074964563766,
                    0.4690366263838989,
                    0.24025572005802265,
                    0.06327153831170397,
                    0.0639869752403078,
                    0.15963465055031542,
                    0.03490813204410398,
                    2.1207604049072937,
                    -0.7279657171995265,
                    -1.6480911373184448,
                    -0.8335349198044641,
                    0.5610906956098553,
                    0.14392868337626316,
                    -0.19687329134978385,
                    -1.0234717992551527,
                    0.819724112176948,
                    -0.8301152243196428,
                    -0.1264779994266815,
                    1.3793715769590547,
                    -1.077213610535644,
                    1.236175587525392,
                    -1.2068837402220438,
                    0.1047847272107351,
                    0.43999253945098565,
                    -1.2996460994705084,
                    1.591831487693768,
                    -1.9492187199295534,
                    -0.7510258435595026,
                    -0.6567026208051004,
                    -1.3466966732276888,
                    -0.3374809049581502,
                    0.777278721181163,
                    1.854357184527882,
                    -0.24629145763903534,
                    1.421869231047535,
                    -0.665350750395719,
                    0.6926413754651823,
                    1.0225975184913045,
                    0.5858058447185054,
                    0.7941562095858778,
                    -0.2726738671756177,
                    1.5677726178379325,
                    -0.9163470370977671,
                    -0.23451784063716838,
                    -1.1415058257926867,
                    2.726517426644188,
                    2.1476170495198854,
                    -1.339199915432269,
                    0.24370042092824235,
                    -0.27375411290307944,
                    0.6936728038249259,
                    -0.8487836211839579,
                    -0.6855344456405397,
                    -0.8835185469904709,
                    1.1253489445959861,
                    0.36542321839835423,
                    1.8097751105146338,
                    0.1120729571353281,
                    2.4701834366147515,
                    0.19301992411344596,
                    0.6169670940979624,
                    -0.47530160148535827,
                    -0.8927114625102514,
                    0.31580366423737116,
                    1.1135648732618062,
                    0.9598744893458587,
                    0.4415302762016992,
                    -0.08108815387739585,
                    -0.7984814511402667
                  ],
                  "type": "histogram",
                  "orientation": "v"
                },
                {
                  "name": "C",
                  "yaxis": "y12",
                  "text": "",
                  "y": [
                    0.5230770887437088,
                    0.0825736363577513,
                    0.4588105780564298,
                    0.7811446115543202,
                    0.9184053209026012,
                    0.17224751730776722,
                    -1.6475328091120887,
                    0.49181252346677573,
                    -0.6061053597414845,
                    -1.3933264560772263,
                    0.14344544722416813,
                    -0.3905457463541869,
                    -0.0773635833941089,
                    0.30492141697044683,
                    -0.5614591261561296,
                    -1.419401744846503,
                    0.955611795727318,
                    1.4027692968418186,
                    -0.7343269788433588,
                    -1.4756553433046526,
                    0.9145937087280909,
                    -1.092472721615005,
                    1.0980836262747558,
                    1.3145679977529234,
                    1.0797524283747404,
                    0.6308254102247195,
                    0.8874408902673286,
                    -0.10052268438227928,
                    -0.08983224735313855,
                    -1.1997913058653475,
                    0.3719136301886943,
                    0.13950074964563766,
                    0.4690366263838989,
                    0.24025572005802265,
                    0.06327153831170397,
                    0.0639869752403078,
                    0.15963465055031542,
                    0.03490813204410398,
                    2.1207604049072937,
                    -0.7279657171995265,
                    -1.6480911373184448,
                    -0.8335349198044641,
                    0.5610906956098553,
                    0.14392868337626316,
                    -0.19687329134978385,
                    -1.0234717992551527,
                    0.819724112176948,
                    -0.8301152243196428,
                    -0.1264779994266815,
                    1.3793715769590547,
                    -1.077213610535644,
                    1.236175587525392,
                    -1.2068837402220438,
                    0.1047847272107351,
                    0.43999253945098565,
                    -1.2996460994705084,
                    1.591831487693768,
                    -1.9492187199295534,
                    -0.7510258435595026,
                    -0.6567026208051004,
                    -1.3466966732276888,
                    -0.3374809049581502,
                    0.777278721181163,
                    1.854357184527882,
                    -0.24629145763903534,
                    1.421869231047535,
                    -0.665350750395719,
                    0.6926413754651823,
                    1.0225975184913045,
                    0.5858058447185054,
                    0.7941562095858778,
                    -0.2726738671756177,
                    1.5677726178379325,
                    -0.9163470370977671,
                    -0.23451784063716838,
                    -1.1415058257926867,
                    2.726517426644188,
                    2.1476170495198854,
                    -1.339199915432269,
                    0.24370042092824235,
                    -0.27375411290307944,
                    0.6936728038249259,
                    -0.8487836211839579,
                    -0.6855344456405397,
                    -0.8835185469904709,
                    1.1253489445959861,
                    0.36542321839835423,
                    1.8097751105146338,
                    0.1120729571353281,
                    2.4701834366147515,
                    0.19301992411344596,
                    0.6169670940979624,
                    -0.47530160148535827,
                    -0.8927114625102514,
                    0.31580366423737116,
                    1.1135648732618062,
                    0.9598744893458587,
                    0.4415302762016992,
                    -0.08108815387739585,
                    -0.7984814511402667
                  ],
                  "mode": "markers",
                  "xaxis": "x12",
                  "marker": {
                    "symbol": "circle",
                    "size": 2
                  },
                  "x": [
                    0.4752509042408672,
                    0.5923357389976552,
                    1.8065592979771634,
                    1.0347190604125864,
                    -0.34582992128279116,
                    0.1515887735645558,
                    0.16714281930383112,
                    -0.46568627027629994,
                    1.5909034652327887,
                    0.40496363815507563,
                    1.2757958836450585,
                    -0.4992335573208999,
                    -1.1816901191345761,
                    -0.9820038833106384,
                    -1.9345418317893035,
                    0.7837282866949103,
                    -0.07100529626029047,
                    -1.6067357928843564,
                    0.28312150123480945,
                    1.6157703025031254,
                    -0.484977988619448,
                    0.2392754077959054,
                    0.7910056835873752,
                    -1.5536392737160203,
                    -0.5331901812187568,
                    -0.7901955651030481,
                    0.6578744020187579,
                    -0.2302284137895361,
                    -1.6241670231279821,
                    0.12417627553418101,
                    0.8726833454401819,
                    -1.7200168388664068,
                    0.3728353383757879,
                    -0.5888716944335837,
                    0.16700968524310988,
                    0.3152236939729629,
                    0.6600671742402289,
                    -0.23159595946803066,
                    -0.374948948157611,
                    -0.6426055238815437,
                    -0.8758344221619488,
                    0.31011355491272985,
                    -0.38136450331807414,
                    -1.72064630294261,
                    2.3927735134855572,
                    -0.02306755609596276,
                    -0.658095816712436,
                    -0.7102542984499866,
                    0.3444612155969016,
                    -1.4859692950577321,
                    -0.8235273774770004,
                    -1.0759052928914057,
                    0.7865776439965904,
                    -0.865830264721386,
                    -0.42203911311573006,
                    -0.7984772856974879,
                    -1.3915201358593854,
                    -0.5855284794553162,
                    -0.02197011967084297,
                    0.8693706123410209,
                    0.989996744831296,
                    0.3962765133442256,
                    -0.8225052722339669,
                    -0.9752154080510914,
                    0.6082080967773585,
                    0.27312593534686747,
                    -0.5911956742881689,
                    0.5417838377513962,
                    1.8921345486217096,
                    0.42640908908842035,
                    0.10577626309087514,
                    0.4962037534173657,
                    -1.2110753581455402,
                    0.9880462968869487,
                    0.7890408686323082,
                    1.2697947008864725,
                    0.5650787760312971,
                    -0.8871516539780503,
                    0.0826382920303798,
                    -0.3465183651319844,
                    0.36453051315007917,
                    -0.48318900415908855,
                    1.4882785868246171,
                    -0.8788596842572135,
                    -0.6077343100103489,
                    -0.06122119231248921,
                    1.4467997449887289,
                    1.9680021503339724,
                    0.2212801457632743,
                    1.4068423254704043,
                    -0.07487568018994134,
                    2.4107329653075498,
                    0.7580632574862473,
                    -0.3551657240059524,
                    0.1979891520555157,
                    -0.355751232720357,
                    -0.06743330749589409,
                    -0.32611999195126024,
                    -0.06435277033186215,
                    1.115378302375508
                  ],
                  "line": {
                    "color": "rgba(128, 128, 128, 1.0)",
                    "dash": "solid",
                    "shape": "linear",
                    "width": 1.3
                  },
                  "type": "scatter"
                },
                {
                  "name": "D",
                  "yaxis": "y13",
                  "text": "",
                  "y": [
                    0.4752509042408672,
                    0.5923357389976552,
                    1.8065592979771634,
                    1.0347190604125864,
                    -0.34582992128279116,
                    0.1515887735645558,
                    0.16714281930383112,
                    -0.46568627027629994,
                    1.5909034652327887,
                    0.40496363815507563,
                    1.2757958836450585,
                    -0.4992335573208999,
                    -1.1816901191345761,
                    -0.9820038833106384,
                    -1.9345418317893035,
                    0.7837282866949103,
                    -0.07100529626029047,
                    -1.6067357928843564,
                    0.28312150123480945,
                    1.6157703025031254,
                    -0.484977988619448,
                    0.2392754077959054,
                    0.7910056835873752,
                    -1.5536392737160203,
                    -0.5331901812187568,
                    -0.7901955651030481,
                    0.6578744020187579,
                    -0.2302284137895361,
                    -1.6241670231279821,
                    0.12417627553418101,
                    0.8726833454401819,
                    -1.7200168388664068,
                    0.3728353383757879,
                    -0.5888716944335837,
                    0.16700968524310988,
                    0.3152236939729629,
                    0.6600671742402289,
                    -0.23159595946803066,
                    -0.374948948157611,
                    -0.6426055238815437,
                    -0.8758344221619488,
                    0.31011355491272985,
                    -0.38136450331807414,
                    -1.72064630294261,
                    2.3927735134855572,
                    -0.02306755609596276,
                    -0.658095816712436,
                    -0.7102542984499866,
                    0.3444612155969016,
                    -1.4859692950577321,
                    -0.8235273774770004,
                    -1.0759052928914057,
                    0.7865776439965904,
                    -0.865830264721386,
                    -0.42203911311573006,
                    -0.7984772856974879,
                    -1.3915201358593854,
                    -0.5855284794553162,
                    -0.02197011967084297,
                    0.8693706123410209,
                    0.989996744831296,
                    0.3962765133442256,
                    -0.8225052722339669,
                    -0.9752154080510914,
                    0.6082080967773585,
                    0.27312593534686747,
                    -0.5911956742881689,
                    0.5417838377513962,
                    1.8921345486217096,
                    0.42640908908842035,
                    0.10577626309087514,
                    0.4962037534173657,
                    -1.2110753581455402,
                    0.9880462968869487,
                    0.7890408686323082,
                    1.2697947008864725,
                    0.5650787760312971,
                    -0.8871516539780503,
                    0.0826382920303798,
                    -0.3465183651319844,
                    0.36453051315007917,
                    -0.48318900415908855,
                    1.4882785868246171,
                    -0.8788596842572135,
                    -0.6077343100103489,
                    -0.06122119231248921,
                    1.4467997449887289,
                    1.9680021503339724,
                    0.2212801457632743,
                    1.4068423254704043,
                    -0.07487568018994134,
                    2.4107329653075498,
                    0.7580632574862473,
                    -0.3551657240059524,
                    0.1979891520555157,
                    -0.355751232720357,
                    -0.06743330749589409,
                    -0.32611999195126024,
                    -0.06435277033186215,
                    1.115378302375508
                  ],
                  "mode": "markers",
                  "xaxis": "x13",
                  "marker": {
                    "symbol": "circle",
                    "size": 2
                  },
                  "x": [
                    0.38776790492739865,
                    0.03849236956660459,
                    1.2433137936961798,
                    0.5842972264102014,
                    -1.1208961479414192,
                    1.730216441653974,
                    0.06108034749886219,
                    0.9262701599086871,
                    -0.87571943613146,
                    0.7960283927316331,
                    0.8013388093558175,
                    -0.7713827146130571,
                    -0.3860596312437266,
                    0.1422534281059505,
                    1.5343821976708791,
                    -0.522288610381301,
                    1.2765181110454487,
                    -1.9087210266761787,
                    -0.5455631881633575,
                    -0.9673041467546614,
                    0.18365245410260891,
                    0.8319727481794416,
                    -0.6924274444035763,
                    0.130212270746392,
                    -0.5741925777331125,
                    -1.3462551608381779,
                    -0.41262032018311534,
                    1.103101235762768,
                    1.0446220690518804,
                    0.9472184572850981,
                    0.01144284758409768,
                    0.3924697684460991,
                    -0.7436814456680585,
                    0.5606640324163912,
                    0.6965257672104554,
                    -0.7934068443983743,
                    0.582381173671548,
                    -2.282351450427875,
                    0.7124587395952304,
                    -0.6882658875377795,
                    1.6993566416898747,
                    2.8568699326050275,
                    0.006332552164447542,
                    0.4435057221418252,
                    0.09896661061309904,
                    0.8037600980180298,
                    1.5334032703702691,
                    -0.4990486031175881,
                    0.21649575207817678,
                    -0.4096457505587984,
                    0.8016799189563294,
                    -0.6905393608982633,
                    2.0872629967650296,
                    1.474533174467541,
                    -0.9195699744527402,
                    0.2725139639009779,
                    0.7685364302756515,
                    -0.6371309176903281,
                    -0.397097728226869,
                    1.9487774142868644,
                    -2.877517406687037,
                    -1.1877654785957479,
                    0.9114452597351144,
                    0.7244960384363618,
                    0.3218065598901516,
                    0.6135611614993941,
                    0.2577221961420037,
                    -1.0607592928299288,
                    0.2975795540412989,
                    0.4551520791689616,
                    -0.5795233153683617,
                    0.5763212135443879,
                    -1.6662421515568697,
                    1.0389099618890498,
                    0.1410565241910319,
                    1.1284833361430653,
                    2.349189230892838,
                    -1.4199144089065157,
                    -1.1340525523746237,
                    0.6552467536857508,
                    1.5617541726720494,
                    -1.0089435007798202,
                    -1.1259228236191567,
                    -1.2386389182482231,
                    1.6364774453566855,
                    0.36666797091738595,
                    -0.3432628429736642,
                    -1.043490274577387,
                    0.8818679747375759,
                    0.1751112634092605,
                    0.1247652284295829,
                    0.5518682798715221,
                    0.0579060702482222,
                    0.286418801590196,
                    -1.4700359970155337,
                    -0.5355646681907782,
                    1.414380652513354,
                    -1.1727913308648066,
                    -0.3937665053241717,
                    0.1938955533958501
                  ],
                  "line": {
                    "color": "rgba(128, 128, 128, 1.0)",
                    "dash": "solid",
                    "shape": "linear",
                    "width": 1.3
                  },
                  "type": "scatter"
                },
                {
                  "name": "D",
                  "yaxis": "y14",
                  "text": "",
                  "y": [
                    0.4752509042408672,
                    0.5923357389976552,
                    1.8065592979771634,
                    1.0347190604125864,
                    -0.34582992128279116,
                    0.1515887735645558,
                    0.16714281930383112,
                    -0.46568627027629994,
                    1.5909034652327887,
                    0.40496363815507563,
                    1.2757958836450585,
                    -0.4992335573208999,
                    -1.1816901191345761,
                    -0.9820038833106384,
                    -1.9345418317893035,
                    0.7837282866949103,
                    -0.07100529626029047,
                    -1.6067357928843564,
                    0.28312150123480945,
                    1.6157703025031254,
                    -0.484977988619448,
                    0.2392754077959054,
                    0.7910056835873752,
                    -1.5536392737160203,
                    -0.5331901812187568,
                    -0.7901955651030481,
                    0.6578744020187579,
                    -0.2302284137895361,
                    -1.6241670231279821,
                    0.12417627553418101,
                    0.8726833454401819,
                    -1.7200168388664068,
                    0.3728353383757879,
                    -0.5888716944335837,
                    0.16700968524310988,
                    0.3152236939729629,
                    0.6600671742402289,
                    -0.23159595946803066,
                    -0.374948948157611,
                    -0.6426055238815437,
                    -0.8758344221619488,
                    0.31011355491272985,
                    -0.38136450331807414,
                    -1.72064630294261,
                    2.3927735134855572,
                    -0.02306755609596276,
                    -0.658095816712436,
                    -0.7102542984499866,
                    0.3444612155969016,
                    -1.4859692950577321,
                    -0.8235273774770004,
                    -1.0759052928914057,
                    0.7865776439965904,
                    -0.865830264721386,
                    -0.42203911311573006,
                    -0.7984772856974879,
                    -1.3915201358593854,
                    -0.5855284794553162,
                    -0.02197011967084297,
                    0.8693706123410209,
                    0.989996744831296,
                    0.3962765133442256,
                    -0.8225052722339669,
                    -0.9752154080510914,
                    0.6082080967773585,
                    0.27312593534686747,
                    -0.5911956742881689,
                    0.5417838377513962,
                    1.8921345486217096,
                    0.42640908908842035,
                    0.10577626309087514,
                    0.4962037534173657,
                    -1.2110753581455402,
                    0.9880462968869487,
                    0.7890408686323082,
                    1.2697947008864725,
                    0.5650787760312971,
                    -0.8871516539780503,
                    0.0826382920303798,
                    -0.3465183651319844,
                    0.36453051315007917,
                    -0.48318900415908855,
                    1.4882785868246171,
                    -0.8788596842572135,
                    -0.6077343100103489,
                    -0.06122119231248921,
                    1.4467997449887289,
                    1.9680021503339724,
                    0.2212801457632743,
                    1.4068423254704043,
                    -0.07487568018994134,
                    2.4107329653075498,
                    0.7580632574862473,
                    -0.3551657240059524,
                    0.1979891520555157,
                    -0.355751232720357,
                    -0.06743330749589409,
                    -0.32611999195126024,
                    -0.06435277033186215,
                    1.115378302375508
                  ],
                  "mode": "markers",
                  "xaxis": "x14",
                  "marker": {
                    "symbol": "circle",
                    "size": 2
                  },
                  "x": [
                    0.319389861291986,
                    -0.30074966743608506,
                    -0.8312005470150119,
                    -2.4054656013055444,
                    1.95218493548916,
                    -1.3949547196167487,
                    1.2610777494042638,
                    -0.25106428346371634,
                    0.7833405935894365,
                    0.34177773626719854,
                    1.847886725993193,
                    -0.14969996369267832,
                    0.08691354446385557,
                    1.1409817365990378,
                    0.3593414585006607,
                    -0.6534610730262642,
                    0.04553691446835388,
                    -0.6026955641298878,
                    1.5577759039506558,
                    -1.4045087455705607,
                    -0.9378539145505463,
                    0.043002648037828495,
                    -2.102274024308178,
                    0.8801400704781029,
                    -0.5281783119970317,
                    1.343986387262092,
                    -1.0803664242729223,
                    -0.5014747769984824,
                    0.5970767917134021,
                    0.5007062749147215,
                    0.2564679561157993,
                    0.22936027050727836,
                    -1.124733552945505,
                    1.346138803322607,
                    -1.076597213636889,
                    -0.14375695629240315,
                    1.3337935777840249,
                    0.7804027116427791,
                    -0.785762950919096,
                    0.4102750089109371,
                    -0.1318258634420717,
                    0.8532631740447265,
                    -1.0008567066921035,
                    0.3105586227309746,
                    0.7355287345659339,
                    2.1022790876438813,
                    -0.6251400952943048,
                    -0.23429800909253748,
                    -0.061505586329181,
                    -0.6349766598812604,
                    0.525719391772557,
                    1.345241629785457,
                    -0.6011991190519752,
                    1.44640310913396,
                    -0.0872486292630008,
                    0.10560666020020956,
                    0.941703428827021,
                    0.814753456507976,
                    -0.584076289529489,
                    -0.962996905418369,
                    0.7994852115303925,
                    0.762184625040766,
                    -0.21785632433335,
                    0.9864316077429109,
                    0.755867048719471,
                    -1.1129961928211929,
                    0.19433562473336324,
                    1.5619787553664641,
                    -0.5202158167923906,
                    -0.02911156974216635,
                    -1.6734099454901552,
                    -2.2796496602757554,
                    -1.5492433667544536,
                    -0.8651720204735538,
                    -1.8230976407359787,
                    -0.006096200544762621,
                    -1.584109186224074,
                    -0.33035517887516197,
                    -0.7059363123188731,
                    1.695198015552919,
                    -0.9811233584929907,
                    0.47042387423562504,
                    -0.5249460929521849,
                    -0.31125324698240014,
                    -0.7994641306782769,
                    -0.6174704292261655,
                    0.05596717699545592,
                    0.49209772986311834,
                    0.19878044412033335,
                    -0.13557781245738254,
                    -0.3868164211531793,
                    1.070491610505177,
                    0.8275071529281245,
                    -0.6656345370734653,
                    -0.13503140193318744,
                    -0.8667935467318065,
                    0.6865335102478416,
                    -0.3186666336242621,
                    1.3881557946444958,
                    1.7933718693964338
                  ],
                  "line": {
                    "color": "rgba(128, 128, 128, 1.0)",
                    "dash": "solid",
                    "shape": "linear",
                    "width": 1.3
                  },
                  "type": "scatter"
                },
                {
                  "name": "D",
                  "yaxis": "y15",
                  "text": "",
                  "y": [
                    0.4752509042408672,
                    0.5923357389976552,
                    1.8065592979771634,
                    1.0347190604125864,
                    -0.34582992128279116,
                    0.1515887735645558,
                    0.16714281930383112,
                    -0.46568627027629994,
                    1.5909034652327887,
                    0.40496363815507563,
                    1.2757958836450585,
                    -0.4992335573208999,
                    -1.1816901191345761,
                    -0.9820038833106384,
                    -1.9345418317893035,
                    0.7837282866949103,
                    -0.07100529626029047,
                    -1.6067357928843564,
                    0.28312150123480945,
                    1.6157703025031254,
                    -0.484977988619448,
                    0.2392754077959054,
                    0.7910056835873752,
                    -1.5536392737160203,
                    -0.5331901812187568,
                    -0.7901955651030481,
                    0.6578744020187579,
                    -0.2302284137895361,
                    -1.6241670231279821,
                    0.12417627553418101,
                    0.8726833454401819,
                    -1.7200168388664068,
                    0.3728353383757879,
                    -0.5888716944335837,
                    0.16700968524310988,
                    0.3152236939729629,
                    0.6600671742402289,
                    -0.23159595946803066,
                    -0.374948948157611,
                    -0.6426055238815437,
                    -0.8758344221619488,
                    0.31011355491272985,
                    -0.38136450331807414,
                    -1.72064630294261,
                    2.3927735134855572,
                    -0.02306755609596276,
                    -0.658095816712436,
                    -0.7102542984499866,
                    0.3444612155969016,
                    -1.4859692950577321,
                    -0.8235273774770004,
                    -1.0759052928914057,
                    0.7865776439965904,
                    -0.865830264721386,
                    -0.42203911311573006,
                    -0.7984772856974879,
                    -1.3915201358593854,
                    -0.5855284794553162,
                    -0.02197011967084297,
                    0.8693706123410209,
                    0.989996744831296,
                    0.3962765133442256,
                    -0.8225052722339669,
                    -0.9752154080510914,
                    0.6082080967773585,
                    0.27312593534686747,
                    -0.5911956742881689,
                    0.5417838377513962,
                    1.8921345486217096,
                    0.42640908908842035,
                    0.10577626309087514,
                    0.4962037534173657,
                    -1.2110753581455402,
                    0.9880462968869487,
                    0.7890408686323082,
                    1.2697947008864725,
                    0.5650787760312971,
                    -0.8871516539780503,
                    0.0826382920303798,
                    -0.3465183651319844,
                    0.36453051315007917,
                    -0.48318900415908855,
                    1.4882785868246171,
                    -0.8788596842572135,
                    -0.6077343100103489,
                    -0.06122119231248921,
                    1.4467997449887289,
                    1.9680021503339724,
                    0.2212801457632743,
                    1.4068423254704043,
                    -0.07487568018994134,
                    2.4107329653075498,
                    0.7580632574862473,
                    -0.3551657240059524,
                    0.1979891520555157,
                    -0.355751232720357,
                    -0.06743330749589409,
                    -0.32611999195126024,
                    -0.06435277033186215,
                    1.115378302375508
                  ],
                  "mode": "markers",
                  "xaxis": "x15",
                  "marker": {
                    "symbol": "circle",
                    "size": 2
                  },
                  "x": [
                    0.5230770887437088,
                    0.0825736363577513,
                    0.4588105780564298,
                    0.7811446115543202,
                    0.9184053209026012,
                    0.17224751730776722,
                    -1.6475328091120887,
                    0.49181252346677573,
                    -0.6061053597414845,
                    -1.3933264560772263,
                    0.14344544722416813,
                    -0.3905457463541869,
                    -0.0773635833941089,
                    0.30492141697044683,
                    -0.5614591261561296,
                    -1.419401744846503,
                    0.955611795727318,
                    1.4027692968418186,
                    -0.7343269788433588,
                    -1.4756553433046526,
                    0.9145937087280909,
                    -1.092472721615005,
                    1.0980836262747558,
                    1.3145679977529234,
                    1.0797524283747404,
                    0.6308254102247195,
                    0.8874408902673286,
                    -0.10052268438227928,
                    -0.08983224735313855,
                    -1.1997913058653475,
                    0.3719136301886943,
                    0.13950074964563766,
                    0.4690366263838989,
                    0.24025572005802265,
                    0.06327153831170397,
                    0.0639869752403078,
                    0.15963465055031542,
                    0.03490813204410398,
                    2.1207604049072937,
                    -0.7279657171995265,
                    -1.6480911373184448,
                    -0.8335349198044641,
                    0.5610906956098553,
                    0.14392868337626316,
                    -0.19687329134978385,
                    -1.0234717992551527,
                    0.819724112176948,
                    -0.8301152243196428,
                    -0.1264779994266815,
                    1.3793715769590547,
                    -1.077213610535644,
                    1.236175587525392,
                    -1.2068837402220438,
                    0.1047847272107351,
                    0.43999253945098565,
                    -1.2996460994705084,
                    1.591831487693768,
                    -1.9492187199295534,
                    -0.7510258435595026,
                    -0.6567026208051004,
                    -1.3466966732276888,
                    -0.3374809049581502,
                    0.777278721181163,
                    1.854357184527882,
                    -0.24629145763903534,
                    1.421869231047535,
                    -0.665350750395719,
                    0.6926413754651823,
                    1.0225975184913045,
                    0.5858058447185054,
                    0.7941562095858778,
                    -0.2726738671756177,
                    1.5677726178379325,
                    -0.9163470370977671,
                    -0.23451784063716838,
                    -1.1415058257926867,
                    2.726517426644188,
                    2.1476170495198854,
                    -1.339199915432269,
                    0.24370042092824235,
                    -0.27375411290307944,
                    0.6936728038249259,
                    -0.8487836211839579,
                    -0.6855344456405397,
                    -0.8835185469904709,
                    1.1253489445959861,
                    0.36542321839835423,
                    1.8097751105146338,
                    0.1120729571353281,
                    2.4701834366147515,
                    0.19301992411344596,
                    0.6169670940979624,
                    -0.47530160148535827,
                    -0.8927114625102514,
                    0.31580366423737116,
                    1.1135648732618062,
                    0.9598744893458587,
                    0.4415302762016992,
                    -0.08108815387739585,
                    -0.7984814511402667
                  ],
                  "line": {
                    "color": "rgba(128, 128, 128, 1.0)",
                    "dash": "solid",
                    "shape": "linear",
                    "width": 1.3
                  },
                  "type": "scatter"
                },
                {
                  "opacity": 0.8,
                  "name": "D",
                  "yaxis": "y16",
                  "histnorm": "",
                  "xaxis": "x16",
                  "nbinsx": 10,
                  "histfunc": "count",
                  "marker": {
                    "color": "rgba(128, 0, 128, 1.0)",
                    "line": {
                      "color": "#4D5663",
                      "width": 1.3
                    }
                  },
                  "x": [
                    0.4752509042408672,
                    0.5923357389976552,
                    1.8065592979771634,
                    1.0347190604125864,
                    -0.34582992128279116,
                    0.1515887735645558,
                    0.16714281930383112,
                    -0.46568627027629994,
                    1.5909034652327887,
                    0.40496363815507563,
                    1.2757958836450585,
                    -0.4992335573208999,
                    -1.1816901191345761,
                    -0.9820038833106384,
                    -1.9345418317893035,
                    0.7837282866949103,
                    -0.07100529626029047,
                    -1.6067357928843564,
                    0.28312150123480945,
                    1.6157703025031254,
                    -0.484977988619448,
                    0.2392754077959054,
                    0.7910056835873752,
                    -1.5536392737160203,
                    -0.5331901812187568,
                    -0.7901955651030481,
                    0.6578744020187579,
                    -0.2302284137895361,
                    -1.6241670231279821,
                    0.12417627553418101,
                    0.8726833454401819,
                    -1.7200168388664068,
                    0.3728353383757879,
                    -0.5888716944335837,
                    0.16700968524310988,
                    0.3152236939729629,
                    0.6600671742402289,
                    -0.23159595946803066,
                    -0.374948948157611,
                    -0.6426055238815437,
                    -0.8758344221619488,
                    0.31011355491272985,
                    -0.38136450331807414,
                    -1.72064630294261,
                    2.3927735134855572,
                    -0.02306755609596276,
                    -0.658095816712436,
                    -0.7102542984499866,
                    0.3444612155969016,
                    -1.4859692950577321,
                    -0.8235273774770004,
                    -1.0759052928914057,
                    0.7865776439965904,
                    -0.865830264721386,
                    -0.42203911311573006,
                    -0.7984772856974879,
                    -1.3915201358593854,
                    -0.5855284794553162,
                    -0.02197011967084297,
                    0.8693706123410209,
                    0.989996744831296,
                    0.3962765133442256,
                    -0.8225052722339669,
                    -0.9752154080510914,
                    0.6082080967773585,
                    0.27312593534686747,
                    -0.5911956742881689,
                    0.5417838377513962,
                    1.8921345486217096,
                    0.42640908908842035,
                    0.10577626309087514,
                    0.4962037534173657,
                    -1.2110753581455402,
                    0.9880462968869487,
                    0.7890408686323082,
                    1.2697947008864725,
                    0.5650787760312971,
                    -0.8871516539780503,
                    0.0826382920303798,
                    -0.3465183651319844,
                    0.36453051315007917,
                    -0.48318900415908855,
                    1.4882785868246171,
                    -0.8788596842572135,
                    -0.6077343100103489,
                    -0.06122119231248921,
                    1.4467997449887289,
                    1.9680021503339724,
                    0.2212801457632743,
                    1.4068423254704043,
                    -0.07487568018994134,
                    2.4107329653075498,
                    0.7580632574862473,
                    -0.3551657240059524,
                    0.1979891520555157,
                    -0.355751232720357,
                    -0.06743330749589409,
                    -0.32611999195126024,
                    -0.06435277033186215,
                    1.115378302375508
                  ],
                  "type": "histogram",
                  "orientation": "v"
                }
              ],
              "config": {
                "plotlyServerURL": "https://plot.ly",
                "linkText": "Export to plot.ly",
                "showLink": true
              },
              "layout": {
                "paper_bgcolor": "#F5F6F9",
                "xaxis16": {
                  "tickfont": {
                    "color": "#4D5663"
                  },
                  "domain": [
                    0.7875,
                    1
                  ],
                  "title": {
                    "text": "",
                    "font": {
                      "color": "#4D5663"
                    }
                  },
                  "showgrid": false,
                  "zerolinecolor": "#E1E5ED",
                  "gridcolor": "#E1E5ED",
                  "anchor": "y16"
                },
                "xaxis15": {
                  "tickfont": {
                    "color": "#4D5663"
                  },
                  "domain": [
                    0.525,
                    0.7375
                  ],
                  "title": {
                    "text": "",
                    "font": {
                      "color": "#4D5663"
                    }
                  },
                  "showgrid": false,
                  "zerolinecolor": "#E1E5ED",
                  "gridcolor": "#E1E5ED",
                  "anchor": "y15"
                },
                "xaxis14": {
                  "tickfont": {
                    "color": "#4D5663"
                  },
                  "domain": [
                    0.2625,
                    0.475
                  ],
                  "title": {
                    "text": "",
                    "font": {
                      "color": "#4D5663"
                    }
                  },
                  "showgrid": false,
                  "zerolinecolor": "#E1E5ED",
                  "gridcolor": "#E1E5ED",
                  "anchor": "y14"
                },
                "xaxis13": {
                  "tickfont": {
                    "color": "#4D5663"
                  },
                  "domain": [
                    0,
                    0.2125
                  ],
                  "title": {
                    "text": "",
                    "font": {
                      "color": "#4D5663"
                    }
                  },
                  "showgrid": false,
                  "zerolinecolor": "#E1E5ED",
                  "gridcolor": "#E1E5ED",
                  "anchor": "y13"
                },
                "xaxis12": {
                  "tickfont": {
                    "color": "#4D5663"
                  },
                  "domain": [
                    0.7875,
                    1
                  ],
                  "title": {
                    "text": "",
                    "font": {
                      "color": "#4D5663"
                    }
                  },
                  "showgrid": false,
                  "zerolinecolor": "#E1E5ED",
                  "gridcolor": "#E1E5ED",
                  "anchor": "y12"
                },
                "xaxis11": {
                  "tickfont": {
                    "color": "#4D5663"
                  },
                  "domain": [
                    0.525,
                    0.7375
                  ],
                  "title": {
                    "text": "",
                    "font": {
                      "color": "#4D5663"
                    }
                  },
                  "showgrid": false,
                  "zerolinecolor": "#E1E5ED",
                  "gridcolor": "#E1E5ED",
                  "anchor": "y11"
                },
                "xaxis10": {
                  "tickfont": {
                    "color": "#4D5663"
                  },
                  "domain": [
                    0.2625,
                    0.475
                  ],
                  "title": {
                    "text": "",
                    "font": {
                      "color": "#4D5663"
                    }
                  },
                  "showgrid": false,
                  "zerolinecolor": "#E1E5ED",
                  "gridcolor": "#E1E5ED",
                  "anchor": "y10"
                },
                "yaxis2": {
                  "tickfont": {
                    "color": "#4D5663"
                  },
                  "domain": [
                    0.8025,
                    1
                  ],
                  "title": {
                    "text": "",
                    "font": {
                      "color": "#4D5663"
                    }
                  },
                  "showgrid": false,
                  "zerolinecolor": "#E1E5ED",
                  "gridcolor": "#E1E5ED",
                  "anchor": "x2"
                },
                "yaxis3": {
                  "tickfont": {
                    "color": "#4D5663"
                  },
                  "domain": [
                    0.8025,
                    1
                  ],
                  "title": {
                    "text": "",
                    "font": {
                      "color": "#4D5663"
                    }
                  },
                  "showgrid": false,
                  "zerolinecolor": "#E1E5ED",
                  "gridcolor": "#E1E5ED",
                  "anchor": "x3"
                },
                "yaxis4": {
                  "tickfont": {
                    "color": "#4D5663"
                  },
                  "domain": [
                    0.8025,
                    1
                  ],
                  "title": {
                    "text": "",
                    "font": {
                      "color": "#4D5663"
                    }
                  },
                  "showgrid": false,
                  "zerolinecolor": "#E1E5ED",
                  "gridcolor": "#E1E5ED",
                  "anchor": "x4"
                },
                "yaxis5": {
                  "tickfont": {
                    "color": "#4D5663"
                  },
                  "domain": [
                    0.535,
                    0.7325
                  ],
                  "title": {
                    "text": "",
                    "font": {
                      "color": "#4D5663"
                    }
                  },
                  "showgrid": false,
                  "zerolinecolor": "#E1E5ED",
                  "gridcolor": "#E1E5ED",
                  "anchor": "x5"
                },
                "yaxis6": {
                  "tickfont": {
                    "color": "#4D5663"
                  },
                  "domain": [
                    0.535,
                    0.7325
                  ],
                  "title": {
                    "text": "",
                    "font": {
                      "color": "#4D5663"
                    }
                  },
                  "showgrid": false,
                  "zerolinecolor": "#E1E5ED",
                  "gridcolor": "#E1E5ED",
                  "anchor": "x6"
                },
                "yaxis7": {
                  "tickfont": {
                    "color": "#4D5663"
                  },
                  "domain": [
                    0.535,
                    0.7325
                  ],
                  "title": {
                    "text": "",
                    "font": {
                      "color": "#4D5663"
                    }
                  },
                  "showgrid": false,
                  "zerolinecolor": "#E1E5ED",
                  "gridcolor": "#E1E5ED",
                  "anchor": "x7"
                },
                "yaxis8": {
                  "tickfont": {
                    "color": "#4D5663"
                  },
                  "domain": [
                    0.535,
                    0.7325
                  ],
                  "title": {
                    "text": "",
                    "font": {
                      "color": "#4D5663"
                    }
                  },
                  "showgrid": false,
                  "zerolinecolor": "#E1E5ED",
                  "gridcolor": "#E1E5ED",
                  "anchor": "x8"
                },
                "yaxis11": {
                  "tickfont": {
                    "color": "#4D5663"
                  },
                  "domain": [
                    0.2675,
                    0.465
                  ],
                  "title": {
                    "text": "",
                    "font": {
                      "color": "#4D5663"
                    }
                  },
                  "showgrid": false,
                  "zerolinecolor": "#E1E5ED",
                  "gridcolor": "#E1E5ED",
                  "anchor": "x11"
                },
                "yaxis9": {
                  "tickfont": {
                    "color": "#4D5663"
                  },
                  "domain": [
                    0.2675,
                    0.465
                  ],
                  "title": {
                    "text": "",
                    "font": {
                      "color": "#4D5663"
                    }
                  },
                  "showgrid": false,
                  "zerolinecolor": "#E1E5ED",
                  "gridcolor": "#E1E5ED",
                  "anchor": "x9"
                },
                "showlegend": false,
                "title": {
                  "font": {
                    "color": "#4D5663"
                  }
                },
                "plot_bgcolor": "#F5F6F9",
                "yaxis": {
                  "tickfont": {
                    "color": "#4D5663"
                  },
                  "domain": [
                    0.8025,
                    1
                  ],
                  "title": {
                    "text": "",
                    "font": {
                      "color": "#4D5663"
                    }
                  },
                  "showgrid": false,
                  "zerolinecolor": "#E1E5ED",
                  "gridcolor": "#E1E5ED",
                  "anchor": "x"
                },
                "yaxis12": {
                  "tickfont": {
                    "color": "#4D5663"
                  },
                  "domain": [
                    0.2675,
                    0.465
                  ],
                  "title": {
                    "text": "",
                    "font": {
                      "color": "#4D5663"
                    }
                  },
                  "showgrid": false,
                  "zerolinecolor": "#E1E5ED",
                  "gridcolor": "#E1E5ED",
                  "anchor": "x12"
                },
                "yaxis13": {
                  "tickfont": {
                    "color": "#4D5663"
                  },
                  "domain": [
                    0,
                    0.1975
                  ],
                  "title": {
                    "text": "",
                    "font": {
                      "color": "#4D5663"
                    }
                  },
                  "showgrid": false,
                  "zerolinecolor": "#E1E5ED",
                  "gridcolor": "#E1E5ED",
                  "anchor": "x13"
                },
                "yaxis10": {
                  "tickfont": {
                    "color": "#4D5663"
                  },
                  "domain": [
                    0.2675,
                    0.465
                  ],
                  "title": {
                    "text": "",
                    "font": {
                      "color": "#4D5663"
                    }
                  },
                  "showgrid": false,
                  "zerolinecolor": "#E1E5ED",
                  "gridcolor": "#E1E5ED",
                  "anchor": "x10"
                },
                "bargap": 0.02,
                "yaxis16": {
                  "tickfont": {
                    "color": "#4D5663"
                  },
                  "domain": [
                    0,
                    0.1975
                  ],
                  "title": {
                    "text": "",
                    "font": {
                      "color": "#4D5663"
                    }
                  },
                  "showgrid": false,
                  "zerolinecolor": "#E1E5ED",
                  "gridcolor": "#E1E5ED",
                  "anchor": "x16"
                },
                "xaxis": {
                  "tickfont": {
                    "color": "#4D5663"
                  },
                  "domain": [
                    0,
                    0.2125
                  ],
                  "title": {
                    "text": "",
                    "font": {
                      "color": "#4D5663"
                    }
                  },
                  "showgrid": false,
                  "zerolinecolor": "#E1E5ED",
                  "gridcolor": "#E1E5ED",
                  "anchor": "y"
                },
                "yaxis15": {
                  "tickfont": {
                    "color": "#4D5663"
                  },
                  "domain": [
                    0,
                    0.1975
                  ],
                  "title": {
                    "text": "",
                    "font": {
                      "color": "#4D5663"
                    }
                  },
                  "showgrid": false,
                  "zerolinecolor": "#E1E5ED",
                  "gridcolor": "#E1E5ED",
                  "anchor": "x15"
                },
                "template": {
                  "layout": {
                    "shapedefaults": {
                      "line": {
                        "color": "#2a3f5f"
                      }
                    },
                    "polar": {
                      "radialaxis": {
                        "ticks": "",
                        "gridcolor": "white",
                        "linecolor": "white"
                      },
                      "bgcolor": "#E5ECF6",
                      "angularaxis": {
                        "ticks": "",
                        "gridcolor": "white",
                        "linecolor": "white"
                      }
                    },
                    "colorway": [
                      "#636efa",
                      "#EF553B",
                      "#00cc96",
                      "#ab63fa",
                      "#FFA15A",
                      "#19d3f3",
                      "#FF6692",
                      "#B6E880",
                      "#FF97FF",
                      "#FECB52"
                    ],
                    "xaxis": {
                      "automargin": true,
                      "title": {
                        "standoff": 15
                      },
                      "zerolinewidth": 2,
                      "ticks": "",
                      "zerolinecolor": "white",
                      "gridcolor": "white",
                      "linecolor": "white"
                    },
                    "colorscale": {
                      "diverging": [
                        [
                          0,
                          "#8e0152"
                        ],
                        [
                          0.1,
                          "#c51b7d"
                        ],
                        [
                          0.2,
                          "#de77ae"
                        ],
                        [
                          0.3,
                          "#f1b6da"
                        ],
                        [
                          0.4,
                          "#fde0ef"
                        ],
                        [
                          0.5,
                          "#f7f7f7"
                        ],
                        [
                          0.6,
                          "#e6f5d0"
                        ],
                        [
                          0.7,
                          "#b8e186"
                        ],
                        [
                          0.8,
                          "#7fbc41"
                        ],
                        [
                          0.9,
                          "#4d9221"
                        ],
                        [
                          1,
                          "#276419"
                        ]
                      ],
                      "sequential": [
                        [
                          0,
                          "#0d0887"
                        ],
                        [
                          0.1111111111111111,
                          "#46039f"
                        ],
                        [
                          0.2222222222222222,
                          "#7201a8"
                        ],
                        [
                          0.3333333333333333,
                          "#9c179e"
                        ],
                        [
                          0.4444444444444444,
                          "#bd3786"
                        ],
                        [
                          0.5555555555555556,
                          "#d8576b"
                        ],
                        [
                          0.6666666666666666,
                          "#ed7953"
                        ],
                        [
                          0.7777777777777778,
                          "#fb9f3a"
                        ],
                        [
                          0.8888888888888888,
                          "#fdca26"
                        ],
                        [
                          1,
                          "#f0f921"
                        ]
                      ],
                      "sequentialminus": [
                        [
                          0,
                          "#0d0887"
                        ],
                        [
                          0.1111111111111111,
                          "#46039f"
                        ],
                        [
                          0.2222222222222222,
                          "#7201a8"
                        ],
                        [
                          0.3333333333333333,
                          "#9c179e"
                        ],
                        [
                          0.4444444444444444,
                          "#bd3786"
                        ],
                        [
                          0.5555555555555556,
                          "#d8576b"
                        ],
                        [
                          0.6666666666666666,
                          "#ed7953"
                        ],
                        [
                          0.7777777777777778,
                          "#fb9f3a"
                        ],
                        [
                          0.8888888888888888,
                          "#fdca26"
                        ],
                        [
                          1,
                          "#f0f921"
                        ]
                      ]
                    },
                    "paper_bgcolor": "white",
                    "plot_bgcolor": "#E5ECF6",
                    "title": {
                      "x": 0.05
                    },
                    "scene": {
                      "zaxis": {
                        "backgroundcolor": "#E5ECF6",
                        "ticks": "",
                        "gridwidth": 2,
                        "showbackground": true,
                        "zerolinecolor": "white",
                        "gridcolor": "white",
                        "linecolor": "white"
                      },
                      "xaxis": {
                        "backgroundcolor": "#E5ECF6",
                        "ticks": "",
                        "gridwidth": 2,
                        "showbackground": true,
                        "zerolinecolor": "white",
                        "gridcolor": "white",
                        "linecolor": "white"
                      },
                      "yaxis": {
                        "backgroundcolor": "#E5ECF6",
                        "ticks": "",
                        "gridwidth": 2,
                        "showbackground": true,
                        "zerolinecolor": "white",
                        "gridcolor": "white",
                        "linecolor": "white"
                      }
                    },
                    "yaxis": {
                      "automargin": true,
                      "title": {
                        "standoff": 15
                      },
                      "zerolinewidth": 2,
                      "ticks": "",
                      "zerolinecolor": "white",
                      "gridcolor": "white",
                      "linecolor": "white"
                    },
                    "annotationdefaults": {
                      "arrowwidth": 1,
                      "arrowhead": 0,
                      "arrowcolor": "#2a3f5f"
                    },
                    "hoverlabel": {
                      "align": "left"
                    },
                    "ternary": {
                      "bgcolor": "#E5ECF6",
                      "baxis": {
                        "ticks": "",
                        "gridcolor": "white",
                        "linecolor": "white"
                      },
                      "caxis": {
                        "ticks": "",
                        "gridcolor": "white",
                        "linecolor": "white"
                      },
                      "aaxis": {
                        "ticks": "",
                        "gridcolor": "white",
                        "linecolor": "white"
                      }
                    },
                    "mapbox": {
                      "style": "light"
                    },
                    "hovermode": "closest",
                    "font": {
                      "color": "#2a3f5f"
                    },
                    "geo": {
                      "showland": true,
                      "landcolor": "#E5ECF6",
                      "showlakes": true,
                      "bgcolor": "white",
                      "subunitcolor": "white",
                      "lakecolor": "white"
                    },
                    "coloraxis": {
                      "colorbar": {
                        "outlinewidth": 0,
                        "ticks": ""
                      }
                    }
                  },
                  "data": {
                    "mesh3d": [
                      {
                        "colorbar": {
                          "outlinewidth": 0,
                          "ticks": ""
                        },
                        "type": "mesh3d"
                      }
                    ],
                    "scattercarpet": [
                      {
                        "marker": {
                          "colorbar": {
                            "outlinewidth": 0,
                            "ticks": ""
                          }
                        },
                        "type": "scattercarpet"
                      }
                    ],
                    "pie": [
                      {
                        "automargin": true,
                        "type": "pie"
                      }
                    ],
                    "surface": [
                      {
                        "colorbar": {
                          "outlinewidth": 0,
                          "ticks": ""
                        },
                        "type": "surface",
                        "colorscale": [
                          [
                            0,
                            "#0d0887"
                          ],
                          [
                            0.1111111111111111,
                            "#46039f"
                          ],
                          [
                            0.2222222222222222,
                            "#7201a8"
                          ],
                          [
                            0.3333333333333333,
                            "#9c179e"
                          ],
                          [
                            0.4444444444444444,
                            "#bd3786"
                          ],
                          [
                            0.5555555555555556,
                            "#d8576b"
                          ],
                          [
                            0.6666666666666666,
                            "#ed7953"
                          ],
                          [
                            0.7777777777777778,
                            "#fb9f3a"
                          ],
                          [
                            0.8888888888888888,
                            "#fdca26"
                          ],
                          [
                            1,
                            "#f0f921"
                          ]
                        ]
                      }
                    ],
                    "table": [
                      {
                        "header": {
                          "line": {
                            "color": "white"
                          },
                          "fill": {
                            "color": "#C8D4E3"
                          }
                        },
                        "cells": {
                          "line": {
                            "color": "white"
                          },
                          "fill": {
                            "color": "#EBF0F8"
                          }
                        },
                        "type": "table"
                      }
                    ],
                    "scatterpolargl": [
                      {
                        "marker": {
                          "colorbar": {
                            "outlinewidth": 0,
                            "ticks": ""
                          }
                        },
                        "type": "scatterpolargl"
                      }
                    ],
                    "contour": [
                      {
                        "colorbar": {
                          "outlinewidth": 0,
                          "ticks": ""
                        },
                        "type": "contour",
                        "colorscale": [
                          [
                            0,
                            "#0d0887"
                          ],
                          [
                            0.1111111111111111,
                            "#46039f"
                          ],
                          [
                            0.2222222222222222,
                            "#7201a8"
                          ],
                          [
                            0.3333333333333333,
                            "#9c179e"
                          ],
                          [
                            0.4444444444444444,
                            "#bd3786"
                          ],
                          [
                            0.5555555555555556,
                            "#d8576b"
                          ],
                          [
                            0.6666666666666666,
                            "#ed7953"
                          ],
                          [
                            0.7777777777777778,
                            "#fb9f3a"
                          ],
                          [
                            0.8888888888888888,
                            "#fdca26"
                          ],
                          [
                            1,
                            "#f0f921"
                          ]
                        ]
                      }
                    ],
                    "carpet": [
                      {
                        "type": "carpet",
                        "baxis": {
                          "minorgridcolor": "white",
                          "gridcolor": "white",
                          "linecolor": "white",
                          "endlinecolor": "#2a3f5f",
                          "startlinecolor": "#2a3f5f"
                        },
                        "aaxis": {
                          "minorgridcolor": "white",
                          "gridcolor": "white",
                          "linecolor": "white",
                          "endlinecolor": "#2a3f5f",
                          "startlinecolor": "#2a3f5f"
                        }
                      }
                    ],
                    "contourcarpet": [
                      {
                        "colorbar": {
                          "outlinewidth": 0,
                          "ticks": ""
                        },
                        "type": "contourcarpet"
                      }
                    ],
                    "heatmap": [
                      {
                        "colorbar": {
                          "outlinewidth": 0,
                          "ticks": ""
                        },
                        "type": "heatmap",
                        "colorscale": [
                          [
                            0,
                            "#0d0887"
                          ],
                          [
                            0.1111111111111111,
                            "#46039f"
                          ],
                          [
                            0.2222222222222222,
                            "#7201a8"
                          ],
                          [
                            0.3333333333333333,
                            "#9c179e"
                          ],
                          [
                            0.4444444444444444,
                            "#bd3786"
                          ],
                          [
                            0.5555555555555556,
                            "#d8576b"
                          ],
                          [
                            0.6666666666666666,
                            "#ed7953"
                          ],
                          [
                            0.7777777777777778,
                            "#fb9f3a"
                          ],
                          [
                            0.8888888888888888,
                            "#fdca26"
                          ],
                          [
                            1,
                            "#f0f921"
                          ]
                        ]
                      }
                    ],
                    "scattermapbox": [
                      {
                        "marker": {
                          "colorbar": {
                            "outlinewidth": 0,
                            "ticks": ""
                          }
                        },
                        "type": "scattermapbox"
                      }
                    ],
                    "scatter3d": [
                      {
                        "marker": {
                          "colorbar": {
                            "outlinewidth": 0,
                            "ticks": ""
                          }
                        },
                        "line": {
                          "colorbar": {
                            "outlinewidth": 0,
                            "ticks": ""
                          }
                        },
                        "type": "scatter3d"
                      }
                    ],
                    "scattergl": [
                      {
                        "marker": {
                          "colorbar": {
                            "outlinewidth": 0,
                            "ticks": ""
                          }
                        },
                        "type": "scattergl"
                      }
                    ],
                    "scatterternary": [
                      {
                        "marker": {
                          "colorbar": {
                            "outlinewidth": 0,
                            "ticks": ""
                          }
                        },
                        "type": "scatterternary"
                      }
                    ],
                    "histogram": [
                      {
                        "marker": {
                          "colorbar": {
                            "outlinewidth": 0,
                            "ticks": ""
                          }
                        },
                        "type": "histogram"
                      }
                    ],
                    "heatmapgl": [
                      {
                        "colorbar": {
                          "outlinewidth": 0,
                          "ticks": ""
                        },
                        "type": "heatmapgl",
                        "colorscale": [
                          [
                            0,
                            "#0d0887"
                          ],
                          [
                            0.1111111111111111,
                            "#46039f"
                          ],
                          [
                            0.2222222222222222,
                            "#7201a8"
                          ],
                          [
                            0.3333333333333333,
                            "#9c179e"
                          ],
                          [
                            0.4444444444444444,
                            "#bd3786"
                          ],
                          [
                            0.5555555555555556,
                            "#d8576b"
                          ],
                          [
                            0.6666666666666666,
                            "#ed7953"
                          ],
                          [
                            0.7777777777777778,
                            "#fb9f3a"
                          ],
                          [
                            0.8888888888888888,
                            "#fdca26"
                          ],
                          [
                            1,
                            "#f0f921"
                          ]
                        ]
                      }
                    ],
                    "scatterpolar": [
                      {
                        "marker": {
                          "colorbar": {
                            "outlinewidth": 0,
                            "ticks": ""
                          }
                        },
                        "type": "scatterpolar"
                      }
                    ],
                    "histogram2d": [
                      {
                        "colorbar": {
                          "outlinewidth": 0,
                          "ticks": ""
                        },
                        "type": "histogram2d",
                        "colorscale": [
                          [
                            0,
                            "#0d0887"
                          ],
                          [
                            0.1111111111111111,
                            "#46039f"
                          ],
                          [
                            0.2222222222222222,
                            "#7201a8"
                          ],
                          [
                            0.3333333333333333,
                            "#9c179e"
                          ],
                          [
                            0.4444444444444444,
                            "#bd3786"
                          ],
                          [
                            0.5555555555555556,
                            "#d8576b"
                          ],
                          [
                            0.6666666666666666,
                            "#ed7953"
                          ],
                          [
                            0.7777777777777778,
                            "#fb9f3a"
                          ],
                          [
                            0.8888888888888888,
                            "#fdca26"
                          ],
                          [
                            1,
                            "#f0f921"
                          ]
                        ]
                      }
                    ],
                    "scattergeo": [
                      {
                        "marker": {
                          "colorbar": {
                            "outlinewidth": 0,
                            "ticks": ""
                          }
                        },
                        "type": "scattergeo"
                      }
                    ],
                    "bar": [
                      {
                        "marker": {
                          "line": {
                            "color": "#E5ECF6",
                            "width": 0.5
                          }
                        },
                        "type": "bar",
                        "error_x": {
                          "color": "#2a3f5f"
                        },
                        "error_y": {
                          "color": "#2a3f5f"
                        }
                      }
                    ],
                    "choropleth": [
                      {
                        "colorbar": {
                          "outlinewidth": 0,
                          "ticks": ""
                        },
                        "type": "choropleth"
                      }
                    ],
                    "parcoords": [
                      {
                        "line": {
                          "colorbar": {
                            "outlinewidth": 0,
                            "ticks": ""
                          }
                        },
                        "type": "parcoords"
                      }
                    ],
                    "barpolar": [
                      {
                        "marker": {
                          "line": {
                            "color": "#E5ECF6",
                            "width": 0.5
                          }
                        },
                        "type": "barpolar"
                      }
                    ],
                    "histogram2dcontour": [
                      {
                        "colorbar": {
                          "outlinewidth": 0,
                          "ticks": ""
                        },
                        "type": "histogram2dcontour",
                        "colorscale": [
                          [
                            0,
                            "#0d0887"
                          ],
                          [
                            0.1111111111111111,
                            "#46039f"
                          ],
                          [
                            0.2222222222222222,
                            "#7201a8"
                          ],
                          [
                            0.3333333333333333,
                            "#9c179e"
                          ],
                          [
                            0.4444444444444444,
                            "#bd3786"
                          ],
                          [
                            0.5555555555555556,
                            "#d8576b"
                          ],
                          [
                            0.6666666666666666,
                            "#ed7953"
                          ],
                          [
                            0.7777777777777778,
                            "#fb9f3a"
                          ],
                          [
                            0.8888888888888888,
                            "#fdca26"
                          ],
                          [
                            1,
                            "#f0f921"
                          ]
                        ]
                      }
                    ],
                    "scatter": [
                      {
                        "marker": {
                          "colorbar": {
                            "outlinewidth": 0,
                            "ticks": ""
                          }
                        },
                        "type": "scatter"
                      }
                    ]
                  }
                },
                "legend": {
                  "bgcolor": "#F5F6F9",
                  "font": {
                    "color": "#4D5663"
                  }
                },
                "xaxis9": {
                  "tickfont": {
                    "color": "#4D5663"
                  },
                  "domain": [
                    0,
                    0.2125
                  ],
                  "title": {
                    "text": "",
                    "font": {
                      "color": "#4D5663"
                    }
                  },
                  "showgrid": false,
                  "zerolinecolor": "#E1E5ED",
                  "gridcolor": "#E1E5ED",
                  "anchor": "y9"
                },
                "xaxis8": {
                  "tickfont": {
                    "color": "#4D5663"
                  },
                  "domain": [
                    0.7875,
                    1
                  ],
                  "title": {
                    "text": "",
                    "font": {
                      "color": "#4D5663"
                    }
                  },
                  "showgrid": false,
                  "zerolinecolor": "#E1E5ED",
                  "gridcolor": "#E1E5ED",
                  "anchor": "y8"
                },
                "xaxis7": {
                  "tickfont": {
                    "color": "#4D5663"
                  },
                  "domain": [
                    0.525,
                    0.7375
                  ],
                  "title": {
                    "text": "",
                    "font": {
                      "color": "#4D5663"
                    }
                  },
                  "showgrid": false,
                  "zerolinecolor": "#E1E5ED",
                  "gridcolor": "#E1E5ED",
                  "anchor": "y7"
                },
                "xaxis6": {
                  "tickfont": {
                    "color": "#4D5663"
                  },
                  "domain": [
                    0.2625,
                    0.475
                  ],
                  "title": {
                    "text": "",
                    "font": {
                      "color": "#4D5663"
                    }
                  },
                  "showgrid": false,
                  "zerolinecolor": "#E1E5ED",
                  "gridcolor": "#E1E5ED",
                  "anchor": "y6"
                },
                "xaxis5": {
                  "tickfont": {
                    "color": "#4D5663"
                  },
                  "domain": [
                    0,
                    0.2125
                  ],
                  "title": {
                    "text": "",
                    "font": {
                      "color": "#4D5663"
                    }
                  },
                  "showgrid": false,
                  "zerolinecolor": "#E1E5ED",
                  "gridcolor": "#E1E5ED",
                  "anchor": "y5"
                },
                "xaxis4": {
                  "tickfont": {
                    "color": "#4D5663"
                  },
                  "domain": [
                    0.7875,
                    1
                  ],
                  "title": {
                    "text": "",
                    "font": {
                      "color": "#4D5663"
                    }
                  },
                  "showgrid": false,
                  "zerolinecolor": "#E1E5ED",
                  "gridcolor": "#E1E5ED",
                  "anchor": "y4"
                },
                "xaxis3": {
                  "tickfont": {
                    "color": "#4D5663"
                  },
                  "domain": [
                    0.525,
                    0.7375
                  ],
                  "title": {
                    "text": "",
                    "font": {
                      "color": "#4D5663"
                    }
                  },
                  "showgrid": false,
                  "zerolinecolor": "#E1E5ED",
                  "gridcolor": "#E1E5ED",
                  "anchor": "y3"
                },
                "xaxis2": {
                  "tickfont": {
                    "color": "#4D5663"
                  },
                  "domain": [
                    0.2625,
                    0.475
                  ],
                  "title": {
                    "text": "",
                    "font": {
                      "color": "#4D5663"
                    }
                  },
                  "showgrid": false,
                  "zerolinecolor": "#E1E5ED",
                  "gridcolor": "#E1E5ED",
                  "anchor": "y2"
                },
                "yaxis14": {
                  "tickfont": {
                    "color": "#4D5663"
                  },
                  "domain": [
                    0,
                    0.1975
                  ],
                  "title": {
                    "text": "",
                    "font": {
                      "color": "#4D5663"
                    }
                  },
                  "showgrid": false,
                  "zerolinecolor": "#E1E5ED",
                  "gridcolor": "#E1E5ED",
                  "anchor": "x14"
                }
              }
            }
          },
          "metadata": {}
        }
      ]
    },
    {
      "cell_type": "markdown",
      "metadata": {
        "collapsed": true,
        "id": "ERh7chGOJLzc"
      },
      "source": [
        "# Buen trabajo!"
      ]
    }
  ]
}