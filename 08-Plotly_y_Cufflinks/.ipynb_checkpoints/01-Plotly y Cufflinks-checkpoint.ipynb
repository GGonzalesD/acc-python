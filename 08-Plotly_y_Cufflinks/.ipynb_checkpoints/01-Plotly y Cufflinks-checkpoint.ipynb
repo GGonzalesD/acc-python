{
 "cells": [
  {
   "cell_type": "markdown",
   "metadata": {
    "id": "5NOQSjd8JLzL"
   },
   "source": [
    "___\n",
    "\n",
    "<a href='https://plotly.com/python/'> <img src='https://plotly.com/all_static/images/plotly_graphing_libraries_1.png' /></a>\n",
    "___\n",
    "# Plotly y Cufflinks"
   ]
  },
  {
   "cell_type": "markdown",
   "metadata": {
    "id": "T3-WwHZBJLzQ"
   },
   "source": [
    "**Plotly** es una libreria que permite crear gráficos interactivos para poder usarse en cuadros de mando o sitios web (se pueden guardar como archivos html o imágenes estáticas).\n",
    "\n",
    "**Cufflinks** es una libreria que conecta un dataframe de Pandas con Plotly, lo que permite a los usuarios crear visualizaciones directamente desde Pandas. Esta libreria une el poder de Plotly con la flexibilidad de Pandas para facilitar la visualización de los datos.\n",
    "\n",
    "## Instalación\n",
    "\n",
    "Para que todo esto funcione, se deberá instalar plotly y cufflinks para llamar a los gráficos directamente desde un dataframe de Pandas. Estas librerias no están disponibles actualmente a través de Conda, pero están disponibles a través de pip . Instalar las librerias en su línea de comando/terminal usando:\n",
    "\n",
    "    pip install plotly\n",
    "    pip install cufflinks\n",
    "\n",
    "## Importaciones y configuración "
   ]
  },
  {
   "cell_type": "code",
   "execution_count": 1,
   "metadata": {
    "id": "gW-bI8bzJLzR"
   },
   "outputs": [],
   "source": [
    "import pandas as pd\n",
    "import numpy as np\n",
    "%matplotlib inline"
   ]
  },
  {
   "cell_type": "code",
   "execution_count": 2,
   "metadata": {
    "colab": {
     "base_uri": "https://localhost:8080/"
    },
    "id": "inE8xtHEJLzS",
    "outputId": "9fd3c88d-abb8-440c-a288-7faf2cb5f40b"
   },
   "outputs": [
    {
     "name": "stdout",
     "output_type": "stream",
     "text": [
      "5.3.1\n"
     ]
    }
   ],
   "source": [
    "from plotly import __version__\n",
    "from plotly.offline import download_plotlyjs, init_notebook_mode, plot, iplot\n",
    "\n",
    "print(__version__) # requires version >= 1.9.0"
   ]
  },
  {
   "cell_type": "code",
   "execution_count": 4,
   "metadata": {},
   "outputs": [
    {
     "name": "stdout",
     "output_type": "stream",
     "text": [
      "Collecting cufflinks\n",
      "  Downloading cufflinks-0.17.3.tar.gz (81 kB)\n",
      "\u001b[K     |████████████████████████████████| 81 kB 464 kB/s eta 0:00:01\n",
      "\u001b[?25hRequirement already satisfied: numpy>=1.9.2 in /home/cursedman/anaconda3/lib/python3.8/site-packages (from cufflinks) (1.20.1)\n",
      "Requirement already satisfied: pandas>=0.19.2 in /home/cursedman/anaconda3/lib/python3.8/site-packages (from cufflinks) (1.2.4)\n",
      "Requirement already satisfied: plotly>=4.1.1 in /home/cursedman/anaconda3/lib/python3.8/site-packages (from cufflinks) (5.3.1)\n",
      "Requirement already satisfied: six>=1.9.0 in /home/cursedman/anaconda3/lib/python3.8/site-packages (from cufflinks) (1.15.0)\n",
      "Collecting colorlover>=0.2.1\n",
      "  Downloading colorlover-0.3.0-py3-none-any.whl (8.9 kB)\n",
      "Requirement already satisfied: setuptools>=34.4.1 in /home/cursedman/anaconda3/lib/python3.8/site-packages (from cufflinks) (52.0.0.post20210125)\n",
      "Requirement already satisfied: ipython>=5.3.0 in /home/cursedman/anaconda3/lib/python3.8/site-packages (from cufflinks) (7.22.0)\n",
      "Requirement already satisfied: ipywidgets>=7.0.0 in /home/cursedman/anaconda3/lib/python3.8/site-packages (from cufflinks) (7.6.3)\n",
      "Requirement already satisfied: pexpect>4.3 in /home/cursedman/anaconda3/lib/python3.8/site-packages (from ipython>=5.3.0->cufflinks) (4.8.0)\n",
      "Requirement already satisfied: pickleshare in /home/cursedman/anaconda3/lib/python3.8/site-packages (from ipython>=5.3.0->cufflinks) (0.7.5)\n",
      "Requirement already satisfied: pygments in /home/cursedman/anaconda3/lib/python3.8/site-packages (from ipython>=5.3.0->cufflinks) (2.8.1)\n",
      "Requirement already satisfied: prompt-toolkit!=3.0.0,!=3.0.1,<3.1.0,>=2.0.0 in /home/cursedman/anaconda3/lib/python3.8/site-packages (from ipython>=5.3.0->cufflinks) (3.0.17)\n",
      "Requirement already satisfied: traitlets>=4.2 in /home/cursedman/anaconda3/lib/python3.8/site-packages (from ipython>=5.3.0->cufflinks) (5.0.5)\n",
      "Requirement already satisfied: jedi>=0.16 in /home/cursedman/anaconda3/lib/python3.8/site-packages (from ipython>=5.3.0->cufflinks) (0.17.2)\n",
      "Requirement already satisfied: backcall in /home/cursedman/anaconda3/lib/python3.8/site-packages (from ipython>=5.3.0->cufflinks) (0.2.0)\n",
      "Requirement already satisfied: decorator in /home/cursedman/anaconda3/lib/python3.8/site-packages (from ipython>=5.3.0->cufflinks) (5.0.6)\n",
      "Requirement already satisfied: jupyterlab-widgets>=1.0.0 in /home/cursedman/anaconda3/lib/python3.8/site-packages (from ipywidgets>=7.0.0->cufflinks) (1.0.0)\n",
      "Requirement already satisfied: ipykernel>=4.5.1 in /home/cursedman/anaconda3/lib/python3.8/site-packages (from ipywidgets>=7.0.0->cufflinks) (5.3.4)\n",
      "Requirement already satisfied: nbformat>=4.2.0 in /home/cursedman/anaconda3/lib/python3.8/site-packages (from ipywidgets>=7.0.0->cufflinks) (5.1.3)\n",
      "Requirement already satisfied: widgetsnbextension~=3.5.0 in /home/cursedman/anaconda3/lib/python3.8/site-packages (from ipywidgets>=7.0.0->cufflinks) (3.5.1)\n",
      "Requirement already satisfied: jupyter-client in /home/cursedman/anaconda3/lib/python3.8/site-packages (from ipykernel>=4.5.1->ipywidgets>=7.0.0->cufflinks) (6.1.12)\n",
      "Requirement already satisfied: tornado>=4.2 in /home/cursedman/anaconda3/lib/python3.8/site-packages (from ipykernel>=4.5.1->ipywidgets>=7.0.0->cufflinks) (6.1)\n",
      "Requirement already satisfied: parso<0.8.0,>=0.7.0 in /home/cursedman/anaconda3/lib/python3.8/site-packages (from jedi>=0.16->ipython>=5.3.0->cufflinks) (0.7.0)\n",
      "Requirement already satisfied: jupyter-core in /home/cursedman/anaconda3/lib/python3.8/site-packages (from nbformat>=4.2.0->ipywidgets>=7.0.0->cufflinks) (4.7.1)\n",
      "Requirement already satisfied: jsonschema!=2.5.0,>=2.4 in /home/cursedman/anaconda3/lib/python3.8/site-packages (from nbformat>=4.2.0->ipywidgets>=7.0.0->cufflinks) (3.2.0)\n",
      "Requirement already satisfied: ipython-genutils in /home/cursedman/anaconda3/lib/python3.8/site-packages (from nbformat>=4.2.0->ipywidgets>=7.0.0->cufflinks) (0.2.0)\n",
      "Requirement already satisfied: pyrsistent>=0.14.0 in /home/cursedman/anaconda3/lib/python3.8/site-packages (from jsonschema!=2.5.0,>=2.4->nbformat>=4.2.0->ipywidgets>=7.0.0->cufflinks) (0.17.3)\n",
      "Requirement already satisfied: attrs>=17.4.0 in /home/cursedman/anaconda3/lib/python3.8/site-packages (from jsonschema!=2.5.0,>=2.4->nbformat>=4.2.0->ipywidgets>=7.0.0->cufflinks) (20.3.0)\n",
      "Requirement already satisfied: python-dateutil>=2.7.3 in /home/cursedman/anaconda3/lib/python3.8/site-packages (from pandas>=0.19.2->cufflinks) (2.8.1)\n",
      "Requirement already satisfied: pytz>=2017.3 in /home/cursedman/anaconda3/lib/python3.8/site-packages (from pandas>=0.19.2->cufflinks) (2021.1)\n",
      "Requirement already satisfied: ptyprocess>=0.5 in /home/cursedman/anaconda3/lib/python3.8/site-packages (from pexpect>4.3->ipython>=5.3.0->cufflinks) (0.7.0)\n",
      "Requirement already satisfied: tenacity>=6.2.0 in /home/cursedman/anaconda3/lib/python3.8/site-packages (from plotly>=4.1.1->cufflinks) (8.0.1)\n",
      "Requirement already satisfied: wcwidth in /home/cursedman/anaconda3/lib/python3.8/site-packages (from prompt-toolkit!=3.0.0,!=3.0.1,<3.1.0,>=2.0.0->ipython>=5.3.0->cufflinks) (0.2.5)\n",
      "Requirement already satisfied: notebook>=4.4.1 in /home/cursedman/anaconda3/lib/python3.8/site-packages (from widgetsnbextension~=3.5.0->ipywidgets>=7.0.0->cufflinks) (6.3.0)\n",
      "Requirement already satisfied: pyzmq>=17 in /home/cursedman/anaconda3/lib/python3.8/site-packages (from notebook>=4.4.1->widgetsnbextension~=3.5.0->ipywidgets>=7.0.0->cufflinks) (20.0.0)\n",
      "Requirement already satisfied: jinja2 in /home/cursedman/anaconda3/lib/python3.8/site-packages (from notebook>=4.4.1->widgetsnbextension~=3.5.0->ipywidgets>=7.0.0->cufflinks) (2.11.3)\n",
      "Requirement already satisfied: terminado>=0.8.3 in /home/cursedman/anaconda3/lib/python3.8/site-packages (from notebook>=4.4.1->widgetsnbextension~=3.5.0->ipywidgets>=7.0.0->cufflinks) (0.9.4)\n",
      "Requirement already satisfied: Send2Trash>=1.5.0 in /home/cursedman/anaconda3/lib/python3.8/site-packages (from notebook>=4.4.1->widgetsnbextension~=3.5.0->ipywidgets>=7.0.0->cufflinks) (1.5.0)\n",
      "Requirement already satisfied: argon2-cffi in /home/cursedman/anaconda3/lib/python3.8/site-packages (from notebook>=4.4.1->widgetsnbextension~=3.5.0->ipywidgets>=7.0.0->cufflinks) (20.1.0)\n",
      "Requirement already satisfied: prometheus-client in /home/cursedman/anaconda3/lib/python3.8/site-packages (from notebook>=4.4.1->widgetsnbextension~=3.5.0->ipywidgets>=7.0.0->cufflinks) (0.10.1)\n",
      "Requirement already satisfied: nbconvert in /home/cursedman/anaconda3/lib/python3.8/site-packages (from notebook>=4.4.1->widgetsnbextension~=3.5.0->ipywidgets>=7.0.0->cufflinks) (6.0.7)\n",
      "Requirement already satisfied: cffi>=1.0.0 in /home/cursedman/anaconda3/lib/python3.8/site-packages (from argon2-cffi->notebook>=4.4.1->widgetsnbextension~=3.5.0->ipywidgets>=7.0.0->cufflinks) (1.14.5)\n",
      "Requirement already satisfied: pycparser in /home/cursedman/anaconda3/lib/python3.8/site-packages (from cffi>=1.0.0->argon2-cffi->notebook>=4.4.1->widgetsnbextension~=3.5.0->ipywidgets>=7.0.0->cufflinks) (2.20)\n",
      "Requirement already satisfied: MarkupSafe>=0.23 in /home/cursedman/anaconda3/lib/python3.8/site-packages (from jinja2->notebook>=4.4.1->widgetsnbextension~=3.5.0->ipywidgets>=7.0.0->cufflinks) (1.1.1)\n",
      "Requirement already satisfied: mistune<2,>=0.8.1 in /home/cursedman/anaconda3/lib/python3.8/site-packages (from nbconvert->notebook>=4.4.1->widgetsnbextension~=3.5.0->ipywidgets>=7.0.0->cufflinks) (0.8.4)\n",
      "Requirement already satisfied: bleach in /home/cursedman/anaconda3/lib/python3.8/site-packages (from nbconvert->notebook>=4.4.1->widgetsnbextension~=3.5.0->ipywidgets>=7.0.0->cufflinks) (3.3.0)\n",
      "Requirement already satisfied: pandocfilters>=1.4.1 in /home/cursedman/anaconda3/lib/python3.8/site-packages (from nbconvert->notebook>=4.4.1->widgetsnbextension~=3.5.0->ipywidgets>=7.0.0->cufflinks) (1.4.3)\n",
      "Requirement already satisfied: jupyterlab-pygments in /home/cursedman/anaconda3/lib/python3.8/site-packages (from nbconvert->notebook>=4.4.1->widgetsnbextension~=3.5.0->ipywidgets>=7.0.0->cufflinks) (0.1.2)\n",
      "Requirement already satisfied: nbclient<0.6.0,>=0.5.0 in /home/cursedman/anaconda3/lib/python3.8/site-packages (from nbconvert->notebook>=4.4.1->widgetsnbextension~=3.5.0->ipywidgets>=7.0.0->cufflinks) (0.5.3)\n",
      "Requirement already satisfied: entrypoints>=0.2.2 in /home/cursedman/anaconda3/lib/python3.8/site-packages (from nbconvert->notebook>=4.4.1->widgetsnbextension~=3.5.0->ipywidgets>=7.0.0->cufflinks) (0.3)\n",
      "Requirement already satisfied: defusedxml in /home/cursedman/anaconda3/lib/python3.8/site-packages (from nbconvert->notebook>=4.4.1->widgetsnbextension~=3.5.0->ipywidgets>=7.0.0->cufflinks) (0.7.1)\n",
      "Requirement already satisfied: testpath in /home/cursedman/anaconda3/lib/python3.8/site-packages (from nbconvert->notebook>=4.4.1->widgetsnbextension~=3.5.0->ipywidgets>=7.0.0->cufflinks) (0.4.4)\n"
     ]
    },
    {
     "name": "stdout",
     "output_type": "stream",
     "text": [
      "Requirement already satisfied: async-generator in /home/cursedman/anaconda3/lib/python3.8/site-packages (from nbclient<0.6.0,>=0.5.0->nbconvert->notebook>=4.4.1->widgetsnbextension~=3.5.0->ipywidgets>=7.0.0->cufflinks) (1.10)\n",
      "Requirement already satisfied: nest-asyncio in /home/cursedman/anaconda3/lib/python3.8/site-packages (from nbclient<0.6.0,>=0.5.0->nbconvert->notebook>=4.4.1->widgetsnbextension~=3.5.0->ipywidgets>=7.0.0->cufflinks) (1.5.1)\n",
      "Requirement already satisfied: packaging in /home/cursedman/anaconda3/lib/python3.8/site-packages (from bleach->nbconvert->notebook>=4.4.1->widgetsnbextension~=3.5.0->ipywidgets>=7.0.0->cufflinks) (20.9)\n",
      "Requirement already satisfied: webencodings in /home/cursedman/anaconda3/lib/python3.8/site-packages (from bleach->nbconvert->notebook>=4.4.1->widgetsnbextension~=3.5.0->ipywidgets>=7.0.0->cufflinks) (0.5.1)\n",
      "Requirement already satisfied: pyparsing>=2.0.2 in /home/cursedman/anaconda3/lib/python3.8/site-packages (from packaging->bleach->nbconvert->notebook>=4.4.1->widgetsnbextension~=3.5.0->ipywidgets>=7.0.0->cufflinks) (2.4.7)\n",
      "Building wheels for collected packages: cufflinks\n",
      "  Building wheel for cufflinks (setup.py) ... \u001b[?25ldone\n",
      "\u001b[?25h  Created wheel for cufflinks: filename=cufflinks-0.17.3-py3-none-any.whl size=67922 sha256=a112d5eef909f1f66009df0173768879b26f64ec93b5cecf4014f8683c5b56f8\n",
      "  Stored in directory: /home/cursedman/.cache/pip/wheels/6b/76/62/6da97734911ffcbdd559fd1a3f28526321f0ae699182a23866\n",
      "Successfully built cufflinks\n",
      "Installing collected packages: colorlover, cufflinks\n",
      "Successfully installed colorlover-0.3.0 cufflinks-0.17.3\n"
     ]
    }
   ],
   "source": [
    "!pip3 install cufflinks"
   ]
  },
  {
   "cell_type": "code",
   "execution_count": 5,
   "metadata": {
    "id": "H9sZqL1OJLzT"
   },
   "outputs": [],
   "source": [
    "import cufflinks as cf"
   ]
  },
  {
   "cell_type": "code",
   "execution_count": 6,
   "metadata": {
    "colab": {
     "base_uri": "https://localhost:8080/",
     "height": 17
    },
    "id": "ZA3eOjQIJLzU",
    "outputId": "1d1e70dd-b9fa-4aea-e057-5c92ad5c55f3"
   },
   "outputs": [
    {
     "data": {
      "text/html": [
       "        <script type=\"text/javascript\">\n",
       "        window.PlotlyConfig = {MathJaxConfig: 'local'};\n",
       "        if (window.MathJax) {MathJax.Hub.Config({SVG: {font: \"STIX-Web\"}});}\n",
       "        if (typeof require !== 'undefined') {\n",
       "        require.undef(\"plotly\");\n",
       "        requirejs.config({\n",
       "            paths: {\n",
       "                'plotly': ['https://cdn.plot.ly/plotly-2.4.2.min']\n",
       "            }\n",
       "        });\n",
       "        require(['plotly'], function(Plotly) {\n",
       "            window._Plotly = Plotly;\n",
       "        });\n",
       "        }\n",
       "        </script>\n",
       "        "
      ]
     },
     "metadata": {},
     "output_type": "display_data"
    }
   ],
   "source": [
    "# Para Notebooks\n",
    "init_notebook_mode(connected=True)"
   ]
  },
  {
   "cell_type": "code",
   "execution_count": 7,
   "metadata": {
    "colab": {
     "base_uri": "https://localhost:8080/",
     "height": 17
    },
    "id": "JJrRjMK3JLzU",
    "outputId": "f37dd45e-cb76-41f1-f8f3-d95910ffde4c"
   },
   "outputs": [
    {
     "data": {
      "text/html": [
       "        <script type=\"text/javascript\">\n",
       "        window.PlotlyConfig = {MathJaxConfig: 'local'};\n",
       "        if (window.MathJax) {MathJax.Hub.Config({SVG: {font: \"STIX-Web\"}});}\n",
       "        if (typeof require !== 'undefined') {\n",
       "        require.undef(\"plotly\");\n",
       "        requirejs.config({\n",
       "            paths: {\n",
       "                'plotly': ['https://cdn.plot.ly/plotly-2.4.2.min']\n",
       "            }\n",
       "        });\n",
       "        require(['plotly'], function(Plotly) {\n",
       "            window._Plotly = Plotly;\n",
       "        });\n",
       "        }\n",
       "        </script>\n",
       "        "
      ]
     },
     "metadata": {},
     "output_type": "display_data"
    }
   ],
   "source": [
    "# Para uso offline colocar\n",
    "cf.go_offline()"
   ]
  },
  {
   "cell_type": "markdown",
   "metadata": {
    "id": "iyz5uX5mJLzV"
   },
   "source": [
    "### Datos de prueba"
   ]
  },
  {
   "cell_type": "code",
   "execution_count": 8,
   "metadata": {
    "id": "Glnk_-F8JLzW"
   },
   "outputs": [],
   "source": [
    "df = pd.DataFrame(np.random.randn(100,4),columns='A B C D'.split())"
   ]
  },
  {
   "cell_type": "code",
   "execution_count": 9,
   "metadata": {
    "colab": {
     "base_uri": "https://localhost:8080/",
     "height": 204
    },
    "id": "Zjki9zq9JLzW",
    "outputId": "230dd458-534e-4fc7-98e9-90673232a28e"
   },
   "outputs": [
    {
     "data": {
      "text/html": [
       "<div>\n",
       "<style scoped>\n",
       "    .dataframe tbody tr th:only-of-type {\n",
       "        vertical-align: middle;\n",
       "    }\n",
       "\n",
       "    .dataframe tbody tr th {\n",
       "        vertical-align: top;\n",
       "    }\n",
       "\n",
       "    .dataframe thead th {\n",
       "        text-align: right;\n",
       "    }\n",
       "</style>\n",
       "<table border=\"1\" class=\"dataframe\">\n",
       "  <thead>\n",
       "    <tr style=\"text-align: right;\">\n",
       "      <th></th>\n",
       "      <th>A</th>\n",
       "      <th>B</th>\n",
       "      <th>C</th>\n",
       "      <th>D</th>\n",
       "    </tr>\n",
       "  </thead>\n",
       "  <tbody>\n",
       "    <tr>\n",
       "      <th>0</th>\n",
       "      <td>1.030653</td>\n",
       "      <td>-1.879318</td>\n",
       "      <td>1.027856</td>\n",
       "      <td>-0.254865</td>\n",
       "    </tr>\n",
       "    <tr>\n",
       "      <th>1</th>\n",
       "      <td>-1.276459</td>\n",
       "      <td>-0.493762</td>\n",
       "      <td>1.218820</td>\n",
       "      <td>0.119911</td>\n",
       "    </tr>\n",
       "    <tr>\n",
       "      <th>2</th>\n",
       "      <td>-2.007426</td>\n",
       "      <td>0.633285</td>\n",
       "      <td>-0.624808</td>\n",
       "      <td>-0.027371</td>\n",
       "    </tr>\n",
       "    <tr>\n",
       "      <th>3</th>\n",
       "      <td>1.182210</td>\n",
       "      <td>0.059829</td>\n",
       "      <td>-1.703040</td>\n",
       "      <td>-1.717413</td>\n",
       "    </tr>\n",
       "    <tr>\n",
       "      <th>4</th>\n",
       "      <td>0.356085</td>\n",
       "      <td>-0.450333</td>\n",
       "      <td>0.838682</td>\n",
       "      <td>1.601479</td>\n",
       "    </tr>\n",
       "  </tbody>\n",
       "</table>\n",
       "</div>"
      ],
      "text/plain": [
       "          A         B         C         D\n",
       "0  1.030653 -1.879318  1.027856 -0.254865\n",
       "1 -1.276459 -0.493762  1.218820  0.119911\n",
       "2 -2.007426  0.633285 -0.624808 -0.027371\n",
       "3  1.182210  0.059829 -1.703040 -1.717413\n",
       "4  0.356085 -0.450333  0.838682  1.601479"
      ]
     },
     "execution_count": 9,
     "metadata": {},
     "output_type": "execute_result"
    }
   ],
   "source": [
    "df.head()"
   ]
  },
  {
   "cell_type": "code",
   "execution_count": 10,
   "metadata": {
    "id": "fDjoutdTJLzX"
   },
   "outputs": [],
   "source": [
    "df2 = pd.DataFrame({'Category':['A','B','C'],'Values':[32,43,50]})"
   ]
  },
  {
   "cell_type": "code",
   "execution_count": 11,
   "metadata": {
    "colab": {
     "base_uri": "https://localhost:8080/",
     "height": 142
    },
    "id": "K4sv9P3RJLzY",
    "outputId": "5b16af10-9ecd-46be-864f-eb64a26cbca5"
   },
   "outputs": [
    {
     "data": {
      "text/html": [
       "<div>\n",
       "<style scoped>\n",
       "    .dataframe tbody tr th:only-of-type {\n",
       "        vertical-align: middle;\n",
       "    }\n",
       "\n",
       "    .dataframe tbody tr th {\n",
       "        vertical-align: top;\n",
       "    }\n",
       "\n",
       "    .dataframe thead th {\n",
       "        text-align: right;\n",
       "    }\n",
       "</style>\n",
       "<table border=\"1\" class=\"dataframe\">\n",
       "  <thead>\n",
       "    <tr style=\"text-align: right;\">\n",
       "      <th></th>\n",
       "      <th>Category</th>\n",
       "      <th>Values</th>\n",
       "    </tr>\n",
       "  </thead>\n",
       "  <tbody>\n",
       "    <tr>\n",
       "      <th>0</th>\n",
       "      <td>A</td>\n",
       "      <td>32</td>\n",
       "    </tr>\n",
       "    <tr>\n",
       "      <th>1</th>\n",
       "      <td>B</td>\n",
       "      <td>43</td>\n",
       "    </tr>\n",
       "    <tr>\n",
       "      <th>2</th>\n",
       "      <td>C</td>\n",
       "      <td>50</td>\n",
       "    </tr>\n",
       "  </tbody>\n",
       "</table>\n",
       "</div>"
      ],
      "text/plain": [
       "  Category  Values\n",
       "0        A      32\n",
       "1        B      43\n",
       "2        C      50"
      ]
     },
     "execution_count": 11,
     "metadata": {},
     "output_type": "execute_result"
    }
   ],
   "source": [
    "df2.head()"
   ]
  },
  {
   "cell_type": "markdown",
   "metadata": {
    "id": "IQZxSrKxJLzY"
   },
   "source": [
    "## Usando Cufflinks e iplot()\n",
    "\n",
    "* Scatter\n",
    "* Bar\n",
    "* Boxplot\n",
    "* 3D surface\n",
    "* Histograma\n",
    "* Burbujas"
   ]
  },
  {
   "cell_type": "markdown",
   "metadata": {
    "id": "nYCi6GGNJLzY"
   },
   "source": [
    "## Scatter"
   ]
  },
  {
   "cell_type": "code",
   "execution_count": 12,
   "metadata": {
    "colab": {
     "base_uri": "https://localhost:8080/",
     "height": 542
    },
    "id": "iu7cL9LnJLzZ",
    "outputId": "180fa515-bdbe-47f8-c1b6-b089387b0fc4"
   },
   "outputs": [
    {
     "data": {
      "application/vnd.plotly.v1+json": {
       "config": {
        "linkText": "Export to plot.ly",
        "plotlyServerURL": "https://plot.ly",
        "showLink": true
       },
       "data": [
        {
         "line": {
          "color": "rgba(255, 153, 51, 1.0)",
          "dash": "solid",
          "shape": "linear",
          "width": 1.3
         },
         "marker": {
          "size": 10,
          "symbol": "circle"
         },
         "mode": "markers",
         "name": "B",
         "text": "",
         "type": "scatter",
         "x": [
          1.0306531774627894,
          -1.2764594295792628,
          -2.007425835370658,
          1.1822103084826039,
          0.35608523117968155,
          0.27841238683736536,
          1.1751915700868945,
          -1.8123684253200218,
          0.15598217139030196,
          -0.5033310910133766,
          -0.5699399931599826,
          -0.07633533618674429,
          -2.004031638543584,
          -1.4131671302924367,
          1.5132620658210114,
          -0.09818026933141981,
          0.5931422343995467,
          1.0350325401095455,
          0.8736985428854916,
          0.1297605827241348,
          -0.40681515090843073,
          0.054384987360707994,
          -1.3777315482312165,
          -0.3297611876737317,
          2.3375924671188657,
          -0.9934026325789047,
          0.7831313478859588,
          0.6071592818927777,
          -1.5272089990095563,
          0.5439162023233473,
          1.1433214013625341,
          0.02363890445662154,
          0.36324894281452563,
          1.418692838399726,
          0.0032313784208553983,
          0.7376422679377489,
          -1.3135443305713557,
          0.2591394467052669,
          1.8726021333712695,
          -0.02267342733907837,
          -0.7117968358970819,
          -1.3815439752350147,
          0.5474069882633411,
          -0.14082838399786934,
          1.295800241524183,
          0.16587449002004045,
          -0.13623801126290602,
          -0.2841987455277562,
          -0.02657306813411636,
          -0.044358228099686814,
          0.7603630152471096,
          0.9105796238764517,
          0.5547276955749623,
          -1.6920327034935343,
          1.8012772604158922,
          1.0957537495842795,
          0.5278414279740992,
          -0.2579914977579109,
          -0.28010895433133803,
          -1.299882900782398,
          0.33419777531472783,
          0.25097425183628885,
          0.00940578100952716,
          0.061957118758716886,
          0.6522371871228492,
          0.18668169152173955,
          -1.3704814477703093,
          1.223642880212177,
          0.835811547517684,
          -1.9416047189095023,
          1.0209035834040083,
          -1.3014432518302246,
          0.9541745862125112,
          -0.4272130687617453,
          -1.0222157852329774,
          -0.28183416434644315,
          -1.2570497039234507,
          0.04750719678875333,
          0.49176992055093344,
          -0.7113589983611227,
          1.7543260318333134,
          0.36914224227737086,
          0.7310662346175594,
          0.6176993277494718,
          2.571811090509869,
          0.3869519696142842,
          0.9717144678765081,
          -0.759355555685107,
          -1.3649911929203533,
          1.025587645804269,
          -1.419560991950135,
          -1.7157191586652238,
          2.398947322575383,
          -1.128045677752533,
          -1.6350856463229864,
          0.36488475451516117,
          -0.9049450091422594,
          0.7338903579787782,
          1.1938403568058797,
          1.0174692575408952
         ],
         "y": [
          -1.879318434737494,
          -0.49376240639959207,
          0.6332852498752116,
          0.05982920481099076,
          -0.45033326574357047,
          0.4780838526561915,
          0.2308646707202015,
          -0.4854975839734933,
          -0.1584023785037026,
          -0.7569330364249099,
          -1.2515830552574734,
          0.1908343665062289,
          -0.27427096038126997,
          -0.16494411658574556,
          1.0458614581281858,
          -0.7058384235612785,
          -1.1008257454485377,
          -0.5171405398885567,
          0.7774689975975859,
          0.1161453633306047,
          -0.7254257020581931,
          0.9997282963094282,
          -1.2175391994439475,
          -0.4032619171768969,
          1.178911179247722,
          -0.912336057384369,
          0.8704923498223446,
          -0.1429929067278444,
          -0.8155297099700727,
          -0.15693239688487548,
          -0.6611259733304673,
          -0.24163226558705464,
          1.9177322073356615,
          -0.17925908171876542,
          0.5625651927892863,
          -0.019120331964386623,
          0.8116619297158044,
          0.3170414557506839,
          0.6343449023308668,
          0.03552622091638352,
          2.149271896386203,
          1.0917890491818028,
          2.10597794808911,
          1.5871791620513425,
          -0.15184848489601235,
          -1.0853796732401266,
          -0.7854456468295216,
          0.10771338015465624,
          0.23000625228123567,
          -0.3115716415815013,
          -0.23648843341717046,
          -0.1759851101684985,
          -0.2470280124499729,
          -0.6557463265401569,
          0.37126719990984497,
          0.9190553436547041,
          0.8414066517645015,
          0.4717402442989092,
          -0.8584748946180241,
          -0.6379745172590058,
          -0.03635803447437388,
          1.2448777768443768,
          -2.3066094376938517,
          -0.7662876287767219,
          -0.054724390833976795,
          -0.5248788430371149,
          0.5926454521392258,
          -0.05721717949569917,
          -1.3801070410731737,
          0.0602725127541095,
          1.21849498916648,
          1.4372290980889477,
          2.543998541586174,
          -1.359347935580105,
          0.7812931470112162,
          0.3111546480607504,
          1.4181147334897954,
          -1.074304103543346,
          0.11768263512512897,
          0.70590446887133,
          -0.08115145651149062,
          0.2816969042936072,
          -0.12729256715473372,
          -0.9235802995434116,
          0.6978291184446651,
          -0.14023362537906392,
          -0.531481976759396,
          -0.18064291032587737,
          -1.3961469533564512,
          0.45294460213610915,
          -0.5523359480249287,
          -1.2284865503087057,
          -0.9839184126739572,
          -0.3422293725130915,
          0.43163349889880115,
          -0.12968252751998702,
          -2.2310079681006187,
          0.9679175488616665,
          -1.1124360640115944,
          0.06462241949051942
         ]
        }
       ],
       "layout": {
        "legend": {
         "bgcolor": "#F5F6F9",
         "font": {
          "color": "#4D5663"
         }
        },
        "paper_bgcolor": "#F5F6F9",
        "plot_bgcolor": "#F5F6F9",
        "template": {
         "data": {
          "bar": [
           {
            "error_x": {
             "color": "#2a3f5f"
            },
            "error_y": {
             "color": "#2a3f5f"
            },
            "marker": {
             "line": {
              "color": "#E5ECF6",
              "width": 0.5
             },
             "pattern": {
              "fillmode": "overlay",
              "size": 10,
              "solidity": 0.2
             }
            },
            "type": "bar"
           }
          ],
          "barpolar": [
           {
            "marker": {
             "line": {
              "color": "#E5ECF6",
              "width": 0.5
             },
             "pattern": {
              "fillmode": "overlay",
              "size": 10,
              "solidity": 0.2
             }
            },
            "type": "barpolar"
           }
          ],
          "carpet": [
           {
            "aaxis": {
             "endlinecolor": "#2a3f5f",
             "gridcolor": "white",
             "linecolor": "white",
             "minorgridcolor": "white",
             "startlinecolor": "#2a3f5f"
            },
            "baxis": {
             "endlinecolor": "#2a3f5f",
             "gridcolor": "white",
             "linecolor": "white",
             "minorgridcolor": "white",
             "startlinecolor": "#2a3f5f"
            },
            "type": "carpet"
           }
          ],
          "choropleth": [
           {
            "colorbar": {
             "outlinewidth": 0,
             "ticks": ""
            },
            "type": "choropleth"
           }
          ],
          "contour": [
           {
            "colorbar": {
             "outlinewidth": 0,
             "ticks": ""
            },
            "colorscale": [
             [
              0,
              "#0d0887"
             ],
             [
              0.1111111111111111,
              "#46039f"
             ],
             [
              0.2222222222222222,
              "#7201a8"
             ],
             [
              0.3333333333333333,
              "#9c179e"
             ],
             [
              0.4444444444444444,
              "#bd3786"
             ],
             [
              0.5555555555555556,
              "#d8576b"
             ],
             [
              0.6666666666666666,
              "#ed7953"
             ],
             [
              0.7777777777777778,
              "#fb9f3a"
             ],
             [
              0.8888888888888888,
              "#fdca26"
             ],
             [
              1,
              "#f0f921"
             ]
            ],
            "type": "contour"
           }
          ],
          "contourcarpet": [
           {
            "colorbar": {
             "outlinewidth": 0,
             "ticks": ""
            },
            "type": "contourcarpet"
           }
          ],
          "heatmap": [
           {
            "colorbar": {
             "outlinewidth": 0,
             "ticks": ""
            },
            "colorscale": [
             [
              0,
              "#0d0887"
             ],
             [
              0.1111111111111111,
              "#46039f"
             ],
             [
              0.2222222222222222,
              "#7201a8"
             ],
             [
              0.3333333333333333,
              "#9c179e"
             ],
             [
              0.4444444444444444,
              "#bd3786"
             ],
             [
              0.5555555555555556,
              "#d8576b"
             ],
             [
              0.6666666666666666,
              "#ed7953"
             ],
             [
              0.7777777777777778,
              "#fb9f3a"
             ],
             [
              0.8888888888888888,
              "#fdca26"
             ],
             [
              1,
              "#f0f921"
             ]
            ],
            "type": "heatmap"
           }
          ],
          "heatmapgl": [
           {
            "colorbar": {
             "outlinewidth": 0,
             "ticks": ""
            },
            "colorscale": [
             [
              0,
              "#0d0887"
             ],
             [
              0.1111111111111111,
              "#46039f"
             ],
             [
              0.2222222222222222,
              "#7201a8"
             ],
             [
              0.3333333333333333,
              "#9c179e"
             ],
             [
              0.4444444444444444,
              "#bd3786"
             ],
             [
              0.5555555555555556,
              "#d8576b"
             ],
             [
              0.6666666666666666,
              "#ed7953"
             ],
             [
              0.7777777777777778,
              "#fb9f3a"
             ],
             [
              0.8888888888888888,
              "#fdca26"
             ],
             [
              1,
              "#f0f921"
             ]
            ],
            "type": "heatmapgl"
           }
          ],
          "histogram": [
           {
            "marker": {
             "pattern": {
              "fillmode": "overlay",
              "size": 10,
              "solidity": 0.2
             }
            },
            "type": "histogram"
           }
          ],
          "histogram2d": [
           {
            "colorbar": {
             "outlinewidth": 0,
             "ticks": ""
            },
            "colorscale": [
             [
              0,
              "#0d0887"
             ],
             [
              0.1111111111111111,
              "#46039f"
             ],
             [
              0.2222222222222222,
              "#7201a8"
             ],
             [
              0.3333333333333333,
              "#9c179e"
             ],
             [
              0.4444444444444444,
              "#bd3786"
             ],
             [
              0.5555555555555556,
              "#d8576b"
             ],
             [
              0.6666666666666666,
              "#ed7953"
             ],
             [
              0.7777777777777778,
              "#fb9f3a"
             ],
             [
              0.8888888888888888,
              "#fdca26"
             ],
             [
              1,
              "#f0f921"
             ]
            ],
            "type": "histogram2d"
           }
          ],
          "histogram2dcontour": [
           {
            "colorbar": {
             "outlinewidth": 0,
             "ticks": ""
            },
            "colorscale": [
             [
              0,
              "#0d0887"
             ],
             [
              0.1111111111111111,
              "#46039f"
             ],
             [
              0.2222222222222222,
              "#7201a8"
             ],
             [
              0.3333333333333333,
              "#9c179e"
             ],
             [
              0.4444444444444444,
              "#bd3786"
             ],
             [
              0.5555555555555556,
              "#d8576b"
             ],
             [
              0.6666666666666666,
              "#ed7953"
             ],
             [
              0.7777777777777778,
              "#fb9f3a"
             ],
             [
              0.8888888888888888,
              "#fdca26"
             ],
             [
              1,
              "#f0f921"
             ]
            ],
            "type": "histogram2dcontour"
           }
          ],
          "mesh3d": [
           {
            "colorbar": {
             "outlinewidth": 0,
             "ticks": ""
            },
            "type": "mesh3d"
           }
          ],
          "parcoords": [
           {
            "line": {
             "colorbar": {
              "outlinewidth": 0,
              "ticks": ""
             }
            },
            "type": "parcoords"
           }
          ],
          "pie": [
           {
            "automargin": true,
            "type": "pie"
           }
          ],
          "scatter": [
           {
            "marker": {
             "colorbar": {
              "outlinewidth": 0,
              "ticks": ""
             }
            },
            "type": "scatter"
           }
          ],
          "scatter3d": [
           {
            "line": {
             "colorbar": {
              "outlinewidth": 0,
              "ticks": ""
             }
            },
            "marker": {
             "colorbar": {
              "outlinewidth": 0,
              "ticks": ""
             }
            },
            "type": "scatter3d"
           }
          ],
          "scattercarpet": [
           {
            "marker": {
             "colorbar": {
              "outlinewidth": 0,
              "ticks": ""
             }
            },
            "type": "scattercarpet"
           }
          ],
          "scattergeo": [
           {
            "marker": {
             "colorbar": {
              "outlinewidth": 0,
              "ticks": ""
             }
            },
            "type": "scattergeo"
           }
          ],
          "scattergl": [
           {
            "marker": {
             "colorbar": {
              "outlinewidth": 0,
              "ticks": ""
             }
            },
            "type": "scattergl"
           }
          ],
          "scattermapbox": [
           {
            "marker": {
             "colorbar": {
              "outlinewidth": 0,
              "ticks": ""
             }
            },
            "type": "scattermapbox"
           }
          ],
          "scatterpolar": [
           {
            "marker": {
             "colorbar": {
              "outlinewidth": 0,
              "ticks": ""
             }
            },
            "type": "scatterpolar"
           }
          ],
          "scatterpolargl": [
           {
            "marker": {
             "colorbar": {
              "outlinewidth": 0,
              "ticks": ""
             }
            },
            "type": "scatterpolargl"
           }
          ],
          "scatterternary": [
           {
            "marker": {
             "colorbar": {
              "outlinewidth": 0,
              "ticks": ""
             }
            },
            "type": "scatterternary"
           }
          ],
          "surface": [
           {
            "colorbar": {
             "outlinewidth": 0,
             "ticks": ""
            },
            "colorscale": [
             [
              0,
              "#0d0887"
             ],
             [
              0.1111111111111111,
              "#46039f"
             ],
             [
              0.2222222222222222,
              "#7201a8"
             ],
             [
              0.3333333333333333,
              "#9c179e"
             ],
             [
              0.4444444444444444,
              "#bd3786"
             ],
             [
              0.5555555555555556,
              "#d8576b"
             ],
             [
              0.6666666666666666,
              "#ed7953"
             ],
             [
              0.7777777777777778,
              "#fb9f3a"
             ],
             [
              0.8888888888888888,
              "#fdca26"
             ],
             [
              1,
              "#f0f921"
             ]
            ],
            "type": "surface"
           }
          ],
          "table": [
           {
            "cells": {
             "fill": {
              "color": "#EBF0F8"
             },
             "line": {
              "color": "white"
             }
            },
            "header": {
             "fill": {
              "color": "#C8D4E3"
             },
             "line": {
              "color": "white"
             }
            },
            "type": "table"
           }
          ]
         },
         "layout": {
          "annotationdefaults": {
           "arrowcolor": "#2a3f5f",
           "arrowhead": 0,
           "arrowwidth": 1
          },
          "autotypenumbers": "strict",
          "coloraxis": {
           "colorbar": {
            "outlinewidth": 0,
            "ticks": ""
           }
          },
          "colorscale": {
           "diverging": [
            [
             0,
             "#8e0152"
            ],
            [
             0.1,
             "#c51b7d"
            ],
            [
             0.2,
             "#de77ae"
            ],
            [
             0.3,
             "#f1b6da"
            ],
            [
             0.4,
             "#fde0ef"
            ],
            [
             0.5,
             "#f7f7f7"
            ],
            [
             0.6,
             "#e6f5d0"
            ],
            [
             0.7,
             "#b8e186"
            ],
            [
             0.8,
             "#7fbc41"
            ],
            [
             0.9,
             "#4d9221"
            ],
            [
             1,
             "#276419"
            ]
           ],
           "sequential": [
            [
             0,
             "#0d0887"
            ],
            [
             0.1111111111111111,
             "#46039f"
            ],
            [
             0.2222222222222222,
             "#7201a8"
            ],
            [
             0.3333333333333333,
             "#9c179e"
            ],
            [
             0.4444444444444444,
             "#bd3786"
            ],
            [
             0.5555555555555556,
             "#d8576b"
            ],
            [
             0.6666666666666666,
             "#ed7953"
            ],
            [
             0.7777777777777778,
             "#fb9f3a"
            ],
            [
             0.8888888888888888,
             "#fdca26"
            ],
            [
             1,
             "#f0f921"
            ]
           ],
           "sequentialminus": [
            [
             0,
             "#0d0887"
            ],
            [
             0.1111111111111111,
             "#46039f"
            ],
            [
             0.2222222222222222,
             "#7201a8"
            ],
            [
             0.3333333333333333,
             "#9c179e"
            ],
            [
             0.4444444444444444,
             "#bd3786"
            ],
            [
             0.5555555555555556,
             "#d8576b"
            ],
            [
             0.6666666666666666,
             "#ed7953"
            ],
            [
             0.7777777777777778,
             "#fb9f3a"
            ],
            [
             0.8888888888888888,
             "#fdca26"
            ],
            [
             1,
             "#f0f921"
            ]
           ]
          },
          "colorway": [
           "#636efa",
           "#EF553B",
           "#00cc96",
           "#ab63fa",
           "#FFA15A",
           "#19d3f3",
           "#FF6692",
           "#B6E880",
           "#FF97FF",
           "#FECB52"
          ],
          "font": {
           "color": "#2a3f5f"
          },
          "geo": {
           "bgcolor": "white",
           "lakecolor": "white",
           "landcolor": "#E5ECF6",
           "showlakes": true,
           "showland": true,
           "subunitcolor": "white"
          },
          "hoverlabel": {
           "align": "left"
          },
          "hovermode": "closest",
          "mapbox": {
           "style": "light"
          },
          "paper_bgcolor": "white",
          "plot_bgcolor": "#E5ECF6",
          "polar": {
           "angularaxis": {
            "gridcolor": "white",
            "linecolor": "white",
            "ticks": ""
           },
           "bgcolor": "#E5ECF6",
           "radialaxis": {
            "gridcolor": "white",
            "linecolor": "white",
            "ticks": ""
           }
          },
          "scene": {
           "xaxis": {
            "backgroundcolor": "#E5ECF6",
            "gridcolor": "white",
            "gridwidth": 2,
            "linecolor": "white",
            "showbackground": true,
            "ticks": "",
            "zerolinecolor": "white"
           },
           "yaxis": {
            "backgroundcolor": "#E5ECF6",
            "gridcolor": "white",
            "gridwidth": 2,
            "linecolor": "white",
            "showbackground": true,
            "ticks": "",
            "zerolinecolor": "white"
           },
           "zaxis": {
            "backgroundcolor": "#E5ECF6",
            "gridcolor": "white",
            "gridwidth": 2,
            "linecolor": "white",
            "showbackground": true,
            "ticks": "",
            "zerolinecolor": "white"
           }
          },
          "shapedefaults": {
           "line": {
            "color": "#2a3f5f"
           }
          },
          "ternary": {
           "aaxis": {
            "gridcolor": "white",
            "linecolor": "white",
            "ticks": ""
           },
           "baxis": {
            "gridcolor": "white",
            "linecolor": "white",
            "ticks": ""
           },
           "bgcolor": "#E5ECF6",
           "caxis": {
            "gridcolor": "white",
            "linecolor": "white",
            "ticks": ""
           }
          },
          "title": {
           "x": 0.05
          },
          "xaxis": {
           "automargin": true,
           "gridcolor": "white",
           "linecolor": "white",
           "ticks": "",
           "title": {
            "standoff": 15
           },
           "zerolinecolor": "white",
           "zerolinewidth": 2
          },
          "yaxis": {
           "automargin": true,
           "gridcolor": "white",
           "linecolor": "white",
           "ticks": "",
           "title": {
            "standoff": 15
           },
           "zerolinecolor": "white",
           "zerolinewidth": 2
          }
         }
        },
        "title": {
         "font": {
          "color": "#4D5663"
         }
        },
        "xaxis": {
         "gridcolor": "#E1E5ED",
         "showgrid": true,
         "tickfont": {
          "color": "#4D5663"
         },
         "title": {
          "font": {
           "color": "#4D5663"
          },
          "text": ""
         },
         "zerolinecolor": "#E1E5ED"
        },
        "yaxis": {
         "gridcolor": "#E1E5ED",
         "showgrid": true,
         "tickfont": {
          "color": "#4D5663"
         },
         "title": {
          "font": {
           "color": "#4D5663"
          },
          "text": ""
         },
         "zerolinecolor": "#E1E5ED"
        }
       }
      },
      "text/html": [
       "<div>                            <div id=\"a12dd1f6-093b-4678-a77f-3adcc9cf1d0b\" class=\"plotly-graph-div\" style=\"height:525px; width:100%;\"></div>            <script type=\"text/javascript\">                require([\"plotly\"], function(Plotly) {                    window.PLOTLYENV=window.PLOTLYENV || {};\n",
       "                    window.PLOTLYENV.BASE_URL='https://plot.ly';                                    if (document.getElementById(\"a12dd1f6-093b-4678-a77f-3adcc9cf1d0b\")) {                    Plotly.newPlot(                        \"a12dd1f6-093b-4678-a77f-3adcc9cf1d0b\",                        [{\"line\":{\"color\":\"rgba(255, 153, 51, 1.0)\",\"dash\":\"solid\",\"shape\":\"linear\",\"width\":1.3},\"marker\":{\"size\":10,\"symbol\":\"circle\"},\"mode\":\"markers\",\"name\":\"B\",\"text\":\"\",\"type\":\"scatter\",\"x\":[1.0306531774627894,-1.2764594295792628,-2.007425835370658,1.1822103084826039,0.35608523117968155,0.27841238683736536,1.1751915700868945,-1.8123684253200218,0.15598217139030196,-0.5033310910133766,-0.5699399931599826,-0.07633533618674429,-2.004031638543584,-1.4131671302924367,1.5132620658210114,-0.09818026933141981,0.5931422343995467,1.0350325401095455,0.8736985428854916,0.1297605827241348,-0.40681515090843073,0.054384987360707994,-1.3777315482312165,-0.3297611876737317,2.3375924671188657,-0.9934026325789047,0.7831313478859588,0.6071592818927777,-1.5272089990095563,0.5439162023233473,1.1433214013625341,0.02363890445662154,0.36324894281452563,1.418692838399726,0.0032313784208553983,0.7376422679377489,-1.3135443305713557,0.2591394467052669,1.8726021333712695,-0.02267342733907837,-0.7117968358970819,-1.3815439752350147,0.5474069882633411,-0.14082838399786934,1.295800241524183,0.16587449002004045,-0.13623801126290602,-0.2841987455277562,-0.02657306813411636,-0.044358228099686814,0.7603630152471096,0.9105796238764517,0.5547276955749623,-1.6920327034935343,1.8012772604158922,1.0957537495842795,0.5278414279740992,-0.2579914977579109,-0.28010895433133803,-1.299882900782398,0.33419777531472783,0.25097425183628885,0.00940578100952716,0.061957118758716886,0.6522371871228492,0.18668169152173955,-1.3704814477703093,1.223642880212177,0.835811547517684,-1.9416047189095023,1.0209035834040083,-1.3014432518302246,0.9541745862125112,-0.4272130687617453,-1.0222157852329774,-0.28183416434644315,-1.2570497039234507,0.04750719678875333,0.49176992055093344,-0.7113589983611227,1.7543260318333134,0.36914224227737086,0.7310662346175594,0.6176993277494718,2.571811090509869,0.3869519696142842,0.9717144678765081,-0.759355555685107,-1.3649911929203533,1.025587645804269,-1.419560991950135,-1.7157191586652238,2.398947322575383,-1.128045677752533,-1.6350856463229864,0.36488475451516117,-0.9049450091422594,0.7338903579787782,1.1938403568058797,1.0174692575408952],\"y\":[-1.879318434737494,-0.49376240639959207,0.6332852498752116,0.05982920481099076,-0.45033326574357047,0.4780838526561915,0.2308646707202015,-0.4854975839734933,-0.1584023785037026,-0.7569330364249099,-1.2515830552574734,0.1908343665062289,-0.27427096038126997,-0.16494411658574556,1.0458614581281858,-0.7058384235612785,-1.1008257454485377,-0.5171405398885567,0.7774689975975859,0.1161453633306047,-0.7254257020581931,0.9997282963094282,-1.2175391994439475,-0.4032619171768969,1.178911179247722,-0.912336057384369,0.8704923498223446,-0.1429929067278444,-0.8155297099700727,-0.15693239688487548,-0.6611259733304673,-0.24163226558705464,1.9177322073356615,-0.17925908171876542,0.5625651927892863,-0.019120331964386623,0.8116619297158044,0.3170414557506839,0.6343449023308668,0.03552622091638352,2.149271896386203,1.0917890491818028,2.10597794808911,1.5871791620513425,-0.15184848489601235,-1.0853796732401266,-0.7854456468295216,0.10771338015465624,0.23000625228123567,-0.3115716415815013,-0.23648843341717046,-0.1759851101684985,-0.2470280124499729,-0.6557463265401569,0.37126719990984497,0.9190553436547041,0.8414066517645015,0.4717402442989092,-0.8584748946180241,-0.6379745172590058,-0.03635803447437388,1.2448777768443768,-2.3066094376938517,-0.7662876287767219,-0.054724390833976795,-0.5248788430371149,0.5926454521392258,-0.05721717949569917,-1.3801070410731737,0.0602725127541095,1.21849498916648,1.4372290980889477,2.543998541586174,-1.359347935580105,0.7812931470112162,0.3111546480607504,1.4181147334897954,-1.074304103543346,0.11768263512512897,0.70590446887133,-0.08115145651149062,0.2816969042936072,-0.12729256715473372,-0.9235802995434116,0.6978291184446651,-0.14023362537906392,-0.531481976759396,-0.18064291032587737,-1.3961469533564512,0.45294460213610915,-0.5523359480249287,-1.2284865503087057,-0.9839184126739572,-0.3422293725130915,0.43163349889880115,-0.12968252751998702,-2.2310079681006187,0.9679175488616665,-1.1124360640115944,0.06462241949051942]}],                        {\"legend\":{\"bgcolor\":\"#F5F6F9\",\"font\":{\"color\":\"#4D5663\"}},\"paper_bgcolor\":\"#F5F6F9\",\"plot_bgcolor\":\"#F5F6F9\",\"template\":{\"data\":{\"bar\":[{\"error_x\":{\"color\":\"#2a3f5f\"},\"error_y\":{\"color\":\"#2a3f5f\"},\"marker\":{\"line\":{\"color\":\"#E5ECF6\",\"width\":0.5},\"pattern\":{\"fillmode\":\"overlay\",\"size\":10,\"solidity\":0.2}},\"type\":\"bar\"}],\"barpolar\":[{\"marker\":{\"line\":{\"color\":\"#E5ECF6\",\"width\":0.5},\"pattern\":{\"fillmode\":\"overlay\",\"size\":10,\"solidity\":0.2}},\"type\":\"barpolar\"}],\"carpet\":[{\"aaxis\":{\"endlinecolor\":\"#2a3f5f\",\"gridcolor\":\"white\",\"linecolor\":\"white\",\"minorgridcolor\":\"white\",\"startlinecolor\":\"#2a3f5f\"},\"baxis\":{\"endlinecolor\":\"#2a3f5f\",\"gridcolor\":\"white\",\"linecolor\":\"white\",\"minorgridcolor\":\"white\",\"startlinecolor\":\"#2a3f5f\"},\"type\":\"carpet\"}],\"choropleth\":[{\"colorbar\":{\"outlinewidth\":0,\"ticks\":\"\"},\"type\":\"choropleth\"}],\"contour\":[{\"colorbar\":{\"outlinewidth\":0,\"ticks\":\"\"},\"colorscale\":[[0.0,\"#0d0887\"],[0.1111111111111111,\"#46039f\"],[0.2222222222222222,\"#7201a8\"],[0.3333333333333333,\"#9c179e\"],[0.4444444444444444,\"#bd3786\"],[0.5555555555555556,\"#d8576b\"],[0.6666666666666666,\"#ed7953\"],[0.7777777777777778,\"#fb9f3a\"],[0.8888888888888888,\"#fdca26\"],[1.0,\"#f0f921\"]],\"type\":\"contour\"}],\"contourcarpet\":[{\"colorbar\":{\"outlinewidth\":0,\"ticks\":\"\"},\"type\":\"contourcarpet\"}],\"heatmap\":[{\"colorbar\":{\"outlinewidth\":0,\"ticks\":\"\"},\"colorscale\":[[0.0,\"#0d0887\"],[0.1111111111111111,\"#46039f\"],[0.2222222222222222,\"#7201a8\"],[0.3333333333333333,\"#9c179e\"],[0.4444444444444444,\"#bd3786\"],[0.5555555555555556,\"#d8576b\"],[0.6666666666666666,\"#ed7953\"],[0.7777777777777778,\"#fb9f3a\"],[0.8888888888888888,\"#fdca26\"],[1.0,\"#f0f921\"]],\"type\":\"heatmap\"}],\"heatmapgl\":[{\"colorbar\":{\"outlinewidth\":0,\"ticks\":\"\"},\"colorscale\":[[0.0,\"#0d0887\"],[0.1111111111111111,\"#46039f\"],[0.2222222222222222,\"#7201a8\"],[0.3333333333333333,\"#9c179e\"],[0.4444444444444444,\"#bd3786\"],[0.5555555555555556,\"#d8576b\"],[0.6666666666666666,\"#ed7953\"],[0.7777777777777778,\"#fb9f3a\"],[0.8888888888888888,\"#fdca26\"],[1.0,\"#f0f921\"]],\"type\":\"heatmapgl\"}],\"histogram\":[{\"marker\":{\"pattern\":{\"fillmode\":\"overlay\",\"size\":10,\"solidity\":0.2}},\"type\":\"histogram\"}],\"histogram2d\":[{\"colorbar\":{\"outlinewidth\":0,\"ticks\":\"\"},\"colorscale\":[[0.0,\"#0d0887\"],[0.1111111111111111,\"#46039f\"],[0.2222222222222222,\"#7201a8\"],[0.3333333333333333,\"#9c179e\"],[0.4444444444444444,\"#bd3786\"],[0.5555555555555556,\"#d8576b\"],[0.6666666666666666,\"#ed7953\"],[0.7777777777777778,\"#fb9f3a\"],[0.8888888888888888,\"#fdca26\"],[1.0,\"#f0f921\"]],\"type\":\"histogram2d\"}],\"histogram2dcontour\":[{\"colorbar\":{\"outlinewidth\":0,\"ticks\":\"\"},\"colorscale\":[[0.0,\"#0d0887\"],[0.1111111111111111,\"#46039f\"],[0.2222222222222222,\"#7201a8\"],[0.3333333333333333,\"#9c179e\"],[0.4444444444444444,\"#bd3786\"],[0.5555555555555556,\"#d8576b\"],[0.6666666666666666,\"#ed7953\"],[0.7777777777777778,\"#fb9f3a\"],[0.8888888888888888,\"#fdca26\"],[1.0,\"#f0f921\"]],\"type\":\"histogram2dcontour\"}],\"mesh3d\":[{\"colorbar\":{\"outlinewidth\":0,\"ticks\":\"\"},\"type\":\"mesh3d\"}],\"parcoords\":[{\"line\":{\"colorbar\":{\"outlinewidth\":0,\"ticks\":\"\"}},\"type\":\"parcoords\"}],\"pie\":[{\"automargin\":true,\"type\":\"pie\"}],\"scatter\":[{\"marker\":{\"colorbar\":{\"outlinewidth\":0,\"ticks\":\"\"}},\"type\":\"scatter\"}],\"scatter3d\":[{\"line\":{\"colorbar\":{\"outlinewidth\":0,\"ticks\":\"\"}},\"marker\":{\"colorbar\":{\"outlinewidth\":0,\"ticks\":\"\"}},\"type\":\"scatter3d\"}],\"scattercarpet\":[{\"marker\":{\"colorbar\":{\"outlinewidth\":0,\"ticks\":\"\"}},\"type\":\"scattercarpet\"}],\"scattergeo\":[{\"marker\":{\"colorbar\":{\"outlinewidth\":0,\"ticks\":\"\"}},\"type\":\"scattergeo\"}],\"scattergl\":[{\"marker\":{\"colorbar\":{\"outlinewidth\":0,\"ticks\":\"\"}},\"type\":\"scattergl\"}],\"scattermapbox\":[{\"marker\":{\"colorbar\":{\"outlinewidth\":0,\"ticks\":\"\"}},\"type\":\"scattermapbox\"}],\"scatterpolar\":[{\"marker\":{\"colorbar\":{\"outlinewidth\":0,\"ticks\":\"\"}},\"type\":\"scatterpolar\"}],\"scatterpolargl\":[{\"marker\":{\"colorbar\":{\"outlinewidth\":0,\"ticks\":\"\"}},\"type\":\"scatterpolargl\"}],\"scatterternary\":[{\"marker\":{\"colorbar\":{\"outlinewidth\":0,\"ticks\":\"\"}},\"type\":\"scatterternary\"}],\"surface\":[{\"colorbar\":{\"outlinewidth\":0,\"ticks\":\"\"},\"colorscale\":[[0.0,\"#0d0887\"],[0.1111111111111111,\"#46039f\"],[0.2222222222222222,\"#7201a8\"],[0.3333333333333333,\"#9c179e\"],[0.4444444444444444,\"#bd3786\"],[0.5555555555555556,\"#d8576b\"],[0.6666666666666666,\"#ed7953\"],[0.7777777777777778,\"#fb9f3a\"],[0.8888888888888888,\"#fdca26\"],[1.0,\"#f0f921\"]],\"type\":\"surface\"}],\"table\":[{\"cells\":{\"fill\":{\"color\":\"#EBF0F8\"},\"line\":{\"color\":\"white\"}},\"header\":{\"fill\":{\"color\":\"#C8D4E3\"},\"line\":{\"color\":\"white\"}},\"type\":\"table\"}]},\"layout\":{\"annotationdefaults\":{\"arrowcolor\":\"#2a3f5f\",\"arrowhead\":0,\"arrowwidth\":1},\"autotypenumbers\":\"strict\",\"coloraxis\":{\"colorbar\":{\"outlinewidth\":0,\"ticks\":\"\"}},\"colorscale\":{\"diverging\":[[0,\"#8e0152\"],[0.1,\"#c51b7d\"],[0.2,\"#de77ae\"],[0.3,\"#f1b6da\"],[0.4,\"#fde0ef\"],[0.5,\"#f7f7f7\"],[0.6,\"#e6f5d0\"],[0.7,\"#b8e186\"],[0.8,\"#7fbc41\"],[0.9,\"#4d9221\"],[1,\"#276419\"]],\"sequential\":[[0.0,\"#0d0887\"],[0.1111111111111111,\"#46039f\"],[0.2222222222222222,\"#7201a8\"],[0.3333333333333333,\"#9c179e\"],[0.4444444444444444,\"#bd3786\"],[0.5555555555555556,\"#d8576b\"],[0.6666666666666666,\"#ed7953\"],[0.7777777777777778,\"#fb9f3a\"],[0.8888888888888888,\"#fdca26\"],[1.0,\"#f0f921\"]],\"sequentialminus\":[[0.0,\"#0d0887\"],[0.1111111111111111,\"#46039f\"],[0.2222222222222222,\"#7201a8\"],[0.3333333333333333,\"#9c179e\"],[0.4444444444444444,\"#bd3786\"],[0.5555555555555556,\"#d8576b\"],[0.6666666666666666,\"#ed7953\"],[0.7777777777777778,\"#fb9f3a\"],[0.8888888888888888,\"#fdca26\"],[1.0,\"#f0f921\"]]},\"colorway\":[\"#636efa\",\"#EF553B\",\"#00cc96\",\"#ab63fa\",\"#FFA15A\",\"#19d3f3\",\"#FF6692\",\"#B6E880\",\"#FF97FF\",\"#FECB52\"],\"font\":{\"color\":\"#2a3f5f\"},\"geo\":{\"bgcolor\":\"white\",\"lakecolor\":\"white\",\"landcolor\":\"#E5ECF6\",\"showlakes\":true,\"showland\":true,\"subunitcolor\":\"white\"},\"hoverlabel\":{\"align\":\"left\"},\"hovermode\":\"closest\",\"mapbox\":{\"style\":\"light\"},\"paper_bgcolor\":\"white\",\"plot_bgcolor\":\"#E5ECF6\",\"polar\":{\"angularaxis\":{\"gridcolor\":\"white\",\"linecolor\":\"white\",\"ticks\":\"\"},\"bgcolor\":\"#E5ECF6\",\"radialaxis\":{\"gridcolor\":\"white\",\"linecolor\":\"white\",\"ticks\":\"\"}},\"scene\":{\"xaxis\":{\"backgroundcolor\":\"#E5ECF6\",\"gridcolor\":\"white\",\"gridwidth\":2,\"linecolor\":\"white\",\"showbackground\":true,\"ticks\":\"\",\"zerolinecolor\":\"white\"},\"yaxis\":{\"backgroundcolor\":\"#E5ECF6\",\"gridcolor\":\"white\",\"gridwidth\":2,\"linecolor\":\"white\",\"showbackground\":true,\"ticks\":\"\",\"zerolinecolor\":\"white\"},\"zaxis\":{\"backgroundcolor\":\"#E5ECF6\",\"gridcolor\":\"white\",\"gridwidth\":2,\"linecolor\":\"white\",\"showbackground\":true,\"ticks\":\"\",\"zerolinecolor\":\"white\"}},\"shapedefaults\":{\"line\":{\"color\":\"#2a3f5f\"}},\"ternary\":{\"aaxis\":{\"gridcolor\":\"white\",\"linecolor\":\"white\",\"ticks\":\"\"},\"baxis\":{\"gridcolor\":\"white\",\"linecolor\":\"white\",\"ticks\":\"\"},\"bgcolor\":\"#E5ECF6\",\"caxis\":{\"gridcolor\":\"white\",\"linecolor\":\"white\",\"ticks\":\"\"}},\"title\":{\"x\":0.05},\"xaxis\":{\"automargin\":true,\"gridcolor\":\"white\",\"linecolor\":\"white\",\"ticks\":\"\",\"title\":{\"standoff\":15},\"zerolinecolor\":\"white\",\"zerolinewidth\":2},\"yaxis\":{\"automargin\":true,\"gridcolor\":\"white\",\"linecolor\":\"white\",\"ticks\":\"\",\"title\":{\"standoff\":15},\"zerolinecolor\":\"white\",\"zerolinewidth\":2}}},\"title\":{\"font\":{\"color\":\"#4D5663\"}},\"xaxis\":{\"gridcolor\":\"#E1E5ED\",\"showgrid\":true,\"tickfont\":{\"color\":\"#4D5663\"},\"title\":{\"font\":{\"color\":\"#4D5663\"},\"text\":\"\"},\"zerolinecolor\":\"#E1E5ED\"},\"yaxis\":{\"gridcolor\":\"#E1E5ED\",\"showgrid\":true,\"tickfont\":{\"color\":\"#4D5663\"},\"title\":{\"font\":{\"color\":\"#4D5663\"},\"text\":\"\"},\"zerolinecolor\":\"#E1E5ED\"}},                        {\"showLink\": true, \"linkText\": \"Export to plot.ly\", \"plotlyServerURL\": \"https://plot.ly\", \"responsive\": true}                    ).then(function(){\n",
       "                            \n",
       "var gd = document.getElementById('a12dd1f6-093b-4678-a77f-3adcc9cf1d0b');\n",
       "var x = new MutationObserver(function (mutations, observer) {{\n",
       "        var display = window.getComputedStyle(gd).display;\n",
       "        if (!display || display === 'none') {{\n",
       "            console.log([gd, 'removed!']);\n",
       "            Plotly.purge(gd);\n",
       "            observer.disconnect();\n",
       "        }}\n",
       "}});\n",
       "\n",
       "// Listen for the removal of the full notebook cells\n",
       "var notebookContainer = gd.closest('#notebook-container');\n",
       "if (notebookContainer) {{\n",
       "    x.observe(notebookContainer, {childList: true});\n",
       "}}\n",
       "\n",
       "// Listen for the clearing of the current output cell\n",
       "var outputEl = gd.closest('.output');\n",
       "if (outputEl) {{\n",
       "    x.observe(outputEl, {childList: true});\n",
       "}}\n",
       "\n",
       "                        })                };                });            </script>        </div>"
      ]
     },
     "metadata": {},
     "output_type": "display_data"
    }
   ],
   "source": [
    "df.iplot(kind='scatter',x='A',y='B',mode='markers',size=10)"
   ]
  },
  {
   "cell_type": "markdown",
   "metadata": {
    "id": "YQrLQJRRJLzZ"
   },
   "source": [
    "## Bar Plots"
   ]
  },
  {
   "cell_type": "code",
   "execution_count": 13,
   "metadata": {
    "colab": {
     "base_uri": "https://localhost:8080/",
     "height": 542
    },
    "id": "mLiZGkG2JLzZ",
    "outputId": "0d742a1b-e236-47ba-ea17-0bc62ee3063f"
   },
   "outputs": [
    {
     "data": {
      "application/vnd.plotly.v1+json": {
       "config": {
        "linkText": "Export to plot.ly",
        "plotlyServerURL": "https://plot.ly",
        "showLink": true
       },
       "data": [
        {
         "marker": {
          "color": "rgba(255, 153, 51, 0.6)",
          "line": {
           "color": "rgba(255, 153, 51, 1.0)",
           "width": 1
          }
         },
         "name": "Values",
         "orientation": "v",
         "text": "",
         "type": "bar",
         "x": [
          "A",
          "B",
          "C"
         ],
         "y": [
          32,
          43,
          50
         ]
        }
       ],
       "layout": {
        "legend": {
         "bgcolor": "#F5F6F9",
         "font": {
          "color": "#4D5663"
         }
        },
        "paper_bgcolor": "#F5F6F9",
        "plot_bgcolor": "#F5F6F9",
        "template": {
         "data": {
          "bar": [
           {
            "error_x": {
             "color": "#2a3f5f"
            },
            "error_y": {
             "color": "#2a3f5f"
            },
            "marker": {
             "line": {
              "color": "#E5ECF6",
              "width": 0.5
             },
             "pattern": {
              "fillmode": "overlay",
              "size": 10,
              "solidity": 0.2
             }
            },
            "type": "bar"
           }
          ],
          "barpolar": [
           {
            "marker": {
             "line": {
              "color": "#E5ECF6",
              "width": 0.5
             },
             "pattern": {
              "fillmode": "overlay",
              "size": 10,
              "solidity": 0.2
             }
            },
            "type": "barpolar"
           }
          ],
          "carpet": [
           {
            "aaxis": {
             "endlinecolor": "#2a3f5f",
             "gridcolor": "white",
             "linecolor": "white",
             "minorgridcolor": "white",
             "startlinecolor": "#2a3f5f"
            },
            "baxis": {
             "endlinecolor": "#2a3f5f",
             "gridcolor": "white",
             "linecolor": "white",
             "minorgridcolor": "white",
             "startlinecolor": "#2a3f5f"
            },
            "type": "carpet"
           }
          ],
          "choropleth": [
           {
            "colorbar": {
             "outlinewidth": 0,
             "ticks": ""
            },
            "type": "choropleth"
           }
          ],
          "contour": [
           {
            "colorbar": {
             "outlinewidth": 0,
             "ticks": ""
            },
            "colorscale": [
             [
              0,
              "#0d0887"
             ],
             [
              0.1111111111111111,
              "#46039f"
             ],
             [
              0.2222222222222222,
              "#7201a8"
             ],
             [
              0.3333333333333333,
              "#9c179e"
             ],
             [
              0.4444444444444444,
              "#bd3786"
             ],
             [
              0.5555555555555556,
              "#d8576b"
             ],
             [
              0.6666666666666666,
              "#ed7953"
             ],
             [
              0.7777777777777778,
              "#fb9f3a"
             ],
             [
              0.8888888888888888,
              "#fdca26"
             ],
             [
              1,
              "#f0f921"
             ]
            ],
            "type": "contour"
           }
          ],
          "contourcarpet": [
           {
            "colorbar": {
             "outlinewidth": 0,
             "ticks": ""
            },
            "type": "contourcarpet"
           }
          ],
          "heatmap": [
           {
            "colorbar": {
             "outlinewidth": 0,
             "ticks": ""
            },
            "colorscale": [
             [
              0,
              "#0d0887"
             ],
             [
              0.1111111111111111,
              "#46039f"
             ],
             [
              0.2222222222222222,
              "#7201a8"
             ],
             [
              0.3333333333333333,
              "#9c179e"
             ],
             [
              0.4444444444444444,
              "#bd3786"
             ],
             [
              0.5555555555555556,
              "#d8576b"
             ],
             [
              0.6666666666666666,
              "#ed7953"
             ],
             [
              0.7777777777777778,
              "#fb9f3a"
             ],
             [
              0.8888888888888888,
              "#fdca26"
             ],
             [
              1,
              "#f0f921"
             ]
            ],
            "type": "heatmap"
           }
          ],
          "heatmapgl": [
           {
            "colorbar": {
             "outlinewidth": 0,
             "ticks": ""
            },
            "colorscale": [
             [
              0,
              "#0d0887"
             ],
             [
              0.1111111111111111,
              "#46039f"
             ],
             [
              0.2222222222222222,
              "#7201a8"
             ],
             [
              0.3333333333333333,
              "#9c179e"
             ],
             [
              0.4444444444444444,
              "#bd3786"
             ],
             [
              0.5555555555555556,
              "#d8576b"
             ],
             [
              0.6666666666666666,
              "#ed7953"
             ],
             [
              0.7777777777777778,
              "#fb9f3a"
             ],
             [
              0.8888888888888888,
              "#fdca26"
             ],
             [
              1,
              "#f0f921"
             ]
            ],
            "type": "heatmapgl"
           }
          ],
          "histogram": [
           {
            "marker": {
             "pattern": {
              "fillmode": "overlay",
              "size": 10,
              "solidity": 0.2
             }
            },
            "type": "histogram"
           }
          ],
          "histogram2d": [
           {
            "colorbar": {
             "outlinewidth": 0,
             "ticks": ""
            },
            "colorscale": [
             [
              0,
              "#0d0887"
             ],
             [
              0.1111111111111111,
              "#46039f"
             ],
             [
              0.2222222222222222,
              "#7201a8"
             ],
             [
              0.3333333333333333,
              "#9c179e"
             ],
             [
              0.4444444444444444,
              "#bd3786"
             ],
             [
              0.5555555555555556,
              "#d8576b"
             ],
             [
              0.6666666666666666,
              "#ed7953"
             ],
             [
              0.7777777777777778,
              "#fb9f3a"
             ],
             [
              0.8888888888888888,
              "#fdca26"
             ],
             [
              1,
              "#f0f921"
             ]
            ],
            "type": "histogram2d"
           }
          ],
          "histogram2dcontour": [
           {
            "colorbar": {
             "outlinewidth": 0,
             "ticks": ""
            },
            "colorscale": [
             [
              0,
              "#0d0887"
             ],
             [
              0.1111111111111111,
              "#46039f"
             ],
             [
              0.2222222222222222,
              "#7201a8"
             ],
             [
              0.3333333333333333,
              "#9c179e"
             ],
             [
              0.4444444444444444,
              "#bd3786"
             ],
             [
              0.5555555555555556,
              "#d8576b"
             ],
             [
              0.6666666666666666,
              "#ed7953"
             ],
             [
              0.7777777777777778,
              "#fb9f3a"
             ],
             [
              0.8888888888888888,
              "#fdca26"
             ],
             [
              1,
              "#f0f921"
             ]
            ],
            "type": "histogram2dcontour"
           }
          ],
          "mesh3d": [
           {
            "colorbar": {
             "outlinewidth": 0,
             "ticks": ""
            },
            "type": "mesh3d"
           }
          ],
          "parcoords": [
           {
            "line": {
             "colorbar": {
              "outlinewidth": 0,
              "ticks": ""
             }
            },
            "type": "parcoords"
           }
          ],
          "pie": [
           {
            "automargin": true,
            "type": "pie"
           }
          ],
          "scatter": [
           {
            "marker": {
             "colorbar": {
              "outlinewidth": 0,
              "ticks": ""
             }
            },
            "type": "scatter"
           }
          ],
          "scatter3d": [
           {
            "line": {
             "colorbar": {
              "outlinewidth": 0,
              "ticks": ""
             }
            },
            "marker": {
             "colorbar": {
              "outlinewidth": 0,
              "ticks": ""
             }
            },
            "type": "scatter3d"
           }
          ],
          "scattercarpet": [
           {
            "marker": {
             "colorbar": {
              "outlinewidth": 0,
              "ticks": ""
             }
            },
            "type": "scattercarpet"
           }
          ],
          "scattergeo": [
           {
            "marker": {
             "colorbar": {
              "outlinewidth": 0,
              "ticks": ""
             }
            },
            "type": "scattergeo"
           }
          ],
          "scattergl": [
           {
            "marker": {
             "colorbar": {
              "outlinewidth": 0,
              "ticks": ""
             }
            },
            "type": "scattergl"
           }
          ],
          "scattermapbox": [
           {
            "marker": {
             "colorbar": {
              "outlinewidth": 0,
              "ticks": ""
             }
            },
            "type": "scattermapbox"
           }
          ],
          "scatterpolar": [
           {
            "marker": {
             "colorbar": {
              "outlinewidth": 0,
              "ticks": ""
             }
            },
            "type": "scatterpolar"
           }
          ],
          "scatterpolargl": [
           {
            "marker": {
             "colorbar": {
              "outlinewidth": 0,
              "ticks": ""
             }
            },
            "type": "scatterpolargl"
           }
          ],
          "scatterternary": [
           {
            "marker": {
             "colorbar": {
              "outlinewidth": 0,
              "ticks": ""
             }
            },
            "type": "scatterternary"
           }
          ],
          "surface": [
           {
            "colorbar": {
             "outlinewidth": 0,
             "ticks": ""
            },
            "colorscale": [
             [
              0,
              "#0d0887"
             ],
             [
              0.1111111111111111,
              "#46039f"
             ],
             [
              0.2222222222222222,
              "#7201a8"
             ],
             [
              0.3333333333333333,
              "#9c179e"
             ],
             [
              0.4444444444444444,
              "#bd3786"
             ],
             [
              0.5555555555555556,
              "#d8576b"
             ],
             [
              0.6666666666666666,
              "#ed7953"
             ],
             [
              0.7777777777777778,
              "#fb9f3a"
             ],
             [
              0.8888888888888888,
              "#fdca26"
             ],
             [
              1,
              "#f0f921"
             ]
            ],
            "type": "surface"
           }
          ],
          "table": [
           {
            "cells": {
             "fill": {
              "color": "#EBF0F8"
             },
             "line": {
              "color": "white"
             }
            },
            "header": {
             "fill": {
              "color": "#C8D4E3"
             },
             "line": {
              "color": "white"
             }
            },
            "type": "table"
           }
          ]
         },
         "layout": {
          "annotationdefaults": {
           "arrowcolor": "#2a3f5f",
           "arrowhead": 0,
           "arrowwidth": 1
          },
          "autotypenumbers": "strict",
          "coloraxis": {
           "colorbar": {
            "outlinewidth": 0,
            "ticks": ""
           }
          },
          "colorscale": {
           "diverging": [
            [
             0,
             "#8e0152"
            ],
            [
             0.1,
             "#c51b7d"
            ],
            [
             0.2,
             "#de77ae"
            ],
            [
             0.3,
             "#f1b6da"
            ],
            [
             0.4,
             "#fde0ef"
            ],
            [
             0.5,
             "#f7f7f7"
            ],
            [
             0.6,
             "#e6f5d0"
            ],
            [
             0.7,
             "#b8e186"
            ],
            [
             0.8,
             "#7fbc41"
            ],
            [
             0.9,
             "#4d9221"
            ],
            [
             1,
             "#276419"
            ]
           ],
           "sequential": [
            [
             0,
             "#0d0887"
            ],
            [
             0.1111111111111111,
             "#46039f"
            ],
            [
             0.2222222222222222,
             "#7201a8"
            ],
            [
             0.3333333333333333,
             "#9c179e"
            ],
            [
             0.4444444444444444,
             "#bd3786"
            ],
            [
             0.5555555555555556,
             "#d8576b"
            ],
            [
             0.6666666666666666,
             "#ed7953"
            ],
            [
             0.7777777777777778,
             "#fb9f3a"
            ],
            [
             0.8888888888888888,
             "#fdca26"
            ],
            [
             1,
             "#f0f921"
            ]
           ],
           "sequentialminus": [
            [
             0,
             "#0d0887"
            ],
            [
             0.1111111111111111,
             "#46039f"
            ],
            [
             0.2222222222222222,
             "#7201a8"
            ],
            [
             0.3333333333333333,
             "#9c179e"
            ],
            [
             0.4444444444444444,
             "#bd3786"
            ],
            [
             0.5555555555555556,
             "#d8576b"
            ],
            [
             0.6666666666666666,
             "#ed7953"
            ],
            [
             0.7777777777777778,
             "#fb9f3a"
            ],
            [
             0.8888888888888888,
             "#fdca26"
            ],
            [
             1,
             "#f0f921"
            ]
           ]
          },
          "colorway": [
           "#636efa",
           "#EF553B",
           "#00cc96",
           "#ab63fa",
           "#FFA15A",
           "#19d3f3",
           "#FF6692",
           "#B6E880",
           "#FF97FF",
           "#FECB52"
          ],
          "font": {
           "color": "#2a3f5f"
          },
          "geo": {
           "bgcolor": "white",
           "lakecolor": "white",
           "landcolor": "#E5ECF6",
           "showlakes": true,
           "showland": true,
           "subunitcolor": "white"
          },
          "hoverlabel": {
           "align": "left"
          },
          "hovermode": "closest",
          "mapbox": {
           "style": "light"
          },
          "paper_bgcolor": "white",
          "plot_bgcolor": "#E5ECF6",
          "polar": {
           "angularaxis": {
            "gridcolor": "white",
            "linecolor": "white",
            "ticks": ""
           },
           "bgcolor": "#E5ECF6",
           "radialaxis": {
            "gridcolor": "white",
            "linecolor": "white",
            "ticks": ""
           }
          },
          "scene": {
           "xaxis": {
            "backgroundcolor": "#E5ECF6",
            "gridcolor": "white",
            "gridwidth": 2,
            "linecolor": "white",
            "showbackground": true,
            "ticks": "",
            "zerolinecolor": "white"
           },
           "yaxis": {
            "backgroundcolor": "#E5ECF6",
            "gridcolor": "white",
            "gridwidth": 2,
            "linecolor": "white",
            "showbackground": true,
            "ticks": "",
            "zerolinecolor": "white"
           },
           "zaxis": {
            "backgroundcolor": "#E5ECF6",
            "gridcolor": "white",
            "gridwidth": 2,
            "linecolor": "white",
            "showbackground": true,
            "ticks": "",
            "zerolinecolor": "white"
           }
          },
          "shapedefaults": {
           "line": {
            "color": "#2a3f5f"
           }
          },
          "ternary": {
           "aaxis": {
            "gridcolor": "white",
            "linecolor": "white",
            "ticks": ""
           },
           "baxis": {
            "gridcolor": "white",
            "linecolor": "white",
            "ticks": ""
           },
           "bgcolor": "#E5ECF6",
           "caxis": {
            "gridcolor": "white",
            "linecolor": "white",
            "ticks": ""
           }
          },
          "title": {
           "x": 0.05
          },
          "xaxis": {
           "automargin": true,
           "gridcolor": "white",
           "linecolor": "white",
           "ticks": "",
           "title": {
            "standoff": 15
           },
           "zerolinecolor": "white",
           "zerolinewidth": 2
          },
          "yaxis": {
           "automargin": true,
           "gridcolor": "white",
           "linecolor": "white",
           "ticks": "",
           "title": {
            "standoff": 15
           },
           "zerolinecolor": "white",
           "zerolinewidth": 2
          }
         }
        },
        "title": {
         "font": {
          "color": "#4D5663"
         }
        },
        "xaxis": {
         "gridcolor": "#E1E5ED",
         "showgrid": true,
         "tickfont": {
          "color": "#4D5663"
         },
         "title": {
          "font": {
           "color": "#4D5663"
          },
          "text": ""
         },
         "zerolinecolor": "#E1E5ED"
        },
        "yaxis": {
         "gridcolor": "#E1E5ED",
         "showgrid": true,
         "tickfont": {
          "color": "#4D5663"
         },
         "title": {
          "font": {
           "color": "#4D5663"
          },
          "text": ""
         },
         "zerolinecolor": "#E1E5ED"
        }
       }
      },
      "text/html": [
       "<div>                            <div id=\"b2d95930-50cd-443f-b454-f95aa7bc2b59\" class=\"plotly-graph-div\" style=\"height:525px; width:100%;\"></div>            <script type=\"text/javascript\">                require([\"plotly\"], function(Plotly) {                    window.PLOTLYENV=window.PLOTLYENV || {};\n",
       "                    window.PLOTLYENV.BASE_URL='https://plot.ly';                                    if (document.getElementById(\"b2d95930-50cd-443f-b454-f95aa7bc2b59\")) {                    Plotly.newPlot(                        \"b2d95930-50cd-443f-b454-f95aa7bc2b59\",                        [{\"marker\":{\"color\":\"rgba(255, 153, 51, 0.6)\",\"line\":{\"color\":\"rgba(255, 153, 51, 1.0)\",\"width\":1}},\"name\":\"Values\",\"orientation\":\"v\",\"text\":\"\",\"type\":\"bar\",\"x\":[\"A\",\"B\",\"C\"],\"y\":[32,43,50]}],                        {\"legend\":{\"bgcolor\":\"#F5F6F9\",\"font\":{\"color\":\"#4D5663\"}},\"paper_bgcolor\":\"#F5F6F9\",\"plot_bgcolor\":\"#F5F6F9\",\"template\":{\"data\":{\"bar\":[{\"error_x\":{\"color\":\"#2a3f5f\"},\"error_y\":{\"color\":\"#2a3f5f\"},\"marker\":{\"line\":{\"color\":\"#E5ECF6\",\"width\":0.5},\"pattern\":{\"fillmode\":\"overlay\",\"size\":10,\"solidity\":0.2}},\"type\":\"bar\"}],\"barpolar\":[{\"marker\":{\"line\":{\"color\":\"#E5ECF6\",\"width\":0.5},\"pattern\":{\"fillmode\":\"overlay\",\"size\":10,\"solidity\":0.2}},\"type\":\"barpolar\"}],\"carpet\":[{\"aaxis\":{\"endlinecolor\":\"#2a3f5f\",\"gridcolor\":\"white\",\"linecolor\":\"white\",\"minorgridcolor\":\"white\",\"startlinecolor\":\"#2a3f5f\"},\"baxis\":{\"endlinecolor\":\"#2a3f5f\",\"gridcolor\":\"white\",\"linecolor\":\"white\",\"minorgridcolor\":\"white\",\"startlinecolor\":\"#2a3f5f\"},\"type\":\"carpet\"}],\"choropleth\":[{\"colorbar\":{\"outlinewidth\":0,\"ticks\":\"\"},\"type\":\"choropleth\"}],\"contour\":[{\"colorbar\":{\"outlinewidth\":0,\"ticks\":\"\"},\"colorscale\":[[0.0,\"#0d0887\"],[0.1111111111111111,\"#46039f\"],[0.2222222222222222,\"#7201a8\"],[0.3333333333333333,\"#9c179e\"],[0.4444444444444444,\"#bd3786\"],[0.5555555555555556,\"#d8576b\"],[0.6666666666666666,\"#ed7953\"],[0.7777777777777778,\"#fb9f3a\"],[0.8888888888888888,\"#fdca26\"],[1.0,\"#f0f921\"]],\"type\":\"contour\"}],\"contourcarpet\":[{\"colorbar\":{\"outlinewidth\":0,\"ticks\":\"\"},\"type\":\"contourcarpet\"}],\"heatmap\":[{\"colorbar\":{\"outlinewidth\":0,\"ticks\":\"\"},\"colorscale\":[[0.0,\"#0d0887\"],[0.1111111111111111,\"#46039f\"],[0.2222222222222222,\"#7201a8\"],[0.3333333333333333,\"#9c179e\"],[0.4444444444444444,\"#bd3786\"],[0.5555555555555556,\"#d8576b\"],[0.6666666666666666,\"#ed7953\"],[0.7777777777777778,\"#fb9f3a\"],[0.8888888888888888,\"#fdca26\"],[1.0,\"#f0f921\"]],\"type\":\"heatmap\"}],\"heatmapgl\":[{\"colorbar\":{\"outlinewidth\":0,\"ticks\":\"\"},\"colorscale\":[[0.0,\"#0d0887\"],[0.1111111111111111,\"#46039f\"],[0.2222222222222222,\"#7201a8\"],[0.3333333333333333,\"#9c179e\"],[0.4444444444444444,\"#bd3786\"],[0.5555555555555556,\"#d8576b\"],[0.6666666666666666,\"#ed7953\"],[0.7777777777777778,\"#fb9f3a\"],[0.8888888888888888,\"#fdca26\"],[1.0,\"#f0f921\"]],\"type\":\"heatmapgl\"}],\"histogram\":[{\"marker\":{\"pattern\":{\"fillmode\":\"overlay\",\"size\":10,\"solidity\":0.2}},\"type\":\"histogram\"}],\"histogram2d\":[{\"colorbar\":{\"outlinewidth\":0,\"ticks\":\"\"},\"colorscale\":[[0.0,\"#0d0887\"],[0.1111111111111111,\"#46039f\"],[0.2222222222222222,\"#7201a8\"],[0.3333333333333333,\"#9c179e\"],[0.4444444444444444,\"#bd3786\"],[0.5555555555555556,\"#d8576b\"],[0.6666666666666666,\"#ed7953\"],[0.7777777777777778,\"#fb9f3a\"],[0.8888888888888888,\"#fdca26\"],[1.0,\"#f0f921\"]],\"type\":\"histogram2d\"}],\"histogram2dcontour\":[{\"colorbar\":{\"outlinewidth\":0,\"ticks\":\"\"},\"colorscale\":[[0.0,\"#0d0887\"],[0.1111111111111111,\"#46039f\"],[0.2222222222222222,\"#7201a8\"],[0.3333333333333333,\"#9c179e\"],[0.4444444444444444,\"#bd3786\"],[0.5555555555555556,\"#d8576b\"],[0.6666666666666666,\"#ed7953\"],[0.7777777777777778,\"#fb9f3a\"],[0.8888888888888888,\"#fdca26\"],[1.0,\"#f0f921\"]],\"type\":\"histogram2dcontour\"}],\"mesh3d\":[{\"colorbar\":{\"outlinewidth\":0,\"ticks\":\"\"},\"type\":\"mesh3d\"}],\"parcoords\":[{\"line\":{\"colorbar\":{\"outlinewidth\":0,\"ticks\":\"\"}},\"type\":\"parcoords\"}],\"pie\":[{\"automargin\":true,\"type\":\"pie\"}],\"scatter\":[{\"marker\":{\"colorbar\":{\"outlinewidth\":0,\"ticks\":\"\"}},\"type\":\"scatter\"}],\"scatter3d\":[{\"line\":{\"colorbar\":{\"outlinewidth\":0,\"ticks\":\"\"}},\"marker\":{\"colorbar\":{\"outlinewidth\":0,\"ticks\":\"\"}},\"type\":\"scatter3d\"}],\"scattercarpet\":[{\"marker\":{\"colorbar\":{\"outlinewidth\":0,\"ticks\":\"\"}},\"type\":\"scattercarpet\"}],\"scattergeo\":[{\"marker\":{\"colorbar\":{\"outlinewidth\":0,\"ticks\":\"\"}},\"type\":\"scattergeo\"}],\"scattergl\":[{\"marker\":{\"colorbar\":{\"outlinewidth\":0,\"ticks\":\"\"}},\"type\":\"scattergl\"}],\"scattermapbox\":[{\"marker\":{\"colorbar\":{\"outlinewidth\":0,\"ticks\":\"\"}},\"type\":\"scattermapbox\"}],\"scatterpolar\":[{\"marker\":{\"colorbar\":{\"outlinewidth\":0,\"ticks\":\"\"}},\"type\":\"scatterpolar\"}],\"scatterpolargl\":[{\"marker\":{\"colorbar\":{\"outlinewidth\":0,\"ticks\":\"\"}},\"type\":\"scatterpolargl\"}],\"scatterternary\":[{\"marker\":{\"colorbar\":{\"outlinewidth\":0,\"ticks\":\"\"}},\"type\":\"scatterternary\"}],\"surface\":[{\"colorbar\":{\"outlinewidth\":0,\"ticks\":\"\"},\"colorscale\":[[0.0,\"#0d0887\"],[0.1111111111111111,\"#46039f\"],[0.2222222222222222,\"#7201a8\"],[0.3333333333333333,\"#9c179e\"],[0.4444444444444444,\"#bd3786\"],[0.5555555555555556,\"#d8576b\"],[0.6666666666666666,\"#ed7953\"],[0.7777777777777778,\"#fb9f3a\"],[0.8888888888888888,\"#fdca26\"],[1.0,\"#f0f921\"]],\"type\":\"surface\"}],\"table\":[{\"cells\":{\"fill\":{\"color\":\"#EBF0F8\"},\"line\":{\"color\":\"white\"}},\"header\":{\"fill\":{\"color\":\"#C8D4E3\"},\"line\":{\"color\":\"white\"}},\"type\":\"table\"}]},\"layout\":{\"annotationdefaults\":{\"arrowcolor\":\"#2a3f5f\",\"arrowhead\":0,\"arrowwidth\":1},\"autotypenumbers\":\"strict\",\"coloraxis\":{\"colorbar\":{\"outlinewidth\":0,\"ticks\":\"\"}},\"colorscale\":{\"diverging\":[[0,\"#8e0152\"],[0.1,\"#c51b7d\"],[0.2,\"#de77ae\"],[0.3,\"#f1b6da\"],[0.4,\"#fde0ef\"],[0.5,\"#f7f7f7\"],[0.6,\"#e6f5d0\"],[0.7,\"#b8e186\"],[0.8,\"#7fbc41\"],[0.9,\"#4d9221\"],[1,\"#276419\"]],\"sequential\":[[0.0,\"#0d0887\"],[0.1111111111111111,\"#46039f\"],[0.2222222222222222,\"#7201a8\"],[0.3333333333333333,\"#9c179e\"],[0.4444444444444444,\"#bd3786\"],[0.5555555555555556,\"#d8576b\"],[0.6666666666666666,\"#ed7953\"],[0.7777777777777778,\"#fb9f3a\"],[0.8888888888888888,\"#fdca26\"],[1.0,\"#f0f921\"]],\"sequentialminus\":[[0.0,\"#0d0887\"],[0.1111111111111111,\"#46039f\"],[0.2222222222222222,\"#7201a8\"],[0.3333333333333333,\"#9c179e\"],[0.4444444444444444,\"#bd3786\"],[0.5555555555555556,\"#d8576b\"],[0.6666666666666666,\"#ed7953\"],[0.7777777777777778,\"#fb9f3a\"],[0.8888888888888888,\"#fdca26\"],[1.0,\"#f0f921\"]]},\"colorway\":[\"#636efa\",\"#EF553B\",\"#00cc96\",\"#ab63fa\",\"#FFA15A\",\"#19d3f3\",\"#FF6692\",\"#B6E880\",\"#FF97FF\",\"#FECB52\"],\"font\":{\"color\":\"#2a3f5f\"},\"geo\":{\"bgcolor\":\"white\",\"lakecolor\":\"white\",\"landcolor\":\"#E5ECF6\",\"showlakes\":true,\"showland\":true,\"subunitcolor\":\"white\"},\"hoverlabel\":{\"align\":\"left\"},\"hovermode\":\"closest\",\"mapbox\":{\"style\":\"light\"},\"paper_bgcolor\":\"white\",\"plot_bgcolor\":\"#E5ECF6\",\"polar\":{\"angularaxis\":{\"gridcolor\":\"white\",\"linecolor\":\"white\",\"ticks\":\"\"},\"bgcolor\":\"#E5ECF6\",\"radialaxis\":{\"gridcolor\":\"white\",\"linecolor\":\"white\",\"ticks\":\"\"}},\"scene\":{\"xaxis\":{\"backgroundcolor\":\"#E5ECF6\",\"gridcolor\":\"white\",\"gridwidth\":2,\"linecolor\":\"white\",\"showbackground\":true,\"ticks\":\"\",\"zerolinecolor\":\"white\"},\"yaxis\":{\"backgroundcolor\":\"#E5ECF6\",\"gridcolor\":\"white\",\"gridwidth\":2,\"linecolor\":\"white\",\"showbackground\":true,\"ticks\":\"\",\"zerolinecolor\":\"white\"},\"zaxis\":{\"backgroundcolor\":\"#E5ECF6\",\"gridcolor\":\"white\",\"gridwidth\":2,\"linecolor\":\"white\",\"showbackground\":true,\"ticks\":\"\",\"zerolinecolor\":\"white\"}},\"shapedefaults\":{\"line\":{\"color\":\"#2a3f5f\"}},\"ternary\":{\"aaxis\":{\"gridcolor\":\"white\",\"linecolor\":\"white\",\"ticks\":\"\"},\"baxis\":{\"gridcolor\":\"white\",\"linecolor\":\"white\",\"ticks\":\"\"},\"bgcolor\":\"#E5ECF6\",\"caxis\":{\"gridcolor\":\"white\",\"linecolor\":\"white\",\"ticks\":\"\"}},\"title\":{\"x\":0.05},\"xaxis\":{\"automargin\":true,\"gridcolor\":\"white\",\"linecolor\":\"white\",\"ticks\":\"\",\"title\":{\"standoff\":15},\"zerolinecolor\":\"white\",\"zerolinewidth\":2},\"yaxis\":{\"automargin\":true,\"gridcolor\":\"white\",\"linecolor\":\"white\",\"ticks\":\"\",\"title\":{\"standoff\":15},\"zerolinecolor\":\"white\",\"zerolinewidth\":2}}},\"title\":{\"font\":{\"color\":\"#4D5663\"}},\"xaxis\":{\"gridcolor\":\"#E1E5ED\",\"showgrid\":true,\"tickfont\":{\"color\":\"#4D5663\"},\"title\":{\"font\":{\"color\":\"#4D5663\"},\"text\":\"\"},\"zerolinecolor\":\"#E1E5ED\"},\"yaxis\":{\"gridcolor\":\"#E1E5ED\",\"showgrid\":true,\"tickfont\":{\"color\":\"#4D5663\"},\"title\":{\"font\":{\"color\":\"#4D5663\"},\"text\":\"\"},\"zerolinecolor\":\"#E1E5ED\"}},                        {\"showLink\": true, \"linkText\": \"Export to plot.ly\", \"plotlyServerURL\": \"https://plot.ly\", \"responsive\": true}                    ).then(function(){\n",
       "                            \n",
       "var gd = document.getElementById('b2d95930-50cd-443f-b454-f95aa7bc2b59');\n",
       "var x = new MutationObserver(function (mutations, observer) {{\n",
       "        var display = window.getComputedStyle(gd).display;\n",
       "        if (!display || display === 'none') {{\n",
       "            console.log([gd, 'removed!']);\n",
       "            Plotly.purge(gd);\n",
       "            observer.disconnect();\n",
       "        }}\n",
       "}});\n",
       "\n",
       "// Listen for the removal of the full notebook cells\n",
       "var notebookContainer = gd.closest('#notebook-container');\n",
       "if (notebookContainer) {{\n",
       "    x.observe(notebookContainer, {childList: true});\n",
       "}}\n",
       "\n",
       "// Listen for the clearing of the current output cell\n",
       "var outputEl = gd.closest('.output');\n",
       "if (outputEl) {{\n",
       "    x.observe(outputEl, {childList: true});\n",
       "}}\n",
       "\n",
       "                        })                };                });            </script>        </div>"
      ]
     },
     "metadata": {},
     "output_type": "display_data"
    }
   ],
   "source": [
    "df2.iplot(kind='bar',x='Category',y='Values')"
   ]
  },
  {
   "cell_type": "code",
   "execution_count": 14,
   "metadata": {
    "colab": {
     "base_uri": "https://localhost:8080/",
     "height": 542
    },
    "id": "vRqIWkAHJLza",
    "outputId": "b34d342a-191e-4f82-93b5-a4c3706fe579"
   },
   "outputs": [
    {
     "data": {
      "application/vnd.plotly.v1+json": {
       "config": {
        "linkText": "Export to plot.ly",
        "plotlyServerURL": "https://plot.ly",
        "showLink": true
       },
       "data": [
        {
         "marker": {
          "color": "rgba(255, 153, 51, 0.6)",
          "line": {
           "color": "rgba(255, 153, 51, 1.0)",
           "width": 1
          }
         },
         "name": "None",
         "orientation": "v",
         "text": "",
         "type": "bar",
         "x": [
          "A",
          "B",
          "C",
          "D"
         ],
         "y": [
          100,
          100,
          100,
          100
         ]
        }
       ],
       "layout": {
        "legend": {
         "bgcolor": "#F5F6F9",
         "font": {
          "color": "#4D5663"
         }
        },
        "paper_bgcolor": "#F5F6F9",
        "plot_bgcolor": "#F5F6F9",
        "template": {
         "data": {
          "bar": [
           {
            "error_x": {
             "color": "#2a3f5f"
            },
            "error_y": {
             "color": "#2a3f5f"
            },
            "marker": {
             "line": {
              "color": "#E5ECF6",
              "width": 0.5
             },
             "pattern": {
              "fillmode": "overlay",
              "size": 10,
              "solidity": 0.2
             }
            },
            "type": "bar"
           }
          ],
          "barpolar": [
           {
            "marker": {
             "line": {
              "color": "#E5ECF6",
              "width": 0.5
             },
             "pattern": {
              "fillmode": "overlay",
              "size": 10,
              "solidity": 0.2
             }
            },
            "type": "barpolar"
           }
          ],
          "carpet": [
           {
            "aaxis": {
             "endlinecolor": "#2a3f5f",
             "gridcolor": "white",
             "linecolor": "white",
             "minorgridcolor": "white",
             "startlinecolor": "#2a3f5f"
            },
            "baxis": {
             "endlinecolor": "#2a3f5f",
             "gridcolor": "white",
             "linecolor": "white",
             "minorgridcolor": "white",
             "startlinecolor": "#2a3f5f"
            },
            "type": "carpet"
           }
          ],
          "choropleth": [
           {
            "colorbar": {
             "outlinewidth": 0,
             "ticks": ""
            },
            "type": "choropleth"
           }
          ],
          "contour": [
           {
            "colorbar": {
             "outlinewidth": 0,
             "ticks": ""
            },
            "colorscale": [
             [
              0,
              "#0d0887"
             ],
             [
              0.1111111111111111,
              "#46039f"
             ],
             [
              0.2222222222222222,
              "#7201a8"
             ],
             [
              0.3333333333333333,
              "#9c179e"
             ],
             [
              0.4444444444444444,
              "#bd3786"
             ],
             [
              0.5555555555555556,
              "#d8576b"
             ],
             [
              0.6666666666666666,
              "#ed7953"
             ],
             [
              0.7777777777777778,
              "#fb9f3a"
             ],
             [
              0.8888888888888888,
              "#fdca26"
             ],
             [
              1,
              "#f0f921"
             ]
            ],
            "type": "contour"
           }
          ],
          "contourcarpet": [
           {
            "colorbar": {
             "outlinewidth": 0,
             "ticks": ""
            },
            "type": "contourcarpet"
           }
          ],
          "heatmap": [
           {
            "colorbar": {
             "outlinewidth": 0,
             "ticks": ""
            },
            "colorscale": [
             [
              0,
              "#0d0887"
             ],
             [
              0.1111111111111111,
              "#46039f"
             ],
             [
              0.2222222222222222,
              "#7201a8"
             ],
             [
              0.3333333333333333,
              "#9c179e"
             ],
             [
              0.4444444444444444,
              "#bd3786"
             ],
             [
              0.5555555555555556,
              "#d8576b"
             ],
             [
              0.6666666666666666,
              "#ed7953"
             ],
             [
              0.7777777777777778,
              "#fb9f3a"
             ],
             [
              0.8888888888888888,
              "#fdca26"
             ],
             [
              1,
              "#f0f921"
             ]
            ],
            "type": "heatmap"
           }
          ],
          "heatmapgl": [
           {
            "colorbar": {
             "outlinewidth": 0,
             "ticks": ""
            },
            "colorscale": [
             [
              0,
              "#0d0887"
             ],
             [
              0.1111111111111111,
              "#46039f"
             ],
             [
              0.2222222222222222,
              "#7201a8"
             ],
             [
              0.3333333333333333,
              "#9c179e"
             ],
             [
              0.4444444444444444,
              "#bd3786"
             ],
             [
              0.5555555555555556,
              "#d8576b"
             ],
             [
              0.6666666666666666,
              "#ed7953"
             ],
             [
              0.7777777777777778,
              "#fb9f3a"
             ],
             [
              0.8888888888888888,
              "#fdca26"
             ],
             [
              1,
              "#f0f921"
             ]
            ],
            "type": "heatmapgl"
           }
          ],
          "histogram": [
           {
            "marker": {
             "pattern": {
              "fillmode": "overlay",
              "size": 10,
              "solidity": 0.2
             }
            },
            "type": "histogram"
           }
          ],
          "histogram2d": [
           {
            "colorbar": {
             "outlinewidth": 0,
             "ticks": ""
            },
            "colorscale": [
             [
              0,
              "#0d0887"
             ],
             [
              0.1111111111111111,
              "#46039f"
             ],
             [
              0.2222222222222222,
              "#7201a8"
             ],
             [
              0.3333333333333333,
              "#9c179e"
             ],
             [
              0.4444444444444444,
              "#bd3786"
             ],
             [
              0.5555555555555556,
              "#d8576b"
             ],
             [
              0.6666666666666666,
              "#ed7953"
             ],
             [
              0.7777777777777778,
              "#fb9f3a"
             ],
             [
              0.8888888888888888,
              "#fdca26"
             ],
             [
              1,
              "#f0f921"
             ]
            ],
            "type": "histogram2d"
           }
          ],
          "histogram2dcontour": [
           {
            "colorbar": {
             "outlinewidth": 0,
             "ticks": ""
            },
            "colorscale": [
             [
              0,
              "#0d0887"
             ],
             [
              0.1111111111111111,
              "#46039f"
             ],
             [
              0.2222222222222222,
              "#7201a8"
             ],
             [
              0.3333333333333333,
              "#9c179e"
             ],
             [
              0.4444444444444444,
              "#bd3786"
             ],
             [
              0.5555555555555556,
              "#d8576b"
             ],
             [
              0.6666666666666666,
              "#ed7953"
             ],
             [
              0.7777777777777778,
              "#fb9f3a"
             ],
             [
              0.8888888888888888,
              "#fdca26"
             ],
             [
              1,
              "#f0f921"
             ]
            ],
            "type": "histogram2dcontour"
           }
          ],
          "mesh3d": [
           {
            "colorbar": {
             "outlinewidth": 0,
             "ticks": ""
            },
            "type": "mesh3d"
           }
          ],
          "parcoords": [
           {
            "line": {
             "colorbar": {
              "outlinewidth": 0,
              "ticks": ""
             }
            },
            "type": "parcoords"
           }
          ],
          "pie": [
           {
            "automargin": true,
            "type": "pie"
           }
          ],
          "scatter": [
           {
            "marker": {
             "colorbar": {
              "outlinewidth": 0,
              "ticks": ""
             }
            },
            "type": "scatter"
           }
          ],
          "scatter3d": [
           {
            "line": {
             "colorbar": {
              "outlinewidth": 0,
              "ticks": ""
             }
            },
            "marker": {
             "colorbar": {
              "outlinewidth": 0,
              "ticks": ""
             }
            },
            "type": "scatter3d"
           }
          ],
          "scattercarpet": [
           {
            "marker": {
             "colorbar": {
              "outlinewidth": 0,
              "ticks": ""
             }
            },
            "type": "scattercarpet"
           }
          ],
          "scattergeo": [
           {
            "marker": {
             "colorbar": {
              "outlinewidth": 0,
              "ticks": ""
             }
            },
            "type": "scattergeo"
           }
          ],
          "scattergl": [
           {
            "marker": {
             "colorbar": {
              "outlinewidth": 0,
              "ticks": ""
             }
            },
            "type": "scattergl"
           }
          ],
          "scattermapbox": [
           {
            "marker": {
             "colorbar": {
              "outlinewidth": 0,
              "ticks": ""
             }
            },
            "type": "scattermapbox"
           }
          ],
          "scatterpolar": [
           {
            "marker": {
             "colorbar": {
              "outlinewidth": 0,
              "ticks": ""
             }
            },
            "type": "scatterpolar"
           }
          ],
          "scatterpolargl": [
           {
            "marker": {
             "colorbar": {
              "outlinewidth": 0,
              "ticks": ""
             }
            },
            "type": "scatterpolargl"
           }
          ],
          "scatterternary": [
           {
            "marker": {
             "colorbar": {
              "outlinewidth": 0,
              "ticks": ""
             }
            },
            "type": "scatterternary"
           }
          ],
          "surface": [
           {
            "colorbar": {
             "outlinewidth": 0,
             "ticks": ""
            },
            "colorscale": [
             [
              0,
              "#0d0887"
             ],
             [
              0.1111111111111111,
              "#46039f"
             ],
             [
              0.2222222222222222,
              "#7201a8"
             ],
             [
              0.3333333333333333,
              "#9c179e"
             ],
             [
              0.4444444444444444,
              "#bd3786"
             ],
             [
              0.5555555555555556,
              "#d8576b"
             ],
             [
              0.6666666666666666,
              "#ed7953"
             ],
             [
              0.7777777777777778,
              "#fb9f3a"
             ],
             [
              0.8888888888888888,
              "#fdca26"
             ],
             [
              1,
              "#f0f921"
             ]
            ],
            "type": "surface"
           }
          ],
          "table": [
           {
            "cells": {
             "fill": {
              "color": "#EBF0F8"
             },
             "line": {
              "color": "white"
             }
            },
            "header": {
             "fill": {
              "color": "#C8D4E3"
             },
             "line": {
              "color": "white"
             }
            },
            "type": "table"
           }
          ]
         },
         "layout": {
          "annotationdefaults": {
           "arrowcolor": "#2a3f5f",
           "arrowhead": 0,
           "arrowwidth": 1
          },
          "autotypenumbers": "strict",
          "coloraxis": {
           "colorbar": {
            "outlinewidth": 0,
            "ticks": ""
           }
          },
          "colorscale": {
           "diverging": [
            [
             0,
             "#8e0152"
            ],
            [
             0.1,
             "#c51b7d"
            ],
            [
             0.2,
             "#de77ae"
            ],
            [
             0.3,
             "#f1b6da"
            ],
            [
             0.4,
             "#fde0ef"
            ],
            [
             0.5,
             "#f7f7f7"
            ],
            [
             0.6,
             "#e6f5d0"
            ],
            [
             0.7,
             "#b8e186"
            ],
            [
             0.8,
             "#7fbc41"
            ],
            [
             0.9,
             "#4d9221"
            ],
            [
             1,
             "#276419"
            ]
           ],
           "sequential": [
            [
             0,
             "#0d0887"
            ],
            [
             0.1111111111111111,
             "#46039f"
            ],
            [
             0.2222222222222222,
             "#7201a8"
            ],
            [
             0.3333333333333333,
             "#9c179e"
            ],
            [
             0.4444444444444444,
             "#bd3786"
            ],
            [
             0.5555555555555556,
             "#d8576b"
            ],
            [
             0.6666666666666666,
             "#ed7953"
            ],
            [
             0.7777777777777778,
             "#fb9f3a"
            ],
            [
             0.8888888888888888,
             "#fdca26"
            ],
            [
             1,
             "#f0f921"
            ]
           ],
           "sequentialminus": [
            [
             0,
             "#0d0887"
            ],
            [
             0.1111111111111111,
             "#46039f"
            ],
            [
             0.2222222222222222,
             "#7201a8"
            ],
            [
             0.3333333333333333,
             "#9c179e"
            ],
            [
             0.4444444444444444,
             "#bd3786"
            ],
            [
             0.5555555555555556,
             "#d8576b"
            ],
            [
             0.6666666666666666,
             "#ed7953"
            ],
            [
             0.7777777777777778,
             "#fb9f3a"
            ],
            [
             0.8888888888888888,
             "#fdca26"
            ],
            [
             1,
             "#f0f921"
            ]
           ]
          },
          "colorway": [
           "#636efa",
           "#EF553B",
           "#00cc96",
           "#ab63fa",
           "#FFA15A",
           "#19d3f3",
           "#FF6692",
           "#B6E880",
           "#FF97FF",
           "#FECB52"
          ],
          "font": {
           "color": "#2a3f5f"
          },
          "geo": {
           "bgcolor": "white",
           "lakecolor": "white",
           "landcolor": "#E5ECF6",
           "showlakes": true,
           "showland": true,
           "subunitcolor": "white"
          },
          "hoverlabel": {
           "align": "left"
          },
          "hovermode": "closest",
          "mapbox": {
           "style": "light"
          },
          "paper_bgcolor": "white",
          "plot_bgcolor": "#E5ECF6",
          "polar": {
           "angularaxis": {
            "gridcolor": "white",
            "linecolor": "white",
            "ticks": ""
           },
           "bgcolor": "#E5ECF6",
           "radialaxis": {
            "gridcolor": "white",
            "linecolor": "white",
            "ticks": ""
           }
          },
          "scene": {
           "xaxis": {
            "backgroundcolor": "#E5ECF6",
            "gridcolor": "white",
            "gridwidth": 2,
            "linecolor": "white",
            "showbackground": true,
            "ticks": "",
            "zerolinecolor": "white"
           },
           "yaxis": {
            "backgroundcolor": "#E5ECF6",
            "gridcolor": "white",
            "gridwidth": 2,
            "linecolor": "white",
            "showbackground": true,
            "ticks": "",
            "zerolinecolor": "white"
           },
           "zaxis": {
            "backgroundcolor": "#E5ECF6",
            "gridcolor": "white",
            "gridwidth": 2,
            "linecolor": "white",
            "showbackground": true,
            "ticks": "",
            "zerolinecolor": "white"
           }
          },
          "shapedefaults": {
           "line": {
            "color": "#2a3f5f"
           }
          },
          "ternary": {
           "aaxis": {
            "gridcolor": "white",
            "linecolor": "white",
            "ticks": ""
           },
           "baxis": {
            "gridcolor": "white",
            "linecolor": "white",
            "ticks": ""
           },
           "bgcolor": "#E5ECF6",
           "caxis": {
            "gridcolor": "white",
            "linecolor": "white",
            "ticks": ""
           }
          },
          "title": {
           "x": 0.05
          },
          "xaxis": {
           "automargin": true,
           "gridcolor": "white",
           "linecolor": "white",
           "ticks": "",
           "title": {
            "standoff": 15
           },
           "zerolinecolor": "white",
           "zerolinewidth": 2
          },
          "yaxis": {
           "automargin": true,
           "gridcolor": "white",
           "linecolor": "white",
           "ticks": "",
           "title": {
            "standoff": 15
           },
           "zerolinecolor": "white",
           "zerolinewidth": 2
          }
         }
        },
        "title": {
         "font": {
          "color": "#4D5663"
         }
        },
        "xaxis": {
         "gridcolor": "#E1E5ED",
         "showgrid": true,
         "tickfont": {
          "color": "#4D5663"
         },
         "title": {
          "font": {
           "color": "#4D5663"
          },
          "text": ""
         },
         "zerolinecolor": "#E1E5ED"
        },
        "yaxis": {
         "gridcolor": "#E1E5ED",
         "showgrid": true,
         "tickfont": {
          "color": "#4D5663"
         },
         "title": {
          "font": {
           "color": "#4D5663"
          },
          "text": ""
         },
         "zerolinecolor": "#E1E5ED"
        }
       }
      },
      "text/html": [
       "<div>                            <div id=\"1fb301f0-473b-4e3e-b676-c63576f3469c\" class=\"plotly-graph-div\" style=\"height:525px; width:100%;\"></div>            <script type=\"text/javascript\">                require([\"plotly\"], function(Plotly) {                    window.PLOTLYENV=window.PLOTLYENV || {};\n",
       "                    window.PLOTLYENV.BASE_URL='https://plot.ly';                                    if (document.getElementById(\"1fb301f0-473b-4e3e-b676-c63576f3469c\")) {                    Plotly.newPlot(                        \"1fb301f0-473b-4e3e-b676-c63576f3469c\",                        [{\"marker\":{\"color\":\"rgba(255, 153, 51, 0.6)\",\"line\":{\"color\":\"rgba(255, 153, 51, 1.0)\",\"width\":1}},\"name\":\"None\",\"orientation\":\"v\",\"text\":\"\",\"type\":\"bar\",\"x\":[\"A\",\"B\",\"C\",\"D\"],\"y\":[100,100,100,100]}],                        {\"legend\":{\"bgcolor\":\"#F5F6F9\",\"font\":{\"color\":\"#4D5663\"}},\"paper_bgcolor\":\"#F5F6F9\",\"plot_bgcolor\":\"#F5F6F9\",\"template\":{\"data\":{\"bar\":[{\"error_x\":{\"color\":\"#2a3f5f\"},\"error_y\":{\"color\":\"#2a3f5f\"},\"marker\":{\"line\":{\"color\":\"#E5ECF6\",\"width\":0.5},\"pattern\":{\"fillmode\":\"overlay\",\"size\":10,\"solidity\":0.2}},\"type\":\"bar\"}],\"barpolar\":[{\"marker\":{\"line\":{\"color\":\"#E5ECF6\",\"width\":0.5},\"pattern\":{\"fillmode\":\"overlay\",\"size\":10,\"solidity\":0.2}},\"type\":\"barpolar\"}],\"carpet\":[{\"aaxis\":{\"endlinecolor\":\"#2a3f5f\",\"gridcolor\":\"white\",\"linecolor\":\"white\",\"minorgridcolor\":\"white\",\"startlinecolor\":\"#2a3f5f\"},\"baxis\":{\"endlinecolor\":\"#2a3f5f\",\"gridcolor\":\"white\",\"linecolor\":\"white\",\"minorgridcolor\":\"white\",\"startlinecolor\":\"#2a3f5f\"},\"type\":\"carpet\"}],\"choropleth\":[{\"colorbar\":{\"outlinewidth\":0,\"ticks\":\"\"},\"type\":\"choropleth\"}],\"contour\":[{\"colorbar\":{\"outlinewidth\":0,\"ticks\":\"\"},\"colorscale\":[[0.0,\"#0d0887\"],[0.1111111111111111,\"#46039f\"],[0.2222222222222222,\"#7201a8\"],[0.3333333333333333,\"#9c179e\"],[0.4444444444444444,\"#bd3786\"],[0.5555555555555556,\"#d8576b\"],[0.6666666666666666,\"#ed7953\"],[0.7777777777777778,\"#fb9f3a\"],[0.8888888888888888,\"#fdca26\"],[1.0,\"#f0f921\"]],\"type\":\"contour\"}],\"contourcarpet\":[{\"colorbar\":{\"outlinewidth\":0,\"ticks\":\"\"},\"type\":\"contourcarpet\"}],\"heatmap\":[{\"colorbar\":{\"outlinewidth\":0,\"ticks\":\"\"},\"colorscale\":[[0.0,\"#0d0887\"],[0.1111111111111111,\"#46039f\"],[0.2222222222222222,\"#7201a8\"],[0.3333333333333333,\"#9c179e\"],[0.4444444444444444,\"#bd3786\"],[0.5555555555555556,\"#d8576b\"],[0.6666666666666666,\"#ed7953\"],[0.7777777777777778,\"#fb9f3a\"],[0.8888888888888888,\"#fdca26\"],[1.0,\"#f0f921\"]],\"type\":\"heatmap\"}],\"heatmapgl\":[{\"colorbar\":{\"outlinewidth\":0,\"ticks\":\"\"},\"colorscale\":[[0.0,\"#0d0887\"],[0.1111111111111111,\"#46039f\"],[0.2222222222222222,\"#7201a8\"],[0.3333333333333333,\"#9c179e\"],[0.4444444444444444,\"#bd3786\"],[0.5555555555555556,\"#d8576b\"],[0.6666666666666666,\"#ed7953\"],[0.7777777777777778,\"#fb9f3a\"],[0.8888888888888888,\"#fdca26\"],[1.0,\"#f0f921\"]],\"type\":\"heatmapgl\"}],\"histogram\":[{\"marker\":{\"pattern\":{\"fillmode\":\"overlay\",\"size\":10,\"solidity\":0.2}},\"type\":\"histogram\"}],\"histogram2d\":[{\"colorbar\":{\"outlinewidth\":0,\"ticks\":\"\"},\"colorscale\":[[0.0,\"#0d0887\"],[0.1111111111111111,\"#46039f\"],[0.2222222222222222,\"#7201a8\"],[0.3333333333333333,\"#9c179e\"],[0.4444444444444444,\"#bd3786\"],[0.5555555555555556,\"#d8576b\"],[0.6666666666666666,\"#ed7953\"],[0.7777777777777778,\"#fb9f3a\"],[0.8888888888888888,\"#fdca26\"],[1.0,\"#f0f921\"]],\"type\":\"histogram2d\"}],\"histogram2dcontour\":[{\"colorbar\":{\"outlinewidth\":0,\"ticks\":\"\"},\"colorscale\":[[0.0,\"#0d0887\"],[0.1111111111111111,\"#46039f\"],[0.2222222222222222,\"#7201a8\"],[0.3333333333333333,\"#9c179e\"],[0.4444444444444444,\"#bd3786\"],[0.5555555555555556,\"#d8576b\"],[0.6666666666666666,\"#ed7953\"],[0.7777777777777778,\"#fb9f3a\"],[0.8888888888888888,\"#fdca26\"],[1.0,\"#f0f921\"]],\"type\":\"histogram2dcontour\"}],\"mesh3d\":[{\"colorbar\":{\"outlinewidth\":0,\"ticks\":\"\"},\"type\":\"mesh3d\"}],\"parcoords\":[{\"line\":{\"colorbar\":{\"outlinewidth\":0,\"ticks\":\"\"}},\"type\":\"parcoords\"}],\"pie\":[{\"automargin\":true,\"type\":\"pie\"}],\"scatter\":[{\"marker\":{\"colorbar\":{\"outlinewidth\":0,\"ticks\":\"\"}},\"type\":\"scatter\"}],\"scatter3d\":[{\"line\":{\"colorbar\":{\"outlinewidth\":0,\"ticks\":\"\"}},\"marker\":{\"colorbar\":{\"outlinewidth\":0,\"ticks\":\"\"}},\"type\":\"scatter3d\"}],\"scattercarpet\":[{\"marker\":{\"colorbar\":{\"outlinewidth\":0,\"ticks\":\"\"}},\"type\":\"scattercarpet\"}],\"scattergeo\":[{\"marker\":{\"colorbar\":{\"outlinewidth\":0,\"ticks\":\"\"}},\"type\":\"scattergeo\"}],\"scattergl\":[{\"marker\":{\"colorbar\":{\"outlinewidth\":0,\"ticks\":\"\"}},\"type\":\"scattergl\"}],\"scattermapbox\":[{\"marker\":{\"colorbar\":{\"outlinewidth\":0,\"ticks\":\"\"}},\"type\":\"scattermapbox\"}],\"scatterpolar\":[{\"marker\":{\"colorbar\":{\"outlinewidth\":0,\"ticks\":\"\"}},\"type\":\"scatterpolar\"}],\"scatterpolargl\":[{\"marker\":{\"colorbar\":{\"outlinewidth\":0,\"ticks\":\"\"}},\"type\":\"scatterpolargl\"}],\"scatterternary\":[{\"marker\":{\"colorbar\":{\"outlinewidth\":0,\"ticks\":\"\"}},\"type\":\"scatterternary\"}],\"surface\":[{\"colorbar\":{\"outlinewidth\":0,\"ticks\":\"\"},\"colorscale\":[[0.0,\"#0d0887\"],[0.1111111111111111,\"#46039f\"],[0.2222222222222222,\"#7201a8\"],[0.3333333333333333,\"#9c179e\"],[0.4444444444444444,\"#bd3786\"],[0.5555555555555556,\"#d8576b\"],[0.6666666666666666,\"#ed7953\"],[0.7777777777777778,\"#fb9f3a\"],[0.8888888888888888,\"#fdca26\"],[1.0,\"#f0f921\"]],\"type\":\"surface\"}],\"table\":[{\"cells\":{\"fill\":{\"color\":\"#EBF0F8\"},\"line\":{\"color\":\"white\"}},\"header\":{\"fill\":{\"color\":\"#C8D4E3\"},\"line\":{\"color\":\"white\"}},\"type\":\"table\"}]},\"layout\":{\"annotationdefaults\":{\"arrowcolor\":\"#2a3f5f\",\"arrowhead\":0,\"arrowwidth\":1},\"autotypenumbers\":\"strict\",\"coloraxis\":{\"colorbar\":{\"outlinewidth\":0,\"ticks\":\"\"}},\"colorscale\":{\"diverging\":[[0,\"#8e0152\"],[0.1,\"#c51b7d\"],[0.2,\"#de77ae\"],[0.3,\"#f1b6da\"],[0.4,\"#fde0ef\"],[0.5,\"#f7f7f7\"],[0.6,\"#e6f5d0\"],[0.7,\"#b8e186\"],[0.8,\"#7fbc41\"],[0.9,\"#4d9221\"],[1,\"#276419\"]],\"sequential\":[[0.0,\"#0d0887\"],[0.1111111111111111,\"#46039f\"],[0.2222222222222222,\"#7201a8\"],[0.3333333333333333,\"#9c179e\"],[0.4444444444444444,\"#bd3786\"],[0.5555555555555556,\"#d8576b\"],[0.6666666666666666,\"#ed7953\"],[0.7777777777777778,\"#fb9f3a\"],[0.8888888888888888,\"#fdca26\"],[1.0,\"#f0f921\"]],\"sequentialminus\":[[0.0,\"#0d0887\"],[0.1111111111111111,\"#46039f\"],[0.2222222222222222,\"#7201a8\"],[0.3333333333333333,\"#9c179e\"],[0.4444444444444444,\"#bd3786\"],[0.5555555555555556,\"#d8576b\"],[0.6666666666666666,\"#ed7953\"],[0.7777777777777778,\"#fb9f3a\"],[0.8888888888888888,\"#fdca26\"],[1.0,\"#f0f921\"]]},\"colorway\":[\"#636efa\",\"#EF553B\",\"#00cc96\",\"#ab63fa\",\"#FFA15A\",\"#19d3f3\",\"#FF6692\",\"#B6E880\",\"#FF97FF\",\"#FECB52\"],\"font\":{\"color\":\"#2a3f5f\"},\"geo\":{\"bgcolor\":\"white\",\"lakecolor\":\"white\",\"landcolor\":\"#E5ECF6\",\"showlakes\":true,\"showland\":true,\"subunitcolor\":\"white\"},\"hoverlabel\":{\"align\":\"left\"},\"hovermode\":\"closest\",\"mapbox\":{\"style\":\"light\"},\"paper_bgcolor\":\"white\",\"plot_bgcolor\":\"#E5ECF6\",\"polar\":{\"angularaxis\":{\"gridcolor\":\"white\",\"linecolor\":\"white\",\"ticks\":\"\"},\"bgcolor\":\"#E5ECF6\",\"radialaxis\":{\"gridcolor\":\"white\",\"linecolor\":\"white\",\"ticks\":\"\"}},\"scene\":{\"xaxis\":{\"backgroundcolor\":\"#E5ECF6\",\"gridcolor\":\"white\",\"gridwidth\":2,\"linecolor\":\"white\",\"showbackground\":true,\"ticks\":\"\",\"zerolinecolor\":\"white\"},\"yaxis\":{\"backgroundcolor\":\"#E5ECF6\",\"gridcolor\":\"white\",\"gridwidth\":2,\"linecolor\":\"white\",\"showbackground\":true,\"ticks\":\"\",\"zerolinecolor\":\"white\"},\"zaxis\":{\"backgroundcolor\":\"#E5ECF6\",\"gridcolor\":\"white\",\"gridwidth\":2,\"linecolor\":\"white\",\"showbackground\":true,\"ticks\":\"\",\"zerolinecolor\":\"white\"}},\"shapedefaults\":{\"line\":{\"color\":\"#2a3f5f\"}},\"ternary\":{\"aaxis\":{\"gridcolor\":\"white\",\"linecolor\":\"white\",\"ticks\":\"\"},\"baxis\":{\"gridcolor\":\"white\",\"linecolor\":\"white\",\"ticks\":\"\"},\"bgcolor\":\"#E5ECF6\",\"caxis\":{\"gridcolor\":\"white\",\"linecolor\":\"white\",\"ticks\":\"\"}},\"title\":{\"x\":0.05},\"xaxis\":{\"automargin\":true,\"gridcolor\":\"white\",\"linecolor\":\"white\",\"ticks\":\"\",\"title\":{\"standoff\":15},\"zerolinecolor\":\"white\",\"zerolinewidth\":2},\"yaxis\":{\"automargin\":true,\"gridcolor\":\"white\",\"linecolor\":\"white\",\"ticks\":\"\",\"title\":{\"standoff\":15},\"zerolinecolor\":\"white\",\"zerolinewidth\":2}}},\"title\":{\"font\":{\"color\":\"#4D5663\"}},\"xaxis\":{\"gridcolor\":\"#E1E5ED\",\"showgrid\":true,\"tickfont\":{\"color\":\"#4D5663\"},\"title\":{\"font\":{\"color\":\"#4D5663\"},\"text\":\"\"},\"zerolinecolor\":\"#E1E5ED\"},\"yaxis\":{\"gridcolor\":\"#E1E5ED\",\"showgrid\":true,\"tickfont\":{\"color\":\"#4D5663\"},\"title\":{\"font\":{\"color\":\"#4D5663\"},\"text\":\"\"},\"zerolinecolor\":\"#E1E5ED\"}},                        {\"showLink\": true, \"linkText\": \"Export to plot.ly\", \"plotlyServerURL\": \"https://plot.ly\", \"responsive\": true}                    ).then(function(){\n",
       "                            \n",
       "var gd = document.getElementById('1fb301f0-473b-4e3e-b676-c63576f3469c');\n",
       "var x = new MutationObserver(function (mutations, observer) {{\n",
       "        var display = window.getComputedStyle(gd).display;\n",
       "        if (!display || display === 'none') {{\n",
       "            console.log([gd, 'removed!']);\n",
       "            Plotly.purge(gd);\n",
       "            observer.disconnect();\n",
       "        }}\n",
       "}});\n",
       "\n",
       "// Listen for the removal of the full notebook cells\n",
       "var notebookContainer = gd.closest('#notebook-container');\n",
       "if (notebookContainer) {{\n",
       "    x.observe(notebookContainer, {childList: true});\n",
       "}}\n",
       "\n",
       "// Listen for the clearing of the current output cell\n",
       "var outputEl = gd.closest('.output');\n",
       "if (outputEl) {{\n",
       "    x.observe(outputEl, {childList: true});\n",
       "}}\n",
       "\n",
       "                        })                };                });            </script>        </div>"
      ]
     },
     "metadata": {},
     "output_type": "display_data"
    }
   ],
   "source": [
    "df.count().iplot(kind='bar')"
   ]
  },
  {
   "cell_type": "markdown",
   "metadata": {
    "id": "eRc7DG1QJLza"
   },
   "source": [
    "## Boxplots"
   ]
  },
  {
   "cell_type": "code",
   "execution_count": 15,
   "metadata": {
    "colab": {
     "base_uri": "https://localhost:8080/",
     "height": 542
    },
    "id": "0GKt7O5qJLza",
    "outputId": "8f81c7be-b733-4c3c-ece8-65ec722c3f07"
   },
   "outputs": [
    {
     "data": {
      "application/vnd.plotly.v1+json": {
       "config": {
        "linkText": "Export to plot.ly",
        "plotlyServerURL": "https://plot.ly",
        "showLink": true
       },
       "data": [
        {
         "boxpoints": false,
         "line": {
          "width": 1.3
         },
         "marker": {
          "color": "rgba(255, 153, 51, 1.0)"
         },
         "name": "A",
         "orientation": "v",
         "type": "box",
         "y": [
          1.0306531774627894,
          -1.2764594295792628,
          -2.007425835370658,
          1.1822103084826039,
          0.35608523117968155,
          0.27841238683736536,
          1.1751915700868945,
          -1.8123684253200218,
          0.15598217139030196,
          -0.5033310910133766,
          -0.5699399931599826,
          -0.07633533618674429,
          -2.004031638543584,
          -1.4131671302924367,
          1.5132620658210114,
          -0.09818026933141981,
          0.5931422343995467,
          1.0350325401095455,
          0.8736985428854916,
          0.1297605827241348,
          -0.40681515090843073,
          0.054384987360707994,
          -1.3777315482312165,
          -0.3297611876737317,
          2.3375924671188657,
          -0.9934026325789047,
          0.7831313478859588,
          0.6071592818927777,
          -1.5272089990095563,
          0.5439162023233473,
          1.1433214013625341,
          0.02363890445662154,
          0.36324894281452563,
          1.418692838399726,
          0.0032313784208553983,
          0.7376422679377489,
          -1.3135443305713557,
          0.2591394467052669,
          1.8726021333712695,
          -0.02267342733907837,
          -0.7117968358970819,
          -1.3815439752350147,
          0.5474069882633411,
          -0.14082838399786934,
          1.295800241524183,
          0.16587449002004045,
          -0.13623801126290602,
          -0.2841987455277562,
          -0.02657306813411636,
          -0.044358228099686814,
          0.7603630152471096,
          0.9105796238764517,
          0.5547276955749623,
          -1.6920327034935343,
          1.8012772604158922,
          1.0957537495842795,
          0.5278414279740992,
          -0.2579914977579109,
          -0.28010895433133803,
          -1.299882900782398,
          0.33419777531472783,
          0.25097425183628885,
          0.00940578100952716,
          0.061957118758716886,
          0.6522371871228492,
          0.18668169152173955,
          -1.3704814477703093,
          1.223642880212177,
          0.835811547517684,
          -1.9416047189095023,
          1.0209035834040083,
          -1.3014432518302246,
          0.9541745862125112,
          -0.4272130687617453,
          -1.0222157852329774,
          -0.28183416434644315,
          -1.2570497039234507,
          0.04750719678875333,
          0.49176992055093344,
          -0.7113589983611227,
          1.7543260318333134,
          0.36914224227737086,
          0.7310662346175594,
          0.6176993277494718,
          2.571811090509869,
          0.3869519696142842,
          0.9717144678765081,
          -0.759355555685107,
          -1.3649911929203533,
          1.025587645804269,
          -1.419560991950135,
          -1.7157191586652238,
          2.398947322575383,
          -1.128045677752533,
          -1.6350856463229864,
          0.36488475451516117,
          -0.9049450091422594,
          0.7338903579787782,
          1.1938403568058797,
          1.0174692575408952
         ]
        },
        {
         "boxpoints": false,
         "line": {
          "width": 1.3
         },
         "marker": {
          "color": "rgba(55, 128, 191, 1.0)"
         },
         "name": "B",
         "orientation": "v",
         "type": "box",
         "y": [
          -1.879318434737494,
          -0.49376240639959207,
          0.6332852498752116,
          0.05982920481099076,
          -0.45033326574357047,
          0.4780838526561915,
          0.2308646707202015,
          -0.4854975839734933,
          -0.1584023785037026,
          -0.7569330364249099,
          -1.2515830552574734,
          0.1908343665062289,
          -0.27427096038126997,
          -0.16494411658574556,
          1.0458614581281858,
          -0.7058384235612785,
          -1.1008257454485377,
          -0.5171405398885567,
          0.7774689975975859,
          0.1161453633306047,
          -0.7254257020581931,
          0.9997282963094282,
          -1.2175391994439475,
          -0.4032619171768969,
          1.178911179247722,
          -0.912336057384369,
          0.8704923498223446,
          -0.1429929067278444,
          -0.8155297099700727,
          -0.15693239688487548,
          -0.6611259733304673,
          -0.24163226558705464,
          1.9177322073356615,
          -0.17925908171876542,
          0.5625651927892863,
          -0.019120331964386623,
          0.8116619297158044,
          0.3170414557506839,
          0.6343449023308668,
          0.03552622091638352,
          2.149271896386203,
          1.0917890491818028,
          2.10597794808911,
          1.5871791620513425,
          -0.15184848489601235,
          -1.0853796732401266,
          -0.7854456468295216,
          0.10771338015465624,
          0.23000625228123567,
          -0.3115716415815013,
          -0.23648843341717046,
          -0.1759851101684985,
          -0.2470280124499729,
          -0.6557463265401569,
          0.37126719990984497,
          0.9190553436547041,
          0.8414066517645015,
          0.4717402442989092,
          -0.8584748946180241,
          -0.6379745172590058,
          -0.03635803447437388,
          1.2448777768443768,
          -2.3066094376938517,
          -0.7662876287767219,
          -0.054724390833976795,
          -0.5248788430371149,
          0.5926454521392258,
          -0.05721717949569917,
          -1.3801070410731737,
          0.0602725127541095,
          1.21849498916648,
          1.4372290980889477,
          2.543998541586174,
          -1.359347935580105,
          0.7812931470112162,
          0.3111546480607504,
          1.4181147334897954,
          -1.074304103543346,
          0.11768263512512897,
          0.70590446887133,
          -0.08115145651149062,
          0.2816969042936072,
          -0.12729256715473372,
          -0.9235802995434116,
          0.6978291184446651,
          -0.14023362537906392,
          -0.531481976759396,
          -0.18064291032587737,
          -1.3961469533564512,
          0.45294460213610915,
          -0.5523359480249287,
          -1.2284865503087057,
          -0.9839184126739572,
          -0.3422293725130915,
          0.43163349889880115,
          -0.12968252751998702,
          -2.2310079681006187,
          0.9679175488616665,
          -1.1124360640115944,
          0.06462241949051942
         ]
        },
        {
         "boxpoints": false,
         "line": {
          "width": 1.3
         },
         "marker": {
          "color": "rgba(50, 171, 96, 1.0)"
         },
         "name": "C",
         "orientation": "v",
         "type": "box",
         "y": [
          1.027856233050692,
          1.218819691332298,
          -0.6248077065383141,
          -1.7030401553248025,
          0.8386821474155278,
          -0.7369511885466679,
          -0.760607064596806,
          -0.4701506396148254,
          -0.9752420363858689,
          0.8714048788788313,
          -0.9324804226514437,
          -0.9175968509413431,
          -0.5773282460012145,
          0.18341379991532988,
          0.3889270458433841,
          -0.2404561868704745,
          0.45387528527495025,
          -0.22925368050107353,
          -2.5268756699629487,
          0.847835290200292,
          1.282651941279439,
          0.1582720716623581,
          -0.6646327894405282,
          -0.5176572199861884,
          1.0090458628415175,
          0.033533200611497914,
          1.235587473926201,
          -0.42284973101152,
          1.7309242033880412,
          1.8629567466633654,
          -0.4342693029001846,
          0.8969751585984688,
          0.4273969419568774,
          0.38954762179369073,
          -0.28964772445485343,
          -0.18574876019033443,
          0.3053874338565279,
          0.1160607212223022,
          0.09290359518164934,
          0.4456257500733233,
          0.5073454733400935,
          -0.10409173547276958,
          0.19994197169320588,
          0.6062470992125325,
          -0.2501115505904788,
          -0.7754916765103502,
          1.4559996482254274,
          0.10622651148123047,
          -0.4015722280994274,
          0.36025145222355176,
          -1.0158201424118873,
          -2.169360113128646,
          0.2529741152328386,
          -1.376861301201083,
          1.523231099274402,
          2.3822354146688656,
          0.2930224645185498,
          2.303507375127805,
          -0.04228808594209028,
          -0.623201287384853,
          0.803230605712943,
          -0.19452087068898913,
          -0.4872792386665017,
          0.9159820815745716,
          0.19455868407192214,
          0.5814269806279551,
          0.46371284988433487,
          -0.9220229205650781,
          -1.920532692575124,
          0.19504925951967894,
          -0.28553625410706895,
          2.02424262047401,
          -1.7058694089203703,
          2.15017653224913,
          -0.3211055458145115,
          0.04663664852731371,
          0.3390912455544397,
          0.21421891171161125,
          -0.23691769829522893,
          -0.19077261494802297,
          -1.4442113849385552,
          1.7043919134923207,
          1.2921578890461014,
          -0.41586822575754884,
          0.5020004880514272,
          -0.24677263882673525,
          -1.1313056002899673,
          1.0228252243043117,
          0.22909728148178907,
          -0.31285277613487456,
          0.8065523774367869,
          2.764834558394798,
          2.5280141810595516,
          -1.3157187232280814,
          -0.36095321329218744,
          2.1563452971412818,
          0.47781715500845473,
          0.7433030165273915,
          0.9691548952136163,
          0.3356041583454173
         ]
        },
        {
         "boxpoints": false,
         "line": {
          "width": 1.3
         },
         "marker": {
          "color": "rgba(128, 0, 128, 1.0)"
         },
         "name": "D",
         "orientation": "v",
         "type": "box",
         "y": [
          -0.2548647289377369,
          0.11991083560609044,
          -0.027370511556095847,
          -1.7174128968207305,
          1.6014785885643945,
          0.42264485714417827,
          0.8715801933462936,
          0.44983548332217,
          1.2462303551447877,
          -1.0140229129473624,
          -0.252475622333703,
          0.7080988324831506,
          0.8228019416718878,
          -1.0045478552813947,
          0.2072548084506301,
          -0.29913829858796315,
          -0.03276382842884846,
          -0.13929077045059887,
          -0.6522861959715183,
          -0.3592447282720758,
          1.4344607526326083,
          -1.720646867383011,
          -0.547978572575142,
          -0.7484230729429161,
          0.41267110770184945,
          0.16436180137627124,
          0.17954912369447668,
          0.7292926737251676,
          0.06396691962014875,
          1.2810709654663168,
          -1.8200534050596084,
          -1.302036013698075,
          -0.43926733896447034,
          1.1877455332772344,
          0.15553191104842912,
          -2.0950660332609505,
          1.4076178031342554,
          -0.4593918386360639,
          -2.0667302336893316,
          -0.2612965085583921,
          -0.22090392480296983,
          0.18305151335149294,
          1.3926286274046134,
          1.1816856055752736,
          1.1999409011816575,
          -0.43386007103477353,
          -0.11551081577622681,
          -0.18233679591054483,
          1.9300794996362982,
          0.8010975462042897,
          0.04494910972956476,
          -0.207038023543942,
          -0.6972872700389012,
          -0.5940702673030951,
          0.6890166774265801,
          -0.3998720623215428,
          -0.10186489092408647,
          1.0027172900847539,
          -0.5954361707244198,
          0.04460773581185214,
          1.256368426387719,
          -0.5154142888940284,
          1.1857113392746585,
          -2.4509670993508643,
          0.9373546537978297,
          0.5984696230358664,
          0.27626465858337,
          -2.7665607509274386,
          1.6223898700606318,
          0.24423475272936285,
          -1.8266112904577037,
          -0.7138266481612217,
          1.0014417883675846,
          1.1341617529648378,
          0.3180808897615708,
          0.5378767026560349,
          -0.859297967546852,
          0.6747795131843112,
          1.7037331635993773,
          0.9489888039410239,
          0.31216455323091397,
          -1.3042911982909864,
          0.8269244602790404,
          1.3131589102817827,
          1.5488966104292863,
          0.7881848283970893,
          -0.8910582719771708,
          0.6770044385568382,
          -2.0340667807149764,
          0.7001160828398248,
          1.3261385488710393,
          -0.010833375248821029,
          -0.559291609474772,
          -1.3364470053901067,
          -1.6486901546375117,
          -0.17071337030065223,
          -0.03064229116044874,
          1.9445332338356134,
          -0.22938897043058815,
          -1.213006780356858
         ]
        }
       ],
       "layout": {
        "legend": {
         "bgcolor": "#F5F6F9",
         "font": {
          "color": "#4D5663"
         }
        },
        "paper_bgcolor": "#F5F6F9",
        "plot_bgcolor": "#F5F6F9",
        "template": {
         "data": {
          "bar": [
           {
            "error_x": {
             "color": "#2a3f5f"
            },
            "error_y": {
             "color": "#2a3f5f"
            },
            "marker": {
             "line": {
              "color": "#E5ECF6",
              "width": 0.5
             },
             "pattern": {
              "fillmode": "overlay",
              "size": 10,
              "solidity": 0.2
             }
            },
            "type": "bar"
           }
          ],
          "barpolar": [
           {
            "marker": {
             "line": {
              "color": "#E5ECF6",
              "width": 0.5
             },
             "pattern": {
              "fillmode": "overlay",
              "size": 10,
              "solidity": 0.2
             }
            },
            "type": "barpolar"
           }
          ],
          "carpet": [
           {
            "aaxis": {
             "endlinecolor": "#2a3f5f",
             "gridcolor": "white",
             "linecolor": "white",
             "minorgridcolor": "white",
             "startlinecolor": "#2a3f5f"
            },
            "baxis": {
             "endlinecolor": "#2a3f5f",
             "gridcolor": "white",
             "linecolor": "white",
             "minorgridcolor": "white",
             "startlinecolor": "#2a3f5f"
            },
            "type": "carpet"
           }
          ],
          "choropleth": [
           {
            "colorbar": {
             "outlinewidth": 0,
             "ticks": ""
            },
            "type": "choropleth"
           }
          ],
          "contour": [
           {
            "colorbar": {
             "outlinewidth": 0,
             "ticks": ""
            },
            "colorscale": [
             [
              0,
              "#0d0887"
             ],
             [
              0.1111111111111111,
              "#46039f"
             ],
             [
              0.2222222222222222,
              "#7201a8"
             ],
             [
              0.3333333333333333,
              "#9c179e"
             ],
             [
              0.4444444444444444,
              "#bd3786"
             ],
             [
              0.5555555555555556,
              "#d8576b"
             ],
             [
              0.6666666666666666,
              "#ed7953"
             ],
             [
              0.7777777777777778,
              "#fb9f3a"
             ],
             [
              0.8888888888888888,
              "#fdca26"
             ],
             [
              1,
              "#f0f921"
             ]
            ],
            "type": "contour"
           }
          ],
          "contourcarpet": [
           {
            "colorbar": {
             "outlinewidth": 0,
             "ticks": ""
            },
            "type": "contourcarpet"
           }
          ],
          "heatmap": [
           {
            "colorbar": {
             "outlinewidth": 0,
             "ticks": ""
            },
            "colorscale": [
             [
              0,
              "#0d0887"
             ],
             [
              0.1111111111111111,
              "#46039f"
             ],
             [
              0.2222222222222222,
              "#7201a8"
             ],
             [
              0.3333333333333333,
              "#9c179e"
             ],
             [
              0.4444444444444444,
              "#bd3786"
             ],
             [
              0.5555555555555556,
              "#d8576b"
             ],
             [
              0.6666666666666666,
              "#ed7953"
             ],
             [
              0.7777777777777778,
              "#fb9f3a"
             ],
             [
              0.8888888888888888,
              "#fdca26"
             ],
             [
              1,
              "#f0f921"
             ]
            ],
            "type": "heatmap"
           }
          ],
          "heatmapgl": [
           {
            "colorbar": {
             "outlinewidth": 0,
             "ticks": ""
            },
            "colorscale": [
             [
              0,
              "#0d0887"
             ],
             [
              0.1111111111111111,
              "#46039f"
             ],
             [
              0.2222222222222222,
              "#7201a8"
             ],
             [
              0.3333333333333333,
              "#9c179e"
             ],
             [
              0.4444444444444444,
              "#bd3786"
             ],
             [
              0.5555555555555556,
              "#d8576b"
             ],
             [
              0.6666666666666666,
              "#ed7953"
             ],
             [
              0.7777777777777778,
              "#fb9f3a"
             ],
             [
              0.8888888888888888,
              "#fdca26"
             ],
             [
              1,
              "#f0f921"
             ]
            ],
            "type": "heatmapgl"
           }
          ],
          "histogram": [
           {
            "marker": {
             "pattern": {
              "fillmode": "overlay",
              "size": 10,
              "solidity": 0.2
             }
            },
            "type": "histogram"
           }
          ],
          "histogram2d": [
           {
            "colorbar": {
             "outlinewidth": 0,
             "ticks": ""
            },
            "colorscale": [
             [
              0,
              "#0d0887"
             ],
             [
              0.1111111111111111,
              "#46039f"
             ],
             [
              0.2222222222222222,
              "#7201a8"
             ],
             [
              0.3333333333333333,
              "#9c179e"
             ],
             [
              0.4444444444444444,
              "#bd3786"
             ],
             [
              0.5555555555555556,
              "#d8576b"
             ],
             [
              0.6666666666666666,
              "#ed7953"
             ],
             [
              0.7777777777777778,
              "#fb9f3a"
             ],
             [
              0.8888888888888888,
              "#fdca26"
             ],
             [
              1,
              "#f0f921"
             ]
            ],
            "type": "histogram2d"
           }
          ],
          "histogram2dcontour": [
           {
            "colorbar": {
             "outlinewidth": 0,
             "ticks": ""
            },
            "colorscale": [
             [
              0,
              "#0d0887"
             ],
             [
              0.1111111111111111,
              "#46039f"
             ],
             [
              0.2222222222222222,
              "#7201a8"
             ],
             [
              0.3333333333333333,
              "#9c179e"
             ],
             [
              0.4444444444444444,
              "#bd3786"
             ],
             [
              0.5555555555555556,
              "#d8576b"
             ],
             [
              0.6666666666666666,
              "#ed7953"
             ],
             [
              0.7777777777777778,
              "#fb9f3a"
             ],
             [
              0.8888888888888888,
              "#fdca26"
             ],
             [
              1,
              "#f0f921"
             ]
            ],
            "type": "histogram2dcontour"
           }
          ],
          "mesh3d": [
           {
            "colorbar": {
             "outlinewidth": 0,
             "ticks": ""
            },
            "type": "mesh3d"
           }
          ],
          "parcoords": [
           {
            "line": {
             "colorbar": {
              "outlinewidth": 0,
              "ticks": ""
             }
            },
            "type": "parcoords"
           }
          ],
          "pie": [
           {
            "automargin": true,
            "type": "pie"
           }
          ],
          "scatter": [
           {
            "marker": {
             "colorbar": {
              "outlinewidth": 0,
              "ticks": ""
             }
            },
            "type": "scatter"
           }
          ],
          "scatter3d": [
           {
            "line": {
             "colorbar": {
              "outlinewidth": 0,
              "ticks": ""
             }
            },
            "marker": {
             "colorbar": {
              "outlinewidth": 0,
              "ticks": ""
             }
            },
            "type": "scatter3d"
           }
          ],
          "scattercarpet": [
           {
            "marker": {
             "colorbar": {
              "outlinewidth": 0,
              "ticks": ""
             }
            },
            "type": "scattercarpet"
           }
          ],
          "scattergeo": [
           {
            "marker": {
             "colorbar": {
              "outlinewidth": 0,
              "ticks": ""
             }
            },
            "type": "scattergeo"
           }
          ],
          "scattergl": [
           {
            "marker": {
             "colorbar": {
              "outlinewidth": 0,
              "ticks": ""
             }
            },
            "type": "scattergl"
           }
          ],
          "scattermapbox": [
           {
            "marker": {
             "colorbar": {
              "outlinewidth": 0,
              "ticks": ""
             }
            },
            "type": "scattermapbox"
           }
          ],
          "scatterpolar": [
           {
            "marker": {
             "colorbar": {
              "outlinewidth": 0,
              "ticks": ""
             }
            },
            "type": "scatterpolar"
           }
          ],
          "scatterpolargl": [
           {
            "marker": {
             "colorbar": {
              "outlinewidth": 0,
              "ticks": ""
             }
            },
            "type": "scatterpolargl"
           }
          ],
          "scatterternary": [
           {
            "marker": {
             "colorbar": {
              "outlinewidth": 0,
              "ticks": ""
             }
            },
            "type": "scatterternary"
           }
          ],
          "surface": [
           {
            "colorbar": {
             "outlinewidth": 0,
             "ticks": ""
            },
            "colorscale": [
             [
              0,
              "#0d0887"
             ],
             [
              0.1111111111111111,
              "#46039f"
             ],
             [
              0.2222222222222222,
              "#7201a8"
             ],
             [
              0.3333333333333333,
              "#9c179e"
             ],
             [
              0.4444444444444444,
              "#bd3786"
             ],
             [
              0.5555555555555556,
              "#d8576b"
             ],
             [
              0.6666666666666666,
              "#ed7953"
             ],
             [
              0.7777777777777778,
              "#fb9f3a"
             ],
             [
              0.8888888888888888,
              "#fdca26"
             ],
             [
              1,
              "#f0f921"
             ]
            ],
            "type": "surface"
           }
          ],
          "table": [
           {
            "cells": {
             "fill": {
              "color": "#EBF0F8"
             },
             "line": {
              "color": "white"
             }
            },
            "header": {
             "fill": {
              "color": "#C8D4E3"
             },
             "line": {
              "color": "white"
             }
            },
            "type": "table"
           }
          ]
         },
         "layout": {
          "annotationdefaults": {
           "arrowcolor": "#2a3f5f",
           "arrowhead": 0,
           "arrowwidth": 1
          },
          "autotypenumbers": "strict",
          "coloraxis": {
           "colorbar": {
            "outlinewidth": 0,
            "ticks": ""
           }
          },
          "colorscale": {
           "diverging": [
            [
             0,
             "#8e0152"
            ],
            [
             0.1,
             "#c51b7d"
            ],
            [
             0.2,
             "#de77ae"
            ],
            [
             0.3,
             "#f1b6da"
            ],
            [
             0.4,
             "#fde0ef"
            ],
            [
             0.5,
             "#f7f7f7"
            ],
            [
             0.6,
             "#e6f5d0"
            ],
            [
             0.7,
             "#b8e186"
            ],
            [
             0.8,
             "#7fbc41"
            ],
            [
             0.9,
             "#4d9221"
            ],
            [
             1,
             "#276419"
            ]
           ],
           "sequential": [
            [
             0,
             "#0d0887"
            ],
            [
             0.1111111111111111,
             "#46039f"
            ],
            [
             0.2222222222222222,
             "#7201a8"
            ],
            [
             0.3333333333333333,
             "#9c179e"
            ],
            [
             0.4444444444444444,
             "#bd3786"
            ],
            [
             0.5555555555555556,
             "#d8576b"
            ],
            [
             0.6666666666666666,
             "#ed7953"
            ],
            [
             0.7777777777777778,
             "#fb9f3a"
            ],
            [
             0.8888888888888888,
             "#fdca26"
            ],
            [
             1,
             "#f0f921"
            ]
           ],
           "sequentialminus": [
            [
             0,
             "#0d0887"
            ],
            [
             0.1111111111111111,
             "#46039f"
            ],
            [
             0.2222222222222222,
             "#7201a8"
            ],
            [
             0.3333333333333333,
             "#9c179e"
            ],
            [
             0.4444444444444444,
             "#bd3786"
            ],
            [
             0.5555555555555556,
             "#d8576b"
            ],
            [
             0.6666666666666666,
             "#ed7953"
            ],
            [
             0.7777777777777778,
             "#fb9f3a"
            ],
            [
             0.8888888888888888,
             "#fdca26"
            ],
            [
             1,
             "#f0f921"
            ]
           ]
          },
          "colorway": [
           "#636efa",
           "#EF553B",
           "#00cc96",
           "#ab63fa",
           "#FFA15A",
           "#19d3f3",
           "#FF6692",
           "#B6E880",
           "#FF97FF",
           "#FECB52"
          ],
          "font": {
           "color": "#2a3f5f"
          },
          "geo": {
           "bgcolor": "white",
           "lakecolor": "white",
           "landcolor": "#E5ECF6",
           "showlakes": true,
           "showland": true,
           "subunitcolor": "white"
          },
          "hoverlabel": {
           "align": "left"
          },
          "hovermode": "closest",
          "mapbox": {
           "style": "light"
          },
          "paper_bgcolor": "white",
          "plot_bgcolor": "#E5ECF6",
          "polar": {
           "angularaxis": {
            "gridcolor": "white",
            "linecolor": "white",
            "ticks": ""
           },
           "bgcolor": "#E5ECF6",
           "radialaxis": {
            "gridcolor": "white",
            "linecolor": "white",
            "ticks": ""
           }
          },
          "scene": {
           "xaxis": {
            "backgroundcolor": "#E5ECF6",
            "gridcolor": "white",
            "gridwidth": 2,
            "linecolor": "white",
            "showbackground": true,
            "ticks": "",
            "zerolinecolor": "white"
           },
           "yaxis": {
            "backgroundcolor": "#E5ECF6",
            "gridcolor": "white",
            "gridwidth": 2,
            "linecolor": "white",
            "showbackground": true,
            "ticks": "",
            "zerolinecolor": "white"
           },
           "zaxis": {
            "backgroundcolor": "#E5ECF6",
            "gridcolor": "white",
            "gridwidth": 2,
            "linecolor": "white",
            "showbackground": true,
            "ticks": "",
            "zerolinecolor": "white"
           }
          },
          "shapedefaults": {
           "line": {
            "color": "#2a3f5f"
           }
          },
          "ternary": {
           "aaxis": {
            "gridcolor": "white",
            "linecolor": "white",
            "ticks": ""
           },
           "baxis": {
            "gridcolor": "white",
            "linecolor": "white",
            "ticks": ""
           },
           "bgcolor": "#E5ECF6",
           "caxis": {
            "gridcolor": "white",
            "linecolor": "white",
            "ticks": ""
           }
          },
          "title": {
           "x": 0.05
          },
          "xaxis": {
           "automargin": true,
           "gridcolor": "white",
           "linecolor": "white",
           "ticks": "",
           "title": {
            "standoff": 15
           },
           "zerolinecolor": "white",
           "zerolinewidth": 2
          },
          "yaxis": {
           "automargin": true,
           "gridcolor": "white",
           "linecolor": "white",
           "ticks": "",
           "title": {
            "standoff": 15
           },
           "zerolinecolor": "white",
           "zerolinewidth": 2
          }
         }
        },
        "title": {
         "font": {
          "color": "#4D5663"
         }
        },
        "xaxis": {
         "gridcolor": "#E1E5ED",
         "showgrid": true,
         "tickfont": {
          "color": "#4D5663"
         },
         "title": {
          "font": {
           "color": "#4D5663"
          },
          "text": ""
         },
         "zerolinecolor": "#E1E5ED"
        },
        "yaxis": {
         "gridcolor": "#E1E5ED",
         "showgrid": true,
         "tickfont": {
          "color": "#4D5663"
         },
         "title": {
          "font": {
           "color": "#4D5663"
          },
          "text": ""
         },
         "zerolinecolor": "#E1E5ED"
        }
       }
      },
      "text/html": [
       "<div>                            <div id=\"1863821d-3e71-4975-8d56-bf1bae086758\" class=\"plotly-graph-div\" style=\"height:525px; width:100%;\"></div>            <script type=\"text/javascript\">                require([\"plotly\"], function(Plotly) {                    window.PLOTLYENV=window.PLOTLYENV || {};\n",
       "                    window.PLOTLYENV.BASE_URL='https://plot.ly';                                    if (document.getElementById(\"1863821d-3e71-4975-8d56-bf1bae086758\")) {                    Plotly.newPlot(                        \"1863821d-3e71-4975-8d56-bf1bae086758\",                        [{\"boxpoints\":false,\"line\":{\"width\":1.3},\"marker\":{\"color\":\"rgba(255, 153, 51, 1.0)\"},\"name\":\"A\",\"orientation\":\"v\",\"type\":\"box\",\"y\":[1.0306531774627894,-1.2764594295792628,-2.007425835370658,1.1822103084826039,0.35608523117968155,0.27841238683736536,1.1751915700868945,-1.8123684253200218,0.15598217139030196,-0.5033310910133766,-0.5699399931599826,-0.07633533618674429,-2.004031638543584,-1.4131671302924367,1.5132620658210114,-0.09818026933141981,0.5931422343995467,1.0350325401095455,0.8736985428854916,0.1297605827241348,-0.40681515090843073,0.054384987360707994,-1.3777315482312165,-0.3297611876737317,2.3375924671188657,-0.9934026325789047,0.7831313478859588,0.6071592818927777,-1.5272089990095563,0.5439162023233473,1.1433214013625341,0.02363890445662154,0.36324894281452563,1.418692838399726,0.0032313784208553983,0.7376422679377489,-1.3135443305713557,0.2591394467052669,1.8726021333712695,-0.02267342733907837,-0.7117968358970819,-1.3815439752350147,0.5474069882633411,-0.14082838399786934,1.295800241524183,0.16587449002004045,-0.13623801126290602,-0.2841987455277562,-0.02657306813411636,-0.044358228099686814,0.7603630152471096,0.9105796238764517,0.5547276955749623,-1.6920327034935343,1.8012772604158922,1.0957537495842795,0.5278414279740992,-0.2579914977579109,-0.28010895433133803,-1.299882900782398,0.33419777531472783,0.25097425183628885,0.00940578100952716,0.061957118758716886,0.6522371871228492,0.18668169152173955,-1.3704814477703093,1.223642880212177,0.835811547517684,-1.9416047189095023,1.0209035834040083,-1.3014432518302246,0.9541745862125112,-0.4272130687617453,-1.0222157852329774,-0.28183416434644315,-1.2570497039234507,0.04750719678875333,0.49176992055093344,-0.7113589983611227,1.7543260318333134,0.36914224227737086,0.7310662346175594,0.6176993277494718,2.571811090509869,0.3869519696142842,0.9717144678765081,-0.759355555685107,-1.3649911929203533,1.025587645804269,-1.419560991950135,-1.7157191586652238,2.398947322575383,-1.128045677752533,-1.6350856463229864,0.36488475451516117,-0.9049450091422594,0.7338903579787782,1.1938403568058797,1.0174692575408952]},{\"boxpoints\":false,\"line\":{\"width\":1.3},\"marker\":{\"color\":\"rgba(55, 128, 191, 1.0)\"},\"name\":\"B\",\"orientation\":\"v\",\"type\":\"box\",\"y\":[-1.879318434737494,-0.49376240639959207,0.6332852498752116,0.05982920481099076,-0.45033326574357047,0.4780838526561915,0.2308646707202015,-0.4854975839734933,-0.1584023785037026,-0.7569330364249099,-1.2515830552574734,0.1908343665062289,-0.27427096038126997,-0.16494411658574556,1.0458614581281858,-0.7058384235612785,-1.1008257454485377,-0.5171405398885567,0.7774689975975859,0.1161453633306047,-0.7254257020581931,0.9997282963094282,-1.2175391994439475,-0.4032619171768969,1.178911179247722,-0.912336057384369,0.8704923498223446,-0.1429929067278444,-0.8155297099700727,-0.15693239688487548,-0.6611259733304673,-0.24163226558705464,1.9177322073356615,-0.17925908171876542,0.5625651927892863,-0.019120331964386623,0.8116619297158044,0.3170414557506839,0.6343449023308668,0.03552622091638352,2.149271896386203,1.0917890491818028,2.10597794808911,1.5871791620513425,-0.15184848489601235,-1.0853796732401266,-0.7854456468295216,0.10771338015465624,0.23000625228123567,-0.3115716415815013,-0.23648843341717046,-0.1759851101684985,-0.2470280124499729,-0.6557463265401569,0.37126719990984497,0.9190553436547041,0.8414066517645015,0.4717402442989092,-0.8584748946180241,-0.6379745172590058,-0.03635803447437388,1.2448777768443768,-2.3066094376938517,-0.7662876287767219,-0.054724390833976795,-0.5248788430371149,0.5926454521392258,-0.05721717949569917,-1.3801070410731737,0.0602725127541095,1.21849498916648,1.4372290980889477,2.543998541586174,-1.359347935580105,0.7812931470112162,0.3111546480607504,1.4181147334897954,-1.074304103543346,0.11768263512512897,0.70590446887133,-0.08115145651149062,0.2816969042936072,-0.12729256715473372,-0.9235802995434116,0.6978291184446651,-0.14023362537906392,-0.531481976759396,-0.18064291032587737,-1.3961469533564512,0.45294460213610915,-0.5523359480249287,-1.2284865503087057,-0.9839184126739572,-0.3422293725130915,0.43163349889880115,-0.12968252751998702,-2.2310079681006187,0.9679175488616665,-1.1124360640115944,0.06462241949051942]},{\"boxpoints\":false,\"line\":{\"width\":1.3},\"marker\":{\"color\":\"rgba(50, 171, 96, 1.0)\"},\"name\":\"C\",\"orientation\":\"v\",\"type\":\"box\",\"y\":[1.027856233050692,1.218819691332298,-0.6248077065383141,-1.7030401553248025,0.8386821474155278,-0.7369511885466679,-0.760607064596806,-0.4701506396148254,-0.9752420363858689,0.8714048788788313,-0.9324804226514437,-0.9175968509413431,-0.5773282460012145,0.18341379991532988,0.3889270458433841,-0.2404561868704745,0.45387528527495025,-0.22925368050107353,-2.5268756699629487,0.847835290200292,1.282651941279439,0.1582720716623581,-0.6646327894405282,-0.5176572199861884,1.0090458628415175,0.033533200611497914,1.235587473926201,-0.42284973101152,1.7309242033880412,1.8629567466633654,-0.4342693029001846,0.8969751585984688,0.4273969419568774,0.38954762179369073,-0.28964772445485343,-0.18574876019033443,0.3053874338565279,0.1160607212223022,0.09290359518164934,0.4456257500733233,0.5073454733400935,-0.10409173547276958,0.19994197169320588,0.6062470992125325,-0.2501115505904788,-0.7754916765103502,1.4559996482254274,0.10622651148123047,-0.4015722280994274,0.36025145222355176,-1.0158201424118873,-2.169360113128646,0.2529741152328386,-1.376861301201083,1.523231099274402,2.3822354146688656,0.2930224645185498,2.303507375127805,-0.04228808594209028,-0.623201287384853,0.803230605712943,-0.19452087068898913,-0.4872792386665017,0.9159820815745716,0.19455868407192214,0.5814269806279551,0.46371284988433487,-0.9220229205650781,-1.920532692575124,0.19504925951967894,-0.28553625410706895,2.02424262047401,-1.7058694089203703,2.15017653224913,-0.3211055458145115,0.04663664852731371,0.3390912455544397,0.21421891171161125,-0.23691769829522893,-0.19077261494802297,-1.4442113849385552,1.7043919134923207,1.2921578890461014,-0.41586822575754884,0.5020004880514272,-0.24677263882673525,-1.1313056002899673,1.0228252243043117,0.22909728148178907,-0.31285277613487456,0.8065523774367869,2.764834558394798,2.5280141810595516,-1.3157187232280814,-0.36095321329218744,2.1563452971412818,0.47781715500845473,0.7433030165273915,0.9691548952136163,0.3356041583454173]},{\"boxpoints\":false,\"line\":{\"width\":1.3},\"marker\":{\"color\":\"rgba(128, 0, 128, 1.0)\"},\"name\":\"D\",\"orientation\":\"v\",\"type\":\"box\",\"y\":[-0.2548647289377369,0.11991083560609044,-0.027370511556095847,-1.7174128968207305,1.6014785885643945,0.42264485714417827,0.8715801933462936,0.44983548332217,1.2462303551447877,-1.0140229129473624,-0.252475622333703,0.7080988324831506,0.8228019416718878,-1.0045478552813947,0.2072548084506301,-0.29913829858796315,-0.03276382842884846,-0.13929077045059887,-0.6522861959715183,-0.3592447282720758,1.4344607526326083,-1.720646867383011,-0.547978572575142,-0.7484230729429161,0.41267110770184945,0.16436180137627124,0.17954912369447668,0.7292926737251676,0.06396691962014875,1.2810709654663168,-1.8200534050596084,-1.302036013698075,-0.43926733896447034,1.1877455332772344,0.15553191104842912,-2.0950660332609505,1.4076178031342554,-0.4593918386360639,-2.0667302336893316,-0.2612965085583921,-0.22090392480296983,0.18305151335149294,1.3926286274046134,1.1816856055752736,1.1999409011816575,-0.43386007103477353,-0.11551081577622681,-0.18233679591054483,1.9300794996362982,0.8010975462042897,0.04494910972956476,-0.207038023543942,-0.6972872700389012,-0.5940702673030951,0.6890166774265801,-0.3998720623215428,-0.10186489092408647,1.0027172900847539,-0.5954361707244198,0.04460773581185214,1.256368426387719,-0.5154142888940284,1.1857113392746585,-2.4509670993508643,0.9373546537978297,0.5984696230358664,0.27626465858337,-2.7665607509274386,1.6223898700606318,0.24423475272936285,-1.8266112904577037,-0.7138266481612217,1.0014417883675846,1.1341617529648378,0.3180808897615708,0.5378767026560349,-0.859297967546852,0.6747795131843112,1.7037331635993773,0.9489888039410239,0.31216455323091397,-1.3042911982909864,0.8269244602790404,1.3131589102817827,1.5488966104292863,0.7881848283970893,-0.8910582719771708,0.6770044385568382,-2.0340667807149764,0.7001160828398248,1.3261385488710393,-0.010833375248821029,-0.559291609474772,-1.3364470053901067,-1.6486901546375117,-0.17071337030065223,-0.03064229116044874,1.9445332338356134,-0.22938897043058815,-1.213006780356858]}],                        {\"legend\":{\"bgcolor\":\"#F5F6F9\",\"font\":{\"color\":\"#4D5663\"}},\"paper_bgcolor\":\"#F5F6F9\",\"plot_bgcolor\":\"#F5F6F9\",\"template\":{\"data\":{\"bar\":[{\"error_x\":{\"color\":\"#2a3f5f\"},\"error_y\":{\"color\":\"#2a3f5f\"},\"marker\":{\"line\":{\"color\":\"#E5ECF6\",\"width\":0.5},\"pattern\":{\"fillmode\":\"overlay\",\"size\":10,\"solidity\":0.2}},\"type\":\"bar\"}],\"barpolar\":[{\"marker\":{\"line\":{\"color\":\"#E5ECF6\",\"width\":0.5},\"pattern\":{\"fillmode\":\"overlay\",\"size\":10,\"solidity\":0.2}},\"type\":\"barpolar\"}],\"carpet\":[{\"aaxis\":{\"endlinecolor\":\"#2a3f5f\",\"gridcolor\":\"white\",\"linecolor\":\"white\",\"minorgridcolor\":\"white\",\"startlinecolor\":\"#2a3f5f\"},\"baxis\":{\"endlinecolor\":\"#2a3f5f\",\"gridcolor\":\"white\",\"linecolor\":\"white\",\"minorgridcolor\":\"white\",\"startlinecolor\":\"#2a3f5f\"},\"type\":\"carpet\"}],\"choropleth\":[{\"colorbar\":{\"outlinewidth\":0,\"ticks\":\"\"},\"type\":\"choropleth\"}],\"contour\":[{\"colorbar\":{\"outlinewidth\":0,\"ticks\":\"\"},\"colorscale\":[[0.0,\"#0d0887\"],[0.1111111111111111,\"#46039f\"],[0.2222222222222222,\"#7201a8\"],[0.3333333333333333,\"#9c179e\"],[0.4444444444444444,\"#bd3786\"],[0.5555555555555556,\"#d8576b\"],[0.6666666666666666,\"#ed7953\"],[0.7777777777777778,\"#fb9f3a\"],[0.8888888888888888,\"#fdca26\"],[1.0,\"#f0f921\"]],\"type\":\"contour\"}],\"contourcarpet\":[{\"colorbar\":{\"outlinewidth\":0,\"ticks\":\"\"},\"type\":\"contourcarpet\"}],\"heatmap\":[{\"colorbar\":{\"outlinewidth\":0,\"ticks\":\"\"},\"colorscale\":[[0.0,\"#0d0887\"],[0.1111111111111111,\"#46039f\"],[0.2222222222222222,\"#7201a8\"],[0.3333333333333333,\"#9c179e\"],[0.4444444444444444,\"#bd3786\"],[0.5555555555555556,\"#d8576b\"],[0.6666666666666666,\"#ed7953\"],[0.7777777777777778,\"#fb9f3a\"],[0.8888888888888888,\"#fdca26\"],[1.0,\"#f0f921\"]],\"type\":\"heatmap\"}],\"heatmapgl\":[{\"colorbar\":{\"outlinewidth\":0,\"ticks\":\"\"},\"colorscale\":[[0.0,\"#0d0887\"],[0.1111111111111111,\"#46039f\"],[0.2222222222222222,\"#7201a8\"],[0.3333333333333333,\"#9c179e\"],[0.4444444444444444,\"#bd3786\"],[0.5555555555555556,\"#d8576b\"],[0.6666666666666666,\"#ed7953\"],[0.7777777777777778,\"#fb9f3a\"],[0.8888888888888888,\"#fdca26\"],[1.0,\"#f0f921\"]],\"type\":\"heatmapgl\"}],\"histogram\":[{\"marker\":{\"pattern\":{\"fillmode\":\"overlay\",\"size\":10,\"solidity\":0.2}},\"type\":\"histogram\"}],\"histogram2d\":[{\"colorbar\":{\"outlinewidth\":0,\"ticks\":\"\"},\"colorscale\":[[0.0,\"#0d0887\"],[0.1111111111111111,\"#46039f\"],[0.2222222222222222,\"#7201a8\"],[0.3333333333333333,\"#9c179e\"],[0.4444444444444444,\"#bd3786\"],[0.5555555555555556,\"#d8576b\"],[0.6666666666666666,\"#ed7953\"],[0.7777777777777778,\"#fb9f3a\"],[0.8888888888888888,\"#fdca26\"],[1.0,\"#f0f921\"]],\"type\":\"histogram2d\"}],\"histogram2dcontour\":[{\"colorbar\":{\"outlinewidth\":0,\"ticks\":\"\"},\"colorscale\":[[0.0,\"#0d0887\"],[0.1111111111111111,\"#46039f\"],[0.2222222222222222,\"#7201a8\"],[0.3333333333333333,\"#9c179e\"],[0.4444444444444444,\"#bd3786\"],[0.5555555555555556,\"#d8576b\"],[0.6666666666666666,\"#ed7953\"],[0.7777777777777778,\"#fb9f3a\"],[0.8888888888888888,\"#fdca26\"],[1.0,\"#f0f921\"]],\"type\":\"histogram2dcontour\"}],\"mesh3d\":[{\"colorbar\":{\"outlinewidth\":0,\"ticks\":\"\"},\"type\":\"mesh3d\"}],\"parcoords\":[{\"line\":{\"colorbar\":{\"outlinewidth\":0,\"ticks\":\"\"}},\"type\":\"parcoords\"}],\"pie\":[{\"automargin\":true,\"type\":\"pie\"}],\"scatter\":[{\"marker\":{\"colorbar\":{\"outlinewidth\":0,\"ticks\":\"\"}},\"type\":\"scatter\"}],\"scatter3d\":[{\"line\":{\"colorbar\":{\"outlinewidth\":0,\"ticks\":\"\"}},\"marker\":{\"colorbar\":{\"outlinewidth\":0,\"ticks\":\"\"}},\"type\":\"scatter3d\"}],\"scattercarpet\":[{\"marker\":{\"colorbar\":{\"outlinewidth\":0,\"ticks\":\"\"}},\"type\":\"scattercarpet\"}],\"scattergeo\":[{\"marker\":{\"colorbar\":{\"outlinewidth\":0,\"ticks\":\"\"}},\"type\":\"scattergeo\"}],\"scattergl\":[{\"marker\":{\"colorbar\":{\"outlinewidth\":0,\"ticks\":\"\"}},\"type\":\"scattergl\"}],\"scattermapbox\":[{\"marker\":{\"colorbar\":{\"outlinewidth\":0,\"ticks\":\"\"}},\"type\":\"scattermapbox\"}],\"scatterpolar\":[{\"marker\":{\"colorbar\":{\"outlinewidth\":0,\"ticks\":\"\"}},\"type\":\"scatterpolar\"}],\"scatterpolargl\":[{\"marker\":{\"colorbar\":{\"outlinewidth\":0,\"ticks\":\"\"}},\"type\":\"scatterpolargl\"}],\"scatterternary\":[{\"marker\":{\"colorbar\":{\"outlinewidth\":0,\"ticks\":\"\"}},\"type\":\"scatterternary\"}],\"surface\":[{\"colorbar\":{\"outlinewidth\":0,\"ticks\":\"\"},\"colorscale\":[[0.0,\"#0d0887\"],[0.1111111111111111,\"#46039f\"],[0.2222222222222222,\"#7201a8\"],[0.3333333333333333,\"#9c179e\"],[0.4444444444444444,\"#bd3786\"],[0.5555555555555556,\"#d8576b\"],[0.6666666666666666,\"#ed7953\"],[0.7777777777777778,\"#fb9f3a\"],[0.8888888888888888,\"#fdca26\"],[1.0,\"#f0f921\"]],\"type\":\"surface\"}],\"table\":[{\"cells\":{\"fill\":{\"color\":\"#EBF0F8\"},\"line\":{\"color\":\"white\"}},\"header\":{\"fill\":{\"color\":\"#C8D4E3\"},\"line\":{\"color\":\"white\"}},\"type\":\"table\"}]},\"layout\":{\"annotationdefaults\":{\"arrowcolor\":\"#2a3f5f\",\"arrowhead\":0,\"arrowwidth\":1},\"autotypenumbers\":\"strict\",\"coloraxis\":{\"colorbar\":{\"outlinewidth\":0,\"ticks\":\"\"}},\"colorscale\":{\"diverging\":[[0,\"#8e0152\"],[0.1,\"#c51b7d\"],[0.2,\"#de77ae\"],[0.3,\"#f1b6da\"],[0.4,\"#fde0ef\"],[0.5,\"#f7f7f7\"],[0.6,\"#e6f5d0\"],[0.7,\"#b8e186\"],[0.8,\"#7fbc41\"],[0.9,\"#4d9221\"],[1,\"#276419\"]],\"sequential\":[[0.0,\"#0d0887\"],[0.1111111111111111,\"#46039f\"],[0.2222222222222222,\"#7201a8\"],[0.3333333333333333,\"#9c179e\"],[0.4444444444444444,\"#bd3786\"],[0.5555555555555556,\"#d8576b\"],[0.6666666666666666,\"#ed7953\"],[0.7777777777777778,\"#fb9f3a\"],[0.8888888888888888,\"#fdca26\"],[1.0,\"#f0f921\"]],\"sequentialminus\":[[0.0,\"#0d0887\"],[0.1111111111111111,\"#46039f\"],[0.2222222222222222,\"#7201a8\"],[0.3333333333333333,\"#9c179e\"],[0.4444444444444444,\"#bd3786\"],[0.5555555555555556,\"#d8576b\"],[0.6666666666666666,\"#ed7953\"],[0.7777777777777778,\"#fb9f3a\"],[0.8888888888888888,\"#fdca26\"],[1.0,\"#f0f921\"]]},\"colorway\":[\"#636efa\",\"#EF553B\",\"#00cc96\",\"#ab63fa\",\"#FFA15A\",\"#19d3f3\",\"#FF6692\",\"#B6E880\",\"#FF97FF\",\"#FECB52\"],\"font\":{\"color\":\"#2a3f5f\"},\"geo\":{\"bgcolor\":\"white\",\"lakecolor\":\"white\",\"landcolor\":\"#E5ECF6\",\"showlakes\":true,\"showland\":true,\"subunitcolor\":\"white\"},\"hoverlabel\":{\"align\":\"left\"},\"hovermode\":\"closest\",\"mapbox\":{\"style\":\"light\"},\"paper_bgcolor\":\"white\",\"plot_bgcolor\":\"#E5ECF6\",\"polar\":{\"angularaxis\":{\"gridcolor\":\"white\",\"linecolor\":\"white\",\"ticks\":\"\"},\"bgcolor\":\"#E5ECF6\",\"radialaxis\":{\"gridcolor\":\"white\",\"linecolor\":\"white\",\"ticks\":\"\"}},\"scene\":{\"xaxis\":{\"backgroundcolor\":\"#E5ECF6\",\"gridcolor\":\"white\",\"gridwidth\":2,\"linecolor\":\"white\",\"showbackground\":true,\"ticks\":\"\",\"zerolinecolor\":\"white\"},\"yaxis\":{\"backgroundcolor\":\"#E5ECF6\",\"gridcolor\":\"white\",\"gridwidth\":2,\"linecolor\":\"white\",\"showbackground\":true,\"ticks\":\"\",\"zerolinecolor\":\"white\"},\"zaxis\":{\"backgroundcolor\":\"#E5ECF6\",\"gridcolor\":\"white\",\"gridwidth\":2,\"linecolor\":\"white\",\"showbackground\":true,\"ticks\":\"\",\"zerolinecolor\":\"white\"}},\"shapedefaults\":{\"line\":{\"color\":\"#2a3f5f\"}},\"ternary\":{\"aaxis\":{\"gridcolor\":\"white\",\"linecolor\":\"white\",\"ticks\":\"\"},\"baxis\":{\"gridcolor\":\"white\",\"linecolor\":\"white\",\"ticks\":\"\"},\"bgcolor\":\"#E5ECF6\",\"caxis\":{\"gridcolor\":\"white\",\"linecolor\":\"white\",\"ticks\":\"\"}},\"title\":{\"x\":0.05},\"xaxis\":{\"automargin\":true,\"gridcolor\":\"white\",\"linecolor\":\"white\",\"ticks\":\"\",\"title\":{\"standoff\":15},\"zerolinecolor\":\"white\",\"zerolinewidth\":2},\"yaxis\":{\"automargin\":true,\"gridcolor\":\"white\",\"linecolor\":\"white\",\"ticks\":\"\",\"title\":{\"standoff\":15},\"zerolinecolor\":\"white\",\"zerolinewidth\":2}}},\"title\":{\"font\":{\"color\":\"#4D5663\"}},\"xaxis\":{\"gridcolor\":\"#E1E5ED\",\"showgrid\":true,\"tickfont\":{\"color\":\"#4D5663\"},\"title\":{\"font\":{\"color\":\"#4D5663\"},\"text\":\"\"},\"zerolinecolor\":\"#E1E5ED\"},\"yaxis\":{\"gridcolor\":\"#E1E5ED\",\"showgrid\":true,\"tickfont\":{\"color\":\"#4D5663\"},\"title\":{\"font\":{\"color\":\"#4D5663\"},\"text\":\"\"},\"zerolinecolor\":\"#E1E5ED\"}},                        {\"showLink\": true, \"linkText\": \"Export to plot.ly\", \"plotlyServerURL\": \"https://plot.ly\", \"responsive\": true}                    ).then(function(){\n",
       "                            \n",
       "var gd = document.getElementById('1863821d-3e71-4975-8d56-bf1bae086758');\n",
       "var x = new MutationObserver(function (mutations, observer) {{\n",
       "        var display = window.getComputedStyle(gd).display;\n",
       "        if (!display || display === 'none') {{\n",
       "            console.log([gd, 'removed!']);\n",
       "            Plotly.purge(gd);\n",
       "            observer.disconnect();\n",
       "        }}\n",
       "}});\n",
       "\n",
       "// Listen for the removal of the full notebook cells\n",
       "var notebookContainer = gd.closest('#notebook-container');\n",
       "if (notebookContainer) {{\n",
       "    x.observe(notebookContainer, {childList: true});\n",
       "}}\n",
       "\n",
       "// Listen for the clearing of the current output cell\n",
       "var outputEl = gd.closest('.output');\n",
       "if (outputEl) {{\n",
       "    x.observe(outputEl, {childList: true});\n",
       "}}\n",
       "\n",
       "                        })                };                });            </script>        </div>"
      ]
     },
     "metadata": {},
     "output_type": "display_data"
    }
   ],
   "source": [
    "df.iplot(kind='box')"
   ]
  },
  {
   "cell_type": "markdown",
   "metadata": {
    "id": "8ztrdENFJLza"
   },
   "source": [
    "## Superficie 3D"
   ]
  },
  {
   "cell_type": "code",
   "execution_count": 16,
   "metadata": {
    "colab": {
     "base_uri": "https://localhost:8080/",
     "height": 542
    },
    "id": "-Vi9HzBHJLzb",
    "outputId": "f7c0f78d-93dd-44a1-e6f2-003a2731b799"
   },
   "outputs": [
    {
     "data": {
      "application/vnd.plotly.v1+json": {
       "config": {
        "linkText": "Export to plot.ly",
        "plotlyServerURL": "https://plot.ly",
        "showLink": true
       },
       "data": [
        {
         "colorscale": [
          [
           0,
           "rgb(165,0,38)"
          ],
          [
           0.1,
           "rgb(215,48,39)"
          ],
          [
           0.2,
           "rgb(244,109,67)"
          ],
          [
           0.3,
           "rgb(253,174,97)"
          ],
          [
           0.4,
           "rgb(254,224,144)"
          ],
          [
           0.5,
           "rgb(255,255,191)"
          ],
          [
           0.6,
           "rgb(224,243,248)"
          ],
          [
           0.7,
           "rgb(171,217,233)"
          ],
          [
           0.8,
           "rgb(116,173,209)"
          ],
          [
           0.9,
           "rgb(69,117,180)"
          ],
          [
           1,
           "rgb(49,54,149)"
          ]
         ],
         "type": "surface",
         "x": [
          0,
          1,
          2,
          3,
          4
         ],
         "y": [
          "x",
          "y",
          "z"
         ],
         "z": [
          [
           1,
           2,
           3,
           4,
           5
          ],
          [
           10,
           20,
           30,
           20,
           10
          ],
          [
           5,
           4,
           3,
           2,
           1
          ]
         ]
        }
       ],
       "layout": {
        "legend": {
         "bgcolor": "#F5F6F9",
         "font": {
          "color": "#4D5663"
         }
        },
        "paper_bgcolor": "#F5F6F9",
        "plot_bgcolor": "#F5F6F9",
        "template": {
         "data": {
          "bar": [
           {
            "error_x": {
             "color": "#2a3f5f"
            },
            "error_y": {
             "color": "#2a3f5f"
            },
            "marker": {
             "line": {
              "color": "#E5ECF6",
              "width": 0.5
             },
             "pattern": {
              "fillmode": "overlay",
              "size": 10,
              "solidity": 0.2
             }
            },
            "type": "bar"
           }
          ],
          "barpolar": [
           {
            "marker": {
             "line": {
              "color": "#E5ECF6",
              "width": 0.5
             },
             "pattern": {
              "fillmode": "overlay",
              "size": 10,
              "solidity": 0.2
             }
            },
            "type": "barpolar"
           }
          ],
          "carpet": [
           {
            "aaxis": {
             "endlinecolor": "#2a3f5f",
             "gridcolor": "white",
             "linecolor": "white",
             "minorgridcolor": "white",
             "startlinecolor": "#2a3f5f"
            },
            "baxis": {
             "endlinecolor": "#2a3f5f",
             "gridcolor": "white",
             "linecolor": "white",
             "minorgridcolor": "white",
             "startlinecolor": "#2a3f5f"
            },
            "type": "carpet"
           }
          ],
          "choropleth": [
           {
            "colorbar": {
             "outlinewidth": 0,
             "ticks": ""
            },
            "type": "choropleth"
           }
          ],
          "contour": [
           {
            "colorbar": {
             "outlinewidth": 0,
             "ticks": ""
            },
            "colorscale": [
             [
              0,
              "#0d0887"
             ],
             [
              0.1111111111111111,
              "#46039f"
             ],
             [
              0.2222222222222222,
              "#7201a8"
             ],
             [
              0.3333333333333333,
              "#9c179e"
             ],
             [
              0.4444444444444444,
              "#bd3786"
             ],
             [
              0.5555555555555556,
              "#d8576b"
             ],
             [
              0.6666666666666666,
              "#ed7953"
             ],
             [
              0.7777777777777778,
              "#fb9f3a"
             ],
             [
              0.8888888888888888,
              "#fdca26"
             ],
             [
              1,
              "#f0f921"
             ]
            ],
            "type": "contour"
           }
          ],
          "contourcarpet": [
           {
            "colorbar": {
             "outlinewidth": 0,
             "ticks": ""
            },
            "type": "contourcarpet"
           }
          ],
          "heatmap": [
           {
            "colorbar": {
             "outlinewidth": 0,
             "ticks": ""
            },
            "colorscale": [
             [
              0,
              "#0d0887"
             ],
             [
              0.1111111111111111,
              "#46039f"
             ],
             [
              0.2222222222222222,
              "#7201a8"
             ],
             [
              0.3333333333333333,
              "#9c179e"
             ],
             [
              0.4444444444444444,
              "#bd3786"
             ],
             [
              0.5555555555555556,
              "#d8576b"
             ],
             [
              0.6666666666666666,
              "#ed7953"
             ],
             [
              0.7777777777777778,
              "#fb9f3a"
             ],
             [
              0.8888888888888888,
              "#fdca26"
             ],
             [
              1,
              "#f0f921"
             ]
            ],
            "type": "heatmap"
           }
          ],
          "heatmapgl": [
           {
            "colorbar": {
             "outlinewidth": 0,
             "ticks": ""
            },
            "colorscale": [
             [
              0,
              "#0d0887"
             ],
             [
              0.1111111111111111,
              "#46039f"
             ],
             [
              0.2222222222222222,
              "#7201a8"
             ],
             [
              0.3333333333333333,
              "#9c179e"
             ],
             [
              0.4444444444444444,
              "#bd3786"
             ],
             [
              0.5555555555555556,
              "#d8576b"
             ],
             [
              0.6666666666666666,
              "#ed7953"
             ],
             [
              0.7777777777777778,
              "#fb9f3a"
             ],
             [
              0.8888888888888888,
              "#fdca26"
             ],
             [
              1,
              "#f0f921"
             ]
            ],
            "type": "heatmapgl"
           }
          ],
          "histogram": [
           {
            "marker": {
             "pattern": {
              "fillmode": "overlay",
              "size": 10,
              "solidity": 0.2
             }
            },
            "type": "histogram"
           }
          ],
          "histogram2d": [
           {
            "colorbar": {
             "outlinewidth": 0,
             "ticks": ""
            },
            "colorscale": [
             [
              0,
              "#0d0887"
             ],
             [
              0.1111111111111111,
              "#46039f"
             ],
             [
              0.2222222222222222,
              "#7201a8"
             ],
             [
              0.3333333333333333,
              "#9c179e"
             ],
             [
              0.4444444444444444,
              "#bd3786"
             ],
             [
              0.5555555555555556,
              "#d8576b"
             ],
             [
              0.6666666666666666,
              "#ed7953"
             ],
             [
              0.7777777777777778,
              "#fb9f3a"
             ],
             [
              0.8888888888888888,
              "#fdca26"
             ],
             [
              1,
              "#f0f921"
             ]
            ],
            "type": "histogram2d"
           }
          ],
          "histogram2dcontour": [
           {
            "colorbar": {
             "outlinewidth": 0,
             "ticks": ""
            },
            "colorscale": [
             [
              0,
              "#0d0887"
             ],
             [
              0.1111111111111111,
              "#46039f"
             ],
             [
              0.2222222222222222,
              "#7201a8"
             ],
             [
              0.3333333333333333,
              "#9c179e"
             ],
             [
              0.4444444444444444,
              "#bd3786"
             ],
             [
              0.5555555555555556,
              "#d8576b"
             ],
             [
              0.6666666666666666,
              "#ed7953"
             ],
             [
              0.7777777777777778,
              "#fb9f3a"
             ],
             [
              0.8888888888888888,
              "#fdca26"
             ],
             [
              1,
              "#f0f921"
             ]
            ],
            "type": "histogram2dcontour"
           }
          ],
          "mesh3d": [
           {
            "colorbar": {
             "outlinewidth": 0,
             "ticks": ""
            },
            "type": "mesh3d"
           }
          ],
          "parcoords": [
           {
            "line": {
             "colorbar": {
              "outlinewidth": 0,
              "ticks": ""
             }
            },
            "type": "parcoords"
           }
          ],
          "pie": [
           {
            "automargin": true,
            "type": "pie"
           }
          ],
          "scatter": [
           {
            "marker": {
             "colorbar": {
              "outlinewidth": 0,
              "ticks": ""
             }
            },
            "type": "scatter"
           }
          ],
          "scatter3d": [
           {
            "line": {
             "colorbar": {
              "outlinewidth": 0,
              "ticks": ""
             }
            },
            "marker": {
             "colorbar": {
              "outlinewidth": 0,
              "ticks": ""
             }
            },
            "type": "scatter3d"
           }
          ],
          "scattercarpet": [
           {
            "marker": {
             "colorbar": {
              "outlinewidth": 0,
              "ticks": ""
             }
            },
            "type": "scattercarpet"
           }
          ],
          "scattergeo": [
           {
            "marker": {
             "colorbar": {
              "outlinewidth": 0,
              "ticks": ""
             }
            },
            "type": "scattergeo"
           }
          ],
          "scattergl": [
           {
            "marker": {
             "colorbar": {
              "outlinewidth": 0,
              "ticks": ""
             }
            },
            "type": "scattergl"
           }
          ],
          "scattermapbox": [
           {
            "marker": {
             "colorbar": {
              "outlinewidth": 0,
              "ticks": ""
             }
            },
            "type": "scattermapbox"
           }
          ],
          "scatterpolar": [
           {
            "marker": {
             "colorbar": {
              "outlinewidth": 0,
              "ticks": ""
             }
            },
            "type": "scatterpolar"
           }
          ],
          "scatterpolargl": [
           {
            "marker": {
             "colorbar": {
              "outlinewidth": 0,
              "ticks": ""
             }
            },
            "type": "scatterpolargl"
           }
          ],
          "scatterternary": [
           {
            "marker": {
             "colorbar": {
              "outlinewidth": 0,
              "ticks": ""
             }
            },
            "type": "scatterternary"
           }
          ],
          "surface": [
           {
            "colorbar": {
             "outlinewidth": 0,
             "ticks": ""
            },
            "colorscale": [
             [
              0,
              "#0d0887"
             ],
             [
              0.1111111111111111,
              "#46039f"
             ],
             [
              0.2222222222222222,
              "#7201a8"
             ],
             [
              0.3333333333333333,
              "#9c179e"
             ],
             [
              0.4444444444444444,
              "#bd3786"
             ],
             [
              0.5555555555555556,
              "#d8576b"
             ],
             [
              0.6666666666666666,
              "#ed7953"
             ],
             [
              0.7777777777777778,
              "#fb9f3a"
             ],
             [
              0.8888888888888888,
              "#fdca26"
             ],
             [
              1,
              "#f0f921"
             ]
            ],
            "type": "surface"
           }
          ],
          "table": [
           {
            "cells": {
             "fill": {
              "color": "#EBF0F8"
             },
             "line": {
              "color": "white"
             }
            },
            "header": {
             "fill": {
              "color": "#C8D4E3"
             },
             "line": {
              "color": "white"
             }
            },
            "type": "table"
           }
          ]
         },
         "layout": {
          "annotationdefaults": {
           "arrowcolor": "#2a3f5f",
           "arrowhead": 0,
           "arrowwidth": 1
          },
          "autotypenumbers": "strict",
          "coloraxis": {
           "colorbar": {
            "outlinewidth": 0,
            "ticks": ""
           }
          },
          "colorscale": {
           "diverging": [
            [
             0,
             "#8e0152"
            ],
            [
             0.1,
             "#c51b7d"
            ],
            [
             0.2,
             "#de77ae"
            ],
            [
             0.3,
             "#f1b6da"
            ],
            [
             0.4,
             "#fde0ef"
            ],
            [
             0.5,
             "#f7f7f7"
            ],
            [
             0.6,
             "#e6f5d0"
            ],
            [
             0.7,
             "#b8e186"
            ],
            [
             0.8,
             "#7fbc41"
            ],
            [
             0.9,
             "#4d9221"
            ],
            [
             1,
             "#276419"
            ]
           ],
           "sequential": [
            [
             0,
             "#0d0887"
            ],
            [
             0.1111111111111111,
             "#46039f"
            ],
            [
             0.2222222222222222,
             "#7201a8"
            ],
            [
             0.3333333333333333,
             "#9c179e"
            ],
            [
             0.4444444444444444,
             "#bd3786"
            ],
            [
             0.5555555555555556,
             "#d8576b"
            ],
            [
             0.6666666666666666,
             "#ed7953"
            ],
            [
             0.7777777777777778,
             "#fb9f3a"
            ],
            [
             0.8888888888888888,
             "#fdca26"
            ],
            [
             1,
             "#f0f921"
            ]
           ],
           "sequentialminus": [
            [
             0,
             "#0d0887"
            ],
            [
             0.1111111111111111,
             "#46039f"
            ],
            [
             0.2222222222222222,
             "#7201a8"
            ],
            [
             0.3333333333333333,
             "#9c179e"
            ],
            [
             0.4444444444444444,
             "#bd3786"
            ],
            [
             0.5555555555555556,
             "#d8576b"
            ],
            [
             0.6666666666666666,
             "#ed7953"
            ],
            [
             0.7777777777777778,
             "#fb9f3a"
            ],
            [
             0.8888888888888888,
             "#fdca26"
            ],
            [
             1,
             "#f0f921"
            ]
           ]
          },
          "colorway": [
           "#636efa",
           "#EF553B",
           "#00cc96",
           "#ab63fa",
           "#FFA15A",
           "#19d3f3",
           "#FF6692",
           "#B6E880",
           "#FF97FF",
           "#FECB52"
          ],
          "font": {
           "color": "#2a3f5f"
          },
          "geo": {
           "bgcolor": "white",
           "lakecolor": "white",
           "landcolor": "#E5ECF6",
           "showlakes": true,
           "showland": true,
           "subunitcolor": "white"
          },
          "hoverlabel": {
           "align": "left"
          },
          "hovermode": "closest",
          "mapbox": {
           "style": "light"
          },
          "paper_bgcolor": "white",
          "plot_bgcolor": "#E5ECF6",
          "polar": {
           "angularaxis": {
            "gridcolor": "white",
            "linecolor": "white",
            "ticks": ""
           },
           "bgcolor": "#E5ECF6",
           "radialaxis": {
            "gridcolor": "white",
            "linecolor": "white",
            "ticks": ""
           }
          },
          "scene": {
           "xaxis": {
            "backgroundcolor": "#E5ECF6",
            "gridcolor": "white",
            "gridwidth": 2,
            "linecolor": "white",
            "showbackground": true,
            "ticks": "",
            "zerolinecolor": "white"
           },
           "yaxis": {
            "backgroundcolor": "#E5ECF6",
            "gridcolor": "white",
            "gridwidth": 2,
            "linecolor": "white",
            "showbackground": true,
            "ticks": "",
            "zerolinecolor": "white"
           },
           "zaxis": {
            "backgroundcolor": "#E5ECF6",
            "gridcolor": "white",
            "gridwidth": 2,
            "linecolor": "white",
            "showbackground": true,
            "ticks": "",
            "zerolinecolor": "white"
           }
          },
          "shapedefaults": {
           "line": {
            "color": "#2a3f5f"
           }
          },
          "ternary": {
           "aaxis": {
            "gridcolor": "white",
            "linecolor": "white",
            "ticks": ""
           },
           "baxis": {
            "gridcolor": "white",
            "linecolor": "white",
            "ticks": ""
           },
           "bgcolor": "#E5ECF6",
           "caxis": {
            "gridcolor": "white",
            "linecolor": "white",
            "ticks": ""
           }
          },
          "title": {
           "x": 0.05
          },
          "xaxis": {
           "automargin": true,
           "gridcolor": "white",
           "linecolor": "white",
           "ticks": "",
           "title": {
            "standoff": 15
           },
           "zerolinecolor": "white",
           "zerolinewidth": 2
          },
          "yaxis": {
           "automargin": true,
           "gridcolor": "white",
           "linecolor": "white",
           "ticks": "",
           "title": {
            "standoff": 15
           },
           "zerolinecolor": "white",
           "zerolinewidth": 2
          }
         }
        },
        "title": {
         "font": {
          "color": "#4D5663"
         }
        },
        "xaxis": {
         "gridcolor": "#E1E5ED",
         "showgrid": true,
         "tickfont": {
          "color": "#4D5663"
         },
         "title": {
          "font": {
           "color": "#4D5663"
          },
          "text": ""
         },
         "zerolinecolor": "#E1E5ED"
        },
        "yaxis": {
         "gridcolor": "#E1E5ED",
         "showgrid": true,
         "tickfont": {
          "color": "#4D5663"
         },
         "title": {
          "font": {
           "color": "#4D5663"
          },
          "text": ""
         },
         "zerolinecolor": "#E1E5ED"
        }
       }
      },
      "text/html": [
       "<div>                            <div id=\"dd83007a-232f-4064-bed7-7936749e65b5\" class=\"plotly-graph-div\" style=\"height:525px; width:100%;\"></div>            <script type=\"text/javascript\">                require([\"plotly\"], function(Plotly) {                    window.PLOTLYENV=window.PLOTLYENV || {};\n",
       "                    window.PLOTLYENV.BASE_URL='https://plot.ly';                                    if (document.getElementById(\"dd83007a-232f-4064-bed7-7936749e65b5\")) {                    Plotly.newPlot(                        \"dd83007a-232f-4064-bed7-7936749e65b5\",                        [{\"colorscale\":[[0.0,\"rgb(165,0,38)\"],[0.1,\"rgb(215,48,39)\"],[0.2,\"rgb(244,109,67)\"],[0.3,\"rgb(253,174,97)\"],[0.4,\"rgb(254,224,144)\"],[0.5,\"rgb(255,255,191)\"],[0.6,\"rgb(224,243,248)\"],[0.7,\"rgb(171,217,233)\"],[0.8,\"rgb(116,173,209)\"],[0.9,\"rgb(69,117,180)\"],[1.0,\"rgb(49,54,149)\"]],\"type\":\"surface\",\"x\":[0,1,2,3,4],\"y\":[\"x\",\"y\",\"z\"],\"z\":[[1,2,3,4,5],[10,20,30,20,10],[5,4,3,2,1]]}],                        {\"legend\":{\"bgcolor\":\"#F5F6F9\",\"font\":{\"color\":\"#4D5663\"}},\"paper_bgcolor\":\"#F5F6F9\",\"plot_bgcolor\":\"#F5F6F9\",\"template\":{\"data\":{\"bar\":[{\"error_x\":{\"color\":\"#2a3f5f\"},\"error_y\":{\"color\":\"#2a3f5f\"},\"marker\":{\"line\":{\"color\":\"#E5ECF6\",\"width\":0.5},\"pattern\":{\"fillmode\":\"overlay\",\"size\":10,\"solidity\":0.2}},\"type\":\"bar\"}],\"barpolar\":[{\"marker\":{\"line\":{\"color\":\"#E5ECF6\",\"width\":0.5},\"pattern\":{\"fillmode\":\"overlay\",\"size\":10,\"solidity\":0.2}},\"type\":\"barpolar\"}],\"carpet\":[{\"aaxis\":{\"endlinecolor\":\"#2a3f5f\",\"gridcolor\":\"white\",\"linecolor\":\"white\",\"minorgridcolor\":\"white\",\"startlinecolor\":\"#2a3f5f\"},\"baxis\":{\"endlinecolor\":\"#2a3f5f\",\"gridcolor\":\"white\",\"linecolor\":\"white\",\"minorgridcolor\":\"white\",\"startlinecolor\":\"#2a3f5f\"},\"type\":\"carpet\"}],\"choropleth\":[{\"colorbar\":{\"outlinewidth\":0,\"ticks\":\"\"},\"type\":\"choropleth\"}],\"contour\":[{\"colorbar\":{\"outlinewidth\":0,\"ticks\":\"\"},\"colorscale\":[[0.0,\"#0d0887\"],[0.1111111111111111,\"#46039f\"],[0.2222222222222222,\"#7201a8\"],[0.3333333333333333,\"#9c179e\"],[0.4444444444444444,\"#bd3786\"],[0.5555555555555556,\"#d8576b\"],[0.6666666666666666,\"#ed7953\"],[0.7777777777777778,\"#fb9f3a\"],[0.8888888888888888,\"#fdca26\"],[1.0,\"#f0f921\"]],\"type\":\"contour\"}],\"contourcarpet\":[{\"colorbar\":{\"outlinewidth\":0,\"ticks\":\"\"},\"type\":\"contourcarpet\"}],\"heatmap\":[{\"colorbar\":{\"outlinewidth\":0,\"ticks\":\"\"},\"colorscale\":[[0.0,\"#0d0887\"],[0.1111111111111111,\"#46039f\"],[0.2222222222222222,\"#7201a8\"],[0.3333333333333333,\"#9c179e\"],[0.4444444444444444,\"#bd3786\"],[0.5555555555555556,\"#d8576b\"],[0.6666666666666666,\"#ed7953\"],[0.7777777777777778,\"#fb9f3a\"],[0.8888888888888888,\"#fdca26\"],[1.0,\"#f0f921\"]],\"type\":\"heatmap\"}],\"heatmapgl\":[{\"colorbar\":{\"outlinewidth\":0,\"ticks\":\"\"},\"colorscale\":[[0.0,\"#0d0887\"],[0.1111111111111111,\"#46039f\"],[0.2222222222222222,\"#7201a8\"],[0.3333333333333333,\"#9c179e\"],[0.4444444444444444,\"#bd3786\"],[0.5555555555555556,\"#d8576b\"],[0.6666666666666666,\"#ed7953\"],[0.7777777777777778,\"#fb9f3a\"],[0.8888888888888888,\"#fdca26\"],[1.0,\"#f0f921\"]],\"type\":\"heatmapgl\"}],\"histogram\":[{\"marker\":{\"pattern\":{\"fillmode\":\"overlay\",\"size\":10,\"solidity\":0.2}},\"type\":\"histogram\"}],\"histogram2d\":[{\"colorbar\":{\"outlinewidth\":0,\"ticks\":\"\"},\"colorscale\":[[0.0,\"#0d0887\"],[0.1111111111111111,\"#46039f\"],[0.2222222222222222,\"#7201a8\"],[0.3333333333333333,\"#9c179e\"],[0.4444444444444444,\"#bd3786\"],[0.5555555555555556,\"#d8576b\"],[0.6666666666666666,\"#ed7953\"],[0.7777777777777778,\"#fb9f3a\"],[0.8888888888888888,\"#fdca26\"],[1.0,\"#f0f921\"]],\"type\":\"histogram2d\"}],\"histogram2dcontour\":[{\"colorbar\":{\"outlinewidth\":0,\"ticks\":\"\"},\"colorscale\":[[0.0,\"#0d0887\"],[0.1111111111111111,\"#46039f\"],[0.2222222222222222,\"#7201a8\"],[0.3333333333333333,\"#9c179e\"],[0.4444444444444444,\"#bd3786\"],[0.5555555555555556,\"#d8576b\"],[0.6666666666666666,\"#ed7953\"],[0.7777777777777778,\"#fb9f3a\"],[0.8888888888888888,\"#fdca26\"],[1.0,\"#f0f921\"]],\"type\":\"histogram2dcontour\"}],\"mesh3d\":[{\"colorbar\":{\"outlinewidth\":0,\"ticks\":\"\"},\"type\":\"mesh3d\"}],\"parcoords\":[{\"line\":{\"colorbar\":{\"outlinewidth\":0,\"ticks\":\"\"}},\"type\":\"parcoords\"}],\"pie\":[{\"automargin\":true,\"type\":\"pie\"}],\"scatter\":[{\"marker\":{\"colorbar\":{\"outlinewidth\":0,\"ticks\":\"\"}},\"type\":\"scatter\"}],\"scatter3d\":[{\"line\":{\"colorbar\":{\"outlinewidth\":0,\"ticks\":\"\"}},\"marker\":{\"colorbar\":{\"outlinewidth\":0,\"ticks\":\"\"}},\"type\":\"scatter3d\"}],\"scattercarpet\":[{\"marker\":{\"colorbar\":{\"outlinewidth\":0,\"ticks\":\"\"}},\"type\":\"scattercarpet\"}],\"scattergeo\":[{\"marker\":{\"colorbar\":{\"outlinewidth\":0,\"ticks\":\"\"}},\"type\":\"scattergeo\"}],\"scattergl\":[{\"marker\":{\"colorbar\":{\"outlinewidth\":0,\"ticks\":\"\"}},\"type\":\"scattergl\"}],\"scattermapbox\":[{\"marker\":{\"colorbar\":{\"outlinewidth\":0,\"ticks\":\"\"}},\"type\":\"scattermapbox\"}],\"scatterpolar\":[{\"marker\":{\"colorbar\":{\"outlinewidth\":0,\"ticks\":\"\"}},\"type\":\"scatterpolar\"}],\"scatterpolargl\":[{\"marker\":{\"colorbar\":{\"outlinewidth\":0,\"ticks\":\"\"}},\"type\":\"scatterpolargl\"}],\"scatterternary\":[{\"marker\":{\"colorbar\":{\"outlinewidth\":0,\"ticks\":\"\"}},\"type\":\"scatterternary\"}],\"surface\":[{\"colorbar\":{\"outlinewidth\":0,\"ticks\":\"\"},\"colorscale\":[[0.0,\"#0d0887\"],[0.1111111111111111,\"#46039f\"],[0.2222222222222222,\"#7201a8\"],[0.3333333333333333,\"#9c179e\"],[0.4444444444444444,\"#bd3786\"],[0.5555555555555556,\"#d8576b\"],[0.6666666666666666,\"#ed7953\"],[0.7777777777777778,\"#fb9f3a\"],[0.8888888888888888,\"#fdca26\"],[1.0,\"#f0f921\"]],\"type\":\"surface\"}],\"table\":[{\"cells\":{\"fill\":{\"color\":\"#EBF0F8\"},\"line\":{\"color\":\"white\"}},\"header\":{\"fill\":{\"color\":\"#C8D4E3\"},\"line\":{\"color\":\"white\"}},\"type\":\"table\"}]},\"layout\":{\"annotationdefaults\":{\"arrowcolor\":\"#2a3f5f\",\"arrowhead\":0,\"arrowwidth\":1},\"autotypenumbers\":\"strict\",\"coloraxis\":{\"colorbar\":{\"outlinewidth\":0,\"ticks\":\"\"}},\"colorscale\":{\"diverging\":[[0,\"#8e0152\"],[0.1,\"#c51b7d\"],[0.2,\"#de77ae\"],[0.3,\"#f1b6da\"],[0.4,\"#fde0ef\"],[0.5,\"#f7f7f7\"],[0.6,\"#e6f5d0\"],[0.7,\"#b8e186\"],[0.8,\"#7fbc41\"],[0.9,\"#4d9221\"],[1,\"#276419\"]],\"sequential\":[[0.0,\"#0d0887\"],[0.1111111111111111,\"#46039f\"],[0.2222222222222222,\"#7201a8\"],[0.3333333333333333,\"#9c179e\"],[0.4444444444444444,\"#bd3786\"],[0.5555555555555556,\"#d8576b\"],[0.6666666666666666,\"#ed7953\"],[0.7777777777777778,\"#fb9f3a\"],[0.8888888888888888,\"#fdca26\"],[1.0,\"#f0f921\"]],\"sequentialminus\":[[0.0,\"#0d0887\"],[0.1111111111111111,\"#46039f\"],[0.2222222222222222,\"#7201a8\"],[0.3333333333333333,\"#9c179e\"],[0.4444444444444444,\"#bd3786\"],[0.5555555555555556,\"#d8576b\"],[0.6666666666666666,\"#ed7953\"],[0.7777777777777778,\"#fb9f3a\"],[0.8888888888888888,\"#fdca26\"],[1.0,\"#f0f921\"]]},\"colorway\":[\"#636efa\",\"#EF553B\",\"#00cc96\",\"#ab63fa\",\"#FFA15A\",\"#19d3f3\",\"#FF6692\",\"#B6E880\",\"#FF97FF\",\"#FECB52\"],\"font\":{\"color\":\"#2a3f5f\"},\"geo\":{\"bgcolor\":\"white\",\"lakecolor\":\"white\",\"landcolor\":\"#E5ECF6\",\"showlakes\":true,\"showland\":true,\"subunitcolor\":\"white\"},\"hoverlabel\":{\"align\":\"left\"},\"hovermode\":\"closest\",\"mapbox\":{\"style\":\"light\"},\"paper_bgcolor\":\"white\",\"plot_bgcolor\":\"#E5ECF6\",\"polar\":{\"angularaxis\":{\"gridcolor\":\"white\",\"linecolor\":\"white\",\"ticks\":\"\"},\"bgcolor\":\"#E5ECF6\",\"radialaxis\":{\"gridcolor\":\"white\",\"linecolor\":\"white\",\"ticks\":\"\"}},\"scene\":{\"xaxis\":{\"backgroundcolor\":\"#E5ECF6\",\"gridcolor\":\"white\",\"gridwidth\":2,\"linecolor\":\"white\",\"showbackground\":true,\"ticks\":\"\",\"zerolinecolor\":\"white\"},\"yaxis\":{\"backgroundcolor\":\"#E5ECF6\",\"gridcolor\":\"white\",\"gridwidth\":2,\"linecolor\":\"white\",\"showbackground\":true,\"ticks\":\"\",\"zerolinecolor\":\"white\"},\"zaxis\":{\"backgroundcolor\":\"#E5ECF6\",\"gridcolor\":\"white\",\"gridwidth\":2,\"linecolor\":\"white\",\"showbackground\":true,\"ticks\":\"\",\"zerolinecolor\":\"white\"}},\"shapedefaults\":{\"line\":{\"color\":\"#2a3f5f\"}},\"ternary\":{\"aaxis\":{\"gridcolor\":\"white\",\"linecolor\":\"white\",\"ticks\":\"\"},\"baxis\":{\"gridcolor\":\"white\",\"linecolor\":\"white\",\"ticks\":\"\"},\"bgcolor\":\"#E5ECF6\",\"caxis\":{\"gridcolor\":\"white\",\"linecolor\":\"white\",\"ticks\":\"\"}},\"title\":{\"x\":0.05},\"xaxis\":{\"automargin\":true,\"gridcolor\":\"white\",\"linecolor\":\"white\",\"ticks\":\"\",\"title\":{\"standoff\":15},\"zerolinecolor\":\"white\",\"zerolinewidth\":2},\"yaxis\":{\"automargin\":true,\"gridcolor\":\"white\",\"linecolor\":\"white\",\"ticks\":\"\",\"title\":{\"standoff\":15},\"zerolinecolor\":\"white\",\"zerolinewidth\":2}}},\"title\":{\"font\":{\"color\":\"#4D5663\"}},\"xaxis\":{\"gridcolor\":\"#E1E5ED\",\"showgrid\":true,\"tickfont\":{\"color\":\"#4D5663\"},\"title\":{\"font\":{\"color\":\"#4D5663\"},\"text\":\"\"},\"zerolinecolor\":\"#E1E5ED\"},\"yaxis\":{\"gridcolor\":\"#E1E5ED\",\"showgrid\":true,\"tickfont\":{\"color\":\"#4D5663\"},\"title\":{\"font\":{\"color\":\"#4D5663\"},\"text\":\"\"},\"zerolinecolor\":\"#E1E5ED\"}},                        {\"showLink\": true, \"linkText\": \"Export to plot.ly\", \"plotlyServerURL\": \"https://plot.ly\", \"responsive\": true}                    ).then(function(){\n",
       "                            \n",
       "var gd = document.getElementById('dd83007a-232f-4064-bed7-7936749e65b5');\n",
       "var x = new MutationObserver(function (mutations, observer) {{\n",
       "        var display = window.getComputedStyle(gd).display;\n",
       "        if (!display || display === 'none') {{\n",
       "            console.log([gd, 'removed!']);\n",
       "            Plotly.purge(gd);\n",
       "            observer.disconnect();\n",
       "        }}\n",
       "}});\n",
       "\n",
       "// Listen for the removal of the full notebook cells\n",
       "var notebookContainer = gd.closest('#notebook-container');\n",
       "if (notebookContainer) {{\n",
       "    x.observe(notebookContainer, {childList: true});\n",
       "}}\n",
       "\n",
       "// Listen for the clearing of the current output cell\n",
       "var outputEl = gd.closest('.output');\n",
       "if (outputEl) {{\n",
       "    x.observe(outputEl, {childList: true});\n",
       "}}\n",
       "\n",
       "                        })                };                });            </script>        </div>"
      ]
     },
     "metadata": {},
     "output_type": "display_data"
    }
   ],
   "source": [
    "df3 = pd.DataFrame({'x':[1,2,3,4,5],'y':[10,20,30,20,10],'z':[5,4,3,2,1]})\n",
    "df3.iplot(kind='surface',colorscale='rdylbu')"
   ]
  },
  {
   "cell_type": "markdown",
   "metadata": {
    "id": "rFNTMnruJLzb"
   },
   "source": [
    "## histogram"
   ]
  },
  {
   "cell_type": "code",
   "execution_count": 17,
   "metadata": {
    "colab": {
     "base_uri": "https://localhost:8080/",
     "height": 542
    },
    "id": "vu6oJcjMJLzb",
    "outputId": "224e200d-8ba4-4d36-c4ec-639f7309cc4c"
   },
   "outputs": [
    {
     "data": {
      "application/vnd.plotly.v1+json": {
       "config": {
        "linkText": "Export to plot.ly",
        "plotlyServerURL": "https://plot.ly",
        "showLink": true
       },
       "data": [
        {
         "histfunc": "count",
         "histnorm": "",
         "marker": {
          "color": "rgba(255, 153, 51, 1.0)",
          "line": {
           "color": "#4D5663",
           "width": 1.3
          }
         },
         "name": "A",
         "nbinsx": 25,
         "opacity": 0.8,
         "orientation": "v",
         "type": "histogram",
         "x": [
          1.0306531774627894,
          -1.2764594295792628,
          -2.007425835370658,
          1.1822103084826039,
          0.35608523117968155,
          0.27841238683736536,
          1.1751915700868945,
          -1.8123684253200218,
          0.15598217139030196,
          -0.5033310910133766,
          -0.5699399931599826,
          -0.07633533618674429,
          -2.004031638543584,
          -1.4131671302924367,
          1.5132620658210114,
          -0.09818026933141981,
          0.5931422343995467,
          1.0350325401095455,
          0.8736985428854916,
          0.1297605827241348,
          -0.40681515090843073,
          0.054384987360707994,
          -1.3777315482312165,
          -0.3297611876737317,
          2.3375924671188657,
          -0.9934026325789047,
          0.7831313478859588,
          0.6071592818927777,
          -1.5272089990095563,
          0.5439162023233473,
          1.1433214013625341,
          0.02363890445662154,
          0.36324894281452563,
          1.418692838399726,
          0.0032313784208553983,
          0.7376422679377489,
          -1.3135443305713557,
          0.2591394467052669,
          1.8726021333712695,
          -0.02267342733907837,
          -0.7117968358970819,
          -1.3815439752350147,
          0.5474069882633411,
          -0.14082838399786934,
          1.295800241524183,
          0.16587449002004045,
          -0.13623801126290602,
          -0.2841987455277562,
          -0.02657306813411636,
          -0.044358228099686814,
          0.7603630152471096,
          0.9105796238764517,
          0.5547276955749623,
          -1.6920327034935343,
          1.8012772604158922,
          1.0957537495842795,
          0.5278414279740992,
          -0.2579914977579109,
          -0.28010895433133803,
          -1.299882900782398,
          0.33419777531472783,
          0.25097425183628885,
          0.00940578100952716,
          0.061957118758716886,
          0.6522371871228492,
          0.18668169152173955,
          -1.3704814477703093,
          1.223642880212177,
          0.835811547517684,
          -1.9416047189095023,
          1.0209035834040083,
          -1.3014432518302246,
          0.9541745862125112,
          -0.4272130687617453,
          -1.0222157852329774,
          -0.28183416434644315,
          -1.2570497039234507,
          0.04750719678875333,
          0.49176992055093344,
          -0.7113589983611227,
          1.7543260318333134,
          0.36914224227737086,
          0.7310662346175594,
          0.6176993277494718,
          2.571811090509869,
          0.3869519696142842,
          0.9717144678765081,
          -0.759355555685107,
          -1.3649911929203533,
          1.025587645804269,
          -1.419560991950135,
          -1.7157191586652238,
          2.398947322575383,
          -1.128045677752533,
          -1.6350856463229864,
          0.36488475451516117,
          -0.9049450091422594,
          0.7338903579787782,
          1.1938403568058797,
          1.0174692575408952
         ]
        }
       ],
       "layout": {
        "barmode": "overlay",
        "legend": {
         "bgcolor": "#F5F6F9",
         "font": {
          "color": "#4D5663"
         }
        },
        "paper_bgcolor": "#F5F6F9",
        "plot_bgcolor": "#F5F6F9",
        "template": {
         "data": {
          "bar": [
           {
            "error_x": {
             "color": "#2a3f5f"
            },
            "error_y": {
             "color": "#2a3f5f"
            },
            "marker": {
             "line": {
              "color": "#E5ECF6",
              "width": 0.5
             },
             "pattern": {
              "fillmode": "overlay",
              "size": 10,
              "solidity": 0.2
             }
            },
            "type": "bar"
           }
          ],
          "barpolar": [
           {
            "marker": {
             "line": {
              "color": "#E5ECF6",
              "width": 0.5
             },
             "pattern": {
              "fillmode": "overlay",
              "size": 10,
              "solidity": 0.2
             }
            },
            "type": "barpolar"
           }
          ],
          "carpet": [
           {
            "aaxis": {
             "endlinecolor": "#2a3f5f",
             "gridcolor": "white",
             "linecolor": "white",
             "minorgridcolor": "white",
             "startlinecolor": "#2a3f5f"
            },
            "baxis": {
             "endlinecolor": "#2a3f5f",
             "gridcolor": "white",
             "linecolor": "white",
             "minorgridcolor": "white",
             "startlinecolor": "#2a3f5f"
            },
            "type": "carpet"
           }
          ],
          "choropleth": [
           {
            "colorbar": {
             "outlinewidth": 0,
             "ticks": ""
            },
            "type": "choropleth"
           }
          ],
          "contour": [
           {
            "colorbar": {
             "outlinewidth": 0,
             "ticks": ""
            },
            "colorscale": [
             [
              0,
              "#0d0887"
             ],
             [
              0.1111111111111111,
              "#46039f"
             ],
             [
              0.2222222222222222,
              "#7201a8"
             ],
             [
              0.3333333333333333,
              "#9c179e"
             ],
             [
              0.4444444444444444,
              "#bd3786"
             ],
             [
              0.5555555555555556,
              "#d8576b"
             ],
             [
              0.6666666666666666,
              "#ed7953"
             ],
             [
              0.7777777777777778,
              "#fb9f3a"
             ],
             [
              0.8888888888888888,
              "#fdca26"
             ],
             [
              1,
              "#f0f921"
             ]
            ],
            "type": "contour"
           }
          ],
          "contourcarpet": [
           {
            "colorbar": {
             "outlinewidth": 0,
             "ticks": ""
            },
            "type": "contourcarpet"
           }
          ],
          "heatmap": [
           {
            "colorbar": {
             "outlinewidth": 0,
             "ticks": ""
            },
            "colorscale": [
             [
              0,
              "#0d0887"
             ],
             [
              0.1111111111111111,
              "#46039f"
             ],
             [
              0.2222222222222222,
              "#7201a8"
             ],
             [
              0.3333333333333333,
              "#9c179e"
             ],
             [
              0.4444444444444444,
              "#bd3786"
             ],
             [
              0.5555555555555556,
              "#d8576b"
             ],
             [
              0.6666666666666666,
              "#ed7953"
             ],
             [
              0.7777777777777778,
              "#fb9f3a"
             ],
             [
              0.8888888888888888,
              "#fdca26"
             ],
             [
              1,
              "#f0f921"
             ]
            ],
            "type": "heatmap"
           }
          ],
          "heatmapgl": [
           {
            "colorbar": {
             "outlinewidth": 0,
             "ticks": ""
            },
            "colorscale": [
             [
              0,
              "#0d0887"
             ],
             [
              0.1111111111111111,
              "#46039f"
             ],
             [
              0.2222222222222222,
              "#7201a8"
             ],
             [
              0.3333333333333333,
              "#9c179e"
             ],
             [
              0.4444444444444444,
              "#bd3786"
             ],
             [
              0.5555555555555556,
              "#d8576b"
             ],
             [
              0.6666666666666666,
              "#ed7953"
             ],
             [
              0.7777777777777778,
              "#fb9f3a"
             ],
             [
              0.8888888888888888,
              "#fdca26"
             ],
             [
              1,
              "#f0f921"
             ]
            ],
            "type": "heatmapgl"
           }
          ],
          "histogram": [
           {
            "marker": {
             "pattern": {
              "fillmode": "overlay",
              "size": 10,
              "solidity": 0.2
             }
            },
            "type": "histogram"
           }
          ],
          "histogram2d": [
           {
            "colorbar": {
             "outlinewidth": 0,
             "ticks": ""
            },
            "colorscale": [
             [
              0,
              "#0d0887"
             ],
             [
              0.1111111111111111,
              "#46039f"
             ],
             [
              0.2222222222222222,
              "#7201a8"
             ],
             [
              0.3333333333333333,
              "#9c179e"
             ],
             [
              0.4444444444444444,
              "#bd3786"
             ],
             [
              0.5555555555555556,
              "#d8576b"
             ],
             [
              0.6666666666666666,
              "#ed7953"
             ],
             [
              0.7777777777777778,
              "#fb9f3a"
             ],
             [
              0.8888888888888888,
              "#fdca26"
             ],
             [
              1,
              "#f0f921"
             ]
            ],
            "type": "histogram2d"
           }
          ],
          "histogram2dcontour": [
           {
            "colorbar": {
             "outlinewidth": 0,
             "ticks": ""
            },
            "colorscale": [
             [
              0,
              "#0d0887"
             ],
             [
              0.1111111111111111,
              "#46039f"
             ],
             [
              0.2222222222222222,
              "#7201a8"
             ],
             [
              0.3333333333333333,
              "#9c179e"
             ],
             [
              0.4444444444444444,
              "#bd3786"
             ],
             [
              0.5555555555555556,
              "#d8576b"
             ],
             [
              0.6666666666666666,
              "#ed7953"
             ],
             [
              0.7777777777777778,
              "#fb9f3a"
             ],
             [
              0.8888888888888888,
              "#fdca26"
             ],
             [
              1,
              "#f0f921"
             ]
            ],
            "type": "histogram2dcontour"
           }
          ],
          "mesh3d": [
           {
            "colorbar": {
             "outlinewidth": 0,
             "ticks": ""
            },
            "type": "mesh3d"
           }
          ],
          "parcoords": [
           {
            "line": {
             "colorbar": {
              "outlinewidth": 0,
              "ticks": ""
             }
            },
            "type": "parcoords"
           }
          ],
          "pie": [
           {
            "automargin": true,
            "type": "pie"
           }
          ],
          "scatter": [
           {
            "marker": {
             "colorbar": {
              "outlinewidth": 0,
              "ticks": ""
             }
            },
            "type": "scatter"
           }
          ],
          "scatter3d": [
           {
            "line": {
             "colorbar": {
              "outlinewidth": 0,
              "ticks": ""
             }
            },
            "marker": {
             "colorbar": {
              "outlinewidth": 0,
              "ticks": ""
             }
            },
            "type": "scatter3d"
           }
          ],
          "scattercarpet": [
           {
            "marker": {
             "colorbar": {
              "outlinewidth": 0,
              "ticks": ""
             }
            },
            "type": "scattercarpet"
           }
          ],
          "scattergeo": [
           {
            "marker": {
             "colorbar": {
              "outlinewidth": 0,
              "ticks": ""
             }
            },
            "type": "scattergeo"
           }
          ],
          "scattergl": [
           {
            "marker": {
             "colorbar": {
              "outlinewidth": 0,
              "ticks": ""
             }
            },
            "type": "scattergl"
           }
          ],
          "scattermapbox": [
           {
            "marker": {
             "colorbar": {
              "outlinewidth": 0,
              "ticks": ""
             }
            },
            "type": "scattermapbox"
           }
          ],
          "scatterpolar": [
           {
            "marker": {
             "colorbar": {
              "outlinewidth": 0,
              "ticks": ""
             }
            },
            "type": "scatterpolar"
           }
          ],
          "scatterpolargl": [
           {
            "marker": {
             "colorbar": {
              "outlinewidth": 0,
              "ticks": ""
             }
            },
            "type": "scatterpolargl"
           }
          ],
          "scatterternary": [
           {
            "marker": {
             "colorbar": {
              "outlinewidth": 0,
              "ticks": ""
             }
            },
            "type": "scatterternary"
           }
          ],
          "surface": [
           {
            "colorbar": {
             "outlinewidth": 0,
             "ticks": ""
            },
            "colorscale": [
             [
              0,
              "#0d0887"
             ],
             [
              0.1111111111111111,
              "#46039f"
             ],
             [
              0.2222222222222222,
              "#7201a8"
             ],
             [
              0.3333333333333333,
              "#9c179e"
             ],
             [
              0.4444444444444444,
              "#bd3786"
             ],
             [
              0.5555555555555556,
              "#d8576b"
             ],
             [
              0.6666666666666666,
              "#ed7953"
             ],
             [
              0.7777777777777778,
              "#fb9f3a"
             ],
             [
              0.8888888888888888,
              "#fdca26"
             ],
             [
              1,
              "#f0f921"
             ]
            ],
            "type": "surface"
           }
          ],
          "table": [
           {
            "cells": {
             "fill": {
              "color": "#EBF0F8"
             },
             "line": {
              "color": "white"
             }
            },
            "header": {
             "fill": {
              "color": "#C8D4E3"
             },
             "line": {
              "color": "white"
             }
            },
            "type": "table"
           }
          ]
         },
         "layout": {
          "annotationdefaults": {
           "arrowcolor": "#2a3f5f",
           "arrowhead": 0,
           "arrowwidth": 1
          },
          "autotypenumbers": "strict",
          "coloraxis": {
           "colorbar": {
            "outlinewidth": 0,
            "ticks": ""
           }
          },
          "colorscale": {
           "diverging": [
            [
             0,
             "#8e0152"
            ],
            [
             0.1,
             "#c51b7d"
            ],
            [
             0.2,
             "#de77ae"
            ],
            [
             0.3,
             "#f1b6da"
            ],
            [
             0.4,
             "#fde0ef"
            ],
            [
             0.5,
             "#f7f7f7"
            ],
            [
             0.6,
             "#e6f5d0"
            ],
            [
             0.7,
             "#b8e186"
            ],
            [
             0.8,
             "#7fbc41"
            ],
            [
             0.9,
             "#4d9221"
            ],
            [
             1,
             "#276419"
            ]
           ],
           "sequential": [
            [
             0,
             "#0d0887"
            ],
            [
             0.1111111111111111,
             "#46039f"
            ],
            [
             0.2222222222222222,
             "#7201a8"
            ],
            [
             0.3333333333333333,
             "#9c179e"
            ],
            [
             0.4444444444444444,
             "#bd3786"
            ],
            [
             0.5555555555555556,
             "#d8576b"
            ],
            [
             0.6666666666666666,
             "#ed7953"
            ],
            [
             0.7777777777777778,
             "#fb9f3a"
            ],
            [
             0.8888888888888888,
             "#fdca26"
            ],
            [
             1,
             "#f0f921"
            ]
           ],
           "sequentialminus": [
            [
             0,
             "#0d0887"
            ],
            [
             0.1111111111111111,
             "#46039f"
            ],
            [
             0.2222222222222222,
             "#7201a8"
            ],
            [
             0.3333333333333333,
             "#9c179e"
            ],
            [
             0.4444444444444444,
             "#bd3786"
            ],
            [
             0.5555555555555556,
             "#d8576b"
            ],
            [
             0.6666666666666666,
             "#ed7953"
            ],
            [
             0.7777777777777778,
             "#fb9f3a"
            ],
            [
             0.8888888888888888,
             "#fdca26"
            ],
            [
             1,
             "#f0f921"
            ]
           ]
          },
          "colorway": [
           "#636efa",
           "#EF553B",
           "#00cc96",
           "#ab63fa",
           "#FFA15A",
           "#19d3f3",
           "#FF6692",
           "#B6E880",
           "#FF97FF",
           "#FECB52"
          ],
          "font": {
           "color": "#2a3f5f"
          },
          "geo": {
           "bgcolor": "white",
           "lakecolor": "white",
           "landcolor": "#E5ECF6",
           "showlakes": true,
           "showland": true,
           "subunitcolor": "white"
          },
          "hoverlabel": {
           "align": "left"
          },
          "hovermode": "closest",
          "mapbox": {
           "style": "light"
          },
          "paper_bgcolor": "white",
          "plot_bgcolor": "#E5ECF6",
          "polar": {
           "angularaxis": {
            "gridcolor": "white",
            "linecolor": "white",
            "ticks": ""
           },
           "bgcolor": "#E5ECF6",
           "radialaxis": {
            "gridcolor": "white",
            "linecolor": "white",
            "ticks": ""
           }
          },
          "scene": {
           "xaxis": {
            "backgroundcolor": "#E5ECF6",
            "gridcolor": "white",
            "gridwidth": 2,
            "linecolor": "white",
            "showbackground": true,
            "ticks": "",
            "zerolinecolor": "white"
           },
           "yaxis": {
            "backgroundcolor": "#E5ECF6",
            "gridcolor": "white",
            "gridwidth": 2,
            "linecolor": "white",
            "showbackground": true,
            "ticks": "",
            "zerolinecolor": "white"
           },
           "zaxis": {
            "backgroundcolor": "#E5ECF6",
            "gridcolor": "white",
            "gridwidth": 2,
            "linecolor": "white",
            "showbackground": true,
            "ticks": "",
            "zerolinecolor": "white"
           }
          },
          "shapedefaults": {
           "line": {
            "color": "#2a3f5f"
           }
          },
          "ternary": {
           "aaxis": {
            "gridcolor": "white",
            "linecolor": "white",
            "ticks": ""
           },
           "baxis": {
            "gridcolor": "white",
            "linecolor": "white",
            "ticks": ""
           },
           "bgcolor": "#E5ECF6",
           "caxis": {
            "gridcolor": "white",
            "linecolor": "white",
            "ticks": ""
           }
          },
          "title": {
           "x": 0.05
          },
          "xaxis": {
           "automargin": true,
           "gridcolor": "white",
           "linecolor": "white",
           "ticks": "",
           "title": {
            "standoff": 15
           },
           "zerolinecolor": "white",
           "zerolinewidth": 2
          },
          "yaxis": {
           "automargin": true,
           "gridcolor": "white",
           "linecolor": "white",
           "ticks": "",
           "title": {
            "standoff": 15
           },
           "zerolinecolor": "white",
           "zerolinewidth": 2
          }
         }
        },
        "title": {
         "font": {
          "color": "#4D5663"
         }
        },
        "xaxis": {
         "gridcolor": "#E1E5ED",
         "showgrid": true,
         "tickfont": {
          "color": "#4D5663"
         },
         "title": {
          "font": {
           "color": "#4D5663"
          },
          "text": ""
         },
         "zerolinecolor": "#E1E5ED"
        },
        "yaxis": {
         "gridcolor": "#E1E5ED",
         "showgrid": true,
         "tickfont": {
          "color": "#4D5663"
         },
         "title": {
          "font": {
           "color": "#4D5663"
          },
          "text": ""
         },
         "zerolinecolor": "#E1E5ED"
        }
       }
      },
      "text/html": [
       "<div>                            <div id=\"2be85b8d-9316-4863-8dae-e3345d003c7f\" class=\"plotly-graph-div\" style=\"height:525px; width:100%;\"></div>            <script type=\"text/javascript\">                require([\"plotly\"], function(Plotly) {                    window.PLOTLYENV=window.PLOTLYENV || {};\n",
       "                    window.PLOTLYENV.BASE_URL='https://plot.ly';                                    if (document.getElementById(\"2be85b8d-9316-4863-8dae-e3345d003c7f\")) {                    Plotly.newPlot(                        \"2be85b8d-9316-4863-8dae-e3345d003c7f\",                        [{\"histfunc\":\"count\",\"histnorm\":\"\",\"marker\":{\"color\":\"rgba(255, 153, 51, 1.0)\",\"line\":{\"color\":\"#4D5663\",\"width\":1.3}},\"name\":\"A\",\"nbinsx\":25,\"opacity\":0.8,\"orientation\":\"v\",\"type\":\"histogram\",\"x\":[1.0306531774627894,-1.2764594295792628,-2.007425835370658,1.1822103084826039,0.35608523117968155,0.27841238683736536,1.1751915700868945,-1.8123684253200218,0.15598217139030196,-0.5033310910133766,-0.5699399931599826,-0.07633533618674429,-2.004031638543584,-1.4131671302924367,1.5132620658210114,-0.09818026933141981,0.5931422343995467,1.0350325401095455,0.8736985428854916,0.1297605827241348,-0.40681515090843073,0.054384987360707994,-1.3777315482312165,-0.3297611876737317,2.3375924671188657,-0.9934026325789047,0.7831313478859588,0.6071592818927777,-1.5272089990095563,0.5439162023233473,1.1433214013625341,0.02363890445662154,0.36324894281452563,1.418692838399726,0.0032313784208553983,0.7376422679377489,-1.3135443305713557,0.2591394467052669,1.8726021333712695,-0.02267342733907837,-0.7117968358970819,-1.3815439752350147,0.5474069882633411,-0.14082838399786934,1.295800241524183,0.16587449002004045,-0.13623801126290602,-0.2841987455277562,-0.02657306813411636,-0.044358228099686814,0.7603630152471096,0.9105796238764517,0.5547276955749623,-1.6920327034935343,1.8012772604158922,1.0957537495842795,0.5278414279740992,-0.2579914977579109,-0.28010895433133803,-1.299882900782398,0.33419777531472783,0.25097425183628885,0.00940578100952716,0.061957118758716886,0.6522371871228492,0.18668169152173955,-1.3704814477703093,1.223642880212177,0.835811547517684,-1.9416047189095023,1.0209035834040083,-1.3014432518302246,0.9541745862125112,-0.4272130687617453,-1.0222157852329774,-0.28183416434644315,-1.2570497039234507,0.04750719678875333,0.49176992055093344,-0.7113589983611227,1.7543260318333134,0.36914224227737086,0.7310662346175594,0.6176993277494718,2.571811090509869,0.3869519696142842,0.9717144678765081,-0.759355555685107,-1.3649911929203533,1.025587645804269,-1.419560991950135,-1.7157191586652238,2.398947322575383,-1.128045677752533,-1.6350856463229864,0.36488475451516117,-0.9049450091422594,0.7338903579787782,1.1938403568058797,1.0174692575408952]}],                        {\"barmode\":\"overlay\",\"legend\":{\"bgcolor\":\"#F5F6F9\",\"font\":{\"color\":\"#4D5663\"}},\"paper_bgcolor\":\"#F5F6F9\",\"plot_bgcolor\":\"#F5F6F9\",\"template\":{\"data\":{\"bar\":[{\"error_x\":{\"color\":\"#2a3f5f\"},\"error_y\":{\"color\":\"#2a3f5f\"},\"marker\":{\"line\":{\"color\":\"#E5ECF6\",\"width\":0.5},\"pattern\":{\"fillmode\":\"overlay\",\"size\":10,\"solidity\":0.2}},\"type\":\"bar\"}],\"barpolar\":[{\"marker\":{\"line\":{\"color\":\"#E5ECF6\",\"width\":0.5},\"pattern\":{\"fillmode\":\"overlay\",\"size\":10,\"solidity\":0.2}},\"type\":\"barpolar\"}],\"carpet\":[{\"aaxis\":{\"endlinecolor\":\"#2a3f5f\",\"gridcolor\":\"white\",\"linecolor\":\"white\",\"minorgridcolor\":\"white\",\"startlinecolor\":\"#2a3f5f\"},\"baxis\":{\"endlinecolor\":\"#2a3f5f\",\"gridcolor\":\"white\",\"linecolor\":\"white\",\"minorgridcolor\":\"white\",\"startlinecolor\":\"#2a3f5f\"},\"type\":\"carpet\"}],\"choropleth\":[{\"colorbar\":{\"outlinewidth\":0,\"ticks\":\"\"},\"type\":\"choropleth\"}],\"contour\":[{\"colorbar\":{\"outlinewidth\":0,\"ticks\":\"\"},\"colorscale\":[[0.0,\"#0d0887\"],[0.1111111111111111,\"#46039f\"],[0.2222222222222222,\"#7201a8\"],[0.3333333333333333,\"#9c179e\"],[0.4444444444444444,\"#bd3786\"],[0.5555555555555556,\"#d8576b\"],[0.6666666666666666,\"#ed7953\"],[0.7777777777777778,\"#fb9f3a\"],[0.8888888888888888,\"#fdca26\"],[1.0,\"#f0f921\"]],\"type\":\"contour\"}],\"contourcarpet\":[{\"colorbar\":{\"outlinewidth\":0,\"ticks\":\"\"},\"type\":\"contourcarpet\"}],\"heatmap\":[{\"colorbar\":{\"outlinewidth\":0,\"ticks\":\"\"},\"colorscale\":[[0.0,\"#0d0887\"],[0.1111111111111111,\"#46039f\"],[0.2222222222222222,\"#7201a8\"],[0.3333333333333333,\"#9c179e\"],[0.4444444444444444,\"#bd3786\"],[0.5555555555555556,\"#d8576b\"],[0.6666666666666666,\"#ed7953\"],[0.7777777777777778,\"#fb9f3a\"],[0.8888888888888888,\"#fdca26\"],[1.0,\"#f0f921\"]],\"type\":\"heatmap\"}],\"heatmapgl\":[{\"colorbar\":{\"outlinewidth\":0,\"ticks\":\"\"},\"colorscale\":[[0.0,\"#0d0887\"],[0.1111111111111111,\"#46039f\"],[0.2222222222222222,\"#7201a8\"],[0.3333333333333333,\"#9c179e\"],[0.4444444444444444,\"#bd3786\"],[0.5555555555555556,\"#d8576b\"],[0.6666666666666666,\"#ed7953\"],[0.7777777777777778,\"#fb9f3a\"],[0.8888888888888888,\"#fdca26\"],[1.0,\"#f0f921\"]],\"type\":\"heatmapgl\"}],\"histogram\":[{\"marker\":{\"pattern\":{\"fillmode\":\"overlay\",\"size\":10,\"solidity\":0.2}},\"type\":\"histogram\"}],\"histogram2d\":[{\"colorbar\":{\"outlinewidth\":0,\"ticks\":\"\"},\"colorscale\":[[0.0,\"#0d0887\"],[0.1111111111111111,\"#46039f\"],[0.2222222222222222,\"#7201a8\"],[0.3333333333333333,\"#9c179e\"],[0.4444444444444444,\"#bd3786\"],[0.5555555555555556,\"#d8576b\"],[0.6666666666666666,\"#ed7953\"],[0.7777777777777778,\"#fb9f3a\"],[0.8888888888888888,\"#fdca26\"],[1.0,\"#f0f921\"]],\"type\":\"histogram2d\"}],\"histogram2dcontour\":[{\"colorbar\":{\"outlinewidth\":0,\"ticks\":\"\"},\"colorscale\":[[0.0,\"#0d0887\"],[0.1111111111111111,\"#46039f\"],[0.2222222222222222,\"#7201a8\"],[0.3333333333333333,\"#9c179e\"],[0.4444444444444444,\"#bd3786\"],[0.5555555555555556,\"#d8576b\"],[0.6666666666666666,\"#ed7953\"],[0.7777777777777778,\"#fb9f3a\"],[0.8888888888888888,\"#fdca26\"],[1.0,\"#f0f921\"]],\"type\":\"histogram2dcontour\"}],\"mesh3d\":[{\"colorbar\":{\"outlinewidth\":0,\"ticks\":\"\"},\"type\":\"mesh3d\"}],\"parcoords\":[{\"line\":{\"colorbar\":{\"outlinewidth\":0,\"ticks\":\"\"}},\"type\":\"parcoords\"}],\"pie\":[{\"automargin\":true,\"type\":\"pie\"}],\"scatter\":[{\"marker\":{\"colorbar\":{\"outlinewidth\":0,\"ticks\":\"\"}},\"type\":\"scatter\"}],\"scatter3d\":[{\"line\":{\"colorbar\":{\"outlinewidth\":0,\"ticks\":\"\"}},\"marker\":{\"colorbar\":{\"outlinewidth\":0,\"ticks\":\"\"}},\"type\":\"scatter3d\"}],\"scattercarpet\":[{\"marker\":{\"colorbar\":{\"outlinewidth\":0,\"ticks\":\"\"}},\"type\":\"scattercarpet\"}],\"scattergeo\":[{\"marker\":{\"colorbar\":{\"outlinewidth\":0,\"ticks\":\"\"}},\"type\":\"scattergeo\"}],\"scattergl\":[{\"marker\":{\"colorbar\":{\"outlinewidth\":0,\"ticks\":\"\"}},\"type\":\"scattergl\"}],\"scattermapbox\":[{\"marker\":{\"colorbar\":{\"outlinewidth\":0,\"ticks\":\"\"}},\"type\":\"scattermapbox\"}],\"scatterpolar\":[{\"marker\":{\"colorbar\":{\"outlinewidth\":0,\"ticks\":\"\"}},\"type\":\"scatterpolar\"}],\"scatterpolargl\":[{\"marker\":{\"colorbar\":{\"outlinewidth\":0,\"ticks\":\"\"}},\"type\":\"scatterpolargl\"}],\"scatterternary\":[{\"marker\":{\"colorbar\":{\"outlinewidth\":0,\"ticks\":\"\"}},\"type\":\"scatterternary\"}],\"surface\":[{\"colorbar\":{\"outlinewidth\":0,\"ticks\":\"\"},\"colorscale\":[[0.0,\"#0d0887\"],[0.1111111111111111,\"#46039f\"],[0.2222222222222222,\"#7201a8\"],[0.3333333333333333,\"#9c179e\"],[0.4444444444444444,\"#bd3786\"],[0.5555555555555556,\"#d8576b\"],[0.6666666666666666,\"#ed7953\"],[0.7777777777777778,\"#fb9f3a\"],[0.8888888888888888,\"#fdca26\"],[1.0,\"#f0f921\"]],\"type\":\"surface\"}],\"table\":[{\"cells\":{\"fill\":{\"color\":\"#EBF0F8\"},\"line\":{\"color\":\"white\"}},\"header\":{\"fill\":{\"color\":\"#C8D4E3\"},\"line\":{\"color\":\"white\"}},\"type\":\"table\"}]},\"layout\":{\"annotationdefaults\":{\"arrowcolor\":\"#2a3f5f\",\"arrowhead\":0,\"arrowwidth\":1},\"autotypenumbers\":\"strict\",\"coloraxis\":{\"colorbar\":{\"outlinewidth\":0,\"ticks\":\"\"}},\"colorscale\":{\"diverging\":[[0,\"#8e0152\"],[0.1,\"#c51b7d\"],[0.2,\"#de77ae\"],[0.3,\"#f1b6da\"],[0.4,\"#fde0ef\"],[0.5,\"#f7f7f7\"],[0.6,\"#e6f5d0\"],[0.7,\"#b8e186\"],[0.8,\"#7fbc41\"],[0.9,\"#4d9221\"],[1,\"#276419\"]],\"sequential\":[[0.0,\"#0d0887\"],[0.1111111111111111,\"#46039f\"],[0.2222222222222222,\"#7201a8\"],[0.3333333333333333,\"#9c179e\"],[0.4444444444444444,\"#bd3786\"],[0.5555555555555556,\"#d8576b\"],[0.6666666666666666,\"#ed7953\"],[0.7777777777777778,\"#fb9f3a\"],[0.8888888888888888,\"#fdca26\"],[1.0,\"#f0f921\"]],\"sequentialminus\":[[0.0,\"#0d0887\"],[0.1111111111111111,\"#46039f\"],[0.2222222222222222,\"#7201a8\"],[0.3333333333333333,\"#9c179e\"],[0.4444444444444444,\"#bd3786\"],[0.5555555555555556,\"#d8576b\"],[0.6666666666666666,\"#ed7953\"],[0.7777777777777778,\"#fb9f3a\"],[0.8888888888888888,\"#fdca26\"],[1.0,\"#f0f921\"]]},\"colorway\":[\"#636efa\",\"#EF553B\",\"#00cc96\",\"#ab63fa\",\"#FFA15A\",\"#19d3f3\",\"#FF6692\",\"#B6E880\",\"#FF97FF\",\"#FECB52\"],\"font\":{\"color\":\"#2a3f5f\"},\"geo\":{\"bgcolor\":\"white\",\"lakecolor\":\"white\",\"landcolor\":\"#E5ECF6\",\"showlakes\":true,\"showland\":true,\"subunitcolor\":\"white\"},\"hoverlabel\":{\"align\":\"left\"},\"hovermode\":\"closest\",\"mapbox\":{\"style\":\"light\"},\"paper_bgcolor\":\"white\",\"plot_bgcolor\":\"#E5ECF6\",\"polar\":{\"angularaxis\":{\"gridcolor\":\"white\",\"linecolor\":\"white\",\"ticks\":\"\"},\"bgcolor\":\"#E5ECF6\",\"radialaxis\":{\"gridcolor\":\"white\",\"linecolor\":\"white\",\"ticks\":\"\"}},\"scene\":{\"xaxis\":{\"backgroundcolor\":\"#E5ECF6\",\"gridcolor\":\"white\",\"gridwidth\":2,\"linecolor\":\"white\",\"showbackground\":true,\"ticks\":\"\",\"zerolinecolor\":\"white\"},\"yaxis\":{\"backgroundcolor\":\"#E5ECF6\",\"gridcolor\":\"white\",\"gridwidth\":2,\"linecolor\":\"white\",\"showbackground\":true,\"ticks\":\"\",\"zerolinecolor\":\"white\"},\"zaxis\":{\"backgroundcolor\":\"#E5ECF6\",\"gridcolor\":\"white\",\"gridwidth\":2,\"linecolor\":\"white\",\"showbackground\":true,\"ticks\":\"\",\"zerolinecolor\":\"white\"}},\"shapedefaults\":{\"line\":{\"color\":\"#2a3f5f\"}},\"ternary\":{\"aaxis\":{\"gridcolor\":\"white\",\"linecolor\":\"white\",\"ticks\":\"\"},\"baxis\":{\"gridcolor\":\"white\",\"linecolor\":\"white\",\"ticks\":\"\"},\"bgcolor\":\"#E5ECF6\",\"caxis\":{\"gridcolor\":\"white\",\"linecolor\":\"white\",\"ticks\":\"\"}},\"title\":{\"x\":0.05},\"xaxis\":{\"automargin\":true,\"gridcolor\":\"white\",\"linecolor\":\"white\",\"ticks\":\"\",\"title\":{\"standoff\":15},\"zerolinecolor\":\"white\",\"zerolinewidth\":2},\"yaxis\":{\"automargin\":true,\"gridcolor\":\"white\",\"linecolor\":\"white\",\"ticks\":\"\",\"title\":{\"standoff\":15},\"zerolinecolor\":\"white\",\"zerolinewidth\":2}}},\"title\":{\"font\":{\"color\":\"#4D5663\"}},\"xaxis\":{\"gridcolor\":\"#E1E5ED\",\"showgrid\":true,\"tickfont\":{\"color\":\"#4D5663\"},\"title\":{\"font\":{\"color\":\"#4D5663\"},\"text\":\"\"},\"zerolinecolor\":\"#E1E5ED\"},\"yaxis\":{\"gridcolor\":\"#E1E5ED\",\"showgrid\":true,\"tickfont\":{\"color\":\"#4D5663\"},\"title\":{\"font\":{\"color\":\"#4D5663\"},\"text\":\"\"},\"zerolinecolor\":\"#E1E5ED\"}},                        {\"showLink\": true, \"linkText\": \"Export to plot.ly\", \"plotlyServerURL\": \"https://plot.ly\", \"responsive\": true}                    ).then(function(){\n",
       "                            \n",
       "var gd = document.getElementById('2be85b8d-9316-4863-8dae-e3345d003c7f');\n",
       "var x = new MutationObserver(function (mutations, observer) {{\n",
       "        var display = window.getComputedStyle(gd).display;\n",
       "        if (!display || display === 'none') {{\n",
       "            console.log([gd, 'removed!']);\n",
       "            Plotly.purge(gd);\n",
       "            observer.disconnect();\n",
       "        }}\n",
       "}});\n",
       "\n",
       "// Listen for the removal of the full notebook cells\n",
       "var notebookContainer = gd.closest('#notebook-container');\n",
       "if (notebookContainer) {{\n",
       "    x.observe(notebookContainer, {childList: true});\n",
       "}}\n",
       "\n",
       "// Listen for the clearing of the current output cell\n",
       "var outputEl = gd.closest('.output');\n",
       "if (outputEl) {{\n",
       "    x.observe(outputEl, {childList: true});\n",
       "}}\n",
       "\n",
       "                        })                };                });            </script>        </div>"
      ]
     },
     "metadata": {},
     "output_type": "display_data"
    }
   ],
   "source": [
    "df['A'].iplot(kind='hist',bins=25)"
   ]
  },
  {
   "cell_type": "code",
   "execution_count": 18,
   "metadata": {
    "colab": {
     "base_uri": "https://localhost:8080/",
     "height": 542
    },
    "id": "l3Xi2y50JLzb",
    "outputId": "5787f626-53c9-4f13-a684-06a68ef3b049"
   },
   "outputs": [
    {
     "data": {
      "application/vnd.plotly.v1+json": {
       "config": {
        "linkText": "Export to plot.ly",
        "plotlyServerURL": "https://plot.ly",
        "showLink": true
       },
       "data": [
        {
         "marker": {
          "color": [
           "rgb(255, 153, 51)",
           "rgb(55, 128, 191)",
           "rgb(50, 171, 96)",
           "rgb(128, 0, 128)",
           "rgb(219, 64, 82)",
           "rgb(0, 128, 128)",
           "rgb(255, 255, 51)",
           "rgb(128, 128, 0)",
           "rgb(251, 128, 114)",
           "rgb(128, 177, 211)"
          ],
          "line": {
           "width": 1.3
          },
          "size": [
           79,
           82,
           47,
           27,
           75,
           45,
           45,
           50,
           41,
           76,
           42,
           42,
           48,
           63,
           67,
           55,
           68,
           55,
           12,
           75,
           83,
           62,
           47,
           49,
           78,
           60,
           83,
           51,
           92,
           94,
           51,
           76,
           67,
           67,
           54,
           56,
           65,
           61,
           61,
           68,
           69,
           57,
           63,
           71,
           55,
           45,
           87,
           61,
           52,
           66,
           40,
           18,
           64,
           33,
           88,
           104,
           65,
           103,
           58,
           47,
           74,
           56,
           50,
           77,
           63,
           70,
           68,
           42,
           23,
           63,
           54,
           98,
           27,
           100,
           53,
           60,
           66,
           63,
           55,
           56,
           32,
           91,
           84,
           51,
           69,
           55,
           38,
           79,
           64,
           53,
           74,
           112,
           107,
           34,
           52,
           100,
           68,
           73,
           78,
           66
          ],
          "symbol": "circle"
         },
         "mode": "markers",
         "text": "",
         "type": "scatter",
         "x": [
          1.0306531774627894,
          -1.2764594295792628,
          -2.007425835370658,
          1.1822103084826039,
          0.35608523117968155,
          0.27841238683736536,
          1.1751915700868945,
          -1.8123684253200218,
          0.15598217139030196,
          -0.5033310910133766,
          -0.5699399931599826,
          -0.07633533618674429,
          -2.004031638543584,
          -1.4131671302924367,
          1.5132620658210114,
          -0.09818026933141981,
          0.5931422343995467,
          1.0350325401095455,
          0.8736985428854916,
          0.1297605827241348,
          -0.40681515090843073,
          0.054384987360707994,
          -1.3777315482312165,
          -0.3297611876737317,
          2.3375924671188657,
          -0.9934026325789047,
          0.7831313478859588,
          0.6071592818927777,
          -1.5272089990095563,
          0.5439162023233473,
          1.1433214013625341,
          0.02363890445662154,
          0.36324894281452563,
          1.418692838399726,
          0.0032313784208553983,
          0.7376422679377489,
          -1.3135443305713557,
          0.2591394467052669,
          1.8726021333712695,
          -0.02267342733907837,
          -0.7117968358970819,
          -1.3815439752350147,
          0.5474069882633411,
          -0.14082838399786934,
          1.295800241524183,
          0.16587449002004045,
          -0.13623801126290602,
          -0.2841987455277562,
          -0.02657306813411636,
          -0.044358228099686814,
          0.7603630152471096,
          0.9105796238764517,
          0.5547276955749623,
          -1.6920327034935343,
          1.8012772604158922,
          1.0957537495842795,
          0.5278414279740992,
          -0.2579914977579109,
          -0.28010895433133803,
          -1.299882900782398,
          0.33419777531472783,
          0.25097425183628885,
          0.00940578100952716,
          0.061957118758716886,
          0.6522371871228492,
          0.18668169152173955,
          -1.3704814477703093,
          1.223642880212177,
          0.835811547517684,
          -1.9416047189095023,
          1.0209035834040083,
          -1.3014432518302246,
          0.9541745862125112,
          -0.4272130687617453,
          -1.0222157852329774,
          -0.28183416434644315,
          -1.2570497039234507,
          0.04750719678875333,
          0.49176992055093344,
          -0.7113589983611227,
          1.7543260318333134,
          0.36914224227737086,
          0.7310662346175594,
          0.6176993277494718,
          2.571811090509869,
          0.3869519696142842,
          0.9717144678765081,
          -0.759355555685107,
          -1.3649911929203533,
          1.025587645804269,
          -1.419560991950135,
          -1.7157191586652238,
          2.398947322575383,
          -1.128045677752533,
          -1.6350856463229864,
          0.36488475451516117,
          -0.9049450091422594,
          0.7338903579787782,
          1.1938403568058797,
          1.0174692575408952
         ],
         "y": [
          -1.879318434737494,
          -0.49376240639959207,
          0.6332852498752116,
          0.05982920481099076,
          -0.45033326574357047,
          0.4780838526561915,
          0.2308646707202015,
          -0.4854975839734933,
          -0.1584023785037026,
          -0.7569330364249099,
          -1.2515830552574734,
          0.1908343665062289,
          -0.27427096038126997,
          -0.16494411658574556,
          1.0458614581281858,
          -0.7058384235612785,
          -1.1008257454485377,
          -0.5171405398885567,
          0.7774689975975859,
          0.1161453633306047,
          -0.7254257020581931,
          0.9997282963094282,
          -1.2175391994439475,
          -0.4032619171768969,
          1.178911179247722,
          -0.912336057384369,
          0.8704923498223446,
          -0.1429929067278444,
          -0.8155297099700727,
          -0.15693239688487548,
          -0.6611259733304673,
          -0.24163226558705464,
          1.9177322073356615,
          -0.17925908171876542,
          0.5625651927892863,
          -0.019120331964386623,
          0.8116619297158044,
          0.3170414557506839,
          0.6343449023308668,
          0.03552622091638352,
          2.149271896386203,
          1.0917890491818028,
          2.10597794808911,
          1.5871791620513425,
          -0.15184848489601235,
          -1.0853796732401266,
          -0.7854456468295216,
          0.10771338015465624,
          0.23000625228123567,
          -0.3115716415815013,
          -0.23648843341717046,
          -0.1759851101684985,
          -0.2470280124499729,
          -0.6557463265401569,
          0.37126719990984497,
          0.9190553436547041,
          0.8414066517645015,
          0.4717402442989092,
          -0.8584748946180241,
          -0.6379745172590058,
          -0.03635803447437388,
          1.2448777768443768,
          -2.3066094376938517,
          -0.7662876287767219,
          -0.054724390833976795,
          -0.5248788430371149,
          0.5926454521392258,
          -0.05721717949569917,
          -1.3801070410731737,
          0.0602725127541095,
          1.21849498916648,
          1.4372290980889477,
          2.543998541586174,
          -1.359347935580105,
          0.7812931470112162,
          0.3111546480607504,
          1.4181147334897954,
          -1.074304103543346,
          0.11768263512512897,
          0.70590446887133,
          -0.08115145651149062,
          0.2816969042936072,
          -0.12729256715473372,
          -0.9235802995434116,
          0.6978291184446651,
          -0.14023362537906392,
          -0.531481976759396,
          -0.18064291032587737,
          -1.3961469533564512,
          0.45294460213610915,
          -0.5523359480249287,
          -1.2284865503087057,
          -0.9839184126739572,
          -0.3422293725130915,
          0.43163349889880115,
          -0.12968252751998702,
          -2.2310079681006187,
          0.9679175488616665,
          -1.1124360640115944,
          0.06462241949051942
         ]
        }
       ],
       "layout": {
        "legend": {
         "bgcolor": "#F5F6F9",
         "font": {
          "color": "#4D5663"
         }
        },
        "paper_bgcolor": "#F5F6F9",
        "plot_bgcolor": "#F5F6F9",
        "template": {
         "data": {
          "bar": [
           {
            "error_x": {
             "color": "#2a3f5f"
            },
            "error_y": {
             "color": "#2a3f5f"
            },
            "marker": {
             "line": {
              "color": "#E5ECF6",
              "width": 0.5
             },
             "pattern": {
              "fillmode": "overlay",
              "size": 10,
              "solidity": 0.2
             }
            },
            "type": "bar"
           }
          ],
          "barpolar": [
           {
            "marker": {
             "line": {
              "color": "#E5ECF6",
              "width": 0.5
             },
             "pattern": {
              "fillmode": "overlay",
              "size": 10,
              "solidity": 0.2
             }
            },
            "type": "barpolar"
           }
          ],
          "carpet": [
           {
            "aaxis": {
             "endlinecolor": "#2a3f5f",
             "gridcolor": "white",
             "linecolor": "white",
             "minorgridcolor": "white",
             "startlinecolor": "#2a3f5f"
            },
            "baxis": {
             "endlinecolor": "#2a3f5f",
             "gridcolor": "white",
             "linecolor": "white",
             "minorgridcolor": "white",
             "startlinecolor": "#2a3f5f"
            },
            "type": "carpet"
           }
          ],
          "choropleth": [
           {
            "colorbar": {
             "outlinewidth": 0,
             "ticks": ""
            },
            "type": "choropleth"
           }
          ],
          "contour": [
           {
            "colorbar": {
             "outlinewidth": 0,
             "ticks": ""
            },
            "colorscale": [
             [
              0,
              "#0d0887"
             ],
             [
              0.1111111111111111,
              "#46039f"
             ],
             [
              0.2222222222222222,
              "#7201a8"
             ],
             [
              0.3333333333333333,
              "#9c179e"
             ],
             [
              0.4444444444444444,
              "#bd3786"
             ],
             [
              0.5555555555555556,
              "#d8576b"
             ],
             [
              0.6666666666666666,
              "#ed7953"
             ],
             [
              0.7777777777777778,
              "#fb9f3a"
             ],
             [
              0.8888888888888888,
              "#fdca26"
             ],
             [
              1,
              "#f0f921"
             ]
            ],
            "type": "contour"
           }
          ],
          "contourcarpet": [
           {
            "colorbar": {
             "outlinewidth": 0,
             "ticks": ""
            },
            "type": "contourcarpet"
           }
          ],
          "heatmap": [
           {
            "colorbar": {
             "outlinewidth": 0,
             "ticks": ""
            },
            "colorscale": [
             [
              0,
              "#0d0887"
             ],
             [
              0.1111111111111111,
              "#46039f"
             ],
             [
              0.2222222222222222,
              "#7201a8"
             ],
             [
              0.3333333333333333,
              "#9c179e"
             ],
             [
              0.4444444444444444,
              "#bd3786"
             ],
             [
              0.5555555555555556,
              "#d8576b"
             ],
             [
              0.6666666666666666,
              "#ed7953"
             ],
             [
              0.7777777777777778,
              "#fb9f3a"
             ],
             [
              0.8888888888888888,
              "#fdca26"
             ],
             [
              1,
              "#f0f921"
             ]
            ],
            "type": "heatmap"
           }
          ],
          "heatmapgl": [
           {
            "colorbar": {
             "outlinewidth": 0,
             "ticks": ""
            },
            "colorscale": [
             [
              0,
              "#0d0887"
             ],
             [
              0.1111111111111111,
              "#46039f"
             ],
             [
              0.2222222222222222,
              "#7201a8"
             ],
             [
              0.3333333333333333,
              "#9c179e"
             ],
             [
              0.4444444444444444,
              "#bd3786"
             ],
             [
              0.5555555555555556,
              "#d8576b"
             ],
             [
              0.6666666666666666,
              "#ed7953"
             ],
             [
              0.7777777777777778,
              "#fb9f3a"
             ],
             [
              0.8888888888888888,
              "#fdca26"
             ],
             [
              1,
              "#f0f921"
             ]
            ],
            "type": "heatmapgl"
           }
          ],
          "histogram": [
           {
            "marker": {
             "pattern": {
              "fillmode": "overlay",
              "size": 10,
              "solidity": 0.2
             }
            },
            "type": "histogram"
           }
          ],
          "histogram2d": [
           {
            "colorbar": {
             "outlinewidth": 0,
             "ticks": ""
            },
            "colorscale": [
             [
              0,
              "#0d0887"
             ],
             [
              0.1111111111111111,
              "#46039f"
             ],
             [
              0.2222222222222222,
              "#7201a8"
             ],
             [
              0.3333333333333333,
              "#9c179e"
             ],
             [
              0.4444444444444444,
              "#bd3786"
             ],
             [
              0.5555555555555556,
              "#d8576b"
             ],
             [
              0.6666666666666666,
              "#ed7953"
             ],
             [
              0.7777777777777778,
              "#fb9f3a"
             ],
             [
              0.8888888888888888,
              "#fdca26"
             ],
             [
              1,
              "#f0f921"
             ]
            ],
            "type": "histogram2d"
           }
          ],
          "histogram2dcontour": [
           {
            "colorbar": {
             "outlinewidth": 0,
             "ticks": ""
            },
            "colorscale": [
             [
              0,
              "#0d0887"
             ],
             [
              0.1111111111111111,
              "#46039f"
             ],
             [
              0.2222222222222222,
              "#7201a8"
             ],
             [
              0.3333333333333333,
              "#9c179e"
             ],
             [
              0.4444444444444444,
              "#bd3786"
             ],
             [
              0.5555555555555556,
              "#d8576b"
             ],
             [
              0.6666666666666666,
              "#ed7953"
             ],
             [
              0.7777777777777778,
              "#fb9f3a"
             ],
             [
              0.8888888888888888,
              "#fdca26"
             ],
             [
              1,
              "#f0f921"
             ]
            ],
            "type": "histogram2dcontour"
           }
          ],
          "mesh3d": [
           {
            "colorbar": {
             "outlinewidth": 0,
             "ticks": ""
            },
            "type": "mesh3d"
           }
          ],
          "parcoords": [
           {
            "line": {
             "colorbar": {
              "outlinewidth": 0,
              "ticks": ""
             }
            },
            "type": "parcoords"
           }
          ],
          "pie": [
           {
            "automargin": true,
            "type": "pie"
           }
          ],
          "scatter": [
           {
            "marker": {
             "colorbar": {
              "outlinewidth": 0,
              "ticks": ""
             }
            },
            "type": "scatter"
           }
          ],
          "scatter3d": [
           {
            "line": {
             "colorbar": {
              "outlinewidth": 0,
              "ticks": ""
             }
            },
            "marker": {
             "colorbar": {
              "outlinewidth": 0,
              "ticks": ""
             }
            },
            "type": "scatter3d"
           }
          ],
          "scattercarpet": [
           {
            "marker": {
             "colorbar": {
              "outlinewidth": 0,
              "ticks": ""
             }
            },
            "type": "scattercarpet"
           }
          ],
          "scattergeo": [
           {
            "marker": {
             "colorbar": {
              "outlinewidth": 0,
              "ticks": ""
             }
            },
            "type": "scattergeo"
           }
          ],
          "scattergl": [
           {
            "marker": {
             "colorbar": {
              "outlinewidth": 0,
              "ticks": ""
             }
            },
            "type": "scattergl"
           }
          ],
          "scattermapbox": [
           {
            "marker": {
             "colorbar": {
              "outlinewidth": 0,
              "ticks": ""
             }
            },
            "type": "scattermapbox"
           }
          ],
          "scatterpolar": [
           {
            "marker": {
             "colorbar": {
              "outlinewidth": 0,
              "ticks": ""
             }
            },
            "type": "scatterpolar"
           }
          ],
          "scatterpolargl": [
           {
            "marker": {
             "colorbar": {
              "outlinewidth": 0,
              "ticks": ""
             }
            },
            "type": "scatterpolargl"
           }
          ],
          "scatterternary": [
           {
            "marker": {
             "colorbar": {
              "outlinewidth": 0,
              "ticks": ""
             }
            },
            "type": "scatterternary"
           }
          ],
          "surface": [
           {
            "colorbar": {
             "outlinewidth": 0,
             "ticks": ""
            },
            "colorscale": [
             [
              0,
              "#0d0887"
             ],
             [
              0.1111111111111111,
              "#46039f"
             ],
             [
              0.2222222222222222,
              "#7201a8"
             ],
             [
              0.3333333333333333,
              "#9c179e"
             ],
             [
              0.4444444444444444,
              "#bd3786"
             ],
             [
              0.5555555555555556,
              "#d8576b"
             ],
             [
              0.6666666666666666,
              "#ed7953"
             ],
             [
              0.7777777777777778,
              "#fb9f3a"
             ],
             [
              0.8888888888888888,
              "#fdca26"
             ],
             [
              1,
              "#f0f921"
             ]
            ],
            "type": "surface"
           }
          ],
          "table": [
           {
            "cells": {
             "fill": {
              "color": "#EBF0F8"
             },
             "line": {
              "color": "white"
             }
            },
            "header": {
             "fill": {
              "color": "#C8D4E3"
             },
             "line": {
              "color": "white"
             }
            },
            "type": "table"
           }
          ]
         },
         "layout": {
          "annotationdefaults": {
           "arrowcolor": "#2a3f5f",
           "arrowhead": 0,
           "arrowwidth": 1
          },
          "autotypenumbers": "strict",
          "coloraxis": {
           "colorbar": {
            "outlinewidth": 0,
            "ticks": ""
           }
          },
          "colorscale": {
           "diverging": [
            [
             0,
             "#8e0152"
            ],
            [
             0.1,
             "#c51b7d"
            ],
            [
             0.2,
             "#de77ae"
            ],
            [
             0.3,
             "#f1b6da"
            ],
            [
             0.4,
             "#fde0ef"
            ],
            [
             0.5,
             "#f7f7f7"
            ],
            [
             0.6,
             "#e6f5d0"
            ],
            [
             0.7,
             "#b8e186"
            ],
            [
             0.8,
             "#7fbc41"
            ],
            [
             0.9,
             "#4d9221"
            ],
            [
             1,
             "#276419"
            ]
           ],
           "sequential": [
            [
             0,
             "#0d0887"
            ],
            [
             0.1111111111111111,
             "#46039f"
            ],
            [
             0.2222222222222222,
             "#7201a8"
            ],
            [
             0.3333333333333333,
             "#9c179e"
            ],
            [
             0.4444444444444444,
             "#bd3786"
            ],
            [
             0.5555555555555556,
             "#d8576b"
            ],
            [
             0.6666666666666666,
             "#ed7953"
            ],
            [
             0.7777777777777778,
             "#fb9f3a"
            ],
            [
             0.8888888888888888,
             "#fdca26"
            ],
            [
             1,
             "#f0f921"
            ]
           ],
           "sequentialminus": [
            [
             0,
             "#0d0887"
            ],
            [
             0.1111111111111111,
             "#46039f"
            ],
            [
             0.2222222222222222,
             "#7201a8"
            ],
            [
             0.3333333333333333,
             "#9c179e"
            ],
            [
             0.4444444444444444,
             "#bd3786"
            ],
            [
             0.5555555555555556,
             "#d8576b"
            ],
            [
             0.6666666666666666,
             "#ed7953"
            ],
            [
             0.7777777777777778,
             "#fb9f3a"
            ],
            [
             0.8888888888888888,
             "#fdca26"
            ],
            [
             1,
             "#f0f921"
            ]
           ]
          },
          "colorway": [
           "#636efa",
           "#EF553B",
           "#00cc96",
           "#ab63fa",
           "#FFA15A",
           "#19d3f3",
           "#FF6692",
           "#B6E880",
           "#FF97FF",
           "#FECB52"
          ],
          "font": {
           "color": "#2a3f5f"
          },
          "geo": {
           "bgcolor": "white",
           "lakecolor": "white",
           "landcolor": "#E5ECF6",
           "showlakes": true,
           "showland": true,
           "subunitcolor": "white"
          },
          "hoverlabel": {
           "align": "left"
          },
          "hovermode": "closest",
          "mapbox": {
           "style": "light"
          },
          "paper_bgcolor": "white",
          "plot_bgcolor": "#E5ECF6",
          "polar": {
           "angularaxis": {
            "gridcolor": "white",
            "linecolor": "white",
            "ticks": ""
           },
           "bgcolor": "#E5ECF6",
           "radialaxis": {
            "gridcolor": "white",
            "linecolor": "white",
            "ticks": ""
           }
          },
          "scene": {
           "xaxis": {
            "backgroundcolor": "#E5ECF6",
            "gridcolor": "white",
            "gridwidth": 2,
            "linecolor": "white",
            "showbackground": true,
            "ticks": "",
            "zerolinecolor": "white"
           },
           "yaxis": {
            "backgroundcolor": "#E5ECF6",
            "gridcolor": "white",
            "gridwidth": 2,
            "linecolor": "white",
            "showbackground": true,
            "ticks": "",
            "zerolinecolor": "white"
           },
           "zaxis": {
            "backgroundcolor": "#E5ECF6",
            "gridcolor": "white",
            "gridwidth": 2,
            "linecolor": "white",
            "showbackground": true,
            "ticks": "",
            "zerolinecolor": "white"
           }
          },
          "shapedefaults": {
           "line": {
            "color": "#2a3f5f"
           }
          },
          "ternary": {
           "aaxis": {
            "gridcolor": "white",
            "linecolor": "white",
            "ticks": ""
           },
           "baxis": {
            "gridcolor": "white",
            "linecolor": "white",
            "ticks": ""
           },
           "bgcolor": "#E5ECF6",
           "caxis": {
            "gridcolor": "white",
            "linecolor": "white",
            "ticks": ""
           }
          },
          "title": {
           "x": 0.05
          },
          "xaxis": {
           "automargin": true,
           "gridcolor": "white",
           "linecolor": "white",
           "ticks": "",
           "title": {
            "standoff": 15
           },
           "zerolinecolor": "white",
           "zerolinewidth": 2
          },
          "yaxis": {
           "automargin": true,
           "gridcolor": "white",
           "linecolor": "white",
           "ticks": "",
           "title": {
            "standoff": 15
           },
           "zerolinecolor": "white",
           "zerolinewidth": 2
          }
         }
        },
        "title": {
         "font": {
          "color": "#4D5663"
         }
        },
        "xaxis": {
         "gridcolor": "#E1E5ED",
         "showgrid": true,
         "tickfont": {
          "color": "#4D5663"
         },
         "title": {
          "font": {
           "color": "#4D5663"
          },
          "text": ""
         },
         "zerolinecolor": "#E1E5ED"
        },
        "yaxis": {
         "gridcolor": "#E1E5ED",
         "showgrid": true,
         "tickfont": {
          "color": "#4D5663"
         },
         "title": {
          "font": {
           "color": "#4D5663"
          },
          "text": ""
         },
         "zerolinecolor": "#E1E5ED"
        }
       }
      },
      "text/html": [
       "<div>                            <div id=\"b31b6318-105c-4e7c-99ba-5f2188d930b9\" class=\"plotly-graph-div\" style=\"height:525px; width:100%;\"></div>            <script type=\"text/javascript\">                require([\"plotly\"], function(Plotly) {                    window.PLOTLYENV=window.PLOTLYENV || {};\n",
       "                    window.PLOTLYENV.BASE_URL='https://plot.ly';                                    if (document.getElementById(\"b31b6318-105c-4e7c-99ba-5f2188d930b9\")) {                    Plotly.newPlot(                        \"b31b6318-105c-4e7c-99ba-5f2188d930b9\",                        [{\"marker\":{\"color\":[\"rgb(255, 153, 51)\",\"rgb(55, 128, 191)\",\"rgb(50, 171, 96)\",\"rgb(128, 0, 128)\",\"rgb(219, 64, 82)\",\"rgb(0, 128, 128)\",\"rgb(255, 255, 51)\",\"rgb(128, 128, 0)\",\"rgb(251, 128, 114)\",\"rgb(128, 177, 211)\"],\"line\":{\"width\":1.3},\"size\":[79,82,47,27,75,45,45,50,41,76,42,42,48,63,67,55,68,55,12,75,83,62,47,49,78,60,83,51,92,94,51,76,67,67,54,56,65,61,61,68,69,57,63,71,55,45,87,61,52,66,40,18,64,33,88,104,65,103,58,47,74,56,50,77,63,70,68,42,23,63,54,98,27,100,53,60,66,63,55,56,32,91,84,51,69,55,38,79,64,53,74,112,107,34,52,100,68,73,78,66],\"symbol\":\"circle\"},\"mode\":\"markers\",\"text\":\"\",\"type\":\"scatter\",\"x\":[1.0306531774627894,-1.2764594295792628,-2.007425835370658,1.1822103084826039,0.35608523117968155,0.27841238683736536,1.1751915700868945,-1.8123684253200218,0.15598217139030196,-0.5033310910133766,-0.5699399931599826,-0.07633533618674429,-2.004031638543584,-1.4131671302924367,1.5132620658210114,-0.09818026933141981,0.5931422343995467,1.0350325401095455,0.8736985428854916,0.1297605827241348,-0.40681515090843073,0.054384987360707994,-1.3777315482312165,-0.3297611876737317,2.3375924671188657,-0.9934026325789047,0.7831313478859588,0.6071592818927777,-1.5272089990095563,0.5439162023233473,1.1433214013625341,0.02363890445662154,0.36324894281452563,1.418692838399726,0.0032313784208553983,0.7376422679377489,-1.3135443305713557,0.2591394467052669,1.8726021333712695,-0.02267342733907837,-0.7117968358970819,-1.3815439752350147,0.5474069882633411,-0.14082838399786934,1.295800241524183,0.16587449002004045,-0.13623801126290602,-0.2841987455277562,-0.02657306813411636,-0.044358228099686814,0.7603630152471096,0.9105796238764517,0.5547276955749623,-1.6920327034935343,1.8012772604158922,1.0957537495842795,0.5278414279740992,-0.2579914977579109,-0.28010895433133803,-1.299882900782398,0.33419777531472783,0.25097425183628885,0.00940578100952716,0.061957118758716886,0.6522371871228492,0.18668169152173955,-1.3704814477703093,1.223642880212177,0.835811547517684,-1.9416047189095023,1.0209035834040083,-1.3014432518302246,0.9541745862125112,-0.4272130687617453,-1.0222157852329774,-0.28183416434644315,-1.2570497039234507,0.04750719678875333,0.49176992055093344,-0.7113589983611227,1.7543260318333134,0.36914224227737086,0.7310662346175594,0.6176993277494718,2.571811090509869,0.3869519696142842,0.9717144678765081,-0.759355555685107,-1.3649911929203533,1.025587645804269,-1.419560991950135,-1.7157191586652238,2.398947322575383,-1.128045677752533,-1.6350856463229864,0.36488475451516117,-0.9049450091422594,0.7338903579787782,1.1938403568058797,1.0174692575408952],\"y\":[-1.879318434737494,-0.49376240639959207,0.6332852498752116,0.05982920481099076,-0.45033326574357047,0.4780838526561915,0.2308646707202015,-0.4854975839734933,-0.1584023785037026,-0.7569330364249099,-1.2515830552574734,0.1908343665062289,-0.27427096038126997,-0.16494411658574556,1.0458614581281858,-0.7058384235612785,-1.1008257454485377,-0.5171405398885567,0.7774689975975859,0.1161453633306047,-0.7254257020581931,0.9997282963094282,-1.2175391994439475,-0.4032619171768969,1.178911179247722,-0.912336057384369,0.8704923498223446,-0.1429929067278444,-0.8155297099700727,-0.15693239688487548,-0.6611259733304673,-0.24163226558705464,1.9177322073356615,-0.17925908171876542,0.5625651927892863,-0.019120331964386623,0.8116619297158044,0.3170414557506839,0.6343449023308668,0.03552622091638352,2.149271896386203,1.0917890491818028,2.10597794808911,1.5871791620513425,-0.15184848489601235,-1.0853796732401266,-0.7854456468295216,0.10771338015465624,0.23000625228123567,-0.3115716415815013,-0.23648843341717046,-0.1759851101684985,-0.2470280124499729,-0.6557463265401569,0.37126719990984497,0.9190553436547041,0.8414066517645015,0.4717402442989092,-0.8584748946180241,-0.6379745172590058,-0.03635803447437388,1.2448777768443768,-2.3066094376938517,-0.7662876287767219,-0.054724390833976795,-0.5248788430371149,0.5926454521392258,-0.05721717949569917,-1.3801070410731737,0.0602725127541095,1.21849498916648,1.4372290980889477,2.543998541586174,-1.359347935580105,0.7812931470112162,0.3111546480607504,1.4181147334897954,-1.074304103543346,0.11768263512512897,0.70590446887133,-0.08115145651149062,0.2816969042936072,-0.12729256715473372,-0.9235802995434116,0.6978291184446651,-0.14023362537906392,-0.531481976759396,-0.18064291032587737,-1.3961469533564512,0.45294460213610915,-0.5523359480249287,-1.2284865503087057,-0.9839184126739572,-0.3422293725130915,0.43163349889880115,-0.12968252751998702,-2.2310079681006187,0.9679175488616665,-1.1124360640115944,0.06462241949051942]}],                        {\"legend\":{\"bgcolor\":\"#F5F6F9\",\"font\":{\"color\":\"#4D5663\"}},\"paper_bgcolor\":\"#F5F6F9\",\"plot_bgcolor\":\"#F5F6F9\",\"template\":{\"data\":{\"bar\":[{\"error_x\":{\"color\":\"#2a3f5f\"},\"error_y\":{\"color\":\"#2a3f5f\"},\"marker\":{\"line\":{\"color\":\"#E5ECF6\",\"width\":0.5},\"pattern\":{\"fillmode\":\"overlay\",\"size\":10,\"solidity\":0.2}},\"type\":\"bar\"}],\"barpolar\":[{\"marker\":{\"line\":{\"color\":\"#E5ECF6\",\"width\":0.5},\"pattern\":{\"fillmode\":\"overlay\",\"size\":10,\"solidity\":0.2}},\"type\":\"barpolar\"}],\"carpet\":[{\"aaxis\":{\"endlinecolor\":\"#2a3f5f\",\"gridcolor\":\"white\",\"linecolor\":\"white\",\"minorgridcolor\":\"white\",\"startlinecolor\":\"#2a3f5f\"},\"baxis\":{\"endlinecolor\":\"#2a3f5f\",\"gridcolor\":\"white\",\"linecolor\":\"white\",\"minorgridcolor\":\"white\",\"startlinecolor\":\"#2a3f5f\"},\"type\":\"carpet\"}],\"choropleth\":[{\"colorbar\":{\"outlinewidth\":0,\"ticks\":\"\"},\"type\":\"choropleth\"}],\"contour\":[{\"colorbar\":{\"outlinewidth\":0,\"ticks\":\"\"},\"colorscale\":[[0.0,\"#0d0887\"],[0.1111111111111111,\"#46039f\"],[0.2222222222222222,\"#7201a8\"],[0.3333333333333333,\"#9c179e\"],[0.4444444444444444,\"#bd3786\"],[0.5555555555555556,\"#d8576b\"],[0.6666666666666666,\"#ed7953\"],[0.7777777777777778,\"#fb9f3a\"],[0.8888888888888888,\"#fdca26\"],[1.0,\"#f0f921\"]],\"type\":\"contour\"}],\"contourcarpet\":[{\"colorbar\":{\"outlinewidth\":0,\"ticks\":\"\"},\"type\":\"contourcarpet\"}],\"heatmap\":[{\"colorbar\":{\"outlinewidth\":0,\"ticks\":\"\"},\"colorscale\":[[0.0,\"#0d0887\"],[0.1111111111111111,\"#46039f\"],[0.2222222222222222,\"#7201a8\"],[0.3333333333333333,\"#9c179e\"],[0.4444444444444444,\"#bd3786\"],[0.5555555555555556,\"#d8576b\"],[0.6666666666666666,\"#ed7953\"],[0.7777777777777778,\"#fb9f3a\"],[0.8888888888888888,\"#fdca26\"],[1.0,\"#f0f921\"]],\"type\":\"heatmap\"}],\"heatmapgl\":[{\"colorbar\":{\"outlinewidth\":0,\"ticks\":\"\"},\"colorscale\":[[0.0,\"#0d0887\"],[0.1111111111111111,\"#46039f\"],[0.2222222222222222,\"#7201a8\"],[0.3333333333333333,\"#9c179e\"],[0.4444444444444444,\"#bd3786\"],[0.5555555555555556,\"#d8576b\"],[0.6666666666666666,\"#ed7953\"],[0.7777777777777778,\"#fb9f3a\"],[0.8888888888888888,\"#fdca26\"],[1.0,\"#f0f921\"]],\"type\":\"heatmapgl\"}],\"histogram\":[{\"marker\":{\"pattern\":{\"fillmode\":\"overlay\",\"size\":10,\"solidity\":0.2}},\"type\":\"histogram\"}],\"histogram2d\":[{\"colorbar\":{\"outlinewidth\":0,\"ticks\":\"\"},\"colorscale\":[[0.0,\"#0d0887\"],[0.1111111111111111,\"#46039f\"],[0.2222222222222222,\"#7201a8\"],[0.3333333333333333,\"#9c179e\"],[0.4444444444444444,\"#bd3786\"],[0.5555555555555556,\"#d8576b\"],[0.6666666666666666,\"#ed7953\"],[0.7777777777777778,\"#fb9f3a\"],[0.8888888888888888,\"#fdca26\"],[1.0,\"#f0f921\"]],\"type\":\"histogram2d\"}],\"histogram2dcontour\":[{\"colorbar\":{\"outlinewidth\":0,\"ticks\":\"\"},\"colorscale\":[[0.0,\"#0d0887\"],[0.1111111111111111,\"#46039f\"],[0.2222222222222222,\"#7201a8\"],[0.3333333333333333,\"#9c179e\"],[0.4444444444444444,\"#bd3786\"],[0.5555555555555556,\"#d8576b\"],[0.6666666666666666,\"#ed7953\"],[0.7777777777777778,\"#fb9f3a\"],[0.8888888888888888,\"#fdca26\"],[1.0,\"#f0f921\"]],\"type\":\"histogram2dcontour\"}],\"mesh3d\":[{\"colorbar\":{\"outlinewidth\":0,\"ticks\":\"\"},\"type\":\"mesh3d\"}],\"parcoords\":[{\"line\":{\"colorbar\":{\"outlinewidth\":0,\"ticks\":\"\"}},\"type\":\"parcoords\"}],\"pie\":[{\"automargin\":true,\"type\":\"pie\"}],\"scatter\":[{\"marker\":{\"colorbar\":{\"outlinewidth\":0,\"ticks\":\"\"}},\"type\":\"scatter\"}],\"scatter3d\":[{\"line\":{\"colorbar\":{\"outlinewidth\":0,\"ticks\":\"\"}},\"marker\":{\"colorbar\":{\"outlinewidth\":0,\"ticks\":\"\"}},\"type\":\"scatter3d\"}],\"scattercarpet\":[{\"marker\":{\"colorbar\":{\"outlinewidth\":0,\"ticks\":\"\"}},\"type\":\"scattercarpet\"}],\"scattergeo\":[{\"marker\":{\"colorbar\":{\"outlinewidth\":0,\"ticks\":\"\"}},\"type\":\"scattergeo\"}],\"scattergl\":[{\"marker\":{\"colorbar\":{\"outlinewidth\":0,\"ticks\":\"\"}},\"type\":\"scattergl\"}],\"scattermapbox\":[{\"marker\":{\"colorbar\":{\"outlinewidth\":0,\"ticks\":\"\"}},\"type\":\"scattermapbox\"}],\"scatterpolar\":[{\"marker\":{\"colorbar\":{\"outlinewidth\":0,\"ticks\":\"\"}},\"type\":\"scatterpolar\"}],\"scatterpolargl\":[{\"marker\":{\"colorbar\":{\"outlinewidth\":0,\"ticks\":\"\"}},\"type\":\"scatterpolargl\"}],\"scatterternary\":[{\"marker\":{\"colorbar\":{\"outlinewidth\":0,\"ticks\":\"\"}},\"type\":\"scatterternary\"}],\"surface\":[{\"colorbar\":{\"outlinewidth\":0,\"ticks\":\"\"},\"colorscale\":[[0.0,\"#0d0887\"],[0.1111111111111111,\"#46039f\"],[0.2222222222222222,\"#7201a8\"],[0.3333333333333333,\"#9c179e\"],[0.4444444444444444,\"#bd3786\"],[0.5555555555555556,\"#d8576b\"],[0.6666666666666666,\"#ed7953\"],[0.7777777777777778,\"#fb9f3a\"],[0.8888888888888888,\"#fdca26\"],[1.0,\"#f0f921\"]],\"type\":\"surface\"}],\"table\":[{\"cells\":{\"fill\":{\"color\":\"#EBF0F8\"},\"line\":{\"color\":\"white\"}},\"header\":{\"fill\":{\"color\":\"#C8D4E3\"},\"line\":{\"color\":\"white\"}},\"type\":\"table\"}]},\"layout\":{\"annotationdefaults\":{\"arrowcolor\":\"#2a3f5f\",\"arrowhead\":0,\"arrowwidth\":1},\"autotypenumbers\":\"strict\",\"coloraxis\":{\"colorbar\":{\"outlinewidth\":0,\"ticks\":\"\"}},\"colorscale\":{\"diverging\":[[0,\"#8e0152\"],[0.1,\"#c51b7d\"],[0.2,\"#de77ae\"],[0.3,\"#f1b6da\"],[0.4,\"#fde0ef\"],[0.5,\"#f7f7f7\"],[0.6,\"#e6f5d0\"],[0.7,\"#b8e186\"],[0.8,\"#7fbc41\"],[0.9,\"#4d9221\"],[1,\"#276419\"]],\"sequential\":[[0.0,\"#0d0887\"],[0.1111111111111111,\"#46039f\"],[0.2222222222222222,\"#7201a8\"],[0.3333333333333333,\"#9c179e\"],[0.4444444444444444,\"#bd3786\"],[0.5555555555555556,\"#d8576b\"],[0.6666666666666666,\"#ed7953\"],[0.7777777777777778,\"#fb9f3a\"],[0.8888888888888888,\"#fdca26\"],[1.0,\"#f0f921\"]],\"sequentialminus\":[[0.0,\"#0d0887\"],[0.1111111111111111,\"#46039f\"],[0.2222222222222222,\"#7201a8\"],[0.3333333333333333,\"#9c179e\"],[0.4444444444444444,\"#bd3786\"],[0.5555555555555556,\"#d8576b\"],[0.6666666666666666,\"#ed7953\"],[0.7777777777777778,\"#fb9f3a\"],[0.8888888888888888,\"#fdca26\"],[1.0,\"#f0f921\"]]},\"colorway\":[\"#636efa\",\"#EF553B\",\"#00cc96\",\"#ab63fa\",\"#FFA15A\",\"#19d3f3\",\"#FF6692\",\"#B6E880\",\"#FF97FF\",\"#FECB52\"],\"font\":{\"color\":\"#2a3f5f\"},\"geo\":{\"bgcolor\":\"white\",\"lakecolor\":\"white\",\"landcolor\":\"#E5ECF6\",\"showlakes\":true,\"showland\":true,\"subunitcolor\":\"white\"},\"hoverlabel\":{\"align\":\"left\"},\"hovermode\":\"closest\",\"mapbox\":{\"style\":\"light\"},\"paper_bgcolor\":\"white\",\"plot_bgcolor\":\"#E5ECF6\",\"polar\":{\"angularaxis\":{\"gridcolor\":\"white\",\"linecolor\":\"white\",\"ticks\":\"\"},\"bgcolor\":\"#E5ECF6\",\"radialaxis\":{\"gridcolor\":\"white\",\"linecolor\":\"white\",\"ticks\":\"\"}},\"scene\":{\"xaxis\":{\"backgroundcolor\":\"#E5ECF6\",\"gridcolor\":\"white\",\"gridwidth\":2,\"linecolor\":\"white\",\"showbackground\":true,\"ticks\":\"\",\"zerolinecolor\":\"white\"},\"yaxis\":{\"backgroundcolor\":\"#E5ECF6\",\"gridcolor\":\"white\",\"gridwidth\":2,\"linecolor\":\"white\",\"showbackground\":true,\"ticks\":\"\",\"zerolinecolor\":\"white\"},\"zaxis\":{\"backgroundcolor\":\"#E5ECF6\",\"gridcolor\":\"white\",\"gridwidth\":2,\"linecolor\":\"white\",\"showbackground\":true,\"ticks\":\"\",\"zerolinecolor\":\"white\"}},\"shapedefaults\":{\"line\":{\"color\":\"#2a3f5f\"}},\"ternary\":{\"aaxis\":{\"gridcolor\":\"white\",\"linecolor\":\"white\",\"ticks\":\"\"},\"baxis\":{\"gridcolor\":\"white\",\"linecolor\":\"white\",\"ticks\":\"\"},\"bgcolor\":\"#E5ECF6\",\"caxis\":{\"gridcolor\":\"white\",\"linecolor\":\"white\",\"ticks\":\"\"}},\"title\":{\"x\":0.05},\"xaxis\":{\"automargin\":true,\"gridcolor\":\"white\",\"linecolor\":\"white\",\"ticks\":\"\",\"title\":{\"standoff\":15},\"zerolinecolor\":\"white\",\"zerolinewidth\":2},\"yaxis\":{\"automargin\":true,\"gridcolor\":\"white\",\"linecolor\":\"white\",\"ticks\":\"\",\"title\":{\"standoff\":15},\"zerolinecolor\":\"white\",\"zerolinewidth\":2}}},\"title\":{\"font\":{\"color\":\"#4D5663\"}},\"xaxis\":{\"gridcolor\":\"#E1E5ED\",\"showgrid\":true,\"tickfont\":{\"color\":\"#4D5663\"},\"title\":{\"font\":{\"color\":\"#4D5663\"},\"text\":\"\"},\"zerolinecolor\":\"#E1E5ED\"},\"yaxis\":{\"gridcolor\":\"#E1E5ED\",\"showgrid\":true,\"tickfont\":{\"color\":\"#4D5663\"},\"title\":{\"font\":{\"color\":\"#4D5663\"},\"text\":\"\"},\"zerolinecolor\":\"#E1E5ED\"}},                        {\"showLink\": true, \"linkText\": \"Export to plot.ly\", \"plotlyServerURL\": \"https://plot.ly\", \"responsive\": true}                    ).then(function(){\n",
       "                            \n",
       "var gd = document.getElementById('b31b6318-105c-4e7c-99ba-5f2188d930b9');\n",
       "var x = new MutationObserver(function (mutations, observer) {{\n",
       "        var display = window.getComputedStyle(gd).display;\n",
       "        if (!display || display === 'none') {{\n",
       "            console.log([gd, 'removed!']);\n",
       "            Plotly.purge(gd);\n",
       "            observer.disconnect();\n",
       "        }}\n",
       "}});\n",
       "\n",
       "// Listen for the removal of the full notebook cells\n",
       "var notebookContainer = gd.closest('#notebook-container');\n",
       "if (notebookContainer) {{\n",
       "    x.observe(notebookContainer, {childList: true});\n",
       "}}\n",
       "\n",
       "// Listen for the clearing of the current output cell\n",
       "var outputEl = gd.closest('.output');\n",
       "if (outputEl) {{\n",
       "    x.observe(outputEl, {childList: true});\n",
       "}}\n",
       "\n",
       "                        })                };                });            </script>        </div>"
      ]
     },
     "metadata": {},
     "output_type": "display_data"
    }
   ],
   "source": [
    "df.iplot(kind='bubble',x='A',y='B',size='C')"
   ]
  },
  {
   "cell_type": "markdown",
   "metadata": {
    "id": "mHkNsvXuJLzc"
   },
   "source": [
    "## scatter_matrix()\n",
    "\n",
    "Similar a sns.pairplot()"
   ]
  },
  {
   "cell_type": "code",
   "execution_count": 19,
   "metadata": {
    "colab": {
     "base_uri": "https://localhost:8080/",
     "height": 542
    },
    "id": "iAtmeeWeJLzc",
    "outputId": "10ef825a-0737-42a4-b38f-7e09f6f6cfd5"
   },
   "outputs": [
    {
     "data": {
      "application/vnd.plotly.v1+json": {
       "config": {
        "linkText": "Export to plot.ly",
        "plotlyServerURL": "https://plot.ly",
        "showLink": true
       },
       "data": [
        {
         "histfunc": "count",
         "histnorm": "",
         "marker": {
          "color": "rgba(255, 153, 51, 1.0)",
          "line": {
           "color": "#4D5663",
           "width": 1.3
          }
         },
         "name": "A",
         "nbinsx": 10,
         "opacity": 0.8,
         "orientation": "v",
         "type": "histogram",
         "x": [
          1.0306531774627894,
          -1.2764594295792628,
          -2.007425835370658,
          1.1822103084826039,
          0.35608523117968155,
          0.27841238683736536,
          1.1751915700868945,
          -1.8123684253200218,
          0.15598217139030196,
          -0.5033310910133766,
          -0.5699399931599826,
          -0.07633533618674429,
          -2.004031638543584,
          -1.4131671302924367,
          1.5132620658210114,
          -0.09818026933141981,
          0.5931422343995467,
          1.0350325401095455,
          0.8736985428854916,
          0.1297605827241348,
          -0.40681515090843073,
          0.054384987360707994,
          -1.3777315482312165,
          -0.3297611876737317,
          2.3375924671188657,
          -0.9934026325789047,
          0.7831313478859588,
          0.6071592818927777,
          -1.5272089990095563,
          0.5439162023233473,
          1.1433214013625341,
          0.02363890445662154,
          0.36324894281452563,
          1.418692838399726,
          0.0032313784208553983,
          0.7376422679377489,
          -1.3135443305713557,
          0.2591394467052669,
          1.8726021333712695,
          -0.02267342733907837,
          -0.7117968358970819,
          -1.3815439752350147,
          0.5474069882633411,
          -0.14082838399786934,
          1.295800241524183,
          0.16587449002004045,
          -0.13623801126290602,
          -0.2841987455277562,
          -0.02657306813411636,
          -0.044358228099686814,
          0.7603630152471096,
          0.9105796238764517,
          0.5547276955749623,
          -1.6920327034935343,
          1.8012772604158922,
          1.0957537495842795,
          0.5278414279740992,
          -0.2579914977579109,
          -0.28010895433133803,
          -1.299882900782398,
          0.33419777531472783,
          0.25097425183628885,
          0.00940578100952716,
          0.061957118758716886,
          0.6522371871228492,
          0.18668169152173955,
          -1.3704814477703093,
          1.223642880212177,
          0.835811547517684,
          -1.9416047189095023,
          1.0209035834040083,
          -1.3014432518302246,
          0.9541745862125112,
          -0.4272130687617453,
          -1.0222157852329774,
          -0.28183416434644315,
          -1.2570497039234507,
          0.04750719678875333,
          0.49176992055093344,
          -0.7113589983611227,
          1.7543260318333134,
          0.36914224227737086,
          0.7310662346175594,
          0.6176993277494718,
          2.571811090509869,
          0.3869519696142842,
          0.9717144678765081,
          -0.759355555685107,
          -1.3649911929203533,
          1.025587645804269,
          -1.419560991950135,
          -1.7157191586652238,
          2.398947322575383,
          -1.128045677752533,
          -1.6350856463229864,
          0.36488475451516117,
          -0.9049450091422594,
          0.7338903579787782,
          1.1938403568058797,
          1.0174692575408952
         ],
         "xaxis": "x",
         "yaxis": "y"
        },
        {
         "line": {
          "color": "rgba(128, 128, 128, 1.0)",
          "dash": "solid",
          "shape": "linear",
          "width": 1.3
         },
         "marker": {
          "size": 2,
          "symbol": "circle"
         },
         "mode": "markers",
         "name": "A",
         "text": "",
         "type": "scatter",
         "x": [
          -1.879318434737494,
          -0.49376240639959207,
          0.6332852498752116,
          0.05982920481099076,
          -0.45033326574357047,
          0.4780838526561915,
          0.2308646707202015,
          -0.4854975839734933,
          -0.1584023785037026,
          -0.7569330364249099,
          -1.2515830552574734,
          0.1908343665062289,
          -0.27427096038126997,
          -0.16494411658574556,
          1.0458614581281858,
          -0.7058384235612785,
          -1.1008257454485377,
          -0.5171405398885567,
          0.7774689975975859,
          0.1161453633306047,
          -0.7254257020581931,
          0.9997282963094282,
          -1.2175391994439475,
          -0.4032619171768969,
          1.178911179247722,
          -0.912336057384369,
          0.8704923498223446,
          -0.1429929067278444,
          -0.8155297099700727,
          -0.15693239688487548,
          -0.6611259733304673,
          -0.24163226558705464,
          1.9177322073356615,
          -0.17925908171876542,
          0.5625651927892863,
          -0.019120331964386623,
          0.8116619297158044,
          0.3170414557506839,
          0.6343449023308668,
          0.03552622091638352,
          2.149271896386203,
          1.0917890491818028,
          2.10597794808911,
          1.5871791620513425,
          -0.15184848489601235,
          -1.0853796732401266,
          -0.7854456468295216,
          0.10771338015465624,
          0.23000625228123567,
          -0.3115716415815013,
          -0.23648843341717046,
          -0.1759851101684985,
          -0.2470280124499729,
          -0.6557463265401569,
          0.37126719990984497,
          0.9190553436547041,
          0.8414066517645015,
          0.4717402442989092,
          -0.8584748946180241,
          -0.6379745172590058,
          -0.03635803447437388,
          1.2448777768443768,
          -2.3066094376938517,
          -0.7662876287767219,
          -0.054724390833976795,
          -0.5248788430371149,
          0.5926454521392258,
          -0.05721717949569917,
          -1.3801070410731737,
          0.0602725127541095,
          1.21849498916648,
          1.4372290980889477,
          2.543998541586174,
          -1.359347935580105,
          0.7812931470112162,
          0.3111546480607504,
          1.4181147334897954,
          -1.074304103543346,
          0.11768263512512897,
          0.70590446887133,
          -0.08115145651149062,
          0.2816969042936072,
          -0.12729256715473372,
          -0.9235802995434116,
          0.6978291184446651,
          -0.14023362537906392,
          -0.531481976759396,
          -0.18064291032587737,
          -1.3961469533564512,
          0.45294460213610915,
          -0.5523359480249287,
          -1.2284865503087057,
          -0.9839184126739572,
          -0.3422293725130915,
          0.43163349889880115,
          -0.12968252751998702,
          -2.2310079681006187,
          0.9679175488616665,
          -1.1124360640115944,
          0.06462241949051942
         ],
         "xaxis": "x2",
         "y": [
          1.0306531774627894,
          -1.2764594295792628,
          -2.007425835370658,
          1.1822103084826039,
          0.35608523117968155,
          0.27841238683736536,
          1.1751915700868945,
          -1.8123684253200218,
          0.15598217139030196,
          -0.5033310910133766,
          -0.5699399931599826,
          -0.07633533618674429,
          -2.004031638543584,
          -1.4131671302924367,
          1.5132620658210114,
          -0.09818026933141981,
          0.5931422343995467,
          1.0350325401095455,
          0.8736985428854916,
          0.1297605827241348,
          -0.40681515090843073,
          0.054384987360707994,
          -1.3777315482312165,
          -0.3297611876737317,
          2.3375924671188657,
          -0.9934026325789047,
          0.7831313478859588,
          0.6071592818927777,
          -1.5272089990095563,
          0.5439162023233473,
          1.1433214013625341,
          0.02363890445662154,
          0.36324894281452563,
          1.418692838399726,
          0.0032313784208553983,
          0.7376422679377489,
          -1.3135443305713557,
          0.2591394467052669,
          1.8726021333712695,
          -0.02267342733907837,
          -0.7117968358970819,
          -1.3815439752350147,
          0.5474069882633411,
          -0.14082838399786934,
          1.295800241524183,
          0.16587449002004045,
          -0.13623801126290602,
          -0.2841987455277562,
          -0.02657306813411636,
          -0.044358228099686814,
          0.7603630152471096,
          0.9105796238764517,
          0.5547276955749623,
          -1.6920327034935343,
          1.8012772604158922,
          1.0957537495842795,
          0.5278414279740992,
          -0.2579914977579109,
          -0.28010895433133803,
          -1.299882900782398,
          0.33419777531472783,
          0.25097425183628885,
          0.00940578100952716,
          0.061957118758716886,
          0.6522371871228492,
          0.18668169152173955,
          -1.3704814477703093,
          1.223642880212177,
          0.835811547517684,
          -1.9416047189095023,
          1.0209035834040083,
          -1.3014432518302246,
          0.9541745862125112,
          -0.4272130687617453,
          -1.0222157852329774,
          -0.28183416434644315,
          -1.2570497039234507,
          0.04750719678875333,
          0.49176992055093344,
          -0.7113589983611227,
          1.7543260318333134,
          0.36914224227737086,
          0.7310662346175594,
          0.6176993277494718,
          2.571811090509869,
          0.3869519696142842,
          0.9717144678765081,
          -0.759355555685107,
          -1.3649911929203533,
          1.025587645804269,
          -1.419560991950135,
          -1.7157191586652238,
          2.398947322575383,
          -1.128045677752533,
          -1.6350856463229864,
          0.36488475451516117,
          -0.9049450091422594,
          0.7338903579787782,
          1.1938403568058797,
          1.0174692575408952
         ],
         "yaxis": "y2"
        },
        {
         "line": {
          "color": "rgba(128, 128, 128, 1.0)",
          "dash": "solid",
          "shape": "linear",
          "width": 1.3
         },
         "marker": {
          "size": 2,
          "symbol": "circle"
         },
         "mode": "markers",
         "name": "A",
         "text": "",
         "type": "scatter",
         "x": [
          1.027856233050692,
          1.218819691332298,
          -0.6248077065383141,
          -1.7030401553248025,
          0.8386821474155278,
          -0.7369511885466679,
          -0.760607064596806,
          -0.4701506396148254,
          -0.9752420363858689,
          0.8714048788788313,
          -0.9324804226514437,
          -0.9175968509413431,
          -0.5773282460012145,
          0.18341379991532988,
          0.3889270458433841,
          -0.2404561868704745,
          0.45387528527495025,
          -0.22925368050107353,
          -2.5268756699629487,
          0.847835290200292,
          1.282651941279439,
          0.1582720716623581,
          -0.6646327894405282,
          -0.5176572199861884,
          1.0090458628415175,
          0.033533200611497914,
          1.235587473926201,
          -0.42284973101152,
          1.7309242033880412,
          1.8629567466633654,
          -0.4342693029001846,
          0.8969751585984688,
          0.4273969419568774,
          0.38954762179369073,
          -0.28964772445485343,
          -0.18574876019033443,
          0.3053874338565279,
          0.1160607212223022,
          0.09290359518164934,
          0.4456257500733233,
          0.5073454733400935,
          -0.10409173547276958,
          0.19994197169320588,
          0.6062470992125325,
          -0.2501115505904788,
          -0.7754916765103502,
          1.4559996482254274,
          0.10622651148123047,
          -0.4015722280994274,
          0.36025145222355176,
          -1.0158201424118873,
          -2.169360113128646,
          0.2529741152328386,
          -1.376861301201083,
          1.523231099274402,
          2.3822354146688656,
          0.2930224645185498,
          2.303507375127805,
          -0.04228808594209028,
          -0.623201287384853,
          0.803230605712943,
          -0.19452087068898913,
          -0.4872792386665017,
          0.9159820815745716,
          0.19455868407192214,
          0.5814269806279551,
          0.46371284988433487,
          -0.9220229205650781,
          -1.920532692575124,
          0.19504925951967894,
          -0.28553625410706895,
          2.02424262047401,
          -1.7058694089203703,
          2.15017653224913,
          -0.3211055458145115,
          0.04663664852731371,
          0.3390912455544397,
          0.21421891171161125,
          -0.23691769829522893,
          -0.19077261494802297,
          -1.4442113849385552,
          1.7043919134923207,
          1.2921578890461014,
          -0.41586822575754884,
          0.5020004880514272,
          -0.24677263882673525,
          -1.1313056002899673,
          1.0228252243043117,
          0.22909728148178907,
          -0.31285277613487456,
          0.8065523774367869,
          2.764834558394798,
          2.5280141810595516,
          -1.3157187232280814,
          -0.36095321329218744,
          2.1563452971412818,
          0.47781715500845473,
          0.7433030165273915,
          0.9691548952136163,
          0.3356041583454173
         ],
         "xaxis": "x3",
         "y": [
          1.0306531774627894,
          -1.2764594295792628,
          -2.007425835370658,
          1.1822103084826039,
          0.35608523117968155,
          0.27841238683736536,
          1.1751915700868945,
          -1.8123684253200218,
          0.15598217139030196,
          -0.5033310910133766,
          -0.5699399931599826,
          -0.07633533618674429,
          -2.004031638543584,
          -1.4131671302924367,
          1.5132620658210114,
          -0.09818026933141981,
          0.5931422343995467,
          1.0350325401095455,
          0.8736985428854916,
          0.1297605827241348,
          -0.40681515090843073,
          0.054384987360707994,
          -1.3777315482312165,
          -0.3297611876737317,
          2.3375924671188657,
          -0.9934026325789047,
          0.7831313478859588,
          0.6071592818927777,
          -1.5272089990095563,
          0.5439162023233473,
          1.1433214013625341,
          0.02363890445662154,
          0.36324894281452563,
          1.418692838399726,
          0.0032313784208553983,
          0.7376422679377489,
          -1.3135443305713557,
          0.2591394467052669,
          1.8726021333712695,
          -0.02267342733907837,
          -0.7117968358970819,
          -1.3815439752350147,
          0.5474069882633411,
          -0.14082838399786934,
          1.295800241524183,
          0.16587449002004045,
          -0.13623801126290602,
          -0.2841987455277562,
          -0.02657306813411636,
          -0.044358228099686814,
          0.7603630152471096,
          0.9105796238764517,
          0.5547276955749623,
          -1.6920327034935343,
          1.8012772604158922,
          1.0957537495842795,
          0.5278414279740992,
          -0.2579914977579109,
          -0.28010895433133803,
          -1.299882900782398,
          0.33419777531472783,
          0.25097425183628885,
          0.00940578100952716,
          0.061957118758716886,
          0.6522371871228492,
          0.18668169152173955,
          -1.3704814477703093,
          1.223642880212177,
          0.835811547517684,
          -1.9416047189095023,
          1.0209035834040083,
          -1.3014432518302246,
          0.9541745862125112,
          -0.4272130687617453,
          -1.0222157852329774,
          -0.28183416434644315,
          -1.2570497039234507,
          0.04750719678875333,
          0.49176992055093344,
          -0.7113589983611227,
          1.7543260318333134,
          0.36914224227737086,
          0.7310662346175594,
          0.6176993277494718,
          2.571811090509869,
          0.3869519696142842,
          0.9717144678765081,
          -0.759355555685107,
          -1.3649911929203533,
          1.025587645804269,
          -1.419560991950135,
          -1.7157191586652238,
          2.398947322575383,
          -1.128045677752533,
          -1.6350856463229864,
          0.36488475451516117,
          -0.9049450091422594,
          0.7338903579787782,
          1.1938403568058797,
          1.0174692575408952
         ],
         "yaxis": "y3"
        },
        {
         "line": {
          "color": "rgba(128, 128, 128, 1.0)",
          "dash": "solid",
          "shape": "linear",
          "width": 1.3
         },
         "marker": {
          "size": 2,
          "symbol": "circle"
         },
         "mode": "markers",
         "name": "A",
         "text": "",
         "type": "scatter",
         "x": [
          -0.2548647289377369,
          0.11991083560609044,
          -0.027370511556095847,
          -1.7174128968207305,
          1.6014785885643945,
          0.42264485714417827,
          0.8715801933462936,
          0.44983548332217,
          1.2462303551447877,
          -1.0140229129473624,
          -0.252475622333703,
          0.7080988324831506,
          0.8228019416718878,
          -1.0045478552813947,
          0.2072548084506301,
          -0.29913829858796315,
          -0.03276382842884846,
          -0.13929077045059887,
          -0.6522861959715183,
          -0.3592447282720758,
          1.4344607526326083,
          -1.720646867383011,
          -0.547978572575142,
          -0.7484230729429161,
          0.41267110770184945,
          0.16436180137627124,
          0.17954912369447668,
          0.7292926737251676,
          0.06396691962014875,
          1.2810709654663168,
          -1.8200534050596084,
          -1.302036013698075,
          -0.43926733896447034,
          1.1877455332772344,
          0.15553191104842912,
          -2.0950660332609505,
          1.4076178031342554,
          -0.4593918386360639,
          -2.0667302336893316,
          -0.2612965085583921,
          -0.22090392480296983,
          0.18305151335149294,
          1.3926286274046134,
          1.1816856055752736,
          1.1999409011816575,
          -0.43386007103477353,
          -0.11551081577622681,
          -0.18233679591054483,
          1.9300794996362982,
          0.8010975462042897,
          0.04494910972956476,
          -0.207038023543942,
          -0.6972872700389012,
          -0.5940702673030951,
          0.6890166774265801,
          -0.3998720623215428,
          -0.10186489092408647,
          1.0027172900847539,
          -0.5954361707244198,
          0.04460773581185214,
          1.256368426387719,
          -0.5154142888940284,
          1.1857113392746585,
          -2.4509670993508643,
          0.9373546537978297,
          0.5984696230358664,
          0.27626465858337,
          -2.7665607509274386,
          1.6223898700606318,
          0.24423475272936285,
          -1.8266112904577037,
          -0.7138266481612217,
          1.0014417883675846,
          1.1341617529648378,
          0.3180808897615708,
          0.5378767026560349,
          -0.859297967546852,
          0.6747795131843112,
          1.7037331635993773,
          0.9489888039410239,
          0.31216455323091397,
          -1.3042911982909864,
          0.8269244602790404,
          1.3131589102817827,
          1.5488966104292863,
          0.7881848283970893,
          -0.8910582719771708,
          0.6770044385568382,
          -2.0340667807149764,
          0.7001160828398248,
          1.3261385488710393,
          -0.010833375248821029,
          -0.559291609474772,
          -1.3364470053901067,
          -1.6486901546375117,
          -0.17071337030065223,
          -0.03064229116044874,
          1.9445332338356134,
          -0.22938897043058815,
          -1.213006780356858
         ],
         "xaxis": "x4",
         "y": [
          1.0306531774627894,
          -1.2764594295792628,
          -2.007425835370658,
          1.1822103084826039,
          0.35608523117968155,
          0.27841238683736536,
          1.1751915700868945,
          -1.8123684253200218,
          0.15598217139030196,
          -0.5033310910133766,
          -0.5699399931599826,
          -0.07633533618674429,
          -2.004031638543584,
          -1.4131671302924367,
          1.5132620658210114,
          -0.09818026933141981,
          0.5931422343995467,
          1.0350325401095455,
          0.8736985428854916,
          0.1297605827241348,
          -0.40681515090843073,
          0.054384987360707994,
          -1.3777315482312165,
          -0.3297611876737317,
          2.3375924671188657,
          -0.9934026325789047,
          0.7831313478859588,
          0.6071592818927777,
          -1.5272089990095563,
          0.5439162023233473,
          1.1433214013625341,
          0.02363890445662154,
          0.36324894281452563,
          1.418692838399726,
          0.0032313784208553983,
          0.7376422679377489,
          -1.3135443305713557,
          0.2591394467052669,
          1.8726021333712695,
          -0.02267342733907837,
          -0.7117968358970819,
          -1.3815439752350147,
          0.5474069882633411,
          -0.14082838399786934,
          1.295800241524183,
          0.16587449002004045,
          -0.13623801126290602,
          -0.2841987455277562,
          -0.02657306813411636,
          -0.044358228099686814,
          0.7603630152471096,
          0.9105796238764517,
          0.5547276955749623,
          -1.6920327034935343,
          1.8012772604158922,
          1.0957537495842795,
          0.5278414279740992,
          -0.2579914977579109,
          -0.28010895433133803,
          -1.299882900782398,
          0.33419777531472783,
          0.25097425183628885,
          0.00940578100952716,
          0.061957118758716886,
          0.6522371871228492,
          0.18668169152173955,
          -1.3704814477703093,
          1.223642880212177,
          0.835811547517684,
          -1.9416047189095023,
          1.0209035834040083,
          -1.3014432518302246,
          0.9541745862125112,
          -0.4272130687617453,
          -1.0222157852329774,
          -0.28183416434644315,
          -1.2570497039234507,
          0.04750719678875333,
          0.49176992055093344,
          -0.7113589983611227,
          1.7543260318333134,
          0.36914224227737086,
          0.7310662346175594,
          0.6176993277494718,
          2.571811090509869,
          0.3869519696142842,
          0.9717144678765081,
          -0.759355555685107,
          -1.3649911929203533,
          1.025587645804269,
          -1.419560991950135,
          -1.7157191586652238,
          2.398947322575383,
          -1.128045677752533,
          -1.6350856463229864,
          0.36488475451516117,
          -0.9049450091422594,
          0.7338903579787782,
          1.1938403568058797,
          1.0174692575408952
         ],
         "yaxis": "y4"
        },
        {
         "line": {
          "color": "rgba(128, 128, 128, 1.0)",
          "dash": "solid",
          "shape": "linear",
          "width": 1.3
         },
         "marker": {
          "size": 2,
          "symbol": "circle"
         },
         "mode": "markers",
         "name": "B",
         "text": "",
         "type": "scatter",
         "x": [
          1.0306531774627894,
          -1.2764594295792628,
          -2.007425835370658,
          1.1822103084826039,
          0.35608523117968155,
          0.27841238683736536,
          1.1751915700868945,
          -1.8123684253200218,
          0.15598217139030196,
          -0.5033310910133766,
          -0.5699399931599826,
          -0.07633533618674429,
          -2.004031638543584,
          -1.4131671302924367,
          1.5132620658210114,
          -0.09818026933141981,
          0.5931422343995467,
          1.0350325401095455,
          0.8736985428854916,
          0.1297605827241348,
          -0.40681515090843073,
          0.054384987360707994,
          -1.3777315482312165,
          -0.3297611876737317,
          2.3375924671188657,
          -0.9934026325789047,
          0.7831313478859588,
          0.6071592818927777,
          -1.5272089990095563,
          0.5439162023233473,
          1.1433214013625341,
          0.02363890445662154,
          0.36324894281452563,
          1.418692838399726,
          0.0032313784208553983,
          0.7376422679377489,
          -1.3135443305713557,
          0.2591394467052669,
          1.8726021333712695,
          -0.02267342733907837,
          -0.7117968358970819,
          -1.3815439752350147,
          0.5474069882633411,
          -0.14082838399786934,
          1.295800241524183,
          0.16587449002004045,
          -0.13623801126290602,
          -0.2841987455277562,
          -0.02657306813411636,
          -0.044358228099686814,
          0.7603630152471096,
          0.9105796238764517,
          0.5547276955749623,
          -1.6920327034935343,
          1.8012772604158922,
          1.0957537495842795,
          0.5278414279740992,
          -0.2579914977579109,
          -0.28010895433133803,
          -1.299882900782398,
          0.33419777531472783,
          0.25097425183628885,
          0.00940578100952716,
          0.061957118758716886,
          0.6522371871228492,
          0.18668169152173955,
          -1.3704814477703093,
          1.223642880212177,
          0.835811547517684,
          -1.9416047189095023,
          1.0209035834040083,
          -1.3014432518302246,
          0.9541745862125112,
          -0.4272130687617453,
          -1.0222157852329774,
          -0.28183416434644315,
          -1.2570497039234507,
          0.04750719678875333,
          0.49176992055093344,
          -0.7113589983611227,
          1.7543260318333134,
          0.36914224227737086,
          0.7310662346175594,
          0.6176993277494718,
          2.571811090509869,
          0.3869519696142842,
          0.9717144678765081,
          -0.759355555685107,
          -1.3649911929203533,
          1.025587645804269,
          -1.419560991950135,
          -1.7157191586652238,
          2.398947322575383,
          -1.128045677752533,
          -1.6350856463229864,
          0.36488475451516117,
          -0.9049450091422594,
          0.7338903579787782,
          1.1938403568058797,
          1.0174692575408952
         ],
         "xaxis": "x5",
         "y": [
          -1.879318434737494,
          -0.49376240639959207,
          0.6332852498752116,
          0.05982920481099076,
          -0.45033326574357047,
          0.4780838526561915,
          0.2308646707202015,
          -0.4854975839734933,
          -0.1584023785037026,
          -0.7569330364249099,
          -1.2515830552574734,
          0.1908343665062289,
          -0.27427096038126997,
          -0.16494411658574556,
          1.0458614581281858,
          -0.7058384235612785,
          -1.1008257454485377,
          -0.5171405398885567,
          0.7774689975975859,
          0.1161453633306047,
          -0.7254257020581931,
          0.9997282963094282,
          -1.2175391994439475,
          -0.4032619171768969,
          1.178911179247722,
          -0.912336057384369,
          0.8704923498223446,
          -0.1429929067278444,
          -0.8155297099700727,
          -0.15693239688487548,
          -0.6611259733304673,
          -0.24163226558705464,
          1.9177322073356615,
          -0.17925908171876542,
          0.5625651927892863,
          -0.019120331964386623,
          0.8116619297158044,
          0.3170414557506839,
          0.6343449023308668,
          0.03552622091638352,
          2.149271896386203,
          1.0917890491818028,
          2.10597794808911,
          1.5871791620513425,
          -0.15184848489601235,
          -1.0853796732401266,
          -0.7854456468295216,
          0.10771338015465624,
          0.23000625228123567,
          -0.3115716415815013,
          -0.23648843341717046,
          -0.1759851101684985,
          -0.2470280124499729,
          -0.6557463265401569,
          0.37126719990984497,
          0.9190553436547041,
          0.8414066517645015,
          0.4717402442989092,
          -0.8584748946180241,
          -0.6379745172590058,
          -0.03635803447437388,
          1.2448777768443768,
          -2.3066094376938517,
          -0.7662876287767219,
          -0.054724390833976795,
          -0.5248788430371149,
          0.5926454521392258,
          -0.05721717949569917,
          -1.3801070410731737,
          0.0602725127541095,
          1.21849498916648,
          1.4372290980889477,
          2.543998541586174,
          -1.359347935580105,
          0.7812931470112162,
          0.3111546480607504,
          1.4181147334897954,
          -1.074304103543346,
          0.11768263512512897,
          0.70590446887133,
          -0.08115145651149062,
          0.2816969042936072,
          -0.12729256715473372,
          -0.9235802995434116,
          0.6978291184446651,
          -0.14023362537906392,
          -0.531481976759396,
          -0.18064291032587737,
          -1.3961469533564512,
          0.45294460213610915,
          -0.5523359480249287,
          -1.2284865503087057,
          -0.9839184126739572,
          -0.3422293725130915,
          0.43163349889880115,
          -0.12968252751998702,
          -2.2310079681006187,
          0.9679175488616665,
          -1.1124360640115944,
          0.06462241949051942
         ],
         "yaxis": "y5"
        },
        {
         "histfunc": "count",
         "histnorm": "",
         "marker": {
          "color": "rgba(55, 128, 191, 1.0)",
          "line": {
           "color": "#4D5663",
           "width": 1.3
          }
         },
         "name": "B",
         "nbinsx": 10,
         "opacity": 0.8,
         "orientation": "v",
         "type": "histogram",
         "x": [
          -1.879318434737494,
          -0.49376240639959207,
          0.6332852498752116,
          0.05982920481099076,
          -0.45033326574357047,
          0.4780838526561915,
          0.2308646707202015,
          -0.4854975839734933,
          -0.1584023785037026,
          -0.7569330364249099,
          -1.2515830552574734,
          0.1908343665062289,
          -0.27427096038126997,
          -0.16494411658574556,
          1.0458614581281858,
          -0.7058384235612785,
          -1.1008257454485377,
          -0.5171405398885567,
          0.7774689975975859,
          0.1161453633306047,
          -0.7254257020581931,
          0.9997282963094282,
          -1.2175391994439475,
          -0.4032619171768969,
          1.178911179247722,
          -0.912336057384369,
          0.8704923498223446,
          -0.1429929067278444,
          -0.8155297099700727,
          -0.15693239688487548,
          -0.6611259733304673,
          -0.24163226558705464,
          1.9177322073356615,
          -0.17925908171876542,
          0.5625651927892863,
          -0.019120331964386623,
          0.8116619297158044,
          0.3170414557506839,
          0.6343449023308668,
          0.03552622091638352,
          2.149271896386203,
          1.0917890491818028,
          2.10597794808911,
          1.5871791620513425,
          -0.15184848489601235,
          -1.0853796732401266,
          -0.7854456468295216,
          0.10771338015465624,
          0.23000625228123567,
          -0.3115716415815013,
          -0.23648843341717046,
          -0.1759851101684985,
          -0.2470280124499729,
          -0.6557463265401569,
          0.37126719990984497,
          0.9190553436547041,
          0.8414066517645015,
          0.4717402442989092,
          -0.8584748946180241,
          -0.6379745172590058,
          -0.03635803447437388,
          1.2448777768443768,
          -2.3066094376938517,
          -0.7662876287767219,
          -0.054724390833976795,
          -0.5248788430371149,
          0.5926454521392258,
          -0.05721717949569917,
          -1.3801070410731737,
          0.0602725127541095,
          1.21849498916648,
          1.4372290980889477,
          2.543998541586174,
          -1.359347935580105,
          0.7812931470112162,
          0.3111546480607504,
          1.4181147334897954,
          -1.074304103543346,
          0.11768263512512897,
          0.70590446887133,
          -0.08115145651149062,
          0.2816969042936072,
          -0.12729256715473372,
          -0.9235802995434116,
          0.6978291184446651,
          -0.14023362537906392,
          -0.531481976759396,
          -0.18064291032587737,
          -1.3961469533564512,
          0.45294460213610915,
          -0.5523359480249287,
          -1.2284865503087057,
          -0.9839184126739572,
          -0.3422293725130915,
          0.43163349889880115,
          -0.12968252751998702,
          -2.2310079681006187,
          0.9679175488616665,
          -1.1124360640115944,
          0.06462241949051942
         ],
         "xaxis": "x6",
         "yaxis": "y6"
        },
        {
         "line": {
          "color": "rgba(128, 128, 128, 1.0)",
          "dash": "solid",
          "shape": "linear",
          "width": 1.3
         },
         "marker": {
          "size": 2,
          "symbol": "circle"
         },
         "mode": "markers",
         "name": "B",
         "text": "",
         "type": "scatter",
         "x": [
          1.027856233050692,
          1.218819691332298,
          -0.6248077065383141,
          -1.7030401553248025,
          0.8386821474155278,
          -0.7369511885466679,
          -0.760607064596806,
          -0.4701506396148254,
          -0.9752420363858689,
          0.8714048788788313,
          -0.9324804226514437,
          -0.9175968509413431,
          -0.5773282460012145,
          0.18341379991532988,
          0.3889270458433841,
          -0.2404561868704745,
          0.45387528527495025,
          -0.22925368050107353,
          -2.5268756699629487,
          0.847835290200292,
          1.282651941279439,
          0.1582720716623581,
          -0.6646327894405282,
          -0.5176572199861884,
          1.0090458628415175,
          0.033533200611497914,
          1.235587473926201,
          -0.42284973101152,
          1.7309242033880412,
          1.8629567466633654,
          -0.4342693029001846,
          0.8969751585984688,
          0.4273969419568774,
          0.38954762179369073,
          -0.28964772445485343,
          -0.18574876019033443,
          0.3053874338565279,
          0.1160607212223022,
          0.09290359518164934,
          0.4456257500733233,
          0.5073454733400935,
          -0.10409173547276958,
          0.19994197169320588,
          0.6062470992125325,
          -0.2501115505904788,
          -0.7754916765103502,
          1.4559996482254274,
          0.10622651148123047,
          -0.4015722280994274,
          0.36025145222355176,
          -1.0158201424118873,
          -2.169360113128646,
          0.2529741152328386,
          -1.376861301201083,
          1.523231099274402,
          2.3822354146688656,
          0.2930224645185498,
          2.303507375127805,
          -0.04228808594209028,
          -0.623201287384853,
          0.803230605712943,
          -0.19452087068898913,
          -0.4872792386665017,
          0.9159820815745716,
          0.19455868407192214,
          0.5814269806279551,
          0.46371284988433487,
          -0.9220229205650781,
          -1.920532692575124,
          0.19504925951967894,
          -0.28553625410706895,
          2.02424262047401,
          -1.7058694089203703,
          2.15017653224913,
          -0.3211055458145115,
          0.04663664852731371,
          0.3390912455544397,
          0.21421891171161125,
          -0.23691769829522893,
          -0.19077261494802297,
          -1.4442113849385552,
          1.7043919134923207,
          1.2921578890461014,
          -0.41586822575754884,
          0.5020004880514272,
          -0.24677263882673525,
          -1.1313056002899673,
          1.0228252243043117,
          0.22909728148178907,
          -0.31285277613487456,
          0.8065523774367869,
          2.764834558394798,
          2.5280141810595516,
          -1.3157187232280814,
          -0.36095321329218744,
          2.1563452971412818,
          0.47781715500845473,
          0.7433030165273915,
          0.9691548952136163,
          0.3356041583454173
         ],
         "xaxis": "x7",
         "y": [
          -1.879318434737494,
          -0.49376240639959207,
          0.6332852498752116,
          0.05982920481099076,
          -0.45033326574357047,
          0.4780838526561915,
          0.2308646707202015,
          -0.4854975839734933,
          -0.1584023785037026,
          -0.7569330364249099,
          -1.2515830552574734,
          0.1908343665062289,
          -0.27427096038126997,
          -0.16494411658574556,
          1.0458614581281858,
          -0.7058384235612785,
          -1.1008257454485377,
          -0.5171405398885567,
          0.7774689975975859,
          0.1161453633306047,
          -0.7254257020581931,
          0.9997282963094282,
          -1.2175391994439475,
          -0.4032619171768969,
          1.178911179247722,
          -0.912336057384369,
          0.8704923498223446,
          -0.1429929067278444,
          -0.8155297099700727,
          -0.15693239688487548,
          -0.6611259733304673,
          -0.24163226558705464,
          1.9177322073356615,
          -0.17925908171876542,
          0.5625651927892863,
          -0.019120331964386623,
          0.8116619297158044,
          0.3170414557506839,
          0.6343449023308668,
          0.03552622091638352,
          2.149271896386203,
          1.0917890491818028,
          2.10597794808911,
          1.5871791620513425,
          -0.15184848489601235,
          -1.0853796732401266,
          -0.7854456468295216,
          0.10771338015465624,
          0.23000625228123567,
          -0.3115716415815013,
          -0.23648843341717046,
          -0.1759851101684985,
          -0.2470280124499729,
          -0.6557463265401569,
          0.37126719990984497,
          0.9190553436547041,
          0.8414066517645015,
          0.4717402442989092,
          -0.8584748946180241,
          -0.6379745172590058,
          -0.03635803447437388,
          1.2448777768443768,
          -2.3066094376938517,
          -0.7662876287767219,
          -0.054724390833976795,
          -0.5248788430371149,
          0.5926454521392258,
          -0.05721717949569917,
          -1.3801070410731737,
          0.0602725127541095,
          1.21849498916648,
          1.4372290980889477,
          2.543998541586174,
          -1.359347935580105,
          0.7812931470112162,
          0.3111546480607504,
          1.4181147334897954,
          -1.074304103543346,
          0.11768263512512897,
          0.70590446887133,
          -0.08115145651149062,
          0.2816969042936072,
          -0.12729256715473372,
          -0.9235802995434116,
          0.6978291184446651,
          -0.14023362537906392,
          -0.531481976759396,
          -0.18064291032587737,
          -1.3961469533564512,
          0.45294460213610915,
          -0.5523359480249287,
          -1.2284865503087057,
          -0.9839184126739572,
          -0.3422293725130915,
          0.43163349889880115,
          -0.12968252751998702,
          -2.2310079681006187,
          0.9679175488616665,
          -1.1124360640115944,
          0.06462241949051942
         ],
         "yaxis": "y7"
        },
        {
         "line": {
          "color": "rgba(128, 128, 128, 1.0)",
          "dash": "solid",
          "shape": "linear",
          "width": 1.3
         },
         "marker": {
          "size": 2,
          "symbol": "circle"
         },
         "mode": "markers",
         "name": "B",
         "text": "",
         "type": "scatter",
         "x": [
          -0.2548647289377369,
          0.11991083560609044,
          -0.027370511556095847,
          -1.7174128968207305,
          1.6014785885643945,
          0.42264485714417827,
          0.8715801933462936,
          0.44983548332217,
          1.2462303551447877,
          -1.0140229129473624,
          -0.252475622333703,
          0.7080988324831506,
          0.8228019416718878,
          -1.0045478552813947,
          0.2072548084506301,
          -0.29913829858796315,
          -0.03276382842884846,
          -0.13929077045059887,
          -0.6522861959715183,
          -0.3592447282720758,
          1.4344607526326083,
          -1.720646867383011,
          -0.547978572575142,
          -0.7484230729429161,
          0.41267110770184945,
          0.16436180137627124,
          0.17954912369447668,
          0.7292926737251676,
          0.06396691962014875,
          1.2810709654663168,
          -1.8200534050596084,
          -1.302036013698075,
          -0.43926733896447034,
          1.1877455332772344,
          0.15553191104842912,
          -2.0950660332609505,
          1.4076178031342554,
          -0.4593918386360639,
          -2.0667302336893316,
          -0.2612965085583921,
          -0.22090392480296983,
          0.18305151335149294,
          1.3926286274046134,
          1.1816856055752736,
          1.1999409011816575,
          -0.43386007103477353,
          -0.11551081577622681,
          -0.18233679591054483,
          1.9300794996362982,
          0.8010975462042897,
          0.04494910972956476,
          -0.207038023543942,
          -0.6972872700389012,
          -0.5940702673030951,
          0.6890166774265801,
          -0.3998720623215428,
          -0.10186489092408647,
          1.0027172900847539,
          -0.5954361707244198,
          0.04460773581185214,
          1.256368426387719,
          -0.5154142888940284,
          1.1857113392746585,
          -2.4509670993508643,
          0.9373546537978297,
          0.5984696230358664,
          0.27626465858337,
          -2.7665607509274386,
          1.6223898700606318,
          0.24423475272936285,
          -1.8266112904577037,
          -0.7138266481612217,
          1.0014417883675846,
          1.1341617529648378,
          0.3180808897615708,
          0.5378767026560349,
          -0.859297967546852,
          0.6747795131843112,
          1.7037331635993773,
          0.9489888039410239,
          0.31216455323091397,
          -1.3042911982909864,
          0.8269244602790404,
          1.3131589102817827,
          1.5488966104292863,
          0.7881848283970893,
          -0.8910582719771708,
          0.6770044385568382,
          -2.0340667807149764,
          0.7001160828398248,
          1.3261385488710393,
          -0.010833375248821029,
          -0.559291609474772,
          -1.3364470053901067,
          -1.6486901546375117,
          -0.17071337030065223,
          -0.03064229116044874,
          1.9445332338356134,
          -0.22938897043058815,
          -1.213006780356858
         ],
         "xaxis": "x8",
         "y": [
          -1.879318434737494,
          -0.49376240639959207,
          0.6332852498752116,
          0.05982920481099076,
          -0.45033326574357047,
          0.4780838526561915,
          0.2308646707202015,
          -0.4854975839734933,
          -0.1584023785037026,
          -0.7569330364249099,
          -1.2515830552574734,
          0.1908343665062289,
          -0.27427096038126997,
          -0.16494411658574556,
          1.0458614581281858,
          -0.7058384235612785,
          -1.1008257454485377,
          -0.5171405398885567,
          0.7774689975975859,
          0.1161453633306047,
          -0.7254257020581931,
          0.9997282963094282,
          -1.2175391994439475,
          -0.4032619171768969,
          1.178911179247722,
          -0.912336057384369,
          0.8704923498223446,
          -0.1429929067278444,
          -0.8155297099700727,
          -0.15693239688487548,
          -0.6611259733304673,
          -0.24163226558705464,
          1.9177322073356615,
          -0.17925908171876542,
          0.5625651927892863,
          -0.019120331964386623,
          0.8116619297158044,
          0.3170414557506839,
          0.6343449023308668,
          0.03552622091638352,
          2.149271896386203,
          1.0917890491818028,
          2.10597794808911,
          1.5871791620513425,
          -0.15184848489601235,
          -1.0853796732401266,
          -0.7854456468295216,
          0.10771338015465624,
          0.23000625228123567,
          -0.3115716415815013,
          -0.23648843341717046,
          -0.1759851101684985,
          -0.2470280124499729,
          -0.6557463265401569,
          0.37126719990984497,
          0.9190553436547041,
          0.8414066517645015,
          0.4717402442989092,
          -0.8584748946180241,
          -0.6379745172590058,
          -0.03635803447437388,
          1.2448777768443768,
          -2.3066094376938517,
          -0.7662876287767219,
          -0.054724390833976795,
          -0.5248788430371149,
          0.5926454521392258,
          -0.05721717949569917,
          -1.3801070410731737,
          0.0602725127541095,
          1.21849498916648,
          1.4372290980889477,
          2.543998541586174,
          -1.359347935580105,
          0.7812931470112162,
          0.3111546480607504,
          1.4181147334897954,
          -1.074304103543346,
          0.11768263512512897,
          0.70590446887133,
          -0.08115145651149062,
          0.2816969042936072,
          -0.12729256715473372,
          -0.9235802995434116,
          0.6978291184446651,
          -0.14023362537906392,
          -0.531481976759396,
          -0.18064291032587737,
          -1.3961469533564512,
          0.45294460213610915,
          -0.5523359480249287,
          -1.2284865503087057,
          -0.9839184126739572,
          -0.3422293725130915,
          0.43163349889880115,
          -0.12968252751998702,
          -2.2310079681006187,
          0.9679175488616665,
          -1.1124360640115944,
          0.06462241949051942
         ],
         "yaxis": "y8"
        },
        {
         "line": {
          "color": "rgba(128, 128, 128, 1.0)",
          "dash": "solid",
          "shape": "linear",
          "width": 1.3
         },
         "marker": {
          "size": 2,
          "symbol": "circle"
         },
         "mode": "markers",
         "name": "C",
         "text": "",
         "type": "scatter",
         "x": [
          1.0306531774627894,
          -1.2764594295792628,
          -2.007425835370658,
          1.1822103084826039,
          0.35608523117968155,
          0.27841238683736536,
          1.1751915700868945,
          -1.8123684253200218,
          0.15598217139030196,
          -0.5033310910133766,
          -0.5699399931599826,
          -0.07633533618674429,
          -2.004031638543584,
          -1.4131671302924367,
          1.5132620658210114,
          -0.09818026933141981,
          0.5931422343995467,
          1.0350325401095455,
          0.8736985428854916,
          0.1297605827241348,
          -0.40681515090843073,
          0.054384987360707994,
          -1.3777315482312165,
          -0.3297611876737317,
          2.3375924671188657,
          -0.9934026325789047,
          0.7831313478859588,
          0.6071592818927777,
          -1.5272089990095563,
          0.5439162023233473,
          1.1433214013625341,
          0.02363890445662154,
          0.36324894281452563,
          1.418692838399726,
          0.0032313784208553983,
          0.7376422679377489,
          -1.3135443305713557,
          0.2591394467052669,
          1.8726021333712695,
          -0.02267342733907837,
          -0.7117968358970819,
          -1.3815439752350147,
          0.5474069882633411,
          -0.14082838399786934,
          1.295800241524183,
          0.16587449002004045,
          -0.13623801126290602,
          -0.2841987455277562,
          -0.02657306813411636,
          -0.044358228099686814,
          0.7603630152471096,
          0.9105796238764517,
          0.5547276955749623,
          -1.6920327034935343,
          1.8012772604158922,
          1.0957537495842795,
          0.5278414279740992,
          -0.2579914977579109,
          -0.28010895433133803,
          -1.299882900782398,
          0.33419777531472783,
          0.25097425183628885,
          0.00940578100952716,
          0.061957118758716886,
          0.6522371871228492,
          0.18668169152173955,
          -1.3704814477703093,
          1.223642880212177,
          0.835811547517684,
          -1.9416047189095023,
          1.0209035834040083,
          -1.3014432518302246,
          0.9541745862125112,
          -0.4272130687617453,
          -1.0222157852329774,
          -0.28183416434644315,
          -1.2570497039234507,
          0.04750719678875333,
          0.49176992055093344,
          -0.7113589983611227,
          1.7543260318333134,
          0.36914224227737086,
          0.7310662346175594,
          0.6176993277494718,
          2.571811090509869,
          0.3869519696142842,
          0.9717144678765081,
          -0.759355555685107,
          -1.3649911929203533,
          1.025587645804269,
          -1.419560991950135,
          -1.7157191586652238,
          2.398947322575383,
          -1.128045677752533,
          -1.6350856463229864,
          0.36488475451516117,
          -0.9049450091422594,
          0.7338903579787782,
          1.1938403568058797,
          1.0174692575408952
         ],
         "xaxis": "x9",
         "y": [
          1.027856233050692,
          1.218819691332298,
          -0.6248077065383141,
          -1.7030401553248025,
          0.8386821474155278,
          -0.7369511885466679,
          -0.760607064596806,
          -0.4701506396148254,
          -0.9752420363858689,
          0.8714048788788313,
          -0.9324804226514437,
          -0.9175968509413431,
          -0.5773282460012145,
          0.18341379991532988,
          0.3889270458433841,
          -0.2404561868704745,
          0.45387528527495025,
          -0.22925368050107353,
          -2.5268756699629487,
          0.847835290200292,
          1.282651941279439,
          0.1582720716623581,
          -0.6646327894405282,
          -0.5176572199861884,
          1.0090458628415175,
          0.033533200611497914,
          1.235587473926201,
          -0.42284973101152,
          1.7309242033880412,
          1.8629567466633654,
          -0.4342693029001846,
          0.8969751585984688,
          0.4273969419568774,
          0.38954762179369073,
          -0.28964772445485343,
          -0.18574876019033443,
          0.3053874338565279,
          0.1160607212223022,
          0.09290359518164934,
          0.4456257500733233,
          0.5073454733400935,
          -0.10409173547276958,
          0.19994197169320588,
          0.6062470992125325,
          -0.2501115505904788,
          -0.7754916765103502,
          1.4559996482254274,
          0.10622651148123047,
          -0.4015722280994274,
          0.36025145222355176,
          -1.0158201424118873,
          -2.169360113128646,
          0.2529741152328386,
          -1.376861301201083,
          1.523231099274402,
          2.3822354146688656,
          0.2930224645185498,
          2.303507375127805,
          -0.04228808594209028,
          -0.623201287384853,
          0.803230605712943,
          -0.19452087068898913,
          -0.4872792386665017,
          0.9159820815745716,
          0.19455868407192214,
          0.5814269806279551,
          0.46371284988433487,
          -0.9220229205650781,
          -1.920532692575124,
          0.19504925951967894,
          -0.28553625410706895,
          2.02424262047401,
          -1.7058694089203703,
          2.15017653224913,
          -0.3211055458145115,
          0.04663664852731371,
          0.3390912455544397,
          0.21421891171161125,
          -0.23691769829522893,
          -0.19077261494802297,
          -1.4442113849385552,
          1.7043919134923207,
          1.2921578890461014,
          -0.41586822575754884,
          0.5020004880514272,
          -0.24677263882673525,
          -1.1313056002899673,
          1.0228252243043117,
          0.22909728148178907,
          -0.31285277613487456,
          0.8065523774367869,
          2.764834558394798,
          2.5280141810595516,
          -1.3157187232280814,
          -0.36095321329218744,
          2.1563452971412818,
          0.47781715500845473,
          0.7433030165273915,
          0.9691548952136163,
          0.3356041583454173
         ],
         "yaxis": "y9"
        },
        {
         "line": {
          "color": "rgba(128, 128, 128, 1.0)",
          "dash": "solid",
          "shape": "linear",
          "width": 1.3
         },
         "marker": {
          "size": 2,
          "symbol": "circle"
         },
         "mode": "markers",
         "name": "C",
         "text": "",
         "type": "scatter",
         "x": [
          -1.879318434737494,
          -0.49376240639959207,
          0.6332852498752116,
          0.05982920481099076,
          -0.45033326574357047,
          0.4780838526561915,
          0.2308646707202015,
          -0.4854975839734933,
          -0.1584023785037026,
          -0.7569330364249099,
          -1.2515830552574734,
          0.1908343665062289,
          -0.27427096038126997,
          -0.16494411658574556,
          1.0458614581281858,
          -0.7058384235612785,
          -1.1008257454485377,
          -0.5171405398885567,
          0.7774689975975859,
          0.1161453633306047,
          -0.7254257020581931,
          0.9997282963094282,
          -1.2175391994439475,
          -0.4032619171768969,
          1.178911179247722,
          -0.912336057384369,
          0.8704923498223446,
          -0.1429929067278444,
          -0.8155297099700727,
          -0.15693239688487548,
          -0.6611259733304673,
          -0.24163226558705464,
          1.9177322073356615,
          -0.17925908171876542,
          0.5625651927892863,
          -0.019120331964386623,
          0.8116619297158044,
          0.3170414557506839,
          0.6343449023308668,
          0.03552622091638352,
          2.149271896386203,
          1.0917890491818028,
          2.10597794808911,
          1.5871791620513425,
          -0.15184848489601235,
          -1.0853796732401266,
          -0.7854456468295216,
          0.10771338015465624,
          0.23000625228123567,
          -0.3115716415815013,
          -0.23648843341717046,
          -0.1759851101684985,
          -0.2470280124499729,
          -0.6557463265401569,
          0.37126719990984497,
          0.9190553436547041,
          0.8414066517645015,
          0.4717402442989092,
          -0.8584748946180241,
          -0.6379745172590058,
          -0.03635803447437388,
          1.2448777768443768,
          -2.3066094376938517,
          -0.7662876287767219,
          -0.054724390833976795,
          -0.5248788430371149,
          0.5926454521392258,
          -0.05721717949569917,
          -1.3801070410731737,
          0.0602725127541095,
          1.21849498916648,
          1.4372290980889477,
          2.543998541586174,
          -1.359347935580105,
          0.7812931470112162,
          0.3111546480607504,
          1.4181147334897954,
          -1.074304103543346,
          0.11768263512512897,
          0.70590446887133,
          -0.08115145651149062,
          0.2816969042936072,
          -0.12729256715473372,
          -0.9235802995434116,
          0.6978291184446651,
          -0.14023362537906392,
          -0.531481976759396,
          -0.18064291032587737,
          -1.3961469533564512,
          0.45294460213610915,
          -0.5523359480249287,
          -1.2284865503087057,
          -0.9839184126739572,
          -0.3422293725130915,
          0.43163349889880115,
          -0.12968252751998702,
          -2.2310079681006187,
          0.9679175488616665,
          -1.1124360640115944,
          0.06462241949051942
         ],
         "xaxis": "x10",
         "y": [
          1.027856233050692,
          1.218819691332298,
          -0.6248077065383141,
          -1.7030401553248025,
          0.8386821474155278,
          -0.7369511885466679,
          -0.760607064596806,
          -0.4701506396148254,
          -0.9752420363858689,
          0.8714048788788313,
          -0.9324804226514437,
          -0.9175968509413431,
          -0.5773282460012145,
          0.18341379991532988,
          0.3889270458433841,
          -0.2404561868704745,
          0.45387528527495025,
          -0.22925368050107353,
          -2.5268756699629487,
          0.847835290200292,
          1.282651941279439,
          0.1582720716623581,
          -0.6646327894405282,
          -0.5176572199861884,
          1.0090458628415175,
          0.033533200611497914,
          1.235587473926201,
          -0.42284973101152,
          1.7309242033880412,
          1.8629567466633654,
          -0.4342693029001846,
          0.8969751585984688,
          0.4273969419568774,
          0.38954762179369073,
          -0.28964772445485343,
          -0.18574876019033443,
          0.3053874338565279,
          0.1160607212223022,
          0.09290359518164934,
          0.4456257500733233,
          0.5073454733400935,
          -0.10409173547276958,
          0.19994197169320588,
          0.6062470992125325,
          -0.2501115505904788,
          -0.7754916765103502,
          1.4559996482254274,
          0.10622651148123047,
          -0.4015722280994274,
          0.36025145222355176,
          -1.0158201424118873,
          -2.169360113128646,
          0.2529741152328386,
          -1.376861301201083,
          1.523231099274402,
          2.3822354146688656,
          0.2930224645185498,
          2.303507375127805,
          -0.04228808594209028,
          -0.623201287384853,
          0.803230605712943,
          -0.19452087068898913,
          -0.4872792386665017,
          0.9159820815745716,
          0.19455868407192214,
          0.5814269806279551,
          0.46371284988433487,
          -0.9220229205650781,
          -1.920532692575124,
          0.19504925951967894,
          -0.28553625410706895,
          2.02424262047401,
          -1.7058694089203703,
          2.15017653224913,
          -0.3211055458145115,
          0.04663664852731371,
          0.3390912455544397,
          0.21421891171161125,
          -0.23691769829522893,
          -0.19077261494802297,
          -1.4442113849385552,
          1.7043919134923207,
          1.2921578890461014,
          -0.41586822575754884,
          0.5020004880514272,
          -0.24677263882673525,
          -1.1313056002899673,
          1.0228252243043117,
          0.22909728148178907,
          -0.31285277613487456,
          0.8065523774367869,
          2.764834558394798,
          2.5280141810595516,
          -1.3157187232280814,
          -0.36095321329218744,
          2.1563452971412818,
          0.47781715500845473,
          0.7433030165273915,
          0.9691548952136163,
          0.3356041583454173
         ],
         "yaxis": "y10"
        },
        {
         "histfunc": "count",
         "histnorm": "",
         "marker": {
          "color": "rgba(50, 171, 96, 1.0)",
          "line": {
           "color": "#4D5663",
           "width": 1.3
          }
         },
         "name": "C",
         "nbinsx": 10,
         "opacity": 0.8,
         "orientation": "v",
         "type": "histogram",
         "x": [
          1.027856233050692,
          1.218819691332298,
          -0.6248077065383141,
          -1.7030401553248025,
          0.8386821474155278,
          -0.7369511885466679,
          -0.760607064596806,
          -0.4701506396148254,
          -0.9752420363858689,
          0.8714048788788313,
          -0.9324804226514437,
          -0.9175968509413431,
          -0.5773282460012145,
          0.18341379991532988,
          0.3889270458433841,
          -0.2404561868704745,
          0.45387528527495025,
          -0.22925368050107353,
          -2.5268756699629487,
          0.847835290200292,
          1.282651941279439,
          0.1582720716623581,
          -0.6646327894405282,
          -0.5176572199861884,
          1.0090458628415175,
          0.033533200611497914,
          1.235587473926201,
          -0.42284973101152,
          1.7309242033880412,
          1.8629567466633654,
          -0.4342693029001846,
          0.8969751585984688,
          0.4273969419568774,
          0.38954762179369073,
          -0.28964772445485343,
          -0.18574876019033443,
          0.3053874338565279,
          0.1160607212223022,
          0.09290359518164934,
          0.4456257500733233,
          0.5073454733400935,
          -0.10409173547276958,
          0.19994197169320588,
          0.6062470992125325,
          -0.2501115505904788,
          -0.7754916765103502,
          1.4559996482254274,
          0.10622651148123047,
          -0.4015722280994274,
          0.36025145222355176,
          -1.0158201424118873,
          -2.169360113128646,
          0.2529741152328386,
          -1.376861301201083,
          1.523231099274402,
          2.3822354146688656,
          0.2930224645185498,
          2.303507375127805,
          -0.04228808594209028,
          -0.623201287384853,
          0.803230605712943,
          -0.19452087068898913,
          -0.4872792386665017,
          0.9159820815745716,
          0.19455868407192214,
          0.5814269806279551,
          0.46371284988433487,
          -0.9220229205650781,
          -1.920532692575124,
          0.19504925951967894,
          -0.28553625410706895,
          2.02424262047401,
          -1.7058694089203703,
          2.15017653224913,
          -0.3211055458145115,
          0.04663664852731371,
          0.3390912455544397,
          0.21421891171161125,
          -0.23691769829522893,
          -0.19077261494802297,
          -1.4442113849385552,
          1.7043919134923207,
          1.2921578890461014,
          -0.41586822575754884,
          0.5020004880514272,
          -0.24677263882673525,
          -1.1313056002899673,
          1.0228252243043117,
          0.22909728148178907,
          -0.31285277613487456,
          0.8065523774367869,
          2.764834558394798,
          2.5280141810595516,
          -1.3157187232280814,
          -0.36095321329218744,
          2.1563452971412818,
          0.47781715500845473,
          0.7433030165273915,
          0.9691548952136163,
          0.3356041583454173
         ],
         "xaxis": "x11",
         "yaxis": "y11"
        },
        {
         "line": {
          "color": "rgba(128, 128, 128, 1.0)",
          "dash": "solid",
          "shape": "linear",
          "width": 1.3
         },
         "marker": {
          "size": 2,
          "symbol": "circle"
         },
         "mode": "markers",
         "name": "C",
         "text": "",
         "type": "scatter",
         "x": [
          -0.2548647289377369,
          0.11991083560609044,
          -0.027370511556095847,
          -1.7174128968207305,
          1.6014785885643945,
          0.42264485714417827,
          0.8715801933462936,
          0.44983548332217,
          1.2462303551447877,
          -1.0140229129473624,
          -0.252475622333703,
          0.7080988324831506,
          0.8228019416718878,
          -1.0045478552813947,
          0.2072548084506301,
          -0.29913829858796315,
          -0.03276382842884846,
          -0.13929077045059887,
          -0.6522861959715183,
          -0.3592447282720758,
          1.4344607526326083,
          -1.720646867383011,
          -0.547978572575142,
          -0.7484230729429161,
          0.41267110770184945,
          0.16436180137627124,
          0.17954912369447668,
          0.7292926737251676,
          0.06396691962014875,
          1.2810709654663168,
          -1.8200534050596084,
          -1.302036013698075,
          -0.43926733896447034,
          1.1877455332772344,
          0.15553191104842912,
          -2.0950660332609505,
          1.4076178031342554,
          -0.4593918386360639,
          -2.0667302336893316,
          -0.2612965085583921,
          -0.22090392480296983,
          0.18305151335149294,
          1.3926286274046134,
          1.1816856055752736,
          1.1999409011816575,
          -0.43386007103477353,
          -0.11551081577622681,
          -0.18233679591054483,
          1.9300794996362982,
          0.8010975462042897,
          0.04494910972956476,
          -0.207038023543942,
          -0.6972872700389012,
          -0.5940702673030951,
          0.6890166774265801,
          -0.3998720623215428,
          -0.10186489092408647,
          1.0027172900847539,
          -0.5954361707244198,
          0.04460773581185214,
          1.256368426387719,
          -0.5154142888940284,
          1.1857113392746585,
          -2.4509670993508643,
          0.9373546537978297,
          0.5984696230358664,
          0.27626465858337,
          -2.7665607509274386,
          1.6223898700606318,
          0.24423475272936285,
          -1.8266112904577037,
          -0.7138266481612217,
          1.0014417883675846,
          1.1341617529648378,
          0.3180808897615708,
          0.5378767026560349,
          -0.859297967546852,
          0.6747795131843112,
          1.7037331635993773,
          0.9489888039410239,
          0.31216455323091397,
          -1.3042911982909864,
          0.8269244602790404,
          1.3131589102817827,
          1.5488966104292863,
          0.7881848283970893,
          -0.8910582719771708,
          0.6770044385568382,
          -2.0340667807149764,
          0.7001160828398248,
          1.3261385488710393,
          -0.010833375248821029,
          -0.559291609474772,
          -1.3364470053901067,
          -1.6486901546375117,
          -0.17071337030065223,
          -0.03064229116044874,
          1.9445332338356134,
          -0.22938897043058815,
          -1.213006780356858
         ],
         "xaxis": "x12",
         "y": [
          1.027856233050692,
          1.218819691332298,
          -0.6248077065383141,
          -1.7030401553248025,
          0.8386821474155278,
          -0.7369511885466679,
          -0.760607064596806,
          -0.4701506396148254,
          -0.9752420363858689,
          0.8714048788788313,
          -0.9324804226514437,
          -0.9175968509413431,
          -0.5773282460012145,
          0.18341379991532988,
          0.3889270458433841,
          -0.2404561868704745,
          0.45387528527495025,
          -0.22925368050107353,
          -2.5268756699629487,
          0.847835290200292,
          1.282651941279439,
          0.1582720716623581,
          -0.6646327894405282,
          -0.5176572199861884,
          1.0090458628415175,
          0.033533200611497914,
          1.235587473926201,
          -0.42284973101152,
          1.7309242033880412,
          1.8629567466633654,
          -0.4342693029001846,
          0.8969751585984688,
          0.4273969419568774,
          0.38954762179369073,
          -0.28964772445485343,
          -0.18574876019033443,
          0.3053874338565279,
          0.1160607212223022,
          0.09290359518164934,
          0.4456257500733233,
          0.5073454733400935,
          -0.10409173547276958,
          0.19994197169320588,
          0.6062470992125325,
          -0.2501115505904788,
          -0.7754916765103502,
          1.4559996482254274,
          0.10622651148123047,
          -0.4015722280994274,
          0.36025145222355176,
          -1.0158201424118873,
          -2.169360113128646,
          0.2529741152328386,
          -1.376861301201083,
          1.523231099274402,
          2.3822354146688656,
          0.2930224645185498,
          2.303507375127805,
          -0.04228808594209028,
          -0.623201287384853,
          0.803230605712943,
          -0.19452087068898913,
          -0.4872792386665017,
          0.9159820815745716,
          0.19455868407192214,
          0.5814269806279551,
          0.46371284988433487,
          -0.9220229205650781,
          -1.920532692575124,
          0.19504925951967894,
          -0.28553625410706895,
          2.02424262047401,
          -1.7058694089203703,
          2.15017653224913,
          -0.3211055458145115,
          0.04663664852731371,
          0.3390912455544397,
          0.21421891171161125,
          -0.23691769829522893,
          -0.19077261494802297,
          -1.4442113849385552,
          1.7043919134923207,
          1.2921578890461014,
          -0.41586822575754884,
          0.5020004880514272,
          -0.24677263882673525,
          -1.1313056002899673,
          1.0228252243043117,
          0.22909728148178907,
          -0.31285277613487456,
          0.8065523774367869,
          2.764834558394798,
          2.5280141810595516,
          -1.3157187232280814,
          -0.36095321329218744,
          2.1563452971412818,
          0.47781715500845473,
          0.7433030165273915,
          0.9691548952136163,
          0.3356041583454173
         ],
         "yaxis": "y12"
        },
        {
         "line": {
          "color": "rgba(128, 128, 128, 1.0)",
          "dash": "solid",
          "shape": "linear",
          "width": 1.3
         },
         "marker": {
          "size": 2,
          "symbol": "circle"
         },
         "mode": "markers",
         "name": "D",
         "text": "",
         "type": "scatter",
         "x": [
          1.0306531774627894,
          -1.2764594295792628,
          -2.007425835370658,
          1.1822103084826039,
          0.35608523117968155,
          0.27841238683736536,
          1.1751915700868945,
          -1.8123684253200218,
          0.15598217139030196,
          -0.5033310910133766,
          -0.5699399931599826,
          -0.07633533618674429,
          -2.004031638543584,
          -1.4131671302924367,
          1.5132620658210114,
          -0.09818026933141981,
          0.5931422343995467,
          1.0350325401095455,
          0.8736985428854916,
          0.1297605827241348,
          -0.40681515090843073,
          0.054384987360707994,
          -1.3777315482312165,
          -0.3297611876737317,
          2.3375924671188657,
          -0.9934026325789047,
          0.7831313478859588,
          0.6071592818927777,
          -1.5272089990095563,
          0.5439162023233473,
          1.1433214013625341,
          0.02363890445662154,
          0.36324894281452563,
          1.418692838399726,
          0.0032313784208553983,
          0.7376422679377489,
          -1.3135443305713557,
          0.2591394467052669,
          1.8726021333712695,
          -0.02267342733907837,
          -0.7117968358970819,
          -1.3815439752350147,
          0.5474069882633411,
          -0.14082838399786934,
          1.295800241524183,
          0.16587449002004045,
          -0.13623801126290602,
          -0.2841987455277562,
          -0.02657306813411636,
          -0.044358228099686814,
          0.7603630152471096,
          0.9105796238764517,
          0.5547276955749623,
          -1.6920327034935343,
          1.8012772604158922,
          1.0957537495842795,
          0.5278414279740992,
          -0.2579914977579109,
          -0.28010895433133803,
          -1.299882900782398,
          0.33419777531472783,
          0.25097425183628885,
          0.00940578100952716,
          0.061957118758716886,
          0.6522371871228492,
          0.18668169152173955,
          -1.3704814477703093,
          1.223642880212177,
          0.835811547517684,
          -1.9416047189095023,
          1.0209035834040083,
          -1.3014432518302246,
          0.9541745862125112,
          -0.4272130687617453,
          -1.0222157852329774,
          -0.28183416434644315,
          -1.2570497039234507,
          0.04750719678875333,
          0.49176992055093344,
          -0.7113589983611227,
          1.7543260318333134,
          0.36914224227737086,
          0.7310662346175594,
          0.6176993277494718,
          2.571811090509869,
          0.3869519696142842,
          0.9717144678765081,
          -0.759355555685107,
          -1.3649911929203533,
          1.025587645804269,
          -1.419560991950135,
          -1.7157191586652238,
          2.398947322575383,
          -1.128045677752533,
          -1.6350856463229864,
          0.36488475451516117,
          -0.9049450091422594,
          0.7338903579787782,
          1.1938403568058797,
          1.0174692575408952
         ],
         "xaxis": "x13",
         "y": [
          -0.2548647289377369,
          0.11991083560609044,
          -0.027370511556095847,
          -1.7174128968207305,
          1.6014785885643945,
          0.42264485714417827,
          0.8715801933462936,
          0.44983548332217,
          1.2462303551447877,
          -1.0140229129473624,
          -0.252475622333703,
          0.7080988324831506,
          0.8228019416718878,
          -1.0045478552813947,
          0.2072548084506301,
          -0.29913829858796315,
          -0.03276382842884846,
          -0.13929077045059887,
          -0.6522861959715183,
          -0.3592447282720758,
          1.4344607526326083,
          -1.720646867383011,
          -0.547978572575142,
          -0.7484230729429161,
          0.41267110770184945,
          0.16436180137627124,
          0.17954912369447668,
          0.7292926737251676,
          0.06396691962014875,
          1.2810709654663168,
          -1.8200534050596084,
          -1.302036013698075,
          -0.43926733896447034,
          1.1877455332772344,
          0.15553191104842912,
          -2.0950660332609505,
          1.4076178031342554,
          -0.4593918386360639,
          -2.0667302336893316,
          -0.2612965085583921,
          -0.22090392480296983,
          0.18305151335149294,
          1.3926286274046134,
          1.1816856055752736,
          1.1999409011816575,
          -0.43386007103477353,
          -0.11551081577622681,
          -0.18233679591054483,
          1.9300794996362982,
          0.8010975462042897,
          0.04494910972956476,
          -0.207038023543942,
          -0.6972872700389012,
          -0.5940702673030951,
          0.6890166774265801,
          -0.3998720623215428,
          -0.10186489092408647,
          1.0027172900847539,
          -0.5954361707244198,
          0.04460773581185214,
          1.256368426387719,
          -0.5154142888940284,
          1.1857113392746585,
          -2.4509670993508643,
          0.9373546537978297,
          0.5984696230358664,
          0.27626465858337,
          -2.7665607509274386,
          1.6223898700606318,
          0.24423475272936285,
          -1.8266112904577037,
          -0.7138266481612217,
          1.0014417883675846,
          1.1341617529648378,
          0.3180808897615708,
          0.5378767026560349,
          -0.859297967546852,
          0.6747795131843112,
          1.7037331635993773,
          0.9489888039410239,
          0.31216455323091397,
          -1.3042911982909864,
          0.8269244602790404,
          1.3131589102817827,
          1.5488966104292863,
          0.7881848283970893,
          -0.8910582719771708,
          0.6770044385568382,
          -2.0340667807149764,
          0.7001160828398248,
          1.3261385488710393,
          -0.010833375248821029,
          -0.559291609474772,
          -1.3364470053901067,
          -1.6486901546375117,
          -0.17071337030065223,
          -0.03064229116044874,
          1.9445332338356134,
          -0.22938897043058815,
          -1.213006780356858
         ],
         "yaxis": "y13"
        },
        {
         "line": {
          "color": "rgba(128, 128, 128, 1.0)",
          "dash": "solid",
          "shape": "linear",
          "width": 1.3
         },
         "marker": {
          "size": 2,
          "symbol": "circle"
         },
         "mode": "markers",
         "name": "D",
         "text": "",
         "type": "scatter",
         "x": [
          -1.879318434737494,
          -0.49376240639959207,
          0.6332852498752116,
          0.05982920481099076,
          -0.45033326574357047,
          0.4780838526561915,
          0.2308646707202015,
          -0.4854975839734933,
          -0.1584023785037026,
          -0.7569330364249099,
          -1.2515830552574734,
          0.1908343665062289,
          -0.27427096038126997,
          -0.16494411658574556,
          1.0458614581281858,
          -0.7058384235612785,
          -1.1008257454485377,
          -0.5171405398885567,
          0.7774689975975859,
          0.1161453633306047,
          -0.7254257020581931,
          0.9997282963094282,
          -1.2175391994439475,
          -0.4032619171768969,
          1.178911179247722,
          -0.912336057384369,
          0.8704923498223446,
          -0.1429929067278444,
          -0.8155297099700727,
          -0.15693239688487548,
          -0.6611259733304673,
          -0.24163226558705464,
          1.9177322073356615,
          -0.17925908171876542,
          0.5625651927892863,
          -0.019120331964386623,
          0.8116619297158044,
          0.3170414557506839,
          0.6343449023308668,
          0.03552622091638352,
          2.149271896386203,
          1.0917890491818028,
          2.10597794808911,
          1.5871791620513425,
          -0.15184848489601235,
          -1.0853796732401266,
          -0.7854456468295216,
          0.10771338015465624,
          0.23000625228123567,
          -0.3115716415815013,
          -0.23648843341717046,
          -0.1759851101684985,
          -0.2470280124499729,
          -0.6557463265401569,
          0.37126719990984497,
          0.9190553436547041,
          0.8414066517645015,
          0.4717402442989092,
          -0.8584748946180241,
          -0.6379745172590058,
          -0.03635803447437388,
          1.2448777768443768,
          -2.3066094376938517,
          -0.7662876287767219,
          -0.054724390833976795,
          -0.5248788430371149,
          0.5926454521392258,
          -0.05721717949569917,
          -1.3801070410731737,
          0.0602725127541095,
          1.21849498916648,
          1.4372290980889477,
          2.543998541586174,
          -1.359347935580105,
          0.7812931470112162,
          0.3111546480607504,
          1.4181147334897954,
          -1.074304103543346,
          0.11768263512512897,
          0.70590446887133,
          -0.08115145651149062,
          0.2816969042936072,
          -0.12729256715473372,
          -0.9235802995434116,
          0.6978291184446651,
          -0.14023362537906392,
          -0.531481976759396,
          -0.18064291032587737,
          -1.3961469533564512,
          0.45294460213610915,
          -0.5523359480249287,
          -1.2284865503087057,
          -0.9839184126739572,
          -0.3422293725130915,
          0.43163349889880115,
          -0.12968252751998702,
          -2.2310079681006187,
          0.9679175488616665,
          -1.1124360640115944,
          0.06462241949051942
         ],
         "xaxis": "x14",
         "y": [
          -0.2548647289377369,
          0.11991083560609044,
          -0.027370511556095847,
          -1.7174128968207305,
          1.6014785885643945,
          0.42264485714417827,
          0.8715801933462936,
          0.44983548332217,
          1.2462303551447877,
          -1.0140229129473624,
          -0.252475622333703,
          0.7080988324831506,
          0.8228019416718878,
          -1.0045478552813947,
          0.2072548084506301,
          -0.29913829858796315,
          -0.03276382842884846,
          -0.13929077045059887,
          -0.6522861959715183,
          -0.3592447282720758,
          1.4344607526326083,
          -1.720646867383011,
          -0.547978572575142,
          -0.7484230729429161,
          0.41267110770184945,
          0.16436180137627124,
          0.17954912369447668,
          0.7292926737251676,
          0.06396691962014875,
          1.2810709654663168,
          -1.8200534050596084,
          -1.302036013698075,
          -0.43926733896447034,
          1.1877455332772344,
          0.15553191104842912,
          -2.0950660332609505,
          1.4076178031342554,
          -0.4593918386360639,
          -2.0667302336893316,
          -0.2612965085583921,
          -0.22090392480296983,
          0.18305151335149294,
          1.3926286274046134,
          1.1816856055752736,
          1.1999409011816575,
          -0.43386007103477353,
          -0.11551081577622681,
          -0.18233679591054483,
          1.9300794996362982,
          0.8010975462042897,
          0.04494910972956476,
          -0.207038023543942,
          -0.6972872700389012,
          -0.5940702673030951,
          0.6890166774265801,
          -0.3998720623215428,
          -0.10186489092408647,
          1.0027172900847539,
          -0.5954361707244198,
          0.04460773581185214,
          1.256368426387719,
          -0.5154142888940284,
          1.1857113392746585,
          -2.4509670993508643,
          0.9373546537978297,
          0.5984696230358664,
          0.27626465858337,
          -2.7665607509274386,
          1.6223898700606318,
          0.24423475272936285,
          -1.8266112904577037,
          -0.7138266481612217,
          1.0014417883675846,
          1.1341617529648378,
          0.3180808897615708,
          0.5378767026560349,
          -0.859297967546852,
          0.6747795131843112,
          1.7037331635993773,
          0.9489888039410239,
          0.31216455323091397,
          -1.3042911982909864,
          0.8269244602790404,
          1.3131589102817827,
          1.5488966104292863,
          0.7881848283970893,
          -0.8910582719771708,
          0.6770044385568382,
          -2.0340667807149764,
          0.7001160828398248,
          1.3261385488710393,
          -0.010833375248821029,
          -0.559291609474772,
          -1.3364470053901067,
          -1.6486901546375117,
          -0.17071337030065223,
          -0.03064229116044874,
          1.9445332338356134,
          -0.22938897043058815,
          -1.213006780356858
         ],
         "yaxis": "y14"
        },
        {
         "line": {
          "color": "rgba(128, 128, 128, 1.0)",
          "dash": "solid",
          "shape": "linear",
          "width": 1.3
         },
         "marker": {
          "size": 2,
          "symbol": "circle"
         },
         "mode": "markers",
         "name": "D",
         "text": "",
         "type": "scatter",
         "x": [
          1.027856233050692,
          1.218819691332298,
          -0.6248077065383141,
          -1.7030401553248025,
          0.8386821474155278,
          -0.7369511885466679,
          -0.760607064596806,
          -0.4701506396148254,
          -0.9752420363858689,
          0.8714048788788313,
          -0.9324804226514437,
          -0.9175968509413431,
          -0.5773282460012145,
          0.18341379991532988,
          0.3889270458433841,
          -0.2404561868704745,
          0.45387528527495025,
          -0.22925368050107353,
          -2.5268756699629487,
          0.847835290200292,
          1.282651941279439,
          0.1582720716623581,
          -0.6646327894405282,
          -0.5176572199861884,
          1.0090458628415175,
          0.033533200611497914,
          1.235587473926201,
          -0.42284973101152,
          1.7309242033880412,
          1.8629567466633654,
          -0.4342693029001846,
          0.8969751585984688,
          0.4273969419568774,
          0.38954762179369073,
          -0.28964772445485343,
          -0.18574876019033443,
          0.3053874338565279,
          0.1160607212223022,
          0.09290359518164934,
          0.4456257500733233,
          0.5073454733400935,
          -0.10409173547276958,
          0.19994197169320588,
          0.6062470992125325,
          -0.2501115505904788,
          -0.7754916765103502,
          1.4559996482254274,
          0.10622651148123047,
          -0.4015722280994274,
          0.36025145222355176,
          -1.0158201424118873,
          -2.169360113128646,
          0.2529741152328386,
          -1.376861301201083,
          1.523231099274402,
          2.3822354146688656,
          0.2930224645185498,
          2.303507375127805,
          -0.04228808594209028,
          -0.623201287384853,
          0.803230605712943,
          -0.19452087068898913,
          -0.4872792386665017,
          0.9159820815745716,
          0.19455868407192214,
          0.5814269806279551,
          0.46371284988433487,
          -0.9220229205650781,
          -1.920532692575124,
          0.19504925951967894,
          -0.28553625410706895,
          2.02424262047401,
          -1.7058694089203703,
          2.15017653224913,
          -0.3211055458145115,
          0.04663664852731371,
          0.3390912455544397,
          0.21421891171161125,
          -0.23691769829522893,
          -0.19077261494802297,
          -1.4442113849385552,
          1.7043919134923207,
          1.2921578890461014,
          -0.41586822575754884,
          0.5020004880514272,
          -0.24677263882673525,
          -1.1313056002899673,
          1.0228252243043117,
          0.22909728148178907,
          -0.31285277613487456,
          0.8065523774367869,
          2.764834558394798,
          2.5280141810595516,
          -1.3157187232280814,
          -0.36095321329218744,
          2.1563452971412818,
          0.47781715500845473,
          0.7433030165273915,
          0.9691548952136163,
          0.3356041583454173
         ],
         "xaxis": "x15",
         "y": [
          -0.2548647289377369,
          0.11991083560609044,
          -0.027370511556095847,
          -1.7174128968207305,
          1.6014785885643945,
          0.42264485714417827,
          0.8715801933462936,
          0.44983548332217,
          1.2462303551447877,
          -1.0140229129473624,
          -0.252475622333703,
          0.7080988324831506,
          0.8228019416718878,
          -1.0045478552813947,
          0.2072548084506301,
          -0.29913829858796315,
          -0.03276382842884846,
          -0.13929077045059887,
          -0.6522861959715183,
          -0.3592447282720758,
          1.4344607526326083,
          -1.720646867383011,
          -0.547978572575142,
          -0.7484230729429161,
          0.41267110770184945,
          0.16436180137627124,
          0.17954912369447668,
          0.7292926737251676,
          0.06396691962014875,
          1.2810709654663168,
          -1.8200534050596084,
          -1.302036013698075,
          -0.43926733896447034,
          1.1877455332772344,
          0.15553191104842912,
          -2.0950660332609505,
          1.4076178031342554,
          -0.4593918386360639,
          -2.0667302336893316,
          -0.2612965085583921,
          -0.22090392480296983,
          0.18305151335149294,
          1.3926286274046134,
          1.1816856055752736,
          1.1999409011816575,
          -0.43386007103477353,
          -0.11551081577622681,
          -0.18233679591054483,
          1.9300794996362982,
          0.8010975462042897,
          0.04494910972956476,
          -0.207038023543942,
          -0.6972872700389012,
          -0.5940702673030951,
          0.6890166774265801,
          -0.3998720623215428,
          -0.10186489092408647,
          1.0027172900847539,
          -0.5954361707244198,
          0.04460773581185214,
          1.256368426387719,
          -0.5154142888940284,
          1.1857113392746585,
          -2.4509670993508643,
          0.9373546537978297,
          0.5984696230358664,
          0.27626465858337,
          -2.7665607509274386,
          1.6223898700606318,
          0.24423475272936285,
          -1.8266112904577037,
          -0.7138266481612217,
          1.0014417883675846,
          1.1341617529648378,
          0.3180808897615708,
          0.5378767026560349,
          -0.859297967546852,
          0.6747795131843112,
          1.7037331635993773,
          0.9489888039410239,
          0.31216455323091397,
          -1.3042911982909864,
          0.8269244602790404,
          1.3131589102817827,
          1.5488966104292863,
          0.7881848283970893,
          -0.8910582719771708,
          0.6770044385568382,
          -2.0340667807149764,
          0.7001160828398248,
          1.3261385488710393,
          -0.010833375248821029,
          -0.559291609474772,
          -1.3364470053901067,
          -1.6486901546375117,
          -0.17071337030065223,
          -0.03064229116044874,
          1.9445332338356134,
          -0.22938897043058815,
          -1.213006780356858
         ],
         "yaxis": "y15"
        },
        {
         "histfunc": "count",
         "histnorm": "",
         "marker": {
          "color": "rgba(128, 0, 128, 1.0)",
          "line": {
           "color": "#4D5663",
           "width": 1.3
          }
         },
         "name": "D",
         "nbinsx": 10,
         "opacity": 0.8,
         "orientation": "v",
         "type": "histogram",
         "x": [
          -0.2548647289377369,
          0.11991083560609044,
          -0.027370511556095847,
          -1.7174128968207305,
          1.6014785885643945,
          0.42264485714417827,
          0.8715801933462936,
          0.44983548332217,
          1.2462303551447877,
          -1.0140229129473624,
          -0.252475622333703,
          0.7080988324831506,
          0.8228019416718878,
          -1.0045478552813947,
          0.2072548084506301,
          -0.29913829858796315,
          -0.03276382842884846,
          -0.13929077045059887,
          -0.6522861959715183,
          -0.3592447282720758,
          1.4344607526326083,
          -1.720646867383011,
          -0.547978572575142,
          -0.7484230729429161,
          0.41267110770184945,
          0.16436180137627124,
          0.17954912369447668,
          0.7292926737251676,
          0.06396691962014875,
          1.2810709654663168,
          -1.8200534050596084,
          -1.302036013698075,
          -0.43926733896447034,
          1.1877455332772344,
          0.15553191104842912,
          -2.0950660332609505,
          1.4076178031342554,
          -0.4593918386360639,
          -2.0667302336893316,
          -0.2612965085583921,
          -0.22090392480296983,
          0.18305151335149294,
          1.3926286274046134,
          1.1816856055752736,
          1.1999409011816575,
          -0.43386007103477353,
          -0.11551081577622681,
          -0.18233679591054483,
          1.9300794996362982,
          0.8010975462042897,
          0.04494910972956476,
          -0.207038023543942,
          -0.6972872700389012,
          -0.5940702673030951,
          0.6890166774265801,
          -0.3998720623215428,
          -0.10186489092408647,
          1.0027172900847539,
          -0.5954361707244198,
          0.04460773581185214,
          1.256368426387719,
          -0.5154142888940284,
          1.1857113392746585,
          -2.4509670993508643,
          0.9373546537978297,
          0.5984696230358664,
          0.27626465858337,
          -2.7665607509274386,
          1.6223898700606318,
          0.24423475272936285,
          -1.8266112904577037,
          -0.7138266481612217,
          1.0014417883675846,
          1.1341617529648378,
          0.3180808897615708,
          0.5378767026560349,
          -0.859297967546852,
          0.6747795131843112,
          1.7037331635993773,
          0.9489888039410239,
          0.31216455323091397,
          -1.3042911982909864,
          0.8269244602790404,
          1.3131589102817827,
          1.5488966104292863,
          0.7881848283970893,
          -0.8910582719771708,
          0.6770044385568382,
          -2.0340667807149764,
          0.7001160828398248,
          1.3261385488710393,
          -0.010833375248821029,
          -0.559291609474772,
          -1.3364470053901067,
          -1.6486901546375117,
          -0.17071337030065223,
          -0.03064229116044874,
          1.9445332338356134,
          -0.22938897043058815,
          -1.213006780356858
         ],
         "xaxis": "x16",
         "yaxis": "y16"
        }
       ],
       "layout": {
        "bargap": 0.02,
        "legend": {
         "bgcolor": "#F5F6F9",
         "font": {
          "color": "#4D5663"
         }
        },
        "paper_bgcolor": "#F5F6F9",
        "plot_bgcolor": "#F5F6F9",
        "showlegend": false,
        "template": {
         "data": {
          "bar": [
           {
            "error_x": {
             "color": "#2a3f5f"
            },
            "error_y": {
             "color": "#2a3f5f"
            },
            "marker": {
             "line": {
              "color": "#E5ECF6",
              "width": 0.5
             },
             "pattern": {
              "fillmode": "overlay",
              "size": 10,
              "solidity": 0.2
             }
            },
            "type": "bar"
           }
          ],
          "barpolar": [
           {
            "marker": {
             "line": {
              "color": "#E5ECF6",
              "width": 0.5
             },
             "pattern": {
              "fillmode": "overlay",
              "size": 10,
              "solidity": 0.2
             }
            },
            "type": "barpolar"
           }
          ],
          "carpet": [
           {
            "aaxis": {
             "endlinecolor": "#2a3f5f",
             "gridcolor": "white",
             "linecolor": "white",
             "minorgridcolor": "white",
             "startlinecolor": "#2a3f5f"
            },
            "baxis": {
             "endlinecolor": "#2a3f5f",
             "gridcolor": "white",
             "linecolor": "white",
             "minorgridcolor": "white",
             "startlinecolor": "#2a3f5f"
            },
            "type": "carpet"
           }
          ],
          "choropleth": [
           {
            "colorbar": {
             "outlinewidth": 0,
             "ticks": ""
            },
            "type": "choropleth"
           }
          ],
          "contour": [
           {
            "colorbar": {
             "outlinewidth": 0,
             "ticks": ""
            },
            "colorscale": [
             [
              0,
              "#0d0887"
             ],
             [
              0.1111111111111111,
              "#46039f"
             ],
             [
              0.2222222222222222,
              "#7201a8"
             ],
             [
              0.3333333333333333,
              "#9c179e"
             ],
             [
              0.4444444444444444,
              "#bd3786"
             ],
             [
              0.5555555555555556,
              "#d8576b"
             ],
             [
              0.6666666666666666,
              "#ed7953"
             ],
             [
              0.7777777777777778,
              "#fb9f3a"
             ],
             [
              0.8888888888888888,
              "#fdca26"
             ],
             [
              1,
              "#f0f921"
             ]
            ],
            "type": "contour"
           }
          ],
          "contourcarpet": [
           {
            "colorbar": {
             "outlinewidth": 0,
             "ticks": ""
            },
            "type": "contourcarpet"
           }
          ],
          "heatmap": [
           {
            "colorbar": {
             "outlinewidth": 0,
             "ticks": ""
            },
            "colorscale": [
             [
              0,
              "#0d0887"
             ],
             [
              0.1111111111111111,
              "#46039f"
             ],
             [
              0.2222222222222222,
              "#7201a8"
             ],
             [
              0.3333333333333333,
              "#9c179e"
             ],
             [
              0.4444444444444444,
              "#bd3786"
             ],
             [
              0.5555555555555556,
              "#d8576b"
             ],
             [
              0.6666666666666666,
              "#ed7953"
             ],
             [
              0.7777777777777778,
              "#fb9f3a"
             ],
             [
              0.8888888888888888,
              "#fdca26"
             ],
             [
              1,
              "#f0f921"
             ]
            ],
            "type": "heatmap"
           }
          ],
          "heatmapgl": [
           {
            "colorbar": {
             "outlinewidth": 0,
             "ticks": ""
            },
            "colorscale": [
             [
              0,
              "#0d0887"
             ],
             [
              0.1111111111111111,
              "#46039f"
             ],
             [
              0.2222222222222222,
              "#7201a8"
             ],
             [
              0.3333333333333333,
              "#9c179e"
             ],
             [
              0.4444444444444444,
              "#bd3786"
             ],
             [
              0.5555555555555556,
              "#d8576b"
             ],
             [
              0.6666666666666666,
              "#ed7953"
             ],
             [
              0.7777777777777778,
              "#fb9f3a"
             ],
             [
              0.8888888888888888,
              "#fdca26"
             ],
             [
              1,
              "#f0f921"
             ]
            ],
            "type": "heatmapgl"
           }
          ],
          "histogram": [
           {
            "marker": {
             "pattern": {
              "fillmode": "overlay",
              "size": 10,
              "solidity": 0.2
             }
            },
            "type": "histogram"
           }
          ],
          "histogram2d": [
           {
            "colorbar": {
             "outlinewidth": 0,
             "ticks": ""
            },
            "colorscale": [
             [
              0,
              "#0d0887"
             ],
             [
              0.1111111111111111,
              "#46039f"
             ],
             [
              0.2222222222222222,
              "#7201a8"
             ],
             [
              0.3333333333333333,
              "#9c179e"
             ],
             [
              0.4444444444444444,
              "#bd3786"
             ],
             [
              0.5555555555555556,
              "#d8576b"
             ],
             [
              0.6666666666666666,
              "#ed7953"
             ],
             [
              0.7777777777777778,
              "#fb9f3a"
             ],
             [
              0.8888888888888888,
              "#fdca26"
             ],
             [
              1,
              "#f0f921"
             ]
            ],
            "type": "histogram2d"
           }
          ],
          "histogram2dcontour": [
           {
            "colorbar": {
             "outlinewidth": 0,
             "ticks": ""
            },
            "colorscale": [
             [
              0,
              "#0d0887"
             ],
             [
              0.1111111111111111,
              "#46039f"
             ],
             [
              0.2222222222222222,
              "#7201a8"
             ],
             [
              0.3333333333333333,
              "#9c179e"
             ],
             [
              0.4444444444444444,
              "#bd3786"
             ],
             [
              0.5555555555555556,
              "#d8576b"
             ],
             [
              0.6666666666666666,
              "#ed7953"
             ],
             [
              0.7777777777777778,
              "#fb9f3a"
             ],
             [
              0.8888888888888888,
              "#fdca26"
             ],
             [
              1,
              "#f0f921"
             ]
            ],
            "type": "histogram2dcontour"
           }
          ],
          "mesh3d": [
           {
            "colorbar": {
             "outlinewidth": 0,
             "ticks": ""
            },
            "type": "mesh3d"
           }
          ],
          "parcoords": [
           {
            "line": {
             "colorbar": {
              "outlinewidth": 0,
              "ticks": ""
             }
            },
            "type": "parcoords"
           }
          ],
          "pie": [
           {
            "automargin": true,
            "type": "pie"
           }
          ],
          "scatter": [
           {
            "marker": {
             "colorbar": {
              "outlinewidth": 0,
              "ticks": ""
             }
            },
            "type": "scatter"
           }
          ],
          "scatter3d": [
           {
            "line": {
             "colorbar": {
              "outlinewidth": 0,
              "ticks": ""
             }
            },
            "marker": {
             "colorbar": {
              "outlinewidth": 0,
              "ticks": ""
             }
            },
            "type": "scatter3d"
           }
          ],
          "scattercarpet": [
           {
            "marker": {
             "colorbar": {
              "outlinewidth": 0,
              "ticks": ""
             }
            },
            "type": "scattercarpet"
           }
          ],
          "scattergeo": [
           {
            "marker": {
             "colorbar": {
              "outlinewidth": 0,
              "ticks": ""
             }
            },
            "type": "scattergeo"
           }
          ],
          "scattergl": [
           {
            "marker": {
             "colorbar": {
              "outlinewidth": 0,
              "ticks": ""
             }
            },
            "type": "scattergl"
           }
          ],
          "scattermapbox": [
           {
            "marker": {
             "colorbar": {
              "outlinewidth": 0,
              "ticks": ""
             }
            },
            "type": "scattermapbox"
           }
          ],
          "scatterpolar": [
           {
            "marker": {
             "colorbar": {
              "outlinewidth": 0,
              "ticks": ""
             }
            },
            "type": "scatterpolar"
           }
          ],
          "scatterpolargl": [
           {
            "marker": {
             "colorbar": {
              "outlinewidth": 0,
              "ticks": ""
             }
            },
            "type": "scatterpolargl"
           }
          ],
          "scatterternary": [
           {
            "marker": {
             "colorbar": {
              "outlinewidth": 0,
              "ticks": ""
             }
            },
            "type": "scatterternary"
           }
          ],
          "surface": [
           {
            "colorbar": {
             "outlinewidth": 0,
             "ticks": ""
            },
            "colorscale": [
             [
              0,
              "#0d0887"
             ],
             [
              0.1111111111111111,
              "#46039f"
             ],
             [
              0.2222222222222222,
              "#7201a8"
             ],
             [
              0.3333333333333333,
              "#9c179e"
             ],
             [
              0.4444444444444444,
              "#bd3786"
             ],
             [
              0.5555555555555556,
              "#d8576b"
             ],
             [
              0.6666666666666666,
              "#ed7953"
             ],
             [
              0.7777777777777778,
              "#fb9f3a"
             ],
             [
              0.8888888888888888,
              "#fdca26"
             ],
             [
              1,
              "#f0f921"
             ]
            ],
            "type": "surface"
           }
          ],
          "table": [
           {
            "cells": {
             "fill": {
              "color": "#EBF0F8"
             },
             "line": {
              "color": "white"
             }
            },
            "header": {
             "fill": {
              "color": "#C8D4E3"
             },
             "line": {
              "color": "white"
             }
            },
            "type": "table"
           }
          ]
         },
         "layout": {
          "annotationdefaults": {
           "arrowcolor": "#2a3f5f",
           "arrowhead": 0,
           "arrowwidth": 1
          },
          "autotypenumbers": "strict",
          "coloraxis": {
           "colorbar": {
            "outlinewidth": 0,
            "ticks": ""
           }
          },
          "colorscale": {
           "diverging": [
            [
             0,
             "#8e0152"
            ],
            [
             0.1,
             "#c51b7d"
            ],
            [
             0.2,
             "#de77ae"
            ],
            [
             0.3,
             "#f1b6da"
            ],
            [
             0.4,
             "#fde0ef"
            ],
            [
             0.5,
             "#f7f7f7"
            ],
            [
             0.6,
             "#e6f5d0"
            ],
            [
             0.7,
             "#b8e186"
            ],
            [
             0.8,
             "#7fbc41"
            ],
            [
             0.9,
             "#4d9221"
            ],
            [
             1,
             "#276419"
            ]
           ],
           "sequential": [
            [
             0,
             "#0d0887"
            ],
            [
             0.1111111111111111,
             "#46039f"
            ],
            [
             0.2222222222222222,
             "#7201a8"
            ],
            [
             0.3333333333333333,
             "#9c179e"
            ],
            [
             0.4444444444444444,
             "#bd3786"
            ],
            [
             0.5555555555555556,
             "#d8576b"
            ],
            [
             0.6666666666666666,
             "#ed7953"
            ],
            [
             0.7777777777777778,
             "#fb9f3a"
            ],
            [
             0.8888888888888888,
             "#fdca26"
            ],
            [
             1,
             "#f0f921"
            ]
           ],
           "sequentialminus": [
            [
             0,
             "#0d0887"
            ],
            [
             0.1111111111111111,
             "#46039f"
            ],
            [
             0.2222222222222222,
             "#7201a8"
            ],
            [
             0.3333333333333333,
             "#9c179e"
            ],
            [
             0.4444444444444444,
             "#bd3786"
            ],
            [
             0.5555555555555556,
             "#d8576b"
            ],
            [
             0.6666666666666666,
             "#ed7953"
            ],
            [
             0.7777777777777778,
             "#fb9f3a"
            ],
            [
             0.8888888888888888,
             "#fdca26"
            ],
            [
             1,
             "#f0f921"
            ]
           ]
          },
          "colorway": [
           "#636efa",
           "#EF553B",
           "#00cc96",
           "#ab63fa",
           "#FFA15A",
           "#19d3f3",
           "#FF6692",
           "#B6E880",
           "#FF97FF",
           "#FECB52"
          ],
          "font": {
           "color": "#2a3f5f"
          },
          "geo": {
           "bgcolor": "white",
           "lakecolor": "white",
           "landcolor": "#E5ECF6",
           "showlakes": true,
           "showland": true,
           "subunitcolor": "white"
          },
          "hoverlabel": {
           "align": "left"
          },
          "hovermode": "closest",
          "mapbox": {
           "style": "light"
          },
          "paper_bgcolor": "white",
          "plot_bgcolor": "#E5ECF6",
          "polar": {
           "angularaxis": {
            "gridcolor": "white",
            "linecolor": "white",
            "ticks": ""
           },
           "bgcolor": "#E5ECF6",
           "radialaxis": {
            "gridcolor": "white",
            "linecolor": "white",
            "ticks": ""
           }
          },
          "scene": {
           "xaxis": {
            "backgroundcolor": "#E5ECF6",
            "gridcolor": "white",
            "gridwidth": 2,
            "linecolor": "white",
            "showbackground": true,
            "ticks": "",
            "zerolinecolor": "white"
           },
           "yaxis": {
            "backgroundcolor": "#E5ECF6",
            "gridcolor": "white",
            "gridwidth": 2,
            "linecolor": "white",
            "showbackground": true,
            "ticks": "",
            "zerolinecolor": "white"
           },
           "zaxis": {
            "backgroundcolor": "#E5ECF6",
            "gridcolor": "white",
            "gridwidth": 2,
            "linecolor": "white",
            "showbackground": true,
            "ticks": "",
            "zerolinecolor": "white"
           }
          },
          "shapedefaults": {
           "line": {
            "color": "#2a3f5f"
           }
          },
          "ternary": {
           "aaxis": {
            "gridcolor": "white",
            "linecolor": "white",
            "ticks": ""
           },
           "baxis": {
            "gridcolor": "white",
            "linecolor": "white",
            "ticks": ""
           },
           "bgcolor": "#E5ECF6",
           "caxis": {
            "gridcolor": "white",
            "linecolor": "white",
            "ticks": ""
           }
          },
          "title": {
           "x": 0.05
          },
          "xaxis": {
           "automargin": true,
           "gridcolor": "white",
           "linecolor": "white",
           "ticks": "",
           "title": {
            "standoff": 15
           },
           "zerolinecolor": "white",
           "zerolinewidth": 2
          },
          "yaxis": {
           "automargin": true,
           "gridcolor": "white",
           "linecolor": "white",
           "ticks": "",
           "title": {
            "standoff": 15
           },
           "zerolinecolor": "white",
           "zerolinewidth": 2
          }
         }
        },
        "title": {
         "font": {
          "color": "#4D5663"
         }
        },
        "xaxis": {
         "anchor": "y",
         "domain": [
          0,
          0.2125
         ],
         "gridcolor": "#E1E5ED",
         "showgrid": false,
         "tickfont": {
          "color": "#4D5663"
         },
         "title": {
          "font": {
           "color": "#4D5663"
          },
          "text": ""
         },
         "zerolinecolor": "#E1E5ED"
        },
        "xaxis10": {
         "anchor": "y10",
         "domain": [
          0.2625,
          0.475
         ],
         "gridcolor": "#E1E5ED",
         "showgrid": false,
         "tickfont": {
          "color": "#4D5663"
         },
         "title": {
          "font": {
           "color": "#4D5663"
          },
          "text": ""
         },
         "zerolinecolor": "#E1E5ED"
        },
        "xaxis11": {
         "anchor": "y11",
         "domain": [
          0.525,
          0.7375
         ],
         "gridcolor": "#E1E5ED",
         "showgrid": false,
         "tickfont": {
          "color": "#4D5663"
         },
         "title": {
          "font": {
           "color": "#4D5663"
          },
          "text": ""
         },
         "zerolinecolor": "#E1E5ED"
        },
        "xaxis12": {
         "anchor": "y12",
         "domain": [
          0.7875,
          1
         ],
         "gridcolor": "#E1E5ED",
         "showgrid": false,
         "tickfont": {
          "color": "#4D5663"
         },
         "title": {
          "font": {
           "color": "#4D5663"
          },
          "text": ""
         },
         "zerolinecolor": "#E1E5ED"
        },
        "xaxis13": {
         "anchor": "y13",
         "domain": [
          0,
          0.2125
         ],
         "gridcolor": "#E1E5ED",
         "showgrid": false,
         "tickfont": {
          "color": "#4D5663"
         },
         "title": {
          "font": {
           "color": "#4D5663"
          },
          "text": ""
         },
         "zerolinecolor": "#E1E5ED"
        },
        "xaxis14": {
         "anchor": "y14",
         "domain": [
          0.2625,
          0.475
         ],
         "gridcolor": "#E1E5ED",
         "showgrid": false,
         "tickfont": {
          "color": "#4D5663"
         },
         "title": {
          "font": {
           "color": "#4D5663"
          },
          "text": ""
         },
         "zerolinecolor": "#E1E5ED"
        },
        "xaxis15": {
         "anchor": "y15",
         "domain": [
          0.525,
          0.7375
         ],
         "gridcolor": "#E1E5ED",
         "showgrid": false,
         "tickfont": {
          "color": "#4D5663"
         },
         "title": {
          "font": {
           "color": "#4D5663"
          },
          "text": ""
         },
         "zerolinecolor": "#E1E5ED"
        },
        "xaxis16": {
         "anchor": "y16",
         "domain": [
          0.7875,
          1
         ],
         "gridcolor": "#E1E5ED",
         "showgrid": false,
         "tickfont": {
          "color": "#4D5663"
         },
         "title": {
          "font": {
           "color": "#4D5663"
          },
          "text": ""
         },
         "zerolinecolor": "#E1E5ED"
        },
        "xaxis2": {
         "anchor": "y2",
         "domain": [
          0.2625,
          0.475
         ],
         "gridcolor": "#E1E5ED",
         "showgrid": false,
         "tickfont": {
          "color": "#4D5663"
         },
         "title": {
          "font": {
           "color": "#4D5663"
          },
          "text": ""
         },
         "zerolinecolor": "#E1E5ED"
        },
        "xaxis3": {
         "anchor": "y3",
         "domain": [
          0.525,
          0.7375
         ],
         "gridcolor": "#E1E5ED",
         "showgrid": false,
         "tickfont": {
          "color": "#4D5663"
         },
         "title": {
          "font": {
           "color": "#4D5663"
          },
          "text": ""
         },
         "zerolinecolor": "#E1E5ED"
        },
        "xaxis4": {
         "anchor": "y4",
         "domain": [
          0.7875,
          1
         ],
         "gridcolor": "#E1E5ED",
         "showgrid": false,
         "tickfont": {
          "color": "#4D5663"
         },
         "title": {
          "font": {
           "color": "#4D5663"
          },
          "text": ""
         },
         "zerolinecolor": "#E1E5ED"
        },
        "xaxis5": {
         "anchor": "y5",
         "domain": [
          0,
          0.2125
         ],
         "gridcolor": "#E1E5ED",
         "showgrid": false,
         "tickfont": {
          "color": "#4D5663"
         },
         "title": {
          "font": {
           "color": "#4D5663"
          },
          "text": ""
         },
         "zerolinecolor": "#E1E5ED"
        },
        "xaxis6": {
         "anchor": "y6",
         "domain": [
          0.2625,
          0.475
         ],
         "gridcolor": "#E1E5ED",
         "showgrid": false,
         "tickfont": {
          "color": "#4D5663"
         },
         "title": {
          "font": {
           "color": "#4D5663"
          },
          "text": ""
         },
         "zerolinecolor": "#E1E5ED"
        },
        "xaxis7": {
         "anchor": "y7",
         "domain": [
          0.525,
          0.7375
         ],
         "gridcolor": "#E1E5ED",
         "showgrid": false,
         "tickfont": {
          "color": "#4D5663"
         },
         "title": {
          "font": {
           "color": "#4D5663"
          },
          "text": ""
         },
         "zerolinecolor": "#E1E5ED"
        },
        "xaxis8": {
         "anchor": "y8",
         "domain": [
          0.7875,
          1
         ],
         "gridcolor": "#E1E5ED",
         "showgrid": false,
         "tickfont": {
          "color": "#4D5663"
         },
         "title": {
          "font": {
           "color": "#4D5663"
          },
          "text": ""
         },
         "zerolinecolor": "#E1E5ED"
        },
        "xaxis9": {
         "anchor": "y9",
         "domain": [
          0,
          0.2125
         ],
         "gridcolor": "#E1E5ED",
         "showgrid": false,
         "tickfont": {
          "color": "#4D5663"
         },
         "title": {
          "font": {
           "color": "#4D5663"
          },
          "text": ""
         },
         "zerolinecolor": "#E1E5ED"
        },
        "yaxis": {
         "anchor": "x",
         "domain": [
          0.8025,
          1
         ],
         "gridcolor": "#E1E5ED",
         "showgrid": false,
         "tickfont": {
          "color": "#4D5663"
         },
         "title": {
          "font": {
           "color": "#4D5663"
          },
          "text": ""
         },
         "zerolinecolor": "#E1E5ED"
        },
        "yaxis10": {
         "anchor": "x10",
         "domain": [
          0.2675,
          0.465
         ],
         "gridcolor": "#E1E5ED",
         "showgrid": false,
         "tickfont": {
          "color": "#4D5663"
         },
         "title": {
          "font": {
           "color": "#4D5663"
          },
          "text": ""
         },
         "zerolinecolor": "#E1E5ED"
        },
        "yaxis11": {
         "anchor": "x11",
         "domain": [
          0.2675,
          0.465
         ],
         "gridcolor": "#E1E5ED",
         "showgrid": false,
         "tickfont": {
          "color": "#4D5663"
         },
         "title": {
          "font": {
           "color": "#4D5663"
          },
          "text": ""
         },
         "zerolinecolor": "#E1E5ED"
        },
        "yaxis12": {
         "anchor": "x12",
         "domain": [
          0.2675,
          0.465
         ],
         "gridcolor": "#E1E5ED",
         "showgrid": false,
         "tickfont": {
          "color": "#4D5663"
         },
         "title": {
          "font": {
           "color": "#4D5663"
          },
          "text": ""
         },
         "zerolinecolor": "#E1E5ED"
        },
        "yaxis13": {
         "anchor": "x13",
         "domain": [
          0,
          0.1975
         ],
         "gridcolor": "#E1E5ED",
         "showgrid": false,
         "tickfont": {
          "color": "#4D5663"
         },
         "title": {
          "font": {
           "color": "#4D5663"
          },
          "text": ""
         },
         "zerolinecolor": "#E1E5ED"
        },
        "yaxis14": {
         "anchor": "x14",
         "domain": [
          0,
          0.1975
         ],
         "gridcolor": "#E1E5ED",
         "showgrid": false,
         "tickfont": {
          "color": "#4D5663"
         },
         "title": {
          "font": {
           "color": "#4D5663"
          },
          "text": ""
         },
         "zerolinecolor": "#E1E5ED"
        },
        "yaxis15": {
         "anchor": "x15",
         "domain": [
          0,
          0.1975
         ],
         "gridcolor": "#E1E5ED",
         "showgrid": false,
         "tickfont": {
          "color": "#4D5663"
         },
         "title": {
          "font": {
           "color": "#4D5663"
          },
          "text": ""
         },
         "zerolinecolor": "#E1E5ED"
        },
        "yaxis16": {
         "anchor": "x16",
         "domain": [
          0,
          0.1975
         ],
         "gridcolor": "#E1E5ED",
         "showgrid": false,
         "tickfont": {
          "color": "#4D5663"
         },
         "title": {
          "font": {
           "color": "#4D5663"
          },
          "text": ""
         },
         "zerolinecolor": "#E1E5ED"
        },
        "yaxis2": {
         "anchor": "x2",
         "domain": [
          0.8025,
          1
         ],
         "gridcolor": "#E1E5ED",
         "showgrid": false,
         "tickfont": {
          "color": "#4D5663"
         },
         "title": {
          "font": {
           "color": "#4D5663"
          },
          "text": ""
         },
         "zerolinecolor": "#E1E5ED"
        },
        "yaxis3": {
         "anchor": "x3",
         "domain": [
          0.8025,
          1
         ],
         "gridcolor": "#E1E5ED",
         "showgrid": false,
         "tickfont": {
          "color": "#4D5663"
         },
         "title": {
          "font": {
           "color": "#4D5663"
          },
          "text": ""
         },
         "zerolinecolor": "#E1E5ED"
        },
        "yaxis4": {
         "anchor": "x4",
         "domain": [
          0.8025,
          1
         ],
         "gridcolor": "#E1E5ED",
         "showgrid": false,
         "tickfont": {
          "color": "#4D5663"
         },
         "title": {
          "font": {
           "color": "#4D5663"
          },
          "text": ""
         },
         "zerolinecolor": "#E1E5ED"
        },
        "yaxis5": {
         "anchor": "x5",
         "domain": [
          0.535,
          0.7325
         ],
         "gridcolor": "#E1E5ED",
         "showgrid": false,
         "tickfont": {
          "color": "#4D5663"
         },
         "title": {
          "font": {
           "color": "#4D5663"
          },
          "text": ""
         },
         "zerolinecolor": "#E1E5ED"
        },
        "yaxis6": {
         "anchor": "x6",
         "domain": [
          0.535,
          0.7325
         ],
         "gridcolor": "#E1E5ED",
         "showgrid": false,
         "tickfont": {
          "color": "#4D5663"
         },
         "title": {
          "font": {
           "color": "#4D5663"
          },
          "text": ""
         },
         "zerolinecolor": "#E1E5ED"
        },
        "yaxis7": {
         "anchor": "x7",
         "domain": [
          0.535,
          0.7325
         ],
         "gridcolor": "#E1E5ED",
         "showgrid": false,
         "tickfont": {
          "color": "#4D5663"
         },
         "title": {
          "font": {
           "color": "#4D5663"
          },
          "text": ""
         },
         "zerolinecolor": "#E1E5ED"
        },
        "yaxis8": {
         "anchor": "x8",
         "domain": [
          0.535,
          0.7325
         ],
         "gridcolor": "#E1E5ED",
         "showgrid": false,
         "tickfont": {
          "color": "#4D5663"
         },
         "title": {
          "font": {
           "color": "#4D5663"
          },
          "text": ""
         },
         "zerolinecolor": "#E1E5ED"
        },
        "yaxis9": {
         "anchor": "x9",
         "domain": [
          0.2675,
          0.465
         ],
         "gridcolor": "#E1E5ED",
         "showgrid": false,
         "tickfont": {
          "color": "#4D5663"
         },
         "title": {
          "font": {
           "color": "#4D5663"
          },
          "text": ""
         },
         "zerolinecolor": "#E1E5ED"
        }
       }
      },
      "text/html": [
       "<div>                            <div id=\"0d1069f3-76d1-495a-86fd-455b4c75723a\" class=\"plotly-graph-div\" style=\"height:525px; width:100%;\"></div>            <script type=\"text/javascript\">                require([\"plotly\"], function(Plotly) {                    window.PLOTLYENV=window.PLOTLYENV || {};\n",
       "                    window.PLOTLYENV.BASE_URL='https://plot.ly';                                    if (document.getElementById(\"0d1069f3-76d1-495a-86fd-455b4c75723a\")) {                    Plotly.newPlot(                        \"0d1069f3-76d1-495a-86fd-455b4c75723a\",                        [{\"histfunc\":\"count\",\"histnorm\":\"\",\"marker\":{\"color\":\"rgba(255, 153, 51, 1.0)\",\"line\":{\"color\":\"#4D5663\",\"width\":1.3}},\"name\":\"A\",\"nbinsx\":10,\"opacity\":0.8,\"orientation\":\"v\",\"type\":\"histogram\",\"x\":[1.0306531774627894,-1.2764594295792628,-2.007425835370658,1.1822103084826039,0.35608523117968155,0.27841238683736536,1.1751915700868945,-1.8123684253200218,0.15598217139030196,-0.5033310910133766,-0.5699399931599826,-0.07633533618674429,-2.004031638543584,-1.4131671302924367,1.5132620658210114,-0.09818026933141981,0.5931422343995467,1.0350325401095455,0.8736985428854916,0.1297605827241348,-0.40681515090843073,0.054384987360707994,-1.3777315482312165,-0.3297611876737317,2.3375924671188657,-0.9934026325789047,0.7831313478859588,0.6071592818927777,-1.5272089990095563,0.5439162023233473,1.1433214013625341,0.02363890445662154,0.36324894281452563,1.418692838399726,0.0032313784208553983,0.7376422679377489,-1.3135443305713557,0.2591394467052669,1.8726021333712695,-0.02267342733907837,-0.7117968358970819,-1.3815439752350147,0.5474069882633411,-0.14082838399786934,1.295800241524183,0.16587449002004045,-0.13623801126290602,-0.2841987455277562,-0.02657306813411636,-0.044358228099686814,0.7603630152471096,0.9105796238764517,0.5547276955749623,-1.6920327034935343,1.8012772604158922,1.0957537495842795,0.5278414279740992,-0.2579914977579109,-0.28010895433133803,-1.299882900782398,0.33419777531472783,0.25097425183628885,0.00940578100952716,0.061957118758716886,0.6522371871228492,0.18668169152173955,-1.3704814477703093,1.223642880212177,0.835811547517684,-1.9416047189095023,1.0209035834040083,-1.3014432518302246,0.9541745862125112,-0.4272130687617453,-1.0222157852329774,-0.28183416434644315,-1.2570497039234507,0.04750719678875333,0.49176992055093344,-0.7113589983611227,1.7543260318333134,0.36914224227737086,0.7310662346175594,0.6176993277494718,2.571811090509869,0.3869519696142842,0.9717144678765081,-0.759355555685107,-1.3649911929203533,1.025587645804269,-1.419560991950135,-1.7157191586652238,2.398947322575383,-1.128045677752533,-1.6350856463229864,0.36488475451516117,-0.9049450091422594,0.7338903579787782,1.1938403568058797,1.0174692575408952],\"xaxis\":\"x\",\"yaxis\":\"y\"},{\"line\":{\"color\":\"rgba(128, 128, 128, 1.0)\",\"dash\":\"solid\",\"shape\":\"linear\",\"width\":1.3},\"marker\":{\"size\":2,\"symbol\":\"circle\"},\"mode\":\"markers\",\"name\":\"A\",\"text\":\"\",\"type\":\"scatter\",\"x\":[-1.879318434737494,-0.49376240639959207,0.6332852498752116,0.05982920481099076,-0.45033326574357047,0.4780838526561915,0.2308646707202015,-0.4854975839734933,-0.1584023785037026,-0.7569330364249099,-1.2515830552574734,0.1908343665062289,-0.27427096038126997,-0.16494411658574556,1.0458614581281858,-0.7058384235612785,-1.1008257454485377,-0.5171405398885567,0.7774689975975859,0.1161453633306047,-0.7254257020581931,0.9997282963094282,-1.2175391994439475,-0.4032619171768969,1.178911179247722,-0.912336057384369,0.8704923498223446,-0.1429929067278444,-0.8155297099700727,-0.15693239688487548,-0.6611259733304673,-0.24163226558705464,1.9177322073356615,-0.17925908171876542,0.5625651927892863,-0.019120331964386623,0.8116619297158044,0.3170414557506839,0.6343449023308668,0.03552622091638352,2.149271896386203,1.0917890491818028,2.10597794808911,1.5871791620513425,-0.15184848489601235,-1.0853796732401266,-0.7854456468295216,0.10771338015465624,0.23000625228123567,-0.3115716415815013,-0.23648843341717046,-0.1759851101684985,-0.2470280124499729,-0.6557463265401569,0.37126719990984497,0.9190553436547041,0.8414066517645015,0.4717402442989092,-0.8584748946180241,-0.6379745172590058,-0.03635803447437388,1.2448777768443768,-2.3066094376938517,-0.7662876287767219,-0.054724390833976795,-0.5248788430371149,0.5926454521392258,-0.05721717949569917,-1.3801070410731737,0.0602725127541095,1.21849498916648,1.4372290980889477,2.543998541586174,-1.359347935580105,0.7812931470112162,0.3111546480607504,1.4181147334897954,-1.074304103543346,0.11768263512512897,0.70590446887133,-0.08115145651149062,0.2816969042936072,-0.12729256715473372,-0.9235802995434116,0.6978291184446651,-0.14023362537906392,-0.531481976759396,-0.18064291032587737,-1.3961469533564512,0.45294460213610915,-0.5523359480249287,-1.2284865503087057,-0.9839184126739572,-0.3422293725130915,0.43163349889880115,-0.12968252751998702,-2.2310079681006187,0.9679175488616665,-1.1124360640115944,0.06462241949051942],\"xaxis\":\"x2\",\"y\":[1.0306531774627894,-1.2764594295792628,-2.007425835370658,1.1822103084826039,0.35608523117968155,0.27841238683736536,1.1751915700868945,-1.8123684253200218,0.15598217139030196,-0.5033310910133766,-0.5699399931599826,-0.07633533618674429,-2.004031638543584,-1.4131671302924367,1.5132620658210114,-0.09818026933141981,0.5931422343995467,1.0350325401095455,0.8736985428854916,0.1297605827241348,-0.40681515090843073,0.054384987360707994,-1.3777315482312165,-0.3297611876737317,2.3375924671188657,-0.9934026325789047,0.7831313478859588,0.6071592818927777,-1.5272089990095563,0.5439162023233473,1.1433214013625341,0.02363890445662154,0.36324894281452563,1.418692838399726,0.0032313784208553983,0.7376422679377489,-1.3135443305713557,0.2591394467052669,1.8726021333712695,-0.02267342733907837,-0.7117968358970819,-1.3815439752350147,0.5474069882633411,-0.14082838399786934,1.295800241524183,0.16587449002004045,-0.13623801126290602,-0.2841987455277562,-0.02657306813411636,-0.044358228099686814,0.7603630152471096,0.9105796238764517,0.5547276955749623,-1.6920327034935343,1.8012772604158922,1.0957537495842795,0.5278414279740992,-0.2579914977579109,-0.28010895433133803,-1.299882900782398,0.33419777531472783,0.25097425183628885,0.00940578100952716,0.061957118758716886,0.6522371871228492,0.18668169152173955,-1.3704814477703093,1.223642880212177,0.835811547517684,-1.9416047189095023,1.0209035834040083,-1.3014432518302246,0.9541745862125112,-0.4272130687617453,-1.0222157852329774,-0.28183416434644315,-1.2570497039234507,0.04750719678875333,0.49176992055093344,-0.7113589983611227,1.7543260318333134,0.36914224227737086,0.7310662346175594,0.6176993277494718,2.571811090509869,0.3869519696142842,0.9717144678765081,-0.759355555685107,-1.3649911929203533,1.025587645804269,-1.419560991950135,-1.7157191586652238,2.398947322575383,-1.128045677752533,-1.6350856463229864,0.36488475451516117,-0.9049450091422594,0.7338903579787782,1.1938403568058797,1.0174692575408952],\"yaxis\":\"y2\"},{\"line\":{\"color\":\"rgba(128, 128, 128, 1.0)\",\"dash\":\"solid\",\"shape\":\"linear\",\"width\":1.3},\"marker\":{\"size\":2,\"symbol\":\"circle\"},\"mode\":\"markers\",\"name\":\"A\",\"text\":\"\",\"type\":\"scatter\",\"x\":[1.027856233050692,1.218819691332298,-0.6248077065383141,-1.7030401553248025,0.8386821474155278,-0.7369511885466679,-0.760607064596806,-0.4701506396148254,-0.9752420363858689,0.8714048788788313,-0.9324804226514437,-0.9175968509413431,-0.5773282460012145,0.18341379991532988,0.3889270458433841,-0.2404561868704745,0.45387528527495025,-0.22925368050107353,-2.5268756699629487,0.847835290200292,1.282651941279439,0.1582720716623581,-0.6646327894405282,-0.5176572199861884,1.0090458628415175,0.033533200611497914,1.235587473926201,-0.42284973101152,1.7309242033880412,1.8629567466633654,-0.4342693029001846,0.8969751585984688,0.4273969419568774,0.38954762179369073,-0.28964772445485343,-0.18574876019033443,0.3053874338565279,0.1160607212223022,0.09290359518164934,0.4456257500733233,0.5073454733400935,-0.10409173547276958,0.19994197169320588,0.6062470992125325,-0.2501115505904788,-0.7754916765103502,1.4559996482254274,0.10622651148123047,-0.4015722280994274,0.36025145222355176,-1.0158201424118873,-2.169360113128646,0.2529741152328386,-1.376861301201083,1.523231099274402,2.3822354146688656,0.2930224645185498,2.303507375127805,-0.04228808594209028,-0.623201287384853,0.803230605712943,-0.19452087068898913,-0.4872792386665017,0.9159820815745716,0.19455868407192214,0.5814269806279551,0.46371284988433487,-0.9220229205650781,-1.920532692575124,0.19504925951967894,-0.28553625410706895,2.02424262047401,-1.7058694089203703,2.15017653224913,-0.3211055458145115,0.04663664852731371,0.3390912455544397,0.21421891171161125,-0.23691769829522893,-0.19077261494802297,-1.4442113849385552,1.7043919134923207,1.2921578890461014,-0.41586822575754884,0.5020004880514272,-0.24677263882673525,-1.1313056002899673,1.0228252243043117,0.22909728148178907,-0.31285277613487456,0.8065523774367869,2.764834558394798,2.5280141810595516,-1.3157187232280814,-0.36095321329218744,2.1563452971412818,0.47781715500845473,0.7433030165273915,0.9691548952136163,0.3356041583454173],\"xaxis\":\"x3\",\"y\":[1.0306531774627894,-1.2764594295792628,-2.007425835370658,1.1822103084826039,0.35608523117968155,0.27841238683736536,1.1751915700868945,-1.8123684253200218,0.15598217139030196,-0.5033310910133766,-0.5699399931599826,-0.07633533618674429,-2.004031638543584,-1.4131671302924367,1.5132620658210114,-0.09818026933141981,0.5931422343995467,1.0350325401095455,0.8736985428854916,0.1297605827241348,-0.40681515090843073,0.054384987360707994,-1.3777315482312165,-0.3297611876737317,2.3375924671188657,-0.9934026325789047,0.7831313478859588,0.6071592818927777,-1.5272089990095563,0.5439162023233473,1.1433214013625341,0.02363890445662154,0.36324894281452563,1.418692838399726,0.0032313784208553983,0.7376422679377489,-1.3135443305713557,0.2591394467052669,1.8726021333712695,-0.02267342733907837,-0.7117968358970819,-1.3815439752350147,0.5474069882633411,-0.14082838399786934,1.295800241524183,0.16587449002004045,-0.13623801126290602,-0.2841987455277562,-0.02657306813411636,-0.044358228099686814,0.7603630152471096,0.9105796238764517,0.5547276955749623,-1.6920327034935343,1.8012772604158922,1.0957537495842795,0.5278414279740992,-0.2579914977579109,-0.28010895433133803,-1.299882900782398,0.33419777531472783,0.25097425183628885,0.00940578100952716,0.061957118758716886,0.6522371871228492,0.18668169152173955,-1.3704814477703093,1.223642880212177,0.835811547517684,-1.9416047189095023,1.0209035834040083,-1.3014432518302246,0.9541745862125112,-0.4272130687617453,-1.0222157852329774,-0.28183416434644315,-1.2570497039234507,0.04750719678875333,0.49176992055093344,-0.7113589983611227,1.7543260318333134,0.36914224227737086,0.7310662346175594,0.6176993277494718,2.571811090509869,0.3869519696142842,0.9717144678765081,-0.759355555685107,-1.3649911929203533,1.025587645804269,-1.419560991950135,-1.7157191586652238,2.398947322575383,-1.128045677752533,-1.6350856463229864,0.36488475451516117,-0.9049450091422594,0.7338903579787782,1.1938403568058797,1.0174692575408952],\"yaxis\":\"y3\"},{\"line\":{\"color\":\"rgba(128, 128, 128, 1.0)\",\"dash\":\"solid\",\"shape\":\"linear\",\"width\":1.3},\"marker\":{\"size\":2,\"symbol\":\"circle\"},\"mode\":\"markers\",\"name\":\"A\",\"text\":\"\",\"type\":\"scatter\",\"x\":[-0.2548647289377369,0.11991083560609044,-0.027370511556095847,-1.7174128968207305,1.6014785885643945,0.42264485714417827,0.8715801933462936,0.44983548332217,1.2462303551447877,-1.0140229129473624,-0.252475622333703,0.7080988324831506,0.8228019416718878,-1.0045478552813947,0.2072548084506301,-0.29913829858796315,-0.03276382842884846,-0.13929077045059887,-0.6522861959715183,-0.3592447282720758,1.4344607526326083,-1.720646867383011,-0.547978572575142,-0.7484230729429161,0.41267110770184945,0.16436180137627124,0.17954912369447668,0.7292926737251676,0.06396691962014875,1.2810709654663168,-1.8200534050596084,-1.302036013698075,-0.43926733896447034,1.1877455332772344,0.15553191104842912,-2.0950660332609505,1.4076178031342554,-0.4593918386360639,-2.0667302336893316,-0.2612965085583921,-0.22090392480296983,0.18305151335149294,1.3926286274046134,1.1816856055752736,1.1999409011816575,-0.43386007103477353,-0.11551081577622681,-0.18233679591054483,1.9300794996362982,0.8010975462042897,0.04494910972956476,-0.207038023543942,-0.6972872700389012,-0.5940702673030951,0.6890166774265801,-0.3998720623215428,-0.10186489092408647,1.0027172900847539,-0.5954361707244198,0.04460773581185214,1.256368426387719,-0.5154142888940284,1.1857113392746585,-2.4509670993508643,0.9373546537978297,0.5984696230358664,0.27626465858337,-2.7665607509274386,1.6223898700606318,0.24423475272936285,-1.8266112904577037,-0.7138266481612217,1.0014417883675846,1.1341617529648378,0.3180808897615708,0.5378767026560349,-0.859297967546852,0.6747795131843112,1.7037331635993773,0.9489888039410239,0.31216455323091397,-1.3042911982909864,0.8269244602790404,1.3131589102817827,1.5488966104292863,0.7881848283970893,-0.8910582719771708,0.6770044385568382,-2.0340667807149764,0.7001160828398248,1.3261385488710393,-0.010833375248821029,-0.559291609474772,-1.3364470053901067,-1.6486901546375117,-0.17071337030065223,-0.03064229116044874,1.9445332338356134,-0.22938897043058815,-1.213006780356858],\"xaxis\":\"x4\",\"y\":[1.0306531774627894,-1.2764594295792628,-2.007425835370658,1.1822103084826039,0.35608523117968155,0.27841238683736536,1.1751915700868945,-1.8123684253200218,0.15598217139030196,-0.5033310910133766,-0.5699399931599826,-0.07633533618674429,-2.004031638543584,-1.4131671302924367,1.5132620658210114,-0.09818026933141981,0.5931422343995467,1.0350325401095455,0.8736985428854916,0.1297605827241348,-0.40681515090843073,0.054384987360707994,-1.3777315482312165,-0.3297611876737317,2.3375924671188657,-0.9934026325789047,0.7831313478859588,0.6071592818927777,-1.5272089990095563,0.5439162023233473,1.1433214013625341,0.02363890445662154,0.36324894281452563,1.418692838399726,0.0032313784208553983,0.7376422679377489,-1.3135443305713557,0.2591394467052669,1.8726021333712695,-0.02267342733907837,-0.7117968358970819,-1.3815439752350147,0.5474069882633411,-0.14082838399786934,1.295800241524183,0.16587449002004045,-0.13623801126290602,-0.2841987455277562,-0.02657306813411636,-0.044358228099686814,0.7603630152471096,0.9105796238764517,0.5547276955749623,-1.6920327034935343,1.8012772604158922,1.0957537495842795,0.5278414279740992,-0.2579914977579109,-0.28010895433133803,-1.299882900782398,0.33419777531472783,0.25097425183628885,0.00940578100952716,0.061957118758716886,0.6522371871228492,0.18668169152173955,-1.3704814477703093,1.223642880212177,0.835811547517684,-1.9416047189095023,1.0209035834040083,-1.3014432518302246,0.9541745862125112,-0.4272130687617453,-1.0222157852329774,-0.28183416434644315,-1.2570497039234507,0.04750719678875333,0.49176992055093344,-0.7113589983611227,1.7543260318333134,0.36914224227737086,0.7310662346175594,0.6176993277494718,2.571811090509869,0.3869519696142842,0.9717144678765081,-0.759355555685107,-1.3649911929203533,1.025587645804269,-1.419560991950135,-1.7157191586652238,2.398947322575383,-1.128045677752533,-1.6350856463229864,0.36488475451516117,-0.9049450091422594,0.7338903579787782,1.1938403568058797,1.0174692575408952],\"yaxis\":\"y4\"},{\"line\":{\"color\":\"rgba(128, 128, 128, 1.0)\",\"dash\":\"solid\",\"shape\":\"linear\",\"width\":1.3},\"marker\":{\"size\":2,\"symbol\":\"circle\"},\"mode\":\"markers\",\"name\":\"B\",\"text\":\"\",\"type\":\"scatter\",\"x\":[1.0306531774627894,-1.2764594295792628,-2.007425835370658,1.1822103084826039,0.35608523117968155,0.27841238683736536,1.1751915700868945,-1.8123684253200218,0.15598217139030196,-0.5033310910133766,-0.5699399931599826,-0.07633533618674429,-2.004031638543584,-1.4131671302924367,1.5132620658210114,-0.09818026933141981,0.5931422343995467,1.0350325401095455,0.8736985428854916,0.1297605827241348,-0.40681515090843073,0.054384987360707994,-1.3777315482312165,-0.3297611876737317,2.3375924671188657,-0.9934026325789047,0.7831313478859588,0.6071592818927777,-1.5272089990095563,0.5439162023233473,1.1433214013625341,0.02363890445662154,0.36324894281452563,1.418692838399726,0.0032313784208553983,0.7376422679377489,-1.3135443305713557,0.2591394467052669,1.8726021333712695,-0.02267342733907837,-0.7117968358970819,-1.3815439752350147,0.5474069882633411,-0.14082838399786934,1.295800241524183,0.16587449002004045,-0.13623801126290602,-0.2841987455277562,-0.02657306813411636,-0.044358228099686814,0.7603630152471096,0.9105796238764517,0.5547276955749623,-1.6920327034935343,1.8012772604158922,1.0957537495842795,0.5278414279740992,-0.2579914977579109,-0.28010895433133803,-1.299882900782398,0.33419777531472783,0.25097425183628885,0.00940578100952716,0.061957118758716886,0.6522371871228492,0.18668169152173955,-1.3704814477703093,1.223642880212177,0.835811547517684,-1.9416047189095023,1.0209035834040083,-1.3014432518302246,0.9541745862125112,-0.4272130687617453,-1.0222157852329774,-0.28183416434644315,-1.2570497039234507,0.04750719678875333,0.49176992055093344,-0.7113589983611227,1.7543260318333134,0.36914224227737086,0.7310662346175594,0.6176993277494718,2.571811090509869,0.3869519696142842,0.9717144678765081,-0.759355555685107,-1.3649911929203533,1.025587645804269,-1.419560991950135,-1.7157191586652238,2.398947322575383,-1.128045677752533,-1.6350856463229864,0.36488475451516117,-0.9049450091422594,0.7338903579787782,1.1938403568058797,1.0174692575408952],\"xaxis\":\"x5\",\"y\":[-1.879318434737494,-0.49376240639959207,0.6332852498752116,0.05982920481099076,-0.45033326574357047,0.4780838526561915,0.2308646707202015,-0.4854975839734933,-0.1584023785037026,-0.7569330364249099,-1.2515830552574734,0.1908343665062289,-0.27427096038126997,-0.16494411658574556,1.0458614581281858,-0.7058384235612785,-1.1008257454485377,-0.5171405398885567,0.7774689975975859,0.1161453633306047,-0.7254257020581931,0.9997282963094282,-1.2175391994439475,-0.4032619171768969,1.178911179247722,-0.912336057384369,0.8704923498223446,-0.1429929067278444,-0.8155297099700727,-0.15693239688487548,-0.6611259733304673,-0.24163226558705464,1.9177322073356615,-0.17925908171876542,0.5625651927892863,-0.019120331964386623,0.8116619297158044,0.3170414557506839,0.6343449023308668,0.03552622091638352,2.149271896386203,1.0917890491818028,2.10597794808911,1.5871791620513425,-0.15184848489601235,-1.0853796732401266,-0.7854456468295216,0.10771338015465624,0.23000625228123567,-0.3115716415815013,-0.23648843341717046,-0.1759851101684985,-0.2470280124499729,-0.6557463265401569,0.37126719990984497,0.9190553436547041,0.8414066517645015,0.4717402442989092,-0.8584748946180241,-0.6379745172590058,-0.03635803447437388,1.2448777768443768,-2.3066094376938517,-0.7662876287767219,-0.054724390833976795,-0.5248788430371149,0.5926454521392258,-0.05721717949569917,-1.3801070410731737,0.0602725127541095,1.21849498916648,1.4372290980889477,2.543998541586174,-1.359347935580105,0.7812931470112162,0.3111546480607504,1.4181147334897954,-1.074304103543346,0.11768263512512897,0.70590446887133,-0.08115145651149062,0.2816969042936072,-0.12729256715473372,-0.9235802995434116,0.6978291184446651,-0.14023362537906392,-0.531481976759396,-0.18064291032587737,-1.3961469533564512,0.45294460213610915,-0.5523359480249287,-1.2284865503087057,-0.9839184126739572,-0.3422293725130915,0.43163349889880115,-0.12968252751998702,-2.2310079681006187,0.9679175488616665,-1.1124360640115944,0.06462241949051942],\"yaxis\":\"y5\"},{\"histfunc\":\"count\",\"histnorm\":\"\",\"marker\":{\"color\":\"rgba(55, 128, 191, 1.0)\",\"line\":{\"color\":\"#4D5663\",\"width\":1.3}},\"name\":\"B\",\"nbinsx\":10,\"opacity\":0.8,\"orientation\":\"v\",\"type\":\"histogram\",\"x\":[-1.879318434737494,-0.49376240639959207,0.6332852498752116,0.05982920481099076,-0.45033326574357047,0.4780838526561915,0.2308646707202015,-0.4854975839734933,-0.1584023785037026,-0.7569330364249099,-1.2515830552574734,0.1908343665062289,-0.27427096038126997,-0.16494411658574556,1.0458614581281858,-0.7058384235612785,-1.1008257454485377,-0.5171405398885567,0.7774689975975859,0.1161453633306047,-0.7254257020581931,0.9997282963094282,-1.2175391994439475,-0.4032619171768969,1.178911179247722,-0.912336057384369,0.8704923498223446,-0.1429929067278444,-0.8155297099700727,-0.15693239688487548,-0.6611259733304673,-0.24163226558705464,1.9177322073356615,-0.17925908171876542,0.5625651927892863,-0.019120331964386623,0.8116619297158044,0.3170414557506839,0.6343449023308668,0.03552622091638352,2.149271896386203,1.0917890491818028,2.10597794808911,1.5871791620513425,-0.15184848489601235,-1.0853796732401266,-0.7854456468295216,0.10771338015465624,0.23000625228123567,-0.3115716415815013,-0.23648843341717046,-0.1759851101684985,-0.2470280124499729,-0.6557463265401569,0.37126719990984497,0.9190553436547041,0.8414066517645015,0.4717402442989092,-0.8584748946180241,-0.6379745172590058,-0.03635803447437388,1.2448777768443768,-2.3066094376938517,-0.7662876287767219,-0.054724390833976795,-0.5248788430371149,0.5926454521392258,-0.05721717949569917,-1.3801070410731737,0.0602725127541095,1.21849498916648,1.4372290980889477,2.543998541586174,-1.359347935580105,0.7812931470112162,0.3111546480607504,1.4181147334897954,-1.074304103543346,0.11768263512512897,0.70590446887133,-0.08115145651149062,0.2816969042936072,-0.12729256715473372,-0.9235802995434116,0.6978291184446651,-0.14023362537906392,-0.531481976759396,-0.18064291032587737,-1.3961469533564512,0.45294460213610915,-0.5523359480249287,-1.2284865503087057,-0.9839184126739572,-0.3422293725130915,0.43163349889880115,-0.12968252751998702,-2.2310079681006187,0.9679175488616665,-1.1124360640115944,0.06462241949051942],\"xaxis\":\"x6\",\"yaxis\":\"y6\"},{\"line\":{\"color\":\"rgba(128, 128, 128, 1.0)\",\"dash\":\"solid\",\"shape\":\"linear\",\"width\":1.3},\"marker\":{\"size\":2,\"symbol\":\"circle\"},\"mode\":\"markers\",\"name\":\"B\",\"text\":\"\",\"type\":\"scatter\",\"x\":[1.027856233050692,1.218819691332298,-0.6248077065383141,-1.7030401553248025,0.8386821474155278,-0.7369511885466679,-0.760607064596806,-0.4701506396148254,-0.9752420363858689,0.8714048788788313,-0.9324804226514437,-0.9175968509413431,-0.5773282460012145,0.18341379991532988,0.3889270458433841,-0.2404561868704745,0.45387528527495025,-0.22925368050107353,-2.5268756699629487,0.847835290200292,1.282651941279439,0.1582720716623581,-0.6646327894405282,-0.5176572199861884,1.0090458628415175,0.033533200611497914,1.235587473926201,-0.42284973101152,1.7309242033880412,1.8629567466633654,-0.4342693029001846,0.8969751585984688,0.4273969419568774,0.38954762179369073,-0.28964772445485343,-0.18574876019033443,0.3053874338565279,0.1160607212223022,0.09290359518164934,0.4456257500733233,0.5073454733400935,-0.10409173547276958,0.19994197169320588,0.6062470992125325,-0.2501115505904788,-0.7754916765103502,1.4559996482254274,0.10622651148123047,-0.4015722280994274,0.36025145222355176,-1.0158201424118873,-2.169360113128646,0.2529741152328386,-1.376861301201083,1.523231099274402,2.3822354146688656,0.2930224645185498,2.303507375127805,-0.04228808594209028,-0.623201287384853,0.803230605712943,-0.19452087068898913,-0.4872792386665017,0.9159820815745716,0.19455868407192214,0.5814269806279551,0.46371284988433487,-0.9220229205650781,-1.920532692575124,0.19504925951967894,-0.28553625410706895,2.02424262047401,-1.7058694089203703,2.15017653224913,-0.3211055458145115,0.04663664852731371,0.3390912455544397,0.21421891171161125,-0.23691769829522893,-0.19077261494802297,-1.4442113849385552,1.7043919134923207,1.2921578890461014,-0.41586822575754884,0.5020004880514272,-0.24677263882673525,-1.1313056002899673,1.0228252243043117,0.22909728148178907,-0.31285277613487456,0.8065523774367869,2.764834558394798,2.5280141810595516,-1.3157187232280814,-0.36095321329218744,2.1563452971412818,0.47781715500845473,0.7433030165273915,0.9691548952136163,0.3356041583454173],\"xaxis\":\"x7\",\"y\":[-1.879318434737494,-0.49376240639959207,0.6332852498752116,0.05982920481099076,-0.45033326574357047,0.4780838526561915,0.2308646707202015,-0.4854975839734933,-0.1584023785037026,-0.7569330364249099,-1.2515830552574734,0.1908343665062289,-0.27427096038126997,-0.16494411658574556,1.0458614581281858,-0.7058384235612785,-1.1008257454485377,-0.5171405398885567,0.7774689975975859,0.1161453633306047,-0.7254257020581931,0.9997282963094282,-1.2175391994439475,-0.4032619171768969,1.178911179247722,-0.912336057384369,0.8704923498223446,-0.1429929067278444,-0.8155297099700727,-0.15693239688487548,-0.6611259733304673,-0.24163226558705464,1.9177322073356615,-0.17925908171876542,0.5625651927892863,-0.019120331964386623,0.8116619297158044,0.3170414557506839,0.6343449023308668,0.03552622091638352,2.149271896386203,1.0917890491818028,2.10597794808911,1.5871791620513425,-0.15184848489601235,-1.0853796732401266,-0.7854456468295216,0.10771338015465624,0.23000625228123567,-0.3115716415815013,-0.23648843341717046,-0.1759851101684985,-0.2470280124499729,-0.6557463265401569,0.37126719990984497,0.9190553436547041,0.8414066517645015,0.4717402442989092,-0.8584748946180241,-0.6379745172590058,-0.03635803447437388,1.2448777768443768,-2.3066094376938517,-0.7662876287767219,-0.054724390833976795,-0.5248788430371149,0.5926454521392258,-0.05721717949569917,-1.3801070410731737,0.0602725127541095,1.21849498916648,1.4372290980889477,2.543998541586174,-1.359347935580105,0.7812931470112162,0.3111546480607504,1.4181147334897954,-1.074304103543346,0.11768263512512897,0.70590446887133,-0.08115145651149062,0.2816969042936072,-0.12729256715473372,-0.9235802995434116,0.6978291184446651,-0.14023362537906392,-0.531481976759396,-0.18064291032587737,-1.3961469533564512,0.45294460213610915,-0.5523359480249287,-1.2284865503087057,-0.9839184126739572,-0.3422293725130915,0.43163349889880115,-0.12968252751998702,-2.2310079681006187,0.9679175488616665,-1.1124360640115944,0.06462241949051942],\"yaxis\":\"y7\"},{\"line\":{\"color\":\"rgba(128, 128, 128, 1.0)\",\"dash\":\"solid\",\"shape\":\"linear\",\"width\":1.3},\"marker\":{\"size\":2,\"symbol\":\"circle\"},\"mode\":\"markers\",\"name\":\"B\",\"text\":\"\",\"type\":\"scatter\",\"x\":[-0.2548647289377369,0.11991083560609044,-0.027370511556095847,-1.7174128968207305,1.6014785885643945,0.42264485714417827,0.8715801933462936,0.44983548332217,1.2462303551447877,-1.0140229129473624,-0.252475622333703,0.7080988324831506,0.8228019416718878,-1.0045478552813947,0.2072548084506301,-0.29913829858796315,-0.03276382842884846,-0.13929077045059887,-0.6522861959715183,-0.3592447282720758,1.4344607526326083,-1.720646867383011,-0.547978572575142,-0.7484230729429161,0.41267110770184945,0.16436180137627124,0.17954912369447668,0.7292926737251676,0.06396691962014875,1.2810709654663168,-1.8200534050596084,-1.302036013698075,-0.43926733896447034,1.1877455332772344,0.15553191104842912,-2.0950660332609505,1.4076178031342554,-0.4593918386360639,-2.0667302336893316,-0.2612965085583921,-0.22090392480296983,0.18305151335149294,1.3926286274046134,1.1816856055752736,1.1999409011816575,-0.43386007103477353,-0.11551081577622681,-0.18233679591054483,1.9300794996362982,0.8010975462042897,0.04494910972956476,-0.207038023543942,-0.6972872700389012,-0.5940702673030951,0.6890166774265801,-0.3998720623215428,-0.10186489092408647,1.0027172900847539,-0.5954361707244198,0.04460773581185214,1.256368426387719,-0.5154142888940284,1.1857113392746585,-2.4509670993508643,0.9373546537978297,0.5984696230358664,0.27626465858337,-2.7665607509274386,1.6223898700606318,0.24423475272936285,-1.8266112904577037,-0.7138266481612217,1.0014417883675846,1.1341617529648378,0.3180808897615708,0.5378767026560349,-0.859297967546852,0.6747795131843112,1.7037331635993773,0.9489888039410239,0.31216455323091397,-1.3042911982909864,0.8269244602790404,1.3131589102817827,1.5488966104292863,0.7881848283970893,-0.8910582719771708,0.6770044385568382,-2.0340667807149764,0.7001160828398248,1.3261385488710393,-0.010833375248821029,-0.559291609474772,-1.3364470053901067,-1.6486901546375117,-0.17071337030065223,-0.03064229116044874,1.9445332338356134,-0.22938897043058815,-1.213006780356858],\"xaxis\":\"x8\",\"y\":[-1.879318434737494,-0.49376240639959207,0.6332852498752116,0.05982920481099076,-0.45033326574357047,0.4780838526561915,0.2308646707202015,-0.4854975839734933,-0.1584023785037026,-0.7569330364249099,-1.2515830552574734,0.1908343665062289,-0.27427096038126997,-0.16494411658574556,1.0458614581281858,-0.7058384235612785,-1.1008257454485377,-0.5171405398885567,0.7774689975975859,0.1161453633306047,-0.7254257020581931,0.9997282963094282,-1.2175391994439475,-0.4032619171768969,1.178911179247722,-0.912336057384369,0.8704923498223446,-0.1429929067278444,-0.8155297099700727,-0.15693239688487548,-0.6611259733304673,-0.24163226558705464,1.9177322073356615,-0.17925908171876542,0.5625651927892863,-0.019120331964386623,0.8116619297158044,0.3170414557506839,0.6343449023308668,0.03552622091638352,2.149271896386203,1.0917890491818028,2.10597794808911,1.5871791620513425,-0.15184848489601235,-1.0853796732401266,-0.7854456468295216,0.10771338015465624,0.23000625228123567,-0.3115716415815013,-0.23648843341717046,-0.1759851101684985,-0.2470280124499729,-0.6557463265401569,0.37126719990984497,0.9190553436547041,0.8414066517645015,0.4717402442989092,-0.8584748946180241,-0.6379745172590058,-0.03635803447437388,1.2448777768443768,-2.3066094376938517,-0.7662876287767219,-0.054724390833976795,-0.5248788430371149,0.5926454521392258,-0.05721717949569917,-1.3801070410731737,0.0602725127541095,1.21849498916648,1.4372290980889477,2.543998541586174,-1.359347935580105,0.7812931470112162,0.3111546480607504,1.4181147334897954,-1.074304103543346,0.11768263512512897,0.70590446887133,-0.08115145651149062,0.2816969042936072,-0.12729256715473372,-0.9235802995434116,0.6978291184446651,-0.14023362537906392,-0.531481976759396,-0.18064291032587737,-1.3961469533564512,0.45294460213610915,-0.5523359480249287,-1.2284865503087057,-0.9839184126739572,-0.3422293725130915,0.43163349889880115,-0.12968252751998702,-2.2310079681006187,0.9679175488616665,-1.1124360640115944,0.06462241949051942],\"yaxis\":\"y8\"},{\"line\":{\"color\":\"rgba(128, 128, 128, 1.0)\",\"dash\":\"solid\",\"shape\":\"linear\",\"width\":1.3},\"marker\":{\"size\":2,\"symbol\":\"circle\"},\"mode\":\"markers\",\"name\":\"C\",\"text\":\"\",\"type\":\"scatter\",\"x\":[1.0306531774627894,-1.2764594295792628,-2.007425835370658,1.1822103084826039,0.35608523117968155,0.27841238683736536,1.1751915700868945,-1.8123684253200218,0.15598217139030196,-0.5033310910133766,-0.5699399931599826,-0.07633533618674429,-2.004031638543584,-1.4131671302924367,1.5132620658210114,-0.09818026933141981,0.5931422343995467,1.0350325401095455,0.8736985428854916,0.1297605827241348,-0.40681515090843073,0.054384987360707994,-1.3777315482312165,-0.3297611876737317,2.3375924671188657,-0.9934026325789047,0.7831313478859588,0.6071592818927777,-1.5272089990095563,0.5439162023233473,1.1433214013625341,0.02363890445662154,0.36324894281452563,1.418692838399726,0.0032313784208553983,0.7376422679377489,-1.3135443305713557,0.2591394467052669,1.8726021333712695,-0.02267342733907837,-0.7117968358970819,-1.3815439752350147,0.5474069882633411,-0.14082838399786934,1.295800241524183,0.16587449002004045,-0.13623801126290602,-0.2841987455277562,-0.02657306813411636,-0.044358228099686814,0.7603630152471096,0.9105796238764517,0.5547276955749623,-1.6920327034935343,1.8012772604158922,1.0957537495842795,0.5278414279740992,-0.2579914977579109,-0.28010895433133803,-1.299882900782398,0.33419777531472783,0.25097425183628885,0.00940578100952716,0.061957118758716886,0.6522371871228492,0.18668169152173955,-1.3704814477703093,1.223642880212177,0.835811547517684,-1.9416047189095023,1.0209035834040083,-1.3014432518302246,0.9541745862125112,-0.4272130687617453,-1.0222157852329774,-0.28183416434644315,-1.2570497039234507,0.04750719678875333,0.49176992055093344,-0.7113589983611227,1.7543260318333134,0.36914224227737086,0.7310662346175594,0.6176993277494718,2.571811090509869,0.3869519696142842,0.9717144678765081,-0.759355555685107,-1.3649911929203533,1.025587645804269,-1.419560991950135,-1.7157191586652238,2.398947322575383,-1.128045677752533,-1.6350856463229864,0.36488475451516117,-0.9049450091422594,0.7338903579787782,1.1938403568058797,1.0174692575408952],\"xaxis\":\"x9\",\"y\":[1.027856233050692,1.218819691332298,-0.6248077065383141,-1.7030401553248025,0.8386821474155278,-0.7369511885466679,-0.760607064596806,-0.4701506396148254,-0.9752420363858689,0.8714048788788313,-0.9324804226514437,-0.9175968509413431,-0.5773282460012145,0.18341379991532988,0.3889270458433841,-0.2404561868704745,0.45387528527495025,-0.22925368050107353,-2.5268756699629487,0.847835290200292,1.282651941279439,0.1582720716623581,-0.6646327894405282,-0.5176572199861884,1.0090458628415175,0.033533200611497914,1.235587473926201,-0.42284973101152,1.7309242033880412,1.8629567466633654,-0.4342693029001846,0.8969751585984688,0.4273969419568774,0.38954762179369073,-0.28964772445485343,-0.18574876019033443,0.3053874338565279,0.1160607212223022,0.09290359518164934,0.4456257500733233,0.5073454733400935,-0.10409173547276958,0.19994197169320588,0.6062470992125325,-0.2501115505904788,-0.7754916765103502,1.4559996482254274,0.10622651148123047,-0.4015722280994274,0.36025145222355176,-1.0158201424118873,-2.169360113128646,0.2529741152328386,-1.376861301201083,1.523231099274402,2.3822354146688656,0.2930224645185498,2.303507375127805,-0.04228808594209028,-0.623201287384853,0.803230605712943,-0.19452087068898913,-0.4872792386665017,0.9159820815745716,0.19455868407192214,0.5814269806279551,0.46371284988433487,-0.9220229205650781,-1.920532692575124,0.19504925951967894,-0.28553625410706895,2.02424262047401,-1.7058694089203703,2.15017653224913,-0.3211055458145115,0.04663664852731371,0.3390912455544397,0.21421891171161125,-0.23691769829522893,-0.19077261494802297,-1.4442113849385552,1.7043919134923207,1.2921578890461014,-0.41586822575754884,0.5020004880514272,-0.24677263882673525,-1.1313056002899673,1.0228252243043117,0.22909728148178907,-0.31285277613487456,0.8065523774367869,2.764834558394798,2.5280141810595516,-1.3157187232280814,-0.36095321329218744,2.1563452971412818,0.47781715500845473,0.7433030165273915,0.9691548952136163,0.3356041583454173],\"yaxis\":\"y9\"},{\"line\":{\"color\":\"rgba(128, 128, 128, 1.0)\",\"dash\":\"solid\",\"shape\":\"linear\",\"width\":1.3},\"marker\":{\"size\":2,\"symbol\":\"circle\"},\"mode\":\"markers\",\"name\":\"C\",\"text\":\"\",\"type\":\"scatter\",\"x\":[-1.879318434737494,-0.49376240639959207,0.6332852498752116,0.05982920481099076,-0.45033326574357047,0.4780838526561915,0.2308646707202015,-0.4854975839734933,-0.1584023785037026,-0.7569330364249099,-1.2515830552574734,0.1908343665062289,-0.27427096038126997,-0.16494411658574556,1.0458614581281858,-0.7058384235612785,-1.1008257454485377,-0.5171405398885567,0.7774689975975859,0.1161453633306047,-0.7254257020581931,0.9997282963094282,-1.2175391994439475,-0.4032619171768969,1.178911179247722,-0.912336057384369,0.8704923498223446,-0.1429929067278444,-0.8155297099700727,-0.15693239688487548,-0.6611259733304673,-0.24163226558705464,1.9177322073356615,-0.17925908171876542,0.5625651927892863,-0.019120331964386623,0.8116619297158044,0.3170414557506839,0.6343449023308668,0.03552622091638352,2.149271896386203,1.0917890491818028,2.10597794808911,1.5871791620513425,-0.15184848489601235,-1.0853796732401266,-0.7854456468295216,0.10771338015465624,0.23000625228123567,-0.3115716415815013,-0.23648843341717046,-0.1759851101684985,-0.2470280124499729,-0.6557463265401569,0.37126719990984497,0.9190553436547041,0.8414066517645015,0.4717402442989092,-0.8584748946180241,-0.6379745172590058,-0.03635803447437388,1.2448777768443768,-2.3066094376938517,-0.7662876287767219,-0.054724390833976795,-0.5248788430371149,0.5926454521392258,-0.05721717949569917,-1.3801070410731737,0.0602725127541095,1.21849498916648,1.4372290980889477,2.543998541586174,-1.359347935580105,0.7812931470112162,0.3111546480607504,1.4181147334897954,-1.074304103543346,0.11768263512512897,0.70590446887133,-0.08115145651149062,0.2816969042936072,-0.12729256715473372,-0.9235802995434116,0.6978291184446651,-0.14023362537906392,-0.531481976759396,-0.18064291032587737,-1.3961469533564512,0.45294460213610915,-0.5523359480249287,-1.2284865503087057,-0.9839184126739572,-0.3422293725130915,0.43163349889880115,-0.12968252751998702,-2.2310079681006187,0.9679175488616665,-1.1124360640115944,0.06462241949051942],\"xaxis\":\"x10\",\"y\":[1.027856233050692,1.218819691332298,-0.6248077065383141,-1.7030401553248025,0.8386821474155278,-0.7369511885466679,-0.760607064596806,-0.4701506396148254,-0.9752420363858689,0.8714048788788313,-0.9324804226514437,-0.9175968509413431,-0.5773282460012145,0.18341379991532988,0.3889270458433841,-0.2404561868704745,0.45387528527495025,-0.22925368050107353,-2.5268756699629487,0.847835290200292,1.282651941279439,0.1582720716623581,-0.6646327894405282,-0.5176572199861884,1.0090458628415175,0.033533200611497914,1.235587473926201,-0.42284973101152,1.7309242033880412,1.8629567466633654,-0.4342693029001846,0.8969751585984688,0.4273969419568774,0.38954762179369073,-0.28964772445485343,-0.18574876019033443,0.3053874338565279,0.1160607212223022,0.09290359518164934,0.4456257500733233,0.5073454733400935,-0.10409173547276958,0.19994197169320588,0.6062470992125325,-0.2501115505904788,-0.7754916765103502,1.4559996482254274,0.10622651148123047,-0.4015722280994274,0.36025145222355176,-1.0158201424118873,-2.169360113128646,0.2529741152328386,-1.376861301201083,1.523231099274402,2.3822354146688656,0.2930224645185498,2.303507375127805,-0.04228808594209028,-0.623201287384853,0.803230605712943,-0.19452087068898913,-0.4872792386665017,0.9159820815745716,0.19455868407192214,0.5814269806279551,0.46371284988433487,-0.9220229205650781,-1.920532692575124,0.19504925951967894,-0.28553625410706895,2.02424262047401,-1.7058694089203703,2.15017653224913,-0.3211055458145115,0.04663664852731371,0.3390912455544397,0.21421891171161125,-0.23691769829522893,-0.19077261494802297,-1.4442113849385552,1.7043919134923207,1.2921578890461014,-0.41586822575754884,0.5020004880514272,-0.24677263882673525,-1.1313056002899673,1.0228252243043117,0.22909728148178907,-0.31285277613487456,0.8065523774367869,2.764834558394798,2.5280141810595516,-1.3157187232280814,-0.36095321329218744,2.1563452971412818,0.47781715500845473,0.7433030165273915,0.9691548952136163,0.3356041583454173],\"yaxis\":\"y10\"},{\"histfunc\":\"count\",\"histnorm\":\"\",\"marker\":{\"color\":\"rgba(50, 171, 96, 1.0)\",\"line\":{\"color\":\"#4D5663\",\"width\":1.3}},\"name\":\"C\",\"nbinsx\":10,\"opacity\":0.8,\"orientation\":\"v\",\"type\":\"histogram\",\"x\":[1.027856233050692,1.218819691332298,-0.6248077065383141,-1.7030401553248025,0.8386821474155278,-0.7369511885466679,-0.760607064596806,-0.4701506396148254,-0.9752420363858689,0.8714048788788313,-0.9324804226514437,-0.9175968509413431,-0.5773282460012145,0.18341379991532988,0.3889270458433841,-0.2404561868704745,0.45387528527495025,-0.22925368050107353,-2.5268756699629487,0.847835290200292,1.282651941279439,0.1582720716623581,-0.6646327894405282,-0.5176572199861884,1.0090458628415175,0.033533200611497914,1.235587473926201,-0.42284973101152,1.7309242033880412,1.8629567466633654,-0.4342693029001846,0.8969751585984688,0.4273969419568774,0.38954762179369073,-0.28964772445485343,-0.18574876019033443,0.3053874338565279,0.1160607212223022,0.09290359518164934,0.4456257500733233,0.5073454733400935,-0.10409173547276958,0.19994197169320588,0.6062470992125325,-0.2501115505904788,-0.7754916765103502,1.4559996482254274,0.10622651148123047,-0.4015722280994274,0.36025145222355176,-1.0158201424118873,-2.169360113128646,0.2529741152328386,-1.376861301201083,1.523231099274402,2.3822354146688656,0.2930224645185498,2.303507375127805,-0.04228808594209028,-0.623201287384853,0.803230605712943,-0.19452087068898913,-0.4872792386665017,0.9159820815745716,0.19455868407192214,0.5814269806279551,0.46371284988433487,-0.9220229205650781,-1.920532692575124,0.19504925951967894,-0.28553625410706895,2.02424262047401,-1.7058694089203703,2.15017653224913,-0.3211055458145115,0.04663664852731371,0.3390912455544397,0.21421891171161125,-0.23691769829522893,-0.19077261494802297,-1.4442113849385552,1.7043919134923207,1.2921578890461014,-0.41586822575754884,0.5020004880514272,-0.24677263882673525,-1.1313056002899673,1.0228252243043117,0.22909728148178907,-0.31285277613487456,0.8065523774367869,2.764834558394798,2.5280141810595516,-1.3157187232280814,-0.36095321329218744,2.1563452971412818,0.47781715500845473,0.7433030165273915,0.9691548952136163,0.3356041583454173],\"xaxis\":\"x11\",\"yaxis\":\"y11\"},{\"line\":{\"color\":\"rgba(128, 128, 128, 1.0)\",\"dash\":\"solid\",\"shape\":\"linear\",\"width\":1.3},\"marker\":{\"size\":2,\"symbol\":\"circle\"},\"mode\":\"markers\",\"name\":\"C\",\"text\":\"\",\"type\":\"scatter\",\"x\":[-0.2548647289377369,0.11991083560609044,-0.027370511556095847,-1.7174128968207305,1.6014785885643945,0.42264485714417827,0.8715801933462936,0.44983548332217,1.2462303551447877,-1.0140229129473624,-0.252475622333703,0.7080988324831506,0.8228019416718878,-1.0045478552813947,0.2072548084506301,-0.29913829858796315,-0.03276382842884846,-0.13929077045059887,-0.6522861959715183,-0.3592447282720758,1.4344607526326083,-1.720646867383011,-0.547978572575142,-0.7484230729429161,0.41267110770184945,0.16436180137627124,0.17954912369447668,0.7292926737251676,0.06396691962014875,1.2810709654663168,-1.8200534050596084,-1.302036013698075,-0.43926733896447034,1.1877455332772344,0.15553191104842912,-2.0950660332609505,1.4076178031342554,-0.4593918386360639,-2.0667302336893316,-0.2612965085583921,-0.22090392480296983,0.18305151335149294,1.3926286274046134,1.1816856055752736,1.1999409011816575,-0.43386007103477353,-0.11551081577622681,-0.18233679591054483,1.9300794996362982,0.8010975462042897,0.04494910972956476,-0.207038023543942,-0.6972872700389012,-0.5940702673030951,0.6890166774265801,-0.3998720623215428,-0.10186489092408647,1.0027172900847539,-0.5954361707244198,0.04460773581185214,1.256368426387719,-0.5154142888940284,1.1857113392746585,-2.4509670993508643,0.9373546537978297,0.5984696230358664,0.27626465858337,-2.7665607509274386,1.6223898700606318,0.24423475272936285,-1.8266112904577037,-0.7138266481612217,1.0014417883675846,1.1341617529648378,0.3180808897615708,0.5378767026560349,-0.859297967546852,0.6747795131843112,1.7037331635993773,0.9489888039410239,0.31216455323091397,-1.3042911982909864,0.8269244602790404,1.3131589102817827,1.5488966104292863,0.7881848283970893,-0.8910582719771708,0.6770044385568382,-2.0340667807149764,0.7001160828398248,1.3261385488710393,-0.010833375248821029,-0.559291609474772,-1.3364470053901067,-1.6486901546375117,-0.17071337030065223,-0.03064229116044874,1.9445332338356134,-0.22938897043058815,-1.213006780356858],\"xaxis\":\"x12\",\"y\":[1.027856233050692,1.218819691332298,-0.6248077065383141,-1.7030401553248025,0.8386821474155278,-0.7369511885466679,-0.760607064596806,-0.4701506396148254,-0.9752420363858689,0.8714048788788313,-0.9324804226514437,-0.9175968509413431,-0.5773282460012145,0.18341379991532988,0.3889270458433841,-0.2404561868704745,0.45387528527495025,-0.22925368050107353,-2.5268756699629487,0.847835290200292,1.282651941279439,0.1582720716623581,-0.6646327894405282,-0.5176572199861884,1.0090458628415175,0.033533200611497914,1.235587473926201,-0.42284973101152,1.7309242033880412,1.8629567466633654,-0.4342693029001846,0.8969751585984688,0.4273969419568774,0.38954762179369073,-0.28964772445485343,-0.18574876019033443,0.3053874338565279,0.1160607212223022,0.09290359518164934,0.4456257500733233,0.5073454733400935,-0.10409173547276958,0.19994197169320588,0.6062470992125325,-0.2501115505904788,-0.7754916765103502,1.4559996482254274,0.10622651148123047,-0.4015722280994274,0.36025145222355176,-1.0158201424118873,-2.169360113128646,0.2529741152328386,-1.376861301201083,1.523231099274402,2.3822354146688656,0.2930224645185498,2.303507375127805,-0.04228808594209028,-0.623201287384853,0.803230605712943,-0.19452087068898913,-0.4872792386665017,0.9159820815745716,0.19455868407192214,0.5814269806279551,0.46371284988433487,-0.9220229205650781,-1.920532692575124,0.19504925951967894,-0.28553625410706895,2.02424262047401,-1.7058694089203703,2.15017653224913,-0.3211055458145115,0.04663664852731371,0.3390912455544397,0.21421891171161125,-0.23691769829522893,-0.19077261494802297,-1.4442113849385552,1.7043919134923207,1.2921578890461014,-0.41586822575754884,0.5020004880514272,-0.24677263882673525,-1.1313056002899673,1.0228252243043117,0.22909728148178907,-0.31285277613487456,0.8065523774367869,2.764834558394798,2.5280141810595516,-1.3157187232280814,-0.36095321329218744,2.1563452971412818,0.47781715500845473,0.7433030165273915,0.9691548952136163,0.3356041583454173],\"yaxis\":\"y12\"},{\"line\":{\"color\":\"rgba(128, 128, 128, 1.0)\",\"dash\":\"solid\",\"shape\":\"linear\",\"width\":1.3},\"marker\":{\"size\":2,\"symbol\":\"circle\"},\"mode\":\"markers\",\"name\":\"D\",\"text\":\"\",\"type\":\"scatter\",\"x\":[1.0306531774627894,-1.2764594295792628,-2.007425835370658,1.1822103084826039,0.35608523117968155,0.27841238683736536,1.1751915700868945,-1.8123684253200218,0.15598217139030196,-0.5033310910133766,-0.5699399931599826,-0.07633533618674429,-2.004031638543584,-1.4131671302924367,1.5132620658210114,-0.09818026933141981,0.5931422343995467,1.0350325401095455,0.8736985428854916,0.1297605827241348,-0.40681515090843073,0.054384987360707994,-1.3777315482312165,-0.3297611876737317,2.3375924671188657,-0.9934026325789047,0.7831313478859588,0.6071592818927777,-1.5272089990095563,0.5439162023233473,1.1433214013625341,0.02363890445662154,0.36324894281452563,1.418692838399726,0.0032313784208553983,0.7376422679377489,-1.3135443305713557,0.2591394467052669,1.8726021333712695,-0.02267342733907837,-0.7117968358970819,-1.3815439752350147,0.5474069882633411,-0.14082838399786934,1.295800241524183,0.16587449002004045,-0.13623801126290602,-0.2841987455277562,-0.02657306813411636,-0.044358228099686814,0.7603630152471096,0.9105796238764517,0.5547276955749623,-1.6920327034935343,1.8012772604158922,1.0957537495842795,0.5278414279740992,-0.2579914977579109,-0.28010895433133803,-1.299882900782398,0.33419777531472783,0.25097425183628885,0.00940578100952716,0.061957118758716886,0.6522371871228492,0.18668169152173955,-1.3704814477703093,1.223642880212177,0.835811547517684,-1.9416047189095023,1.0209035834040083,-1.3014432518302246,0.9541745862125112,-0.4272130687617453,-1.0222157852329774,-0.28183416434644315,-1.2570497039234507,0.04750719678875333,0.49176992055093344,-0.7113589983611227,1.7543260318333134,0.36914224227737086,0.7310662346175594,0.6176993277494718,2.571811090509869,0.3869519696142842,0.9717144678765081,-0.759355555685107,-1.3649911929203533,1.025587645804269,-1.419560991950135,-1.7157191586652238,2.398947322575383,-1.128045677752533,-1.6350856463229864,0.36488475451516117,-0.9049450091422594,0.7338903579787782,1.1938403568058797,1.0174692575408952],\"xaxis\":\"x13\",\"y\":[-0.2548647289377369,0.11991083560609044,-0.027370511556095847,-1.7174128968207305,1.6014785885643945,0.42264485714417827,0.8715801933462936,0.44983548332217,1.2462303551447877,-1.0140229129473624,-0.252475622333703,0.7080988324831506,0.8228019416718878,-1.0045478552813947,0.2072548084506301,-0.29913829858796315,-0.03276382842884846,-0.13929077045059887,-0.6522861959715183,-0.3592447282720758,1.4344607526326083,-1.720646867383011,-0.547978572575142,-0.7484230729429161,0.41267110770184945,0.16436180137627124,0.17954912369447668,0.7292926737251676,0.06396691962014875,1.2810709654663168,-1.8200534050596084,-1.302036013698075,-0.43926733896447034,1.1877455332772344,0.15553191104842912,-2.0950660332609505,1.4076178031342554,-0.4593918386360639,-2.0667302336893316,-0.2612965085583921,-0.22090392480296983,0.18305151335149294,1.3926286274046134,1.1816856055752736,1.1999409011816575,-0.43386007103477353,-0.11551081577622681,-0.18233679591054483,1.9300794996362982,0.8010975462042897,0.04494910972956476,-0.207038023543942,-0.6972872700389012,-0.5940702673030951,0.6890166774265801,-0.3998720623215428,-0.10186489092408647,1.0027172900847539,-0.5954361707244198,0.04460773581185214,1.256368426387719,-0.5154142888940284,1.1857113392746585,-2.4509670993508643,0.9373546537978297,0.5984696230358664,0.27626465858337,-2.7665607509274386,1.6223898700606318,0.24423475272936285,-1.8266112904577037,-0.7138266481612217,1.0014417883675846,1.1341617529648378,0.3180808897615708,0.5378767026560349,-0.859297967546852,0.6747795131843112,1.7037331635993773,0.9489888039410239,0.31216455323091397,-1.3042911982909864,0.8269244602790404,1.3131589102817827,1.5488966104292863,0.7881848283970893,-0.8910582719771708,0.6770044385568382,-2.0340667807149764,0.7001160828398248,1.3261385488710393,-0.010833375248821029,-0.559291609474772,-1.3364470053901067,-1.6486901546375117,-0.17071337030065223,-0.03064229116044874,1.9445332338356134,-0.22938897043058815,-1.213006780356858],\"yaxis\":\"y13\"},{\"line\":{\"color\":\"rgba(128, 128, 128, 1.0)\",\"dash\":\"solid\",\"shape\":\"linear\",\"width\":1.3},\"marker\":{\"size\":2,\"symbol\":\"circle\"},\"mode\":\"markers\",\"name\":\"D\",\"text\":\"\",\"type\":\"scatter\",\"x\":[-1.879318434737494,-0.49376240639959207,0.6332852498752116,0.05982920481099076,-0.45033326574357047,0.4780838526561915,0.2308646707202015,-0.4854975839734933,-0.1584023785037026,-0.7569330364249099,-1.2515830552574734,0.1908343665062289,-0.27427096038126997,-0.16494411658574556,1.0458614581281858,-0.7058384235612785,-1.1008257454485377,-0.5171405398885567,0.7774689975975859,0.1161453633306047,-0.7254257020581931,0.9997282963094282,-1.2175391994439475,-0.4032619171768969,1.178911179247722,-0.912336057384369,0.8704923498223446,-0.1429929067278444,-0.8155297099700727,-0.15693239688487548,-0.6611259733304673,-0.24163226558705464,1.9177322073356615,-0.17925908171876542,0.5625651927892863,-0.019120331964386623,0.8116619297158044,0.3170414557506839,0.6343449023308668,0.03552622091638352,2.149271896386203,1.0917890491818028,2.10597794808911,1.5871791620513425,-0.15184848489601235,-1.0853796732401266,-0.7854456468295216,0.10771338015465624,0.23000625228123567,-0.3115716415815013,-0.23648843341717046,-0.1759851101684985,-0.2470280124499729,-0.6557463265401569,0.37126719990984497,0.9190553436547041,0.8414066517645015,0.4717402442989092,-0.8584748946180241,-0.6379745172590058,-0.03635803447437388,1.2448777768443768,-2.3066094376938517,-0.7662876287767219,-0.054724390833976795,-0.5248788430371149,0.5926454521392258,-0.05721717949569917,-1.3801070410731737,0.0602725127541095,1.21849498916648,1.4372290980889477,2.543998541586174,-1.359347935580105,0.7812931470112162,0.3111546480607504,1.4181147334897954,-1.074304103543346,0.11768263512512897,0.70590446887133,-0.08115145651149062,0.2816969042936072,-0.12729256715473372,-0.9235802995434116,0.6978291184446651,-0.14023362537906392,-0.531481976759396,-0.18064291032587737,-1.3961469533564512,0.45294460213610915,-0.5523359480249287,-1.2284865503087057,-0.9839184126739572,-0.3422293725130915,0.43163349889880115,-0.12968252751998702,-2.2310079681006187,0.9679175488616665,-1.1124360640115944,0.06462241949051942],\"xaxis\":\"x14\",\"y\":[-0.2548647289377369,0.11991083560609044,-0.027370511556095847,-1.7174128968207305,1.6014785885643945,0.42264485714417827,0.8715801933462936,0.44983548332217,1.2462303551447877,-1.0140229129473624,-0.252475622333703,0.7080988324831506,0.8228019416718878,-1.0045478552813947,0.2072548084506301,-0.29913829858796315,-0.03276382842884846,-0.13929077045059887,-0.6522861959715183,-0.3592447282720758,1.4344607526326083,-1.720646867383011,-0.547978572575142,-0.7484230729429161,0.41267110770184945,0.16436180137627124,0.17954912369447668,0.7292926737251676,0.06396691962014875,1.2810709654663168,-1.8200534050596084,-1.302036013698075,-0.43926733896447034,1.1877455332772344,0.15553191104842912,-2.0950660332609505,1.4076178031342554,-0.4593918386360639,-2.0667302336893316,-0.2612965085583921,-0.22090392480296983,0.18305151335149294,1.3926286274046134,1.1816856055752736,1.1999409011816575,-0.43386007103477353,-0.11551081577622681,-0.18233679591054483,1.9300794996362982,0.8010975462042897,0.04494910972956476,-0.207038023543942,-0.6972872700389012,-0.5940702673030951,0.6890166774265801,-0.3998720623215428,-0.10186489092408647,1.0027172900847539,-0.5954361707244198,0.04460773581185214,1.256368426387719,-0.5154142888940284,1.1857113392746585,-2.4509670993508643,0.9373546537978297,0.5984696230358664,0.27626465858337,-2.7665607509274386,1.6223898700606318,0.24423475272936285,-1.8266112904577037,-0.7138266481612217,1.0014417883675846,1.1341617529648378,0.3180808897615708,0.5378767026560349,-0.859297967546852,0.6747795131843112,1.7037331635993773,0.9489888039410239,0.31216455323091397,-1.3042911982909864,0.8269244602790404,1.3131589102817827,1.5488966104292863,0.7881848283970893,-0.8910582719771708,0.6770044385568382,-2.0340667807149764,0.7001160828398248,1.3261385488710393,-0.010833375248821029,-0.559291609474772,-1.3364470053901067,-1.6486901546375117,-0.17071337030065223,-0.03064229116044874,1.9445332338356134,-0.22938897043058815,-1.213006780356858],\"yaxis\":\"y14\"},{\"line\":{\"color\":\"rgba(128, 128, 128, 1.0)\",\"dash\":\"solid\",\"shape\":\"linear\",\"width\":1.3},\"marker\":{\"size\":2,\"symbol\":\"circle\"},\"mode\":\"markers\",\"name\":\"D\",\"text\":\"\",\"type\":\"scatter\",\"x\":[1.027856233050692,1.218819691332298,-0.6248077065383141,-1.7030401553248025,0.8386821474155278,-0.7369511885466679,-0.760607064596806,-0.4701506396148254,-0.9752420363858689,0.8714048788788313,-0.9324804226514437,-0.9175968509413431,-0.5773282460012145,0.18341379991532988,0.3889270458433841,-0.2404561868704745,0.45387528527495025,-0.22925368050107353,-2.5268756699629487,0.847835290200292,1.282651941279439,0.1582720716623581,-0.6646327894405282,-0.5176572199861884,1.0090458628415175,0.033533200611497914,1.235587473926201,-0.42284973101152,1.7309242033880412,1.8629567466633654,-0.4342693029001846,0.8969751585984688,0.4273969419568774,0.38954762179369073,-0.28964772445485343,-0.18574876019033443,0.3053874338565279,0.1160607212223022,0.09290359518164934,0.4456257500733233,0.5073454733400935,-0.10409173547276958,0.19994197169320588,0.6062470992125325,-0.2501115505904788,-0.7754916765103502,1.4559996482254274,0.10622651148123047,-0.4015722280994274,0.36025145222355176,-1.0158201424118873,-2.169360113128646,0.2529741152328386,-1.376861301201083,1.523231099274402,2.3822354146688656,0.2930224645185498,2.303507375127805,-0.04228808594209028,-0.623201287384853,0.803230605712943,-0.19452087068898913,-0.4872792386665017,0.9159820815745716,0.19455868407192214,0.5814269806279551,0.46371284988433487,-0.9220229205650781,-1.920532692575124,0.19504925951967894,-0.28553625410706895,2.02424262047401,-1.7058694089203703,2.15017653224913,-0.3211055458145115,0.04663664852731371,0.3390912455544397,0.21421891171161125,-0.23691769829522893,-0.19077261494802297,-1.4442113849385552,1.7043919134923207,1.2921578890461014,-0.41586822575754884,0.5020004880514272,-0.24677263882673525,-1.1313056002899673,1.0228252243043117,0.22909728148178907,-0.31285277613487456,0.8065523774367869,2.764834558394798,2.5280141810595516,-1.3157187232280814,-0.36095321329218744,2.1563452971412818,0.47781715500845473,0.7433030165273915,0.9691548952136163,0.3356041583454173],\"xaxis\":\"x15\",\"y\":[-0.2548647289377369,0.11991083560609044,-0.027370511556095847,-1.7174128968207305,1.6014785885643945,0.42264485714417827,0.8715801933462936,0.44983548332217,1.2462303551447877,-1.0140229129473624,-0.252475622333703,0.7080988324831506,0.8228019416718878,-1.0045478552813947,0.2072548084506301,-0.29913829858796315,-0.03276382842884846,-0.13929077045059887,-0.6522861959715183,-0.3592447282720758,1.4344607526326083,-1.720646867383011,-0.547978572575142,-0.7484230729429161,0.41267110770184945,0.16436180137627124,0.17954912369447668,0.7292926737251676,0.06396691962014875,1.2810709654663168,-1.8200534050596084,-1.302036013698075,-0.43926733896447034,1.1877455332772344,0.15553191104842912,-2.0950660332609505,1.4076178031342554,-0.4593918386360639,-2.0667302336893316,-0.2612965085583921,-0.22090392480296983,0.18305151335149294,1.3926286274046134,1.1816856055752736,1.1999409011816575,-0.43386007103477353,-0.11551081577622681,-0.18233679591054483,1.9300794996362982,0.8010975462042897,0.04494910972956476,-0.207038023543942,-0.6972872700389012,-0.5940702673030951,0.6890166774265801,-0.3998720623215428,-0.10186489092408647,1.0027172900847539,-0.5954361707244198,0.04460773581185214,1.256368426387719,-0.5154142888940284,1.1857113392746585,-2.4509670993508643,0.9373546537978297,0.5984696230358664,0.27626465858337,-2.7665607509274386,1.6223898700606318,0.24423475272936285,-1.8266112904577037,-0.7138266481612217,1.0014417883675846,1.1341617529648378,0.3180808897615708,0.5378767026560349,-0.859297967546852,0.6747795131843112,1.7037331635993773,0.9489888039410239,0.31216455323091397,-1.3042911982909864,0.8269244602790404,1.3131589102817827,1.5488966104292863,0.7881848283970893,-0.8910582719771708,0.6770044385568382,-2.0340667807149764,0.7001160828398248,1.3261385488710393,-0.010833375248821029,-0.559291609474772,-1.3364470053901067,-1.6486901546375117,-0.17071337030065223,-0.03064229116044874,1.9445332338356134,-0.22938897043058815,-1.213006780356858],\"yaxis\":\"y15\"},{\"histfunc\":\"count\",\"histnorm\":\"\",\"marker\":{\"color\":\"rgba(128, 0, 128, 1.0)\",\"line\":{\"color\":\"#4D5663\",\"width\":1.3}},\"name\":\"D\",\"nbinsx\":10,\"opacity\":0.8,\"orientation\":\"v\",\"type\":\"histogram\",\"x\":[-0.2548647289377369,0.11991083560609044,-0.027370511556095847,-1.7174128968207305,1.6014785885643945,0.42264485714417827,0.8715801933462936,0.44983548332217,1.2462303551447877,-1.0140229129473624,-0.252475622333703,0.7080988324831506,0.8228019416718878,-1.0045478552813947,0.2072548084506301,-0.29913829858796315,-0.03276382842884846,-0.13929077045059887,-0.6522861959715183,-0.3592447282720758,1.4344607526326083,-1.720646867383011,-0.547978572575142,-0.7484230729429161,0.41267110770184945,0.16436180137627124,0.17954912369447668,0.7292926737251676,0.06396691962014875,1.2810709654663168,-1.8200534050596084,-1.302036013698075,-0.43926733896447034,1.1877455332772344,0.15553191104842912,-2.0950660332609505,1.4076178031342554,-0.4593918386360639,-2.0667302336893316,-0.2612965085583921,-0.22090392480296983,0.18305151335149294,1.3926286274046134,1.1816856055752736,1.1999409011816575,-0.43386007103477353,-0.11551081577622681,-0.18233679591054483,1.9300794996362982,0.8010975462042897,0.04494910972956476,-0.207038023543942,-0.6972872700389012,-0.5940702673030951,0.6890166774265801,-0.3998720623215428,-0.10186489092408647,1.0027172900847539,-0.5954361707244198,0.04460773581185214,1.256368426387719,-0.5154142888940284,1.1857113392746585,-2.4509670993508643,0.9373546537978297,0.5984696230358664,0.27626465858337,-2.7665607509274386,1.6223898700606318,0.24423475272936285,-1.8266112904577037,-0.7138266481612217,1.0014417883675846,1.1341617529648378,0.3180808897615708,0.5378767026560349,-0.859297967546852,0.6747795131843112,1.7037331635993773,0.9489888039410239,0.31216455323091397,-1.3042911982909864,0.8269244602790404,1.3131589102817827,1.5488966104292863,0.7881848283970893,-0.8910582719771708,0.6770044385568382,-2.0340667807149764,0.7001160828398248,1.3261385488710393,-0.010833375248821029,-0.559291609474772,-1.3364470053901067,-1.6486901546375117,-0.17071337030065223,-0.03064229116044874,1.9445332338356134,-0.22938897043058815,-1.213006780356858],\"xaxis\":\"x16\",\"yaxis\":\"y16\"}],                        {\"bargap\":0.02,\"legend\":{\"bgcolor\":\"#F5F6F9\",\"font\":{\"color\":\"#4D5663\"}},\"paper_bgcolor\":\"#F5F6F9\",\"plot_bgcolor\":\"#F5F6F9\",\"showlegend\":false,\"template\":{\"data\":{\"bar\":[{\"error_x\":{\"color\":\"#2a3f5f\"},\"error_y\":{\"color\":\"#2a3f5f\"},\"marker\":{\"line\":{\"color\":\"#E5ECF6\",\"width\":0.5},\"pattern\":{\"fillmode\":\"overlay\",\"size\":10,\"solidity\":0.2}},\"type\":\"bar\"}],\"barpolar\":[{\"marker\":{\"line\":{\"color\":\"#E5ECF6\",\"width\":0.5},\"pattern\":{\"fillmode\":\"overlay\",\"size\":10,\"solidity\":0.2}},\"type\":\"barpolar\"}],\"carpet\":[{\"aaxis\":{\"endlinecolor\":\"#2a3f5f\",\"gridcolor\":\"white\",\"linecolor\":\"white\",\"minorgridcolor\":\"white\",\"startlinecolor\":\"#2a3f5f\"},\"baxis\":{\"endlinecolor\":\"#2a3f5f\",\"gridcolor\":\"white\",\"linecolor\":\"white\",\"minorgridcolor\":\"white\",\"startlinecolor\":\"#2a3f5f\"},\"type\":\"carpet\"}],\"choropleth\":[{\"colorbar\":{\"outlinewidth\":0,\"ticks\":\"\"},\"type\":\"choropleth\"}],\"contour\":[{\"colorbar\":{\"outlinewidth\":0,\"ticks\":\"\"},\"colorscale\":[[0.0,\"#0d0887\"],[0.1111111111111111,\"#46039f\"],[0.2222222222222222,\"#7201a8\"],[0.3333333333333333,\"#9c179e\"],[0.4444444444444444,\"#bd3786\"],[0.5555555555555556,\"#d8576b\"],[0.6666666666666666,\"#ed7953\"],[0.7777777777777778,\"#fb9f3a\"],[0.8888888888888888,\"#fdca26\"],[1.0,\"#f0f921\"]],\"type\":\"contour\"}],\"contourcarpet\":[{\"colorbar\":{\"outlinewidth\":0,\"ticks\":\"\"},\"type\":\"contourcarpet\"}],\"heatmap\":[{\"colorbar\":{\"outlinewidth\":0,\"ticks\":\"\"},\"colorscale\":[[0.0,\"#0d0887\"],[0.1111111111111111,\"#46039f\"],[0.2222222222222222,\"#7201a8\"],[0.3333333333333333,\"#9c179e\"],[0.4444444444444444,\"#bd3786\"],[0.5555555555555556,\"#d8576b\"],[0.6666666666666666,\"#ed7953\"],[0.7777777777777778,\"#fb9f3a\"],[0.8888888888888888,\"#fdca26\"],[1.0,\"#f0f921\"]],\"type\":\"heatmap\"}],\"heatmapgl\":[{\"colorbar\":{\"outlinewidth\":0,\"ticks\":\"\"},\"colorscale\":[[0.0,\"#0d0887\"],[0.1111111111111111,\"#46039f\"],[0.2222222222222222,\"#7201a8\"],[0.3333333333333333,\"#9c179e\"],[0.4444444444444444,\"#bd3786\"],[0.5555555555555556,\"#d8576b\"],[0.6666666666666666,\"#ed7953\"],[0.7777777777777778,\"#fb9f3a\"],[0.8888888888888888,\"#fdca26\"],[1.0,\"#f0f921\"]],\"type\":\"heatmapgl\"}],\"histogram\":[{\"marker\":{\"pattern\":{\"fillmode\":\"overlay\",\"size\":10,\"solidity\":0.2}},\"type\":\"histogram\"}],\"histogram2d\":[{\"colorbar\":{\"outlinewidth\":0,\"ticks\":\"\"},\"colorscale\":[[0.0,\"#0d0887\"],[0.1111111111111111,\"#46039f\"],[0.2222222222222222,\"#7201a8\"],[0.3333333333333333,\"#9c179e\"],[0.4444444444444444,\"#bd3786\"],[0.5555555555555556,\"#d8576b\"],[0.6666666666666666,\"#ed7953\"],[0.7777777777777778,\"#fb9f3a\"],[0.8888888888888888,\"#fdca26\"],[1.0,\"#f0f921\"]],\"type\":\"histogram2d\"}],\"histogram2dcontour\":[{\"colorbar\":{\"outlinewidth\":0,\"ticks\":\"\"},\"colorscale\":[[0.0,\"#0d0887\"],[0.1111111111111111,\"#46039f\"],[0.2222222222222222,\"#7201a8\"],[0.3333333333333333,\"#9c179e\"],[0.4444444444444444,\"#bd3786\"],[0.5555555555555556,\"#d8576b\"],[0.6666666666666666,\"#ed7953\"],[0.7777777777777778,\"#fb9f3a\"],[0.8888888888888888,\"#fdca26\"],[1.0,\"#f0f921\"]],\"type\":\"histogram2dcontour\"}],\"mesh3d\":[{\"colorbar\":{\"outlinewidth\":0,\"ticks\":\"\"},\"type\":\"mesh3d\"}],\"parcoords\":[{\"line\":{\"colorbar\":{\"outlinewidth\":0,\"ticks\":\"\"}},\"type\":\"parcoords\"}],\"pie\":[{\"automargin\":true,\"type\":\"pie\"}],\"scatter\":[{\"marker\":{\"colorbar\":{\"outlinewidth\":0,\"ticks\":\"\"}},\"type\":\"scatter\"}],\"scatter3d\":[{\"line\":{\"colorbar\":{\"outlinewidth\":0,\"ticks\":\"\"}},\"marker\":{\"colorbar\":{\"outlinewidth\":0,\"ticks\":\"\"}},\"type\":\"scatter3d\"}],\"scattercarpet\":[{\"marker\":{\"colorbar\":{\"outlinewidth\":0,\"ticks\":\"\"}},\"type\":\"scattercarpet\"}],\"scattergeo\":[{\"marker\":{\"colorbar\":{\"outlinewidth\":0,\"ticks\":\"\"}},\"type\":\"scattergeo\"}],\"scattergl\":[{\"marker\":{\"colorbar\":{\"outlinewidth\":0,\"ticks\":\"\"}},\"type\":\"scattergl\"}],\"scattermapbox\":[{\"marker\":{\"colorbar\":{\"outlinewidth\":0,\"ticks\":\"\"}},\"type\":\"scattermapbox\"}],\"scatterpolar\":[{\"marker\":{\"colorbar\":{\"outlinewidth\":0,\"ticks\":\"\"}},\"type\":\"scatterpolar\"}],\"scatterpolargl\":[{\"marker\":{\"colorbar\":{\"outlinewidth\":0,\"ticks\":\"\"}},\"type\":\"scatterpolargl\"}],\"scatterternary\":[{\"marker\":{\"colorbar\":{\"outlinewidth\":0,\"ticks\":\"\"}},\"type\":\"scatterternary\"}],\"surface\":[{\"colorbar\":{\"outlinewidth\":0,\"ticks\":\"\"},\"colorscale\":[[0.0,\"#0d0887\"],[0.1111111111111111,\"#46039f\"],[0.2222222222222222,\"#7201a8\"],[0.3333333333333333,\"#9c179e\"],[0.4444444444444444,\"#bd3786\"],[0.5555555555555556,\"#d8576b\"],[0.6666666666666666,\"#ed7953\"],[0.7777777777777778,\"#fb9f3a\"],[0.8888888888888888,\"#fdca26\"],[1.0,\"#f0f921\"]],\"type\":\"surface\"}],\"table\":[{\"cells\":{\"fill\":{\"color\":\"#EBF0F8\"},\"line\":{\"color\":\"white\"}},\"header\":{\"fill\":{\"color\":\"#C8D4E3\"},\"line\":{\"color\":\"white\"}},\"type\":\"table\"}]},\"layout\":{\"annotationdefaults\":{\"arrowcolor\":\"#2a3f5f\",\"arrowhead\":0,\"arrowwidth\":1},\"autotypenumbers\":\"strict\",\"coloraxis\":{\"colorbar\":{\"outlinewidth\":0,\"ticks\":\"\"}},\"colorscale\":{\"diverging\":[[0,\"#8e0152\"],[0.1,\"#c51b7d\"],[0.2,\"#de77ae\"],[0.3,\"#f1b6da\"],[0.4,\"#fde0ef\"],[0.5,\"#f7f7f7\"],[0.6,\"#e6f5d0\"],[0.7,\"#b8e186\"],[0.8,\"#7fbc41\"],[0.9,\"#4d9221\"],[1,\"#276419\"]],\"sequential\":[[0.0,\"#0d0887\"],[0.1111111111111111,\"#46039f\"],[0.2222222222222222,\"#7201a8\"],[0.3333333333333333,\"#9c179e\"],[0.4444444444444444,\"#bd3786\"],[0.5555555555555556,\"#d8576b\"],[0.6666666666666666,\"#ed7953\"],[0.7777777777777778,\"#fb9f3a\"],[0.8888888888888888,\"#fdca26\"],[1.0,\"#f0f921\"]],\"sequentialminus\":[[0.0,\"#0d0887\"],[0.1111111111111111,\"#46039f\"],[0.2222222222222222,\"#7201a8\"],[0.3333333333333333,\"#9c179e\"],[0.4444444444444444,\"#bd3786\"],[0.5555555555555556,\"#d8576b\"],[0.6666666666666666,\"#ed7953\"],[0.7777777777777778,\"#fb9f3a\"],[0.8888888888888888,\"#fdca26\"],[1.0,\"#f0f921\"]]},\"colorway\":[\"#636efa\",\"#EF553B\",\"#00cc96\",\"#ab63fa\",\"#FFA15A\",\"#19d3f3\",\"#FF6692\",\"#B6E880\",\"#FF97FF\",\"#FECB52\"],\"font\":{\"color\":\"#2a3f5f\"},\"geo\":{\"bgcolor\":\"white\",\"lakecolor\":\"white\",\"landcolor\":\"#E5ECF6\",\"showlakes\":true,\"showland\":true,\"subunitcolor\":\"white\"},\"hoverlabel\":{\"align\":\"left\"},\"hovermode\":\"closest\",\"mapbox\":{\"style\":\"light\"},\"paper_bgcolor\":\"white\",\"plot_bgcolor\":\"#E5ECF6\",\"polar\":{\"angularaxis\":{\"gridcolor\":\"white\",\"linecolor\":\"white\",\"ticks\":\"\"},\"bgcolor\":\"#E5ECF6\",\"radialaxis\":{\"gridcolor\":\"white\",\"linecolor\":\"white\",\"ticks\":\"\"}},\"scene\":{\"xaxis\":{\"backgroundcolor\":\"#E5ECF6\",\"gridcolor\":\"white\",\"gridwidth\":2,\"linecolor\":\"white\",\"showbackground\":true,\"ticks\":\"\",\"zerolinecolor\":\"white\"},\"yaxis\":{\"backgroundcolor\":\"#E5ECF6\",\"gridcolor\":\"white\",\"gridwidth\":2,\"linecolor\":\"white\",\"showbackground\":true,\"ticks\":\"\",\"zerolinecolor\":\"white\"},\"zaxis\":{\"backgroundcolor\":\"#E5ECF6\",\"gridcolor\":\"white\",\"gridwidth\":2,\"linecolor\":\"white\",\"showbackground\":true,\"ticks\":\"\",\"zerolinecolor\":\"white\"}},\"shapedefaults\":{\"line\":{\"color\":\"#2a3f5f\"}},\"ternary\":{\"aaxis\":{\"gridcolor\":\"white\",\"linecolor\":\"white\",\"ticks\":\"\"},\"baxis\":{\"gridcolor\":\"white\",\"linecolor\":\"white\",\"ticks\":\"\"},\"bgcolor\":\"#E5ECF6\",\"caxis\":{\"gridcolor\":\"white\",\"linecolor\":\"white\",\"ticks\":\"\"}},\"title\":{\"x\":0.05},\"xaxis\":{\"automargin\":true,\"gridcolor\":\"white\",\"linecolor\":\"white\",\"ticks\":\"\",\"title\":{\"standoff\":15},\"zerolinecolor\":\"white\",\"zerolinewidth\":2},\"yaxis\":{\"automargin\":true,\"gridcolor\":\"white\",\"linecolor\":\"white\",\"ticks\":\"\",\"title\":{\"standoff\":15},\"zerolinecolor\":\"white\",\"zerolinewidth\":2}}},\"title\":{\"font\":{\"color\":\"#4D5663\"}},\"xaxis\":{\"anchor\":\"y\",\"domain\":[0.0,0.2125],\"gridcolor\":\"#E1E5ED\",\"showgrid\":false,\"tickfont\":{\"color\":\"#4D5663\"},\"title\":{\"font\":{\"color\":\"#4D5663\"},\"text\":\"\"},\"zerolinecolor\":\"#E1E5ED\"},\"xaxis10\":{\"anchor\":\"y10\",\"domain\":[0.2625,0.475],\"gridcolor\":\"#E1E5ED\",\"showgrid\":false,\"tickfont\":{\"color\":\"#4D5663\"},\"title\":{\"font\":{\"color\":\"#4D5663\"},\"text\":\"\"},\"zerolinecolor\":\"#E1E5ED\"},\"xaxis11\":{\"anchor\":\"y11\",\"domain\":[0.525,0.7375],\"gridcolor\":\"#E1E5ED\",\"showgrid\":false,\"tickfont\":{\"color\":\"#4D5663\"},\"title\":{\"font\":{\"color\":\"#4D5663\"},\"text\":\"\"},\"zerolinecolor\":\"#E1E5ED\"},\"xaxis12\":{\"anchor\":\"y12\",\"domain\":[0.7875,1.0],\"gridcolor\":\"#E1E5ED\",\"showgrid\":false,\"tickfont\":{\"color\":\"#4D5663\"},\"title\":{\"font\":{\"color\":\"#4D5663\"},\"text\":\"\"},\"zerolinecolor\":\"#E1E5ED\"},\"xaxis13\":{\"anchor\":\"y13\",\"domain\":[0.0,0.2125],\"gridcolor\":\"#E1E5ED\",\"showgrid\":false,\"tickfont\":{\"color\":\"#4D5663\"},\"title\":{\"font\":{\"color\":\"#4D5663\"},\"text\":\"\"},\"zerolinecolor\":\"#E1E5ED\"},\"xaxis14\":{\"anchor\":\"y14\",\"domain\":[0.2625,0.475],\"gridcolor\":\"#E1E5ED\",\"showgrid\":false,\"tickfont\":{\"color\":\"#4D5663\"},\"title\":{\"font\":{\"color\":\"#4D5663\"},\"text\":\"\"},\"zerolinecolor\":\"#E1E5ED\"},\"xaxis15\":{\"anchor\":\"y15\",\"domain\":[0.525,0.7375],\"gridcolor\":\"#E1E5ED\",\"showgrid\":false,\"tickfont\":{\"color\":\"#4D5663\"},\"title\":{\"font\":{\"color\":\"#4D5663\"},\"text\":\"\"},\"zerolinecolor\":\"#E1E5ED\"},\"xaxis16\":{\"anchor\":\"y16\",\"domain\":[0.7875,1.0],\"gridcolor\":\"#E1E5ED\",\"showgrid\":false,\"tickfont\":{\"color\":\"#4D5663\"},\"title\":{\"font\":{\"color\":\"#4D5663\"},\"text\":\"\"},\"zerolinecolor\":\"#E1E5ED\"},\"xaxis2\":{\"anchor\":\"y2\",\"domain\":[0.2625,0.475],\"gridcolor\":\"#E1E5ED\",\"showgrid\":false,\"tickfont\":{\"color\":\"#4D5663\"},\"title\":{\"font\":{\"color\":\"#4D5663\"},\"text\":\"\"},\"zerolinecolor\":\"#E1E5ED\"},\"xaxis3\":{\"anchor\":\"y3\",\"domain\":[0.525,0.7375],\"gridcolor\":\"#E1E5ED\",\"showgrid\":false,\"tickfont\":{\"color\":\"#4D5663\"},\"title\":{\"font\":{\"color\":\"#4D5663\"},\"text\":\"\"},\"zerolinecolor\":\"#E1E5ED\"},\"xaxis4\":{\"anchor\":\"y4\",\"domain\":[0.7875,1.0],\"gridcolor\":\"#E1E5ED\",\"showgrid\":false,\"tickfont\":{\"color\":\"#4D5663\"},\"title\":{\"font\":{\"color\":\"#4D5663\"},\"text\":\"\"},\"zerolinecolor\":\"#E1E5ED\"},\"xaxis5\":{\"anchor\":\"y5\",\"domain\":[0.0,0.2125],\"gridcolor\":\"#E1E5ED\",\"showgrid\":false,\"tickfont\":{\"color\":\"#4D5663\"},\"title\":{\"font\":{\"color\":\"#4D5663\"},\"text\":\"\"},\"zerolinecolor\":\"#E1E5ED\"},\"xaxis6\":{\"anchor\":\"y6\",\"domain\":[0.2625,0.475],\"gridcolor\":\"#E1E5ED\",\"showgrid\":false,\"tickfont\":{\"color\":\"#4D5663\"},\"title\":{\"font\":{\"color\":\"#4D5663\"},\"text\":\"\"},\"zerolinecolor\":\"#E1E5ED\"},\"xaxis7\":{\"anchor\":\"y7\",\"domain\":[0.525,0.7375],\"gridcolor\":\"#E1E5ED\",\"showgrid\":false,\"tickfont\":{\"color\":\"#4D5663\"},\"title\":{\"font\":{\"color\":\"#4D5663\"},\"text\":\"\"},\"zerolinecolor\":\"#E1E5ED\"},\"xaxis8\":{\"anchor\":\"y8\",\"domain\":[0.7875,1.0],\"gridcolor\":\"#E1E5ED\",\"showgrid\":false,\"tickfont\":{\"color\":\"#4D5663\"},\"title\":{\"font\":{\"color\":\"#4D5663\"},\"text\":\"\"},\"zerolinecolor\":\"#E1E5ED\"},\"xaxis9\":{\"anchor\":\"y9\",\"domain\":[0.0,0.2125],\"gridcolor\":\"#E1E5ED\",\"showgrid\":false,\"tickfont\":{\"color\":\"#4D5663\"},\"title\":{\"font\":{\"color\":\"#4D5663\"},\"text\":\"\"},\"zerolinecolor\":\"#E1E5ED\"},\"yaxis\":{\"anchor\":\"x\",\"domain\":[0.8025,1.0],\"gridcolor\":\"#E1E5ED\",\"showgrid\":false,\"tickfont\":{\"color\":\"#4D5663\"},\"title\":{\"font\":{\"color\":\"#4D5663\"},\"text\":\"\"},\"zerolinecolor\":\"#E1E5ED\"},\"yaxis10\":{\"anchor\":\"x10\",\"domain\":[0.2675,0.465],\"gridcolor\":\"#E1E5ED\",\"showgrid\":false,\"tickfont\":{\"color\":\"#4D5663\"},\"title\":{\"font\":{\"color\":\"#4D5663\"},\"text\":\"\"},\"zerolinecolor\":\"#E1E5ED\"},\"yaxis11\":{\"anchor\":\"x11\",\"domain\":[0.2675,0.465],\"gridcolor\":\"#E1E5ED\",\"showgrid\":false,\"tickfont\":{\"color\":\"#4D5663\"},\"title\":{\"font\":{\"color\":\"#4D5663\"},\"text\":\"\"},\"zerolinecolor\":\"#E1E5ED\"},\"yaxis12\":{\"anchor\":\"x12\",\"domain\":[0.2675,0.465],\"gridcolor\":\"#E1E5ED\",\"showgrid\":false,\"tickfont\":{\"color\":\"#4D5663\"},\"title\":{\"font\":{\"color\":\"#4D5663\"},\"text\":\"\"},\"zerolinecolor\":\"#E1E5ED\"},\"yaxis13\":{\"anchor\":\"x13\",\"domain\":[0.0,0.1975],\"gridcolor\":\"#E1E5ED\",\"showgrid\":false,\"tickfont\":{\"color\":\"#4D5663\"},\"title\":{\"font\":{\"color\":\"#4D5663\"},\"text\":\"\"},\"zerolinecolor\":\"#E1E5ED\"},\"yaxis14\":{\"anchor\":\"x14\",\"domain\":[0.0,0.1975],\"gridcolor\":\"#E1E5ED\",\"showgrid\":false,\"tickfont\":{\"color\":\"#4D5663\"},\"title\":{\"font\":{\"color\":\"#4D5663\"},\"text\":\"\"},\"zerolinecolor\":\"#E1E5ED\"},\"yaxis15\":{\"anchor\":\"x15\",\"domain\":[0.0,0.1975],\"gridcolor\":\"#E1E5ED\",\"showgrid\":false,\"tickfont\":{\"color\":\"#4D5663\"},\"title\":{\"font\":{\"color\":\"#4D5663\"},\"text\":\"\"},\"zerolinecolor\":\"#E1E5ED\"},\"yaxis16\":{\"anchor\":\"x16\",\"domain\":[0.0,0.1975],\"gridcolor\":\"#E1E5ED\",\"showgrid\":false,\"tickfont\":{\"color\":\"#4D5663\"},\"title\":{\"font\":{\"color\":\"#4D5663\"},\"text\":\"\"},\"zerolinecolor\":\"#E1E5ED\"},\"yaxis2\":{\"anchor\":\"x2\",\"domain\":[0.8025,1.0],\"gridcolor\":\"#E1E5ED\",\"showgrid\":false,\"tickfont\":{\"color\":\"#4D5663\"},\"title\":{\"font\":{\"color\":\"#4D5663\"},\"text\":\"\"},\"zerolinecolor\":\"#E1E5ED\"},\"yaxis3\":{\"anchor\":\"x3\",\"domain\":[0.8025,1.0],\"gridcolor\":\"#E1E5ED\",\"showgrid\":false,\"tickfont\":{\"color\":\"#4D5663\"},\"title\":{\"font\":{\"color\":\"#4D5663\"},\"text\":\"\"},\"zerolinecolor\":\"#E1E5ED\"},\"yaxis4\":{\"anchor\":\"x4\",\"domain\":[0.8025,1.0],\"gridcolor\":\"#E1E5ED\",\"showgrid\":false,\"tickfont\":{\"color\":\"#4D5663\"},\"title\":{\"font\":{\"color\":\"#4D5663\"},\"text\":\"\"},\"zerolinecolor\":\"#E1E5ED\"},\"yaxis5\":{\"anchor\":\"x5\",\"domain\":[0.535,0.7325],\"gridcolor\":\"#E1E5ED\",\"showgrid\":false,\"tickfont\":{\"color\":\"#4D5663\"},\"title\":{\"font\":{\"color\":\"#4D5663\"},\"text\":\"\"},\"zerolinecolor\":\"#E1E5ED\"},\"yaxis6\":{\"anchor\":\"x6\",\"domain\":[0.535,0.7325],\"gridcolor\":\"#E1E5ED\",\"showgrid\":false,\"tickfont\":{\"color\":\"#4D5663\"},\"title\":{\"font\":{\"color\":\"#4D5663\"},\"text\":\"\"},\"zerolinecolor\":\"#E1E5ED\"},\"yaxis7\":{\"anchor\":\"x7\",\"domain\":[0.535,0.7325],\"gridcolor\":\"#E1E5ED\",\"showgrid\":false,\"tickfont\":{\"color\":\"#4D5663\"},\"title\":{\"font\":{\"color\":\"#4D5663\"},\"text\":\"\"},\"zerolinecolor\":\"#E1E5ED\"},\"yaxis8\":{\"anchor\":\"x8\",\"domain\":[0.535,0.7325],\"gridcolor\":\"#E1E5ED\",\"showgrid\":false,\"tickfont\":{\"color\":\"#4D5663\"},\"title\":{\"font\":{\"color\":\"#4D5663\"},\"text\":\"\"},\"zerolinecolor\":\"#E1E5ED\"},\"yaxis9\":{\"anchor\":\"x9\",\"domain\":[0.2675,0.465],\"gridcolor\":\"#E1E5ED\",\"showgrid\":false,\"tickfont\":{\"color\":\"#4D5663\"},\"title\":{\"font\":{\"color\":\"#4D5663\"},\"text\":\"\"},\"zerolinecolor\":\"#E1E5ED\"}},                        {\"showLink\": true, \"linkText\": \"Export to plot.ly\", \"plotlyServerURL\": \"https://plot.ly\", \"responsive\": true}                    ).then(function(){\n",
       "                            \n",
       "var gd = document.getElementById('0d1069f3-76d1-495a-86fd-455b4c75723a');\n",
       "var x = new MutationObserver(function (mutations, observer) {{\n",
       "        var display = window.getComputedStyle(gd).display;\n",
       "        if (!display || display === 'none') {{\n",
       "            console.log([gd, 'removed!']);\n",
       "            Plotly.purge(gd);\n",
       "            observer.disconnect();\n",
       "        }}\n",
       "}});\n",
       "\n",
       "// Listen for the removal of the full notebook cells\n",
       "var notebookContainer = gd.closest('#notebook-container');\n",
       "if (notebookContainer) {{\n",
       "    x.observe(notebookContainer, {childList: true});\n",
       "}}\n",
       "\n",
       "// Listen for the clearing of the current output cell\n",
       "var outputEl = gd.closest('.output');\n",
       "if (outputEl) {{\n",
       "    x.observe(outputEl, {childList: true});\n",
       "}}\n",
       "\n",
       "                        })                };                });            </script>        </div>"
      ]
     },
     "metadata": {},
     "output_type": "display_data"
    }
   ],
   "source": [
    "df.scatter_matrix()"
   ]
  },
  {
   "cell_type": "markdown",
   "metadata": {
    "collapsed": true,
    "id": "ERh7chGOJLzc"
   },
   "source": [
    "# Buen trabajo!"
   ]
  }
 ],
 "metadata": {
  "colab": {
   "name": "01-Plotly y Cufflinks.ipynb",
   "provenance": []
  },
  "kernelspec": {
   "display_name": "Python 3",
   "language": "python",
   "name": "python3"
  },
  "language_info": {
   "codemirror_mode": {
    "name": "ipython",
    "version": 3
   },
   "file_extension": ".py",
   "mimetype": "text/x-python",
   "name": "python",
   "nbconvert_exporter": "python",
   "pygments_lexer": "ipython3",
   "version": "3.8.8"
  }
 },
 "nbformat": 4,
 "nbformat_minor": 1
}
