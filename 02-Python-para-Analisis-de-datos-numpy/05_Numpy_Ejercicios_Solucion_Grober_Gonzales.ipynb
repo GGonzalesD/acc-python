{
  "nbformat": 4,
  "nbformat_minor": 0,
  "metadata": {
    "kernelspec": {
      "display_name": "Python 3",
      "language": "python",
      "name": "python3"
    },
    "language_info": {
      "codemirror_mode": {
        "name": "ipython",
        "version": 3
      },
      "file_extension": ".py",
      "mimetype": "text/x-python",
      "name": "python",
      "nbconvert_exporter": "python",
      "pygments_lexer": "ipython3",
      "version": "3.8.5"
    },
    "colab": {
      "name": "05-Numpy Ejercicios Solucion-Grober-Gonzales.ipynb",
      "provenance": [],
      "collapsed_sections": []
    }
  },
  "cells": [
    {
      "cell_type": "markdown",
      "metadata": {
        "id": "cqrmxrNuPehr"
      },
      "source": [
        "___\n",
        "\n",
        "<a href='https://jupyter-notebook.readthedocs.io/en/stable/examples/Notebook/Running%20Code.html'> <img src='https://www.python.org/static/img/python-logo.png' /></a>\n",
        "___"
      ]
    },
    {
      "cell_type": "markdown",
      "metadata": {
        "id": "shvyXBsTPehx"
      },
      "source": [
        "# NumPy Ejercicios\n",
        "\n",
        "Ahora que hemos aprendido sobre NumPy, probemos los conocimientos. Comenzaremos con algunas tareas simples y luego se harán algunas preguntas más complicadas."
      ]
    },
    {
      "cell_type": "markdown",
      "metadata": {
        "id": "D2KMCKEWPehy"
      },
      "source": [
        "#### Importar NumPy como np"
      ]
    },
    {
      "cell_type": "code",
      "metadata": {
        "collapsed": true,
        "id": "su1KiAiqPehy"
      },
      "source": [
        "import numpy as np"
      ],
      "execution_count": 1,
      "outputs": []
    },
    {
      "cell_type": "markdown",
      "metadata": {
        "id": "OUSV_KOEPehz"
      },
      "source": [
        "#### Crear un array de 10 zeros "
      ]
    },
    {
      "cell_type": "code",
      "metadata": {
        "colab": {
          "base_uri": "https://localhost:8080/"
        },
        "id": "TZaYEzCHPehz",
        "outputId": "05b4dffb-a6f4-4c68-ee51-002574cd12dd"
      },
      "source": [
        "np.zeros(10)"
      ],
      "execution_count": 3,
      "outputs": [
        {
          "output_type": "execute_result",
          "data": {
            "text/plain": [
              "array([0., 0., 0., 0., 0., 0., 0., 0., 0., 0.])"
            ]
          },
          "metadata": {},
          "execution_count": 3
        }
      ]
    },
    {
      "cell_type": "markdown",
      "metadata": {
        "id": "ycaHYhaSPeh0"
      },
      "source": [
        "#### Crear un array de 10 ones"
      ]
    },
    {
      "cell_type": "code",
      "metadata": {
        "colab": {
          "base_uri": "https://localhost:8080/"
        },
        "id": "hzBMulcgPeh1",
        "outputId": "5b9c99c7-60b5-488f-ec7d-acb510214c30"
      },
      "source": [
        "np.ones(10)"
      ],
      "execution_count": 4,
      "outputs": [
        {
          "output_type": "execute_result",
          "data": {
            "text/plain": [
              "array([1., 1., 1., 1., 1., 1., 1., 1., 1., 1.])"
            ]
          },
          "metadata": {},
          "execution_count": 4
        }
      ]
    },
    {
      "cell_type": "markdown",
      "metadata": {
        "id": "2pq5oRysPeh1"
      },
      "source": [
        "#### Crear un array de 10 cincos"
      ]
    },
    {
      "cell_type": "code",
      "metadata": {
        "colab": {
          "base_uri": "https://localhost:8080/"
        },
        "id": "x4bOVHyFPeh1",
        "outputId": "a33e8fbe-2838-42c3-c50f-4dcaeda04155"
      },
      "source": [
        "np.ones(10)*5"
      ],
      "execution_count": 5,
      "outputs": [
        {
          "output_type": "execute_result",
          "data": {
            "text/plain": [
              "array([5., 5., 5., 5., 5., 5., 5., 5., 5., 5.])"
            ]
          },
          "metadata": {},
          "execution_count": 5
        }
      ]
    },
    {
      "cell_type": "markdown",
      "metadata": {
        "id": "D5f3tDQBPeh2"
      },
      "source": [
        "#### Crear un array de enteros desde 10 a 50"
      ]
    },
    {
      "cell_type": "code",
      "metadata": {
        "colab": {
          "base_uri": "https://localhost:8080/"
        },
        "id": "k2_6u-IhPeh2",
        "outputId": "634d15c6-fe52-4d73-e5f6-fe3834a2afaa"
      },
      "source": [
        "np.arange(10, 50+1)"
      ],
      "execution_count": 7,
      "outputs": [
        {
          "output_type": "execute_result",
          "data": {
            "text/plain": [
              "array([10, 11, 12, 13, 14, 15, 16, 17, 18, 19, 20, 21, 22, 23, 24, 25, 26,\n",
              "       27, 28, 29, 30, 31, 32, 33, 34, 35, 36, 37, 38, 39, 40, 41, 42, 43,\n",
              "       44, 45, 46, 47, 48, 49, 50])"
            ]
          },
          "metadata": {},
          "execution_count": 7
        }
      ]
    },
    {
      "cell_type": "markdown",
      "metadata": {
        "id": "7qRgKRIdPeh2"
      },
      "source": [
        "#### Cree una matriz de todos los enteros pares del 10 al 50"
      ]
    },
    {
      "cell_type": "code",
      "metadata": {
        "colab": {
          "base_uri": "https://localhost:8080/"
        },
        "id": "F_LzL_U0Peh3",
        "outputId": "c5d5db3d-8d11-4b65-ac28-416c66f85a55"
      },
      "source": [
        "np.arange(10, 51, 2)"
      ],
      "execution_count": 9,
      "outputs": [
        {
          "output_type": "execute_result",
          "data": {
            "text/plain": [
              "array([10, 12, 14, 16, 18, 20, 22, 24, 26, 28, 30, 32, 34, 36, 38, 40, 42,\n",
              "       44, 46, 48, 50])"
            ]
          },
          "metadata": {},
          "execution_count": 9
        }
      ]
    },
    {
      "cell_type": "markdown",
      "metadata": {
        "id": "S_-A7NlYPeh3"
      },
      "source": [
        "#### Cree una matriz de 3x3 con valores que van de 0 a 8"
      ]
    },
    {
      "cell_type": "code",
      "metadata": {
        "colab": {
          "base_uri": "https://localhost:8080/"
        },
        "id": "0QKDPbs4Peh3",
        "outputId": "eb994d5b-46fa-422e-e9c0-c136701c2871"
      },
      "source": [
        "np.arange(9).reshape(3, 3)"
      ],
      "execution_count": 23,
      "outputs": [
        {
          "output_type": "execute_result",
          "data": {
            "text/plain": [
              "array([[0, 1, 2],\n",
              "       [3, 4, 5],\n",
              "       [6, 7, 8]])"
            ]
          },
          "metadata": {},
          "execution_count": 23
        }
      ]
    },
    {
      "cell_type": "markdown",
      "metadata": {
        "id": "-LlayS21Peh4"
      },
      "source": [
        "#### Crear una matriz de identidad de 3x3"
      ]
    },
    {
      "cell_type": "code",
      "metadata": {
        "colab": {
          "base_uri": "https://localhost:8080/"
        },
        "id": "GPuqAC0JPeh4",
        "outputId": "66239fd1-a460-46ad-e585-0507f52601ee"
      },
      "source": [
        "np.eye(3)"
      ],
      "execution_count": 13,
      "outputs": [
        {
          "output_type": "execute_result",
          "data": {
            "text/plain": [
              "array([[1., 0., 0.],\n",
              "       [0., 1., 0.],\n",
              "       [0., 0., 1.]])"
            ]
          },
          "metadata": {},
          "execution_count": 13
        }
      ]
    },
    {
      "cell_type": "markdown",
      "metadata": {
        "id": "lm1AEUKxPeh4"
      },
      "source": [
        "#### Use NumPy para generar un número aleatorio entre 0 y 1"
      ]
    },
    {
      "cell_type": "code",
      "metadata": {
        "colab": {
          "base_uri": "https://localhost:8080/"
        },
        "id": "ssg5dJLHPeh5",
        "outputId": "21f0b41f-3ba4-43b3-dbe3-27aaab7690be"
      },
      "source": [
        "np.random.rand()"
      ],
      "execution_count": 14,
      "outputs": [
        {
          "output_type": "execute_result",
          "data": {
            "text/plain": [
              "0.9242713878602294"
            ]
          },
          "metadata": {},
          "execution_count": 14
        }
      ]
    },
    {
      "cell_type": "markdown",
      "metadata": {
        "id": "5nMDDYeYPeh5"
      },
      "source": [
        "#### Utilice NumPy para generar una matriz de 25 números aleatorios muestreados a partir de una distribución normal estándar"
      ]
    },
    {
      "cell_type": "code",
      "metadata": {
        "colab": {
          "base_uri": "https://localhost:8080/"
        },
        "id": "EhmbKKQFPeh5",
        "outputId": "aaca543b-9c5e-4777-fb38-bf704baf87d9"
      },
      "source": [
        "np.random.randn(25)"
      ],
      "execution_count": 18,
      "outputs": [
        {
          "output_type": "execute_result",
          "data": {
            "text/plain": [
              "array([-0.62842286, -0.07670012,  0.82555146, -1.11169985,  0.17045706,\n",
              "        0.51545056,  0.54769023,  0.53715605,  1.45422731, -0.18655058,\n",
              "        0.49222353,  0.43013458,  0.39502548, -0.67260434, -2.57026938,\n",
              "       -1.93019263,  1.48909413, -0.17667327,  0.50149922,  0.78064711,\n",
              "        0.28621265, -0.68804216,  0.01044793,  0.57174362, -0.98975769])"
            ]
          },
          "metadata": {},
          "execution_count": 18
        }
      ]
    },
    {
      "cell_type": "markdown",
      "metadata": {
        "id": "XQTPyuYePeh5"
      },
      "source": [
        "#### Cree la siguiente matriz:"
      ]
    },
    {
      "cell_type": "code",
      "metadata": {
        "colab": {
          "base_uri": "https://localhost:8080/"
        },
        "id": "KC0wmwl6Peh6",
        "outputId": "77033d5c-84dd-41e3-8dc9-c7351749ebd1"
      },
      "source": [
        "np.linspace(0.01, 1, 100)"
      ],
      "execution_count": 21,
      "outputs": [
        {
          "output_type": "execute_result",
          "data": {
            "text/plain": [
              "array([0.01, 0.02, 0.03, 0.04, 0.05, 0.06, 0.07, 0.08, 0.09, 0.1 , 0.11,\n",
              "       0.12, 0.13, 0.14, 0.15, 0.16, 0.17, 0.18, 0.19, 0.2 , 0.21, 0.22,\n",
              "       0.23, 0.24, 0.25, 0.26, 0.27, 0.28, 0.29, 0.3 , 0.31, 0.32, 0.33,\n",
              "       0.34, 0.35, 0.36, 0.37, 0.38, 0.39, 0.4 , 0.41, 0.42, 0.43, 0.44,\n",
              "       0.45, 0.46, 0.47, 0.48, 0.49, 0.5 , 0.51, 0.52, 0.53, 0.54, 0.55,\n",
              "       0.56, 0.57, 0.58, 0.59, 0.6 , 0.61, 0.62, 0.63, 0.64, 0.65, 0.66,\n",
              "       0.67, 0.68, 0.69, 0.7 , 0.71, 0.72, 0.73, 0.74, 0.75, 0.76, 0.77,\n",
              "       0.78, 0.79, 0.8 , 0.81, 0.82, 0.83, 0.84, 0.85, 0.86, 0.87, 0.88,\n",
              "       0.89, 0.9 , 0.91, 0.92, 0.93, 0.94, 0.95, 0.96, 0.97, 0.98, 0.99,\n",
              "       1.  ])"
            ]
          },
          "metadata": {},
          "execution_count": 21
        }
      ]
    },
    {
      "cell_type": "markdown",
      "metadata": {
        "id": "-3OswL4kPeh6"
      },
      "source": [
        "#### Cree una matriz de 20 puntos espaciados linealmente entre 0 y 1:"
      ]
    },
    {
      "cell_type": "code",
      "metadata": {
        "colab": {
          "base_uri": "https://localhost:8080/"
        },
        "id": "5xIdRU4vPeh6",
        "outputId": "ec47059c-62ec-4c04-cd1a-0d7e01a0f92e"
      },
      "source": [
        "np.linspace(0, 1, 20)"
      ],
      "execution_count": 22,
      "outputs": [
        {
          "output_type": "execute_result",
          "data": {
            "text/plain": [
              "array([0.        , 0.05263158, 0.10526316, 0.15789474, 0.21052632,\n",
              "       0.26315789, 0.31578947, 0.36842105, 0.42105263, 0.47368421,\n",
              "       0.52631579, 0.57894737, 0.63157895, 0.68421053, 0.73684211,\n",
              "       0.78947368, 0.84210526, 0.89473684, 0.94736842, 1.        ])"
            ]
          },
          "metadata": {},
          "execution_count": 22
        }
      ]
    },
    {
      "cell_type": "markdown",
      "metadata": {
        "id": "c1Hvzwd1Peh6"
      },
      "source": [
        "## Numpy Indexación y Selección\n",
        "\n",
        "Ahora se le darán algunas matrices y se le pedirá que replique los resultados de la matriz resultante:"
      ]
    },
    {
      "cell_type": "code",
      "metadata": {
        "colab": {
          "base_uri": "https://localhost:8080/"
        },
        "id": "iKzK3NbMPeh6",
        "outputId": "ce79e751-ae01-4495-bd3e-626f32848da1"
      },
      "source": [
        "mat = np.arange(1,26).reshape(5,5)\n",
        "mat"
      ],
      "execution_count": 24,
      "outputs": [
        {
          "output_type": "execute_result",
          "data": {
            "text/plain": [
              "array([[ 1,  2,  3,  4,  5],\n",
              "       [ 6,  7,  8,  9, 10],\n",
              "       [11, 12, 13, 14, 15],\n",
              "       [16, 17, 18, 19, 20],\n",
              "       [21, 22, 23, 24, 25]])"
            ]
          },
          "metadata": {},
          "execution_count": 24
        }
      ]
    },
    {
      "cell_type": "code",
      "metadata": {
        "collapsed": true,
        "id": "1zpW3KBKPeh7"
      },
      "source": [
        "# ESCRIBA AQUÍ EL CÓDIGO QUE REPRODUCE LA SALIDA DE LA CELDA A CONTINUACIÓN\n",
        "# TENER CUIDADO DE NO HACER FUNCIONAR LA CELDA ABAJO, DE LO CONTRARIO NO\n",
        "# PODRA VER LA SALIDA MÁS"
      ],
      "execution_count": null,
      "outputs": []
    },
    {
      "cell_type": "code",
      "metadata": {
        "colab": {
          "base_uri": "https://localhost:8080/"
        },
        "id": "khabuSbYRuOE",
        "outputId": "2a5a50ad-49a0-43de-cd35-1bcc436e0c4b"
      },
      "source": [
        "mat.T[1:].T.flatten()[8:].reshape(3, 4)"
      ],
      "execution_count": 52,
      "outputs": [
        {
          "output_type": "execute_result",
          "data": {
            "text/plain": [
              "array([[12, 13, 14, 15],\n",
              "       [17, 18, 19, 20],\n",
              "       [22, 23, 24, 25]])"
            ]
          },
          "metadata": {},
          "execution_count": 52
        }
      ]
    },
    {
      "cell_type": "code",
      "metadata": {
        "id": "8ssqeTsCPeh8",
        "outputId": "7991c207-0d09-411e-91df-c1c259c2c095"
      },
      "source": [
        ""
      ],
      "execution_count": null,
      "outputs": [
        {
          "data": {
            "text/plain": [
              "array([[12, 13, 14, 15],\n",
              "       [17, 18, 19, 20],\n",
              "       [22, 23, 24, 25]])"
            ]
          },
          "execution_count": 40,
          "metadata": {},
          "output_type": "execute_result"
        }
      ]
    },
    {
      "cell_type": "code",
      "metadata": {
        "collapsed": true,
        "id": "694iDd_OPeh8"
      },
      "source": [
        "# ESCRIBA AQUÍ EL CÓDIGO QUE REPRODUCE LA SALIDA DE LA CELDA A CONTINUACIÓN\n",
        "# TENER CUIDADO DE NO HACER FUNCIONAR LA CELDA ABAJO, DE LO CONTRARIO NO\n",
        "# PODRA VER LA SALIDA MÁS"
      ],
      "execution_count": null,
      "outputs": []
    },
    {
      "cell_type": "code",
      "metadata": {
        "colab": {
          "base_uri": "https://localhost:8080/"
        },
        "id": "zQ7r4QCTTaXJ",
        "outputId": "c4130689-e54e-45bc-d7c7-97204252adec"
      },
      "source": [
        "mat[3,4]"
      ],
      "execution_count": 58,
      "outputs": [
        {
          "output_type": "execute_result",
          "data": {
            "text/plain": [
              "20"
            ]
          },
          "metadata": {},
          "execution_count": 58
        }
      ]
    },
    {
      "cell_type": "code",
      "metadata": {
        "id": "Oj7oa9SEPeh8",
        "outputId": "76ea4aaf-39e7-480b-d077-f03f3ca97b1c"
      },
      "source": [
        ""
      ],
      "execution_count": null,
      "outputs": [
        {
          "data": {
            "text/plain": [
              "20"
            ]
          },
          "execution_count": 41,
          "metadata": {},
          "output_type": "execute_result"
        }
      ]
    },
    {
      "cell_type": "code",
      "metadata": {
        "collapsed": true,
        "id": "PVTYEiWUPeh8"
      },
      "source": [
        "# ESCRIBA AQUÍ EL CÓDIGO QUE REPRODUCE LA SALIDA DE LA CELDA A CONTINUACIÓN\n",
        "# TENER CUIDADO DE NO HACER FUNCIONAR LA CELDA ABAJO, DE LO CONTRARIO NO\n",
        "# PODRA VER LA SALIDA MÁS"
      ],
      "execution_count": null,
      "outputs": []
    },
    {
      "cell_type": "code",
      "metadata": {
        "colab": {
          "base_uri": "https://localhost:8080/"
        },
        "id": "9v9y6GbKTpW1",
        "outputId": "a88eba64-12bc-496c-f073-099a7ab7cd69"
      },
      "source": [
        "mat[:3].T[1].reshape(3, 1)"
      ],
      "execution_count": 64,
      "outputs": [
        {
          "output_type": "execute_result",
          "data": {
            "text/plain": [
              "array([[ 2],\n",
              "       [ 7],\n",
              "       [12]])"
            ]
          },
          "metadata": {},
          "execution_count": 64
        }
      ]
    },
    {
      "cell_type": "code",
      "metadata": {
        "id": "MapBLuN5Peh8",
        "outputId": "01624cac-dac6-4534-bde6-bcfce50f1904"
      },
      "source": [
        ""
      ],
      "execution_count": null,
      "outputs": [
        {
          "data": {
            "text/plain": [
              "array([[ 2],\n",
              "       [ 7],\n",
              "       [12]])"
            ]
          },
          "execution_count": 42,
          "metadata": {},
          "output_type": "execute_result"
        }
      ]
    },
    {
      "cell_type": "code",
      "metadata": {
        "collapsed": true,
        "id": "1v05ijnKPeh9"
      },
      "source": [
        "# ESCRIBA AQUÍ EL CÓDIGO QUE REPRODUCE LA SALIDA DE LA CELDA A CONTINUACIÓN\n",
        "# TENER CUIDADO DE NO HACER FUNCIONAR LA CELDA ABAJO, DE LO CONTRARIO NO\n",
        "# PODRA VER LA SALIDA MÁS"
      ],
      "execution_count": null,
      "outputs": []
    },
    {
      "cell_type": "code",
      "metadata": {
        "colab": {
          "base_uri": "https://localhost:8080/"
        },
        "id": "ZxZoIXXNT7GD",
        "outputId": "5bfbc8c3-c791-4759-f9c7-fbc986865ab1"
      },
      "source": [
        "mat[-1]"
      ],
      "execution_count": 68,
      "outputs": [
        {
          "output_type": "execute_result",
          "data": {
            "text/plain": [
              "array([21, 22, 23, 24, 25])"
            ]
          },
          "metadata": {},
          "execution_count": 68
        }
      ]
    },
    {
      "cell_type": "code",
      "metadata": {
        "id": "gvDNoxMSPeh9",
        "outputId": "07943050-3dbf-47b8-eae4-939e1c0cc7e0"
      },
      "source": [
        ""
      ],
      "execution_count": null,
      "outputs": [
        {
          "data": {
            "text/plain": [
              "array([21, 22, 23, 24, 25])"
            ]
          },
          "execution_count": 46,
          "metadata": {},
          "output_type": "execute_result"
        }
      ]
    },
    {
      "cell_type": "code",
      "metadata": {
        "collapsed": true,
        "id": "K9sPVELTPeh9"
      },
      "source": [
        "# ESCRIBA AQUÍ EL CÓDIGO QUE REPRODUCE LA SALIDA DE LA CELDA A CONTINUACIÓN\n",
        "# TENER CUIDADO DE NO HACER FUNCIONAR LA CELDA ABAJO, DE LO CONTRARIO NO\n",
        "# PODRA VER LA SALIDA MÁS"
      ],
      "execution_count": null,
      "outputs": []
    },
    {
      "cell_type": "code",
      "metadata": {
        "colab": {
          "base_uri": "https://localhost:8080/"
        },
        "id": "OeFjN5HcUKCF",
        "outputId": "ac0a923f-4b58-498d-a008-02181e3d3b7e"
      },
      "source": [
        "mat[3:]"
      ],
      "execution_count": 72,
      "outputs": [
        {
          "output_type": "execute_result",
          "data": {
            "text/plain": [
              "array([[16, 17, 18, 19, 20],\n",
              "       [21, 22, 23, 24, 25]])"
            ]
          },
          "metadata": {},
          "execution_count": 72
        }
      ]
    },
    {
      "cell_type": "code",
      "metadata": {
        "id": "QjdaAsJ1Peh9",
        "outputId": "d69957f4-a5ff-4930-821e-704e00046ddb"
      },
      "source": [
        ""
      ],
      "execution_count": null,
      "outputs": [
        {
          "data": {
            "text/plain": [
              "array([[16, 17, 18, 19, 20],\n",
              "       [21, 22, 23, 24, 25]])"
            ]
          },
          "execution_count": 49,
          "metadata": {},
          "output_type": "execute_result"
        }
      ]
    },
    {
      "cell_type": "markdown",
      "metadata": {
        "id": "X_5cyuLSPeh9"
      },
      "source": [
        "### Ahora hacer lo siguiente"
      ]
    },
    {
      "cell_type": "markdown",
      "metadata": {
        "id": "aVRR9JJhPeh-"
      },
      "source": [
        "#### Obtenga la suma de todos los valores en mat"
      ]
    },
    {
      "cell_type": "code",
      "metadata": {
        "colab": {
          "base_uri": "https://localhost:8080/"
        },
        "id": "UFWWzt81UQqQ",
        "outputId": "70ff229a-b914-44fb-9900-c1741a8e5c11"
      },
      "source": [
        "acc = 0\n",
        "for i in mat.flatten():\n",
        "    acc+=i\n",
        "acc"
      ],
      "execution_count": 77,
      "outputs": [
        {
          "output_type": "execute_result",
          "data": {
            "text/plain": [
              "325"
            ]
          },
          "metadata": {},
          "execution_count": 77
        }
      ]
    },
    {
      "cell_type": "code",
      "metadata": {
        "id": "V5-BclviPeh-",
        "outputId": "1b30135d-45b4-4742-a081-0da924530c92"
      },
      "source": [
        ""
      ],
      "execution_count": null,
      "outputs": [
        {
          "data": {
            "text/plain": [
              "325"
            ]
          },
          "execution_count": 50,
          "metadata": {},
          "output_type": "execute_result"
        }
      ]
    },
    {
      "cell_type": "markdown",
      "metadata": {
        "id": "OOEggkVZPeh-"
      },
      "source": [
        "#### Obtenga la desviación estándar de los valores en mat"
      ]
    },
    {
      "cell_type": "code",
      "metadata": {
        "colab": {
          "base_uri": "https://localhost:8080/"
        },
        "id": "iesCy4XWU287",
        "outputId": "4f5ca24d-93db-40a2-fcb7-2958a05c18bd"
      },
      "source": [
        "mat.std()"
      ],
      "execution_count": 79,
      "outputs": [
        {
          "output_type": "execute_result",
          "data": {
            "text/plain": [
              "7.211102550927978"
            ]
          },
          "metadata": {},
          "execution_count": 79
        }
      ]
    },
    {
      "cell_type": "code",
      "metadata": {
        "id": "crysK0HHPeh-",
        "outputId": "f62e78a5-a660-4a6c-acd4-83785aad4b36"
      },
      "source": [
        ""
      ],
      "execution_count": null,
      "outputs": [
        {
          "data": {
            "text/plain": [
              "7.2111025509279782"
            ]
          },
          "execution_count": 51,
          "metadata": {},
          "output_type": "execute_result"
        }
      ]
    },
    {
      "cell_type": "markdown",
      "metadata": {
        "id": "u6B6jAVWPeh-"
      },
      "source": [
        "#### Obtenga la suma de todas las columnas en mat"
      ]
    },
    {
      "cell_type": "code",
      "metadata": {
        "colab": {
          "base_uri": "https://localhost:8080/"
        },
        "id": "IcaMY2nmPeh-",
        "outputId": "70810ab2-8570-4633-ec62-a0331d367533"
      },
      "source": [
        "out = []\n",
        "for col in mat.T:\n",
        "    acc = 0\n",
        "    for j in col:\n",
        "        acc += j\n",
        "    out += [acc,]\n",
        "out"
      ],
      "execution_count": 82,
      "outputs": [
        {
          "output_type": "execute_result",
          "data": {
            "text/plain": [
              "[55, 60, 65, 70, 75]"
            ]
          },
          "metadata": {},
          "execution_count": 82
        }
      ]
    },
    {
      "cell_type": "markdown",
      "metadata": {
        "collapsed": true,
        "id": "Kjey_JRlPeh_"
      },
      "source": [
        "# Buen trabajo!"
      ]
    }
  ]
}