{
  "nbformat": 4,
  "nbformat_minor": 0,
  "metadata": {
    "colab": {
      "name": "ADI-01-Numpy-Arrays.ipynb",
      "provenance": []
    },
    "kernelspec": {
      "name": "python3",
      "display_name": "Python 3"
    },
    "language_info": {
      "name": "python"
    }
  },
  "cells": [
    {
      "cell_type": "code",
      "metadata": {
        "id": "6M4fhHjYBshZ"
      },
      "source": [
        "import numpy as np"
      ],
      "execution_count": null,
      "outputs": []
    },
    {
      "cell_type": "code",
      "metadata": {
        "colab": {
          "base_uri": "https://localhost:8080/"
        },
        "id": "u0zWlPdHCGrb",
        "outputId": "5134ce13-0087-4f10-a01b-ddb28c79706d"
      },
      "source": [
        "my_list = [1,2,3]\n",
        "my_list"
      ],
      "execution_count": null,
      "outputs": [
        {
          "output_type": "execute_result",
          "data": {
            "text/plain": [
              "[1, 2, 3]"
            ]
          },
          "metadata": {},
          "execution_count": 5
        }
      ]
    },
    {
      "cell_type": "code",
      "metadata": {
        "colab": {
          "base_uri": "https://localhost:8080/"
        },
        "id": "UsfN02MACJ5R",
        "outputId": "cb53e833-4afa-4967-d8fc-ef2232f6bcab"
      },
      "source": [
        "np.array(my_list)"
      ],
      "execution_count": null,
      "outputs": [
        {
          "output_type": "execute_result",
          "data": {
            "text/plain": [
              "array([1, 2, 3])"
            ]
          },
          "metadata": {},
          "execution_count": 6
        }
      ]
    },
    {
      "cell_type": "code",
      "metadata": {
        "colab": {
          "base_uri": "https://localhost:8080/"
        },
        "id": "SfZx4DYLCLO6",
        "outputId": "89e3a395-7c58-419b-aeb8-fe26525ecc68"
      },
      "source": [
        "my_matrix = [[1,2,3],[4,5,6],[7,8,9]]\n",
        "my_matrix"
      ],
      "execution_count": null,
      "outputs": [
        {
          "output_type": "execute_result",
          "data": {
            "text/plain": [
              "[[1, 2, 3], [4, 5, 6], [7, 8, 9]]"
            ]
          },
          "metadata": {},
          "execution_count": 7
        }
      ]
    },
    {
      "cell_type": "code",
      "metadata": {
        "colab": {
          "base_uri": "https://localhost:8080/"
        },
        "id": "9u9qZRlCCMLS",
        "outputId": "d1ebcc7f-83ad-445d-fbc1-658f0756337f"
      },
      "source": [
        "np.array(my_matrix)"
      ],
      "execution_count": null,
      "outputs": [
        {
          "output_type": "execute_result",
          "data": {
            "text/plain": [
              "array([[1, 2, 3],\n",
              "       [4, 5, 6],\n",
              "       [7, 8, 9]])"
            ]
          },
          "metadata": {},
          "execution_count": 8
        }
      ]
    },
    {
      "cell_type": "markdown",
      "metadata": {
        "id": "J237TFYwC0sS"
      },
      "source": [
        "# arange"
      ]
    },
    {
      "cell_type": "code",
      "metadata": {
        "colab": {
          "base_uri": "https://localhost:8080/"
        },
        "id": "fJrWjA7LCP3Q",
        "outputId": "c880b0cd-1f1f-46c7-911b-77eb1dab41af"
      },
      "source": [
        "np.arange(0,10)"
      ],
      "execution_count": null,
      "outputs": [
        {
          "output_type": "execute_result",
          "data": {
            "text/plain": [
              "array([0, 1, 2, 3, 4, 5, 6, 7, 8, 9])"
            ]
          },
          "metadata": {},
          "execution_count": 10
        }
      ]
    },
    {
      "cell_type": "code",
      "metadata": {
        "colab": {
          "base_uri": "https://localhost:8080/"
        },
        "id": "UR3JwEMECWoT",
        "outputId": "c8091b28-9a1d-4611-efd3-997b6c863b70"
      },
      "source": [
        "np.arange(0,11,2)"
      ],
      "execution_count": null,
      "outputs": [
        {
          "output_type": "execute_result",
          "data": {
            "text/plain": [
              "array([ 0,  2,  4,  6,  8, 10])"
            ]
          },
          "metadata": {},
          "execution_count": 11
        }
      ]
    },
    {
      "cell_type": "markdown",
      "metadata": {
        "id": "lBso1RHACvae"
      },
      "source": [
        "# zeros and ones"
      ]
    },
    {
      "cell_type": "code",
      "metadata": {
        "colab": {
          "base_uri": "https://localhost:8080/"
        },
        "id": "5VSsnH8bCba7",
        "outputId": "80970006-9fa1-401c-c9d4-f1c9cf0bb97e"
      },
      "source": [
        "np.zeros(3)"
      ],
      "execution_count": null,
      "outputs": [
        {
          "output_type": "execute_result",
          "data": {
            "text/plain": [
              "array([0., 0., 0.])"
            ]
          },
          "metadata": {},
          "execution_count": 12
        }
      ]
    },
    {
      "cell_type": "code",
      "metadata": {
        "colab": {
          "base_uri": "https://localhost:8080/"
        },
        "id": "HdjoM0UNCcuY",
        "outputId": "13d82210-dc0f-49be-d2a1-757d317ba4ce"
      },
      "source": [
        "np.zeros((5,5))"
      ],
      "execution_count": null,
      "outputs": [
        {
          "output_type": "execute_result",
          "data": {
            "text/plain": [
              "array([[0., 0., 0., 0., 0.],\n",
              "       [0., 0., 0., 0., 0.],\n",
              "       [0., 0., 0., 0., 0.],\n",
              "       [0., 0., 0., 0., 0.],\n",
              "       [0., 0., 0., 0., 0.]])"
            ]
          },
          "metadata": {},
          "execution_count": 13
        }
      ]
    },
    {
      "cell_type": "code",
      "metadata": {
        "colab": {
          "base_uri": "https://localhost:8080/"
        },
        "id": "-s3IOkLuChVp",
        "outputId": "1997f682-2399-4002-8b7d-dbc61f1c8e85"
      },
      "source": [
        "np.ones(3)"
      ],
      "execution_count": null,
      "outputs": [
        {
          "output_type": "execute_result",
          "data": {
            "text/plain": [
              "array([1., 1., 1.])"
            ]
          },
          "metadata": {},
          "execution_count": 15
        }
      ]
    },
    {
      "cell_type": "code",
      "metadata": {
        "colab": {
          "base_uri": "https://localhost:8080/"
        },
        "id": "5v0Uy7TUCjys",
        "outputId": "f18de845-9296-4cd4-dd42-0c0394e97f3a"
      },
      "source": [
        "np.ones((3,3))"
      ],
      "execution_count": null,
      "outputs": [
        {
          "output_type": "execute_result",
          "data": {
            "text/plain": [
              "array([[1., 1., 1.],\n",
              "       [1., 1., 1.],\n",
              "       [1., 1., 1.]])"
            ]
          },
          "metadata": {},
          "execution_count": 16
        }
      ]
    },
    {
      "cell_type": "markdown",
      "metadata": {
        "id": "-T8sxbjXCouL"
      },
      "source": [
        "# Linspace"
      ]
    },
    {
      "cell_type": "code",
      "metadata": {
        "colab": {
          "base_uri": "https://localhost:8080/"
        },
        "id": "1yjx62uKCkP1",
        "outputId": "43b5c8f7-782c-4fd9-ab72-c1185106430b"
      },
      "source": [
        "np.linspace(0,10,3)"
      ],
      "execution_count": null,
      "outputs": [
        {
          "output_type": "execute_result",
          "data": {
            "text/plain": [
              "array([ 0.,  5., 10.])"
            ]
          },
          "metadata": {},
          "execution_count": 17
        }
      ]
    },
    {
      "cell_type": "code",
      "metadata": {
        "colab": {
          "base_uri": "https://localhost:8080/"
        },
        "id": "eE-ol64FCoGc",
        "outputId": "614b7822-cbde-4ffe-f7f8-56c307d51d2a"
      },
      "source": [
        "np.linspace(0,10,50)"
      ],
      "execution_count": null,
      "outputs": [
        {
          "output_type": "execute_result",
          "data": {
            "text/plain": [
              "array([ 0.        ,  0.20408163,  0.40816327,  0.6122449 ,  0.81632653,\n",
              "        1.02040816,  1.2244898 ,  1.42857143,  1.63265306,  1.83673469,\n",
              "        2.04081633,  2.24489796,  2.44897959,  2.65306122,  2.85714286,\n",
              "        3.06122449,  3.26530612,  3.46938776,  3.67346939,  3.87755102,\n",
              "        4.08163265,  4.28571429,  4.48979592,  4.69387755,  4.89795918,\n",
              "        5.10204082,  5.30612245,  5.51020408,  5.71428571,  5.91836735,\n",
              "        6.12244898,  6.32653061,  6.53061224,  6.73469388,  6.93877551,\n",
              "        7.14285714,  7.34693878,  7.55102041,  7.75510204,  7.95918367,\n",
              "        8.16326531,  8.36734694,  8.57142857,  8.7755102 ,  8.97959184,\n",
              "        9.18367347,  9.3877551 ,  9.59183673,  9.79591837, 10.        ])"
            ]
          },
          "metadata": {},
          "execution_count": 18
        }
      ]
    },
    {
      "cell_type": "markdown",
      "metadata": {
        "id": "ZSL2EzNqDrlD"
      },
      "source": [
        "# eye\n"
      ]
    },
    {
      "cell_type": "code",
      "metadata": {
        "colab": {
          "base_uri": "https://localhost:8080/"
        },
        "id": "4fwnbvhFDsr_",
        "outputId": "f58eda76-d4d8-4aff-92cf-597c42796c26"
      },
      "source": [
        "np.eye(4)"
      ],
      "execution_count": null,
      "outputs": [
        {
          "output_type": "execute_result",
          "data": {
            "text/plain": [
              "array([[1., 0., 0., 0.],\n",
              "       [0., 1., 0., 0.],\n",
              "       [0., 0., 1., 0.],\n",
              "       [0., 0., 0., 1.]])"
            ]
          },
          "metadata": {},
          "execution_count": 24
        }
      ]
    },
    {
      "cell_type": "markdown",
      "metadata": {
        "id": "gwUddMcSEDV9"
      },
      "source": [
        "# random"
      ]
    },
    {
      "cell_type": "code",
      "metadata": {
        "colab": {
          "base_uri": "https://localhost:8080/"
        },
        "id": "zOwPnUeKEEao",
        "outputId": "0d168479-bf09-4678-fcfd-c48c69c4a507"
      },
      "source": [
        "np.random.rand(2)"
      ],
      "execution_count": null,
      "outputs": [
        {
          "output_type": "execute_result",
          "data": {
            "text/plain": [
              "array([0.74476081, 0.64604103])"
            ]
          },
          "metadata": {},
          "execution_count": 25
        }
      ]
    },
    {
      "cell_type": "code",
      "metadata": {
        "colab": {
          "base_uri": "https://localhost:8080/"
        },
        "id": "B-UlU2PyEGu_",
        "outputId": "c7688eb9-e0fb-444d-807e-b8daa76001b0"
      },
      "source": [
        "np.random.rand(5,5)"
      ],
      "execution_count": null,
      "outputs": [
        {
          "output_type": "execute_result",
          "data": {
            "text/plain": [
              "array([[0.39573148, 0.94688352, 0.3081953 , 0.43163756, 0.04381741],\n",
              "       [0.96136091, 0.22261835, 0.54273483, 0.01955282, 0.80679107],\n",
              "       [0.36961907, 0.76960596, 0.23942326, 0.97260823, 0.86951904],\n",
              "       [0.33675017, 0.51543349, 0.88872479, 0.53581341, 0.91290089],\n",
              "       [0.89896853, 0.48557144, 0.33216003, 0.12955716, 0.79417922]])"
            ]
          },
          "metadata": {},
          "execution_count": 26
        }
      ]
    },
    {
      "cell_type": "markdown",
      "metadata": {
        "id": "qZN9PHsiEm08"
      },
      "source": [
        "# randn"
      ]
    },
    {
      "cell_type": "code",
      "metadata": {
        "colab": {
          "base_uri": "https://localhost:8080/"
        },
        "id": "Da24aNxYEn_F",
        "outputId": "78ef15cd-253f-4dc6-9621-549810e515f4"
      },
      "source": [
        "np.random.randn(2)"
      ],
      "execution_count": null,
      "outputs": [
        {
          "output_type": "execute_result",
          "data": {
            "text/plain": [
              "array([-0.8271493 ,  0.45865114])"
            ]
          },
          "metadata": {},
          "execution_count": 27
        }
      ]
    },
    {
      "cell_type": "code",
      "metadata": {
        "colab": {
          "base_uri": "https://localhost:8080/"
        },
        "id": "Afntki0rEpuu",
        "outputId": "f2cf085e-69b7-4d10-e968-555a2cf75a76"
      },
      "source": [
        "np.random.randn(15,5)"
      ],
      "execution_count": null,
      "outputs": [
        {
          "output_type": "execute_result",
          "data": {
            "text/plain": [
              "array([[-0.34622295, -1.21110702,  1.68246028, -2.19223453,  0.69884811],\n",
              "       [-2.68600145, -1.03055092, -0.05063441, -0.26775407, -0.82256442],\n",
              "       [ 1.24678951, -0.75861361, -0.38511315,  0.2294485 , -0.30653533],\n",
              "       [ 0.90808933,  0.20215159,  0.25571069,  0.46376467, -1.15029472],\n",
              "       [-0.88472285,  0.13383141, -2.29181193, -0.04542133, -0.1552897 ],\n",
              "       [-0.77374211, -0.4835888 , -0.86250438,  1.17425754,  0.4239772 ],\n",
              "       [ 0.14954591, -0.79033342,  1.57953416,  1.38077102,  0.7592118 ],\n",
              "       [-0.14121745,  1.07972576,  0.17225335, -0.7241311 , -0.50444118],\n",
              "       [-0.53500784, -1.09786115,  0.67876148,  0.62482734,  0.2053729 ],\n",
              "       [ 1.25457381,  1.3412573 ,  0.46215195, -0.02636964,  1.17652074],\n",
              "       [ 1.09053786,  0.37660585, -0.35737347, -0.48324106, -2.06409798],\n",
              "       [ 0.58112076, -0.34335055, -0.96766481,  0.27848934,  0.66292995],\n",
              "       [-0.3493187 ,  2.17399941,  0.05542581, -1.00264577, -1.49541222],\n",
              "       [ 1.13050801, -1.36061454,  0.02334509, -1.63083473, -0.18598174],\n",
              "       [-0.945079  , -0.07390241, -1.13721993, -1.27661567,  0.14088708]])"
            ]
          },
          "metadata": {},
          "execution_count": 31
        }
      ]
    },
    {
      "cell_type": "markdown",
      "metadata": {
        "id": "B4QyP6dKEwVa"
      },
      "source": [
        "# randint"
      ]
    },
    {
      "cell_type": "code",
      "metadata": {
        "colab": {
          "base_uri": "https://localhost:8080/"
        },
        "id": "1yrUVbizEyeW",
        "outputId": "a36ec737-0f86-4948-bbe6-83ba30869b4a"
      },
      "source": [
        "np.random.randint(1,100)"
      ],
      "execution_count": null,
      "outputs": [
        {
          "output_type": "execute_result",
          "data": {
            "text/plain": [
              "12"
            ]
          },
          "metadata": {},
          "execution_count": 32
        }
      ]
    },
    {
      "cell_type": "code",
      "metadata": {
        "colab": {
          "base_uri": "https://localhost:8080/"
        },
        "id": "_-cYRtEkE0Oa",
        "outputId": "d51aed61-7dae-4125-91d4-5c6f63e87ef4"
      },
      "source": [
        "np.random.randint(1,100,10)"
      ],
      "execution_count": null,
      "outputs": [
        {
          "output_type": "execute_result",
          "data": {
            "text/plain": [
              "array([43, 75, 36, 93, 67, 35,  3, 30, 60, 54])"
            ]
          },
          "metadata": {},
          "execution_count": 33
        }
      ]
    },
    {
      "cell_type": "markdown",
      "metadata": {
        "id": "ULlkZGb3FOBE"
      },
      "source": [
        "# Array Attributes and Methods"
      ]
    },
    {
      "cell_type": "code",
      "metadata": {
        "id": "XhbUkrtgFPf-"
      },
      "source": [
        "arr = np.arange(25)\n",
        "ranarr = np.random.randint(0,50,10)"
      ],
      "execution_count": null,
      "outputs": []
    },
    {
      "cell_type": "code",
      "metadata": {
        "colab": {
          "base_uri": "https://localhost:8080/"
        },
        "id": "i2T-MOMCFRa_",
        "outputId": "6bd4b0e9-68b3-4643-f365-834379ce6a48"
      },
      "source": [
        "arr"
      ],
      "execution_count": null,
      "outputs": [
        {
          "output_type": "execute_result",
          "data": {
            "text/plain": [
              "array([ 0,  1,  2,  3,  4,  5,  6,  7,  8,  9, 10, 11, 12, 13, 14, 15, 16,\n",
              "       17, 18, 19, 20, 21, 22, 23, 24])"
            ]
          },
          "metadata": {},
          "execution_count": 35
        }
      ]
    },
    {
      "cell_type": "code",
      "metadata": {
        "colab": {
          "base_uri": "https://localhost:8080/"
        },
        "id": "Eqzz4-mIFTH-",
        "outputId": "d9f188f9-8149-4249-a202-e0f467ec3ca2"
      },
      "source": [
        "ranarr"
      ],
      "execution_count": null,
      "outputs": [
        {
          "output_type": "execute_result",
          "data": {
            "text/plain": [
              "array([22, 40,  6,  4, 14,  9, 24,  1, 34, 47])"
            ]
          },
          "metadata": {},
          "execution_count": 36
        }
      ]
    },
    {
      "cell_type": "markdown",
      "metadata": {
        "id": "25kDqPbPFWr0"
      },
      "source": [
        "# Reshape"
      ]
    },
    {
      "cell_type": "code",
      "metadata": {
        "colab": {
          "base_uri": "https://localhost:8080/"
        },
        "id": "pQscSBm5FYPk",
        "outputId": "16635c39-b9e1-4d4b-eb20-71328a88a3f9"
      },
      "source": [
        "arr.reshape(5,5)"
      ],
      "execution_count": null,
      "outputs": [
        {
          "output_type": "execute_result",
          "data": {
            "text/plain": [
              "array([[ 0,  1,  2,  3,  4],\n",
              "       [ 5,  6,  7,  8,  9],\n",
              "       [10, 11, 12, 13, 14],\n",
              "       [15, 16, 17, 18, 19],\n",
              "       [20, 21, 22, 23, 24]])"
            ]
          },
          "metadata": {},
          "execution_count": 37
        }
      ]
    },
    {
      "cell_type": "markdown",
      "metadata": {
        "id": "NaGvw3dEFoVq"
      },
      "source": [
        "# max,min,argmax,argmin"
      ]
    },
    {
      "cell_type": "code",
      "metadata": {
        "colab": {
          "base_uri": "https://localhost:8080/"
        },
        "id": "1CmFkujFFpO7",
        "outputId": "236f096d-1ad3-4a6c-fcc7-3ed05c98fb8d"
      },
      "source": [
        "ranarr"
      ],
      "execution_count": null,
      "outputs": [
        {
          "output_type": "execute_result",
          "data": {
            "text/plain": [
              "array([22, 40,  6,  4, 14,  9, 24,  1, 34, 47])"
            ]
          },
          "metadata": {},
          "execution_count": 38
        }
      ]
    },
    {
      "cell_type": "code",
      "metadata": {
        "colab": {
          "base_uri": "https://localhost:8080/"
        },
        "id": "zJKXWDadFr0F",
        "outputId": "f4ae3316-10fb-4e06-e209-4c5e2815cf9b"
      },
      "source": [
        "ranarr.max()"
      ],
      "execution_count": null,
      "outputs": [
        {
          "output_type": "execute_result",
          "data": {
            "text/plain": [
              "47"
            ]
          },
          "metadata": {},
          "execution_count": 39
        }
      ]
    },
    {
      "cell_type": "code",
      "metadata": {
        "colab": {
          "base_uri": "https://localhost:8080/"
        },
        "id": "ppLozniNFtn7",
        "outputId": "27c5d0c2-c3f9-4a31-a7a3-4c467da7839a"
      },
      "source": [
        "ranarr.argmax()"
      ],
      "execution_count": null,
      "outputs": [
        {
          "output_type": "execute_result",
          "data": {
            "text/plain": [
              "9"
            ]
          },
          "metadata": {},
          "execution_count": 40
        }
      ]
    },
    {
      "cell_type": "code",
      "metadata": {
        "colab": {
          "base_uri": "https://localhost:8080/"
        },
        "id": "oCUljRIVFu7e",
        "outputId": "ec539103-2667-4ac6-ad0c-172a94232526"
      },
      "source": [
        "ranarr.min()"
      ],
      "execution_count": null,
      "outputs": [
        {
          "output_type": "execute_result",
          "data": {
            "text/plain": [
              "1"
            ]
          },
          "metadata": {},
          "execution_count": 41
        }
      ]
    },
    {
      "cell_type": "code",
      "metadata": {
        "colab": {
          "base_uri": "https://localhost:8080/"
        },
        "id": "ZgAK-zx3FwNm",
        "outputId": "6a88435e-6724-47df-e6f9-39c0770ac127"
      },
      "source": [
        "ranarr.argmin()"
      ],
      "execution_count": null,
      "outputs": [
        {
          "output_type": "execute_result",
          "data": {
            "text/plain": [
              "7"
            ]
          },
          "metadata": {},
          "execution_count": 42
        }
      ]
    },
    {
      "cell_type": "markdown",
      "metadata": {
        "id": "qyysark9GAOm"
      },
      "source": [
        "# Shape"
      ]
    },
    {
      "cell_type": "code",
      "metadata": {
        "colab": {
          "base_uri": "https://localhost:8080/"
        },
        "id": "UP2i0ndKGBj8",
        "outputId": "0d422744-9670-4f48-a478-c509fe092fee"
      },
      "source": [
        "arr.shape"
      ],
      "execution_count": null,
      "outputs": [
        {
          "output_type": "execute_result",
          "data": {
            "text/plain": [
              "(25,)"
            ]
          },
          "metadata": {},
          "execution_count": 43
        }
      ]
    },
    {
      "cell_type": "code",
      "metadata": {
        "colab": {
          "base_uri": "https://localhost:8080/"
        },
        "id": "g8ZhKTscGEzs",
        "outputId": "85bd16d9-ee93-42e0-c4ce-41e0fa57b059"
      },
      "source": [
        "arr.reshape(1,25)"
      ],
      "execution_count": null,
      "outputs": [
        {
          "output_type": "execute_result",
          "data": {
            "text/plain": [
              "array([[ 0,  1,  2,  3,  4,  5,  6,  7,  8,  9, 10, 11, 12, 13, 14, 15,\n",
              "        16, 17, 18, 19, 20, 21, 22, 23, 24]])"
            ]
          },
          "metadata": {},
          "execution_count": 44
        }
      ]
    },
    {
      "cell_type": "code",
      "metadata": {
        "colab": {
          "base_uri": "https://localhost:8080/"
        },
        "id": "Xzw3AkcCGK7m",
        "outputId": "ad5d40ce-cd6c-4ecb-e9bb-9f0b926d0afa"
      },
      "source": [
        "arr.reshape(1,25).shape"
      ],
      "execution_count": null,
      "outputs": [
        {
          "output_type": "execute_result",
          "data": {
            "text/plain": [
              "(1, 25)"
            ]
          },
          "metadata": {},
          "execution_count": 45
        }
      ]
    },
    {
      "cell_type": "code",
      "metadata": {
        "colab": {
          "base_uri": "https://localhost:8080/"
        },
        "id": "tPKqXSMFGNO8",
        "outputId": "2aeb6914-2954-49f4-d2e9-b3449fc70719"
      },
      "source": [
        "arr.reshape(25,1)"
      ],
      "execution_count": null,
      "outputs": [
        {
          "output_type": "execute_result",
          "data": {
            "text/plain": [
              "array([[ 0],\n",
              "       [ 1],\n",
              "       [ 2],\n",
              "       [ 3],\n",
              "       [ 4],\n",
              "       [ 5],\n",
              "       [ 6],\n",
              "       [ 7],\n",
              "       [ 8],\n",
              "       [ 9],\n",
              "       [10],\n",
              "       [11],\n",
              "       [12],\n",
              "       [13],\n",
              "       [14],\n",
              "       [15],\n",
              "       [16],\n",
              "       [17],\n",
              "       [18],\n",
              "       [19],\n",
              "       [20],\n",
              "       [21],\n",
              "       [22],\n",
              "       [23],\n",
              "       [24]])"
            ]
          },
          "metadata": {},
          "execution_count": 46
        }
      ]
    },
    {
      "cell_type": "code",
      "metadata": {
        "colab": {
          "base_uri": "https://localhost:8080/"
        },
        "id": "Xqtq7qZtGPmw",
        "outputId": "31486ed0-5934-4b3f-ef39-d18bee99ab0f"
      },
      "source": [
        "arr.reshape(25,1).shape"
      ],
      "execution_count": null,
      "outputs": [
        {
          "output_type": "execute_result",
          "data": {
            "text/plain": [
              "(25, 1)"
            ]
          },
          "metadata": {},
          "execution_count": 47
        }
      ]
    },
    {
      "cell_type": "markdown",
      "metadata": {
        "id": "Fl-5swdEGYah"
      },
      "source": [
        "# dtype"
      ]
    },
    {
      "cell_type": "code",
      "metadata": {
        "id": "rh6mja6JGU9I",
        "colab": {
          "base_uri": "https://localhost:8080/"
        },
        "outputId": "116ac36d-f44f-4c64-a646-6351380e9af3"
      },
      "source": [
        "arr.dtype"
      ],
      "execution_count": null,
      "outputs": [
        {
          "output_type": "execute_result",
          "data": {
            "text/plain": [
              "dtype('int64')"
            ]
          },
          "metadata": {},
          "execution_count": 49
        }
      ]
    }
  ]
}